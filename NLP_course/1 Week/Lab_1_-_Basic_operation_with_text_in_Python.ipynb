{
 "cells": [
  {
   "cell_type": "markdown",
   "metadata": {},
   "source": [
    "<h1><center> Lab 1. Basic operation with text in Python </center></h1>\n",
    "\n",
    "---"
   ]
  },
  {
   "cell_type": "markdown",
   "metadata": {},
   "source": [
    "## 1.1 Manipulating text strings"
   ]
  },
  {
   "cell_type": "markdown",
   "metadata": {},
   "source": [
    "Working with text strings and rows is easy in Python. Let's begin our traning with the first string. Text has to be taken into quotes. You can use single quotes as well as double. If you print this string it should look like simple text without any quotes."
   ]
  },
  {
   "cell_type": "code",
   "execution_count": 1,
   "metadata": {
    "scrolled": true
   },
   "outputs": [
    {
     "name": "stdout",
     "output_type": "stream",
     "text": [
      "My first exercise!\n"
     ]
    }
   ],
   "source": [
    "text_string='My first exercise!'\n",
    "print (text_string)"
   ]
  },
  {
   "cell_type": "markdown",
   "metadata": {},
   "source": [
    "This string consists of a number of characters. We can access the individual characters with the help of indexing. You can look now at every symbol of your string separately just by entering its number in the square brackets. Remember that indexing in Python starts with 0. So in the next example we will look at the second symbol in the sentence."
   ]
  },
  {
   "cell_type": "code",
   "execution_count": 2,
   "metadata": {
    "scrolled": true
   },
   "outputs": [
    {
     "data": {
      "text/plain": [
       "'y'"
      ]
     },
     "execution_count": 2,
     "metadata": {},
     "output_type": "execute_result"
    }
   ],
   "source": [
    "text_string[1]"
   ]
  },
  {
   "cell_type": "markdown",
   "metadata": {},
   "source": [
    "Now try to find the last but one character in the string."
   ]
  },
  {
   "cell_type": "code",
   "execution_count": 3,
   "metadata": {
    "scrolled": true
   },
   "outputs": [
    {
     "data": {
      "text/plain": [
       "'e'"
      ]
     },
     "execution_count": 3,
     "metadata": {},
     "output_type": "execute_result"
    }
   ],
   "source": [
    "text_string[16]"
   ]
  },
  {
   "cell_type": "markdown",
   "metadata": {},
   "source": [
    "We can also count the number of symbols in text_string using function len()"
   ]
  },
  {
   "cell_type": "code",
   "execution_count": 4,
   "metadata": {
    "scrolled": true
   },
   "outputs": [
    {
     "data": {
      "text/plain": [
       "18"
      ]
     },
     "execution_count": 4,
     "metadata": {},
     "output_type": "execute_result"
    }
   ],
   "source": [
    "len(text_string)"
   ]
  },
  {
   "cell_type": "markdown",
   "metadata": {},
   "source": [
    "Find the last character of our sentence using previous function len() instead of simple number of the symbol."
   ]
  },
  {
   "cell_type": "code",
   "execution_count": 5,
   "metadata": {
    "scrolled": true
   },
   "outputs": [
    {
     "data": {
      "text/plain": [
       "'!'"
      ]
     },
     "execution_count": 5,
     "metadata": {},
     "output_type": "execute_result"
    }
   ],
   "source": [
    "text_string[len(text_string)-1]"
   ]
  },
  {
   "cell_type": "markdown",
   "metadata": {},
   "source": [
    "You can also look through the symbols in the string from its end. In this situation indexes are negative. So code for finding the last character of the string can also look like this:"
   ]
  },
  {
   "cell_type": "code",
   "execution_count": 6,
   "metadata": {
    "scrolled": true
   },
   "outputs": [
    {
     "data": {
      "text/plain": [
       "'!'"
      ]
     },
     "execution_count": 6,
     "metadata": {},
     "output_type": "execute_result"
    }
   ],
   "source": [
    "text_string[-1]"
   ]
  },
  {
   "cell_type": "markdown",
   "metadata": {},
   "source": [
    "You can also use so-called slices or slice-indexes to see several symbols or words from the string. The end of the slice gives us symbols before the last index(in our example including from 0 to 7-th). If we want to find out the first two words in sentence we need to do next:"
   ]
  },
  {
   "cell_type": "code",
   "execution_count": 7,
   "metadata": {
    "scrolled": true
   },
   "outputs": [
    {
     "data": {
      "text/plain": [
       "'My first'"
      ]
     },
     "execution_count": 7,
     "metadata": {},
     "output_type": "execute_result"
    }
   ],
   "source": [
    "text_string[:8]"
   ]
  },
  {
   "cell_type": "markdown",
   "metadata": {},
   "source": [
    "As you can see above, the `0` index is optional and `[0:8]` and `[:8]` are the same. This situation meets also with the last index. So if you want to see the end of the streeng starting from some element - you just need to specify the starting number and do not fill the end of slicing."
   ]
  },
  {
   "cell_type": "code",
   "execution_count": 8,
   "metadata": {
    "scrolled": true
   },
   "outputs": [
    {
     "data": {
      "text/plain": [
       "'exercise!'"
      ]
     },
     "execution_count": 8,
     "metadata": {},
     "output_type": "execute_result"
    }
   ],
   "source": [
    "text_string[9:]"
   ]
  },
  {
   "cell_type": "markdown",
   "metadata": {},
   "source": [
    "In the same way return the word \"first\""
   ]
  },
  {
   "cell_type": "code",
   "execution_count": 9,
   "metadata": {
    "scrolled": true
   },
   "outputs": [
    {
     "data": {
      "text/plain": [
       "'first'"
      ]
     },
     "execution_count": 9,
     "metadata": {},
     "output_type": "execute_result"
    }
   ],
   "source": [
    "text_string[3:8]"
   ]
  },
  {
   "cell_type": "markdown",
   "metadata": {},
   "source": [
    "You are mostly an expert in indexing! So now let's look how we can combyne strings. Not only numbers, but also strings can be added, or, more precisely, concatenated, together as well. Let's difine new variable with your name and make a new sentence with it and our `first_string`:"
   ]
  },
  {
   "cell_type": "code",
   "execution_count": 10,
   "metadata": {
    "scrolled": true
   },
   "outputs": [
    {
     "name": "stdout",
     "output_type": "stream",
     "text": [
      "My name isMariia This isMy first exercise!\n"
     ]
    }
   ],
   "source": [
    "name='Mariia'\n",
    "print ('My name is' + name + ' This is' + text_string)"
   ]
  },
  {
   "cell_type": "markdown",
   "metadata": {},
   "source": [
    "As you can see, we have new text. But notice, that punctuational symbols and spaces between elements, which were concated, do not add automatically. So now retype this code, adding spaces (where it is appropriate) and adding a dot after the first introducing yourself. Also you can see, that our `text_string` starts with the capital letter. But in the new string it is a middle of the sentence, so we need to change the big letter to small one."
   ]
  },
  {
   "cell_type": "code",
   "execution_count": 11,
   "metadata": {
    "scrolled": true
   },
   "outputs": [
    {
     "name": "stdout",
     "output_type": "stream",
     "text": [
      "My name is Mariia. This is my first exercise!\n"
     ]
    }
   ],
   "source": [
    "sentence='My name is ' + name + '. ' + 'This is m' + text_string[1:]\n",
    "print (sentence)"
   ]
  },
  {
   "cell_type": "markdown",
   "metadata": {},
   "source": [
    "Words are made up of characters, and so are string objects in Python. As we will see, it is always to be prefered to represent our data as naturally as possible. Now for the sentence above, it seems more natural to describe it in terms of words than in terms of characters. Say we want to access the first word in our sentence. If we type in:"
   ]
  },
  {
   "cell_type": "code",
   "execution_count": 12,
   "metadata": {
    "scrolled": true
   },
   "outputs": [
    {
     "name": "stdout",
     "output_type": "stream",
     "text": [
      "['My', 'name', 'is', 'Mariia.', 'This', 'is', 'my', 'first', 'exercise!']\n"
     ]
    }
   ],
   "source": [
    "words = sentence.split()\n",
    "print(words)"
   ]
  },
  {
   "cell_type": "markdown",
   "metadata": {},
   "source": [
    "Now if you want to see the first word you just need to index the first element of this list. And if you want to see the first sentence - you need to concat first four elements of this list."
   ]
  },
  {
   "cell_type": "code",
   "execution_count": 13,
   "metadata": {
    "scrolled": true
   },
   "outputs": [
    {
     "name": "stdout",
     "output_type": "stream",
     "text": [
      "My\n",
      "My name is Mariia.\n"
     ]
    }
   ],
   "source": [
    "print(words[0])\n",
    "first_sentence = words[0] + ' ' + words[1] + ' ' + words[2] + ' ' + words[3]\n",
    "print (first_sentence)"
   ]
  },
  {
   "cell_type": "markdown",
   "metadata": {},
   "source": [
    "Highlight the name in big letters. For the purpose of this line have the `upper()` method"
   ]
  },
  {
   "cell_type": "code",
   "execution_count": 14,
   "metadata": {
    "scrolled": true
   },
   "outputs": [
    {
     "name": "stdout",
     "output_type": "stream",
     "text": [
      "My name is MARIIA.\n"
     ]
    }
   ],
   "source": [
    "first_sentence=words[0] + ' ' + words[1] + ' ' + words[2] + ' ' + words[3].upper()\n",
    "print (first_sentence)"
   ]
  },
  {
   "cell_type": "markdown",
   "metadata": {},
   "source": [
    "Opposite it method `lower()`, it translates all characters in lowercase. \n",
    "\n",
    "Often we have a large amount of text, and we need to correct it. For this we need to find a specific site. For this python has a number of string methods:\n",
    "- `find(str[, beg=0, end=len(string)])`. It determines if string `str` occurs in string, or in a substring of string if starting index `beg` and ending index `end` are given.\n",
    "    * `str` - This specifies the string to be searched.\n",
    "    * `beg` - This is the starting index, by default it is `0`.\n",
    "    * `end` - This is the ending index, by default its equal to the lenght of the string.\n",
    "- `startswith(suffix[, start[, end]]) / endswith(suffix[, start[, end]])`. It returns True if the string starts/ends with the specified suffix, otherwise return `False` optionally restricting the matching with the given indices `start` and `end`.\n",
    "    * `suffix` - This could be a string or could also be a tuple of suffixes to look for.\n",
    "    * `start` - The slice begins from here\n",
    "    * `end` -  The slice ends here.\n",
    "- `replace(old, new[, max])` - returns a copy of the string in which the occurrences of `old` have been replaced with `new`, optionally restricting the number of replacements to `max`.\n",
    "    * `old` -- This is old substring to be replaced.\n",
    "    * `new` -- This is new substring, which would replace old substring.\n",
    "    * `max` -- If this optional argument max is given, only the first count occurrences are replaced.\n",
    "\n",
    "Consider a simple examples.\n",
    "\n",
    "We will know  consummated or not consummated proposal, this will check if our line ends with a point."
   ]
  },
  {
   "cell_type": "code",
   "execution_count": 15,
   "metadata": {
    "scrolled": true
   },
   "outputs": [
    {
     "data": {
      "text/plain": [
       "True"
      ]
     },
     "execution_count": 15,
     "metadata": {},
     "output_type": "execute_result"
    }
   ],
   "source": [
    "first_sentence.endswith('.')"
   ]
  },
  {
   "cell_type": "markdown",
   "metadata": {},
   "source": [
    "Now replace the name on Dmitry"
   ]
  },
  {
   "cell_type": "code",
   "execution_count": 16,
   "metadata": {
    "scrolled": true
   },
   "outputs": [
    {
     "data": {
      "text/plain": [
       "'My name is Dmitry.'"
      ]
     },
     "execution_count": 16,
     "metadata": {},
     "output_type": "execute_result"
    }
   ],
   "source": [
    "first_sentence.replace('MARIIA','Dmitry')"
   ]
  },
  {
   "cell_type": "markdown",
   "metadata": {},
   "source": [
    "For word processing with the previous functions are very useful following:\n",
    "- `S.isdigit()`- if the string consists of digits;\n",
    "- `S.isalpha()`- if the string is composed of the letters;\n",
    "- `S.isalnum()`- if the string consists of numbers or letters;\n",
    "- `S.upper()`- convert string to uppercase;\n",
    "- `S.lower()`- convert string to lower case;\n",
    "- `S.startswith(str)`- if `S` line starts with str template;\n",
    "- `S.endswith(str)`- if the string ends with `S` pattern str;\n",
    "- `S.join(list)`- assembly line in the list with a separator `S`.\n",
    "\n",
    "Examples:"
   ]
  },
  {
   "cell_type": "markdown",
   "metadata": {},
   "source": [
    "Check user input for login: does it consist of only leters or it contains also digits?; the first char should be only a letter."
   ]
  },
  {
   "cell_type": "code",
   "execution_count": 19,
   "metadata": {
    "scrolled": true
   },
   "outputs": [
    {
     "name": "stdout",
     "output_type": "stream",
     "text": [
      "Login \"12test\" correct? False\n"
     ]
    }
   ],
   "source": [
    "login = '12test'\n",
    "\n",
    "print ('Login \"' + login + '\" correct?', login.isalnum() and login[0].isalpha())"
   ]
  },
  {
   "cell_type": "markdown",
   "metadata": {},
   "source": [
    "Correcting name:"
   ]
  },
  {
   "cell_type": "code",
   "execution_count": 21,
   "metadata": {
    "scrolled": true
   },
   "outputs": [
    {
     "name": "stdout",
     "output_type": "stream",
     "text": [
      "Oleg\n",
      "Oleg\n"
     ]
    }
   ],
   "source": [
    "name = 'oleg'\n",
    "correct_name = name[0].upper() + name[1:]\n",
    "print (correct_name)\n",
    "#But the developers have taken care of so we wrote less\n",
    "print (name.capitalize())"
   ]
  },
  {
   "cell_type": "markdown",
   "metadata": {},
   "source": [
    "Python provides also multi-line strings. To define such string you may use `\"\"\"` or `'''` (triple quotes):"
   ]
  },
  {
   "cell_type": "code",
   "execution_count": 23,
   "metadata": {
    "scrolled": true
   },
   "outputs": [
    {
     "name": "stdout",
     "output_type": "stream",
     "text": [
      "This is the first line.\n",
      "This is the second line.\n",
      "This is the third line.\n"
     ]
    }
   ],
   "source": [
    "s = \"\"\"This is the first line.\n",
    "This is the second line.\n",
    "This is the third line.\"\"\"\n",
    "print (s)"
   ]
  },
  {
   "cell_type": "code",
   "execution_count": 24,
   "metadata": {
    "scrolled": true
   },
   "outputs": [
    {
     "name": "stdout",
     "output_type": "stream",
     "text": [
      "This is the first line.\n",
      "This is the second line.\n",
      "This is the third line.\n"
     ]
    }
   ],
   "source": [
    "print ('''This is the first line.\n",
    "This is the second line.\n",
    "This is the third line.''')"
   ]
  },
  {
   "cell_type": "markdown",
   "metadata": {},
   "source": [
    "Multi-line string saves all spaces, newlines and tabulations"
   ]
  },
  {
   "cell_type": "code",
   "execution_count": 25,
   "metadata": {
    "scrolled": true
   },
   "outputs": [
    {
     "name": "stdout",
     "output_type": "stream",
     "text": [
      "This is the first line.\n",
      "\n",
      "This is the second line with a newline.\n",
      "        This is the third line with two tabs.\n"
     ]
    }
   ],
   "source": [
    "s = \"\"\"This is the first line.\n",
    "\n",
    "This is the second line with a newline.\n",
    "        This is the third line with two tabs.\"\"\"\n",
    "print (s)"
   ]
  },
  {
   "cell_type": "markdown",
   "metadata": {},
   "source": [
    "The last output we can also obtain using Python's newline `\"\\n\"` and tabuation `\"\\t\"` symbols in one-line strings."
   ]
  },
  {
   "cell_type": "code",
   "execution_count": 26,
   "metadata": {
    "scrolled": true
   },
   "outputs": [
    {
     "name": "stdout",
     "output_type": "stream",
     "text": [
      "This is the first line.\n",
      "\n",
      "This is the second line with a newline.\n",
      "\tThis is the third line with two tabs.\n"
     ]
    }
   ],
   "source": [
    "s = \"This is the first line.\\n\\nThis is the second line with a newline.\\n\\tThis is the third line with two tabs.\"\n",
    "print (s)"
   ]
  },
  {
   "cell_type": "markdown",
   "metadata": {},
   "source": [
    "If you thought little of this information, be sure to look at the official documentation <a href=\"https://docs.python.org/2/library/strings.html\">String Services</a>"
   ]
  },
  {
   "cell_type": "markdown",
   "metadata": {},
   "source": [
    "> ### Exercise  1\n",
    "Sentence: <pre>The string module contains a number of useful constants and classes, as well as some deprecated legacy functions that are also available as methods on strings.</pre>\n",
    "Save the last five characters of 16th word of the sentence in the `result1` variable.\n"
   ]
  },
  {
   "cell_type": "code",
   "execution_count": 27,
   "metadata": {
    "scrolled": true
   },
   "outputs": [
    {
     "name": "stdout",
     "output_type": "stream",
     "text": [
      "cated\n"
     ]
    }
   ],
   "source": [
    "# type your code here\n",
    "sentence = \"The string module contains a number of useful constants and classes, as well as some deprecated legacy functions that are also available as methods on strings.\"\n",
    "result1 = sentence.split()[15][-5:]\n",
    "print(result1)"
   ]
  },
  {
   "cell_type": "code",
   "execution_count": null,
   "metadata": {
    "scrolled": true
   },
   "outputs": [],
   "source": [
    "Test.assertEqualsHashed(result1, 'a55078732f696dde5c90035567423a69fc5fb256', 'Incorrect data', 'Exercise 1 is successful')"
   ]
  },
  {
   "cell_type": "markdown",
   "metadata": {
    "collapsed": true
   },
   "source": [
    "## 1.2 Reading multiple lines from the user"
   ]
  },
  {
   "cell_type": "markdown",
   "metadata": {
    "collapsed": true
   },
   "source": [
    "String or text can be not only set to some variable, but also can be added by user. <br>\n",
    "\n",
    "The askstring function in the tkSimpleDialog module prompts the user for a string. You specify the dialogue title and the prompt string, and the function returns when the user closes the dialog. The prompt string may include newline characters. <br>\n",
    "\n",
    "This module handles dialog boxes. It contains the following\n",
    "public symbols:\n",
    " \n",
    "- `Dialog` - a base class for dialogs\n",
    " \n",
    "- `askinteger` - get an integer from the user\n",
    " \n",
    "- `askfloat` - get a float from the user\n",
    " \n",
    "- `askstring` - get a string from the user\n",
    "\n",
    "<a href=\"http://pydoc.org/2.2.3/tkSimpleDialog.html\">More</a>\n",
    "\n",
    "For console python scripts you can use built-in function `raw_input`.\n"
   ]
  },
  {
   "cell_type": "code",
   "execution_count": 41,
   "metadata": {
    "scrolled": true
   },
   "outputs": [
    {
     "name": "stdout",
     "output_type": "stream",
     "text": [
      "dsfgsdf\n"
     ]
    }
   ],
   "source": [
    "# import Tkinter\n",
    "# from tkinter import *\n",
    "import tkinter as Tkinter\n",
    "import tkinter.simpledialog as tkSimpleDialog\n",
    "root = Tkinter.Tk()\n",
    "text_input = tkSimpleDialog.askstring('Read text', \"Please enter text\")\n",
    "\n",
    "print (text_input)"
   ]
  },
  {
   "cell_type": "markdown",
   "metadata": {},
   "source": [
    "Now variable text_input is a string and you can do with it all the operations like in previous exercise: indexing, slicing and concatenation."
   ]
  },
  {
   "cell_type": "markdown",
   "metadata": {},
   "source": [
    "But what if you want to read not one but multiple lines from the user? In this situation we should use loop. First of all let's look at simple loop and understand how does it work. "
   ]
  },
  {
   "cell_type": "code",
   "execution_count": 38,
   "metadata": {
    "scrolled": true
   },
   "outputs": [
    {
     "name": "stdout",
     "output_type": "stream",
     "text": [
      "9\n",
      "8\n",
      "7\n",
      "6\n",
      "5\n"
     ]
    }
   ],
   "source": [
    "i=10\n",
    "while i>5:\n",
    "    i=i-1\n",
    "    print (i)"
   ]
  },
  {
   "cell_type": "markdown",
   "metadata": {},
   "source": [
    "A while loop is basically a repetitive version of an if statement. In fact, it uses almost exactly the same syntax:\n",
    "it starts with the while keyword, followed by a conditional expression and a colon. On the next line, the\n",
    "block is indented to indicate which statement(s) the while controls. So while the conditional expression i > 5 is True, the body of the loop is run."
   ]
  },
  {
   "cell_type": "markdown",
   "metadata": {},
   "source": [
    "However, they also work well when you don’t know how many iterations you’ll need in advance. For example,\n",
    "when you’re reading multiple lines of input from the user:"
   ]
  },
  {
   "cell_type": "code",
   "execution_count": 44,
   "metadata": {
    "scrolled": true
   },
   "outputs": [
    {
     "name": "stdout",
     "output_type": "stream",
     "text": [
      "\n",
      "\n",
      "\n",
      "dfgdf\n",
      "None\n",
      "None\n",
      "None\n",
      "None\n",
      "None\n",
      "End\n"
     ]
    }
   ],
   "source": [
    "Enter_command = None\n",
    "while Enter_command!=\"End\":\n",
    "    Enter_command=tkSimpleDialog.askstring('Movie', \"Enter name of your favorite movie:\")\n",
    "    print (Enter_command)"
   ]
  },
  {
   "cell_type": "markdown",
   "metadata": {},
   "source": [
    "## 1.3 Conditions and cycles"
   ]
  },
  {
   "cell_type": "markdown",
   "metadata": {},
   "source": [
    "The progress of the program may be linear, i.e., without skipping a line of code. But more often it is not the case. When performing some of its program code portions may be omitted.<br>\n",
    "We often choosing what to do depending on user input or calculated values that advance we can not know.<br>\n",
    "\n",
    "To implement this in python, as well as in other programming languages, there are conditional statements.\n",
    "\n",
    "The basic syntax is:<br>\n",
    "<pre>if condition1: \n",
    "    the action(s) \n",
    "[elif condition2: \n",
    "    the action(s)\n",
    "else: action (s)]</pre>\n",
    "\n",
    "Let us consider in more detail in the examples.\n",
    "\n",
    "Above we wrote the code to enter your favorite movies, rewrite so  stop command is not output with the movies."
   ]
  },
  {
   "cell_type": "code",
   "execution_count": 46,
   "metadata": {
    "scrolled": true
   },
   "outputs": [],
   "source": [
    "Enter_command = None\n",
    "\n",
    "while True:\n",
    "    Enter_command=tkSimpleDialog.askstring('Movie', \"Enter name of your favorite movie:\")\n",
    "    if Enter_command=='End':\n",
    "        break\n",
    "    print (Enter_command)"
   ]
  },
  {
   "cell_type": "markdown",
   "metadata": {},
   "source": [
    "Sometimes, depending on the conditions we need to choose a value. To save time to write the code and for convenience, created the ternary operator `.` in python, he has the following syntax:<br>\n",
    "<pre>expression 1 if condition else expression 2</pre><br>\n",
    "Verify the string or number entered."
   ]
  },
  {
   "cell_type": "code",
   "execution_count": 48,
   "metadata": {
    "scrolled": true
   },
   "outputs": [
    {
     "name": "stdout",
     "output_type": "stream",
     "text": [
      "isdigit\n"
     ]
    }
   ],
   "source": [
    "a = tkSimpleDialog.askstring('Read text', \"Please enter text\")\n",
    "print ('isdigit' if a.isdigit() else 'string')"
   ]
  },
  {
   "cell_type": "markdown",
   "metadata": {},
   "source": [
    "We used string method `isdigit()`. It checks whether consist a string of  digits."
   ]
  },
  {
   "cell_type": "markdown",
   "metadata": {},
   "source": [
    "#### Cycle while \n",
    "\n",
    "While - one of the most universal cycles in Python, but it is quite slow. It performs cycle's the loop body as long as the condition is true cycle. We have already worked with it when entering favorite movies."
   ]
  },
  {
   "cell_type": "markdown",
   "metadata": {},
   "source": [
    "#### Cycle for\n",
    "The for loop is already a little harder, a little less versatile, but is much faster. This cycle is passed on any iterable (such as a string or list), and during each pass executes the cycle's body."
   ]
  },
  {
   "cell_type": "markdown",
   "metadata": {},
   "source": [
    "Loops have are control statements: continue and break. The continue statement in Python returns the control to the beginning of the while loop. The continue statement rejects all the remaining statements in the current iteration of the loop and moves the control back to the top of the loop.\n",
    "The break statement in Python terminates the current loop and resumes execution at the next statement.\n",
    "<br>\n",
    "\n",
    "Print the string from the odd leters."
   ]
  },
  {
   "cell_type": "code",
   "execution_count": 50,
   "metadata": {
    "scrolled": true
   },
   "outputs": [
    {
     "name": "stdout",
     "output_type": "stream",
     "text": [
      "ssfs\n"
     ]
    }
   ],
   "source": [
    "n = tkSimpleDialog.askstring('Read text', \"Please enter text\")\n",
    "summ = ''\n",
    "\n",
    "for i in range(len(n)):\n",
    "    if i%2 == 0: continue\n",
    "    summ+=n[i]\n",
    "    \n",
    "print (summ)"
   ]
  },
  {
   "cell_type": "markdown",
   "metadata": {},
   "source": [
    "Here function `len()` returns the amount of elements in some sequence (a string, a list, etc.) and `range(n)` function generates a sequence of `n` elements:  "
   ]
  },
  {
   "cell_type": "code",
   "execution_count": 51,
   "metadata": {
    "scrolled": true
   },
   "outputs": [
    {
     "data": {
      "text/plain": [
       "range(0, 5)"
      ]
     },
     "execution_count": 51,
     "metadata": {},
     "output_type": "execute_result"
    }
   ],
   "source": [
    "range(5)"
   ]
  },
  {
   "cell_type": "markdown",
   "metadata": {},
   "source": [
    "Calculate the number of characters in a sentence for each group separately: numbers, letters, and other marks."
   ]
  },
  {
   "cell_type": "code",
   "execution_count": 54,
   "metadata": {
    "scrolled": true
   },
   "outputs": [
    {
     "name": "stdout",
     "output_type": "stream",
     "text": [
      "index = 0 letter = s\n",
      "index = 1 letter = d\n",
      "index = 2 letter = f\n",
      "index = 3 letter = s\n",
      "index = 4 letter = d\n",
      "index = 5 letter = f\n",
      "Leters:  6 , numbers:  0 , other:  0\n"
     ]
    }
   ],
   "source": [
    "text_input = tkSimpleDialog.askstring('Read text', \"Please enter text\")\n",
    "l = 0\n",
    "n = 0\n",
    "o = 0\n",
    "\n",
    "for i in range(len(text_input)):\n",
    "    print (\"index =\", i, \"letter =\", text_input[i])\n",
    "    if text_input[i].isdigit(): n +=1    #if digit increment n\n",
    "    elif text_input[i].isalpha(): l += 1 #if letter increment n\n",
    "    else: o += 1                         #else increment o\n",
    "        \n",
    "print ('Leters: ', l, ', numbers: ', n, ', other: ', o)"
   ]
  },
  {
   "cell_type": "markdown",
   "metadata": {},
   "source": [
    "Strings is iterable, so we can make the code more beautiful and clear."
   ]
  },
  {
   "cell_type": "code",
   "execution_count": null,
   "metadata": {
    "scrolled": true
   },
   "outputs": [],
   "source": [
    "text_input = tkSimpleDialog.askstring('Read text', \"Please enter text\")\n",
    "l = 0\n",
    "n = 0\n",
    "o = 0\n",
    "\n",
    "for i in text_input:\n",
    "    print \"letter =\", i\n",
    "    if i.isdigit(): n +=1\n",
    "    elif i.isalpha(): l += 1\n",
    "    else: o += 1\n",
    "        \n",
    "print 'Leters: ', l, ', numbers: ', n,' , other: ', o"
   ]
  },
  {
   "cell_type": "markdown",
   "metadata": {},
   "source": [
    "More interesting information can be found in the the\n",
    "<a href=\"http://www.tutorialspoint.com/python/python_loops.htm\">Python Loops</a>"
   ]
  },
  {
   "cell_type": "markdown",
   "metadata": {},
   "source": [
    "> ### Exercise  2\n",
    "Save all nubers from the following string into a list `result2`.\n",
    "<pre>\n",
    "10007;10009,10037/10039t10061s10067sd10069f10079$;10091%%;10093e&e10099;10103;10111;10133\n",
    "</pre>\n",
    "Example:\n",
    "<pre> ['10007',\n",
    "  '10009',\n",
    "  .......]</pre>"
   ]
  },
  {
   "cell_type": "code",
   "execution_count": 64,
   "metadata": {
    "scrolled": true
   },
   "outputs": [
    {
     "name": "stdout",
     "output_type": "stream",
     "text": [
      "['10007', '10009', '10037', '10039', '10061', '10067', '10069', '10079', '10091', '10093', '10099', '10103', '10111']\n"
     ]
    }
   ],
   "source": [
    "# type your code here\n",
    "\n",
    "str1 = \"10007;10009,10037/10039t10061s10067sd10069f10079$;10091%%;10093e&e10099;10103;10111;10133\"\n",
    "list1 = [i for i in str1]\n",
    "list2 = []\n",
    "list3 = []\n",
    "for i in list1:\n",
    "    if i.isdigit(): \n",
    "        list3.append(i)\n",
    "   \n",
    "    else: \n",
    "        list2.append(\"\".join(list3)) \n",
    "        list3 = []\n",
    "list2 = [i for i in list2 if i!=\"\"]\n",
    "result2 = list2\n",
    "print(result2)"
   ]
  },
  {
   "cell_type": "code",
   "execution_count": null,
   "metadata": {
    "scrolled": true
   },
   "outputs": [],
   "source": [
    "Test.assertEqualsHashed(result2, 'b8d59b823490289e075061a53e30e73765c95ea9', 'Incorrect data', \"Exercise 2 is successful\")"
   ]
  },
  {
   "cell_type": "markdown",
   "metadata": {},
   "source": [
    "<div id=\"working_with_file\"></div>\n",
    "## 2 Read and write to a file"
   ]
  },
  {
   "cell_type": "markdown",
   "metadata": {},
   "source": [
    "A <b>text file</b> is any file containing only readable characters. <br>\n",
    "The opposite of text files, \"binary\" files are any files where the format isn't made up of readable characters. Binary files can range from image files like JPEGs or GIFs, audio files like MP3s or binary document formats like Word or PDF. <br>\n",
    "\n",
    "The main difference between a text file and a binary file is that binary files need special programs (or knowledge of the special format) to make sense. Text files can be edited by any program that edits plain text, and are easy to process in programming languages like Python."
   ]
  },
  {
   "cell_type": "markdown",
   "metadata": {},
   "source": [
    "### Reading files \n",
    "To work with text files in python has a special function `open(name[, mode[, buffering]])`, which creates a file object to manipulate the real file."
   ]
  },
  {
   "cell_type": "markdown",
   "metadata": {},
   "source": [
    "The most commonly-used values of mode are `'r'` for reading, `'w'` for writing (truncating the file if it already exists), and `'a'` for appending. If mode is omitted, it defaults to `'r'`. When opening a binary file, you should append `'b'` to the mode value to open the file in binary mode."
   ]
  },
  {
   "cell_type": "markdown",
   "metadata": {},
   "source": [
    "Read a file  "
   ]
  },
  {
   "cell_type": "code",
   "execution_count": 65,
   "metadata": {
    "scrolled": true
   },
   "outputs": [
    {
     "data": {
      "text/plain": [
       "3608"
      ]
     },
     "execution_count": 65,
     "metadata": {},
     "output_type": "execute_result"
    }
   ],
   "source": [
    "f = open('countries.txt')\n",
    "len(f.read())"
   ]
  },
  {
   "cell_type": "markdown",
   "metadata": {},
   "source": [
    "Read by line"
   ]
  },
  {
   "cell_type": "code",
   "execution_count": 66,
   "metadata": {
    "scrolled": true
   },
   "outputs": [
    {
     "name": "stdout",
     "output_type": "stream",
     "text": [
      "AF|Afghanistan\n",
      "\n",
      "AL|Albania\n",
      "\n",
      "DZ|Algeria\n",
      "\n",
      "AS|American Samoa\n",
      "\n",
      "AD|Andorra\n",
      "\n",
      "AO|Angola\n",
      "\n",
      "AI|Anguilla\n",
      "\n",
      "AQ|Antarctica\n",
      "\n",
      "AG|Antigua And Barbuda\n",
      "\n",
      "AR|Argentina\n",
      "\n",
      "AM|Armenia\n",
      "\n",
      "AW|Aruba\n",
      "\n",
      "AU|Australia\n",
      "\n",
      "AT|Austria\n",
      "\n",
      "AZ|Azerbaijan\n",
      "\n",
      "BS|Bahamas\n",
      "\n",
      "BH|Bahrain\n",
      "\n",
      "BD|Bangladesh\n",
      "\n",
      "BB|Barbados\n",
      "\n",
      "BY|Belarus\n",
      "\n",
      "BE|Belgium\n",
      "\n",
      "BZ|Belize\n",
      "\n",
      "BJ|Benin\n",
      "\n",
      "BM|Bermuda\n",
      "\n",
      "BT|Bhutan\n",
      "\n",
      "BO|Bolivia\n",
      "\n",
      "BA|Bosnia And Herzegovina\n",
      "\n",
      "BW|Botswana\n",
      "\n",
      "BV|Bouvet Island\n",
      "\n",
      "BR|Brazil\n",
      "\n",
      "IO|British Indian Ocean Territory\n",
      "\n",
      "BN|Brunei Darussalam\n",
      "\n",
      "BG|Bulgaria\n",
      "\n",
      "BF|Burkina Faso\n",
      "\n",
      "BI|Burundi\n",
      "\n",
      "KH|Cambodia\n",
      "\n",
      "CM|Cameroon\n",
      "\n",
      "CA|Canada\n",
      "\n",
      "CV|Cape Verde\n",
      "\n",
      "KY|Cayman Islands\n",
      "\n",
      "CF|Central African Republic\n",
      "\n",
      "TD|Chad\n",
      "\n",
      "CL|Chile\n",
      "\n",
      "CN|China\n",
      "\n",
      "CX|Christmas Island\n",
      "\n",
      "CC|Cocos (keeling) Islands\n",
      "\n",
      "CO|Colombia\n",
      "\n",
      "KM|Comoros\n",
      "\n",
      "CG|Congo\n",
      "\n",
      "CD|Congo, The Democratic Republic Of The\n",
      "\n",
      "CK|Cook Islands\n",
      "\n",
      "CR|Costa Rica\n",
      "\n",
      "CI|Cote D'ivoire\n",
      "\n",
      "HR|Croatia\n",
      "\n",
      "CU|Cuba\n",
      "\n",
      "CY|Cyprus\n",
      "\n",
      "CZ|Czech Republic\n",
      "\n",
      "DK|Denmark\n",
      "\n",
      "DJ|Djibouti\n",
      "\n",
      "DM|Dominica\n",
      "\n",
      "DO|Dominican Republic\n",
      "\n",
      "TP|East Timor\n",
      "\n",
      "EC|Ecuador\n",
      "\n",
      "EG|Egypt\n",
      "\n",
      "SV|El Salvador\n",
      "\n",
      "GQ|Equatorial Guinea\n",
      "\n",
      "ER|Eritrea\n",
      "\n",
      "EE|Estonia\n",
      "\n",
      "ET|Ethiopia\n",
      "\n",
      "FK|Falkland Islands (malvinas)\n",
      "\n",
      "FO|Faroe Islands\n",
      "\n",
      "FJ|Fiji\n",
      "\n",
      "FI|Finland\n",
      "\n",
      "FR|France\n",
      "\n",
      "GF|French Guiana\n",
      "\n",
      "PF|French Polynesia\n",
      "\n",
      "TF|French Southern Territories\n",
      "\n",
      "GA|Gabon\n",
      "\n",
      "GM|Gambia\n",
      "\n",
      "GE|Georgia\n",
      "\n",
      "DE|Germany\n",
      "\n",
      "GH|Ghana\n",
      "\n",
      "GI|Gibraltar\n",
      "\n",
      "GR|Greece\n",
      "\n",
      "GL|Greenland\n",
      "\n",
      "GD|Grenada\n",
      "\n",
      "GP|Guadeloupe\n",
      "\n",
      "GU|Guam\n",
      "\n",
      "GT|Guatemala\n",
      "\n",
      "GN|Guinea\n",
      "\n",
      "GW|Guinea-bissau\n",
      "\n",
      "GY|Guyana\n",
      "\n",
      "HT|Haiti\n",
      "\n",
      "HM|Heard Island And Mcdonald Islands\n",
      "\n",
      "VA|Holy See (vatican City State)\n",
      "\n",
      "HN|Honduras\n",
      "\n",
      "HK|Hong Kong\n",
      "\n",
      "HU|Hungary\n",
      "\n",
      "IS|Iceland\n",
      "\n",
      "IN|India\n",
      "\n",
      "ID|Indonesia\n",
      "\n",
      "IR|Iran, Islamic Republic Of\n",
      "\n",
      "IQ|Iraq\n",
      "\n",
      "IE|Ireland\n",
      "\n",
      "IL|Israel\n",
      "\n",
      "IT|Italy\n",
      "\n",
      "JM|Jamaica\n",
      "\n",
      "JP|Japan\n",
      "\n",
      "JO|Jordan\n",
      "\n",
      "KZ|Kazakstan\n",
      "\n",
      "KE|Kenya\n",
      "\n",
      "KI|Kiribati\n",
      "\n",
      "KP|Korea, Democratic People's Republic Of\n",
      "\n",
      "KR|Korea, Republic Of\n",
      "\n",
      "KV|Kosovo\n",
      "\n",
      "KW|Kuwait\n",
      "\n",
      "KG|Kyrgyzstan\n",
      "\n",
      "LA|Lao People's Democratic Republic\n",
      "\n",
      "LV|Latvia\n",
      "\n",
      "LB|Lebanon\n",
      "\n",
      "LS|Lesotho\n",
      "\n",
      "LR|Liberia\n",
      "\n",
      "LY|Libyan Arab Jamahiriya\n",
      "\n",
      "LI|Liechtenstein\n",
      "\n",
      "LT|Lithuania\n",
      "\n",
      "LU|Luxembourg\n",
      "\n",
      "MO|Macau\n",
      "\n",
      "MK|Macedonia, The Former Yugoslav Republic Of\n",
      "\n",
      "MG|Madagascar\n",
      "\n",
      "MW|Malawi\n",
      "\n",
      "MY|Malaysia\n",
      "\n",
      "MV|Maldives\n",
      "\n",
      "ML|Mali\n",
      "\n",
      "MT|Malta\n",
      "\n",
      "MH|Marshall Islands\n",
      "\n",
      "MQ|Martinique\n",
      "\n",
      "MR|Mauritania\n",
      "\n",
      "MU|Mauritius\n",
      "\n",
      "YT|Mayotte\n",
      "\n",
      "MX|Mexico\n",
      "\n",
      "FM|Micronesia, Federated States Of\n",
      "\n",
      "MD|Moldova, Republic Of\n",
      "\n",
      "MC|Monaco\n",
      "\n",
      "MN|Mongolia\n",
      "\n",
      "MS|Montserrat\n",
      "\n",
      "ME|Montenegro\n",
      "\n",
      "MA|Morocco\n",
      "\n",
      "MZ|Mozambique\n",
      "\n",
      "MM|Myanmar\n",
      "\n",
      "NA|Namibia\n",
      "\n",
      "NR|Nauru\n",
      "\n",
      "NP|Nepal\n",
      "\n",
      "NL|Netherlands\n",
      "\n",
      "AN|Netherlands Antilles\n",
      "\n",
      "NC|New Caledonia\n",
      "\n",
      "NZ|New Zealand\n",
      "\n",
      "NI|Nicaragua\n",
      "\n",
      "NE|Niger\n",
      "\n",
      "NG|Nigeria\n",
      "\n",
      "NU|Niue\n",
      "\n",
      "NF|Norfolk Island\n",
      "\n",
      "MP|Northern Mariana Islands\n",
      "\n",
      "NO|Norway\n",
      "\n",
      "OM|Oman\n",
      "\n",
      "PK|Pakistan\n",
      "\n",
      "PW|Palau\n",
      "\n",
      "PS|Palestinian Territory, Occupied\n",
      "\n",
      "PA|Panama\n",
      "\n",
      "PG|Papua New Guinea\n",
      "\n",
      "PY|Paraguay\n",
      "\n",
      "PE|Peru\n",
      "\n",
      "PH|Philippines\n",
      "\n",
      "PN|Pitcairn\n",
      "\n",
      "PL|Poland\n",
      "\n",
      "PT|Portugal\n",
      "\n",
      "PR|Puerto Rico\n",
      "\n",
      "QA|Qatar\n",
      "\n",
      "RE|Reunion\n",
      "\n",
      "RO|Romania\n",
      "\n",
      "RU|Russian Federation\n",
      "\n",
      "RW|Rwanda\n",
      "\n",
      "SH|Saint Helena\n",
      "\n",
      "KN|Saint Kitts And Nevis\n",
      "\n",
      "LC|Saint Lucia\n",
      "\n",
      "PM|Saint Pierre And Miquelon\n",
      "\n",
      "VC|Saint Vincent And The Grenadines\n",
      "\n",
      "WS|Samoa\n",
      "\n",
      "SM|San Marino\n",
      "\n",
      "ST|Sao Tome And Principe\n",
      "\n",
      "SA|Saudi Arabia\n",
      "\n",
      "SN|Senegal\n",
      "\n",
      "RS|Serbia\n",
      "\n",
      "SC|Seychelles\n",
      "\n",
      "SL|Sierra Leone\n",
      "\n",
      "SG|Singapore\n",
      "\n",
      "SK|Slovakia\n",
      "\n",
      "SI|Slovenia\n",
      "\n",
      "SB|Solomon Islands\n",
      "\n",
      "SO|Somalia\n",
      "\n",
      "ZA|South Africa\n",
      "\n",
      "GS|South Georgia And The South Sandwich Islands\n",
      "\n",
      "ES|Spain\n",
      "\n",
      "LK|Sri Lanka\n",
      "\n",
      "SD|Sudan\n",
      "\n",
      "SR|Suriname\n",
      "\n",
      "SJ|Svalbard And Jan Mayen\n",
      "\n",
      "SZ|Swaziland\n",
      "\n",
      "SE|Sweden\n",
      "\n",
      "CH|Switzerland\n",
      "\n",
      "SY|Syrian Arab Republic\n",
      "\n",
      "TW|Taiwan, Province Of China\n",
      "\n",
      "TJ|Tajikistan\n",
      "\n",
      "TZ|Tanzania, United Republic Of\n",
      "\n",
      "TH|Thailand\n",
      "\n",
      "TG|Togo\n",
      "\n",
      "TK|Tokelau\n",
      "\n",
      "TO|Tonga\n",
      "\n",
      "TT|Trinidad And Tobago\n",
      "\n",
      "TN|Tunisia\n",
      "\n",
      "TR|Turkey\n",
      "\n",
      "TM|Turkmenistan\n",
      "\n",
      "TC|Turks And Caicos Islands\n",
      "\n",
      "TV|Tuvalu\n",
      "\n",
      "UG|Uganda\n",
      "\n",
      "UA|Ukraine\n",
      "\n",
      "AE|United Arab Emirates\n",
      "\n",
      "GB|United Kingdom\n",
      "\n",
      "US|United States\n",
      "\n",
      "UM|United States Minor Outlying Islands\n",
      "\n",
      "UY|Uruguay\n",
      "\n",
      "UZ|Uzbekistan\n",
      "\n",
      "VU|Vanuatu\n",
      "\n",
      "VE|Venezuela\n",
      "\n",
      "VN|Viet Nam\n",
      "\n",
      "VG|Virgin Islands, British\n",
      "\n",
      "VI|Virgin Islands, U.s.\n",
      "\n",
      "WF|Wallis And Futuna\n",
      "\n",
      "EH|Western Sahara\n",
      "\n",
      "YE|Yemen\n",
      "\n",
      "ZM|Zambia\n",
      "\n",
      "ZW|Zimbabwe\n"
     ]
    }
   ],
   "source": [
    "f = open('countries.txt')\n",
    "line = f.readline()\n",
    "\n",
    "while line != '':\n",
    "    print (line)\n",
    "    line = f.readline()"
   ]
  },
  {
   "cell_type": "markdown",
   "metadata": {},
   "source": [
    "Read by char"
   ]
  },
  {
   "cell_type": "code",
   "execution_count": 67,
   "metadata": {
    "scrolled": true
   },
   "outputs": [
    {
     "name": "stdout",
     "output_type": "stream",
     "text": [
      "A\n",
      "F\n",
      "|\n",
      "A\n",
      "f\n",
      "g\n",
      "h\n",
      "a\n",
      "n\n",
      "i\n",
      "s\n",
      "t\n",
      "a\n",
      "n\n"
     ]
    }
   ],
   "source": [
    "f = open('countries.txt')\n",
    "char = f.read(1)\n",
    "\n",
    "while char != '\\n':\n",
    "    print (char)\n",
    "    char = f.read(1)"
   ]
  },
  {
   "cell_type": "markdown",
   "metadata": {},
   "source": [
    "### Writing files \n",
    "To write data to a file, we can use w modes and a new file for appending. To write a string to the file using write statement.<br>\n",
    "Close the file using  `close()`  when you're done. This is good practice to \"clean up\" after yourself. Changes may not show up in the file until you've closed it."
   ]
  },
  {
   "cell_type": "markdown",
   "metadata": {},
   "source": [
    "Create a new file with the countries beginning with the letter A"
   ]
  },
  {
   "cell_type": "code",
   "execution_count": 68,
   "metadata": {
    "scrolled": true
   },
   "outputs": [
    {
     "name": "stdout",
     "output_type": "stream",
     "text": [
      "AF|Afghanistan\n",
      "AL|Albania\n",
      "AS|American Samoa\n",
      "AD|Andorra\n",
      "AO|Angola\n",
      "AI|Anguilla\n",
      "AQ|Antarctica\n",
      "AG|Antigua And Barbuda\n",
      "AR|Argentina\n",
      "AM|Armenia\n",
      "AW|Aruba\n",
      "AU|Australia\n",
      "AT|Austria\n",
      "AZ|Azerbaijan\n",
      "AN|Netherlands Antilles\n",
      "AE|United Arab Emirates\n",
      "\n"
     ]
    }
   ],
   "source": [
    "#open file countries.txt and read first line\n",
    "f = open('countries.txt')\n",
    "line = f.readline()\n",
    "\n",
    "#open or create if not exist file countries_a.txt for wtiting\n",
    "f_write = open('countries_a.txt','w')\n",
    "\n",
    "#read from file countries.txt while not end of file and write lines from file countries.txt to countries_a.txt, that start with A\n",
    "while line != '':\n",
    "    if(line[0]=='A'):\n",
    "        f_write.write(line)\n",
    "    line = f.readline()\n",
    "    \n",
    "#close file countries_a.txt, if you do not close, the data is not saved\n",
    "f_write.close()\n",
    "\n",
    "#display all data from file countries_a.txt\n",
    "f = open('countries_a.txt') \n",
    "print (f.read())"
   ]
  },
  {
   "cell_type": "markdown",
   "metadata": {},
   "source": [
    "This is just the tip of python features, more can be found here <a href=\"https://docs.python.org/2/tutorial/inputoutput.html\">Input and Output</a>"
   ]
  },
  {
   "cell_type": "markdown",
   "metadata": {},
   "source": [
    "> ### Exercise  3\n",
    "File `primes.txt`  stores random numbers. Print the last number of the file and save it in a variable `result3`."
   ]
  },
  {
   "cell_type": "code",
   "execution_count": 70,
   "metadata": {
    "scrolled": true
   },
   "outputs": [
    {
     "name": "stdout",
     "output_type": "stream",
     "text": [
      "99991\n"
     ]
    }
   ],
   "source": [
    "# type your code here\n",
    "\n",
    "#open or create if not exist file countries_a.txt for wtiting\n",
    "f_write = open('primes.txt','r')\n",
    "\n",
    "#read from file countries.txt while not end of file and write lines from file countries.txt to countries_a.txt, that start with A\n",
    "list1 = []\n",
    "for i in f_write:\n",
    "    if i.isdigit()==True:\n",
    "        list1.append(i)\n",
    "\n",
    "result3 = list1[-1]\n",
    "print(result3)\n",
    "    \n",
    "#close file countries_a.txt, if you do not close, the data is not saved\n",
    "f_write.close()"
   ]
  },
  {
   "cell_type": "code",
   "execution_count": null,
   "metadata": {
    "scrolled": true
   },
   "outputs": [],
   "source": [
    "Test.assertEqualsHashed(result3, '1ec795c83bc6203b809313940936203cca766e10', 'Incorrect data', \"Exercise 3 is successful\")"
   ]
  },
  {
   "cell_type": "markdown",
   "metadata": {},
   "source": [
    "## 3. Simple word count"
   ]
  },
  {
   "cell_type": "markdown",
   "metadata": {},
   "source": [
    "In this section to solve problems will review first the basic structures of Python: the lists and dictionaries. It is useful to us in the future.<br>\n",
    "\n",
    "<b>Lists</b> in Python - ordered mutable collection of objects of arbitrary types (almost like an array, but the types can vary).<br>\n",
    " Create lists of two ways: using the keyword `list()` and press `[]`.<br>\n",
    " \n"
   ]
  },
  {
   "cell_type": "code",
   "execution_count": 72,
   "metadata": {
    "scrolled": true
   },
   "outputs": [
    {
     "name": "stdout",
     "output_type": "stream",
     "text": [
      "a = []\n",
      "b = [2, 5]\n"
     ]
    }
   ],
   "source": [
    "a = list()\n",
    "b = [2,5]\n",
    "\n",
    "print (\"a =\", a)\n",
    "print (\"b =\", b)"
   ]
  },
  {
   "cell_type": "markdown",
   "metadata": {},
   "source": [
    "Also, you can create a list with any iterable using the keyword `list()`."
   ]
  },
  {
   "cell_type": "code",
   "execution_count": 73,
   "metadata": {
    "scrolled": true
   },
   "outputs": [
    {
     "data": {
      "text/plain": [
       "['s', 't', 'r', 'i', 'n', 'g', ' ', 'i', 'n', ' ', 'l', 'i', 's', 't']"
      ]
     },
     "execution_count": 73,
     "metadata": {},
     "output_type": "execute_result"
    }
   ],
   "source": [
    "c = list('string in list')\n",
    "c"
   ]
  },
  {
   "cell_type": "markdown",
   "metadata": {},
   "source": [
    "<b>Dictionaries</b>, perhaps the most flexible built-in data type in the Python programming language.\n",
    "The lists of items ordered, but their comparison in the object dictionary in order of keys, and the object of the challenge is not in their ID or by offset, but using the key.<br>\n",
    " Create a dictionary can also be in two ways: using the keyword `dict()` and using `{}`."
   ]
  },
  {
   "cell_type": "code",
   "execution_count": 75,
   "metadata": {
    "scrolled": true
   },
   "outputs": [
    {
     "name": "stdout",
     "output_type": "stream",
     "text": [
      "{} {'one': 1, 'two': 2, 'list': ['s', 't', 'r', 'i', 'n', 'g', ' ', 'i', 'n', ' ', 'l', 'i', 's', 't']}\n"
     ]
    }
   ],
   "source": [
    "a = dict()\n",
    "b = {'one':1,'two':2,'list':c}\n",
    "\n",
    "print (a,b)"
   ]
  },
  {
   "cell_type": "code",
   "execution_count": 77,
   "metadata": {
    "scrolled": true
   },
   "outputs": [
    {
     "name": "stdout",
     "output_type": "stream",
     "text": [
      "2\n"
     ]
    }
   ],
   "source": [
    "print (b['two'])"
   ]
  },
  {
   "cell_type": "markdown",
   "metadata": {},
   "source": [
    "More information can be found here: <a href=\"https://docs.python.org/2/tutorial/datastructures.html#more-on-lists\">lists</a>,\n",
    "    <a href=\"https://docs.python.org/2/tutorial/datastructures.html#dictionaries\">dictionaries</a>"
   ]
  },
  {
   "cell_type": "markdown",
   "metadata": {},
   "source": [
    "Above, we have printed a list of countries, starting with A, let's count how many countries have for each letter."
   ]
  },
  {
   "cell_type": "code",
   "execution_count": 78,
   "metadata": {
    "scrolled": true
   },
   "outputs": [
    {
     "name": "stdout",
     "output_type": "stream",
     "text": [
      "{'A': 16, 'D': 6, 'B': 19, 'I': 9, 'K': 12, 'C': 18, 'T': 16, 'H': 6, 'E': 7, 'S': 19, 'G': 18, 'F': 6, 'P': 14, 'V': 7, 'J': 3, 'L': 11, 'M': 22, 'Y': 2, 'N': 12, 'O': 1, 'Q': 1, 'R': 5, 'W': 2, 'Z': 3, 'U': 6}\n"
     ]
    }
   ],
   "source": [
    "countries = open('countries.txt').read().split('\\n')\n",
    "\n",
    "countries_count_list = {}\n",
    "\n",
    "for country in countries:\n",
    "    \n",
    "    #if current country not exists in dict create new, using assignment 1\n",
    "    if not (countries_count_list.get(country[0])):\n",
    "        countries_count_list[country[0]] = 1\n",
    "        \n",
    "    #if current country exists in dict, append 1  \n",
    "    else:\n",
    "        countries_count_list[country[0]] += 1\n",
    "        \n",
    "print (countries_count_list)"
   ]
  },
  {
   "cell_type": "markdown",
   "metadata": {},
   "source": [
    "We used the `split()` method for the separation of our file to the list of lines by the symbol of end of the string.\n",
    " Have a look at the documentation for `split()` and see if you can figure out how to split each line into the name and the vote.<br>\n",
    " \n",
    "Now let us print  lists of abbreviations for each letter. To do this, we need to divide the names and abbreviations. used all the same `split()` method"
   ]
  },
  {
   "cell_type": "code",
   "execution_count": 80,
   "metadata": {
    "scrolled": true
   },
   "outputs": [
    {
     "name": "stdout",
     "output_type": "stream",
     "text": [
      "{'A': ['AF', 'AL', 'AS', 'AD', 'AO', 'AI', 'AQ', 'AG', 'AR', 'AM', 'AW', 'AU', 'AT', 'AZ', 'AN', 'AE'], 'D': ['DZ', 'DK', 'DJ', 'DM', 'DO', 'DE'], 'B': ['BS', 'BH', 'BD', 'BB', 'BY', 'BE', 'BZ', 'BJ', 'BM', 'BT', 'BO', 'BA', 'BW', 'BV', 'BR', 'BN', 'BG', 'BF', 'BI'], 'I': ['IO', 'IS', 'IN', 'ID', 'IR', 'IQ', 'IE', 'IL', 'IT'], 'K': ['KH', 'KY', 'KM', 'KZ', 'KE', 'KI', 'KP', 'KR', 'KV', 'KW', 'KG', 'KN'], 'C': ['CM', 'CA', 'CV', 'CF', 'CL', 'CN', 'CX', 'CC', 'CO', 'CG', 'CD', 'CK', 'CR', 'CI', 'CU', 'CY', 'CZ', 'CH'], 'T': ['TD', 'TP', 'TF', 'TW', 'TJ', 'TZ', 'TH', 'TG', 'TK', 'TO', 'TT', 'TN', 'TR', 'TM', 'TC', 'TV'], 'H': ['HR', 'HT', 'HM', 'HN', 'HK', 'HU'], 'E': ['EC', 'EG', 'ER', 'EE', 'ET', 'ES', 'EH'], 'S': ['SV', 'SH', 'SM', 'ST', 'SA', 'SN', 'SC', 'SL', 'SG', 'SK', 'SI', 'SB', 'SO', 'SD', 'SR', 'SJ', 'SZ', 'SE', 'SY'], 'G': ['GQ', 'GF', 'GA', 'GM', 'GE', 'GH', 'GI', 'GR', 'GL', 'GD', 'GP', 'GU', 'GT', 'GN', 'GW', 'GY', 'GS', 'GB'], 'F': ['FK', 'FO', 'FJ', 'FI', 'FR', 'FM'], 'P': ['PF', 'PK', 'PW', 'PS', 'PA', 'PG', 'PY', 'PE', 'PH', 'PN', 'PL', 'PT', 'PR', 'PM'], 'V': ['VA', 'VC', 'VU', 'VE', 'VN', 'VG', 'VI'], 'J': ['JM', 'JP', 'JO'], 'L': ['LA', 'LV', 'LB', 'LS', 'LR', 'LY', 'LI', 'LT', 'LU', 'LC', 'LK'], 'M': ['MO', 'MK', 'MG', 'MW', 'MY', 'MV', 'ML', 'MT', 'MH', 'MQ', 'MR', 'MU', 'MX', 'MD', 'MC', 'MN', 'MS', 'ME', 'MA', 'MZ', 'MM', 'MP'], 'Y': ['YT', 'YE'], 'N': ['NA', 'NR', 'NP', 'NL', 'NC', 'NZ', 'NI', 'NE', 'NG', 'NU', 'NF', 'NO'], 'O': ['OM'], 'Q': ['QA'], 'R': ['RE', 'RO', 'RU', 'RW', 'RS'], 'W': ['WS', 'WF'], 'Z': ['ZA', 'ZM', 'ZW'], 'U': ['UG', 'UA', 'US', 'UM', 'UY', 'UZ']}\n"
     ]
    }
   ],
   "source": [
    "countries_abbreviations_list = {}\n",
    "\n",
    "for country in countries:\n",
    "    country_abbreviation = country.split('|')[0]\n",
    "    \n",
    "    #if current abbreviation not exists in dict create new, using assignment\n",
    "    if not (countries_abbreviations_list.get(country[0])): \n",
    "        countries_abbreviations_list[country[0]] = [country_abbreviation]\n",
    "        \n",
    "    #if current abbreviation exists in dict, append new element to list    \n",
    "    else: \n",
    "        countries_abbreviations_list[country[0]].append(country_abbreviation)\n",
    "        \n",
    "print (countries_abbreviations_list)"
   ]
  },
  {
   "cell_type": "markdown",
   "metadata": {},
   "source": [
    "> ### Exercise  4\n",
    "Count how many letters are in country's names from file `countries.txt` and save it in dict `result4`.\n",
    "<br>\n",
    "For example:<br>\n",
    "In file `countries.txt` first line: `AF|Afghanistan`, country name - `Afghanistan`, in word `Afghanistan` three later `'a'`, one `'f'`.... {'a': 3, 'f': 1, 'g': 1, 'h': 1, 'i': 1, 'n': 2, 's': 1, 't': 1}. Final dict need contains all leter from all country's names: `{\"a\": 12, \"b\": 32, ... }`\n",
    "\n",
    "> `Note: all letters must be converted to lowercase`"
   ]
  },
  {
   "cell_type": "code",
   "execution_count": 88,
   "metadata": {
    "scrolled": true
   },
   "outputs": [
    {
     "name": "stdout",
     "output_type": "stream",
     "text": [
      "{'a': 377, 'f': 26, 'g': 61, 'h': 48, 'n': 224, 'i': 240, 's': 143, 't': 125, 'l': 123, 'b': 65, 'e': 196, 'r': 164, 'm': 77, 'c': 87, 'o': 141, 'd': 98, 'u': 105, 'z': 16, 'j': 9, 'v': 25, 'w': 16, 'y': 30, 'k': 28, 'p': 46, 'q': 6, 'x': 2}\n"
     ]
    }
   ],
   "source": [
    "# type your code here\n",
    "dict1 = {}\n",
    "countries = open('countries.txt').read().split('\\n')\n",
    "for country in countries:\n",
    "    country_name = country.split('|')[-1]\n",
    "    for i in country_name:\n",
    "        if i.isalpha() == True:\n",
    "            i = i.lower()\n",
    "            if not (dict1.get(i)):\n",
    "                dict1[i] = 1\n",
    "            else:\n",
    "                dict1[i] += 1\n",
    "        \n",
    "# print (countries_abbreviations_list)\n",
    "\n",
    "result4 = dict1\n",
    "print(result4)"
   ]
  },
  {
   "cell_type": "code",
   "execution_count": null,
   "metadata": {
    "scrolled": true
   },
   "outputs": [],
   "source": [
    "Test.assertEqualsHashed(result4, 'ef42cff02d7f8ce441402b01a6a9ec87213a8f59', 'Incorrect data', \"Exercise 4 is successful\")"
   ]
  },
  {
   "cell_type": "markdown",
   "metadata": {},
   "source": [
    "## 4. Working with NLTK corpuses \n",
    "NLTK is a good platform for building  programs to work with human language data. It provides easy-to-use interfaces to over 50 corpora and lexical resources such as WordNet, along with a suite of text processing libraries for classification, tokenization, stemming, tagging, parsing, and semantic reasoning, wrappers for industrial-strength NLP libraries.<br>\n",
    "\n",
    "NLTK includes a diverse set of corpora which can be read using the nltk.corpus package. Each corpus is accessed by means of a \"corpus reader\" object from `nltk.corpus`:"
   ]
  },
  {
   "cell_type": "code",
   "execution_count": 89,
   "metadata": {
    "scrolled": true
   },
   "outputs": [],
   "source": [
    "import nltk"
   ]
  },
  {
   "cell_type": "markdown",
   "metadata": {},
   "source": [
    "When you first use nltk, you need to download package's data to work. For download NLTK package's data, use\n",
    "<pre>nltk.download()</pre>\n",
    "We'll see how to select individual texts, and how to work with them."
   ]
  },
  {
   "cell_type": "markdown",
   "metadata": {},
   "source": [
    "#### Web and Chat Text \n",
    "NLTK's small collection of web text includes content from a Firefox discussion forum, conversations overheard in New York, the movie script of Pirates of the Carribean, personal advertisements, and wine reviews:"
   ]
  },
  {
   "cell_type": "code",
   "execution_count": 92,
   "metadata": {
    "scrolled": true
   },
   "outputs": [
    {
     "name": "stdout",
     "output_type": "stream",
     "text": [
      "[nltk_data] Downloading package webtext to /home/dmitriy/nltk_data...\n",
      "[nltk_data]   Unzipping corpora/webtext.zip.\n",
      "firefox.txt  -  Cookie Manager: \"Don't allow sites that set removed cookies to set future cookies\" should stay check ...\n",
      "- - - - - - - - - - - - - - - - - - - - - - - - - - - - - - - - - - - - - - - - - - - - - - - - - - - - - - - - - - - - - - - \n",
      "grail.txt  -  SCENE 1: [wind] [clop clop clop] \n",
      "KING ARTHUR: Whoa there!  [clop clop clop] \n",
      "SOLDIER #1: Halt!  Who ...\n",
      "- - - - - - - - - - - - - - - - - - - - - - - - - - - - - - - - - - - - - - - - - - - - - - - - - - - - - - - - - - - - - - - \n",
      "overheard.txt  -  White guy: So, do you have any plans for this evening?\n",
      "Asian girl: Yeah, being angry!\n",
      "White guy: Oh, ...\n",
      "- - - - - - - - - - - - - - - - - - - - - - - - - - - - - - - - - - - - - - - - - - - - - - - - - - - - - - - - - - - - - - - \n",
      "pirates.txt  -  PIRATES OF THE CARRIBEAN: DEAD MAN'S CHEST, by Ted Elliott & Terry Rossio\n",
      "[view looking straight dow ...\n",
      "- - - - - - - - - - - - - - - - - - - - - - - - - - - - - - - - - - - - - - - - - - - - - - - - - - - - - - - - - - - - - - - \n",
      "singles.txt  -  25 SEXY MALE, seeks attrac older single lady, for discreet encounters.\n",
      "35YO Security Guard, seeking  ...\n",
      "- - - - - - - - - - - - - - - - - - - - - - - - - - - - - - - - - - - - - - - - - - - - - - - - - - - - - - - - - - - - - - - \n",
      "wine.txt  -  Lovely delicate, fragrant Rhone wine. Polished leather and strawberries. Perhaps a bit dilute, but g ...\n",
      "- - - - - - - - - - - - - - - - - - - - - - - - - - - - - - - - - - - - - - - - - - - - - - - - - - - - - - - - - - - - - - - \n"
     ]
    }
   ],
   "source": [
    "from nltk.corpus import webtext\n",
    "nltk.download('webtext')\n",
    "for fileid in webtext.fileids():\n",
    "    print (fileid, ' - ' , webtext.raw(fileid)[:100], '...')\n",
    "    print ('- '*63) #repeat '- ' 63 times"
   ]
  },
  {
   "cell_type": "markdown",
   "metadata": {},
   "source": [
    "The method `fileids()` gets a list of files in corpus."
   ]
  },
  {
   "cell_type": "markdown",
   "metadata": {},
   "source": [
    "There is also a corpus of instant tweets `twitter_samples`. Corpus prepared for the tasks of classification and have partition of tweets by mood"
   ]
  },
  {
   "cell_type": "code",
   "execution_count": 94,
   "metadata": {
    "scrolled": true
   },
   "outputs": [
    {
     "name": "stdout",
     "output_type": "stream",
     "text": [
      "[nltk_data] Downloading package twitter_samples to\n",
      "[nltk_data]     /home/dmitriy/nltk_data...\n",
      "[nltk_data]   Unzipping corpora/twitter_samples.zip.\n"
     ]
    },
    {
     "data": {
      "text/plain": [
       "['negative_tweets.json', 'positive_tweets.json', 'tweets.20150430-223406.json']"
      ]
     },
     "execution_count": 94,
     "metadata": {},
     "output_type": "execute_result"
    }
   ],
   "source": [
    "nltk.download('twitter_samples')\n",
    "nltk.corpus.twitter_samples.fileids()"
   ]
  },
  {
   "cell_type": "code",
   "execution_count": 95,
   "metadata": {
    "scrolled": true
   },
   "outputs": [
    {
     "data": {
      "text/plain": [
       "['#FollowFriday @France_Inte @PKuchly57 @Milipol_Paris for being top engaged members in my community this week :)',\n",
       " '@Lamb2ja Hey James! How odd :/ Please call our Contact Centre on 02392441234 and we will be able to assist you :) Many thanks!',\n",
       " '@DespiteOfficial we had a listen last night :) As You Bleed is an amazing track. When are you in Scotland?!',\n",
       " '@97sides CONGRATS :)',\n",
       " 'yeaaaah yippppy!!!  my accnt verified rqst has succeed got a blue tick mark on my fb profile :) in 15 days']"
      ]
     },
     "execution_count": 95,
     "metadata": {},
     "output_type": "execute_result"
    }
   ],
   "source": [
    "nltk.corpus.twitter_samples.strings('positive_tweets.json')[:5]"
   ]
  },
  {
   "cell_type": "markdown",
   "metadata": {},
   "source": [
    "Methon of twitter corpus `strings()` return list of users messages text."
   ]
  },
  {
   "cell_type": "markdown",
   "metadata": {},
   "source": [
    "#### Inaugural Address Corpus\n",
    "However, the corpus is actually a collection of 55 texts, one for each presidential address."
   ]
  },
  {
   "cell_type": "code",
   "execution_count": 98,
   "metadata": {
    "scrolled": true
   },
   "outputs": [
    {
     "name": "stdout",
     "output_type": "stream",
     "text": [
      "[nltk_data] Downloading package inaugural to\n",
      "[nltk_data]     /home/dmitriy/nltk_data...\n",
      "[nltk_data]   Unzipping corpora/inaugural.zip.\n",
      "['1789-Washington.txt', '1793-Washington.txt', '1797-Adams.txt', '1801-Jefferson.txt', '1805-Jefferson.txt', '1809-Madison.txt', '1813-Madison.txt', '1817-Monroe.txt', '1821-Monroe.txt', '1825-Adams.txt', '1829-Jackson.txt', '1833-Jackson.txt', '1837-VanBuren.txt', '1841-Harrison.txt', '1845-Polk.txt', '1849-Taylor.txt', '1853-Pierce.txt', '1857-Buchanan.txt', '1861-Lincoln.txt', '1865-Lincoln.txt', '1869-Grant.txt', '1873-Grant.txt', '1877-Hayes.txt', '1881-Garfield.txt', '1885-Cleveland.txt', '1889-Harrison.txt', '1893-Cleveland.txt', '1897-McKinley.txt', '1901-McKinley.txt', '1905-Roosevelt.txt', '1909-Taft.txt', '1913-Wilson.txt', '1917-Wilson.txt', '1921-Harding.txt', '1925-Coolidge.txt', '1929-Hoover.txt', '1933-Roosevelt.txt', '1937-Roosevelt.txt', '1941-Roosevelt.txt', '1945-Roosevelt.txt', '1949-Truman.txt', '1953-Eisenhower.txt', '1957-Eisenhower.txt', '1961-Kennedy.txt', '1965-Johnson.txt', '1969-Nixon.txt', '1973-Nixon.txt', '1977-Carter.txt', '1981-Reagan.txt', '1985-Reagan.txt', '1989-Bush.txt', '1993-Clinton.txt', '1997-Clinton.txt', '2001-Bush.txt', '2005-Bush.txt', '2009-Obama.txt']\n"
     ]
    }
   ],
   "source": [
    "from nltk.corpus import inaugural\n",
    "nltk.download('inaugural')\n",
    "print (inaugural.fileids())"
   ]
  },
  {
   "cell_type": "markdown",
   "metadata": {},
   "source": [
    " An interesting property of this collection is its time dimension:"
   ]
  },
  {
   "cell_type": "code",
   "execution_count": 100,
   "metadata": {
    "scrolled": true
   },
   "outputs": [
    {
     "name": "stdout",
     "output_type": "stream",
     "text": [
      "1789, 1793, 1797, 1801, 1805, 1809, 1813, 1817, 1821, 1825, 1829, 1833, 1837, 1841, 1845, 1849, 1853, 1857, 1861, 1865, 1869, 1873, 1877, 1881, 1885, 1889, 1893, 1897, 1901, 1905, 1909, 1913, 1917, 1921, 1925, 1929, 1933, 1937, 1941, 1945, 1949, 1953, 1957, 1961, 1965, 1969, 1973, 1977, 1981, 1985, 1989, 1993, 1997, 2001, 2005, 2009\n"
     ]
    }
   ],
   "source": [
    "print (', '.join([fileid[:4] for fileid in inaugural.fileids()]))"
   ]
  },
  {
   "cell_type": "markdown",
   "metadata": {},
   "source": [
    "Let's visualize results using the powerful Python library [`matplotlib`](http://matplotlib.org/). This is a very convenient tool that makes it easy and nice to do visualization. Charts are built by default in a separate window with the tools the panel to work with it. \n",
    "\n",
    "To display plotted charts in current output command cell we will use `%matplotlib inline` magic command."
   ]
  },
  {
   "cell_type": "code",
   "execution_count": 101,
   "metadata": {
    "scrolled": true
   },
   "outputs": [
    {
     "data": {
      "image/png": "[encoded data removed]",
      "text/plain": [
       "<Figure size 1440x360 with 1 Axes>"
      ]
     },
     "metadata": {
      "needs_background": "light"
     },
     "output_type": "display_data"
    }
   ],
   "source": [
    "import matplotlib.pyplot as plt\n",
    "%matplotlib inline\n",
    "\n",
    "plt.figure(figsize=(20,5))\n",
    "cfd = nltk.ConditionalFreqDist((target, fileid[:4]) for fileid in inaugural.fileids() for w in inaugural.words(fileid) \n",
    "                               for target in [ 'freedom', 'duties'] if w.lower().startswith(target)) \n",
    "cfd.plot()"
   ]
  },
  {
   "cell_type": "markdown",
   "metadata": {},
   "source": [
    "Here we see that the peak number of words \"freedom\" came in 2005, the number of words \"duty\" started to fade around 1917 with an increase in the number of the word \"freedom.\"<br>\n",
    "\n",
    "`ConditionalFreqDist()` - used to encode conditional distributions. "
   ]
  },
  {
   "cell_type": "markdown",
   "metadata": {},
   "source": [
    "#### Loading your own Corpus\n",
    "If you have your own collection of text files that you would like to access using the above methods, you can easily load them with the help of NLTK's `PlaintextCorpusReader`. "
   ]
  },
  {
   "cell_type": "code",
   "execution_count": 102,
   "metadata": {
    "scrolled": true
   },
   "outputs": [
    {
     "data": {
      "text/plain": [
       "['The', '100', 'Most', 'Expensive', 'Keywords', 'on', ...]"
      ]
     },
     "execution_count": 102,
     "metadata": {},
     "output_type": "execute_result"
    }
   ],
   "source": [
    "from nltk.corpus import PlaintextCorpusReader\n",
    "\n",
    "corpus_root = './' \n",
    "wordlists = PlaintextCorpusReader(corpus_root, '.txt')\n",
    "wordlists.fileids()\n",
    "wordlists.words('twets.txt')"
   ]
  },
  {
   "cell_type": "markdown",
   "metadata": {},
   "source": [
    "Method `words(fileids)` from corpus return list of words in text."
   ]
  },
  {
   "cell_type": "markdown",
   "metadata": {},
   "source": [
    "Let's see 20 of the most common words in texts of tweets (`FreqDist()` - method from nltk for calculate freq of words in text)."
   ]
  },
  {
   "cell_type": "code",
   "execution_count": 104,
   "metadata": {
    "scrolled": true
   },
   "outputs": [
    {
     "name": "stdout",
     "output_type": "stream",
     "text": [
      "[('the', 35), ('-', 25), ('to', 18), ('on', 17), ('and', 17), ('of', 14), ('a', 14), ('for', 12), ('you', 12), ('', 11), ('in', 10), ('new', 10), ('it', 9), ('via', 8), ('@', 7), ('The', 6), ('good', 6), ('with', 6), ('my', 6), ('—', 5)]\n"
     ]
    }
   ],
   "source": [
    "w = nltk.FreqDist(wordlists.raw('twets.txt').split(' '))\n",
    "\n",
    "print (w.most_common(20))"
   ]
  },
  {
   "cell_type": "markdown",
   "metadata": {},
   "source": [
    "We got a lot of values that do not have the words or  service's words. Let's filter by word length (take more than 3 characters). NLTK imee also sets function words, will filter also for official English words using `stopwords.words('english')`."
   ]
  },
  {
   "cell_type": "code",
   "execution_count": 106,
   "metadata": {
    "scrolled": true
   },
   "outputs": [
    {
     "name": "stdout",
     "output_type": "stream",
     "text": [
      "[('twitter', 27), ('quot', 18), ('soundcloud', 15), ('instagram', 13), ('good', 11), ('watch', 9), ('music', 8), ('youtube', 8), ('google', 6), ('oxytech', 6), ('time', 6), ('morning', 5), ('photo', 5), ('check', 5), ('sounds', 5), ('free', 5), ('love', 5), ('creativebloq', 4), ('happy', 4), ('nikolaev', 4)]\n"
     ]
    }
   ],
   "source": [
    "from nltk.corpus import stopwords\n",
    "\n",
    "stopwords_list = stopwords.words('english')\n",
    "\n",
    "filtered_words = [word.lower() for word in wordlists.words('twets.txt') if word.lower() not in stopwords_list and len(word)>3 \n",
    "                  and not(word[0] == '\\\\') and not  word[0].isdigit()]\n",
    "\n",
    "w = nltk.FreqDist(filtered_words)\n",
    "\n",
    "print (w.most_common(20))"
   ]
  },
  {
   "cell_type": "markdown",
   "metadata": {},
   "source": [
    "Know more useful information about how to work with nltk:  <a href=\"http://www.nltk.org/book/\">Analyzing Text with the Natural Language Toolkit</a>"
   ]
  },
  {
   "cell_type": "markdown",
   "metadata": {},
   "source": [
    "> ### Exercise  5\n",
    "Display the list of the 30 most popular words (filtered by stop words and longer than 2 letters) from Gutenberg Corpus (`nltk.corpus.gutenberg`) from Shakespeare's text of  Hamlet ( `'shakespeare-hamlet.txt'`) and  save it in a list `result5`.\n",
    "\n",
    ">You can use `nltk.corpus.gutenberg.words('shakespeare-hamlet.txt')` for load words from `'shakespeare-hamlet.txt'`"
   ]
  },
  {
   "cell_type": "code",
   "execution_count": 110,
   "metadata": {
    "scrolled": true
   },
   "outputs": [
    {
     "name": "stdout",
     "output_type": "stream",
     "text": [
      "[nltk_data] Downloading package gutenberg to\n",
      "[nltk_data]     /home/dmitriy/nltk_data...\n",
      "[nltk_data]   Package gutenberg is already up-to-date!\n",
      "[('lord', 211), ('haue', 178), ('king', 172), ('thou', 107), ('shall', 107), ('come', 104), ('hamlet', 100), ('good', 98), ('enter', 85), ('like', 80), ('would', 73), ('well', 71), ('know', 71), ('selfe', 68), ('loue', 66), ('laer', 60), ('giue', 59), ('thee', 58), ('must', 58), ('hath', 57), ('ophe', 56), ('speake', 55), ('make', 54), ('vpon', 52), ('heere', 50), ('father', 50), ('heauen', 44), ('time', 44), ('mine', 44), ('much', 43)]\n"
     ]
    }
   ],
   "source": [
    "# type your code here\n",
    "nltk.download('gutenberg')\n",
    "\n",
    "from nltk.corpus import stopwords\n",
    "\n",
    "stopwords_list = stopwords.words('english')\n",
    "\n",
    "words = nltk.corpus.gutenberg.words('shakespeare-hamlet.txt')\n",
    "\n",
    "filtered_words = [word.lower() for word in words if word.lower() not in stopwords_list and len(word)>3 \n",
    "                  and not(word[0] == '\\\\') and not  word[0].isdigit()]\n",
    "\n",
    "w = nltk.FreqDist(filtered_words)\n",
    "\n",
    "result5 = w.most_common(30)\n",
    "print(result5)"
   ]
  },
  {
   "cell_type": "code",
   "execution_count": null,
   "metadata": {
    "scrolled": true
   },
   "outputs": [],
   "source": [
    "Test.assertEqualsHashed(result5, 'f7e0290cbb175ff3869073f5f7b734dcfcde0b17', 'Incorrect data', \"Exercise 5 is successful\")"
   ]
  },
  {
   "cell_type": "markdown",
   "metadata": {},
   "source": [
    "## 5. Unicode \n",
    "\n",
    "ASCII character has only 127 characters, but our programs will often need to deal with different languages, and different character sets. <br>\n",
    "\n",
    "Unicode supports over a million characters. Each character is assigned a number, called a code point. In Python, code points are written in the form `\\uXXXX`, where XXXX is the number in four-digit hexadecimal form.\n",
    "Within a program, we can manipulate Unicode strings just like normal strings. However, when Unicode characters are stored in files or displayed on a terminal, they must be encoded as a stream of bytes. \n",
    "Text in files will be in a particular encoding, so we need some mechanism for translating it into Unicode - translation into Unicode is called decoding. Conversely, to write out Unicode to a file or a terminal, we first need to translate it into a suitable encoding.<br>\n",
    "\n",
    "From a Unicode perspective, characters are abstract entities that can be realized as one or more glyphs. Only glyphs can appear on a screen or be printed on paper. A font is a mapping from characters to glyphs.\n"
   ]
  },
  {
   "cell_type": "markdown",
   "metadata": {},
   "source": [
    "### Extracting Encoded Text from Files "
   ]
  },
  {
   "cell_type": "markdown",
   "metadata": {},
   "source": [
    "Let's consider work with unicode on  example texts of tweets. In the social network communicating people from different countries and use different languages, so for the correct representation tweets to all users using utf-8 encoding.<br>\n",
    "\n",
    "The Python codecs module provides functions to read encoded data into Unicode\n",
    "strings, and to write out Unicode strings in encoded form. The `codecs.open()` function takes an encoding parameter to specify the encoding of the file being read or written. So let’s import the codecs module to open our file as Unicode."
   ]
  },
  {
   "cell_type": "code",
   "execution_count": 113,
   "metadata": {
    "scrolled": true
   },
   "outputs": [
    {
     "name": "stdout",
     "output_type": "stream",
     "text": [
      "b'The 100 Most Expensive Keywords on Google [Infographic] blog.hubspot.com/marketing/most\\\\u2026 via @hubspot @lkolo25'\n",
      "b'10 Random Steam Keys just for 1 Euro :)!&#10;&#10;bit.ly/10RandomSteamK\\\\u2026'\n",
      "b'#Mickey Mouse Coloring Pages \\\\u2022 Based on #Disney\\\\u2122 mickeymousecoloringpages.com'\n",
      "b'The end of a whole age. Playboy &#39;to drop&#39; naked women images. bbc.com/news/world-us-\\\\u2026'\n",
      "b'Music \\\\u2014 the most poetic, the most powerful, the most living of all arts.'\n"
     ]
    }
   ],
   "source": [
    "import codecs\n",
    "\n",
    "lines = codecs.open('twets.txt', 'r', encoding='utf-8').readlines()\n",
    "\n",
    "for i in range(5):\n",
    "    print (lines[i].strip().encode('unicode_escape'))"
   ]
  },
  {
   "cell_type": "markdown",
   "metadata": {},
   "source": [
    "The Python-specific encoding unicode_escape is a dummy encoding that converts all\n",
    "non-ASCII characters into their `\\uXXXX` representations. Code points above the ASCII\n",
    "0–127 range but below 256 are represented in the two-digit form \\xXX."
   ]
  },
  {
   "cell_type": "markdown",
   "metadata": {},
   "source": [
    "The module unicodedata lets us inspect the properties of Unicode characters. In the\n",
    "following example, we select all not-ASCII characters in the 50 line of our text and print their standard Unicode convention,\n",
    "followed by their Unicode name"
   ]
  },
  {
   "cell_type": "code",
   "execution_count": 116,
   "metadata": {
    "scrolled": true
   },
   "outputs": [
    {
     "name": "stdout",
     "output_type": "stream",
     "text": [
      "b'@XPAM_CTEPEKA \\\\u0434\\\\u043e\\\\u0431\\\\u0440\\\\u043e\\\\u0435 \\\\u0443\\\\u0442\\\\u0440\\\\u043e \\\\u2606 pic.twitter.com/GutMR2qyLW\\\\r\\\\n'\n",
      "| U+0434 | CYRILLIC SMALL LETTER DE\n",
      "| U+043e | CYRILLIC SMALL LETTER O\n",
      "| U+0431 | CYRILLIC SMALL LETTER BE\n",
      "| U+0440 | CYRILLIC SMALL LETTER ER\n",
      "| U+043e | CYRILLIC SMALL LETTER O\n",
      "| U+0435 | CYRILLIC SMALL LETTER IE\n",
      "| U+0443 | CYRILLIC SMALL LETTER U\n",
      "| U+0442 | CYRILLIC SMALL LETTER TE\n",
      "| U+0440 | CYRILLIC SMALL LETTER ER\n",
      "| U+043e | CYRILLIC SMALL LETTER O\n",
      "| U+2606 | WHITE STAR\n"
     ]
    }
   ],
   "source": [
    "import unicodedata\n",
    "\n",
    "line = lines[50]\n",
    "print (line.encode('unicode_escape'))\n",
    "\n",
    "for c in line:\n",
    "    if ord(c) > 127:\n",
    "        print ('| U+%04x | %s' % (ord(c), unicodedata.name(c)))"
   ]
  },
  {
   "cell_type": "markdown",
   "metadata": {},
   "source": [
    "Strings in Python are also built-in methods for working with different encodings. Basic is:\n",
    " - `decode([encoding,errors])` - decodes the string using the codec registered for encoding:\n",
    " - `encode([encoding,errors])` - returns an encoded version of the string.\n",
    "\n",
    "    * `encoding` - this is the encodings to be used. (<a href=\"https://docs.python.org/2/library/codecs.html#standard-encodings\">All encoding schemes</a>);\n",
    "    * `errors` - set a different error handling scheme. The default for errors is 'strict', meaning that encoding errors raise a UnicodeError. Other possible values are 'ignore', 'replace', 'xmlcharrefreplace', 'backslashreplace' and any other name registered via `codecs.register_error()`;"
   ]
  },
  {
   "cell_type": "code",
   "execution_count": 117,
   "metadata": {
    "scrolled": true
   },
   "outputs": [
    {
     "data": {
      "text/plain": [
       "('test string 䈣', b'test string \\xe4\\x88\\xa3')"
      ]
     },
     "execution_count": 117,
     "metadata": {},
     "output_type": "execute_result"
    }
   ],
   "source": [
    "s = u\"test string \\u4223\";\n",
    "s, s.encode('utf-8','strict')"
   ]
  },
  {
   "cell_type": "code",
   "execution_count": 121,
   "metadata": {
    "scrolled": true
   },
   "outputs": [
    {
     "ename": "AttributeError",
     "evalue": "'str' object has no attribute 'decode'",
     "output_type": "error",
     "traceback": [
      "\u001b[0;31m---------------------------------------------------------------------------\u001b[0m",
      "\u001b[0;31mAttributeError\u001b[0m                            Traceback (most recent call last)",
      "\u001b[0;32m<ipython-input-121-ac6b7423a4d8>\u001b[0m in \u001b[0;36m<module>\u001b[0;34m\u001b[0m\n\u001b[1;32m      1\u001b[0m \u001b[0ms\u001b[0m \u001b[0;34m=\u001b[0m \u001b[0;34m'test string \\xe4\\x88\\xa3'\u001b[0m\u001b[0;34m;\u001b[0m\u001b[0;34m\u001b[0m\u001b[0;34m\u001b[0m\u001b[0m\n\u001b[0;32m----> 2\u001b[0;31m \u001b[0ms\u001b[0m\u001b[0;34m,\u001b[0m \u001b[0ms\u001b[0m\u001b[0;34m.\u001b[0m\u001b[0mdecode\u001b[0m\u001b[0;34m(\u001b[0m\u001b[0;34m'utf-8'\u001b[0m\u001b[0;34m,\u001b[0m\u001b[0;34m'strict'\u001b[0m\u001b[0;34m)\u001b[0m\u001b[0;34m\u001b[0m\u001b[0;34m\u001b[0m\u001b[0m\n\u001b[0m",
      "\u001b[0;31mAttributeError\u001b[0m: 'str' object has no attribute 'decode'"
     ]
    }
   ],
   "source": [
    "s = 'test string \\xe4\\x88\\xa3'\n",
    "s, s.decode('utf-8','strict')"
   ]
  },
  {
   "cell_type": "markdown",
   "metadata": {},
   "source": [
    "NLTK tokenizers allow Unicode strings as input, and correspondingly yield Unicode\n",
    "strings as output."
   ]
  },
  {
   "cell_type": "code",
   "execution_count": 120,
   "metadata": {
    "scrolled": true
   },
   "outputs": [
    {
     "data": {
      "text/plain": [
       "['@', 'XPAM_CTEPEKA', 'доброе', 'утро', '☆', 'pic.twitter.com/GutMR2qyLW']"
      ]
     },
     "execution_count": 120,
     "metadata": {},
     "output_type": "execute_result"
    }
   ],
   "source": [
    "nltk.word_tokenize(line)"
   ]
  },
  {
   "cell_type": "markdown",
   "metadata": {},
   "source": [
    "### Using Your Local Encoding in Python\n",
    " "
   ]
  },
  {
   "cell_type": "markdown",
   "metadata": {},
   "source": [
    "If you are used to working with characters in a particular local encoding, you probably\n",
    "want to be able to use your standard methods for inputting and editing strings in a\n",
    "Python file. In order to do this, you need to include the string '# -*- coding: <coding>\n",
    "-*-' as the first or second line of your file. Note that <coding> has to be a string like\n",
    "'latin-1', 'big5', or 'utf-8'"
   ]
  },
  {
   "cell_type": "markdown",
   "metadata": {},
   "source": [
    "More about unicode in python you can read in official documentation <a href=\"https://docs.python.org/2/howto/unicode.html\">Unicode HOWTO</a>"
   ]
  },
  {
   "cell_type": "markdown",
   "metadata": {},
   "source": [
    "> ### Exercise  6\n",
    ">Calculate the percentage of Unicode characters (has code more 127) in texts of tweets (`'twets.txt'`) and save it in variable `result6`.\n",
    "<br>\n",
    "> Do not use rounding."
   ]
  },
  {
   "cell_type": "code",
   "execution_count": 131,
   "metadata": {
    "scrolled": true
   },
   "outputs": [
    {
     "name": "stdout",
     "output_type": "stream",
     "text": [
      "107 8147\n",
      "1.3133668835154044\n"
     ]
    }
   ],
   "source": [
    "# type your code here\n",
    "import codecs\n",
    "\n",
    "lines = codecs.open('twets.txt', 'r', encoding='utf-8').readlines()\n",
    "counter = 0\n",
    "lentwets = 0\n",
    "for c in lines:\n",
    "    for i in c:\n",
    "        if i.isalpha():\n",
    "            if ord(i) > 127:\n",
    "                counter += 1\n",
    "                lentwets += 1\n",
    "            else:\n",
    "                lentwets += 1\n",
    "\n",
    "print(counter, lentwets)\n",
    "\n",
    "result6 = counter/lentwets*100\n",
    "print(result6)"
   ]
  },
  {
   "cell_type": "code",
   "execution_count": null,
   "metadata": {
    "scrolled": true
   },
   "outputs": [],
   "source": [
    "Test.assertEqualsHashed(result6, 'd18b668f815c6d2d37c744bc4283f7dfe3319088', 'Incorrect data', \"Exercise 6 is successful\")"
   ]
  },
  {
   "cell_type": "markdown",
   "metadata": {},
   "source": [
    "<center><h3>Presented by <a target=\"_blank\" rel=\"noopener noreferrer nofollow\" href=\"http://datascience-school.com\">datascience-school.com</a></h3></center>"
   ]
  },
  {
   "cell_type": "code",
   "execution_count": null,
   "metadata": {},
   "outputs": [],
   "source": []
  }
 ],
 "metadata": {
  "anaconda-cloud": {},
  "kernelspec": {
   "display_name": "Python 3",
   "language": "python",
   "name": "python3"
  },
  "language_info": {
   "codemirror_mode": {
    "name": "ipython",
    "version": 3
   },
   "file_extension": ".py",
   "mimetype": "text/x-python",
   "name": "python",
   "nbconvert_exporter": "python",
   "pygments_lexer": "ipython3",
   "version": "3.6.7"
  }
 },
 "nbformat": 4,
 "nbformat_minor": 1
}
