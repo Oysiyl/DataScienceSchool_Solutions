{
 "cells": [
  {
   "cell_type": "markdown",
   "metadata": {},
   "source": [
    "## What is TensorFlow?\n",
    "<div style=\"text-align:justify\"><a href=\"https://www.tensorflow.org/\">TensorFlow</a> is an open source software library for numerical computation using data flow graphs. Nodes in the graph represent mathematical operations, while the graph edges represent the multidimensional data arrays (tensors) communicated between them. The flexible architecture allows you to deploy computation to one or more CPUs or GPUs in a desktop, server, or mobile device with a single API. TensorFlow was originally developed by researchers and engineers working on the Google Brain Team within Google's Machine Intelligence research organization for the purposes of conducting machine learning and deep neural networks research, but the system is general enough to be applicable in a wide variety of other domains as well.It is currently used for both research and production by 50 different teams in dozens of commercial Google products, such as speech recognition, Gmail, Google Photos, and search, many of which had previously used its predecessor DistBelief.</div>"
   ]
  },
  {
   "cell_type": "markdown",
   "metadata": {},
   "source": [
    "## What is fastText?\n",
    "<a href =\"https://pypi.python.org/pypi/fasttext\">fastText</a> is a library for efficient learning of word representations and sentence classification. fastText created by Facebook"
   ]
  },
  {
   "cell_type": "markdown",
   "metadata": {},
   "source": [
    "---"
   ]
  },
  {
   "cell_type": "markdown",
   "metadata": {},
   "source": [
    "## Installation"
   ]
  },
  {
   "cell_type": "code",
   "execution_count": null,
   "metadata": {},
   "outputs": [],
   "source": [
    "!sudo pip3 install --user Cython\n",
    "!sudo pip3 install --user fasttext\n",
    "#!sudo pip install tensorflow"
   ]
  },
  {
   "cell_type": "markdown",
   "metadata": {},
   "source": [
    "# Cython is needed to install fasttext\n",
    "\n",
    "\n",
    "# to install tensorflow use this link\n",
    "# https://www.tensorflow.org/versions/r0.10/get_started/os_setup.html#pip-installation"
   ]
  },
  {
   "cell_type": "markdown",
   "metadata": {},
   "source": [
    "## Importing"
   ]
  },
  {
   "cell_type": "code",
   "execution_count": 1,
   "metadata": {
    "scrolled": true
   },
   "outputs": [],
   "source": [
    "import tensorflow as tf\n",
    "import fasttext as ft\n",
    "import numpy as np\n",
    "import matplotlib.pyplot as plt\n",
    "import urllib\n",
    "import pandas\n",
    "import os\n",
    "import tarfile\n",
    "\n",
    "from os import path\n",
    "from time import time\n",
    "from tensorflow.contrib.learn.python.learn.datasets import base\n",
    "from tensorflow.python.platform import gfile\n",
    "#from __future__ import absolute_import\n",
    "#from __future__ import division\n",
    "#from __future__ import print_function\n",
    "from sklearn import metrics\n",
    "from tensorflow.contrib import learn\n",
    "\n",
    "%matplotlib inline"
   ]
  },
  {
   "cell_type": "markdown",
   "metadata": {},
   "source": [
    "## Testing\n",
    "Lets test, if both TensorFlow and FastText installed properly."
   ]
  },
  {
   "cell_type": "code",
   "execution_count": 2,
   "metadata": {},
   "outputs": [
    {
     "name": "stdout",
     "output_type": "stream",
     "text": [
      "Writing test.txt\n"
     ]
    }
   ],
   "source": [
    "%%file test.txt\n",
    "Mount Everest, also known in Nepal as Sagarmāthā and in China as Chomolungma, is Earth's highest mountain. Its peak is 8,848 metres (29,029 ft) above sea level. Mount Everest is located in the Mahalangur mountain range in Nepal. The international border between China (Tibet Autonomous Region) and Nepal runs across Everest's precise summit point. Its massif includes neighbouring peaks Lhotse, 8,516 m (27,940 ft); Nuptse, 7,855 m (25,771 ft) and Changtse, 7,580 m (24,870 ft).\n",
    "In 1856, the Great Trigonometrical Survey of India established the first published height of Everest, then known as Peak XV, at 8,840 m (29,002 ft). The current official height of 8,848 m (29,029 ft) as recognised by China and Nepal was established by a 1955 Indian survey and subsequently confirmed by a Chinese survey in 1975. In 2005, China remeasured the height of the mountain and got a result of 8844.43 m. An argument regarding the height between China and Nepal lasted 5 years from 2005 to 2010. China argued it should be measured by its rock height which is 8844 m but Nepal said it should be measured by its snow height 8848 m. In 2010, an agreement was finally reached by both sides that the height of Everest is 8,848 m and Nepal recognises China's claim that the rock height of Everest is 8,844 m."
   ]
  },
  {
   "cell_type": "markdown",
   "metadata": {},
   "source": [
    "A <a href=\"https://www.tensorflow.org/api_docs/python/client/session_management#Session\">Session</a> object encapsulates the environment in which Operation objects are executed, and Tensor objects are evaluated."
   ]
  },
  {
   "cell_type": "code",
   "execution_count": 3,
   "metadata": {},
   "outputs": [
    {
     "name": "stdout",
     "output_type": "stream",
     "text": [
      "b'Hello, TensorFlow!'\n",
      "CPU times: user 539 ms, sys: 286 ms, total: 825 ms\n",
      "Wall time: 1.73 s\n"
     ]
    }
   ],
   "source": [
    "%%time\n",
    "# Build a graph\n",
    "hello = tf.constant('Hello, ')\n",
    "world = tf.constant('TensorFlow!')\n",
    "hw = hello + world\n",
    "# Launch the graph in a sessions.\n",
    "sess = tf.Session()\n",
    "# Evaluate the tensor 'hello'\n",
    "print(sess.run(hw))"
   ]
  },
  {
   "cell_type": "code",
   "execution_count": 4,
   "metadata": {},
   "outputs": [],
   "source": [
    "# Learn word vectors using cbow model from fastText\n",
    "model = ft.cbow('test.txt', 'model')"
   ]
  },
  {
   "cell_type": "code",
   "execution_count": 5,
   "metadata": {},
   "outputs": [
    {
     "name": "stdout",
     "output_type": "stream",
     "text": [
      "{'the', 'of', 'm', 'China', 'is', 'Nepal', 'in', 'height', 'and', 'by'}\n"
     ]
    }
   ],
   "source": [
    "# Print list of words in dictionary\n",
    "print(model.words)"
   ]
  },
  {
   "cell_type": "markdown",
   "metadata": {
    "collapsed": true
   },
   "source": [
    "# 1. TensorFlow"
   ]
  },
  {
   "cell_type": "markdown",
   "metadata": {},
   "source": [
    "### 1.1. Download and prepare the dataset\n",
    "<div style=\"text-align:justify\">\n",
    "DBpedia is a crowd-sourced community effort to extract structured information from Wikipedia and make this information available on the Web. <br><br>\n",
    "Here we use DBpedia ontology dataset.<br>\n",
    "&emsp;The DBpedia ontology classification dataset is constructed by picking 14 non-overlapping classes from DBpedia 2014. They are listed in classes.txt. From each of thse 14 ontology classes, we randomly choose 40,000 training samples and 5,000 testing samples. Therefore, the total size of the training dataset is 560,000 and testing dataset 70,000.<br>\n",
    "\n",
    "&emsp;The files train.csv and test.csv contain all the training samples as comma-sparated values. There are 3 columns in them, corresponding to class index (1 to 14), title and content. The title and content are escaped using double quotes (\"), and any internal double quote is escaped by 2 double quotes (\"\"). There are no new lines in title or content.</div>"
   ]
  },
  {
   "cell_type": "code",
   "execution_count": 6,
   "metadata": {},
   "outputs": [],
   "source": [
    "DBPEDIA_URL = 'https://www.dropbox.com/s/8n9unxr3p6d13lr/dbpedia_csv.tar.gz?dl=1'\n",
    "\n",
    "def maybe_download_dbpedia(data_dir):\n",
    "    \"\"\"Download if DBpedia data is not present.\"\"\"\n",
    "    train_path = os.path.join(data_dir, 'dbpedia_csv/train.csv')\n",
    "    test_path = os.path.join(data_dir, 'dbpedia_csv/test.csv')\n",
    "    if not (gfile.Exists(train_path) and gfile.Exists(test_path)):\n",
    "        archive_path = base.maybe_download(\n",
    "            'dbpedia_csv.tar.gz', data_dir, DBPEDIA_URL)\n",
    "        tfile = tarfile.open(archive_path, 'r:*')\n",
    "        tfile.extractall(data_dir)\n",
    "\n",
    "def load_dbpedia(size='small', test_with_fake_data=False):\n",
    "    \"\"\"Get DBpedia datasets from CSV files.\"\"\"\n",
    "    if not test_with_fake_data:\n",
    "        data_dir = os.path.join(os.getenv('TF_EXP_BASE_DIR', ''), 'dbpedia_data')\n",
    "        maybe_download_dbpedia(data_dir)\n",
    "\n",
    "        train_path = os.path.join(data_dir, 'dbpedia_csv', 'train.csv')\n",
    "        test_path = os.path.join(data_dir, 'dbpedia_csv', 'test.csv')\n",
    "\n",
    "        if size == 'small':\n",
    "            # Reduce the size of original data by a factor of 100.\n",
    "            base.shrink_csv(train_path, 100)\n",
    "            base.shrink_csv(test_path, 100)\n",
    "            train_path = train_path.replace('train.csv', 'train_small.csv')\n",
    "            test_path = test_path.replace('test.csv', 'test_small.csv')\n",
    "    else:\n",
    "        module_path = os.path.dirname(__file__)\n",
    "        train_path = os.path.join(module_path, 'data', 'text_train.csv')\n",
    "        test_path = os.path.join(module_path, 'data', 'text_test.csv')\n",
    "\n",
    "        # Load csv without the 1st row\n",
    "    train = base.load_csv_without_header(\n",
    "        train_path, target_dtype=np.int32, features_dtype=np.str, target_column=0)\n",
    "    test = base.load_csv_without_header(\n",
    "        test_path, target_dtype=np.int32, features_dtype=np.str, target_column=0)\n",
    "\n",
    "    return base.Datasets(train=train, validation=None, test=test)\n",
    "\n",
    "# Placeholder for scores and timings of evaluations\n",
    "scores_timings = [[0,0],[0,0]]"
   ]
  },
  {
   "cell_type": "markdown",
   "metadata": {},
   "source": [
    "### 1.2. Train and test the model"
   ]
  },
  {
   "cell_type": "markdown",
   "metadata": {},
   "source": [
    "<div style=\"text-align:justify\">In this example used the **convolution2d** layer. **convolution2d** creates a variable called **weights**, representing the convolutional kernel, that is convolved with the **inputs** to produce a **Tensor** of activations. If a **normalizer_fn** is provided (such as **batch_norm**), it is then applied. Otherwise, if **normalizer_fn** is None and a **biases_initializer** is provided then a **biases** variable would be created and added the activations. Finally, if **activation_fn** is not **None**, it is applied to the activations as well.\n",
    "And logistic regression model. Docs for tf.contrib.learn can be found <a href=\"https://www.tensorflow.org/tutorials/tflearn/\"> here</a>.</div>"
   ]
  },
  {
   "cell_type": "code",
   "execution_count": 7,
   "metadata": {},
   "outputs": [
    {
     "name": "stdout",
     "output_type": "stream",
     "text": [
      "WARNING:tensorflow:From <ipython-input-6-e96483a83a70>:9: maybe_download (from tensorflow.contrib.learn.python.learn.datasets.base) is deprecated and will be removed in a future version.\n",
      "Instructions for updating:\n",
      "Please write your own downloading logic.\n",
      "WARNING:tensorflow:From /home/dmitriy/.local/lib/python3.6/site-packages/tensorflow/contrib/learn/python/learn/datasets/base.py:252: _internal_retry.<locals>.wrap.<locals>.wrapped_fn (from tensorflow.contrib.learn.python.learn.datasets.base) is deprecated and will be removed in a future version.\n",
      "Instructions for updating:\n",
      "Please use urllib or similar directly.\n",
      "Successfully downloaded dbpedia_csv.tar.gz 68341698 bytes.\n",
      "WARNING:tensorflow:From <ipython-input-6-e96483a83a70>:24: shrink_csv (from tensorflow.contrib.learn.python.learn.datasets.base) is deprecated and will be removed in a future version.\n",
      "Instructions for updating:\n",
      "Use tf.data instead.\n",
      "WARNING:tensorflow:From <ipython-input-6-e96483a83a70>:35: load_csv_without_header (from tensorflow.contrib.learn.python.learn.datasets.base) is deprecated and will be removed in a future version.\n",
      "Instructions for updating:\n",
      "Use tf.data instead.\n",
      "WARNING:tensorflow:From <ipython-input-7-5ae9075f8033>:63: VocabularyProcessor.__init__ (from tensorflow.contrib.learn.python.learn.preprocessing.text) is deprecated and will be removed in a future version.\n",
      "Instructions for updating:\n",
      "Please use tensorflow/transform or tf.data.\n",
      "WARNING:tensorflow:From /home/dmitriy/.local/lib/python3.6/site-packages/tensorflow/contrib/learn/python/learn/preprocessing/text.py:154: CategoricalVocabulary.__init__ (from tensorflow.contrib.learn.python.learn.preprocessing.categorical_vocabulary) is deprecated and will be removed in a future version.\n",
      "Instructions for updating:\n",
      "Please use tensorflow/transform or tf.data.\n",
      "WARNING:tensorflow:From /home/dmitriy/.local/lib/python3.6/site-packages/tensorflow/contrib/learn/python/learn/preprocessing/text.py:170: tokenizer (from tensorflow.contrib.learn.python.learn.preprocessing.text) is deprecated and will be removed in a future version.\n",
      "Instructions for updating:\n",
      "Please use tensorflow/transform or tf.data.\n",
      "Total words: 38228\n",
      "WARNING:tensorflow:From /home/dmitriy/.local/lib/python3.6/site-packages/tensorflow/contrib/learn/python/learn/estimators/estimator.py:1180: BaseEstimator.__init__ (from tensorflow.contrib.learn.python.learn.estimators.estimator) is deprecated and will be removed in a future version.\n",
      "Instructions for updating:\n",
      "Please replace uses of any Estimator from tf.contrib.learn with an Estimator from tf.estimator.*\n",
      "WARNING:tensorflow:From /home/dmitriy/.local/lib/python3.6/site-packages/tensorflow/contrib/learn/python/learn/estimators/estimator.py:428: RunConfig.__init__ (from tensorflow.contrib.learn.python.learn.estimators.run_config) is deprecated and will be removed in a future version.\n",
      "Instructions for updating:\n",
      "When switching to tf.estimator.Estimator, use tf.estimator.RunConfig instead.\n",
      "INFO:tensorflow:Using default config.\n",
      "WARNING:tensorflow:Using temporary folder as model directory: /tmp/tmpcgdzjhbf\n",
      "INFO:tensorflow:Using config: {'_task_type': None, '_task_id': 0, '_cluster_spec': <tensorflow.python.training.server_lib.ClusterSpec object at 0x7f1961355a20>, '_master': '', '_num_ps_replicas': 0, '_num_worker_replicas': 0, '_environment': 'local', '_is_chief': True, '_evaluation_master': '', '_train_distribute': None, '_eval_distribute': None, '_device_fn': None, '_tf_config': gpu_options {\n",
      "  per_process_gpu_memory_fraction: 1.0\n",
      "}\n",
      ", '_tf_random_seed': None, '_save_summary_steps': 100, '_save_checkpoints_secs': 600, '_log_step_count_steps': 100, '_protocol': None, '_session_config': None, '_save_checkpoints_steps': None, '_keep_checkpoint_max': 5, '_keep_checkpoint_every_n_hours': 10000, '_model_dir': '/tmp/tmpcgdzjhbf'}\n",
      "WARNING:tensorflow:From <ipython-input-7-5ae9075f8033>:73: calling BaseEstimator.fit (from tensorflow.contrib.learn.python.learn.estimators.estimator) with x is deprecated and will be removed after 2016-12-01.\n",
      "Instructions for updating:\n",
      "Estimator is decoupled from Scikit Learn interface by moving into\n",
      "separate class SKCompat. Arguments x, y and batch_size are only\n",
      "available in the SKCompat class, Estimator will only accept input_fn.\n",
      "Example conversion:\n",
      "  est = Estimator(...) -> est = SKCompat(Estimator(...))\n",
      "WARNING:tensorflow:From <ipython-input-7-5ae9075f8033>:73: calling BaseEstimator.fit (from tensorflow.contrib.learn.python.learn.estimators.estimator) with y is deprecated and will be removed after 2016-12-01.\n",
      "Instructions for updating:\n",
      "Estimator is decoupled from Scikit Learn interface by moving into\n",
      "separate class SKCompat. Arguments x, y and batch_size are only\n",
      "available in the SKCompat class, Estimator will only accept input_fn.\n",
      "Example conversion:\n",
      "  est = Estimator(...) -> est = SKCompat(Estimator(...))\n",
      "WARNING:tensorflow:From /home/dmitriy/.local/lib/python3.6/site-packages/tensorflow/contrib/learn/python/learn/estimators/estimator.py:509: SKCompat.__init__ (from tensorflow.contrib.learn.python.learn.estimators.estimator) is deprecated and will be removed in a future version.\n",
      "Instructions for updating:\n",
      "Please switch to the Estimator interface.\n",
      "WARNING:tensorflow:From /home/dmitriy/.local/lib/python3.6/site-packages/tensorflow/contrib/learn/python/learn/estimators/estimator.py:143: setup_train_data_feeder (from tensorflow.contrib.learn.python.learn.learn_io.data_feeder) is deprecated and will be removed in a future version.\n",
      "Instructions for updating:\n",
      "Please use tensorflow/transform or tf.data.\n",
      "WARNING:tensorflow:From /home/dmitriy/.local/lib/python3.6/site-packages/tensorflow/contrib/learn/python/learn/learn_io/data_feeder.py:96: extract_dask_data (from tensorflow.contrib.learn.python.learn.learn_io.dask_io) is deprecated and will be removed in a future version.\n",
      "Instructions for updating:\n",
      "Please feed input to tf.data to support dask.\n",
      "WARNING:tensorflow:From /home/dmitriy/.local/lib/python3.6/site-packages/tensorflow/contrib/learn/python/learn/learn_io/data_feeder.py:98: extract_dask_labels (from tensorflow.contrib.learn.python.learn.learn_io.dask_io) is deprecated and will be removed in a future version.\n",
      "Instructions for updating:\n",
      "Please feed input to tf.data to support dask.\n",
      "WARNING:tensorflow:From /home/dmitriy/.local/lib/python3.6/site-packages/tensorflow/contrib/learn/python/learn/learn_io/data_feeder.py:100: extract_pandas_data (from tensorflow.contrib.learn.python.learn.learn_io.pandas_io) is deprecated and will be removed in a future version.\n",
      "Instructions for updating:\n",
      "Please access pandas data directly.\n",
      "WARNING:tensorflow:From /home/dmitriy/.local/lib/python3.6/site-packages/tensorflow/contrib/learn/python/learn/learn_io/data_feeder.py:102: extract_pandas_labels (from tensorflow.contrib.learn.python.learn.learn_io.pandas_io) is deprecated and will be removed in a future version.\n",
      "Instructions for updating:\n",
      "Please access pandas data directly.\n",
      "WARNING:tensorflow:From /home/dmitriy/.local/lib/python3.6/site-packages/tensorflow/contrib/learn/python/learn/learn_io/data_feeder.py:159: DataFeeder.__init__ (from tensorflow.contrib.learn.python.learn.learn_io.data_feeder) is deprecated and will be removed in a future version.\n",
      "Instructions for updating:\n",
      "Please use tensorflow/transform or tf.data.\n",
      "WARNING:tensorflow:From /home/dmitriy/.local/lib/python3.6/site-packages/tensorflow/contrib/learn/python/learn/learn_io/data_feeder.py:340: check_array (from tensorflow.contrib.learn.python.learn.learn_io.data_feeder) is deprecated and will be removed in a future version.\n",
      "Instructions for updating:\n",
      "Please convert numpy dtypes explicitly.\n",
      "WARNING:tensorflow:From <ipython-input-7-5ae9075f8033>:21: categorical_variable (from tensorflow.contrib.learn.python.learn.ops.embeddings_ops) is deprecated and will be removed after 2016-12-01.\n",
      "Instructions for updating:\n",
      "Use `tf.contrib.layers.embed_sequence` instead.\n",
      "WARNING:tensorflow:From /home/dmitriy/.local/lib/python3.6/site-packages/tensorflow/contrib/learn/python/learn/ops/embeddings_ops.py:92: embedding_lookup (from tensorflow.contrib.learn.python.learn.ops.embeddings_ops) is deprecated and will be removed after 2016-12-01.\n",
      "Instructions for updating:\n",
      "Use `tf.embedding_lookup` instead.\n"
     ]
    },
    {
     "name": "stdout",
     "output_type": "stream",
     "text": [
      "WARNING:tensorflow:From <ipython-input-7-5ae9075f8033>:39: calling squeeze (from tensorflow.python.ops.array_ops) with squeeze_dims is deprecated and will be removed in a future version.\n",
      "Instructions for updating:\n",
      "Use the `axis` argument instead\n",
      "WARNING:tensorflow:From <ipython-input-7-5ae9075f8033>:42: logistic_regression (from tensorflow.contrib.learn.python.learn.models) is deprecated and will be removed in a future version.\n",
      "Instructions for updating:\n",
      "Consider using a class from tf.estimator.\n",
      "WARNING:tensorflow:From /home/dmitriy/.local/lib/python3.6/site-packages/tensorflow/contrib/learn/python/learn/models.py:183: softmax_classifier (from tensorflow.contrib.learn.python.learn.ops.losses_ops) is deprecated and will be removed after 2016-12-01.\n",
      "Instructions for updating:\n",
      "Use `tf.losses.softmax_cross_entropy` and explicit logits computation.\n",
      "WARNING:tensorflow:From <ipython-input-7-5ae9075f8033>:46: get_global_step (from tensorflow.contrib.framework.python.ops.variables) is deprecated and will be removed in a future version.\n",
      "Instructions for updating:\n",
      "Please switch to tf.train.get_global_step\n",
      "WARNING:tensorflow:From /home/dmitriy/.local/lib/python3.6/site-packages/tensorflow/contrib/learn/python/learn/estimators/estimator.py:1241: ModelFnOps.__new__ (from tensorflow.contrib.learn.python.learn.estimators.model_fn) is deprecated and will be removed in a future version.\n",
      "Instructions for updating:\n",
      "When switching to tf.estimator.Estimator, use tf.estimator.EstimatorSpec. You can use the `estimator_spec` method to create an equivalent one.\n",
      "INFO:tensorflow:Create CheckpointSaverHook.\n",
      "INFO:tensorflow:Graph was finalized.\n",
      "INFO:tensorflow:Running local_init_op.\n",
      "INFO:tensorflow:Done running local_init_op.\n",
      "INFO:tensorflow:Saving checkpoints for 0 into /tmp/tmpcgdzjhbf/model.ckpt.\n",
      "INFO:tensorflow:loss = 2.7714446, step = 0\n",
      "INFO:tensorflow:Saving checkpoints for 100 into /tmp/tmpcgdzjhbf/model.ckpt.\n",
      "INFO:tensorflow:Loss for final step: 0.0050413855.\n",
      "WARNING:tensorflow:From <ipython-input-7-5ae9075f8033>:75: calling BaseEstimator.predict (from tensorflow.contrib.learn.python.learn.estimators.estimator) with x is deprecated and will be removed after 2016-12-01.\n",
      "Instructions for updating:\n",
      "Estimator is decoupled from Scikit Learn interface by moving into\n",
      "separate class SKCompat. Arguments x, y and batch_size are only\n",
      "available in the SKCompat class, Estimator will only accept input_fn.\n",
      "Example conversion:\n",
      "  est = Estimator(...) -> est = SKCompat(Estimator(...))\n",
      "INFO:tensorflow:Graph was finalized.\n",
      "INFO:tensorflow:Restoring parameters from /tmp/tmpcgdzjhbf/model.ckpt-100\n",
      "INFO:tensorflow:Running local_init_op.\n",
      "INFO:tensorflow:Done running local_init_op.\n",
      "Accuracy: 0.515714\n",
      "Model trained and tested in 15.553 seconds\n"
     ]
    },
    {
     "ename": "SystemExit",
     "evalue": "",
     "output_type": "error",
     "traceback": [
      "An exception has occurred, use %tb to see the full traceback.\n",
      "\u001b[0;31mSystemExit\u001b[0m\n"
     ]
    },
    {
     "name": "stderr",
     "output_type": "stream",
     "text": [
      "/home/dmitriy/.local/lib/python3.6/site-packages/IPython/core/interactiveshell.py:3275: UserWarning: To exit: use 'exit', 'quit', or Ctrl-D.\n",
      "  warn(\"To exit: use 'exit', 'quit', or Ctrl-D.\", stacklevel=1)\n"
     ]
    }
   ],
   "source": [
    "MAX_DOCUMENT_LENGTH = 100\n",
    "EMBEDDING_SIZE = 20\n",
    "N_FILTERS = 10\n",
    "WINDOW_SIZE = 20\n",
    "FILTER_SHAPE1 = [WINDOW_SIZE, EMBEDDING_SIZE]\n",
    "FILTER_SHAPE2 = [WINDOW_SIZE, N_FILTERS]\n",
    "POOLING_WINDOW = 4\n",
    "POOLING_STRIDE = 2\n",
    "n_words = 0\n",
    "\n",
    "\n",
    "def cnn_model(x, y):\n",
    "    \"\"\"2 layer Convolutional network to predict from sequence of words\n",
    "  to a class.\"\"\"\n",
    "    # Convert indexes of words into embeddings.\n",
    "    # This creates embeddings matrix of [n_words, EMBEDDING_SIZE] and then\n",
    "    # maps word indexes of the sequence into [batch_size, sequence_length,\n",
    "    # EMBEDDING_SIZE].\n",
    "    y = tf.one_hot(y, 15, 1, 0)\n",
    "    word_vectors = learn.ops.categorical_variable(x, n_classes=n_words,\n",
    "                                                  embedding_size=EMBEDDING_SIZE, name='words')\n",
    "    word_vectors = tf.expand_dims(word_vectors, 3)\n",
    "    with tf.variable_scope('CNN_Layer1'):\n",
    "        # Apply Convolution filtering on input sequence.\n",
    "        conv1 = tf.contrib.layers.convolution2d(word_vectors, N_FILTERS,\n",
    "                                                FILTER_SHAPE1, padding='VALID')\n",
    "        # Add a RELU for non linearity.\n",
    "        conv1 = tf.nn.relu(conv1)\n",
    "        # Max pooling across output of Convolution+Relu.\n",
    "        pool1 = tf.nn.max_pool(conv1, ksize=[1, POOLING_WINDOW, 1, 1],\n",
    "                               strides=[1, POOLING_STRIDE, 1, 1], padding='SAME')\n",
    "        # Transpose matrix so that n_filters from convolution becomes width.\n",
    "        pool1 = tf.transpose(pool1, [0, 1, 3, 2])\n",
    "    with tf.variable_scope('CNN_Layer2'):\n",
    "        # Second level of convolution filtering.\n",
    "        conv2 = tf.contrib.layers.convolution2d(pool1, N_FILTERS,\n",
    "                                                FILTER_SHAPE2, padding='VALID')\n",
    "        # Max across each filter to get useful features for classification.\n",
    "        pool2 = tf.squeeze(tf.reduce_max(conv2, 1), squeeze_dims=[1])\n",
    "\n",
    "    # Apply regular WX + B and classification.\n",
    "    prediction, loss = learn.models.logistic_regression(pool2, y)\n",
    "\n",
    "    # Training optimizer\n",
    "    train_op = tf.contrib.layers.optimize_loss(\n",
    "        loss, tf.contrib.framework.get_global_step(),\n",
    "        optimizer='Adam', learning_rate=0.01)\n",
    "\n",
    "    return {'class': tf.argmax(prediction, 1), 'prob': prediction}, loss, train_op\n",
    "\n",
    "\n",
    "def main(unused_argv):\n",
    "    global n_words\n",
    "    # Prepare training and testing data\n",
    "    dbpedia = load_dbpedia()\n",
    "    t0 = time()\n",
    "    x_train = pandas.DataFrame(dbpedia.train.data)[1]\n",
    "    y_train = pandas.Series(dbpedia.train.target)\n",
    "    x_test = pandas.DataFrame(dbpedia.test.data)[1]\n",
    "    y_test = pandas.Series(dbpedia.test.target)\n",
    "\n",
    "    # Process vocabulary\n",
    "    vocab_processor = learn.preprocessing.VocabularyProcessor(MAX_DOCUMENT_LENGTH) # Map documents to sequence of word IDs\n",
    "    x_train = np.array(list(vocab_processor.fit_transform(x_train)))\n",
    "    x_test = np.array(list(vocab_processor.transform(x_test)))\n",
    "    n_words = len(vocab_processor.vocabulary_)\n",
    "    print('Total words: %d' % n_words)\n",
    "\n",
    "    # Build model\n",
    "    classifier = learn.Estimator(model_fn=cnn_model)\n",
    "\n",
    "    # Train and predict\n",
    "    classifier.fit(x_train, y_train, steps=100)\n",
    "    y_predicted = [\n",
    "        p['class'] for p in classifier.predict(x_test, as_iterable=True)]\n",
    "    score = metrics.accuracy_score(y_test, y_predicted)\n",
    "    print('Accuracy: {0:f}'.format(score))\n",
    "    \n",
    "    t1 = time() - t0\n",
    "    scores_timings[0][0] = score\n",
    "    scores_timings[0][1] = t1\n",
    "    print(\"Model trained and tested in %s seconds\" % round(t1, 3))\n",
    "\n",
    "\n",
    "tf.app.run()"
   ]
  },
  {
   "cell_type": "markdown",
   "metadata": {},
   "source": [
    "# 2. fastText"
   ]
  },
  {
   "cell_type": "markdown",
   "metadata": {},
   "source": [
    "Before starting use fastText you need to prepare dataset or you can download it below. You need to convert the dataset to lowercase and add **label** or another word to predict column. You get something like that:\n",
    "\n",
    "    __label__10 , cunningham ' s skink , cunningham ' s skink ( egernia cunninghami ) is a large skink species native to southeastern australia . it can reach up to 400 mm in length and may be confused with blue-tongued lizards . they have a distinctive keel on each scale which gives them a slightly spiny appearance . extremely variable in colour ranging from dark brown to black with or without blotchy patches speckles or narrow bands . it prefers to live communally in the crevices of rocky outcrops or hollow logs . \n",
    "    __label__12 , hero of our time , for the novel by lermontov see a hero of our time . hero of our time is satanic surfers ' first full-length album . it was released on september 16 1996 on theologian records and was later re-released by burning heart records . \n",
    "    __label__1 , telepizza , telepizza is a pizza restaurant chain that operates in spain some spanish-speaking countries and in countries of the european union . it was founded in 1987 by capital of galicia and madrid with the excision of the galician part would be create pizza móvil in 1989 . the company had factories in guadalajara barcelona móstoles alcobendas but were later sold and all the production is made at a factory in daganzo de arriba madrid ."
   ]
  },
  {
   "cell_type": "markdown",
   "metadata": {},
   "source": [
    "### 2.1. Download the dataset"
   ]
  },
  {
   "cell_type": "code",
   "execution_count": 8,
   "metadata": {},
   "outputs": [
    {
     "data": {
      "text/plain": [
       "('dbpedia.train', <http.client.HTTPMessage at 0x7f198e191438>)"
      ]
     },
     "execution_count": 8,
     "metadata": {},
     "output_type": "execute_result"
    }
   ],
   "source": [
    "urllib.request.urlretrieve('https://www.dropbox.com/s/k5c5xrixl41dvxn/dbpedia.test?dl=1', 'dbpedia.test')\n",
    "urllib.request.urlretrieve('https://www.dropbox.com/s/3hycumjqdbtcy0g/dbpedia.train?dl=1', 'dbpedia.train')"
   ]
  },
  {
   "cell_type": "markdown",
   "metadata": {},
   "source": [
    "### 2.2. Train and test the model"
   ]
  },
  {
   "cell_type": "code",
   "execution_count": 9,
   "metadata": {},
   "outputs": [
    {
     "name": "stdout",
     "output_type": "stream",
     "text": [
      "Model trained in 13.39 seconds\n"
     ]
    }
   ],
   "source": [
    "input_file = 'dbpedia.train'\n",
    "output = 'classifier'\n",
    "test_file = 'dbpedia.test'\n",
    "\n",
    "# set params\n",
    "dim=10\n",
    "lr=0.1\n",
    "epoch=5\n",
    "min_count=1\n",
    "word_ngrams=2\n",
    "bucket=10000000\n",
    "thread=4\n",
    "silent=1\n",
    "label_prefix='__label__'\n",
    "\n",
    "# Train the classifier\n",
    "t0 = time()\n",
    "classifier = ft.supervised(input_file, output, dim=dim, lr=lr, epoch=epoch,\n",
    "    min_count=min_count, word_ngrams=word_ngrams, bucket=bucket,\n",
    "    thread=thread, silent=silent, label_prefix=label_prefix)\n",
    "t1 = time() - t0\n",
    "print(\"Model trained in %s seconds\" % round(t1, 3))"
   ]
  },
  {
   "cell_type": "code",
   "execution_count": 10,
   "metadata": {},
   "outputs": [
    {
     "name": "stdout",
     "output_type": "stream",
     "text": [
      "Precision at one:  0.9844\n",
      "Recall at one:  0.9844\n",
      "Number of examples: 70000\n",
      "Model tested in 4.258 seconds\n"
     ]
    }
   ],
   "source": [
    "# Test the classifier\n",
    "t0 = time()\n",
    "result = classifier.test(test_file)\n",
    "print('Precision at one: ', result.precision)\n",
    "print('Recall at one: ', result.recall)\n",
    "print('Number of examples:', result.nexamples)\n",
    "t1 = time() - t0\n",
    "scores_timings[1][0] = result.precision\n",
    "scores_timings[1][1] = t1\n",
    "print(\"Model tested in %s seconds\" % round(t1, 3))"
   ]
  },
  {
   "cell_type": "code",
   "execution_count": 11,
   "metadata": {},
   "outputs": [
    {
     "name": "stdout",
     "output_type": "stream",
     "text": [
      "[['2', '7', '4']]\n"
     ]
    }
   ],
   "source": [
    "# Predict some text\n",
    "# (Example text is from dbpedia.train)\n",
    "texts = [\"birchas chaim , yeshiva birchas chaim is a orthodox jewish mesivta high school in lakewood township new jersey . it was founded by rabbi shmuel zalmen stein in 2001 after his father rabbi chaim stein asked him to open a branch of telshe yeshiva in lakewood . as of the 2009-10 school year the school had an enrollment of 76 students and 6 . 6 classroom teachers ( on a fte basis ) for a student–teacher ratio of 11 . 5 1 .\"]\n",
    "# k is number of predicted label\n",
    "labels = classifier.predict(texts, k=3)\n",
    "print(labels)"
   ]
  },
  {
   "cell_type": "markdown",
   "metadata": {},
   "source": [
    "---"
   ]
  },
  {
   "cell_type": "markdown",
   "metadata": {},
   "source": [
    "# Results"
   ]
  },
  {
   "cell_type": "code",
   "execution_count": 12,
   "metadata": {},
   "outputs": [
    {
     "data": {
      "image/png": "[encoded data removed]",
      "text/plain": [
       "<Figure size 1080x360 with 1 Axes>"
      ]
     },
     "metadata": {
      "needs_background": "light"
     },
     "output_type": "display_data"
    }
   ],
   "source": [
    "X = ['TensorFlow', 'fastText']\n",
    "Y = [scores_timings[0][1],scores_timings[1][1]]\n",
    "fig = plt.figure(figsize=(15,5))\n",
    "fig.suptitle('Operating speed', fontsize=14, fontweight='bold')\n",
    "\n",
    "width = .35\n",
    "ind = np.arange(len(Y))\n",
    "plt.bar(ind, Y, width=width)\n",
    "plt.xticks(ind + width / 2, X)\n",
    "    \n",
    "fig.autofmt_xdate()"
   ]
  },
  {
   "cell_type": "code",
   "execution_count": 13,
   "metadata": {},
   "outputs": [
    {
     "data": {
      "image/png": "[encoded data removed]",
      "text/plain": [
       "<Figure size 1080x360 with 1 Axes>"
      ]
     },
     "metadata": {
      "needs_background": "light"
     },
     "output_type": "display_data"
    }
   ],
   "source": [
    "X = ['TensorFlow', 'fastText']\n",
    "Y = [scores_timings[0][0], scores_timings[1][0]]\n",
    "fig = plt.figure(figsize=(15,5))\n",
    "fig.suptitle('Accuracy', fontsize=14, fontweight='bold')\n",
    "\n",
    "width = .35\n",
    "ind = np.arange(len(Y))\n",
    "plt.bar(ind, Y, width=width)\n",
    "plt.xticks(ind + width / 2, X)\n",
    "    \n",
    "fig.autofmt_xdate()"
   ]
  },
  {
   "cell_type": "markdown",
   "metadata": {},
   "source": [
    "**What we see:**\n",
    "\n",
    "* fastText works much faster than TensorFlow and has better accuracy.\n",
    "\n",
    "* fastText can predict label by text"
   ]
  },
  {
   "cell_type": "code",
   "execution_count": null,
   "metadata": {
    "collapsed": true
   },
   "outputs": [],
   "source": []
  }
 ],
 "metadata": {
  "anaconda-cloud": {},
  "kernelspec": {
   "display_name": "Python 3",
   "language": "python",
   "name": "python3"
  },
  "language_info": {
   "codemirror_mode": {
    "name": "ipython",
    "version": 3
   },
   "file_extension": ".py",
   "mimetype": "text/x-python",
   "name": "python",
   "nbconvert_exporter": "python",
   "pygments_lexer": "ipython3",
   "version": "3.6.7"
  }
 },
 "nbformat": 4,
 "nbformat_minor": 1
}
