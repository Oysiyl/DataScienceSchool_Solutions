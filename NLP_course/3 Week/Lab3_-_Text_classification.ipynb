{
 "cells": [
  {
   "cell_type": "markdown",
   "metadata": {},
   "source": [
    "<h1 align=\"center\">Lab 3. Text classification</h1>\n",
    "\n",
    "<hr>\n",
    "\n",
    "Classification of text documents is a task automatically detect the document in one or more categories based on the content of the document. Currently we are dealing with an ever-increasing volume of processed and stored information, making the task of classification is very popular. The use of qualifiers, you can restrict the search for necessary information on the small subset of documents.\n",
    "In addition to narrowing the field of search engines by searching the classification problem has practical applications in the following areas:\n",
    "- Spam filter;\n",
    "- Preparation of thematic catalogs;\n",
    "- contextual advertising;\n",
    "- Document management system;\n",
    "- Automatic translation of texts."
   ]
  },
  {
   "cell_type": "markdown",
   "metadata": {},
   "source": [
    "Consider the problem of text classification on the example of Brown Corpus. The Brown Corpus was the first million-word electronic corpus of English, created in 1961 at Brown University. This corpus contains text from 500 sources, and the sources have been categorized by genre, such as news, editorial...\n"
   ]
  },
  {
   "cell_type": "markdown",
   "metadata": {},
   "source": [
    "The corpus originally (1961) contained 1,014,312 words sampled from 15 text categories:\n",
    "- A. PRESS: Reportage `(44 texts)`\n",
    "\t- Political\n",
    "\t- Sports\n",
    "\t- Society\n",
    "\t- Spot News\n",
    "\t- Financial\n",
    "\t- Cultural\n",
    "- B. PRESS: Editorial `(27 texts)`\n",
    "\t- Institutional Daily\n",
    "\t- Personal\n",
    "\t- Letters to the Editor\n",
    "- C. PRESS: Reviews `(17 texts)`\n",
    "\t- theatre\n",
    "\t- books\n",
    "\t- music\n",
    "\t- dance\n",
    "- D. RELIGION `(17 texts)`\n",
    "\t- Books\n",
    "\t- Periodicals\n",
    "\t- Tracts\n",
    "- E. SKILL AND HOBBIES `(36 texts)`\n",
    "\t- Books\n",
    "\t- Periodicals\n",
    "- F. POPULAR LORE `(48 texts)`\n",
    "\t- Books\n",
    "\t- Periodicals\n",
    "- G. BELLES-LETTRES - Biography, Memoirs, etc. `(75 texts)`\n",
    "\t- Books\n",
    "\t- Periodicals\n",
    "- H. MISCELLANEOUS: US Government & House Organs `(30 texts)`\n",
    "\t- Government Documents\n",
    "\t- Foundation Reports\n",
    "\t- Industry Reports\n",
    "\t- College Catalog\n",
    "\t- Industry House organ\n",
    "- J. LEARNED `(80 texts)`\n",
    "\t- Natural Sciences\n",
    "\t- Medicine\n",
    "\t- Mathematics\n",
    "\t- Social and Behavioral Sciences\n",
    "\t- Political Science, Law, Education\n",
    "\t- Humanities\n",
    "\t- Technology and Engineering\n",
    "- K. FICTION: General `(29 texts)`\n",
    "\t- Novels\n",
    "\t- Short Stories\n",
    "- L. FICTION: Mystery and Detective Fiction `(24 texts)`\n",
    "\t- Novels\n",
    "\t- Short Stories\n",
    "- M. FICTION: Science `(6 texts)`\n",
    "\t- Novels\n",
    "\t- Short Stories\n",
    "- N. FICTION: Adventure and Western `(29 texts)`\n",
    "\t- Novels\n",
    "\t- Short Stories\n",
    "- P. FICTION: Romance and Love Story `(29 texts)`\n",
    "\t- Novels\n",
    "\t- Short Stories\n",
    "- R. HUMOR `(9 texts)`\n",
    "\t- Novels\n",
    "\t- Essays, etc.\n",
    "\n"
   ]
  },
  {
   "cell_type": "markdown",
   "metadata": {},
   "source": [
    "## 1. Text cleaning"
   ]
  },
  {
   "cell_type": "markdown",
   "metadata": {},
   "source": [
    "First, we load to 29 texts each of the four categories of ` 'learned', 'fiction', 'news',' adventure'` in dictionary `text_by_categories`."
   ]
  },
  {
   "cell_type": "code",
   "execution_count": 88,
   "metadata": {},
   "outputs": [],
   "source": [
    "from nltk.corpus import brown"
   ]
  },
  {
   "cell_type": "code",
   "execution_count": 89,
   "metadata": {},
   "outputs": [],
   "source": [
    "text_categories = ['learned','fiction','news','adventure']"
   ]
  },
  {
   "cell_type": "code",
   "execution_count": 90,
   "metadata": {},
   "outputs": [],
   "source": [
    "text_fileids_by_categories = dict()\n",
    "\n",
    "for categories in text_categories:\n",
    "    text_fileids_by_categories[categories] = brown.fileids(categories=categories)[:29]"
   ]
  },
  {
   "cell_type": "code",
   "execution_count": 91,
   "metadata": {
    "scrolled": true
   },
   "outputs": [
    {
     "name": "stdout",
     "output_type": "stream",
     "text": [
      "['Dan', 'Morgan', 'told', 'himself', 'he', 'would', 'forget', 'Ann', 'Turner', '.', 'He', 'was', 'well', 'rid', 'of', 'her', '.', 'He', 'certainly', \"didn't\"]\n"
     ]
    }
   ],
   "source": [
    "text_by_categories = dict()\n",
    "\n",
    "for categories in text_fileids_by_categories.keys():\n",
    "    text_by_categories[categories] = []\n",
    "    \n",
    "    for fileids in text_fileids_by_categories[categories]:\n",
    "        text_by_categories[categories].append(brown.words(fileids=fileids))\n",
    "        \n",
    "print (text_by_categories['adventure'][0][:20])"
   ]
  },
  {
   "cell_type": "markdown",
   "metadata": {},
   "source": [
    "We have the text is split per words, but it has a lot of debris that could interfere in the further work. Using methods known to us from previous labs clear the text.\n",
    "\n",
    "Use regular expressions, select the word consisting only of letters, numbers and characters ` '-`, words begin with a letter and consist of more than one character:"
   ]
  },
  {
   "cell_type": "code",
   "execution_count": 92,
   "metadata": {},
   "outputs": [
    {
     "name": "stdout",
     "output_type": "stream",
     "text": [
      "['dan', 'morgan', 'told', 'himself', 'he', 'would', 'forget', 'ann', 'turner', 'he', 'was', 'well', 'rid', 'of', 'her', 'he', 'certainly', \"didn't\", 'want', 'wife']\n"
     ]
    }
   ],
   "source": [
    "import re\n",
    "\n",
    "for categories in text_by_categories.keys():\n",
    "    \n",
    "    for i in range(len(text_by_categories[categories])):\n",
    "        text_by_categories[categories][i] = [w.lower() for w in text_by_categories[categories][i] \n",
    "                                             if re.match('^[A-Za-z]+[\\'\\-0-9A-Za-z]+$',w)]\n",
    "\n",
    "print (text_by_categories['adventure'][0][:20])"
   ]
  },
  {
   "cell_type": "markdown",
   "metadata": {},
   "source": [
    "Also remove all stop words from the text:"
   ]
  },
  {
   "cell_type": "code",
   "execution_count": 93,
   "metadata": {},
   "outputs": [
    {
     "name": "stdout",
     "output_type": "stream",
     "text": [
      "['dan', 'morgan', 'told', 'would', 'forget', 'ann', 'turner', 'well', 'rid', 'certainly', 'want', 'wife', 'fickle', 'ann', 'married', \"he'd\", 'asking', 'trouble', 'rationalization', 'sometimes']\n"
     ]
    }
   ],
   "source": [
    "from nltk.corpus import stopwords\n",
    "stop_words = stopwords.words('english')\n",
    "\n",
    "for categories in text_by_categories.keys():\n",
    "    for i in range(len(text_by_categories[categories])):\n",
    "        text_by_categories[categories][i] = [w for w in text_by_categories[categories][i] if not(w in stop_words)]\n",
    "        \n",
    "print (text_by_categories['adventure'][0][:20])"
   ]
  },
  {
   "cell_type": "markdown",
   "metadata": {},
   "source": [
    "Also, do the normalization of words:"
   ]
  },
  {
   "cell_type": "code",
   "execution_count": 94,
   "metadata": {},
   "outputs": [
    {
     "name": "stdout",
     "output_type": "stream",
     "text": [
      "['dan', 'morgan', 'tell', 'would', 'forget', 'ann', 'turner', 'well', 'rid', 'certain', 'want', 'wife', 'fickl', 'ann', 'marri', \"he'd\", 'ask', 'troubl', 'ration', 'sometim']\n"
     ]
    }
   ],
   "source": [
    "from nltk.corpus import wordnet\n",
    "from nltk.stem import WordNetLemmatizer\n",
    "from nltk.stem import SnowballStemmer\n",
    "\n",
    "lemmatizer = WordNetLemmatizer()\n",
    "snowball_stemmer = SnowballStemmer(\"english\")\n",
    "\n",
    "for categories in text_by_categories.keys():\n",
    "    for i in range(len(text_by_categories[categories])):\n",
    "        text_by_categories[categories][i] = [snowball_stemmer.stem(lemmatizer.lemmatize(w,wordnet.VERB)) for w in \n",
    "                                             text_by_categories[categories][i]]\n",
    "print (text_by_categories['adventure'][0][:20])"
   ]
  },
  {
   "cell_type": "markdown",
   "metadata": {},
   "source": [
    "> ### Exercise  1\n",
    "Load first two texts from `brown` corpus from category `science_fiction`. Clean these texts and save to variable `result` as list of lists of words."
   ]
  },
  {
   "cell_type": "code",
   "execution_count": 95,
   "metadata": {},
   "outputs": [
    {
     "name": "stdout",
     "output_type": "stream",
     "text": [
      "['know', 'self', 'free', 'grok', 'ever', 'closer', 'brother', 'merg', 'without', 'let', 'self', 'integr', 'ever', 'mike', 'stop', 'cherish', 'brother', 'selv', 'mani', 'threes-fulfil']\n"
     ]
    }
   ],
   "source": [
    "from nltk.corpus import brown\n",
    "\n",
    "text_categories = ['science_fiction']\n",
    "\n",
    "text_fileids_by_categories2 = dict()\n",
    "\n",
    "for categories in text_categories:\n",
    "    text_fileids_by_categories2[categories] = brown.fileids(categories=categories)[:2]\n",
    "\n",
    "text_by_categories2 = dict()\n",
    "\n",
    "for categories in text_fileids_by_categories2.keys():\n",
    "    text_by_categories2[categories] = []\n",
    "    \n",
    "    for fileids in text_fileids_by_categories2[categories]:\n",
    "        text_by_categories2[categories].append(brown.words(fileids=fileids))\n",
    "\n",
    "import re\n",
    "\n",
    "for categories in text_by_categories2.keys():\n",
    "    \n",
    "    for i in range(len(text_by_categories2[categories])):\n",
    "        text_by_categories2[categories][i] = [w.lower() for w in text_by_categories2[categories][i] \n",
    "                                             if re.match('[A-Za-z]',w)]\n",
    "\n",
    "from nltk.corpus import stopwords\n",
    "stop_words = stopwords.words('english')\n",
    "\n",
    "for categories in text_by_categories2.keys():\n",
    "    for i in range(len(text_by_categories2[categories])):\n",
    "        text_by_categories2[categories][i] = [w for w in text_by_categories2[categories][i] if not(w in stop_words)]\n",
    "        \n",
    "from nltk.corpus import wordnet\n",
    "from nltk.stem import WordNetLemmatizer\n",
    "from nltk.stem import SnowballStemmer\n",
    "\n",
    "lemmatizer = WordNetLemmatizer()\n",
    "snowball_stemmer = SnowballStemmer(\"english\")\n",
    "\n",
    "for categories in text_by_categories2.keys():\n",
    "    for i in range(len(text_by_categories2[categories])):\n",
    "        text_by_categories2[categories][i] = [snowball_stemmer.stem(lemmatizer.lemmatize(w,wordnet.VERB)) for w in \n",
    "                                             text_by_categories2[categories][i]]\n",
    "\n",
    "result = text_by_categories2\n",
    "\n",
    "print (result['science_fiction'][0][:20])"
   ]
  },
  {
   "cell_type": "code",
   "execution_count": null,
   "metadata": {},
   "outputs": [],
   "source": [
    "Test.assertEqualsHashed(result, '0a7c1d3741d28216f0547a150c36dc901175ea7c', 'Incorrect data', \"Exercise 1 is successful\")"
   ]
  },
  {
   "cell_type": "markdown",
   "metadata": {},
   "source": [
    "## 2. Features extraction\n",
    "\n",
    "Feature extraction is transforming arbitrary data, such as text or images, into numerical features usable for machine\n",
    "learning. The latter is a machine learning technique applied on these features.\n",
    "<img src=\"http://www.nltk.org/images/supervised-classification.png\">\n",
    "\n",
    "For this purpose, there's very useful library <a href=\"http://scikit-learn.org/stable/index.html\">scikit-learn</a>. Consider how Features extraction works."
   ]
  },
  {
   "cell_type": "markdown",
   "metadata": {
    "collapsed": true
   },
   "source": [
    "#### Loading features from dicts \n",
    "DictVectorizer implements what is called one-of-K or “one-hot”\n",
    "coding for categorical (aka nominal, discrete) features."
   ]
  },
  {
   "cell_type": "code",
   "execution_count": 21,
   "metadata": {},
   "outputs": [],
   "source": [
    "from sklearn.feature_extraction import DictVectorizer"
   ]
  },
  {
   "cell_type": "markdown",
   "metadata": {},
   "source": [
    "DictVectorizer is a useful representation transformation for training sequence classifiers in Natural Language Processing models that typically work by extracting feature windows around a particular word of interest.\n",
    "\n",
    "\n",
    "For example, we have extracts Part of Speech (PoS) tags that we want to use as complementary tags for training a sequence classifier (e.g. a chunker). The following dict could be such a window of features extracted around the word `patrol` in the sentences from corpus brown <pre>\n",
    "Fleischman with eight was to patrol the Leyte Gulf area, with his main task to get any kamikaze before they got to the ships. Greg himself took two flights, with Todman leading the second, to patrol and look for targets of opportunities around Ormoc on the east coast of Leyte.\n",
    "</pre>"
   ]
  },
  {
   "cell_type": "code",
   "execution_count": 23,
   "metadata": {},
   "outputs": [
    {
     "name": "stdout",
     "output_type": "stream",
     "text": [
      "[('Fleischman', 'NP'), ('with', 'IN'), ('eight', 'CD'), ('was', 'BEDZ'), ('to', 'TO'), ('patrol', 'VB'), ('the', 'AT'), ('Leyte', 'NP-TL'), ('Gulf', 'NN-TL'), ('area', 'NN'), (',', ','), ('with', 'IN'), ('his', 'PP$'), ('main', 'JJS'), ('task', 'NN'), ('to', 'TO'), ('get', 'VB'), ('any', 'DTI'), ('kamikaze', 'FW-NNS'), ('before', 'CS'), ('they', 'PPSS'), ('got', 'VBD'), ('to', 'IN'), ('the', 'AT'), ('ships', 'NNS')]\n",
      "[('Greg', 'NP'), ('himself', 'PPL'), ('took', 'VBD'), ('two', 'CD'), ('flights', 'NNS'), (',', ','), ('with', 'IN'), ('Todman', 'NP'), ('leading', 'VBG'), ('the', 'AT'), ('second', 'OD'), (',', ','), ('to', 'TO'), ('patrol', 'VB'), ('and', 'CC'), ('look', 'VB'), ('for', 'IN'), ('targets', 'NNS'), ('of', 'IN'), ('opportunities', 'NNS'), ('around', 'IN'), ('Ormoc', 'NP'), ('on', 'IN'), ('the', 'AT'), ('east', 'JJ'), ('coast', 'NN'), ('of', 'IN'), ('Leyte', 'NP')]\n"
     ]
    }
   ],
   "source": [
    "s1 = brown.tagged_words(fileids='cn15')[67:92]\n",
    "s2 = brown.tagged_words(fileids='cn15')[93:121]\n",
    "print (s1)\n",
    "print (s2)"
   ]
  },
  {
   "cell_type": "code",
   "execution_count": 24,
   "metadata": {},
   "outputs": [],
   "source": [
    "pos_window = [\n",
    "     {\n",
    "         'word-2': 'was',\n",
    "         'pos-2': 'BEDZ',\n",
    "         'word-1': 'to',\n",
    "         'pos-1': 'TO',\n",
    "         'word+1': 'the',\n",
    "         'pos+1': 'AT',\n",
    "     },\n",
    "    {\n",
    "         'word-2': ',',\n",
    "         'pos-2': ',',\n",
    "         'word-1': 'to',\n",
    "         'pos-1': 'TO',\n",
    "         'word+1': 'and',\n",
    "         'pos+1': 'CC',\n",
    "     },\n",
    "     # in a real application one would extract many such dictionaries\n",
    "]"
   ]
  },
  {
   "cell_type": "markdown",
   "metadata": {},
   "source": [
    "This description can be vectorized into a sparse two-dimensional matrix suitable for feeding into a classifier"
   ]
  },
  {
   "cell_type": "code",
   "execution_count": 25,
   "metadata": {},
   "outputs": [
    {
     "data": {
      "text/plain": [
       "array([[1., 0., 1., 0., 1., 0., 1., 1., 0., 1.],\n",
       "       [0., 1., 1., 1., 0., 1., 0., 1., 1., 0.]])"
      ]
     },
     "execution_count": 25,
     "metadata": {},
     "output_type": "execute_result"
    }
   ],
   "source": [
    "vec = DictVectorizer()\n",
    "vec.fit_transform(pos_window).toarray()"
   ]
  },
  {
   "cell_type": "code",
   "execution_count": 26,
   "metadata": {},
   "outputs": [
    {
     "name": "stdout",
     "output_type": "stream",
     "text": [
      "['pos+1=AT', 'pos+1=CC', 'pos-1=TO', 'pos-2=,', 'pos-2=BEDZ', 'word+1=and', 'word+1=the', 'word-1=to', 'word-2=,', 'word-2=was']\n"
     ]
    }
   ],
   "source": [
    "print (vec.get_feature_names())"
   ]
  },
  {
   "cell_type": "markdown",
   "metadata": {},
   "source": [
    "#### Feature hashing\n",
    "\n",
    "FeatureHasher apply a hash function to the features to\n",
    "determine their column index in sample matrices directly."
   ]
  },
  {
   "cell_type": "code",
   "execution_count": 27,
   "metadata": {},
   "outputs": [],
   "source": [
    "from sklearn.feature_extraction import FeatureHasher\n",
    "import nltk"
   ]
  },
  {
   "cell_type": "code",
   "execution_count": 28,
   "metadata": {},
   "outputs": [
    {
     "data": {
      "text/plain": [
       "['Fleischman with eight was to patrol the Leyte Gulf area, with his main task to get any kamikaze before they got tothe ships',\n",
       " 'Greg himself took two flights, with Todman leading the second, to patrol and look for targets of opportunities aroundOrmoc on the east coast of Leyte']"
      ]
     },
     "execution_count": 28,
     "metadata": {},
     "output_type": "execute_result"
    }
   ],
   "source": [
    "raw_data = ['Fleischman with eight was to patrol the Leyte Gulf area, with his main task to get any kamikaze before they got to\\\n",
    "the ships', 'Greg himself took two flights, with Todman leading the second, to patrol and look for targets of opportunities around\\\n",
    "Ormoc on the east coast of Leyte']\n",
    "raw_data"
   ]
  },
  {
   "cell_type": "code",
   "execution_count": 31,
   "metadata": {},
   "outputs": [
    {
     "name": "stdout",
     "output_type": "stream",
     "text": [
      "[FreqDist({'with': 2, 'to': 2, 'Fleischman': 1, 'eight': 1, 'was': 1, 'patrol': 1, 'the': 1, 'Leyte': 1, 'Gulf': 1, 'area,': 1, ...}), FreqDist({'the': 2, 'of': 2, 'Greg': 1, 'himself': 1, 'took': 1, 'two': 1, 'flights,': 1, 'with': 1, 'Todman': 1, 'leading': 1, ...})]\n"
     ]
    }
   ],
   "source": [
    "freq = [nltk.FreqDist(w.split()) for w in raw_data]\n",
    "print(freq)"
   ]
  },
  {
   "cell_type": "code",
   "execution_count": 32,
   "metadata": {},
   "outputs": [
    {
     "data": {
      "text/plain": [
       "array([[-4.,  3.,  0., -2.,  4.],\n",
       "       [ 0.,  3.,  1., -1.,  0.]])"
      ]
     },
     "execution_count": 32,
     "metadata": {},
     "output_type": "execute_result"
    }
   ],
   "source": [
    "hasher = FeatureHasher(n_features=5)\n",
    "\n",
    "X = hasher.transform(freq)\n",
    "X.toarray()"
   ]
  },
  {
   "cell_type": "markdown",
   "metadata": {},
   "source": [
    "### The Bag of Words representation\n",
    "\n",
    "The bag-of-words model is a simplifying representation used in natural language processing and information retrieval (IR). In this model, a text (such as a sentence or a document) is represented as the bag (multiset) of its words, disregarding grammar and even word order but keeping multiplicity.\n",
    "\n",
    "Bag of Words is specific strategy for features extraction,\n",
    "which includes:\n",
    "- tokenizing strings and giving an integer id for each possible token, for instance by using white-spaces and punctuation as token separators.\n",
    "- counting the occurrences of tokens in each document. \n",
    "- normalizing and weighting with diminishing importance tokens that occur in the majority of samples / documents."
   ]
  },
  {
   "cell_type": "markdown",
   "metadata": {},
   "source": [
    "####  Common Vectorizer usage\n",
    "CountVectorizer implements both tokenization and occurrence counting in a single class"
   ]
  },
  {
   "cell_type": "code",
   "execution_count": 33,
   "metadata": {},
   "outputs": [],
   "source": [
    "from sklearn.feature_extraction.text import CountVectorizer"
   ]
  },
  {
   "cell_type": "markdown",
   "metadata": {},
   "source": [
    "This model has many parameters, however the default values are quite reasonable (please see the reference documentation for the details):"
   ]
  },
  {
   "cell_type": "code",
   "execution_count": 34,
   "metadata": {},
   "outputs": [
    {
     "data": {
      "text/plain": [
       "CountVectorizer(analyzer='word', binary=False, decode_error='strict',\n",
       "        dtype=<class 'numpy.int64'>, encoding='utf-8', input='content',\n",
       "        lowercase=True, max_df=1.0, max_features=None, min_df=1,\n",
       "        ngram_range=(1, 1), preprocessor=None, stop_words=None,\n",
       "        strip_accents=None, token_pattern='(?u)\\\\b\\\\w\\\\w+\\\\b',\n",
       "        tokenizer=None, vocabulary=None)"
      ]
     },
     "execution_count": 34,
     "metadata": {},
     "output_type": "execute_result"
    }
   ],
   "source": [
    "vectorizer = CountVectorizer(min_df=1)\n",
    "vectorizer                     "
   ]
  },
  {
   "cell_type": "markdown",
   "metadata": {},
   "source": [
    "Let’s use it to tokenize and count the word occurrences of a minimalistic corpus of text documents:"
   ]
  },
  {
   "cell_type": "code",
   "execution_count": 35,
   "metadata": {},
   "outputs": [
    {
     "name": "stdout",
     "output_type": "stream",
     "text": [
      "[[0 1 1 0 1 0 0 1 1 0 0 1 1 0 1 0 1 1 0 1 0 1 0 0 0 1 0 1 0 1 1 1 2 0 0 1\n",
      "  0 1 2]\n",
      " [1 0 0 1 0 1 1 0 0 1 1 0 0 1 0 1 0 0 1 1 1 0 2 1 1 1 1 0 1 0 2 0 1 1 1 0\n",
      "  1 0 1]]\n"
     ]
    }
   ],
   "source": [
    "corpus = [\n",
    "    'Fleischman with eight was to patrol the Leyte Gulf area, with his main task to get any kamikaze before they got tothe ships',\n",
    "     'Greg himself took two flights, with Todman leading the second, to patrol and look for targets of opportunities aroundOrmoc \\\n",
    "     on the east coast of Leyte'\n",
    "]\n",
    "X = vectorizer.fit_transform(corpus)\n",
    "print (X.toarray())          "
   ]
  },
  {
   "cell_type": "markdown",
   "metadata": {},
   "source": [
    "The default configuration tokenizes the string by extracting words of at least 2 letters. Each term found by the analyzer during the fit is assigned a unique integer index corresponding to a column in the resulting matrix.The converse mapping from feature name to column index is stored in the `vocabulary_` attribute of the vectorizer:"
   ]
  },
  {
   "cell_type": "code",
   "execution_count": 36,
   "metadata": {},
   "outputs": [
    {
     "data": {
      "text/plain": [
       "9"
      ]
     },
     "execution_count": 36,
     "metadata": {},
     "output_type": "execute_result"
    }
   ],
   "source": [
    "vectorizer.vocabulary_.get('flights')"
   ]
  },
  {
   "cell_type": "markdown",
   "metadata": {},
   "source": [
    "Hence words that were not seen in the training corpus will be completely ignored in future calls to the transform method:\n"
   ]
  },
  {
   "cell_type": "code",
   "execution_count": 37,
   "metadata": {},
   "outputs": [
    {
     "data": {
      "text/plain": [
       "array([[0, 0, 0, 0, 0, 0, 0, 0, 0, 0, 0, 0, 0, 0, 0, 0, 0, 0, 0, 0, 0, 0,\n",
       "        0, 0, 0, 0, 0, 0, 0, 0, 0, 0, 0, 0, 0, 0, 0, 0, 0]])"
      ]
     },
     "execution_count": 37,
     "metadata": {},
     "output_type": "execute_result"
    }
   ],
   "source": [
    "vectorizer.transform(['New words']).toarray()"
   ]
  },
  {
   "cell_type": "markdown",
   "metadata": {},
   "source": [
    "#### Vectorizer: n-grams\n",
    "\n",
    "To preserve some of the local ordering information we can\n",
    "extract 2-grams of words in addition to the 1-grams (individual\n",
    "words)"
   ]
  },
  {
   "cell_type": "code",
   "execution_count": 38,
   "metadata": {},
   "outputs": [
    {
     "data": {
      "text/plain": [
       "True"
      ]
     },
     "execution_count": 38,
     "metadata": {},
     "output_type": "execute_result"
    }
   ],
   "source": [
    "bigram_vectorizer = CountVectorizer(ngram_range=(1, 2),\n",
    "                                     token_pattern=r'\\b\\w+\\b', min_df=1)\n",
    "analyze = bigram_vectorizer.build_analyzer()\n",
    "\n",
    "analyze('Bi-grams are cool!') == (\n",
    "     ['bi', 'grams', 'are', 'cool', 'bi grams', 'grams are', 'are cool'])"
   ]
  },
  {
   "cell_type": "markdown",
   "metadata": {},
   "source": [
    "The vocabulary extracted by this vectorizer is hence much bigger and can now resolve ambiguities encoded in local positioning patterns:"
   ]
  },
  {
   "cell_type": "code",
   "execution_count": 39,
   "metadata": {},
   "outputs": [
    {
     "data": {
      "text/plain": [
       "array([[0, 0, 1, 1, 1, 1, 0, 0, 1, 1, 0, 0, 0, 0, 1, 1, 1, 1, 0, 0, 0, 0,\n",
       "        1, 1, 1, 1, 0, 0, 1, 1, 0, 0, 1, 1, 1, 1, 0, 0, 1, 1, 0, 0, 1, 1,\n",
       "        0, 0, 0, 0, 0, 0, 0, 1, 0, 1, 0, 0, 1, 0, 0, 1, 1, 1, 0, 1, 0, 1,\n",
       "        1, 2, 1, 1, 0, 0, 0, 0, 1, 1, 0, 0, 1, 1, 2, 1, 1, 0],\n",
       "       [1, 1, 0, 0, 0, 0, 1, 1, 0, 0, 1, 1, 1, 1, 0, 0, 0, 0, 1, 1, 1, 1,\n",
       "        0, 0, 0, 0, 1, 1, 0, 0, 1, 1, 0, 0, 0, 0, 1, 1, 1, 0, 1, 1, 0, 0,\n",
       "        2, 1, 1, 1, 1, 1, 1, 1, 1, 0, 1, 1, 0, 1, 1, 0, 0, 2, 1, 0, 1, 0,\n",
       "        0, 1, 0, 1, 1, 1, 1, 1, 0, 0, 1, 1, 0, 0, 1, 0, 0, 1]],\n",
       "      dtype=int64)"
      ]
     },
     "execution_count": 39,
     "metadata": {},
     "output_type": "execute_result"
    }
   ],
   "source": [
    "X_2 = bigram_vectorizer.fit_transform(corpus).toarray()\n",
    "X_2"
   ]
  },
  {
   "cell_type": "markdown",
   "metadata": {},
   "source": [
    "In particular `look for` is only present in the last document:"
   ]
  },
  {
   "cell_type": "code",
   "execution_count": 40,
   "metadata": {},
   "outputs": [
    {
     "data": {
      "text/plain": [
       "array([0, 1], dtype=int64)"
      ]
     },
     "execution_count": 40,
     "metadata": {},
     "output_type": "execute_result"
    }
   ],
   "source": [
    "feature_index = bigram_vectorizer.vocabulary_.get('look for')\n",
    "X_2[:, feature_index]     "
   ]
  },
  {
   "cell_type": "markdown",
   "metadata": {},
   "source": [
    "#### TF-IDF \n",
    "Here, I define term frequency-inverse document frequency (tf-idf) vectorizer parameters and then convert the synopses list into a tf-idf matrix.\n",
    "To get a Tf-idf matrix, first count word occurrences by document. This is transformed into a document-term matrix (dtm). This is also just called a term frequency matrix. An example of a dtm is here at right.\n",
    "Then apply the term frequency-inverse document frequency weighting: words that occur frequently within a document but not frequently within the corpus receive a higher weighting as these words are assumed to contain more meaning in relation to the document.\n",
    "<p><b>TF</b> - the ratio of the number of occurrences of a word to the total number of words in a document. Thus, it estimated the importance of the word t<sub>i</sub> within a single document.</p>\n",
    "<p align=\"center\"><img src=\"https://upload.wikimedia.org/math/a/f/c/afcade8c6e040203a292c8ca784fa3f3.png\" /></p>\n",
    "<p><b>IDF</b> - inversion of frequency with which a word occurs in the collection of documents.</p>\n",
    "<p align=\"center\"><img src=\"https://upload.wikimedia.org/math/2/e/f/2efa9d28f89ae3b738ea2c90eaad44cd.png\" /></p>\n",
    "<p>Calculation on the above formulas already implemented in sklearn.feature_extraction.tekst module in functions TfidfVectorizer</p>\n",
    "\n",
    "<img src=\"http://www.jiem.org/index.php/jiem/article/viewFile/293/252/2402\">\n",
    "\n",
    "A couple things to note about the parameters I define below:\n",
    "- max_df: this is the maximum frequency within the documents a given feature can have to be used in the tfi-idf matrix. If the term is in greater than 80% of the documents it probably cares little meanining (in the context of film synopses)\n",
    "- min_idf: this could be an integer (e.g. 5) and the term would have to be in at least 5 of the documents to be considered. Here I pass 0.2; the term must be in at least 20% of the document. I found that if I allowed a lower min_df I ended up basing clustering on names--for example \"Michael\" or \"Tom\" are names found in several of the movies and the synopses use these names frequently, but the names carry no real meaning.\n",
    "- ngram_range: this just means I'll look at unigrams, bigrams and trigrams. See n-grams\n",
    "\n",
    "\n"
   ]
  },
  {
   "cell_type": "code",
   "execution_count": 41,
   "metadata": {},
   "outputs": [],
   "source": [
    "from sklearn.feature_extraction.text import TfidfVectorizer"
   ]
  },
  {
   "cell_type": "markdown",
   "metadata": {},
   "source": [
    "Let's see the most important words in the texts with the theme `adventure`"
   ]
  },
  {
   "cell_type": "markdown",
   "metadata": {},
   "source": [
    "We have the text is divided into words, perform an inverse transform"
   ]
  },
  {
   "cell_type": "code",
   "execution_count": 49,
   "metadata": {},
   "outputs": [],
   "source": [
    "adventure = []\n",
    "for i in text_by_categories['adventure']:\n",
    "    adventure.append(' '.join(i))"
   ]
  },
  {
   "cell_type": "markdown",
   "metadata": {},
   "source": [
    "Also, create a function that correctly tells vectorizer decomposition into words"
   ]
  },
  {
   "cell_type": "code",
   "execution_count": 50,
   "metadata": {},
   "outputs": [],
   "source": [
    "def tokenize(text):\n",
    "    return text.split()"
   ]
  },
  {
   "cell_type": "markdown",
   "metadata": {},
   "source": [
    "We construct a matrix tf-idf"
   ]
  },
  {
   "cell_type": "code",
   "execution_count": 51,
   "metadata": {},
   "outputs": [
    {
     "name": "stdout",
     "output_type": "stream",
     "text": [
      "[[0.         0.         0.         ... 0.         0.         0.        ]\n",
      " [0.         0.         0.         ... 0.         0.         0.        ]\n",
      " [0.05512713 0.         0.         ... 0.         0.         0.        ]\n",
      " ...\n",
      " [0.         0.         0.         ... 0.         0.         0.        ]\n",
      " [0.         0.         0.03604369 ... 0.03892464 0.35032175 0.        ]\n",
      " [0.         0.06238477 0.         ... 0.         0.         0.        ]]\n"
     ]
    }
   ],
   "source": [
    "tfidf_vectorizer = TfidfVectorizer(max_df=0.8, min_df=0.1,use_idf=True, ngram_range=(1,5),tokenizer=tokenize)\n",
    "\n",
    "tfidf_matrix = tfidf_vectorizer.fit_transform(adventure) #fit the vectorizer \n",
    "print (tfidf_matrix.toarray())"
   ]
  },
  {
   "cell_type": "code",
   "execution_count": 53,
   "metadata": {},
   "outputs": [
    {
     "name": "stdout",
     "output_type": "stream",
     "text": [
      "[('girl', 6), ('men', 4), ('valley', 3), ('hors', 3), ('tom', 3)]\n"
     ]
    }
   ],
   "source": [
    "import operator\n",
    "\n",
    "adventure_name = tfidf_vectorizer.get_feature_names() #get all words\n",
    "\n",
    "adventure_all_word = []\n",
    "\n",
    "for i in range(29):\n",
    "    adventure_ws = list(tfidf_matrix[i].toarray()[0]) #get weight words by text\n",
    "    adventure_ws_dict = dict(zip(adventure_name,adventure_ws)) # join with name\n",
    "    adventure_ws_dict = sorted(adventure_ws_dict.items(), key=operator.itemgetter(1),reverse=True) # sort words by weight\n",
    "    adventure_all_word+=dict(adventure_ws_dict[:5]).keys() #get 5 most popular words\n",
    "\n",
    "    \n",
    "print (nltk.FreqDist(adventure_all_word).most_common(5))"
   ]
  },
  {
   "cell_type": "markdown",
   "metadata": {},
   "source": [
    "For comparison, look at simply the look most popular word in the text that have been found with the help of `nltk.FreqDist()`"
   ]
  },
  {
   "cell_type": "code",
   "execution_count": 55,
   "metadata": {},
   "outputs": [
    {
     "name": "stdout",
     "output_type": "stream",
     "text": [
      "[('say', 332), ('go', 213), ('get', 200), ('would', 194), ('man', 194)]\n"
     ]
    }
   ],
   "source": [
    "print (nltk.FreqDist(' '.join(adventure).split()).most_common(5))"
   ]
  },
  {
   "cell_type": "markdown",
   "metadata": {},
   "source": [
    "As you can see, tf-idf allows a much better appreciate the important words in the text"
   ]
  },
  {
   "cell_type": "markdown",
   "metadata": {},
   "source": [
    "> ### Exercise  2\n",
    "Load first two texts from brown corpus from category science_fiction. Clean these texts and calculate tf-idf matrix for them. Save into variable `tfidf_result` (save as array).\n",
    "<br>\n",
    "<br>\n",
    "><i>Example:</i>\n",
    "><pre>array([[ 0.01243508,  0.01243508,  0.01243508, ...,  0.        ,\n",
    "         0.        ,  0.        ],\n",
    "       [ 0.        ,  0.        ,  0.        , ...,  0.01269183,\n",
    "         0.01269183,  0.01269183]])</pre>\n"
   ]
  },
  {
   "cell_type": "code",
   "execution_count": 61,
   "metadata": {},
   "outputs": [
    {
     "name": "stdout",
     "output_type": "stream",
     "text": [
      "[[0.01247566 0.01247566 0.01247566 ... 0.         0.         0.        ]\n",
      " [0.         0.         0.         ... 0.01266533 0.01266533 0.01266533]]\n",
      "[('mike', 1), ('jubal', 1), ('mar', 1), ('brother', 1), ('digbi', 1)]\n",
      "[('would', 43), ('say', 24), ('hal', 24), ('mike', 20), ('one', 15)]\n"
     ]
    }
   ],
   "source": [
    "from sklearn.feature_extraction.text import TfidfVectorizer\n",
    "\n",
    "adventure = []\n",
    "for i in text_by_categories2['science_fiction']:\n",
    "    adventure.append(' '.join(i))\n",
    "\n",
    "def tokenize(text):\n",
    "    return text.split()\n",
    "\n",
    "tfidf_vectorizer = TfidfVectorizer(max_df=0.8, min_df=0.1,use_idf=True, ngram_range=(1,5),tokenizer=tokenize)\n",
    "\n",
    "tfidf_matrix = tfidf_vectorizer.fit_transform(adventure) #fit the vectorizer \n",
    "print (tfidf_matrix.toarray())\n",
    "\n",
    "import operator\n",
    "\n",
    "adventure_name = tfidf_vectorizer.get_feature_names() #get all words\n",
    "\n",
    "adventure_all_word = []\n",
    "\n",
    "for i in range(2):\n",
    "    adventure_ws = list(tfidf_matrix[i].toarray()[0]) #get weight words by text\n",
    "    adventure_ws_dict = dict(zip(adventure_name,adventure_ws)) # join with name\n",
    "    adventure_ws_dict = sorted(adventure_ws_dict.items(), key=operator.itemgetter(1),reverse=True) # sort words by weight\n",
    "    adventure_all_word+=dict(adventure_ws_dict[:5]).keys() #get 5 most popular words\n",
    "\n",
    "tfidf_result = adventure_all_word\n",
    "\n",
    "print (nltk.FreqDist(tfidf_result).most_common(5))\n",
    "\n",
    "print (nltk.FreqDist(' '.join(adventure).split()).most_common(5))"
   ]
  },
  {
   "cell_type": "code",
   "execution_count": null,
   "metadata": {},
   "outputs": [],
   "source": [
    "Test.assertEqualsHashed(tfidf_result, '49f48dd6c55d6a73fc479a575f142f36497da17a', 'Incorrect data', \"Exercise 2 is successful\")"
   ]
  },
  {
   "cell_type": "markdown",
   "metadata": {},
   "source": [
    "## 3.  Text clustering\n",
    "\n"
   ]
  },
  {
   "cell_type": "markdown",
   "metadata": {},
   "source": [
    "#### Clustering text documents using k-means \n",
    " Using the tf-idf matrix, you can run a slew of clustering algorithms to better understand the hidden structure within the synopses. I first chose k-means. K-means initializes with a pre-determined number of clusters (I chose 5). Each observation is assigned to a cluster (cluster assignment) so as to minimize the within cluster sum of squares. Next, the mean of the clustered observations is calculated and used as the new cluster centroid. Then, observations are reassigned to clusters and centroids recalculated in an iterative process until the algorithm reaches convergence.\n",
    "I found it took several runs for the algorithm to converge a global optimum as k-means is susceptible to reaching local optima."
   ]
  },
  {
   "cell_type": "markdown",
   "metadata": {},
   "source": [
    "We have four categories of text:"
   ]
  },
  {
   "cell_type": "code",
   "execution_count": 62,
   "metadata": {},
   "outputs": [],
   "source": [
    "text_categories = ['learned','fiction','news','adventure']"
   ]
  },
  {
   "cell_type": "code",
   "execution_count": 63,
   "metadata": {},
   "outputs": [],
   "source": [
    "data_text = []\n",
    "for i in text_categories:\n",
    "    data_text += [ ' '.join(w) for w in text_by_categories[i]]"
   ]
  },
  {
   "cell_type": "markdown",
   "metadata": {},
   "source": [
    "Create an list storing the category for each text (for each category we have 29 texts ):"
   ]
  },
  {
   "cell_type": "code",
   "execution_count": 64,
   "metadata": {},
   "outputs": [],
   "source": [
    "labels = []\n",
    "for i in range(len(text_categories)):\n",
    "    for j in (range(29)):\n",
    "        labels.append(i)"
   ]
  },
  {
   "cell_type": "markdown",
   "metadata": {},
   "source": [
    "We calculate Tf-Idf matrix for our texts"
   ]
  },
  {
   "cell_type": "code",
   "execution_count": 65,
   "metadata": {},
   "outputs": [
    {
     "name": "stdout",
     "output_type": "stream",
     "text": [
      "n_samples: 116, n_features: 1346\n"
     ]
    }
   ],
   "source": [
    "vectorizer = TfidfVectorizer(max_df=0.8, min_df=0.1,use_idf=True, ngram_range=(1,5),tokenizer=tokenize)\n",
    "X = vectorizer.fit_transform(data_text)\n",
    "\n",
    "print(\"n_samples: %d, n_features: %d\" % X.shape)"
   ]
  },
  {
   "cell_type": "markdown",
   "metadata": {},
   "source": [
    "With the K Means divide the text into 4 cluster"
   ]
  },
  {
   "cell_type": "code",
   "execution_count": 66,
   "metadata": {},
   "outputs": [],
   "source": [
    "from sklearn.cluster import KMeans\n",
    "\n",
    "num_clusters = 4\n",
    "\n",
    "km = KMeans(n_clusters=num_clusters)\n",
    "y_pred = km.fit_predict(X)"
   ]
  },
  {
   "cell_type": "markdown",
   "metadata": {},
   "source": [
    "<i><b>fit_predict</b> - Compute cluster centers and predict cluster index for each sample.</i> "
   ]
  },
  {
   "cell_type": "markdown",
   "metadata": {},
   "source": [
    "Sometimes it's hard to say what the optimal parameters are required for clustering (lerning). Any parameter provided when constructing an estimator may be optimized in this manner. Specifically, to find the names and current values for all parameters for a given estimator, use:"
   ]
  },
  {
   "cell_type": "code",
   "execution_count": 67,
   "metadata": {},
   "outputs": [
    {
     "data": {
      "text/plain": [
       "{'algorithm': 'auto',\n",
       " 'copy_x': True,\n",
       " 'init': 'k-means++',\n",
       " 'max_iter': 300,\n",
       " 'n_clusters': 4,\n",
       " 'n_init': 10,\n",
       " 'n_jobs': None,\n",
       " 'precompute_distances': 'auto',\n",
       " 'random_state': None,\n",
       " 'tol': 0.0001,\n",
       " 'verbose': 0}"
      ]
     },
     "execution_count": 67,
     "metadata": {},
     "output_type": "execute_result"
    }
   ],
   "source": [
    "km.get_params()"
   ]
  },
  {
   "cell_type": "markdown",
   "metadata": {},
   "source": [
    "But since we only see the default settings. With  this problem allows to cope Grid Search"
   ]
  },
  {
   "cell_type": "code",
   "execution_count": 69,
   "metadata": {},
   "outputs": [],
   "source": [
    "from sklearn.model_selection import GridSearchCV"
   ]
  },
  {
   "cell_type": "markdown",
   "metadata": {},
   "source": [
    "The grid search provided by GridSearchCV exhaustively generates candidates from a grid of parameter values specified with the `param_grid` parameter. For instance, the following `parameter`s:"
   ]
  },
  {
   "cell_type": "code",
   "execution_count": 72,
   "metadata": {},
   "outputs": [],
   "source": [
    "parameters = {'n_clusters':[4], 'max_iter':range(5,50,5),'n_init':range(1,10),'tol':[0.00005,0.00008,0.0001],\n",
    "              'n_jobs':[-1]}"
   ]
  },
  {
   "cell_type": "code",
   "execution_count": 74,
   "metadata": {},
   "outputs": [
    {
     "name": "stdout",
     "output_type": "stream",
     "text": [
      "Fitting 3 folds for each of 243 candidates, totalling 729 fits\n",
      "[Parallel(n_jobs=1)]: Using backend SequentialBackend with 1 concurrent workers.\n",
      "[CV] max_iter=5, n_clusters=4, n_init=1, n_jobs=-1, tol=5e-05 ........\n",
      "[CV]  max_iter=5, n_clusters=4, n_init=1, n_jobs=-1, tol=5e-05, score=-39.85805857153226, total=   0.9s\n",
      "[Parallel(n_jobs=1)]: Done   1 out of   1 | elapsed:    0.9s remaining:    0.0s\n",
      "[CV] max_iter=5, n_clusters=4, n_init=1, n_jobs=-1, tol=5e-05 ........\n",
      "[CV]  max_iter=5, n_clusters=4, n_init=1, n_jobs=-1, tol=5e-05, score=-31.678733165381704, total=   0.5s\n",
      "[Parallel(n_jobs=1)]: Done   2 out of   2 | elapsed:    1.4s remaining:    0.0s\n",
      "[CV] max_iter=5, n_clusters=4, n_init=1, n_jobs=-1, tol=5e-05 ........\n",
      "[CV]  max_iter=5, n_clusters=4, n_init=1, n_jobs=-1, tol=5e-05, score=-29.3456830325131, total=   0.5s\n",
      "[Parallel(n_jobs=1)]: Done   3 out of   3 | elapsed:    1.9s remaining:    0.0s\n",
      "[CV] max_iter=5, n_clusters=4, n_init=1, n_jobs=-1, tol=8e-05 ........\n",
      "[CV]  max_iter=5, n_clusters=4, n_init=1, n_jobs=-1, tol=8e-05, score=-40.41760544434008, total=   0.4s\n",
      "[Parallel(n_jobs=1)]: Done   4 out of   4 | elapsed:    2.3s remaining:    0.0s\n",
      "[CV] max_iter=5, n_clusters=4, n_init=1, n_jobs=-1, tol=8e-05 ........\n",
      "[CV]  max_iter=5, n_clusters=4, n_init=1, n_jobs=-1, tol=8e-05, score=-31.57874655660495, total=   0.1s\n",
      "[Parallel(n_jobs=1)]: Done   5 out of   5 | elapsed:    2.4s remaining:    0.0s\n",
      "[CV] max_iter=5, n_clusters=4, n_init=1, n_jobs=-1, tol=8e-05 ........\n",
      "[CV]  max_iter=5, n_clusters=4, n_init=1, n_jobs=-1, tol=8e-05, score=-29.864130140599787, total=   0.1s\n",
      "[Parallel(n_jobs=1)]: Done   6 out of   6 | elapsed:    2.4s remaining:    0.0s\n",
      "[CV] max_iter=5, n_clusters=4, n_init=1, n_jobs=-1, tol=0.0001 .......\n",
      "[CV]  max_iter=5, n_clusters=4, n_init=1, n_jobs=-1, tol=0.0001, score=-39.57882635035394, total=   0.0s\n",
      "[Parallel(n_jobs=1)]: Done   7 out of   7 | elapsed:    2.5s remaining:    0.0s\n",
      "[CV] max_iter=5, n_clusters=4, n_init=1, n_jobs=-1, tol=0.0001 .......\n",
      "[CV]  max_iter=5, n_clusters=4, n_init=1, n_jobs=-1, tol=0.0001, score=-31.404020904684057, total=   0.1s\n",
      "[Parallel(n_jobs=1)]: Done   8 out of   8 | elapsed:    2.6s remaining:    0.0s\n",
      "[CV] max_iter=5, n_clusters=4, n_init=1, n_jobs=-1, tol=0.0001 .......\n",
      "[CV]  max_iter=5, n_clusters=4, n_init=1, n_jobs=-1, tol=0.0001, score=-29.38175418667523, total=   0.1s\n",
      "[Parallel(n_jobs=1)]: Done   9 out of   9 | elapsed:    2.7s remaining:    0.0s\n",
      "[CV] max_iter=5, n_clusters=4, n_init=2, n_jobs=-1, tol=5e-05 ........\n",
      "[CV]  max_iter=5, n_clusters=4, n_init=2, n_jobs=-1, tol=5e-05, score=-40.05666695366334, total=   0.1s\n",
      "[Parallel(n_jobs=1)]: Done  10 out of  10 | elapsed:    2.8s remaining:    0.0s\n",
      "[CV] max_iter=5, n_clusters=4, n_init=2, n_jobs=-1, tol=5e-05 ........\n",
      "[CV]  max_iter=5, n_clusters=4, n_init=2, n_jobs=-1, tol=5e-05, score=-31.92859312258817, total=   0.1s\n",
      "[Parallel(n_jobs=1)]: Done  11 out of  11 | elapsed:    2.8s remaining:    0.0s\n",
      "[CV] max_iter=5, n_clusters=4, n_init=2, n_jobs=-1, tol=5e-05 ........\n",
      "[CV]  max_iter=5, n_clusters=4, n_init=2, n_jobs=-1, tol=5e-05, score=-29.54722529521913, total=   0.1s\n",
      "[Parallel(n_jobs=1)]: Done  12 out of  12 | elapsed:    2.9s remaining:    0.0s\n",
      "[CV] max_iter=5, n_clusters=4, n_init=2, n_jobs=-1, tol=8e-05 ........\n",
      "[CV]  max_iter=5, n_clusters=4, n_init=2, n_jobs=-1, tol=8e-05, score=-39.95670419386352, total=   0.1s\n",
      "[Parallel(n_jobs=1)]: Done  13 out of  13 | elapsed:    3.0s remaining:    0.0s\n",
      "[CV] max_iter=5, n_clusters=4, n_init=2, n_jobs=-1, tol=8e-05 ........\n",
      "[CV]  max_iter=5, n_clusters=4, n_init=2, n_jobs=-1, tol=8e-05, score=-31.56316714544921, total=   0.1s\n",
      "[Parallel(n_jobs=1)]: Done  14 out of  14 | elapsed:    3.1s remaining:    0.0s\n",
      "[CV] max_iter=5, n_clusters=4, n_init=2, n_jobs=-1, tol=8e-05 ........\n",
      "[CV]  max_iter=5, n_clusters=4, n_init=2, n_jobs=-1, tol=8e-05, score=-29.32936604826905, total=   0.1s\n",
      "[Parallel(n_jobs=1)]: Done  15 out of  15 | elapsed:    3.2s remaining:    0.0s\n",
      "[CV] max_iter=5, n_clusters=4, n_init=2, n_jobs=-1, tol=0.0001 .......\n",
      "[CV]  max_iter=5, n_clusters=4, n_init=2, n_jobs=-1, tol=0.0001, score=-39.71443941196071, total=   0.0s\n",
      "[Parallel(n_jobs=1)]: Done  16 out of  16 | elapsed:    3.2s remaining:    0.0s\n",
      "[CV] max_iter=5, n_clusters=4, n_init=2, n_jobs=-1, tol=0.0001 .......\n",
      "[CV]  max_iter=5, n_clusters=4, n_init=2, n_jobs=-1, tol=0.0001, score=-32.258442379158126, total=   0.1s\n",
      "[Parallel(n_jobs=1)]: Done  17 out of  17 | elapsed:    3.3s remaining:    0.0s\n",
      "[CV] max_iter=5, n_clusters=4, n_init=2, n_jobs=-1, tol=0.0001 .......\n",
      "[CV]  max_iter=5, n_clusters=4, n_init=2, n_jobs=-1, tol=0.0001, score=-29.600997327238915, total=   0.1s\n",
      "[Parallel(n_jobs=1)]: Done  18 out of  18 | elapsed:    3.4s remaining:    0.0s\n",
      "[CV] max_iter=5, n_clusters=4, n_init=3, n_jobs=-1, tol=5e-05 ........\n",
      "[CV]  max_iter=5, n_clusters=4, n_init=3, n_jobs=-1, tol=5e-05, score=-40.29759650314687, total=   0.1s\n",
      "[Parallel(n_jobs=1)]: Done  19 out of  19 | elapsed:    3.5s remaining:    0.0s\n",
      "[CV] max_iter=5, n_clusters=4, n_init=3, n_jobs=-1, tol=5e-05 ........\n",
      "[CV]  max_iter=5, n_clusters=4, n_init=3, n_jobs=-1, tol=5e-05, score=-31.426026313855928, total=   0.1s\n",
      "[Parallel(n_jobs=1)]: Done  20 out of  20 | elapsed:    3.6s remaining:    0.0s\n",
      "[CV] max_iter=5, n_clusters=4, n_init=3, n_jobs=-1, tol=5e-05 ........\n",
      "[CV]  max_iter=5, n_clusters=4, n_init=3, n_jobs=-1, tol=5e-05, score=-29.333595746917645, total=   0.1s\n",
      "[Parallel(n_jobs=1)]: Done  21 out of  21 | elapsed:    3.6s remaining:    0.0s\n",
      "[CV] max_iter=5, n_clusters=4, n_init=3, n_jobs=-1, tol=8e-05 ........\n",
      "[CV]  max_iter=5, n_clusters=4, n_init=3, n_jobs=-1, tol=8e-05, score=-40.17202710935988, total=   0.1s\n",
      "[Parallel(n_jobs=1)]: Done  22 out of  22 | elapsed:    3.7s remaining:    0.0s\n",
      "[CV] max_iter=5, n_clusters=4, n_init=3, n_jobs=-1, tol=8e-05 ........\n",
      "[CV]  max_iter=5, n_clusters=4, n_init=3, n_jobs=-1, tol=8e-05, score=-31.407659201865325, total=   0.1s\n",
      "[Parallel(n_jobs=1)]: Done  23 out of  23 | elapsed:    3.8s remaining:    0.0s\n",
      "[CV] max_iter=5, n_clusters=4, n_init=3, n_jobs=-1, tol=8e-05 ........\n",
      "[CV]  max_iter=5, n_clusters=4, n_init=3, n_jobs=-1, tol=8e-05, score=-29.619142805783905, total=   0.1s\n",
      "[Parallel(n_jobs=1)]: Done  24 out of  24 | elapsed:    3.9s remaining:    0.0s\n",
      "[CV] max_iter=5, n_clusters=4, n_init=3, n_jobs=-1, tol=0.0001 .......\n",
      "[CV]  max_iter=5, n_clusters=4, n_init=3, n_jobs=-1, tol=0.0001, score=-40.108609522165956, total=   0.1s\n",
      "[Parallel(n_jobs=1)]: Done  25 out of  25 | elapsed:    4.0s remaining:    0.0s\n",
      "[CV] max_iter=5, n_clusters=4, n_init=3, n_jobs=-1, tol=0.0001 .......\n",
      "[CV]  max_iter=5, n_clusters=4, n_init=3, n_jobs=-1, tol=0.0001, score=-32.54290109435994, total=   0.1s\n",
      "[Parallel(n_jobs=1)]: Done  26 out of  26 | elapsed:    4.1s remaining:    0.0s\n",
      "[CV] max_iter=5, n_clusters=4, n_init=3, n_jobs=-1, tol=0.0001 .......\n",
      "[CV]  max_iter=5, n_clusters=4, n_init=3, n_jobs=-1, tol=0.0001, score=-29.29320055129971, total=   0.1s\n",
      "[Parallel(n_jobs=1)]: Done  27 out of  27 | elapsed:    4.1s remaining:    0.0s\n",
      "[CV] max_iter=5, n_clusters=4, n_init=4, n_jobs=-1, tol=5e-05 ........\n",
      "[CV]  max_iter=5, n_clusters=4, n_init=4, n_jobs=-1, tol=5e-05, score=-39.70019308938073, total=   0.1s\n",
      "[Parallel(n_jobs=1)]: Done  28 out of  28 | elapsed:    4.2s remaining:    0.0s\n",
      "[CV] max_iter=5, n_clusters=4, n_init=4, n_jobs=-1, tol=5e-05 ........\n",
      "[CV]  max_iter=5, n_clusters=4, n_init=4, n_jobs=-1, tol=5e-05, score=-31.358481162572097, total=   0.1s\n",
      "[Parallel(n_jobs=1)]: Done  29 out of  29 | elapsed:    4.3s remaining:    0.0s\n",
      "[CV] max_iter=5, n_clusters=4, n_init=4, n_jobs=-1, tol=5e-05 ........\n",
      "[CV]  max_iter=5, n_clusters=4, n_init=4, n_jobs=-1, tol=5e-05, score=-29.480917725415253, total=   0.1s\n",
      "[Parallel(n_jobs=1)]: Done  30 out of  30 | elapsed:    4.4s remaining:    0.0s\n",
      "[CV] max_iter=5, n_clusters=4, n_init=4, n_jobs=-1, tol=8e-05 ........\n",
      "[CV]  max_iter=5, n_clusters=4, n_init=4, n_jobs=-1, tol=8e-05, score=-39.85565853972993, total=   0.1s\n",
      "[Parallel(n_jobs=1)]: Done  31 out of  31 | elapsed:    4.5s remaining:    0.0s\n",
      "[CV] max_iter=5, n_clusters=4, n_init=4, n_jobs=-1, tol=8e-05 ........\n",
      "[CV]  max_iter=5, n_clusters=4, n_init=4, n_jobs=-1, tol=8e-05, score=-31.357714042050688, total=   0.1s\n",
      "[Parallel(n_jobs=1)]: Done  32 out of  32 | elapsed:    4.6s remaining:    0.0s\n",
      "[CV] max_iter=5, n_clusters=4, n_init=4, n_jobs=-1, tol=8e-05 ........\n",
      "[CV]  max_iter=5, n_clusters=4, n_init=4, n_jobs=-1, tol=8e-05, score=-29.38382931654123, total=   0.1s\n",
      "[Parallel(n_jobs=1)]: Done  33 out of  33 | elapsed:    4.7s remaining:    0.0s\n",
      "[CV] max_iter=5, n_clusters=4, n_init=4, n_jobs=-1, tol=0.0001 .......\n"
     ]
    },
    {
     "name": "stdout",
     "output_type": "stream",
     "text": [
      "[CV]  max_iter=5, n_clusters=4, n_init=4, n_jobs=-1, tol=0.0001, score=-40.09706396208366, total=   0.1s\n",
      "[Parallel(n_jobs=1)]: Done  34 out of  34 | elapsed:    4.8s remaining:    0.0s\n",
      "[CV] max_iter=5, n_clusters=4, n_init=4, n_jobs=-1, tol=0.0001 .......\n",
      "[CV]  max_iter=5, n_clusters=4, n_init=4, n_jobs=-1, tol=0.0001, score=-31.511952327797143, total=   0.1s\n",
      "[Parallel(n_jobs=1)]: Done  35 out of  35 | elapsed:    4.9s remaining:    0.0s\n",
      "[CV] max_iter=5, n_clusters=4, n_init=4, n_jobs=-1, tol=0.0001 .......\n",
      "[CV]  max_iter=5, n_clusters=4, n_init=4, n_jobs=-1, tol=0.0001, score=-29.36192088724698, total=   0.1s\n",
      "[Parallel(n_jobs=1)]: Done  36 out of  36 | elapsed:    5.0s remaining:    0.0s\n",
      "[CV] max_iter=5, n_clusters=4, n_init=5, n_jobs=-1, tol=5e-05 ........\n",
      "[CV]  max_iter=5, n_clusters=4, n_init=5, n_jobs=-1, tol=5e-05, score=-40.279510566482536, total=   0.1s\n",
      "[Parallel(n_jobs=1)]: Done  37 out of  37 | elapsed:    5.2s remaining:    0.0s\n",
      "[CV] max_iter=5, n_clusters=4, n_init=5, n_jobs=-1, tol=5e-05 ........\n",
      "[CV]  max_iter=5, n_clusters=4, n_init=5, n_jobs=-1, tol=5e-05, score=-31.594071097239596, total=   0.2s\n",
      "[Parallel(n_jobs=1)]: Done  38 out of  38 | elapsed:    5.3s remaining:    0.0s\n",
      "[CV] max_iter=5, n_clusters=4, n_init=5, n_jobs=-1, tol=5e-05 ........\n",
      "[CV]  max_iter=5, n_clusters=4, n_init=5, n_jobs=-1, tol=5e-05, score=-29.3925335872489, total=   0.2s\n",
      "[Parallel(n_jobs=1)]: Done  39 out of  39 | elapsed:    5.5s remaining:    0.0s\n",
      "[CV] max_iter=5, n_clusters=4, n_init=5, n_jobs=-1, tol=8e-05 ........\n",
      "[CV]  max_iter=5, n_clusters=4, n_init=5, n_jobs=-1, tol=8e-05, score=-40.24159778574528, total=   0.1s\n",
      "[Parallel(n_jobs=1)]: Done  40 out of  40 | elapsed:    5.7s remaining:    0.0s\n",
      "[CV] max_iter=5, n_clusters=4, n_init=5, n_jobs=-1, tol=8e-05 ........\n",
      "[CV]  max_iter=5, n_clusters=4, n_init=5, n_jobs=-1, tol=8e-05, score=-32.35240983703537, total=   0.2s\n",
      "[Parallel(n_jobs=1)]: Done  41 out of  41 | elapsed:    5.8s remaining:    0.0s\n",
      "[CV] max_iter=5, n_clusters=4, n_init=5, n_jobs=-1, tol=8e-05 ........\n",
      "[CV]  max_iter=5, n_clusters=4, n_init=5, n_jobs=-1, tol=8e-05, score=-29.305433308520296, total=   0.1s\n",
      "[Parallel(n_jobs=1)]: Done  42 out of  42 | elapsed:    5.9s remaining:    0.0s\n",
      "[CV] max_iter=5, n_clusters=4, n_init=5, n_jobs=-1, tol=0.0001 .......\n",
      "[CV]  max_iter=5, n_clusters=4, n_init=5, n_jobs=-1, tol=0.0001, score=-39.924511608845194, total=   0.1s\n",
      "[Parallel(n_jobs=1)]: Done  43 out of  43 | elapsed:    6.1s remaining:    0.0s\n",
      "[CV] max_iter=5, n_clusters=4, n_init=5, n_jobs=-1, tol=0.0001 .......\n",
      "[CV]  max_iter=5, n_clusters=4, n_init=5, n_jobs=-1, tol=0.0001, score=-31.45820060139108, total=   0.1s\n",
      "[Parallel(n_jobs=1)]: Done  44 out of  44 | elapsed:    6.2s remaining:    0.0s\n",
      "[CV] max_iter=5, n_clusters=4, n_init=5, n_jobs=-1, tol=0.0001 .......\n",
      "[CV]  max_iter=5, n_clusters=4, n_init=5, n_jobs=-1, tol=0.0001, score=-29.46977536850092, total=   0.1s\n",
      "[Parallel(n_jobs=1)]: Done  45 out of  45 | elapsed:    6.3s remaining:    0.0s\n",
      "[CV] max_iter=5, n_clusters=4, n_init=6, n_jobs=-1, tol=5e-05 ........\n",
      "[CV]  max_iter=5, n_clusters=4, n_init=6, n_jobs=-1, tol=5e-05, score=-39.87315761750952, total=   0.2s\n",
      "[Parallel(n_jobs=1)]: Done  46 out of  46 | elapsed:    6.5s remaining:    0.0s\n",
      "[CV] max_iter=5, n_clusters=4, n_init=6, n_jobs=-1, tol=5e-05 ........\n",
      "[CV]  max_iter=5, n_clusters=4, n_init=6, n_jobs=-1, tol=5e-05, score=-31.97019076311306, total=   0.2s\n",
      "[Parallel(n_jobs=1)]: Done  47 out of  47 | elapsed:    6.6s remaining:    0.0s\n",
      "[CV] max_iter=5, n_clusters=4, n_init=6, n_jobs=-1, tol=5e-05 ........\n",
      "[CV]  max_iter=5, n_clusters=4, n_init=6, n_jobs=-1, tol=5e-05, score=-29.29320055129971, total=   0.2s\n",
      "[Parallel(n_jobs=1)]: Done  48 out of  48 | elapsed:    6.8s remaining:    0.0s\n",
      "[CV] max_iter=5, n_clusters=4, n_init=6, n_jobs=-1, tol=8e-05 ........\n",
      "[CV]  max_iter=5, n_clusters=4, n_init=6, n_jobs=-1, tol=8e-05, score=-40.21022299129966, total=   0.2s\n",
      "[Parallel(n_jobs=1)]: Done  49 out of  49 | elapsed:    7.0s remaining:    0.0s\n",
      "[CV] max_iter=5, n_clusters=4, n_init=6, n_jobs=-1, tol=8e-05 ........\n",
      "[CV]  max_iter=5, n_clusters=4, n_init=6, n_jobs=-1, tol=8e-05, score=-31.644639674959524, total=   0.2s\n",
      "[Parallel(n_jobs=1)]: Done  50 out of  50 | elapsed:    7.2s remaining:    0.0s\n",
      "[CV] max_iter=5, n_clusters=4, n_init=6, n_jobs=-1, tol=8e-05 ........\n",
      "[CV]  max_iter=5, n_clusters=4, n_init=6, n_jobs=-1, tol=8e-05, score=-29.583917211805073, total=   0.2s\n",
      "[Parallel(n_jobs=1)]: Done  51 out of  51 | elapsed:    7.3s remaining:    0.0s\n",
      "[CV] max_iter=5, n_clusters=4, n_init=6, n_jobs=-1, tol=0.0001 .......\n",
      "[CV]  max_iter=5, n_clusters=4, n_init=6, n_jobs=-1, tol=0.0001, score=-40.16543459646905, total=   0.2s\n",
      "[Parallel(n_jobs=1)]: Done  52 out of  52 | elapsed:    7.5s remaining:    0.0s\n",
      "[CV] max_iter=5, n_clusters=4, n_init=6, n_jobs=-1, tol=0.0001 .......\n",
      "[CV]  max_iter=5, n_clusters=4, n_init=6, n_jobs=-1, tol=0.0001, score=-31.363664180700734, total=   0.2s\n",
      "[Parallel(n_jobs=1)]: Done  53 out of  53 | elapsed:    7.7s remaining:    0.0s\n",
      "[CV] max_iter=5, n_clusters=4, n_init=6, n_jobs=-1, tol=0.0001 .......\n",
      "[CV]  max_iter=5, n_clusters=4, n_init=6, n_jobs=-1, tol=0.0001, score=-29.488334808101317, total=   0.2s\n",
      "[Parallel(n_jobs=1)]: Done  54 out of  54 | elapsed:    7.9s remaining:    0.0s\n",
      "[CV] max_iter=5, n_clusters=4, n_init=7, n_jobs=-1, tol=5e-05 ........\n",
      "[CV]  max_iter=5, n_clusters=4, n_init=7, n_jobs=-1, tol=5e-05, score=-40.099893521449744, total=   0.2s\n",
      "[Parallel(n_jobs=1)]: Done  55 out of  55 | elapsed:    8.1s remaining:    0.0s\n",
      "[CV] max_iter=5, n_clusters=4, n_init=7, n_jobs=-1, tol=5e-05 ........\n",
      "[CV]  max_iter=5, n_clusters=4, n_init=7, n_jobs=-1, tol=5e-05, score=-31.387929508404174, total=   0.2s\n",
      "[Parallel(n_jobs=1)]: Done  56 out of  56 | elapsed:    8.2s remaining:    0.0s\n",
      "[CV] max_iter=5, n_clusters=4, n_init=7, n_jobs=-1, tol=5e-05 ........\n",
      "[CV]  max_iter=5, n_clusters=4, n_init=7, n_jobs=-1, tol=5e-05, score=-29.316970393567857, total=   0.2s\n",
      "[Parallel(n_jobs=1)]: Done  57 out of  57 | elapsed:    8.4s remaining:    0.0s\n",
      "[CV] max_iter=5, n_clusters=4, n_init=7, n_jobs=-1, tol=8e-05 ........\n",
      "[CV]  max_iter=5, n_clusters=4, n_init=7, n_jobs=-1, tol=8e-05, score=-40.11288211696964, total=   0.2s\n",
      "[Parallel(n_jobs=1)]: Done  58 out of  58 | elapsed:    8.5s remaining:    0.0s\n",
      "[CV] max_iter=5, n_clusters=4, n_init=7, n_jobs=-1, tol=8e-05 ........\n",
      "[CV]  max_iter=5, n_clusters=4, n_init=7, n_jobs=-1, tol=8e-05, score=-31.405047751806897, total=   0.1s\n",
      "[Parallel(n_jobs=1)]: Done  59 out of  59 | elapsed:    8.7s remaining:    0.0s\n",
      "[CV] max_iter=5, n_clusters=4, n_init=7, n_jobs=-1, tol=8e-05 ........\n",
      "[CV]  max_iter=5, n_clusters=4, n_init=7, n_jobs=-1, tol=8e-05, score=-29.36192088724698, total=   0.2s\n",
      "[Parallel(n_jobs=1)]: Done  60 out of  60 | elapsed:    8.9s remaining:    0.0s\n",
      "[CV] max_iter=5, n_clusters=4, n_init=7, n_jobs=-1, tol=0.0001 .......\n",
      "[CV]  max_iter=5, n_clusters=4, n_init=7, n_jobs=-1, tol=0.0001, score=-40.47654902547315, total=   0.2s\n",
      "[Parallel(n_jobs=1)]: Done  61 out of  61 | elapsed:    9.0s remaining:    0.0s\n",
      "[CV] max_iter=5, n_clusters=4, n_init=7, n_jobs=-1, tol=0.0001 .......\n",
      "[CV]  max_iter=5, n_clusters=4, n_init=7, n_jobs=-1, tol=0.0001, score=-31.45199252545388, total=   0.2s\n",
      "[Parallel(n_jobs=1)]: Done  62 out of  62 | elapsed:    9.2s remaining:    0.0s\n",
      "[CV] max_iter=5, n_clusters=4, n_init=7, n_jobs=-1, tol=0.0001 .......\n",
      "[CV]  max_iter=5, n_clusters=4, n_init=7, n_jobs=-1, tol=0.0001, score=-29.586870573908925, total=   0.1s\n",
      "[Parallel(n_jobs=1)]: Done  63 out of  63 | elapsed:    9.3s remaining:    0.0s\n",
      "[CV] max_iter=5, n_clusters=4, n_init=8, n_jobs=-1, tol=5e-05 ........\n",
      "[CV]  max_iter=5, n_clusters=4, n_init=8, n_jobs=-1, tol=5e-05, score=-39.65352526926093, total=   0.1s\n",
      "[Parallel(n_jobs=1)]: Done  64 out of  64 | elapsed:    9.4s remaining:    0.0s\n",
      "[CV] max_iter=5, n_clusters=4, n_init=8, n_jobs=-1, tol=5e-05 ........\n",
      "[CV]  max_iter=5, n_clusters=4, n_init=8, n_jobs=-1, tol=5e-05, score=-31.928446677705512, total=   0.2s\n",
      "[Parallel(n_jobs=1)]: Done  65 out of  65 | elapsed:    9.6s remaining:    0.0s\n",
      "[CV] max_iter=5, n_clusters=4, n_init=8, n_jobs=-1, tol=5e-05 ........\n",
      "[CV]  max_iter=5, n_clusters=4, n_init=8, n_jobs=-1, tol=5e-05, score=-29.3181645191575, total=   0.2s\n",
      "[Parallel(n_jobs=1)]: Done  66 out of  66 | elapsed:    9.8s remaining:    0.0s\n",
      "[CV] max_iter=5, n_clusters=4, n_init=8, n_jobs=-1, tol=8e-05 ........\n",
      "[CV]  max_iter=5, n_clusters=4, n_init=8, n_jobs=-1, tol=8e-05, score=-40.213550059427355, total=   0.1s\n",
      "[Parallel(n_jobs=1)]: Done  67 out of  67 | elapsed:   10.0s remaining:    0.0s\n",
      "[CV] max_iter=5, n_clusters=4, n_init=8, n_jobs=-1, tol=8e-05 ........\n"
     ]
    },
    {
     "name": "stdout",
     "output_type": "stream",
     "text": [
      "[CV]  max_iter=5, n_clusters=4, n_init=8, n_jobs=-1, tol=8e-05, score=-31.175062310388103, total=   0.1s\n",
      "[Parallel(n_jobs=1)]: Done  68 out of  68 | elapsed:   10.1s remaining:    0.0s\n",
      "[CV] max_iter=5, n_clusters=4, n_init=8, n_jobs=-1, tol=8e-05 ........\n",
      "[CV]  max_iter=5, n_clusters=4, n_init=8, n_jobs=-1, tol=8e-05, score=-29.36192088724698, total=   0.2s\n",
      "[Parallel(n_jobs=1)]: Done  69 out of  69 | elapsed:   10.3s remaining:    0.0s\n",
      "[CV] max_iter=5, n_clusters=4, n_init=8, n_jobs=-1, tol=0.0001 .......\n",
      "[CV]  max_iter=5, n_clusters=4, n_init=8, n_jobs=-1, tol=0.0001, score=-39.98555118437511, total=   0.1s\n",
      "[Parallel(n_jobs=1)]: Done  70 out of  70 | elapsed:   10.4s remaining:    0.0s\n",
      "[CV] max_iter=5, n_clusters=4, n_init=8, n_jobs=-1, tol=0.0001 .......\n",
      "[CV]  max_iter=5, n_clusters=4, n_init=8, n_jobs=-1, tol=0.0001, score=-31.59807899019396, total=   0.2s\n",
      "[Parallel(n_jobs=1)]: Done  71 out of  71 | elapsed:   10.6s remaining:    0.0s\n",
      "[CV] max_iter=5, n_clusters=4, n_init=8, n_jobs=-1, tol=0.0001 .......\n",
      "[CV]  max_iter=5, n_clusters=4, n_init=8, n_jobs=-1, tol=0.0001, score=-29.387132153152933, total=   0.1s\n",
      "[Parallel(n_jobs=1)]: Done  72 out of  72 | elapsed:   10.7s remaining:    0.0s\n",
      "[CV] max_iter=5, n_clusters=4, n_init=9, n_jobs=-1, tol=5e-05 ........\n",
      "[CV]  max_iter=5, n_clusters=4, n_init=9, n_jobs=-1, tol=5e-05, score=-39.91329364393898, total=   0.2s\n",
      "[Parallel(n_jobs=1)]: Done  73 out of  73 | elapsed:   10.9s remaining:    0.0s\n",
      "[CV] max_iter=5, n_clusters=4, n_init=9, n_jobs=-1, tol=5e-05 ........\n",
      "[CV]  max_iter=5, n_clusters=4, n_init=9, n_jobs=-1, tol=5e-05, score=-31.4095393458187, total=   0.2s\n",
      "[Parallel(n_jobs=1)]: Done  74 out of  74 | elapsed:   11.1s remaining:    0.0s\n",
      "[CV] max_iter=5, n_clusters=4, n_init=9, n_jobs=-1, tol=5e-05 ........\n",
      "[CV]  max_iter=5, n_clusters=4, n_init=9, n_jobs=-1, tol=5e-05, score=-29.38382931654123, total=   0.2s\n",
      "[Parallel(n_jobs=1)]: Done  75 out of  75 | elapsed:   11.2s remaining:    0.0s\n",
      "[CV] max_iter=5, n_clusters=4, n_init=9, n_jobs=-1, tol=8e-05 ........\n",
      "[CV]  max_iter=5, n_clusters=4, n_init=9, n_jobs=-1, tol=8e-05, score=-39.92715205968356, total=   0.2s\n",
      "[Parallel(n_jobs=1)]: Done  76 out of  76 | elapsed:   11.4s remaining:    0.0s\n",
      "[CV] max_iter=5, n_clusters=4, n_init=9, n_jobs=-1, tol=8e-05 ........\n",
      "[CV]  max_iter=5, n_clusters=4, n_init=9, n_jobs=-1, tol=8e-05, score=-31.221969275924472, total=   0.2s\n",
      "[Parallel(n_jobs=1)]: Done  77 out of  77 | elapsed:   11.6s remaining:    0.0s\n",
      "[CV] max_iter=5, n_clusters=4, n_init=9, n_jobs=-1, tol=8e-05 ........\n",
      "[CV]  max_iter=5, n_clusters=4, n_init=9, n_jobs=-1, tol=8e-05, score=-29.32477022339531, total=   0.2s\n",
      "[Parallel(n_jobs=1)]: Done  78 out of  78 | elapsed:   11.8s remaining:    0.0s\n",
      "[CV] max_iter=5, n_clusters=4, n_init=9, n_jobs=-1, tol=0.0001 .......\n",
      "[CV]  max_iter=5, n_clusters=4, n_init=9, n_jobs=-1, tol=0.0001, score=-39.93120010285865, total=   0.2s\n",
      "[Parallel(n_jobs=1)]: Done  79 out of  79 | elapsed:   12.0s remaining:    0.0s\n",
      "[CV] max_iter=5, n_clusters=4, n_init=9, n_jobs=-1, tol=0.0001 .......\n",
      "[CV]  max_iter=5, n_clusters=4, n_init=9, n_jobs=-1, tol=0.0001, score=-31.27763057279662, total=   0.3s\n",
      "[Parallel(n_jobs=1)]: Done  80 out of  80 | elapsed:   12.3s remaining:    0.0s\n",
      "[CV] max_iter=5, n_clusters=4, n_init=9, n_jobs=-1, tol=0.0001 .......\n",
      "[CV]  max_iter=5, n_clusters=4, n_init=9, n_jobs=-1, tol=0.0001, score=-29.38382931654123, total=   0.2s\n",
      "[Parallel(n_jobs=1)]: Done  81 out of  81 | elapsed:   12.5s remaining:    0.0s\n",
      "[CV] max_iter=10, n_clusters=4, n_init=1, n_jobs=-1, tol=5e-05 .......\n",
      "[CV]  max_iter=10, n_clusters=4, n_init=1, n_jobs=-1, tol=5e-05, score=-40.149845289820746, total=   0.1s\n",
      "[Parallel(n_jobs=1)]: Done  82 out of  82 | elapsed:   12.6s remaining:    0.0s\n",
      "[CV] max_iter=10, n_clusters=4, n_init=1, n_jobs=-1, tol=5e-05 .......\n",
      "[CV]  max_iter=10, n_clusters=4, n_init=1, n_jobs=-1, tol=5e-05, score=-32.374532125086645, total=   0.1s\n",
      "[Parallel(n_jobs=1)]: Done  83 out of  83 | elapsed:   12.7s remaining:    0.0s\n",
      "[CV] max_iter=10, n_clusters=4, n_init=1, n_jobs=-1, tol=5e-05 .......\n",
      "[CV]  max_iter=10, n_clusters=4, n_init=1, n_jobs=-1, tol=5e-05, score=-29.452502591322002, total=   0.1s\n",
      "[Parallel(n_jobs=1)]: Done  84 out of  84 | elapsed:   12.8s remaining:    0.0s\n",
      "[CV] max_iter=10, n_clusters=4, n_init=1, n_jobs=-1, tol=8e-05 .......\n",
      "[CV]  max_iter=10, n_clusters=4, n_init=1, n_jobs=-1, tol=8e-05, score=-40.05589272678565, total=   0.0s\n",
      "[Parallel(n_jobs=1)]: Done  85 out of  85 | elapsed:   12.9s remaining:    0.0s\n",
      "[CV] max_iter=10, n_clusters=4, n_init=1, n_jobs=-1, tol=8e-05 .......\n",
      "[CV]  max_iter=10, n_clusters=4, n_init=1, n_jobs=-1, tol=8e-05, score=-32.18313120490386, total=   0.2s\n",
      "[Parallel(n_jobs=1)]: Done  86 out of  86 | elapsed:   13.0s remaining:    0.0s\n",
      "[CV] max_iter=10, n_clusters=4, n_init=1, n_jobs=-1, tol=8e-05 .......\n",
      "[CV]  max_iter=10, n_clusters=4, n_init=1, n_jobs=-1, tol=8e-05, score=-29.483319535731294, total=   0.1s\n",
      "[Parallel(n_jobs=1)]: Done  87 out of  87 | elapsed:   13.1s remaining:    0.0s\n",
      "[CV] max_iter=10, n_clusters=4, n_init=1, n_jobs=-1, tol=0.0001 ......\n",
      "[CV]  max_iter=10, n_clusters=4, n_init=1, n_jobs=-1, tol=0.0001, score=-40.44285756695411, total=   0.1s\n",
      "[Parallel(n_jobs=1)]: Done  88 out of  88 | elapsed:   13.2s remaining:    0.0s\n",
      "[CV] max_iter=10, n_clusters=4, n_init=1, n_jobs=-1, tol=0.0001 ......\n",
      "[CV]  max_iter=10, n_clusters=4, n_init=1, n_jobs=-1, tol=0.0001, score=-31.471903097188857, total=   0.1s\n",
      "[Parallel(n_jobs=1)]: Done  89 out of  89 | elapsed:   13.2s remaining:    0.0s\n",
      "[CV] max_iter=10, n_clusters=4, n_init=1, n_jobs=-1, tol=0.0001 ......\n",
      "[CV]  max_iter=10, n_clusters=4, n_init=1, n_jobs=-1, tol=0.0001, score=-29.36192088724698, total=   0.1s\n",
      "[Parallel(n_jobs=1)]: Done  90 out of  90 | elapsed:   13.3s remaining:    0.0s\n",
      "[CV] max_iter=10, n_clusters=4, n_init=2, n_jobs=-1, tol=5e-05 .......\n",
      "[CV]  max_iter=10, n_clusters=4, n_init=2, n_jobs=-1, tol=5e-05, score=-39.622063314967285, total=   0.1s\n",
      "[Parallel(n_jobs=1)]: Done  91 out of  91 | elapsed:   13.4s remaining:    0.0s\n",
      "[CV] max_iter=10, n_clusters=4, n_init=2, n_jobs=-1, tol=5e-05 .......\n",
      "[CV]  max_iter=10, n_clusters=4, n_init=2, n_jobs=-1, tol=5e-05, score=-31.797771192580445, total=   0.1s\n",
      "[Parallel(n_jobs=1)]: Done  92 out of  92 | elapsed:   13.5s remaining:    0.0s\n",
      "[CV] max_iter=10, n_clusters=4, n_init=2, n_jobs=-1, tol=5e-05 .......\n",
      "[CV]  max_iter=10, n_clusters=4, n_init=2, n_jobs=-1, tol=5e-05, score=-29.4911371407866, total=   0.1s\n",
      "[Parallel(n_jobs=1)]: Done  93 out of  93 | elapsed:   13.6s remaining:    0.0s\n",
      "[CV] max_iter=10, n_clusters=4, n_init=2, n_jobs=-1, tol=8e-05 .......\n",
      "[CV]  max_iter=10, n_clusters=4, n_init=2, n_jobs=-1, tol=8e-05, score=-39.68396272503078, total=   0.0s\n",
      "[Parallel(n_jobs=1)]: Done  94 out of  94 | elapsed:   13.6s remaining:    0.0s\n",
      "[CV] max_iter=10, n_clusters=4, n_init=2, n_jobs=-1, tol=8e-05 .......\n",
      "[CV]  max_iter=10, n_clusters=4, n_init=2, n_jobs=-1, tol=8e-05, score=-31.511137581304297, total=   0.1s\n",
      "[Parallel(n_jobs=1)]: Done  95 out of  95 | elapsed:   13.8s remaining:    0.0s\n",
      "[CV] max_iter=10, n_clusters=4, n_init=2, n_jobs=-1, tol=8e-05 .......\n",
      "[CV]  max_iter=10, n_clusters=4, n_init=2, n_jobs=-1, tol=8e-05, score=-29.67522107663679, total=   0.1s\n",
      "[Parallel(n_jobs=1)]: Done  96 out of  96 | elapsed:   13.8s remaining:    0.0s\n",
      "[CV] max_iter=10, n_clusters=4, n_init=2, n_jobs=-1, tol=0.0001 ......\n",
      "[CV]  max_iter=10, n_clusters=4, n_init=2, n_jobs=-1, tol=0.0001, score=-40.12194812163626, total=   0.0s\n",
      "[Parallel(n_jobs=1)]: Done  97 out of  97 | elapsed:   13.9s remaining:    0.0s\n",
      "[CV] max_iter=10, n_clusters=4, n_init=2, n_jobs=-1, tol=0.0001 ......\n",
      "[CV]  max_iter=10, n_clusters=4, n_init=2, n_jobs=-1, tol=0.0001, score=-31.679924747217925, total=   0.1s\n",
      "[Parallel(n_jobs=1)]: Done  98 out of  98 | elapsed:   13.9s remaining:    0.0s\n",
      "[CV] max_iter=10, n_clusters=4, n_init=2, n_jobs=-1, tol=0.0001 ......\n",
      "[CV]  max_iter=10, n_clusters=4, n_init=2, n_jobs=-1, tol=0.0001, score=-29.429742106478617, total=   0.1s\n",
      "[Parallel(n_jobs=1)]: Done  99 out of  99 | elapsed:   14.0s remaining:    0.0s\n",
      "[CV] max_iter=10, n_clusters=4, n_init=3, n_jobs=-1, tol=5e-05 .......\n",
      "[CV]  max_iter=10, n_clusters=4, n_init=3, n_jobs=-1, tol=5e-05, score=-40.38283443249532, total=   0.1s\n",
      "[CV] max_iter=10, n_clusters=4, n_init=3, n_jobs=-1, tol=5e-05 .......\n",
      "[CV]  max_iter=10, n_clusters=4, n_init=3, n_jobs=-1, tol=5e-05, score=-31.52840136035971, total=   0.1s\n",
      "[CV] max_iter=10, n_clusters=4, n_init=3, n_jobs=-1, tol=5e-05 .......\n"
     ]
    },
    {
     "name": "stdout",
     "output_type": "stream",
     "text": [
      "[CV]  max_iter=10, n_clusters=4, n_init=3, n_jobs=-1, tol=5e-05, score=-29.58997152627813, total=   0.2s\n",
      "[CV] max_iter=10, n_clusters=4, n_init=3, n_jobs=-1, tol=8e-05 .......\n",
      "[CV]  max_iter=10, n_clusters=4, n_init=3, n_jobs=-1, tol=8e-05, score=-40.1180335011256, total=   0.1s\n",
      "[CV] max_iter=10, n_clusters=4, n_init=3, n_jobs=-1, tol=8e-05 .......\n",
      "[CV]  max_iter=10, n_clusters=4, n_init=3, n_jobs=-1, tol=8e-05, score=-31.974673440200533, total=   0.1s\n",
      "[CV] max_iter=10, n_clusters=4, n_init=3, n_jobs=-1, tol=8e-05 .......\n",
      "[CV]  max_iter=10, n_clusters=4, n_init=3, n_jobs=-1, tol=8e-05, score=-29.282687684513938, total=   0.1s\n",
      "[CV] max_iter=10, n_clusters=4, n_init=3, n_jobs=-1, tol=0.0001 ......\n",
      "[CV]  max_iter=10, n_clusters=4, n_init=3, n_jobs=-1, tol=0.0001, score=-40.04514127051915, total=   0.1s\n",
      "[CV] max_iter=10, n_clusters=4, n_init=3, n_jobs=-1, tol=0.0001 ......\n",
      "[CV]  max_iter=10, n_clusters=4, n_init=3, n_jobs=-1, tol=0.0001, score=-31.2054079529521, total=   0.1s\n",
      "[CV] max_iter=10, n_clusters=4, n_init=3, n_jobs=-1, tol=0.0001 ......\n",
      "[CV]  max_iter=10, n_clusters=4, n_init=3, n_jobs=-1, tol=0.0001, score=-29.36192088724698, total=   0.1s\n",
      "[CV] max_iter=10, n_clusters=4, n_init=4, n_jobs=-1, tol=5e-05 .......\n",
      "[CV]  max_iter=10, n_clusters=4, n_init=4, n_jobs=-1, tol=5e-05, score=-40.17892510076791, total=   0.1s\n",
      "[CV] max_iter=10, n_clusters=4, n_init=4, n_jobs=-1, tol=5e-05 .......\n",
      "[CV]  max_iter=10, n_clusters=4, n_init=4, n_jobs=-1, tol=5e-05, score=-32.33533020478868, total=   0.1s\n",
      "[CV] max_iter=10, n_clusters=4, n_init=4, n_jobs=-1, tol=5e-05 .......\n",
      "[CV]  max_iter=10, n_clusters=4, n_init=4, n_jobs=-1, tol=5e-05, score=-29.41469865433276, total=   0.1s\n",
      "[CV] max_iter=10, n_clusters=4, n_init=4, n_jobs=-1, tol=8e-05 .......\n",
      "[CV]  max_iter=10, n_clusters=4, n_init=4, n_jobs=-1, tol=8e-05, score=-39.86001488160353, total=   0.1s\n",
      "[CV] max_iter=10, n_clusters=4, n_init=4, n_jobs=-1, tol=8e-05 .......\n",
      "[CV]  max_iter=10, n_clusters=4, n_init=4, n_jobs=-1, tol=8e-05, score=-31.569979167779355, total=   0.2s\n",
      "[CV] max_iter=10, n_clusters=4, n_init=4, n_jobs=-1, tol=8e-05 .......\n",
      "[CV]  max_iter=10, n_clusters=4, n_init=4, n_jobs=-1, tol=8e-05, score=-29.36192088724698, total=   0.1s\n",
      "[CV] max_iter=10, n_clusters=4, n_init=4, n_jobs=-1, tol=0.0001 ......\n",
      "[CV]  max_iter=10, n_clusters=4, n_init=4, n_jobs=-1, tol=0.0001, score=-40.23249838218284, total=   0.1s\n",
      "[CV] max_iter=10, n_clusters=4, n_init=4, n_jobs=-1, tol=0.0001 ......\n",
      "[CV]  max_iter=10, n_clusters=4, n_init=4, n_jobs=-1, tol=0.0001, score=-31.339566588919908, total=   0.2s\n",
      "[CV] max_iter=10, n_clusters=4, n_init=4, n_jobs=-1, tol=0.0001 ......\n",
      "[CV]  max_iter=10, n_clusters=4, n_init=4, n_jobs=-1, tol=0.0001, score=-29.281305872467435, total=   0.1s\n",
      "[CV] max_iter=10, n_clusters=4, n_init=5, n_jobs=-1, tol=5e-05 .......\n",
      "[CV]  max_iter=10, n_clusters=4, n_init=5, n_jobs=-1, tol=5e-05, score=-40.25727550837882, total=   0.1s\n",
      "[CV] max_iter=10, n_clusters=4, n_init=5, n_jobs=-1, tol=5e-05 .......\n",
      "[CV]  max_iter=10, n_clusters=4, n_init=5, n_jobs=-1, tol=5e-05, score=-32.51505214268678, total=   0.1s\n",
      "[CV] max_iter=10, n_clusters=4, n_init=5, n_jobs=-1, tol=5e-05 .......\n",
      "[CV]  max_iter=10, n_clusters=4, n_init=5, n_jobs=-1, tol=5e-05, score=-29.36192088724698, total=   0.1s\n",
      "[CV] max_iter=10, n_clusters=4, n_init=5, n_jobs=-1, tol=8e-05 .......\n",
      "[CV]  max_iter=10, n_clusters=4, n_init=5, n_jobs=-1, tol=8e-05, score=-40.30546135114339, total=   0.1s\n",
      "[CV] max_iter=10, n_clusters=4, n_init=5, n_jobs=-1, tol=8e-05 .......\n",
      "[CV]  max_iter=10, n_clusters=4, n_init=5, n_jobs=-1, tol=8e-05, score=-31.52840136035971, total=   0.1s\n",
      "[CV] max_iter=10, n_clusters=4, n_init=5, n_jobs=-1, tol=8e-05 .......\n",
      "[CV]  max_iter=10, n_clusters=4, n_init=5, n_jobs=-1, tol=8e-05, score=-29.36269716128487, total=   0.1s\n",
      "[CV] max_iter=10, n_clusters=4, n_init=5, n_jobs=-1, tol=0.0001 ......\n",
      "[CV]  max_iter=10, n_clusters=4, n_init=5, n_jobs=-1, tol=0.0001, score=-39.81742189370257, total=   0.1s\n",
      "[CV] max_iter=10, n_clusters=4, n_init=5, n_jobs=-1, tol=0.0001 ......\n",
      "[CV]  max_iter=10, n_clusters=4, n_init=5, n_jobs=-1, tol=0.0001, score=-31.2211150356314, total=   0.1s\n",
      "[CV] max_iter=10, n_clusters=4, n_init=5, n_jobs=-1, tol=0.0001 ......\n",
      "[CV]  max_iter=10, n_clusters=4, n_init=5, n_jobs=-1, tol=0.0001, score=-29.345390773067358, total=   0.1s\n",
      "[CV] max_iter=10, n_clusters=4, n_init=6, n_jobs=-1, tol=5e-05 .......\n",
      "[CV]  max_iter=10, n_clusters=4, n_init=6, n_jobs=-1, tol=5e-05, score=-40.04268427435859, total=   0.1s\n",
      "[CV] max_iter=10, n_clusters=4, n_init=6, n_jobs=-1, tol=5e-05 .......\n",
      "[CV]  max_iter=10, n_clusters=4, n_init=6, n_jobs=-1, tol=5e-05, score=-32.08120095665151, total=   0.2s\n",
      "[CV] max_iter=10, n_clusters=4, n_init=6, n_jobs=-1, tol=5e-05 .......\n",
      "[CV]  max_iter=10, n_clusters=4, n_init=6, n_jobs=-1, tol=5e-05, score=-29.36192088724698, total=   0.1s\n",
      "[CV] max_iter=10, n_clusters=4, n_init=6, n_jobs=-1, tol=8e-05 .......\n",
      "[CV]  max_iter=10, n_clusters=4, n_init=6, n_jobs=-1, tol=8e-05, score=-39.92934828755338, total=   0.1s\n",
      "[CV] max_iter=10, n_clusters=4, n_init=6, n_jobs=-1, tol=8e-05 .......\n",
      "[CV]  max_iter=10, n_clusters=4, n_init=6, n_jobs=-1, tol=8e-05, score=-31.573738119522737, total=   0.2s\n",
      "[CV] max_iter=10, n_clusters=4, n_init=6, n_jobs=-1, tol=8e-05 .......\n",
      "[CV]  max_iter=10, n_clusters=4, n_init=6, n_jobs=-1, tol=8e-05, score=-29.32041790909104, total=   0.2s\n",
      "[CV] max_iter=10, n_clusters=4, n_init=6, n_jobs=-1, tol=0.0001 ......\n",
      "[CV]  max_iter=10, n_clusters=4, n_init=6, n_jobs=-1, tol=0.0001, score=-39.85441293307113, total=   0.1s\n",
      "[CV] max_iter=10, n_clusters=4, n_init=6, n_jobs=-1, tol=0.0001 ......\n",
      "[CV]  max_iter=10, n_clusters=4, n_init=6, n_jobs=-1, tol=0.0001, score=-31.390036923376787, total=   0.1s\n",
      "[CV] max_iter=10, n_clusters=4, n_init=6, n_jobs=-1, tol=0.0001 ......\n",
      "[CV]  max_iter=10, n_clusters=4, n_init=6, n_jobs=-1, tol=0.0001, score=-29.531496113306495, total=   0.1s\n",
      "[CV] max_iter=10, n_clusters=4, n_init=7, n_jobs=-1, tol=5e-05 .......\n",
      "[CV]  max_iter=10, n_clusters=4, n_init=7, n_jobs=-1, tol=5e-05, score=-39.69171754158803, total=   0.1s\n",
      "[CV] max_iter=10, n_clusters=4, n_init=7, n_jobs=-1, tol=5e-05 .......\n",
      "[CV]  max_iter=10, n_clusters=4, n_init=7, n_jobs=-1, tol=5e-05, score=-31.323720183461866, total=   0.2s\n",
      "[CV] max_iter=10, n_clusters=4, n_init=7, n_jobs=-1, tol=5e-05 .......\n",
      "[CV]  max_iter=10, n_clusters=4, n_init=7, n_jobs=-1, tol=5e-05, score=-29.36192088724698, total=   0.2s\n",
      "[CV] max_iter=10, n_clusters=4, n_init=7, n_jobs=-1, tol=8e-05 .......\n",
      "[CV]  max_iter=10, n_clusters=4, n_init=7, n_jobs=-1, tol=8e-05, score=-39.98555118437511, total=   0.1s\n",
      "[CV] max_iter=10, n_clusters=4, n_init=7, n_jobs=-1, tol=8e-05 .......\n",
      "[CV]  max_iter=10, n_clusters=4, n_init=7, n_jobs=-1, tol=8e-05, score=-31.511137581304297, total=   0.2s\n",
      "[CV] max_iter=10, n_clusters=4, n_init=7, n_jobs=-1, tol=8e-05 .......\n",
      "[CV]  max_iter=10, n_clusters=4, n_init=7, n_jobs=-1, tol=8e-05, score=-29.335842993044288, total=   0.2s\n",
      "[CV] max_iter=10, n_clusters=4, n_init=7, n_jobs=-1, tol=0.0001 ......\n",
      "[CV]  max_iter=10, n_clusters=4, n_init=7, n_jobs=-1, tol=0.0001, score=-39.72851533509539, total=   0.1s\n",
      "[CV] max_iter=10, n_clusters=4, n_init=7, n_jobs=-1, tol=0.0001 ......\n",
      "[CV]  max_iter=10, n_clusters=4, n_init=7, n_jobs=-1, tol=0.0001, score=-31.558677101249984, total=   0.2s\n",
      "[CV] max_iter=10, n_clusters=4, n_init=7, n_jobs=-1, tol=0.0001 ......\n",
      "[CV]  max_iter=10, n_clusters=4, n_init=7, n_jobs=-1, tol=0.0001, score=-29.30856861509594, total=   0.2s\n",
      "[CV] max_iter=10, n_clusters=4, n_init=8, n_jobs=-1, tol=5e-05 .......\n",
      "[CV]  max_iter=10, n_clusters=4, n_init=8, n_jobs=-1, tol=5e-05, score=-39.76394798093552, total=   0.2s\n",
      "[CV] max_iter=10, n_clusters=4, n_init=8, n_jobs=-1, tol=5e-05 .......\n",
      "[CV]  max_iter=10, n_clusters=4, n_init=8, n_jobs=-1, tol=5e-05, score=-31.274227690361464, total=   0.2s\n",
      "[CV] max_iter=10, n_clusters=4, n_init=8, n_jobs=-1, tol=5e-05 .......\n",
      "[CV]  max_iter=10, n_clusters=4, n_init=8, n_jobs=-1, tol=5e-05, score=-29.38382931654123, total=   0.2s\n",
      "[CV] max_iter=10, n_clusters=4, n_init=8, n_jobs=-1, tol=8e-05 .......\n",
      "[CV]  max_iter=10, n_clusters=4, n_init=8, n_jobs=-1, tol=8e-05, score=-40.077404402742005, total=   0.2s\n",
      "[CV] max_iter=10, n_clusters=4, n_init=8, n_jobs=-1, tol=8e-05 .......\n"
     ]
    },
    {
     "name": "stdout",
     "output_type": "stream",
     "text": [
      "[CV]  max_iter=10, n_clusters=4, n_init=8, n_jobs=-1, tol=8e-05, score=-31.27097107126635, total=   0.2s\n",
      "[CV] max_iter=10, n_clusters=4, n_init=8, n_jobs=-1, tol=8e-05 .......\n",
      "[CV]  max_iter=10, n_clusters=4, n_init=8, n_jobs=-1, tol=8e-05, score=-29.36192088724698, total=   0.2s\n",
      "[CV] max_iter=10, n_clusters=4, n_init=8, n_jobs=-1, tol=0.0001 ......\n",
      "[CV]  max_iter=10, n_clusters=4, n_init=8, n_jobs=-1, tol=0.0001, score=-40.25412462132381, total=   0.2s\n",
      "[CV] max_iter=10, n_clusters=4, n_init=8, n_jobs=-1, tol=0.0001 ......\n",
      "[CV]  max_iter=10, n_clusters=4, n_init=8, n_jobs=-1, tol=0.0001, score=-31.535060751260247, total=   0.2s\n",
      "[CV] max_iter=10, n_clusters=4, n_init=8, n_jobs=-1, tol=0.0001 ......\n",
      "[CV]  max_iter=10, n_clusters=4, n_init=8, n_jobs=-1, tol=0.0001, score=-29.36269716128487, total=   0.2s\n",
      "[CV] max_iter=10, n_clusters=4, n_init=9, n_jobs=-1, tol=5e-05 .......\n",
      "[CV]  max_iter=10, n_clusters=4, n_init=9, n_jobs=-1, tol=5e-05, score=-39.77592015524538, total=   0.2s\n",
      "[CV] max_iter=10, n_clusters=4, n_init=9, n_jobs=-1, tol=5e-05 .......\n",
      "[CV]  max_iter=10, n_clusters=4, n_init=9, n_jobs=-1, tol=5e-05, score=-31.357814488642923, total=   0.2s\n",
      "[CV] max_iter=10, n_clusters=4, n_init=9, n_jobs=-1, tol=5e-05 .......\n",
      "[CV]  max_iter=10, n_clusters=4, n_init=9, n_jobs=-1, tol=5e-05, score=-29.338443915391927, total=   0.2s\n",
      "[CV] max_iter=10, n_clusters=4, n_init=9, n_jobs=-1, tol=8e-05 .......\n",
      "[CV]  max_iter=10, n_clusters=4, n_init=9, n_jobs=-1, tol=8e-05, score=-40.049551215467, total=   0.2s\n",
      "[CV] max_iter=10, n_clusters=4, n_init=9, n_jobs=-1, tol=8e-05 .......\n",
      "[CV]  max_iter=10, n_clusters=4, n_init=9, n_jobs=-1, tol=8e-05, score=-31.43896268612168, total=   0.3s\n",
      "[CV] max_iter=10, n_clusters=4, n_init=9, n_jobs=-1, tol=8e-05 .......\n",
      "[CV]  max_iter=10, n_clusters=4, n_init=9, n_jobs=-1, tol=8e-05, score=-29.394608717114906, total=   0.3s\n",
      "[CV] max_iter=10, n_clusters=4, n_init=9, n_jobs=-1, tol=0.0001 ......\n",
      "[CV]  max_iter=10, n_clusters=4, n_init=9, n_jobs=-1, tol=0.0001, score=-40.28483580236411, total=   0.2s\n",
      "[CV] max_iter=10, n_clusters=4, n_init=9, n_jobs=-1, tol=0.0001 ......\n",
      "[CV]  max_iter=10, n_clusters=4, n_init=9, n_jobs=-1, tol=0.0001, score=-31.364293463975713, total=   0.2s\n",
      "[CV] max_iter=10, n_clusters=4, n_init=9, n_jobs=-1, tol=0.0001 ......\n",
      "[CV]  max_iter=10, n_clusters=4, n_init=9, n_jobs=-1, tol=0.0001, score=-29.3925335872489, total=   0.3s\n",
      "[CV] max_iter=15, n_clusters=4, n_init=1, n_jobs=-1, tol=5e-05 .......\n",
      "[CV]  max_iter=15, n_clusters=4, n_init=1, n_jobs=-1, tol=5e-05, score=-40.35006952307606, total=   0.0s\n",
      "[CV] max_iter=15, n_clusters=4, n_init=1, n_jobs=-1, tol=5e-05 .......\n",
      "[CV]  max_iter=15, n_clusters=4, n_init=1, n_jobs=-1, tol=5e-05, score=-31.390036923376787, total=   0.1s\n",
      "[CV] max_iter=15, n_clusters=4, n_init=1, n_jobs=-1, tol=5e-05 .......\n",
      "[CV]  max_iter=15, n_clusters=4, n_init=1, n_jobs=-1, tol=5e-05, score=-29.502689323680336, total=   0.1s\n",
      "[CV] max_iter=15, n_clusters=4, n_init=1, n_jobs=-1, tol=8e-05 .......\n",
      "[CV]  max_iter=15, n_clusters=4, n_init=1, n_jobs=-1, tol=8e-05, score=-39.88376924184417, total=   0.1s\n",
      "[CV] max_iter=15, n_clusters=4, n_init=1, n_jobs=-1, tol=8e-05 .......\n",
      "[CV]  max_iter=15, n_clusters=4, n_init=1, n_jobs=-1, tol=8e-05, score=-31.521465639399914, total=   0.1s\n",
      "[CV] max_iter=15, n_clusters=4, n_init=1, n_jobs=-1, tol=8e-05 .......\n",
      "[CV]  max_iter=15, n_clusters=4, n_init=1, n_jobs=-1, tol=8e-05, score=-31.005398283683505, total=   0.1s\n",
      "[CV] max_iter=15, n_clusters=4, n_init=1, n_jobs=-1, tol=0.0001 ......\n",
      "[CV]  max_iter=15, n_clusters=4, n_init=1, n_jobs=-1, tol=0.0001, score=-39.94119397238433, total=   0.1s\n",
      "[CV] max_iter=15, n_clusters=4, n_init=1, n_jobs=-1, tol=0.0001 ......\n",
      "[CV]  max_iter=15, n_clusters=4, n_init=1, n_jobs=-1, tol=0.0001, score=-31.556559068503866, total=   0.1s\n",
      "[CV] max_iter=15, n_clusters=4, n_init=1, n_jobs=-1, tol=0.0001 ......\n",
      "[CV]  max_iter=15, n_clusters=4, n_init=1, n_jobs=-1, tol=0.0001, score=-29.514213684696117, total=   0.1s\n",
      "[CV] max_iter=15, n_clusters=4, n_init=2, n_jobs=-1, tol=5e-05 .......\n",
      "[CV]  max_iter=15, n_clusters=4, n_init=2, n_jobs=-1, tol=5e-05, score=-40.184710548591816, total=   0.1s\n",
      "[CV] max_iter=15, n_clusters=4, n_init=2, n_jobs=-1, tol=5e-05 .......\n",
      "[CV]  max_iter=15, n_clusters=4, n_init=2, n_jobs=-1, tol=5e-05, score=-32.3125571456673, total=   0.1s\n",
      "[CV] max_iter=15, n_clusters=4, n_init=2, n_jobs=-1, tol=5e-05 .......\n",
      "[CV]  max_iter=15, n_clusters=4, n_init=2, n_jobs=-1, tol=5e-05, score=-29.471457311311827, total=   0.1s\n",
      "[CV] max_iter=15, n_clusters=4, n_init=2, n_jobs=-1, tol=8e-05 .......\n",
      "[CV]  max_iter=15, n_clusters=4, n_init=2, n_jobs=-1, tol=8e-05, score=-39.776359242837444, total=   0.1s\n",
      "[CV] max_iter=15, n_clusters=4, n_init=2, n_jobs=-1, tol=8e-05 .......\n",
      "[CV]  max_iter=15, n_clusters=4, n_init=2, n_jobs=-1, tol=8e-05, score=-32.444519312654855, total=   0.1s\n",
      "[CV] max_iter=15, n_clusters=4, n_init=2, n_jobs=-1, tol=8e-05 .......\n",
      "[CV]  max_iter=15, n_clusters=4, n_init=2, n_jobs=-1, tol=8e-05, score=-29.542350006409237, total=   0.1s\n",
      "[CV] max_iter=15, n_clusters=4, n_init=2, n_jobs=-1, tol=0.0001 ......\n",
      "[CV]  max_iter=15, n_clusters=4, n_init=2, n_jobs=-1, tol=0.0001, score=-39.79139111252842, total=   0.1s\n",
      "[CV] max_iter=15, n_clusters=4, n_init=2, n_jobs=-1, tol=0.0001 ......\n",
      "[CV]  max_iter=15, n_clusters=4, n_init=2, n_jobs=-1, tol=0.0001, score=-31.33410559675933, total=   0.1s\n",
      "[CV] max_iter=15, n_clusters=4, n_init=2, n_jobs=-1, tol=0.0001 ......\n",
      "[CV]  max_iter=15, n_clusters=4, n_init=2, n_jobs=-1, tol=0.0001, score=-29.446533821565215, total=   0.1s\n",
      "[CV] max_iter=15, n_clusters=4, n_init=3, n_jobs=-1, tol=5e-05 .......\n",
      "[CV]  max_iter=15, n_clusters=4, n_init=3, n_jobs=-1, tol=5e-05, score=-40.239764405056405, total=   0.1s\n",
      "[CV] max_iter=15, n_clusters=4, n_init=3, n_jobs=-1, tol=5e-05 .......\n",
      "[CV]  max_iter=15, n_clusters=4, n_init=3, n_jobs=-1, tol=5e-05, score=-31.918413387021314, total=   0.1s\n",
      "[CV] max_iter=15, n_clusters=4, n_init=3, n_jobs=-1, tol=5e-05 .......\n",
      "[CV]  max_iter=15, n_clusters=4, n_init=3, n_jobs=-1, tol=5e-05, score=-29.345390773067358, total=   0.1s\n",
      "[CV] max_iter=15, n_clusters=4, n_init=3, n_jobs=-1, tol=8e-05 .......\n",
      "[CV]  max_iter=15, n_clusters=4, n_init=3, n_jobs=-1, tol=8e-05, score=-39.940870435498, total=   0.1s\n",
      "[CV] max_iter=15, n_clusters=4, n_init=3, n_jobs=-1, tol=8e-05 .......\n",
      "[CV]  max_iter=15, n_clusters=4, n_init=3, n_jobs=-1, tol=8e-05, score=-31.594071097239596, total=   0.1s\n",
      "[CV] max_iter=15, n_clusters=4, n_init=3, n_jobs=-1, tol=8e-05 .......\n",
      "[CV]  max_iter=15, n_clusters=4, n_init=3, n_jobs=-1, tol=8e-05, score=-29.36269716128487, total=   0.1s\n",
      "[CV] max_iter=15, n_clusters=4, n_init=3, n_jobs=-1, tol=0.0001 ......\n",
      "[CV]  max_iter=15, n_clusters=4, n_init=3, n_jobs=-1, tol=0.0001, score=-40.02295374076566, total=   0.1s\n",
      "[CV] max_iter=15, n_clusters=4, n_init=3, n_jobs=-1, tol=0.0001 ......\n",
      "[CV]  max_iter=15, n_clusters=4, n_init=3, n_jobs=-1, tol=0.0001, score=-31.793154672293817, total=   0.1s\n",
      "[CV] max_iter=15, n_clusters=4, n_init=3, n_jobs=-1, tol=0.0001 ......\n",
      "[CV]  max_iter=15, n_clusters=4, n_init=3, n_jobs=-1, tol=0.0001, score=-29.394608717114906, total=   0.1s\n",
      "[CV] max_iter=15, n_clusters=4, n_init=4, n_jobs=-1, tol=5e-05 .......\n",
      "[CV]  max_iter=15, n_clusters=4, n_init=4, n_jobs=-1, tol=5e-05, score=-39.68498913510112, total=   0.1s\n",
      "[CV] max_iter=15, n_clusters=4, n_init=4, n_jobs=-1, tol=5e-05 .......\n",
      "[CV]  max_iter=15, n_clusters=4, n_init=4, n_jobs=-1, tol=5e-05, score=-31.297282367324545, total=   0.1s\n",
      "[CV] max_iter=15, n_clusters=4, n_init=4, n_jobs=-1, tol=5e-05 .......\n",
      "[CV]  max_iter=15, n_clusters=4, n_init=4, n_jobs=-1, tol=5e-05, score=-29.591304912846276, total=   0.1s\n",
      "[CV] max_iter=15, n_clusters=4, n_init=4, n_jobs=-1, tol=8e-05 .......\n",
      "[CV]  max_iter=15, n_clusters=4, n_init=4, n_jobs=-1, tol=8e-05, score=-39.842220948956445, total=   0.1s\n",
      "[CV] max_iter=15, n_clusters=4, n_init=4, n_jobs=-1, tol=8e-05 .......\n",
      "[CV]  max_iter=15, n_clusters=4, n_init=4, n_jobs=-1, tol=8e-05, score=-31.928446677705512, total=   0.1s\n",
      "[CV] max_iter=15, n_clusters=4, n_init=4, n_jobs=-1, tol=8e-05 .......\n",
      "[CV]  max_iter=15, n_clusters=4, n_init=4, n_jobs=-1, tol=8e-05, score=-29.398829854684116, total=   0.1s\n",
      "[CV] max_iter=15, n_clusters=4, n_init=4, n_jobs=-1, tol=0.0001 ......\n",
      "[CV]  max_iter=15, n_clusters=4, n_init=4, n_jobs=-1, tol=0.0001, score=-39.999922932084544, total=   0.1s\n",
      "[CV] max_iter=15, n_clusters=4, n_init=4, n_jobs=-1, tol=0.0001 ......\n"
     ]
    },
    {
     "name": "stdout",
     "output_type": "stream",
     "text": [
      "[CV]  max_iter=15, n_clusters=4, n_init=4, n_jobs=-1, tol=0.0001, score=-31.90994758478574, total=   0.2s\n",
      "[CV] max_iter=15, n_clusters=4, n_init=4, n_jobs=-1, tol=0.0001 ......\n",
      "[CV]  max_iter=15, n_clusters=4, n_init=4, n_jobs=-1, tol=0.0001, score=-29.433194580540096, total=   0.1s\n",
      "[CV] max_iter=15, n_clusters=4, n_init=5, n_jobs=-1, tol=5e-05 .......\n",
      "[CV]  max_iter=15, n_clusters=4, n_init=5, n_jobs=-1, tol=5e-05, score=-40.249281524838295, total=   0.1s\n",
      "[CV] max_iter=15, n_clusters=4, n_init=5, n_jobs=-1, tol=5e-05 .......\n",
      "[CV]  max_iter=15, n_clusters=4, n_init=5, n_jobs=-1, tol=5e-05, score=-31.305485396771488, total=   0.2s\n",
      "[CV] max_iter=15, n_clusters=4, n_init=5, n_jobs=-1, tol=5e-05 .......\n",
      "[CV]  max_iter=15, n_clusters=4, n_init=5, n_jobs=-1, tol=5e-05, score=-29.473906464467646, total=   0.1s\n",
      "[CV] max_iter=15, n_clusters=4, n_init=5, n_jobs=-1, tol=8e-05 .......\n",
      "[CV]  max_iter=15, n_clusters=4, n_init=5, n_jobs=-1, tol=8e-05, score=-40.077404402742005, total=   0.1s\n",
      "[CV] max_iter=15, n_clusters=4, n_init=5, n_jobs=-1, tol=8e-05 .......\n",
      "[CV]  max_iter=15, n_clusters=4, n_init=5, n_jobs=-1, tol=8e-05, score=-31.37341984174126, total=   0.2s\n",
      "[CV] max_iter=15, n_clusters=4, n_init=5, n_jobs=-1, tol=8e-05 .......\n",
      "[CV]  max_iter=15, n_clusters=4, n_init=5, n_jobs=-1, tol=8e-05, score=-29.260446652539493, total=   0.1s\n",
      "[CV] max_iter=15, n_clusters=4, n_init=5, n_jobs=-1, tol=0.0001 ......\n",
      "[CV]  max_iter=15, n_clusters=4, n_init=5, n_jobs=-1, tol=0.0001, score=-40.361779464070594, total=   0.1s\n",
      "[CV] max_iter=15, n_clusters=4, n_init=5, n_jobs=-1, tol=0.0001 ......\n",
      "[CV]  max_iter=15, n_clusters=4, n_init=5, n_jobs=-1, tol=0.0001, score=-31.535060751260247, total=   0.1s\n",
      "[CV] max_iter=15, n_clusters=4, n_init=5, n_jobs=-1, tol=0.0001 ......\n",
      "[CV]  max_iter=15, n_clusters=4, n_init=5, n_jobs=-1, tol=0.0001, score=-29.394608717114906, total=   0.2s\n",
      "[CV] max_iter=15, n_clusters=4, n_init=6, n_jobs=-1, tol=5e-05 .......\n",
      "[CV]  max_iter=15, n_clusters=4, n_init=6, n_jobs=-1, tol=5e-05, score=-40.08511299602993, total=   0.1s\n",
      "[CV] max_iter=15, n_clusters=4, n_init=6, n_jobs=-1, tol=5e-05 .......\n",
      "[CV]  max_iter=15, n_clusters=4, n_init=6, n_jobs=-1, tol=5e-05, score=-31.58616257902072, total=   0.1s\n",
      "[CV] max_iter=15, n_clusters=4, n_init=6, n_jobs=-1, tol=5e-05 .......\n",
      "[CV]  max_iter=15, n_clusters=4, n_init=6, n_jobs=-1, tol=5e-05, score=-29.305433308520296, total=   0.2s\n",
      "[CV] max_iter=15, n_clusters=4, n_init=6, n_jobs=-1, tol=8e-05 .......\n",
      "[CV]  max_iter=15, n_clusters=4, n_init=6, n_jobs=-1, tol=8e-05, score=-39.86067371767892, total=   0.1s\n",
      "[CV] max_iter=15, n_clusters=4, n_init=6, n_jobs=-1, tol=8e-05 .......\n",
      "[CV]  max_iter=15, n_clusters=4, n_init=6, n_jobs=-1, tol=8e-05, score=-31.455645074216697, total=   0.1s\n",
      "[CV] max_iter=15, n_clusters=4, n_init=6, n_jobs=-1, tol=8e-05 .......\n",
      "[CV]  max_iter=15, n_clusters=4, n_init=6, n_jobs=-1, tol=8e-05, score=-29.305433308520296, total=   0.2s\n",
      "[CV] max_iter=15, n_clusters=4, n_init=6, n_jobs=-1, tol=0.0001 ......\n",
      "[CV]  max_iter=15, n_clusters=4, n_init=6, n_jobs=-1, tol=0.0001, score=-39.89697823329854, total=   0.1s\n",
      "[CV] max_iter=15, n_clusters=4, n_init=6, n_jobs=-1, tol=0.0001 ......\n",
      "[CV]  max_iter=15, n_clusters=4, n_init=6, n_jobs=-1, tol=0.0001, score=-31.292811233512644, total=   0.1s\n",
      "[CV] max_iter=15, n_clusters=4, n_init=6, n_jobs=-1, tol=0.0001 ......\n",
      "[CV]  max_iter=15, n_clusters=4, n_init=6, n_jobs=-1, tol=0.0001, score=-29.36192088724698, total=   0.1s\n",
      "[CV] max_iter=15, n_clusters=4, n_init=7, n_jobs=-1, tol=5e-05 .......\n",
      "[CV]  max_iter=15, n_clusters=4, n_init=7, n_jobs=-1, tol=5e-05, score=-40.19451744907669, total=   0.2s\n",
      "[CV] max_iter=15, n_clusters=4, n_init=7, n_jobs=-1, tol=5e-05 .......\n",
      "[CV]  max_iter=15, n_clusters=4, n_init=7, n_jobs=-1, tol=5e-05, score=-31.594071097239596, total=   0.1s\n",
      "[CV] max_iter=15, n_clusters=4, n_init=7, n_jobs=-1, tol=5e-05 .......\n",
      "[CV]  max_iter=15, n_clusters=4, n_init=7, n_jobs=-1, tol=5e-05, score=-29.488334808101317, total=   0.2s\n",
      "[CV] max_iter=15, n_clusters=4, n_init=7, n_jobs=-1, tol=8e-05 .......\n",
      "[CV]  max_iter=15, n_clusters=4, n_init=7, n_jobs=-1, tol=8e-05, score=-39.936367587115775, total=   0.2s\n",
      "[CV] max_iter=15, n_clusters=4, n_init=7, n_jobs=-1, tol=8e-05 .......\n",
      "[CV]  max_iter=15, n_clusters=4, n_init=7, n_jobs=-1, tol=8e-05, score=-31.657682569684027, total=   0.2s\n",
      "[CV] max_iter=15, n_clusters=4, n_init=7, n_jobs=-1, tol=8e-05 .......\n",
      "[CV]  max_iter=15, n_clusters=4, n_init=7, n_jobs=-1, tol=8e-05, score=-29.32041790909104, total=   0.1s\n",
      "[CV] max_iter=15, n_clusters=4, n_init=7, n_jobs=-1, tol=0.0001 ......\n",
      "[CV]  max_iter=15, n_clusters=4, n_init=7, n_jobs=-1, tol=0.0001, score=-40.01380577589985, total=   0.1s\n",
      "[CV] max_iter=15, n_clusters=4, n_init=7, n_jobs=-1, tol=0.0001 ......\n",
      "[CV]  max_iter=15, n_clusters=4, n_init=7, n_jobs=-1, tol=0.0001, score=-31.306104811395503, total=   0.2s\n",
      "[CV] max_iter=15, n_clusters=4, n_init=7, n_jobs=-1, tol=0.0001 ......\n",
      "[CV]  max_iter=15, n_clusters=4, n_init=7, n_jobs=-1, tol=0.0001, score=-29.71425536413171, total=   0.2s\n",
      "[CV] max_iter=15, n_clusters=4, n_init=8, n_jobs=-1, tol=5e-05 .......\n",
      "[CV]  max_iter=15, n_clusters=4, n_init=8, n_jobs=-1, tol=5e-05, score=-39.84020265343635, total=   0.1s\n",
      "[CV] max_iter=15, n_clusters=4, n_init=8, n_jobs=-1, tol=5e-05 .......\n",
      "[CV]  max_iter=15, n_clusters=4, n_init=8, n_jobs=-1, tol=5e-05, score=-32.095843828293546, total=   0.2s\n",
      "[CV] max_iter=15, n_clusters=4, n_init=8, n_jobs=-1, tol=5e-05 .......\n",
      "[CV]  max_iter=15, n_clusters=4, n_init=8, n_jobs=-1, tol=5e-05, score=-29.36269716128487, total=   0.2s\n",
      "[CV] max_iter=15, n_clusters=4, n_init=8, n_jobs=-1, tol=8e-05 .......\n",
      "[CV]  max_iter=15, n_clusters=4, n_init=8, n_jobs=-1, tol=8e-05, score=-39.67240767303045, total=   0.2s\n",
      "[CV] max_iter=15, n_clusters=4, n_init=8, n_jobs=-1, tol=8e-05 .......\n",
      "[CV]  max_iter=15, n_clusters=4, n_init=8, n_jobs=-1, tol=8e-05, score=-31.390036923376787, total=   0.2s\n",
      "[CV] max_iter=15, n_clusters=4, n_init=8, n_jobs=-1, tol=8e-05 .......\n",
      "[CV]  max_iter=15, n_clusters=4, n_init=8, n_jobs=-1, tol=8e-05, score=-29.394608717114906, total=   0.2s\n",
      "[CV] max_iter=15, n_clusters=4, n_init=8, n_jobs=-1, tol=0.0001 ......\n",
      "[CV]  max_iter=15, n_clusters=4, n_init=8, n_jobs=-1, tol=0.0001, score=-40.25320429206732, total=   0.1s\n",
      "[CV] max_iter=15, n_clusters=4, n_init=8, n_jobs=-1, tol=0.0001 ......\n",
      "[CV]  max_iter=15, n_clusters=4, n_init=8, n_jobs=-1, tol=0.0001, score=-31.441498024135434, total=   0.2s\n",
      "[CV] max_iter=15, n_clusters=4, n_init=8, n_jobs=-1, tol=0.0001 ......\n",
      "[CV]  max_iter=15, n_clusters=4, n_init=8, n_jobs=-1, tol=0.0001, score=-29.488334808101317, total=   0.2s\n",
      "[CV] max_iter=15, n_clusters=4, n_init=9, n_jobs=-1, tol=5e-05 .......\n",
      "[CV]  max_iter=15, n_clusters=4, n_init=9, n_jobs=-1, tol=5e-05, score=-40.2507424545004, total=   0.2s\n",
      "[CV] max_iter=15, n_clusters=4, n_init=9, n_jobs=-1, tol=5e-05 .......\n",
      "[CV]  max_iter=15, n_clusters=4, n_init=9, n_jobs=-1, tol=5e-05, score=-32.02521007316524, total=   0.2s\n",
      "[CV] max_iter=15, n_clusters=4, n_init=9, n_jobs=-1, tol=5e-05 .......\n",
      "[CV]  max_iter=15, n_clusters=4, n_init=9, n_jobs=-1, tol=5e-05, score=-29.36192088724698, total=   0.2s\n",
      "[CV] max_iter=15, n_clusters=4, n_init=9, n_jobs=-1, tol=8e-05 .......\n",
      "[CV]  max_iter=15, n_clusters=4, n_init=9, n_jobs=-1, tol=8e-05, score=-40.27114373680594, total=   0.2s\n",
      "[CV] max_iter=15, n_clusters=4, n_init=9, n_jobs=-1, tol=8e-05 .......\n",
      "[CV]  max_iter=15, n_clusters=4, n_init=9, n_jobs=-1, tol=8e-05, score=-31.43106500647854, total=   0.3s\n",
      "[CV] max_iter=15, n_clusters=4, n_init=9, n_jobs=-1, tol=8e-05 .......\n",
      "[CV]  max_iter=15, n_clusters=4, n_init=9, n_jobs=-1, tol=8e-05, score=-29.36269716128487, total=   0.2s\n",
      "[CV] max_iter=15, n_clusters=4, n_init=9, n_jobs=-1, tol=0.0001 ......\n",
      "[CV]  max_iter=15, n_clusters=4, n_init=9, n_jobs=-1, tol=0.0001, score=-39.86648115637, total=   0.2s\n",
      "[CV] max_iter=15, n_clusters=4, n_init=9, n_jobs=-1, tol=0.0001 ......\n",
      "[CV]  max_iter=15, n_clusters=4, n_init=9, n_jobs=-1, tol=0.0001, score=-31.5773797674363, total=   0.2s\n",
      "[CV] max_iter=15, n_clusters=4, n_init=9, n_jobs=-1, tol=0.0001 ......\n",
      "[CV]  max_iter=15, n_clusters=4, n_init=9, n_jobs=-1, tol=0.0001, score=-29.38175418667523, total=   0.2s\n",
      "[CV] max_iter=20, n_clusters=4, n_init=1, n_jobs=-1, tol=5e-05 .......\n"
     ]
    },
    {
     "name": "stdout",
     "output_type": "stream",
     "text": [
      "[CV]  max_iter=20, n_clusters=4, n_init=1, n_jobs=-1, tol=5e-05, score=-39.75247912291327, total=   0.1s\n",
      "[CV] max_iter=20, n_clusters=4, n_init=1, n_jobs=-1, tol=5e-05 .......\n",
      "[CV]  max_iter=20, n_clusters=4, n_init=1, n_jobs=-1, tol=5e-05, score=-31.639769131544213, total=   0.0s\n",
      "[CV] max_iter=20, n_clusters=4, n_init=1, n_jobs=-1, tol=5e-05 .......\n",
      "[CV]  max_iter=20, n_clusters=4, n_init=1, n_jobs=-1, tol=5e-05, score=-29.396139066762544, total=   0.1s\n",
      "[CV] max_iter=20, n_clusters=4, n_init=1, n_jobs=-1, tol=8e-05 .......\n",
      "[CV]  max_iter=20, n_clusters=4, n_init=1, n_jobs=-1, tol=8e-05, score=-40.210782611873974, total=   0.1s\n",
      "[CV] max_iter=20, n_clusters=4, n_init=1, n_jobs=-1, tol=8e-05 .......\n",
      "[CV]  max_iter=20, n_clusters=4, n_init=1, n_jobs=-1, tol=8e-05, score=-31.745389683653375, total=   0.1s\n",
      "[CV] max_iter=20, n_clusters=4, n_init=1, n_jobs=-1, tol=8e-05 .......\n",
      "[CV]  max_iter=20, n_clusters=4, n_init=1, n_jobs=-1, tol=8e-05, score=-29.723774615569162, total=   0.1s\n",
      "[CV] max_iter=20, n_clusters=4, n_init=1, n_jobs=-1, tol=0.0001 ......\n",
      "[CV]  max_iter=20, n_clusters=4, n_init=1, n_jobs=-1, tol=0.0001, score=-39.81720831463684, total=   0.1s\n",
      "[CV] max_iter=20, n_clusters=4, n_init=1, n_jobs=-1, tol=0.0001 ......\n",
      "[CV]  max_iter=20, n_clusters=4, n_init=1, n_jobs=-1, tol=0.0001, score=-32.32714152808458, total=   0.1s\n",
      "[CV] max_iter=20, n_clusters=4, n_init=1, n_jobs=-1, tol=0.0001 ......\n",
      "[CV]  max_iter=20, n_clusters=4, n_init=1, n_jobs=-1, tol=0.0001, score=-29.594569531464586, total=   0.1s\n",
      "[CV] max_iter=20, n_clusters=4, n_init=2, n_jobs=-1, tol=5e-05 .......\n",
      "[CV]  max_iter=20, n_clusters=4, n_init=2, n_jobs=-1, tol=5e-05, score=-39.70688631376393, total=   0.1s\n",
      "[CV] max_iter=20, n_clusters=4, n_init=2, n_jobs=-1, tol=5e-05 .......\n",
      "[CV]  max_iter=20, n_clusters=4, n_init=2, n_jobs=-1, tol=5e-05, score=-31.561900546334957, total=   0.1s\n",
      "[CV] max_iter=20, n_clusters=4, n_init=2, n_jobs=-1, tol=5e-05 .......\n",
      "[CV]  max_iter=20, n_clusters=4, n_init=2, n_jobs=-1, tol=5e-05, score=-29.65929757152282, total=   0.1s\n",
      "[CV] max_iter=20, n_clusters=4, n_init=2, n_jobs=-1, tol=8e-05 .......\n",
      "[CV]  max_iter=20, n_clusters=4, n_init=2, n_jobs=-1, tol=8e-05, score=-40.384674591694996, total=   0.1s\n",
      "[CV] max_iter=20, n_clusters=4, n_init=2, n_jobs=-1, tol=8e-05 .......\n",
      "[CV]  max_iter=20, n_clusters=4, n_init=2, n_jobs=-1, tol=8e-05, score=-32.46951433202748, total=   0.1s\n",
      "[CV] max_iter=20, n_clusters=4, n_init=2, n_jobs=-1, tol=8e-05 .......\n",
      "[CV]  max_iter=20, n_clusters=4, n_init=2, n_jobs=-1, tol=8e-05, score=-29.36192088724698, total=   0.1s\n",
      "[CV] max_iter=20, n_clusters=4, n_init=2, n_jobs=-1, tol=0.0001 ......\n",
      "[CV]  max_iter=20, n_clusters=4, n_init=2, n_jobs=-1, tol=0.0001, score=-40.26874174778219, total=   0.1s\n",
      "[CV] max_iter=20, n_clusters=4, n_init=2, n_jobs=-1, tol=0.0001 ......\n",
      "[CV]  max_iter=20, n_clusters=4, n_init=2, n_jobs=-1, tol=0.0001, score=-31.1963313110776, total=   0.1s\n",
      "[CV] max_iter=20, n_clusters=4, n_init=2, n_jobs=-1, tol=0.0001 ......\n",
      "[CV]  max_iter=20, n_clusters=4, n_init=2, n_jobs=-1, tol=0.0001, score=-29.473906464467646, total=   0.1s\n",
      "[CV] max_iter=20, n_clusters=4, n_init=3, n_jobs=-1, tol=5e-05 .......\n",
      "[CV]  max_iter=20, n_clusters=4, n_init=3, n_jobs=-1, tol=5e-05, score=-39.924511608845194, total=   0.1s\n",
      "[CV] max_iter=20, n_clusters=4, n_init=3, n_jobs=-1, tol=5e-05 .......\n",
      "[CV]  max_iter=20, n_clusters=4, n_init=3, n_jobs=-1, tol=5e-05, score=-31.41891163769079, total=   0.1s\n",
      "[CV] max_iter=20, n_clusters=4, n_init=3, n_jobs=-1, tol=5e-05 .......\n",
      "[CV]  max_iter=20, n_clusters=4, n_init=3, n_jobs=-1, tol=5e-05, score=-29.373507816199847, total=   0.1s\n",
      "[CV] max_iter=20, n_clusters=4, n_init=3, n_jobs=-1, tol=8e-05 .......\n",
      "[CV]  max_iter=20, n_clusters=4, n_init=3, n_jobs=-1, tol=8e-05, score=-39.78821027822339, total=   0.1s\n",
      "[CV] max_iter=20, n_clusters=4, n_init=3, n_jobs=-1, tol=8e-05 .......\n",
      "[CV]  max_iter=20, n_clusters=4, n_init=3, n_jobs=-1, tol=8e-05, score=-31.41174318799171, total=   0.1s\n",
      "[CV] max_iter=20, n_clusters=4, n_init=3, n_jobs=-1, tol=8e-05 .......\n",
      "[CV]  max_iter=20, n_clusters=4, n_init=3, n_jobs=-1, tol=8e-05, score=-29.32041790909104, total=   0.1s\n",
      "[CV] max_iter=20, n_clusters=4, n_init=3, n_jobs=-1, tol=0.0001 ......\n",
      "[CV]  max_iter=20, n_clusters=4, n_init=3, n_jobs=-1, tol=0.0001, score=-39.7479265270927, total=   0.1s\n",
      "[CV] max_iter=20, n_clusters=4, n_init=3, n_jobs=-1, tol=0.0001 ......\n",
      "[CV]  max_iter=20, n_clusters=4, n_init=3, n_jobs=-1, tol=0.0001, score=-31.390036923376787, total=   0.1s\n",
      "[CV] max_iter=20, n_clusters=4, n_init=3, n_jobs=-1, tol=0.0001 ......\n",
      "[CV]  max_iter=20, n_clusters=4, n_init=3, n_jobs=-1, tol=0.0001, score=-29.398829854684116, total=   0.1s\n",
      "[CV] max_iter=20, n_clusters=4, n_init=4, n_jobs=-1, tol=5e-05 .......\n",
      "[CV]  max_iter=20, n_clusters=4, n_init=4, n_jobs=-1, tol=5e-05, score=-39.7353328492389, total=   0.1s\n",
      "[CV] max_iter=20, n_clusters=4, n_init=4, n_jobs=-1, tol=5e-05 .......\n",
      "[CV]  max_iter=20, n_clusters=4, n_init=4, n_jobs=-1, tol=5e-05, score=-31.44438453893814, total=   0.1s\n",
      "[CV] max_iter=20, n_clusters=4, n_init=4, n_jobs=-1, tol=5e-05 .......\n",
      "[CV]  max_iter=20, n_clusters=4, n_init=4, n_jobs=-1, tol=5e-05, score=-29.3114832713503, total=   0.2s\n",
      "[CV] max_iter=20, n_clusters=4, n_init=4, n_jobs=-1, tol=8e-05 .......\n",
      "[CV]  max_iter=20, n_clusters=4, n_init=4, n_jobs=-1, tol=8e-05, score=-39.84851329446915, total=   0.1s\n",
      "[CV] max_iter=20, n_clusters=4, n_init=4, n_jobs=-1, tol=8e-05 .......\n",
      "[CV]  max_iter=20, n_clusters=4, n_init=4, n_jobs=-1, tol=8e-05, score=-31.272974172352008, total=   0.1s\n",
      "[CV] max_iter=20, n_clusters=4, n_init=4, n_jobs=-1, tol=8e-05 .......\n",
      "[CV]  max_iter=20, n_clusters=4, n_init=4, n_jobs=-1, tol=8e-05, score=-29.309345139442055, total=   0.1s\n",
      "[CV] max_iter=20, n_clusters=4, n_init=4, n_jobs=-1, tol=0.0001 ......\n",
      "[CV]  max_iter=20, n_clusters=4, n_init=4, n_jobs=-1, tol=0.0001, score=-40.471441889002115, total=   0.1s\n",
      "[CV] max_iter=20, n_clusters=4, n_init=4, n_jobs=-1, tol=0.0001 ......\n",
      "[CV]  max_iter=20, n_clusters=4, n_init=4, n_jobs=-1, tol=0.0001, score=-31.33410559675933, total=   0.1s\n",
      "[CV] max_iter=20, n_clusters=4, n_init=4, n_jobs=-1, tol=0.0001 ......\n",
      "[CV]  max_iter=20, n_clusters=4, n_init=4, n_jobs=-1, tol=0.0001, score=-29.31804241211797, total=   0.1s\n",
      "[CV] max_iter=20, n_clusters=4, n_init=5, n_jobs=-1, tol=5e-05 .......\n",
      "[CV]  max_iter=20, n_clusters=4, n_init=5, n_jobs=-1, tol=5e-05, score=-39.89945387589603, total=   0.1s\n",
      "[CV] max_iter=20, n_clusters=4, n_init=5, n_jobs=-1, tol=5e-05 .......\n",
      "[CV]  max_iter=20, n_clusters=4, n_init=5, n_jobs=-1, tol=5e-05, score=-31.541732482434323, total=   0.1s\n",
      "[CV] max_iter=20, n_clusters=4, n_init=5, n_jobs=-1, tol=5e-05 .......\n",
      "[CV]  max_iter=20, n_clusters=4, n_init=5, n_jobs=-1, tol=5e-05, score=-30.298297054713526, total=   0.1s\n",
      "[CV] max_iter=20, n_clusters=4, n_init=5, n_jobs=-1, tol=8e-05 .......\n",
      "[CV]  max_iter=20, n_clusters=4, n_init=5, n_jobs=-1, tol=8e-05, score=-39.995759209266325, total=   0.1s\n",
      "[CV] max_iter=20, n_clusters=4, n_init=5, n_jobs=-1, tol=8e-05 .......\n",
      "[CV]  max_iter=20, n_clusters=4, n_init=5, n_jobs=-1, tol=8e-05, score=-31.91325009830739, total=   0.1s\n",
      "[CV] max_iter=20, n_clusters=4, n_init=5, n_jobs=-1, tol=8e-05 .......\n",
      "[CV]  max_iter=20, n_clusters=4, n_init=5, n_jobs=-1, tol=8e-05, score=-29.71425536413171, total=   0.1s\n",
      "[CV] max_iter=20, n_clusters=4, n_init=5, n_jobs=-1, tol=0.0001 ......\n",
      "[CV]  max_iter=20, n_clusters=4, n_init=5, n_jobs=-1, tol=0.0001, score=-40.280991332244454, total=   0.1s\n",
      "[CV] max_iter=20, n_clusters=4, n_init=5, n_jobs=-1, tol=0.0001 ......\n",
      "[CV]  max_iter=20, n_clusters=4, n_init=5, n_jobs=-1, tol=0.0001, score=-31.858478529280582, total=   0.2s\n",
      "[CV] max_iter=20, n_clusters=4, n_init=5, n_jobs=-1, tol=0.0001 ......\n",
      "[CV]  max_iter=20, n_clusters=4, n_init=5, n_jobs=-1, tol=0.0001, score=-29.324463532058004, total=   0.1s\n",
      "[CV] max_iter=20, n_clusters=4, n_init=6, n_jobs=-1, tol=5e-05 .......\n",
      "[CV]  max_iter=20, n_clusters=4, n_init=6, n_jobs=-1, tol=5e-05, score=-39.65226704455518, total=   0.1s\n",
      "[CV] max_iter=20, n_clusters=4, n_init=6, n_jobs=-1, tol=5e-05 .......\n",
      "[CV]  max_iter=20, n_clusters=4, n_init=6, n_jobs=-1, tol=5e-05, score=-31.745266145239583, total=   0.1s\n",
      "[CV] max_iter=20, n_clusters=4, n_init=6, n_jobs=-1, tol=5e-05 .......\n"
     ]
    },
    {
     "name": "stdout",
     "output_type": "stream",
     "text": [
      "[CV]  max_iter=20, n_clusters=4, n_init=6, n_jobs=-1, tol=5e-05, score=-29.405624489905797, total=   0.2s\n",
      "[CV] max_iter=20, n_clusters=4, n_init=6, n_jobs=-1, tol=8e-05 .......\n",
      "[CV]  max_iter=20, n_clusters=4, n_init=6, n_jobs=-1, tol=8e-05, score=-39.845829773703514, total=   0.1s\n",
      "[CV] max_iter=20, n_clusters=4, n_init=6, n_jobs=-1, tol=8e-05 .......\n",
      "[CV]  max_iter=20, n_clusters=4, n_init=6, n_jobs=-1, tol=8e-05, score=-31.553467790018512, total=   0.2s\n",
      "[CV] max_iter=20, n_clusters=4, n_init=6, n_jobs=-1, tol=8e-05 .......\n",
      "[CV]  max_iter=20, n_clusters=4, n_init=6, n_jobs=-1, tol=8e-05, score=-29.573114754933744, total=   0.2s\n",
      "[CV] max_iter=20, n_clusters=4, n_init=6, n_jobs=-1, tol=0.0001 ......\n",
      "[CV]  max_iter=20, n_clusters=4, n_init=6, n_jobs=-1, tol=0.0001, score=-39.6978306855993, total=   0.2s\n",
      "[CV] max_iter=20, n_clusters=4, n_init=6, n_jobs=-1, tol=0.0001 ......\n",
      "[CV]  max_iter=20, n_clusters=4, n_init=6, n_jobs=-1, tol=0.0001, score=-31.43106500647854, total=   0.2s\n",
      "[CV] max_iter=20, n_clusters=4, n_init=6, n_jobs=-1, tol=0.0001 ......\n",
      "[CV]  max_iter=20, n_clusters=4, n_init=6, n_jobs=-1, tol=0.0001, score=-29.364928875997308, total=   0.2s\n",
      "[CV] max_iter=20, n_clusters=4, n_init=7, n_jobs=-1, tol=5e-05 .......\n",
      "[CV]  max_iter=20, n_clusters=4, n_init=7, n_jobs=-1, tol=5e-05, score=-40.255664279803014, total=   0.1s\n",
      "[CV] max_iter=20, n_clusters=4, n_init=7, n_jobs=-1, tol=5e-05 .......\n",
      "[CV]  max_iter=20, n_clusters=4, n_init=7, n_jobs=-1, tol=5e-05, score=-31.594071097239596, total=   0.2s\n",
      "[CV] max_iter=20, n_clusters=4, n_init=7, n_jobs=-1, tol=5e-05 .......\n",
      "[CV]  max_iter=20, n_clusters=4, n_init=7, n_jobs=-1, tol=5e-05, score=-29.36192088724698, total=   0.2s\n",
      "[CV] max_iter=20, n_clusters=4, n_init=7, n_jobs=-1, tol=8e-05 .......\n",
      "[CV]  max_iter=20, n_clusters=4, n_init=7, n_jobs=-1, tol=8e-05, score=-39.91152484389328, total=   0.2s\n",
      "[CV] max_iter=20, n_clusters=4, n_init=7, n_jobs=-1, tol=8e-05 .......\n",
      "[CV]  max_iter=20, n_clusters=4, n_init=7, n_jobs=-1, tol=8e-05, score=-31.64616621260413, total=   0.2s\n",
      "[CV] max_iter=20, n_clusters=4, n_init=7, n_jobs=-1, tol=8e-05 .......\n",
      "[CV]  max_iter=20, n_clusters=4, n_init=7, n_jobs=-1, tol=8e-05, score=-29.328739928121188, total=   0.3s\n",
      "[CV] max_iter=20, n_clusters=4, n_init=7, n_jobs=-1, tol=0.0001 ......\n",
      "[CV]  max_iter=20, n_clusters=4, n_init=7, n_jobs=-1, tol=0.0001, score=-39.92307370559482, total=   0.1s\n",
      "[CV] max_iter=20, n_clusters=4, n_init=7, n_jobs=-1, tol=0.0001 ......\n",
      "[CV]  max_iter=20, n_clusters=4, n_init=7, n_jobs=-1, tol=0.0001, score=-31.998204540085876, total=   0.2s\n",
      "[CV] max_iter=20, n_clusters=4, n_init=7, n_jobs=-1, tol=0.0001 ......\n",
      "[CV]  max_iter=20, n_clusters=4, n_init=7, n_jobs=-1, tol=0.0001, score=-29.32041790909104, total=   0.2s\n",
      "[CV] max_iter=20, n_clusters=4, n_init=8, n_jobs=-1, tol=5e-05 .......\n",
      "[CV]  max_iter=20, n_clusters=4, n_init=8, n_jobs=-1, tol=5e-05, score=-39.891941539346384, total=   0.1s\n",
      "[CV] max_iter=20, n_clusters=4, n_init=8, n_jobs=-1, tol=5e-05 .......\n",
      "[CV]  max_iter=20, n_clusters=4, n_init=8, n_jobs=-1, tol=5e-05, score=-31.745266145239583, total=   0.2s\n",
      "[CV] max_iter=20, n_clusters=4, n_init=8, n_jobs=-1, tol=5e-05 .......\n",
      "[CV]  max_iter=20, n_clusters=4, n_init=8, n_jobs=-1, tol=5e-05, score=-29.36192088724698, total=   0.2s\n",
      "[CV] max_iter=20, n_clusters=4, n_init=8, n_jobs=-1, tol=8e-05 .......\n",
      "[CV]  max_iter=20, n_clusters=4, n_init=8, n_jobs=-1, tol=8e-05, score=-39.82615348400597, total=   0.2s\n",
      "[CV] max_iter=20, n_clusters=4, n_init=8, n_jobs=-1, tol=8e-05 .......\n",
      "[CV]  max_iter=20, n_clusters=4, n_init=8, n_jobs=-1, tol=8e-05, score=-31.53286722559489, total=   0.3s\n",
      "[CV] max_iter=20, n_clusters=4, n_init=8, n_jobs=-1, tol=8e-05 .......\n",
      "[CV]  max_iter=20, n_clusters=4, n_init=8, n_jobs=-1, tol=8e-05, score=-29.36269716128487, total=   0.2s\n",
      "[CV] max_iter=20, n_clusters=4, n_init=8, n_jobs=-1, tol=0.0001 ......\n",
      "[CV]  max_iter=20, n_clusters=4, n_init=8, n_jobs=-1, tol=0.0001, score=-40.236279531321024, total=   0.2s\n",
      "[CV] max_iter=20, n_clusters=4, n_init=8, n_jobs=-1, tol=0.0001 ......\n",
      "[CV]  max_iter=20, n_clusters=4, n_init=8, n_jobs=-1, tol=0.0001, score=-31.317267371026524, total=   0.2s\n",
      "[CV] max_iter=20, n_clusters=4, n_init=8, n_jobs=-1, tol=0.0001 ......\n",
      "[CV]  max_iter=20, n_clusters=4, n_init=8, n_jobs=-1, tol=0.0001, score=-29.305433308520296, total=   0.2s\n",
      "[CV] max_iter=20, n_clusters=4, n_init=9, n_jobs=-1, tol=5e-05 .......\n",
      "[CV]  max_iter=20, n_clusters=4, n_init=9, n_jobs=-1, tol=5e-05, score=-39.98555118437511, total=   0.2s\n",
      "[CV] max_iter=20, n_clusters=4, n_init=9, n_jobs=-1, tol=5e-05 .......\n",
      "[CV]  max_iter=20, n_clusters=4, n_init=9, n_jobs=-1, tol=5e-05, score=-31.594071097239596, total=   0.2s\n",
      "[CV] max_iter=20, n_clusters=4, n_init=9, n_jobs=-1, tol=5e-05 .......\n",
      "[CV]  max_iter=20, n_clusters=4, n_init=9, n_jobs=-1, tol=5e-05, score=-29.3925335872489, total=   0.3s\n",
      "[CV] max_iter=20, n_clusters=4, n_init=9, n_jobs=-1, tol=8e-05 .......\n",
      "[CV]  max_iter=20, n_clusters=4, n_init=9, n_jobs=-1, tol=8e-05, score=-40.070967669115156, total=   0.2s\n",
      "[CV] max_iter=20, n_clusters=4, n_init=9, n_jobs=-1, tol=8e-05 .......\n",
      "[CV]  max_iter=20, n_clusters=4, n_init=9, n_jobs=-1, tol=8e-05, score=-31.595021418930745, total=   0.2s\n",
      "[CV] max_iter=20, n_clusters=4, n_init=9, n_jobs=-1, tol=8e-05 .......\n",
      "[CV]  max_iter=20, n_clusters=4, n_init=9, n_jobs=-1, tol=8e-05, score=-29.38382931654123, total=   0.3s\n",
      "[CV] max_iter=20, n_clusters=4, n_init=9, n_jobs=-1, tol=0.0001 ......\n",
      "[CV]  max_iter=20, n_clusters=4, n_init=9, n_jobs=-1, tol=0.0001, score=-39.83862354648554, total=   0.2s\n",
      "[CV] max_iter=20, n_clusters=4, n_init=9, n_jobs=-1, tol=0.0001 ......\n",
      "[CV]  max_iter=20, n_clusters=4, n_init=9, n_jobs=-1, tol=0.0001, score=-31.58192162137084, total=   0.2s\n",
      "[CV] max_iter=20, n_clusters=4, n_init=9, n_jobs=-1, tol=0.0001 ......\n",
      "[CV]  max_iter=20, n_clusters=4, n_init=9, n_jobs=-1, tol=0.0001, score=-29.374011900940932, total=   0.2s\n",
      "[CV] max_iter=25, n_clusters=4, n_init=1, n_jobs=-1, tol=5e-05 .......\n",
      "[CV]  max_iter=25, n_clusters=4, n_init=1, n_jobs=-1, tol=5e-05, score=-39.52474956031258, total=   0.1s\n",
      "[CV] max_iter=25, n_clusters=4, n_init=1, n_jobs=-1, tol=5e-05 .......\n",
      "[CV]  max_iter=25, n_clusters=4, n_init=1, n_jobs=-1, tol=5e-05, score=-31.50577602221292, total=   0.0s\n",
      "[CV] max_iter=25, n_clusters=4, n_init=1, n_jobs=-1, tol=5e-05 .......\n",
      "[CV]  max_iter=25, n_clusters=4, n_init=1, n_jobs=-1, tol=5e-05, score=-29.80720496456229, total=   0.0s\n",
      "[CV] max_iter=25, n_clusters=4, n_init=1, n_jobs=-1, tol=8e-05 .......\n",
      "[CV]  max_iter=25, n_clusters=4, n_init=1, n_jobs=-1, tol=8e-05, score=-40.01752613075483, total=   0.0s\n",
      "[CV] max_iter=25, n_clusters=4, n_init=1, n_jobs=-1, tol=8e-05 .......\n",
      "[CV]  max_iter=25, n_clusters=4, n_init=1, n_jobs=-1, tol=8e-05, score=-32.00435913442362, total=   0.1s\n",
      "[CV] max_iter=25, n_clusters=4, n_init=1, n_jobs=-1, tol=8e-05 .......\n",
      "[CV]  max_iter=25, n_clusters=4, n_init=1, n_jobs=-1, tol=8e-05, score=-29.32334806626421, total=   0.1s\n",
      "[CV] max_iter=25, n_clusters=4, n_init=1, n_jobs=-1, tol=0.0001 ......\n",
      "[CV]  max_iter=25, n_clusters=4, n_init=1, n_jobs=-1, tol=0.0001, score=-39.57293616824255, total=   0.1s\n",
      "[CV] max_iter=25, n_clusters=4, n_init=1, n_jobs=-1, tol=0.0001 ......\n",
      "[CV]  max_iter=25, n_clusters=4, n_init=1, n_jobs=-1, tol=0.0001, score=-31.68872348350417, total=   0.1s\n",
      "[CV] max_iter=25, n_clusters=4, n_init=1, n_jobs=-1, tol=0.0001 ......\n",
      "[CV]  max_iter=25, n_clusters=4, n_init=1, n_jobs=-1, tol=0.0001, score=-31.18703922208605, total=   0.1s\n",
      "[CV] max_iter=25, n_clusters=4, n_init=2, n_jobs=-1, tol=5e-05 .......\n",
      "[CV]  max_iter=25, n_clusters=4, n_init=2, n_jobs=-1, tol=5e-05, score=-39.91148525260205, total=   0.1s\n",
      "[CV] max_iter=25, n_clusters=4, n_init=2, n_jobs=-1, tol=5e-05 .......\n",
      "[CV]  max_iter=25, n_clusters=4, n_init=2, n_jobs=-1, tol=5e-05, score=-31.310125436952763, total=   0.1s\n",
      "[CV] max_iter=25, n_clusters=4, n_init=2, n_jobs=-1, tol=5e-05 .......\n",
      "[CV]  max_iter=25, n_clusters=4, n_init=2, n_jobs=-1, tol=5e-05, score=-29.345390773067358, total=   0.1s\n",
      "[CV] max_iter=25, n_clusters=4, n_init=2, n_jobs=-1, tol=8e-05 .......\n",
      "[CV]  max_iter=25, n_clusters=4, n_init=2, n_jobs=-1, tol=8e-05, score=-39.97239790772568, total=   0.1s\n",
      "[CV] max_iter=25, n_clusters=4, n_init=2, n_jobs=-1, tol=8e-05 .......\n",
      "[CV]  max_iter=25, n_clusters=4, n_init=2, n_jobs=-1, tol=8e-05, score=-31.3584750266597, total=   0.1s\n",
      "[CV] max_iter=25, n_clusters=4, n_init=2, n_jobs=-1, tol=8e-05 .......\n"
     ]
    },
    {
     "name": "stdout",
     "output_type": "stream",
     "text": [
      "[CV]  max_iter=25, n_clusters=4, n_init=2, n_jobs=-1, tol=8e-05, score=-30.061236328426215, total=   0.1s\n",
      "[CV] max_iter=25, n_clusters=4, n_init=2, n_jobs=-1, tol=0.0001 ......\n",
      "[CV]  max_iter=25, n_clusters=4, n_init=2, n_jobs=-1, tol=0.0001, score=-40.10680563473238, total=   0.0s\n",
      "[CV] max_iter=25, n_clusters=4, n_init=2, n_jobs=-1, tol=0.0001 ......\n",
      "[CV]  max_iter=25, n_clusters=4, n_init=2, n_jobs=-1, tol=0.0001, score=-32.33899121672137, total=   0.1s\n",
      "[CV] max_iter=25, n_clusters=4, n_init=2, n_jobs=-1, tol=0.0001 ......\n",
      "[CV]  max_iter=25, n_clusters=4, n_init=2, n_jobs=-1, tol=0.0001, score=-29.505027626634728, total=   0.1s\n",
      "[CV] max_iter=25, n_clusters=4, n_init=3, n_jobs=-1, tol=5e-05 .......\n",
      "[CV]  max_iter=25, n_clusters=4, n_init=3, n_jobs=-1, tol=5e-05, score=-40.185924052211995, total=   0.1s\n",
      "[CV] max_iter=25, n_clusters=4, n_init=3, n_jobs=-1, tol=5e-05 .......\n",
      "[CV]  max_iter=25, n_clusters=4, n_init=3, n_jobs=-1, tol=5e-05, score=-31.151220338033053, total=   0.1s\n",
      "[CV] max_iter=25, n_clusters=4, n_init=3, n_jobs=-1, tol=5e-05 .......\n",
      "[CV]  max_iter=25, n_clusters=4, n_init=3, n_jobs=-1, tol=5e-05, score=-29.36192088724698, total=   0.1s\n",
      "[CV] max_iter=25, n_clusters=4, n_init=3, n_jobs=-1, tol=8e-05 .......\n",
      "[CV]  max_iter=25, n_clusters=4, n_init=3, n_jobs=-1, tol=8e-05, score=-40.22683361986055, total=   0.1s\n",
      "[CV] max_iter=25, n_clusters=4, n_init=3, n_jobs=-1, tol=8e-05 .......\n",
      "[CV]  max_iter=25, n_clusters=4, n_init=3, n_jobs=-1, tol=8e-05, score=-31.594071097239596, total=   0.1s\n",
      "[CV] max_iter=25, n_clusters=4, n_init=3, n_jobs=-1, tol=8e-05 .......\n",
      "[CV]  max_iter=25, n_clusters=4, n_init=3, n_jobs=-1, tol=8e-05, score=-29.29320055129971, total=   0.1s\n",
      "[CV] max_iter=25, n_clusters=4, n_init=3, n_jobs=-1, tol=0.0001 ......\n",
      "[CV]  max_iter=25, n_clusters=4, n_init=3, n_jobs=-1, tol=0.0001, score=-39.70010983078419, total=   0.1s\n",
      "[CV] max_iter=25, n_clusters=4, n_init=3, n_jobs=-1, tol=0.0001 ......\n",
      "[CV]  max_iter=25, n_clusters=4, n_init=3, n_jobs=-1, tol=0.0001, score=-31.566078980022475, total=   0.1s\n",
      "[CV] max_iter=25, n_clusters=4, n_init=3, n_jobs=-1, tol=0.0001 ......\n",
      "[CV]  max_iter=25, n_clusters=4, n_init=3, n_jobs=-1, tol=0.0001, score=-29.392504237693803, total=   0.1s\n",
      "[CV] max_iter=25, n_clusters=4, n_init=4, n_jobs=-1, tol=5e-05 .......\n",
      "[CV]  max_iter=25, n_clusters=4, n_init=4, n_jobs=-1, tol=5e-05, score=-39.9703038468747, total=   0.1s\n",
      "[CV] max_iter=25, n_clusters=4, n_init=4, n_jobs=-1, tol=5e-05 .......\n",
      "[CV]  max_iter=25, n_clusters=4, n_init=4, n_jobs=-1, tol=5e-05, score=-31.229095600712785, total=   0.1s\n",
      "[CV] max_iter=25, n_clusters=4, n_init=4, n_jobs=-1, tol=5e-05 .......\n",
      "[CV]  max_iter=25, n_clusters=4, n_init=4, n_jobs=-1, tol=5e-05, score=-29.38175418667523, total=   0.1s\n",
      "[CV] max_iter=25, n_clusters=4, n_init=4, n_jobs=-1, tol=8e-05 .......\n",
      "[CV]  max_iter=25, n_clusters=4, n_init=4, n_jobs=-1, tol=8e-05, score=-39.69523914233768, total=   0.1s\n",
      "[CV] max_iter=25, n_clusters=4, n_init=4, n_jobs=-1, tol=8e-05 .......\n",
      "[CV]  max_iter=25, n_clusters=4, n_init=4, n_jobs=-1, tol=8e-05, score=-32.09777569037199, total=   0.1s\n",
      "[CV] max_iter=25, n_clusters=4, n_init=4, n_jobs=-1, tol=8e-05 .......\n",
      "[CV]  max_iter=25, n_clusters=4, n_init=4, n_jobs=-1, tol=8e-05, score=-29.38175418667523, total=   0.1s\n",
      "[CV] max_iter=25, n_clusters=4, n_init=4, n_jobs=-1, tol=0.0001 ......\n",
      "[CV]  max_iter=25, n_clusters=4, n_init=4, n_jobs=-1, tol=0.0001, score=-40.25120171737321, total=   0.1s\n",
      "[CV] max_iter=25, n_clusters=4, n_init=4, n_jobs=-1, tol=0.0001 ......\n",
      "[CV]  max_iter=25, n_clusters=4, n_init=4, n_jobs=-1, tol=0.0001, score=-32.99158019208197, total=   0.1s\n",
      "[CV] max_iter=25, n_clusters=4, n_init=4, n_jobs=-1, tol=0.0001 ......\n",
      "[CV]  max_iter=25, n_clusters=4, n_init=4, n_jobs=-1, tol=0.0001, score=-29.38382931654123, total=   0.1s\n",
      "[CV] max_iter=25, n_clusters=4, n_init=5, n_jobs=-1, tol=5e-05 .......\n",
      "[CV]  max_iter=25, n_clusters=4, n_init=5, n_jobs=-1, tol=5e-05, score=-40.049216516906206, total=   0.1s\n",
      "[CV] max_iter=25, n_clusters=4, n_init=5, n_jobs=-1, tol=5e-05 .......\n",
      "[CV]  max_iter=25, n_clusters=4, n_init=5, n_jobs=-1, tol=5e-05, score=-32.12721967891351, total=   0.1s\n",
      "[CV] max_iter=25, n_clusters=4, n_init=5, n_jobs=-1, tol=5e-05 .......\n",
      "[CV]  max_iter=25, n_clusters=4, n_init=5, n_jobs=-1, tol=5e-05, score=-29.36192088724698, total=   0.2s\n",
      "[CV] max_iter=25, n_clusters=4, n_init=5, n_jobs=-1, tol=8e-05 .......\n",
      "[CV]  max_iter=25, n_clusters=4, n_init=5, n_jobs=-1, tol=8e-05, score=-39.7697984009595, total=   0.1s\n",
      "[CV] max_iter=25, n_clusters=4, n_init=5, n_jobs=-1, tol=8e-05 .......\n",
      "[CV]  max_iter=25, n_clusters=4, n_init=5, n_jobs=-1, tol=8e-05, score=-31.876436027024898, total=   0.2s\n",
      "[CV] max_iter=25, n_clusters=4, n_init=5, n_jobs=-1, tol=8e-05 .......\n",
      "[CV]  max_iter=25, n_clusters=4, n_init=5, n_jobs=-1, tol=8e-05, score=-29.338443915391927, total=   0.1s\n",
      "[CV] max_iter=25, n_clusters=4, n_init=5, n_jobs=-1, tol=0.0001 ......\n",
      "[CV]  max_iter=25, n_clusters=4, n_init=5, n_jobs=-1, tol=0.0001, score=-39.51783462211283, total=   0.1s\n",
      "[CV] max_iter=25, n_clusters=4, n_init=5, n_jobs=-1, tol=0.0001 ......\n",
      "[CV]  max_iter=25, n_clusters=4, n_init=5, n_jobs=-1, tol=0.0001, score=-31.394317366861223, total=   0.1s\n",
      "[CV] max_iter=25, n_clusters=4, n_init=5, n_jobs=-1, tol=0.0001 ......\n",
      "[CV]  max_iter=25, n_clusters=4, n_init=5, n_jobs=-1, tol=0.0001, score=-29.309345139442055, total=   0.1s\n",
      "[CV] max_iter=25, n_clusters=4, n_init=6, n_jobs=-1, tol=5e-05 .......\n",
      "[CV]  max_iter=25, n_clusters=4, n_init=6, n_jobs=-1, tol=5e-05, score=-39.79746587070814, total=   0.1s\n",
      "[CV] max_iter=25, n_clusters=4, n_init=6, n_jobs=-1, tol=5e-05 .......\n",
      "[CV]  max_iter=25, n_clusters=4, n_init=6, n_jobs=-1, tol=5e-05, score=-31.553467790018512, total=   0.1s\n",
      "[CV] max_iter=25, n_clusters=4, n_init=6, n_jobs=-1, tol=5e-05 .......\n",
      "[CV]  max_iter=25, n_clusters=4, n_init=6, n_jobs=-1, tol=5e-05, score=-29.36192088724698, total=   0.2s\n",
      "[CV] max_iter=25, n_clusters=4, n_init=6, n_jobs=-1, tol=8e-05 .......\n",
      "[CV]  max_iter=25, n_clusters=4, n_init=6, n_jobs=-1, tol=8e-05, score=-39.96277336516284, total=   0.1s\n",
      "[CV] max_iter=25, n_clusters=4, n_init=6, n_jobs=-1, tol=8e-05 .......\n",
      "[CV]  max_iter=25, n_clusters=4, n_init=6, n_jobs=-1, tol=8e-05, score=-32.40151866290327, total=   0.2s\n",
      "[CV] max_iter=25, n_clusters=4, n_init=6, n_jobs=-1, tol=8e-05 .......\n",
      "[CV]  max_iter=25, n_clusters=4, n_init=6, n_jobs=-1, tol=8e-05, score=-29.394608717114906, total=   0.2s\n",
      "[CV] max_iter=25, n_clusters=4, n_init=6, n_jobs=-1, tol=0.0001 ......\n",
      "[CV]  max_iter=25, n_clusters=4, n_init=6, n_jobs=-1, tol=0.0001, score=-40.123681885691234, total=   0.1s\n",
      "[CV] max_iter=25, n_clusters=4, n_init=6, n_jobs=-1, tol=0.0001 ......\n",
      "[CV]  max_iter=25, n_clusters=4, n_init=6, n_jobs=-1, tol=0.0001, score=-31.28606397217345, total=   0.2s\n",
      "[CV] max_iter=25, n_clusters=4, n_init=6, n_jobs=-1, tol=0.0001 ......\n",
      "[CV]  max_iter=25, n_clusters=4, n_init=6, n_jobs=-1, tol=0.0001, score=-29.38175418667523, total=   0.2s\n",
      "[CV] max_iter=25, n_clusters=4, n_init=7, n_jobs=-1, tol=5e-05 .......\n",
      "[CV]  max_iter=25, n_clusters=4, n_init=7, n_jobs=-1, tol=5e-05, score=-39.73892972243993, total=   0.2s\n",
      "[CV] max_iter=25, n_clusters=4, n_init=7, n_jobs=-1, tol=5e-05 .......\n",
      "[CV]  max_iter=25, n_clusters=4, n_init=7, n_jobs=-1, tol=5e-05, score=-31.59807899019396, total=   0.2s\n",
      "[CV] max_iter=25, n_clusters=4, n_init=7, n_jobs=-1, tol=5e-05 .......\n",
      "[CV]  max_iter=25, n_clusters=4, n_init=7, n_jobs=-1, tol=5e-05, score=-29.338443915391927, total=   0.2s\n",
      "[CV] max_iter=25, n_clusters=4, n_init=7, n_jobs=-1, tol=8e-05 .......\n",
      "[CV]  max_iter=25, n_clusters=4, n_init=7, n_jobs=-1, tol=8e-05, score=-40.037915217868225, total=   0.1s\n",
      "[CV] max_iter=25, n_clusters=4, n_init=7, n_jobs=-1, tol=8e-05 .......\n",
      "[CV]  max_iter=25, n_clusters=4, n_init=7, n_jobs=-1, tol=8e-05, score=-31.13907938302862, total=   0.2s\n",
      "[CV] max_iter=25, n_clusters=4, n_init=7, n_jobs=-1, tol=8e-05 .......\n",
      "[CV]  max_iter=25, n_clusters=4, n_init=7, n_jobs=-1, tol=8e-05, score=-29.38382931654123, total=   0.2s\n",
      "[CV] max_iter=25, n_clusters=4, n_init=7, n_jobs=-1, tol=0.0001 ......\n",
      "[CV]  max_iter=25, n_clusters=4, n_init=7, n_jobs=-1, tol=0.0001, score=-40.25139918465864, total=   0.1s\n",
      "[CV] max_iter=25, n_clusters=4, n_init=7, n_jobs=-1, tol=0.0001 ......\n"
     ]
    },
    {
     "name": "stdout",
     "output_type": "stream",
     "text": [
      "[CV]  max_iter=25, n_clusters=4, n_init=7, n_jobs=-1, tol=0.0001, score=-32.19449335473835, total=   0.2s\n",
      "[CV] max_iter=25, n_clusters=4, n_init=7, n_jobs=-1, tol=0.0001 ......\n",
      "[CV]  max_iter=25, n_clusters=4, n_init=7, n_jobs=-1, tol=0.0001, score=-29.32041790909104, total=   0.2s\n",
      "[CV] max_iter=25, n_clusters=4, n_init=8, n_jobs=-1, tol=5e-05 .......\n",
      "[CV]  max_iter=25, n_clusters=4, n_init=8, n_jobs=-1, tol=5e-05, score=-40.21828311323079, total=   0.1s\n",
      "[CV] max_iter=25, n_clusters=4, n_init=8, n_jobs=-1, tol=5e-05 .......\n",
      "[CV]  max_iter=25, n_clusters=4, n_init=8, n_jobs=-1, tol=5e-05, score=-31.36500805306425, total=   0.2s\n",
      "[CV] max_iter=25, n_clusters=4, n_init=8, n_jobs=-1, tol=5e-05 .......\n",
      "[CV]  max_iter=25, n_clusters=4, n_init=8, n_jobs=-1, tol=5e-05, score=-29.356283910655623, total=   0.2s\n",
      "[CV] max_iter=25, n_clusters=4, n_init=8, n_jobs=-1, tol=8e-05 .......\n",
      "[CV]  max_iter=25, n_clusters=4, n_init=8, n_jobs=-1, tol=8e-05, score=-40.24917827587565, total=   0.2s\n",
      "[CV] max_iter=25, n_clusters=4, n_init=8, n_jobs=-1, tol=8e-05 .......\n",
      "[CV]  max_iter=25, n_clusters=4, n_init=8, n_jobs=-1, tol=8e-05, score=-31.982405508844778, total=   0.2s\n",
      "[CV] max_iter=25, n_clusters=4, n_init=8, n_jobs=-1, tol=8e-05 .......\n",
      "[CV]  max_iter=25, n_clusters=4, n_init=8, n_jobs=-1, tol=8e-05, score=-29.36269716128487, total=   0.2s\n",
      "[CV] max_iter=25, n_clusters=4, n_init=8, n_jobs=-1, tol=0.0001 ......\n",
      "[CV]  max_iter=25, n_clusters=4, n_init=8, n_jobs=-1, tol=0.0001, score=-40.117034575576504, total=   0.1s\n",
      "[CV] max_iter=25, n_clusters=4, n_init=8, n_jobs=-1, tol=0.0001 ......\n",
      "[CV]  max_iter=25, n_clusters=4, n_init=8, n_jobs=-1, tol=0.0001, score=-31.382633068893877, total=   0.2s\n",
      "[CV] max_iter=25, n_clusters=4, n_init=8, n_jobs=-1, tol=0.0001 ......\n",
      "[CV]  max_iter=25, n_clusters=4, n_init=8, n_jobs=-1, tol=0.0001, score=-29.324463532058004, total=   0.2s\n",
      "[CV] max_iter=25, n_clusters=4, n_init=9, n_jobs=-1, tol=5e-05 .......\n",
      "[CV]  max_iter=25, n_clusters=4, n_init=9, n_jobs=-1, tol=5e-05, score=-39.88838174384182, total=   0.2s\n",
      "[CV] max_iter=25, n_clusters=4, n_init=9, n_jobs=-1, tol=5e-05 .......\n",
      "[CV]  max_iter=25, n_clusters=4, n_init=9, n_jobs=-1, tol=5e-05, score=-31.4173431882814, total=   0.2s\n",
      "[CV] max_iter=25, n_clusters=4, n_init=9, n_jobs=-1, tol=5e-05 .......\n",
      "[CV]  max_iter=25, n_clusters=4, n_init=9, n_jobs=-1, tol=5e-05, score=-29.38382931654123, total=   0.3s\n",
      "[CV] max_iter=25, n_clusters=4, n_init=9, n_jobs=-1, tol=8e-05 .......\n",
      "[CV]  max_iter=25, n_clusters=4, n_init=9, n_jobs=-1, tol=8e-05, score=-40.22270682754229, total=   0.2s\n",
      "[CV] max_iter=25, n_clusters=4, n_init=9, n_jobs=-1, tol=8e-05 .......\n",
      "[CV]  max_iter=25, n_clusters=4, n_init=9, n_jobs=-1, tol=8e-05, score=-32.30301544886193, total=   0.2s\n",
      "[CV] max_iter=25, n_clusters=4, n_init=9, n_jobs=-1, tol=8e-05 .......\n",
      "[CV]  max_iter=25, n_clusters=4, n_init=9, n_jobs=-1, tol=8e-05, score=-29.38382931654123, total=   0.2s\n",
      "[CV] max_iter=25, n_clusters=4, n_init=9, n_jobs=-1, tol=0.0001 ......\n",
      "[CV]  max_iter=25, n_clusters=4, n_init=9, n_jobs=-1, tol=0.0001, score=-39.67113299296853, total=   0.2s\n",
      "[CV] max_iter=25, n_clusters=4, n_init=9, n_jobs=-1, tol=0.0001 ......\n",
      "[CV]  max_iter=25, n_clusters=4, n_init=9, n_jobs=-1, tol=0.0001, score=-31.238519811313072, total=   0.2s\n",
      "[CV] max_iter=25, n_clusters=4, n_init=9, n_jobs=-1, tol=0.0001 ......\n",
      "[CV]  max_iter=25, n_clusters=4, n_init=9, n_jobs=-1, tol=0.0001, score=-29.72573859964922, total=   0.3s\n",
      "[CV] max_iter=30, n_clusters=4, n_init=1, n_jobs=-1, tol=5e-05 .......\n",
      "[CV]  max_iter=30, n_clusters=4, n_init=1, n_jobs=-1, tol=5e-05, score=-40.29924608760047, total=   0.1s\n",
      "[CV] max_iter=30, n_clusters=4, n_init=1, n_jobs=-1, tol=5e-05 .......\n",
      "[CV]  max_iter=30, n_clusters=4, n_init=1, n_jobs=-1, tol=5e-05, score=-31.320728686630634, total=   0.1s\n",
      "[CV] max_iter=30, n_clusters=4, n_init=1, n_jobs=-1, tol=5e-05 .......\n",
      "[CV]  max_iter=30, n_clusters=4, n_init=1, n_jobs=-1, tol=5e-05, score=-29.34890902966867, total=   0.1s\n",
      "[CV] max_iter=30, n_clusters=4, n_init=1, n_jobs=-1, tol=8e-05 .......\n",
      "[CV]  max_iter=30, n_clusters=4, n_init=1, n_jobs=-1, tol=8e-05, score=-39.44451793975622, total=   0.1s\n",
      "[CV] max_iter=30, n_clusters=4, n_init=1, n_jobs=-1, tol=8e-05 .......\n",
      "[CV]  max_iter=30, n_clusters=4, n_init=1, n_jobs=-1, tol=8e-05, score=-32.314445236884815, total=   0.1s\n",
      "[CV] max_iter=30, n_clusters=4, n_init=1, n_jobs=-1, tol=8e-05 .......\n",
      "[CV]  max_iter=30, n_clusters=4, n_init=1, n_jobs=-1, tol=8e-05, score=-29.285817445335873, total=   0.1s\n",
      "[CV] max_iter=30, n_clusters=4, n_init=1, n_jobs=-1, tol=0.0001 ......\n",
      "[CV]  max_iter=30, n_clusters=4, n_init=1, n_jobs=-1, tol=0.0001, score=-39.9523009538202, total=   0.1s\n",
      "[CV] max_iter=30, n_clusters=4, n_init=1, n_jobs=-1, tol=0.0001 ......\n",
      "[CV]  max_iter=30, n_clusters=4, n_init=1, n_jobs=-1, tol=0.0001, score=-31.502533387292832, total=   0.1s\n",
      "[CV] max_iter=30, n_clusters=4, n_init=1, n_jobs=-1, tol=0.0001 ......\n",
      "[CV]  max_iter=30, n_clusters=4, n_init=1, n_jobs=-1, tol=0.0001, score=-30.07239601725398, total=   0.1s\n",
      "[CV] max_iter=30, n_clusters=4, n_init=2, n_jobs=-1, tol=5e-05 .......\n",
      "[CV]  max_iter=30, n_clusters=4, n_init=2, n_jobs=-1, tol=5e-05, score=-40.203808913004536, total=   0.1s\n",
      "[CV] max_iter=30, n_clusters=4, n_init=2, n_jobs=-1, tol=5e-05 .......\n",
      "[CV]  max_iter=30, n_clusters=4, n_init=2, n_jobs=-1, tol=5e-05, score=-31.640286781254, total=   0.1s\n",
      "[CV] max_iter=30, n_clusters=4, n_init=2, n_jobs=-1, tol=5e-05 .......\n",
      "[CV]  max_iter=30, n_clusters=4, n_init=2, n_jobs=-1, tol=5e-05, score=-29.394608717114906, total=   0.1s\n",
      "[CV] max_iter=30, n_clusters=4, n_init=2, n_jobs=-1, tol=8e-05 .......\n",
      "[CV]  max_iter=30, n_clusters=4, n_init=2, n_jobs=-1, tol=8e-05, score=-40.12916570476593, total=   0.1s\n",
      "[CV] max_iter=30, n_clusters=4, n_init=2, n_jobs=-1, tol=8e-05 .......\n",
      "[CV]  max_iter=30, n_clusters=4, n_init=2, n_jobs=-1, tol=8e-05, score=-31.299748906841433, total=   0.1s\n",
      "[CV] max_iter=30, n_clusters=4, n_init=2, n_jobs=-1, tol=8e-05 .......\n",
      "[CV]  max_iter=30, n_clusters=4, n_init=2, n_jobs=-1, tol=8e-05, score=-29.351377089339223, total=   0.1s\n",
      "[CV] max_iter=30, n_clusters=4, n_init=2, n_jobs=-1, tol=0.0001 ......\n",
      "[CV]  max_iter=30, n_clusters=4, n_init=2, n_jobs=-1, tol=0.0001, score=-40.13248686190624, total=   0.1s\n",
      "[CV] max_iter=30, n_clusters=4, n_init=2, n_jobs=-1, tol=0.0001 ......\n",
      "[CV]  max_iter=30, n_clusters=4, n_init=2, n_jobs=-1, tol=0.0001, score=-32.20877108800903, total=   0.1s\n",
      "[CV] max_iter=30, n_clusters=4, n_init=2, n_jobs=-1, tol=0.0001 ......\n",
      "[CV]  max_iter=30, n_clusters=4, n_init=2, n_jobs=-1, tol=0.0001, score=-29.619885728572658, total=   0.1s\n",
      "[CV] max_iter=30, n_clusters=4, n_init=3, n_jobs=-1, tol=5e-05 .......\n",
      "[CV]  max_iter=30, n_clusters=4, n_init=3, n_jobs=-1, tol=5e-05, score=-40.07799822655277, total=   0.1s\n",
      "[CV] max_iter=30, n_clusters=4, n_init=3, n_jobs=-1, tol=5e-05 .......\n",
      "[CV]  max_iter=30, n_clusters=4, n_init=3, n_jobs=-1, tol=5e-05, score=-31.405406100958327, total=   0.1s\n",
      "[CV] max_iter=30, n_clusters=4, n_init=3, n_jobs=-1, tol=5e-05 .......\n",
      "[CV]  max_iter=30, n_clusters=4, n_init=3, n_jobs=-1, tol=5e-05, score=-29.70897494809898, total=   0.1s\n",
      "[CV] max_iter=30, n_clusters=4, n_init=3, n_jobs=-1, tol=8e-05 .......\n",
      "[CV]  max_iter=30, n_clusters=4, n_init=3, n_jobs=-1, tol=8e-05, score=-39.83842981638504, total=   0.1s\n",
      "[CV] max_iter=30, n_clusters=4, n_init=3, n_jobs=-1, tol=8e-05 .......\n",
      "[CV]  max_iter=30, n_clusters=4, n_init=3, n_jobs=-1, tol=8e-05, score=-31.458321239813724, total=   0.1s\n",
      "[CV] max_iter=30, n_clusters=4, n_init=3, n_jobs=-1, tol=8e-05 .......\n",
      "[CV]  max_iter=30, n_clusters=4, n_init=3, n_jobs=-1, tol=8e-05, score=-29.341685442147128, total=   0.1s\n",
      "[CV] max_iter=30, n_clusters=4, n_init=3, n_jobs=-1, tol=0.0001 ......\n",
      "[CV]  max_iter=30, n_clusters=4, n_init=3, n_jobs=-1, tol=0.0001, score=-40.23018284328811, total=   0.1s\n",
      "[CV] max_iter=30, n_clusters=4, n_init=3, n_jobs=-1, tol=0.0001 ......\n",
      "[CV]  max_iter=30, n_clusters=4, n_init=3, n_jobs=-1, tol=0.0001, score=-32.48060822556955, total=   0.1s\n",
      "[CV] max_iter=30, n_clusters=4, n_init=3, n_jobs=-1, tol=0.0001 ......\n",
      "[CV]  max_iter=30, n_clusters=4, n_init=3, n_jobs=-1, tol=0.0001, score=-29.71425536413171, total=   0.1s\n",
      "[CV] max_iter=30, n_clusters=4, n_init=4, n_jobs=-1, tol=5e-05 .......\n"
     ]
    },
    {
     "name": "stdout",
     "output_type": "stream",
     "text": [
      "[CV]  max_iter=30, n_clusters=4, n_init=4, n_jobs=-1, tol=5e-05, score=-40.03659185470395, total=   0.2s\n",
      "[CV] max_iter=30, n_clusters=4, n_init=4, n_jobs=-1, tol=5e-05 .......\n",
      "[CV]  max_iter=30, n_clusters=4, n_init=4, n_jobs=-1, tol=5e-05, score=-31.5418542183337, total=   0.1s\n",
      "[CV] max_iter=30, n_clusters=4, n_init=4, n_jobs=-1, tol=5e-05 .......\n",
      "[CV]  max_iter=30, n_clusters=4, n_init=4, n_jobs=-1, tol=5e-05, score=-29.507458558248224, total=   0.1s\n",
      "[CV] max_iter=30, n_clusters=4, n_init=4, n_jobs=-1, tol=8e-05 .......\n",
      "[CV]  max_iter=30, n_clusters=4, n_init=4, n_jobs=-1, tol=8e-05, score=-39.76448436558075, total=   0.1s\n",
      "[CV] max_iter=30, n_clusters=4, n_init=4, n_jobs=-1, tol=8e-05 .......\n",
      "[CV]  max_iter=30, n_clusters=4, n_init=4, n_jobs=-1, tol=8e-05, score=-31.390036923376787, total=   0.1s\n",
      "[CV] max_iter=30, n_clusters=4, n_init=4, n_jobs=-1, tol=8e-05 .......\n",
      "[CV]  max_iter=30, n_clusters=4, n_init=4, n_jobs=-1, tol=8e-05, score=-29.544546573352697, total=   0.1s\n",
      "[CV] max_iter=30, n_clusters=4, n_init=4, n_jobs=-1, tol=0.0001 ......\n",
      "[CV]  max_iter=30, n_clusters=4, n_init=4, n_jobs=-1, tol=0.0001, score=-39.98194758129732, total=   0.1s\n",
      "[CV] max_iter=30, n_clusters=4, n_init=4, n_jobs=-1, tol=0.0001 ......\n",
      "[CV]  max_iter=30, n_clusters=4, n_init=4, n_jobs=-1, tol=0.0001, score=-31.267884356948127, total=   0.1s\n",
      "[CV] max_iter=30, n_clusters=4, n_init=4, n_jobs=-1, tol=0.0001 ......\n",
      "[CV]  max_iter=30, n_clusters=4, n_init=4, n_jobs=-1, tol=0.0001, score=-29.38382931654123, total=   0.1s\n",
      "[CV] max_iter=30, n_clusters=4, n_init=5, n_jobs=-1, tol=5e-05 .......\n",
      "[CV]  max_iter=30, n_clusters=4, n_init=5, n_jobs=-1, tol=5e-05, score=-39.81067213351153, total=   0.1s\n",
      "[CV] max_iter=30, n_clusters=4, n_init=5, n_jobs=-1, tol=5e-05 .......\n",
      "[CV]  max_iter=30, n_clusters=4, n_init=5, n_jobs=-1, tol=5e-05, score=-31.464373586607948, total=   0.2s\n",
      "[CV] max_iter=30, n_clusters=4, n_init=5, n_jobs=-1, tol=5e-05 .......\n",
      "[CV]  max_iter=30, n_clusters=4, n_init=5, n_jobs=-1, tol=5e-05, score=-29.394608717114906, total=   0.1s\n",
      "[CV] max_iter=30, n_clusters=4, n_init=5, n_jobs=-1, tol=8e-05 .......\n",
      "[CV]  max_iter=30, n_clusters=4, n_init=5, n_jobs=-1, tol=8e-05, score=-39.878147791853856, total=   0.1s\n",
      "[CV] max_iter=30, n_clusters=4, n_init=5, n_jobs=-1, tol=8e-05 .......\n",
      "[CV]  max_iter=30, n_clusters=4, n_init=5, n_jobs=-1, tol=8e-05, score=-31.267044288463484, total=   0.1s\n",
      "[CV] max_iter=30, n_clusters=4, n_init=5, n_jobs=-1, tol=8e-05 .......\n",
      "[CV]  max_iter=30, n_clusters=4, n_init=5, n_jobs=-1, tol=8e-05, score=-29.3114832713503, total=   0.1s\n",
      "[CV] max_iter=30, n_clusters=4, n_init=5, n_jobs=-1, tol=0.0001 ......\n",
      "[CV]  max_iter=30, n_clusters=4, n_init=5, n_jobs=-1, tol=0.0001, score=-39.712494291398535, total=   0.2s\n",
      "[CV] max_iter=30, n_clusters=4, n_init=5, n_jobs=-1, tol=0.0001 ......\n",
      "[CV]  max_iter=30, n_clusters=4, n_init=5, n_jobs=-1, tol=0.0001, score=-32.20194918846453, total=   0.2s\n",
      "[CV] max_iter=30, n_clusters=4, n_init=5, n_jobs=-1, tol=0.0001 ......\n",
      "[CV]  max_iter=30, n_clusters=4, n_init=5, n_jobs=-1, tol=0.0001, score=-29.322475317708736, total=   0.1s\n",
      "[CV] max_iter=30, n_clusters=4, n_init=6, n_jobs=-1, tol=5e-05 .......\n",
      "[CV]  max_iter=30, n_clusters=4, n_init=6, n_jobs=-1, tol=5e-05, score=-40.060872229383136, total=   0.2s\n",
      "[CV] max_iter=30, n_clusters=4, n_init=6, n_jobs=-1, tol=5e-05 .......\n",
      "[CV]  max_iter=30, n_clusters=4, n_init=6, n_jobs=-1, tol=5e-05, score=-31.291573444780557, total=   0.2s\n",
      "[CV] max_iter=30, n_clusters=4, n_init=6, n_jobs=-1, tol=5e-05 .......\n",
      "[CV]  max_iter=30, n_clusters=4, n_init=6, n_jobs=-1, tol=5e-05, score=-29.38382931654123, total=   0.2s\n",
      "[CV] max_iter=30, n_clusters=4, n_init=6, n_jobs=-1, tol=8e-05 .......\n",
      "[CV]  max_iter=30, n_clusters=4, n_init=6, n_jobs=-1, tol=8e-05, score=-40.18025055636233, total=   0.1s\n",
      "[CV] max_iter=30, n_clusters=4, n_init=6, n_jobs=-1, tol=8e-05 .......\n",
      "[CV]  max_iter=30, n_clusters=4, n_init=6, n_jobs=-1, tol=8e-05, score=-31.238285384408464, total=   0.2s\n",
      "[CV] max_iter=30, n_clusters=4, n_init=6, n_jobs=-1, tol=8e-05 .......\n",
      "[CV]  max_iter=30, n_clusters=4, n_init=6, n_jobs=-1, tol=8e-05, score=-29.36192088724698, total=   0.2s\n",
      "[CV] max_iter=30, n_clusters=4, n_init=6, n_jobs=-1, tol=0.0001 ......\n",
      "[CV]  max_iter=30, n_clusters=4, n_init=6, n_jobs=-1, tol=0.0001, score=-40.070967669115156, total=   0.1s\n",
      "[CV] max_iter=30, n_clusters=4, n_init=6, n_jobs=-1, tol=0.0001 ......\n",
      "[CV]  max_iter=30, n_clusters=4, n_init=6, n_jobs=-1, tol=0.0001, score=-31.57909810855087, total=   0.2s\n",
      "[CV] max_iter=30, n_clusters=4, n_init=6, n_jobs=-1, tol=0.0001 ......\n",
      "[CV]  max_iter=30, n_clusters=4, n_init=6, n_jobs=-1, tol=0.0001, score=-29.328739928121188, total=   0.2s\n",
      "[CV] max_iter=30, n_clusters=4, n_init=7, n_jobs=-1, tol=5e-05 .......\n",
      "[CV]  max_iter=30, n_clusters=4, n_init=7, n_jobs=-1, tol=5e-05, score=-39.75506653576433, total=   0.2s\n",
      "[CV] max_iter=30, n_clusters=4, n_init=7, n_jobs=-1, tol=5e-05 .......\n",
      "[CV]  max_iter=30, n_clusters=4, n_init=7, n_jobs=-1, tol=5e-05, score=-31.107655219904206, total=   0.2s\n",
      "[CV] max_iter=30, n_clusters=4, n_init=7, n_jobs=-1, tol=5e-05 .......\n",
      "[CV]  max_iter=30, n_clusters=4, n_init=7, n_jobs=-1, tol=5e-05, score=-29.603388411596534, total=   0.2s\n",
      "[CV] max_iter=30, n_clusters=4, n_init=7, n_jobs=-1, tol=8e-05 .......\n",
      "[CV]  max_iter=30, n_clusters=4, n_init=7, n_jobs=-1, tol=8e-05, score=-39.77874316449352, total=   0.1s\n",
      "[CV] max_iter=30, n_clusters=4, n_init=7, n_jobs=-1, tol=8e-05 .......\n",
      "[CV]  max_iter=30, n_clusters=4, n_init=7, n_jobs=-1, tol=8e-05, score=-31.354919183724224, total=   0.2s\n",
      "[CV] max_iter=30, n_clusters=4, n_init=7, n_jobs=-1, tol=8e-05 .......\n",
      "[CV]  max_iter=30, n_clusters=4, n_init=7, n_jobs=-1, tol=8e-05, score=-29.335842993044288, total=   0.2s\n",
      "[CV] max_iter=30, n_clusters=4, n_init=7, n_jobs=-1, tol=0.0001 ......\n",
      "[CV]  max_iter=30, n_clusters=4, n_init=7, n_jobs=-1, tol=0.0001, score=-39.83127760497707, total=   0.1s\n",
      "[CV] max_iter=30, n_clusters=4, n_init=7, n_jobs=-1, tol=0.0001 ......\n",
      "[CV]  max_iter=30, n_clusters=4, n_init=7, n_jobs=-1, tol=0.0001, score=-31.390036923376787, total=   0.1s\n",
      "[CV] max_iter=30, n_clusters=4, n_init=7, n_jobs=-1, tol=0.0001 ......\n",
      "[CV]  max_iter=30, n_clusters=4, n_init=7, n_jobs=-1, tol=0.0001, score=-29.345390773067358, total=   0.2s\n",
      "[CV] max_iter=30, n_clusters=4, n_init=8, n_jobs=-1, tol=5e-05 .......\n",
      "[CV]  max_iter=30, n_clusters=4, n_init=8, n_jobs=-1, tol=5e-05, score=-39.98777339946315, total=   0.2s\n",
      "[CV] max_iter=30, n_clusters=4, n_init=8, n_jobs=-1, tol=5e-05 .......\n",
      "[CV]  max_iter=30, n_clusters=4, n_init=8, n_jobs=-1, tol=5e-05, score=-31.982405508844778, total=   0.2s\n",
      "[CV] max_iter=30, n_clusters=4, n_init=8, n_jobs=-1, tol=5e-05 .......\n",
      "[CV]  max_iter=30, n_clusters=4, n_init=8, n_jobs=-1, tol=5e-05, score=-29.38175418667523, total=   0.3s\n",
      "[CV] max_iter=30, n_clusters=4, n_init=8, n_jobs=-1, tol=8e-05 .......\n",
      "[CV]  max_iter=30, n_clusters=4, n_init=8, n_jobs=-1, tol=8e-05, score=-39.91522382054073, total=   0.3s\n",
      "[CV] max_iter=30, n_clusters=4, n_init=8, n_jobs=-1, tol=8e-05 .......\n",
      "[CV]  max_iter=30, n_clusters=4, n_init=8, n_jobs=-1, tol=8e-05, score=-31.594071097239596, total=   0.2s\n",
      "[CV] max_iter=30, n_clusters=4, n_init=8, n_jobs=-1, tol=8e-05 .......\n",
      "[CV]  max_iter=30, n_clusters=4, n_init=8, n_jobs=-1, tol=8e-05, score=-29.38382931654123, total=   0.2s\n",
      "[CV] max_iter=30, n_clusters=4, n_init=8, n_jobs=-1, tol=0.0001 ......\n",
      "[CV]  max_iter=30, n_clusters=4, n_init=8, n_jobs=-1, tol=0.0001, score=-39.70167328113721, total=   0.1s\n",
      "[CV] max_iter=30, n_clusters=4, n_init=8, n_jobs=-1, tol=0.0001 ......\n",
      "[CV]  max_iter=30, n_clusters=4, n_init=8, n_jobs=-1, tol=0.0001, score=-31.27523596839827, total=   0.2s\n",
      "[CV] max_iter=30, n_clusters=4, n_init=8, n_jobs=-1, tol=0.0001 ......\n",
      "[CV]  max_iter=30, n_clusters=4, n_init=8, n_jobs=-1, tol=0.0001, score=-29.36269716128487, total=   0.2s\n",
      "[CV] max_iter=30, n_clusters=4, n_init=9, n_jobs=-1, tol=5e-05 .......\n",
      "[CV]  max_iter=30, n_clusters=4, n_init=9, n_jobs=-1, tol=5e-05, score=-40.23864877834997, total=   0.2s\n",
      "[CV] max_iter=30, n_clusters=4, n_init=9, n_jobs=-1, tol=5e-05 .......\n",
      "[CV]  max_iter=30, n_clusters=4, n_init=9, n_jobs=-1, tol=5e-05, score=-31.409545471375782, total=   0.2s\n",
      "[CV] max_iter=30, n_clusters=4, n_init=9, n_jobs=-1, tol=5e-05 .......\n"
     ]
    },
    {
     "name": "stdout",
     "output_type": "stream",
     "text": [
      "[CV]  max_iter=30, n_clusters=4, n_init=9, n_jobs=-1, tol=5e-05, score=-29.38175418667523, total=   0.2s\n",
      "[CV] max_iter=30, n_clusters=4, n_init=9, n_jobs=-1, tol=8e-05 .......\n",
      "[CV]  max_iter=30, n_clusters=4, n_init=9, n_jobs=-1, tol=8e-05, score=-39.87359322610297, total=   0.2s\n",
      "[CV] max_iter=30, n_clusters=4, n_init=9, n_jobs=-1, tol=8e-05 .......\n",
      "[CV]  max_iter=30, n_clusters=4, n_init=9, n_jobs=-1, tol=8e-05, score=-31.853038902875227, total=   0.3s\n",
      "[CV] max_iter=30, n_clusters=4, n_init=9, n_jobs=-1, tol=8e-05 .......\n",
      "[CV]  max_iter=30, n_clusters=4, n_init=9, n_jobs=-1, tol=8e-05, score=-29.4242567883763, total=   0.3s\n",
      "[CV] max_iter=30, n_clusters=4, n_init=9, n_jobs=-1, tol=0.0001 ......\n",
      "[CV]  max_iter=30, n_clusters=4, n_init=9, n_jobs=-1, tol=0.0001, score=-39.9981469144046, total=   0.2s\n",
      "[CV] max_iter=30, n_clusters=4, n_init=9, n_jobs=-1, tol=0.0001 ......\n",
      "[CV]  max_iter=30, n_clusters=4, n_init=9, n_jobs=-1, tol=0.0001, score=-31.25698974010507, total=   0.2s\n",
      "[CV] max_iter=30, n_clusters=4, n_init=9, n_jobs=-1, tol=0.0001 ......\n",
      "[CV]  max_iter=30, n_clusters=4, n_init=9, n_jobs=-1, tol=0.0001, score=-29.473587493441634, total=   0.2s\n",
      "[CV] max_iter=35, n_clusters=4, n_init=1, n_jobs=-1, tol=5e-05 .......\n",
      "[CV]  max_iter=35, n_clusters=4, n_init=1, n_jobs=-1, tol=5e-05, score=-39.672268089589515, total=   0.1s\n",
      "[CV] max_iter=35, n_clusters=4, n_init=1, n_jobs=-1, tol=5e-05 .......\n",
      "[CV]  max_iter=35, n_clusters=4, n_init=1, n_jobs=-1, tol=5e-05, score=-32.34331607158664, total=   0.1s\n",
      "[CV] max_iter=35, n_clusters=4, n_init=1, n_jobs=-1, tol=5e-05 .......\n",
      "[CV]  max_iter=35, n_clusters=4, n_init=1, n_jobs=-1, tol=5e-05, score=-29.468340319433292, total=   0.1s\n",
      "[CV] max_iter=35, n_clusters=4, n_init=1, n_jobs=-1, tol=8e-05 .......\n",
      "[CV]  max_iter=35, n_clusters=4, n_init=1, n_jobs=-1, tol=8e-05, score=-40.42096739915637, total=   0.1s\n",
      "[CV] max_iter=35, n_clusters=4, n_init=1, n_jobs=-1, tol=8e-05 .......\n",
      "[CV]  max_iter=35, n_clusters=4, n_init=1, n_jobs=-1, tol=8e-05, score=-31.793262213141137, total=   0.1s\n",
      "[CV] max_iter=35, n_clusters=4, n_init=1, n_jobs=-1, tol=8e-05 .......\n",
      "[CV]  max_iter=35, n_clusters=4, n_init=1, n_jobs=-1, tol=8e-05, score=-29.31620264359264, total=   0.1s\n",
      "[CV] max_iter=35, n_clusters=4, n_init=1, n_jobs=-1, tol=0.0001 ......\n",
      "[CV]  max_iter=35, n_clusters=4, n_init=1, n_jobs=-1, tol=0.0001, score=-39.933556179487695, total=   0.1s\n",
      "[CV] max_iter=35, n_clusters=4, n_init=1, n_jobs=-1, tol=0.0001 ......\n",
      "[CV]  max_iter=35, n_clusters=4, n_init=1, n_jobs=-1, tol=0.0001, score=-32.24954738523425, total=   0.1s\n",
      "[CV] max_iter=35, n_clusters=4, n_init=1, n_jobs=-1, tol=0.0001 ......\n",
      "[CV]  max_iter=35, n_clusters=4, n_init=1, n_jobs=-1, tol=0.0001, score=-29.633162226859756, total=   0.1s\n",
      "[CV] max_iter=35, n_clusters=4, n_init=2, n_jobs=-1, tol=5e-05 .......\n",
      "[CV]  max_iter=35, n_clusters=4, n_init=2, n_jobs=-1, tol=5e-05, score=-40.41391347543714, total=   0.1s\n",
      "[CV] max_iter=35, n_clusters=4, n_init=2, n_jobs=-1, tol=5e-05 .......\n",
      "[CV]  max_iter=35, n_clusters=4, n_init=2, n_jobs=-1, tol=5e-05, score=-32.10248902449877, total=   0.1s\n",
      "[CV] max_iter=35, n_clusters=4, n_init=2, n_jobs=-1, tol=5e-05 .......\n",
      "[CV]  max_iter=35, n_clusters=4, n_init=2, n_jobs=-1, tol=5e-05, score=-29.3114832713503, total=   0.1s\n",
      "[CV] max_iter=35, n_clusters=4, n_init=2, n_jobs=-1, tol=8e-05 .......\n",
      "[CV]  max_iter=35, n_clusters=4, n_init=2, n_jobs=-1, tol=8e-05, score=-40.39762251857895, total=   0.1s\n",
      "[CV] max_iter=35, n_clusters=4, n_init=2, n_jobs=-1, tol=8e-05 .......\n",
      "[CV]  max_iter=35, n_clusters=4, n_init=2, n_jobs=-1, tol=8e-05, score=-31.751074234862596, total=   0.1s\n",
      "[CV] max_iter=35, n_clusters=4, n_init=2, n_jobs=-1, tol=8e-05 .......\n",
      "[CV]  max_iter=35, n_clusters=4, n_init=2, n_jobs=-1, tol=8e-05, score=-29.23572974089711, total=   0.1s\n",
      "[CV] max_iter=35, n_clusters=4, n_init=2, n_jobs=-1, tol=0.0001 ......\n",
      "[CV]  max_iter=35, n_clusters=4, n_init=2, n_jobs=-1, tol=0.0001, score=-40.536220104633855, total=   0.1s\n",
      "[CV] max_iter=35, n_clusters=4, n_init=2, n_jobs=-1, tol=0.0001 ......\n",
      "[CV]  max_iter=35, n_clusters=4, n_init=2, n_jobs=-1, tol=0.0001, score=-31.721581909054066, total=   0.1s\n",
      "[CV] max_iter=35, n_clusters=4, n_init=2, n_jobs=-1, tol=0.0001 ......\n",
      "[CV]  max_iter=35, n_clusters=4, n_init=2, n_jobs=-1, tol=0.0001, score=-29.3925335872489, total=   0.1s\n",
      "[CV] max_iter=35, n_clusters=4, n_init=3, n_jobs=-1, tol=5e-05 .......\n",
      "[CV]  max_iter=35, n_clusters=4, n_init=3, n_jobs=-1, tol=5e-05, score=-40.13006555987799, total=   0.1s\n",
      "[CV] max_iter=35, n_clusters=4, n_init=3, n_jobs=-1, tol=5e-05 .......\n",
      "[CV]  max_iter=35, n_clusters=4, n_init=3, n_jobs=-1, tol=5e-05, score=-32.01208791680751, total=   0.1s\n",
      "[CV] max_iter=35, n_clusters=4, n_init=3, n_jobs=-1, tol=5e-05 .......\n",
      "[CV]  max_iter=35, n_clusters=4, n_init=3, n_jobs=-1, tol=5e-05, score=-29.306304768188014, total=   0.1s\n",
      "[CV] max_iter=35, n_clusters=4, n_init=3, n_jobs=-1, tol=8e-05 .......\n",
      "[CV]  max_iter=35, n_clusters=4, n_init=3, n_jobs=-1, tol=8e-05, score=-40.12930572633299, total=   0.1s\n",
      "[CV] max_iter=35, n_clusters=4, n_init=3, n_jobs=-1, tol=8e-05 .......\n",
      "[CV]  max_iter=35, n_clusters=4, n_init=3, n_jobs=-1, tol=8e-05, score=-31.9535461173688, total=   0.1s\n",
      "[CV] max_iter=35, n_clusters=4, n_init=3, n_jobs=-1, tol=8e-05 .......\n",
      "[CV]  max_iter=35, n_clusters=4, n_init=3, n_jobs=-1, tol=8e-05, score=-29.38175418667523, total=   0.1s\n",
      "[CV] max_iter=35, n_clusters=4, n_init=3, n_jobs=-1, tol=0.0001 ......\n",
      "[CV]  max_iter=35, n_clusters=4, n_init=3, n_jobs=-1, tol=0.0001, score=-39.849266594453475, total=   0.1s\n",
      "[CV] max_iter=35, n_clusters=4, n_init=3, n_jobs=-1, tol=0.0001 ......\n",
      "[CV]  max_iter=35, n_clusters=4, n_init=3, n_jobs=-1, tol=0.0001, score=-31.434560486566404, total=   0.1s\n",
      "[CV] max_iter=35, n_clusters=4, n_init=3, n_jobs=-1, tol=0.0001 ......\n",
      "[CV]  max_iter=35, n_clusters=4, n_init=3, n_jobs=-1, tol=0.0001, score=-29.300963899228574, total=   0.1s\n",
      "[CV] max_iter=35, n_clusters=4, n_init=4, n_jobs=-1, tol=5e-05 .......\n",
      "[CV]  max_iter=35, n_clusters=4, n_init=4, n_jobs=-1, tol=5e-05, score=-40.264315376933034, total=   0.1s\n",
      "[CV] max_iter=35, n_clusters=4, n_init=4, n_jobs=-1, tol=5e-05 .......\n",
      "[CV]  max_iter=35, n_clusters=4, n_init=4, n_jobs=-1, tol=5e-05, score=-32.36551688767375, total=   0.1s\n",
      "[CV] max_iter=35, n_clusters=4, n_init=4, n_jobs=-1, tol=5e-05 .......\n",
      "[CV]  max_iter=35, n_clusters=4, n_init=4, n_jobs=-1, tol=5e-05, score=-29.345390773067358, total=   0.1s\n",
      "[CV] max_iter=35, n_clusters=4, n_init=4, n_jobs=-1, tol=8e-05 .......\n",
      "[CV]  max_iter=35, n_clusters=4, n_init=4, n_jobs=-1, tol=8e-05, score=-40.1650429749926, total=   0.1s\n",
      "[CV] max_iter=35, n_clusters=4, n_init=4, n_jobs=-1, tol=8e-05 .......\n",
      "[CV]  max_iter=35, n_clusters=4, n_init=4, n_jobs=-1, tol=8e-05, score=-31.51617504463305, total=   0.1s\n",
      "[CV] max_iter=35, n_clusters=4, n_init=4, n_jobs=-1, tol=8e-05 .......\n",
      "[CV]  max_iter=35, n_clusters=4, n_init=4, n_jobs=-1, tol=8e-05, score=-29.38382931654123, total=   0.1s\n",
      "[CV] max_iter=35, n_clusters=4, n_init=4, n_jobs=-1, tol=0.0001 ......\n",
      "[CV]  max_iter=35, n_clusters=4, n_init=4, n_jobs=-1, tol=0.0001, score=-40.12846688133518, total=   0.1s\n",
      "[CV] max_iter=35, n_clusters=4, n_init=4, n_jobs=-1, tol=0.0001 ......\n",
      "[CV]  max_iter=35, n_clusters=4, n_init=4, n_jobs=-1, tol=0.0001, score=-31.33698630910447, total=   0.2s\n",
      "[CV] max_iter=35, n_clusters=4, n_init=4, n_jobs=-1, tol=0.0001 ......\n",
      "[CV]  max_iter=35, n_clusters=4, n_init=4, n_jobs=-1, tol=0.0001, score=-29.521880720570323, total=   0.1s\n",
      "[CV] max_iter=35, n_clusters=4, n_init=5, n_jobs=-1, tol=5e-05 .......\n",
      "[CV]  max_iter=35, n_clusters=4, n_init=5, n_jobs=-1, tol=5e-05, score=-40.21337221949453, total=   0.1s\n",
      "[CV] max_iter=35, n_clusters=4, n_init=5, n_jobs=-1, tol=5e-05 .......\n",
      "[CV]  max_iter=35, n_clusters=4, n_init=5, n_jobs=-1, tol=5e-05, score=-31.20496943040653, total=   0.1s\n",
      "[CV] max_iter=35, n_clusters=4, n_init=5, n_jobs=-1, tol=5e-05 .......\n",
      "[CV]  max_iter=35, n_clusters=4, n_init=5, n_jobs=-1, tol=5e-05, score=-29.38175418667523, total=   0.1s\n",
      "[CV] max_iter=35, n_clusters=4, n_init=5, n_jobs=-1, tol=8e-05 .......\n",
      "[CV]  max_iter=35, n_clusters=4, n_init=5, n_jobs=-1, tol=8e-05, score=-40.199523275459896, total=   0.1s\n",
      "[CV] max_iter=35, n_clusters=4, n_init=5, n_jobs=-1, tol=8e-05 .......\n",
      "[CV]  max_iter=35, n_clusters=4, n_init=5, n_jobs=-1, tol=8e-05, score=-32.15932702522852, total=   0.1s\n",
      "[CV] max_iter=35, n_clusters=4, n_init=5, n_jobs=-1, tol=8e-05 .......\n"
     ]
    },
    {
     "name": "stdout",
     "output_type": "stream",
     "text": [
      "[CV]  max_iter=35, n_clusters=4, n_init=5, n_jobs=-1, tol=8e-05, score=-29.36192088724698, total=   0.2s\n",
      "[CV] max_iter=35, n_clusters=4, n_init=5, n_jobs=-1, tol=0.0001 ......\n",
      "[CV]  max_iter=35, n_clusters=4, n_init=5, n_jobs=-1, tol=0.0001, score=-39.934630935135004, total=   0.1s\n",
      "[CV] max_iter=35, n_clusters=4, n_init=5, n_jobs=-1, tol=0.0001 ......\n",
      "[CV]  max_iter=35, n_clusters=4, n_init=5, n_jobs=-1, tol=0.0001, score=-31.594071097239596, total=   0.2s\n",
      "[CV] max_iter=35, n_clusters=4, n_init=5, n_jobs=-1, tol=0.0001 ......\n",
      "[CV]  max_iter=35, n_clusters=4, n_init=5, n_jobs=-1, tol=0.0001, score=-29.36192088724698, total=   0.2s\n",
      "[CV] max_iter=35, n_clusters=4, n_init=6, n_jobs=-1, tol=5e-05 .......\n",
      "[CV]  max_iter=35, n_clusters=4, n_init=6, n_jobs=-1, tol=5e-05, score=-39.831694356890004, total=   0.1s\n",
      "[CV] max_iter=35, n_clusters=4, n_init=6, n_jobs=-1, tol=5e-05 .......\n",
      "[CV]  max_iter=35, n_clusters=4, n_init=6, n_jobs=-1, tol=5e-05, score=-31.237585963070963, total=   0.1s\n",
      "[CV] max_iter=35, n_clusters=4, n_init=6, n_jobs=-1, tol=5e-05 .......\n",
      "[CV]  max_iter=35, n_clusters=4, n_init=6, n_jobs=-1, tol=5e-05, score=-29.29320055129971, total=   0.2s\n",
      "[CV] max_iter=35, n_clusters=4, n_init=6, n_jobs=-1, tol=8e-05 .......\n",
      "[CV]  max_iter=35, n_clusters=4, n_init=6, n_jobs=-1, tol=8e-05, score=-40.27499413039255, total=   0.1s\n",
      "[CV] max_iter=35, n_clusters=4, n_init=6, n_jobs=-1, tol=8e-05 .......\n",
      "[CV]  max_iter=35, n_clusters=4, n_init=6, n_jobs=-1, tol=8e-05, score=-32.21496207856208, total=   0.2s\n",
      "[CV] max_iter=35, n_clusters=4, n_init=6, n_jobs=-1, tol=8e-05 .......\n",
      "[CV]  max_iter=35, n_clusters=4, n_init=6, n_jobs=-1, tol=8e-05, score=-29.46803513188631, total=   0.1s\n",
      "[CV] max_iter=35, n_clusters=4, n_init=6, n_jobs=-1, tol=0.0001 ......\n",
      "[CV]  max_iter=35, n_clusters=4, n_init=6, n_jobs=-1, tol=0.0001, score=-39.76162534072202, total=   0.1s\n",
      "[CV] max_iter=35, n_clusters=4, n_init=6, n_jobs=-1, tol=0.0001 ......\n",
      "[CV]  max_iter=35, n_clusters=4, n_init=6, n_jobs=-1, tol=0.0001, score=-31.594071097239596, total=   0.2s\n",
      "[CV] max_iter=35, n_clusters=4, n_init=6, n_jobs=-1, tol=0.0001 ......\n",
      "[CV]  max_iter=35, n_clusters=4, n_init=6, n_jobs=-1, tol=0.0001, score=-29.3925335872489, total=   0.1s\n",
      "[CV] max_iter=35, n_clusters=4, n_init=7, n_jobs=-1, tol=5e-05 .......\n",
      "[CV]  max_iter=35, n_clusters=4, n_init=7, n_jobs=-1, tol=5e-05, score=-39.76119195296424, total=   0.1s\n",
      "[CV] max_iter=35, n_clusters=4, n_init=7, n_jobs=-1, tol=5e-05 .......\n",
      "[CV]  max_iter=35, n_clusters=4, n_init=7, n_jobs=-1, tol=5e-05, score=-31.918864584438765, total=   0.3s\n",
      "[CV] max_iter=35, n_clusters=4, n_init=7, n_jobs=-1, tol=5e-05 .......\n",
      "[CV]  max_iter=35, n_clusters=4, n_init=7, n_jobs=-1, tol=5e-05, score=-29.344976312043723, total=   0.2s\n",
      "[CV] max_iter=35, n_clusters=4, n_init=7, n_jobs=-1, tol=8e-05 .......\n",
      "[CV]  max_iter=35, n_clusters=4, n_init=7, n_jobs=-1, tol=8e-05, score=-39.73451479631776, total=   0.2s\n",
      "[CV] max_iter=35, n_clusters=4, n_init=7, n_jobs=-1, tol=8e-05 .......\n",
      "[CV]  max_iter=35, n_clusters=4, n_init=7, n_jobs=-1, tol=8e-05, score=-32.134887230886854, total=   0.2s\n",
      "[CV] max_iter=35, n_clusters=4, n_init=7, n_jobs=-1, tol=8e-05 .......\n",
      "[CV]  max_iter=35, n_clusters=4, n_init=7, n_jobs=-1, tol=8e-05, score=-29.36269716128487, total=   0.2s\n",
      "[CV] max_iter=35, n_clusters=4, n_init=7, n_jobs=-1, tol=0.0001 ......\n",
      "[CV]  max_iter=35, n_clusters=4, n_init=7, n_jobs=-1, tol=0.0001, score=-39.69270245918333, total=   0.1s\n",
      "[CV] max_iter=35, n_clusters=4, n_init=7, n_jobs=-1, tol=0.0001 ......\n",
      "[CV]  max_iter=35, n_clusters=4, n_init=7, n_jobs=-1, tol=0.0001, score=-31.573738119522737, total=   0.2s\n",
      "[CV] max_iter=35, n_clusters=4, n_init=7, n_jobs=-1, tol=0.0001 ......\n",
      "[CV]  max_iter=35, n_clusters=4, n_init=7, n_jobs=-1, tol=0.0001, score=-29.48036795448821, total=   0.1s\n",
      "[CV] max_iter=35, n_clusters=4, n_init=8, n_jobs=-1, tol=5e-05 .......\n",
      "[CV]  max_iter=35, n_clusters=4, n_init=8, n_jobs=-1, tol=5e-05, score=-40.20497900486129, total=   0.2s\n",
      "[CV] max_iter=35, n_clusters=4, n_init=8, n_jobs=-1, tol=5e-05 .......\n",
      "[CV]  max_iter=35, n_clusters=4, n_init=8, n_jobs=-1, tol=5e-05, score=-31.483746279370298, total=   0.2s\n",
      "[CV] max_iter=35, n_clusters=4, n_init=8, n_jobs=-1, tol=5e-05 .......\n",
      "[CV]  max_iter=35, n_clusters=4, n_init=8, n_jobs=-1, tol=5e-05, score=-29.72573859964922, total=   0.2s\n",
      "[CV] max_iter=35, n_clusters=4, n_init=8, n_jobs=-1, tol=8e-05 .......\n",
      "[CV]  max_iter=35, n_clusters=4, n_init=8, n_jobs=-1, tol=8e-05, score=-39.66351604984583, total=   0.3s\n",
      "[CV] max_iter=35, n_clusters=4, n_init=8, n_jobs=-1, tol=8e-05 .......\n",
      "[CV]  max_iter=35, n_clusters=4, n_init=8, n_jobs=-1, tol=8e-05, score=-31.272974172352008, total=   0.2s\n",
      "[CV] max_iter=35, n_clusters=4, n_init=8, n_jobs=-1, tol=8e-05 .......\n",
      "[CV]  max_iter=35, n_clusters=4, n_init=8, n_jobs=-1, tol=8e-05, score=-29.36192088724698, total=   0.2s\n",
      "[CV] max_iter=35, n_clusters=4, n_init=8, n_jobs=-1, tol=0.0001 ......\n",
      "[CV]  max_iter=35, n_clusters=4, n_init=8, n_jobs=-1, tol=0.0001, score=-39.73707194594882, total=   0.2s\n",
      "[CV] max_iter=35, n_clusters=4, n_init=8, n_jobs=-1, tol=0.0001 ......\n",
      "[CV]  max_iter=35, n_clusters=4, n_init=8, n_jobs=-1, tol=0.0001, score=-31.594071097239596, total=   0.2s\n",
      "[CV] max_iter=35, n_clusters=4, n_init=8, n_jobs=-1, tol=0.0001 ......\n",
      "[CV]  max_iter=35, n_clusters=4, n_init=8, n_jobs=-1, tol=0.0001, score=-29.374011900940932, total=   0.2s\n",
      "[CV] max_iter=35, n_clusters=4, n_init=9, n_jobs=-1, tol=5e-05 .......\n",
      "[CV]  max_iter=35, n_clusters=4, n_init=9, n_jobs=-1, tol=5e-05, score=-39.67408419698819, total=   0.2s\n",
      "[CV] max_iter=35, n_clusters=4, n_init=9, n_jobs=-1, tol=5e-05 .......\n",
      "[CV]  max_iter=35, n_clusters=4, n_init=9, n_jobs=-1, tol=5e-05, score=-31.529410713802527, total=   0.2s\n",
      "[CV] max_iter=35, n_clusters=4, n_init=9, n_jobs=-1, tol=5e-05 .......\n",
      "[CV]  max_iter=35, n_clusters=4, n_init=9, n_jobs=-1, tol=5e-05, score=-29.31804241211797, total=   0.2s\n",
      "[CV] max_iter=35, n_clusters=4, n_init=9, n_jobs=-1, tol=8e-05 .......\n",
      "[CV]  max_iter=35, n_clusters=4, n_init=9, n_jobs=-1, tol=8e-05, score=-39.81633626475728, total=   0.2s\n",
      "[CV] max_iter=35, n_clusters=4, n_init=9, n_jobs=-1, tol=8e-05 .......\n",
      "[CV]  max_iter=35, n_clusters=4, n_init=9, n_jobs=-1, tol=8e-05, score=-31.514359574168324, total=   0.2s\n",
      "[CV] max_iter=35, n_clusters=4, n_init=9, n_jobs=-1, tol=8e-05 .......\n",
      "[CV]  max_iter=35, n_clusters=4, n_init=9, n_jobs=-1, tol=8e-05, score=-29.501091729145255, total=   0.2s\n",
      "[CV] max_iter=35, n_clusters=4, n_init=9, n_jobs=-1, tol=0.0001 ......\n",
      "[CV]  max_iter=35, n_clusters=4, n_init=9, n_jobs=-1, tol=0.0001, score=-39.94389678283385, total=   0.2s\n",
      "[CV] max_iter=35, n_clusters=4, n_init=9, n_jobs=-1, tol=0.0001 ......\n",
      "[CV]  max_iter=35, n_clusters=4, n_init=9, n_jobs=-1, tol=0.0001, score=-31.444013624185494, total=   0.2s\n",
      "[CV] max_iter=35, n_clusters=4, n_init=9, n_jobs=-1, tol=0.0001 ......\n",
      "[CV]  max_iter=35, n_clusters=4, n_init=9, n_jobs=-1, tol=0.0001, score=-29.26716453193888, total=   0.2s\n",
      "[CV] max_iter=40, n_clusters=4, n_init=1, n_jobs=-1, tol=5e-05 .......\n",
      "[CV]  max_iter=40, n_clusters=4, n_init=1, n_jobs=-1, tol=5e-05, score=-40.174762537673786, total=   0.1s\n",
      "[CV] max_iter=40, n_clusters=4, n_init=1, n_jobs=-1, tol=5e-05 .......\n",
      "[CV]  max_iter=40, n_clusters=4, n_init=1, n_jobs=-1, tol=5e-05, score=-32.397171420878244, total=   0.1s\n",
      "[CV] max_iter=40, n_clusters=4, n_init=1, n_jobs=-1, tol=5e-05 .......\n",
      "[CV]  max_iter=40, n_clusters=4, n_init=1, n_jobs=-1, tol=5e-05, score=-29.315057878164346, total=   0.1s\n",
      "[CV] max_iter=40, n_clusters=4, n_init=1, n_jobs=-1, tol=8e-05 .......\n",
      "[CV]  max_iter=40, n_clusters=4, n_init=1, n_jobs=-1, tol=8e-05, score=-39.63431266014529, total=   0.0s\n",
      "[CV] max_iter=40, n_clusters=4, n_init=1, n_jobs=-1, tol=8e-05 .......\n",
      "[CV]  max_iter=40, n_clusters=4, n_init=1, n_jobs=-1, tol=8e-05, score=-31.267291972027483, total=   0.0s\n",
      "[CV] max_iter=40, n_clusters=4, n_init=1, n_jobs=-1, tol=8e-05 .......\n",
      "[CV]  max_iter=40, n_clusters=4, n_init=1, n_jobs=-1, tol=8e-05, score=-29.46028627891515, total=   0.1s\n",
      "[CV] max_iter=40, n_clusters=4, n_init=1, n_jobs=-1, tol=0.0001 ......\n",
      "[CV]  max_iter=40, n_clusters=4, n_init=1, n_jobs=-1, tol=0.0001, score=-39.75398076586654, total=   0.0s\n",
      "[CV] max_iter=40, n_clusters=4, n_init=1, n_jobs=-1, tol=0.0001 ......\n",
      "[CV]  max_iter=40, n_clusters=4, n_init=1, n_jobs=-1, tol=0.0001, score=-31.587632387503884, total=   0.1s\n",
      "[CV] max_iter=40, n_clusters=4, n_init=1, n_jobs=-1, tol=0.0001 ......\n",
      "[CV]  max_iter=40, n_clusters=4, n_init=1, n_jobs=-1, tol=0.0001, score=-29.32041790909104, total=   0.1s\n",
      "[CV] max_iter=40, n_clusters=4, n_init=2, n_jobs=-1, tol=5e-05 .......\n"
     ]
    },
    {
     "name": "stdout",
     "output_type": "stream",
     "text": [
      "[CV]  max_iter=40, n_clusters=4, n_init=2, n_jobs=-1, tol=5e-05, score=-40.25646617505282, total=   0.1s\n",
      "[CV] max_iter=40, n_clusters=4, n_init=2, n_jobs=-1, tol=5e-05 .......\n",
      "[CV]  max_iter=40, n_clusters=4, n_init=2, n_jobs=-1, tol=5e-05, score=-31.28179884543172, total=   0.1s\n",
      "[CV] max_iter=40, n_clusters=4, n_init=2, n_jobs=-1, tol=5e-05 .......\n",
      "[CV]  max_iter=40, n_clusters=4, n_init=2, n_jobs=-1, tol=5e-05, score=-29.63904903878863, total=   0.1s\n",
      "[CV] max_iter=40, n_clusters=4, n_init=2, n_jobs=-1, tol=8e-05 .......\n",
      "[CV]  max_iter=40, n_clusters=4, n_init=2, n_jobs=-1, tol=8e-05, score=-39.9450443712308, total=   0.1s\n",
      "[CV] max_iter=40, n_clusters=4, n_init=2, n_jobs=-1, tol=8e-05 .......\n",
      "[CV]  max_iter=40, n_clusters=4, n_init=2, n_jobs=-1, tol=8e-05, score=-32.4132822993618, total=   0.1s\n",
      "[CV] max_iter=40, n_clusters=4, n_init=2, n_jobs=-1, tol=8e-05 .......\n",
      "[CV]  max_iter=40, n_clusters=4, n_init=2, n_jobs=-1, tol=8e-05, score=-29.36192088724698, total=   0.1s\n",
      "[CV] max_iter=40, n_clusters=4, n_init=2, n_jobs=-1, tol=0.0001 ......\n",
      "[CV]  max_iter=40, n_clusters=4, n_init=2, n_jobs=-1, tol=0.0001, score=-39.61573400690694, total=   0.0s\n",
      "[CV] max_iter=40, n_clusters=4, n_init=2, n_jobs=-1, tol=0.0001 ......\n",
      "[CV]  max_iter=40, n_clusters=4, n_init=2, n_jobs=-1, tol=0.0001, score=-31.94433207625346, total=   0.1s\n",
      "[CV] max_iter=40, n_clusters=4, n_init=2, n_jobs=-1, tol=0.0001 ......\n",
      "[CV]  max_iter=40, n_clusters=4, n_init=2, n_jobs=-1, tol=0.0001, score=-29.446647404902695, total=   0.1s\n",
      "[CV] max_iter=40, n_clusters=4, n_init=3, n_jobs=-1, tol=5e-05 .......\n",
      "[CV]  max_iter=40, n_clusters=4, n_init=3, n_jobs=-1, tol=5e-05, score=-40.001957563870434, total=   0.1s\n",
      "[CV] max_iter=40, n_clusters=4, n_init=3, n_jobs=-1, tol=5e-05 .......\n",
      "[CV]  max_iter=40, n_clusters=4, n_init=3, n_jobs=-1, tol=5e-05, score=-31.994770109461804, total=   0.1s\n",
      "[CV] max_iter=40, n_clusters=4, n_init=3, n_jobs=-1, tol=5e-05 .......\n",
      "[CV]  max_iter=40, n_clusters=4, n_init=3, n_jobs=-1, tol=5e-05, score=-29.46119728927288, total=   0.1s\n",
      "[CV] max_iter=40, n_clusters=4, n_init=3, n_jobs=-1, tol=8e-05 .......\n",
      "[CV]  max_iter=40, n_clusters=4, n_init=3, n_jobs=-1, tol=8e-05, score=-40.308253770727866, total=   0.1s\n",
      "[CV] max_iter=40, n_clusters=4, n_init=3, n_jobs=-1, tol=8e-05 .......\n",
      "[CV]  max_iter=40, n_clusters=4, n_init=3, n_jobs=-1, tol=8e-05, score=-32.23023538382272, total=   0.1s\n",
      "[CV] max_iter=40, n_clusters=4, n_init=3, n_jobs=-1, tol=8e-05 .......\n",
      "[CV]  max_iter=40, n_clusters=4, n_init=3, n_jobs=-1, tol=8e-05, score=-29.493834230745527, total=   0.1s\n",
      "[CV] max_iter=40, n_clusters=4, n_init=3, n_jobs=-1, tol=0.0001 ......\n",
      "[CV]  max_iter=40, n_clusters=4, n_init=3, n_jobs=-1, tol=0.0001, score=-39.69643957411422, total=   0.0s\n",
      "[CV] max_iter=40, n_clusters=4, n_init=3, n_jobs=-1, tol=0.0001 ......\n",
      "[CV]  max_iter=40, n_clusters=4, n_init=3, n_jobs=-1, tol=0.0001, score=-31.390036923376787, total=   0.1s\n",
      "[CV] max_iter=40, n_clusters=4, n_init=3, n_jobs=-1, tol=0.0001 ......\n",
      "[CV]  max_iter=40, n_clusters=4, n_init=3, n_jobs=-1, tol=0.0001, score=-29.501091729145255, total=   0.1s\n",
      "[CV] max_iter=40, n_clusters=4, n_init=4, n_jobs=-1, tol=5e-05 .......\n",
      "[CV]  max_iter=40, n_clusters=4, n_init=4, n_jobs=-1, tol=5e-05, score=-40.06509376967611, total=   0.1s\n",
      "[CV] max_iter=40, n_clusters=4, n_init=4, n_jobs=-1, tol=5e-05 .......\n",
      "[CV]  max_iter=40, n_clusters=4, n_init=4, n_jobs=-1, tol=5e-05, score=-31.645792263089383, total=   0.1s\n",
      "[CV] max_iter=40, n_clusters=4, n_init=4, n_jobs=-1, tol=5e-05 .......\n",
      "[CV]  max_iter=40, n_clusters=4, n_init=4, n_jobs=-1, tol=5e-05, score=-29.405624489905797, total=   0.1s\n",
      "[CV] max_iter=40, n_clusters=4, n_init=4, n_jobs=-1, tol=8e-05 .......\n",
      "[CV]  max_iter=40, n_clusters=4, n_init=4, n_jobs=-1, tol=8e-05, score=-39.69562333898546, total=   0.1s\n",
      "[CV] max_iter=40, n_clusters=4, n_init=4, n_jobs=-1, tol=8e-05 .......\n",
      "[CV]  max_iter=40, n_clusters=4, n_init=4, n_jobs=-1, tol=8e-05, score=-31.12053958218243, total=   0.1s\n",
      "[CV] max_iter=40, n_clusters=4, n_init=4, n_jobs=-1, tol=8e-05 .......\n",
      "[CV]  max_iter=40, n_clusters=4, n_init=4, n_jobs=-1, tol=8e-05, score=-29.38382931654123, total=   0.2s\n",
      "[CV] max_iter=40, n_clusters=4, n_init=4, n_jobs=-1, tol=0.0001 ......\n",
      "[CV]  max_iter=40, n_clusters=4, n_init=4, n_jobs=-1, tol=0.0001, score=-39.860503622735024, total=   0.1s\n",
      "[CV] max_iter=40, n_clusters=4, n_init=4, n_jobs=-1, tol=0.0001 ......\n",
      "[CV]  max_iter=40, n_clusters=4, n_init=4, n_jobs=-1, tol=0.0001, score=-31.684849711963462, total=   0.1s\n",
      "[CV] max_iter=40, n_clusters=4, n_init=4, n_jobs=-1, tol=0.0001 ......\n",
      "[CV]  max_iter=40, n_clusters=4, n_init=4, n_jobs=-1, tol=0.0001, score=-29.338443915391927, total=   0.1s\n",
      "[CV] max_iter=40, n_clusters=4, n_init=5, n_jobs=-1, tol=5e-05 .......\n",
      "[CV]  max_iter=40, n_clusters=4, n_init=5, n_jobs=-1, tol=5e-05, score=-39.98555118437511, total=   0.1s\n",
      "[CV] max_iter=40, n_clusters=4, n_init=5, n_jobs=-1, tol=5e-05 .......\n",
      "[CV]  max_iter=40, n_clusters=4, n_init=5, n_jobs=-1, tol=5e-05, score=-31.744607817273906, total=   0.2s\n",
      "[CV] max_iter=40, n_clusters=4, n_init=5, n_jobs=-1, tol=5e-05 .......\n",
      "[CV]  max_iter=40, n_clusters=4, n_init=5, n_jobs=-1, tol=5e-05, score=-29.36192088724698, total=   0.1s\n",
      "[CV] max_iter=40, n_clusters=4, n_init=5, n_jobs=-1, tol=8e-05 .......\n",
      "[CV]  max_iter=40, n_clusters=4, n_init=5, n_jobs=-1, tol=8e-05, score=-40.01829476878903, total=   0.1s\n",
      "[CV] max_iter=40, n_clusters=4, n_init=5, n_jobs=-1, tol=8e-05 .......\n",
      "[CV]  max_iter=40, n_clusters=4, n_init=5, n_jobs=-1, tol=8e-05, score=-31.514893621023322, total=   0.2s\n",
      "[CV] max_iter=40, n_clusters=4, n_init=5, n_jobs=-1, tol=8e-05 .......\n",
      "[CV]  max_iter=40, n_clusters=4, n_init=5, n_jobs=-1, tol=8e-05, score=-29.568418994090507, total=   0.2s\n",
      "[CV] max_iter=40, n_clusters=4, n_init=5, n_jobs=-1, tol=0.0001 ......\n",
      "[CV]  max_iter=40, n_clusters=4, n_init=5, n_jobs=-1, tol=0.0001, score=-40.17928577449233, total=   0.1s\n",
      "[CV] max_iter=40, n_clusters=4, n_init=5, n_jobs=-1, tol=0.0001 ......\n",
      "[CV]  max_iter=40, n_clusters=4, n_init=5, n_jobs=-1, tol=0.0001, score=-32.31733258377195, total=   0.1s\n",
      "[CV] max_iter=40, n_clusters=4, n_init=5, n_jobs=-1, tol=0.0001 ......\n",
      "[CV]  max_iter=40, n_clusters=4, n_init=5, n_jobs=-1, tol=0.0001, score=-29.38382931654123, total=   0.1s\n",
      "[CV] max_iter=40, n_clusters=4, n_init=6, n_jobs=-1, tol=5e-05 .......\n",
      "[CV]  max_iter=40, n_clusters=4, n_init=6, n_jobs=-1, tol=5e-05, score=-40.06109867258679, total=   0.1s\n",
      "[CV] max_iter=40, n_clusters=4, n_init=6, n_jobs=-1, tol=5e-05 .......\n",
      "[CV]  max_iter=40, n_clusters=4, n_init=6, n_jobs=-1, tol=5e-05, score=-31.46860519716943, total=   0.2s\n",
      "[CV] max_iter=40, n_clusters=4, n_init=6, n_jobs=-1, tol=5e-05 .......\n",
      "[CV]  max_iter=40, n_clusters=4, n_init=6, n_jobs=-1, tol=5e-05, score=-29.36192088724698, total=   0.2s\n",
      "[CV] max_iter=40, n_clusters=4, n_init=6, n_jobs=-1, tol=8e-05 .......\n",
      "[CV]  max_iter=40, n_clusters=4, n_init=6, n_jobs=-1, tol=8e-05, score=-40.34527913512189, total=   0.1s\n",
      "[CV] max_iter=40, n_clusters=4, n_init=6, n_jobs=-1, tol=8e-05 .......\n",
      "[CV]  max_iter=40, n_clusters=4, n_init=6, n_jobs=-1, tol=8e-05, score=-32.407443831810866, total=   0.1s\n",
      "[CV] max_iter=40, n_clusters=4, n_init=6, n_jobs=-1, tol=8e-05 .......\n",
      "[CV]  max_iter=40, n_clusters=4, n_init=6, n_jobs=-1, tol=8e-05, score=-29.511967910073743, total=   0.2s\n",
      "[CV] max_iter=40, n_clusters=4, n_init=6, n_jobs=-1, tol=0.0001 ......\n",
      "[CV]  max_iter=40, n_clusters=4, n_init=6, n_jobs=-1, tol=0.0001, score=-40.20549442728306, total=   0.1s\n",
      "[CV] max_iter=40, n_clusters=4, n_init=6, n_jobs=-1, tol=0.0001 ......\n",
      "[CV]  max_iter=40, n_clusters=4, n_init=6, n_jobs=-1, tol=0.0001, score=-31.285021237409364, total=   0.2s\n",
      "[CV] max_iter=40, n_clusters=4, n_init=6, n_jobs=-1, tol=0.0001 ......\n",
      "[CV]  max_iter=40, n_clusters=4, n_init=6, n_jobs=-1, tol=0.0001, score=-29.3925335872489, total=   0.2s\n",
      "[CV] max_iter=40, n_clusters=4, n_init=7, n_jobs=-1, tol=5e-05 .......\n",
      "[CV]  max_iter=40, n_clusters=4, n_init=7, n_jobs=-1, tol=5e-05, score=-40.22710005365307, total=   0.1s\n",
      "[CV] max_iter=40, n_clusters=4, n_init=7, n_jobs=-1, tol=5e-05 .......\n",
      "[CV]  max_iter=40, n_clusters=4, n_init=7, n_jobs=-1, tol=5e-05, score=-31.894610176191556, total=   0.2s\n",
      "[CV] max_iter=40, n_clusters=4, n_init=7, n_jobs=-1, tol=5e-05 .......\n",
      "[CV]  max_iter=40, n_clusters=4, n_init=7, n_jobs=-1, tol=5e-05, score=-29.36192088724698, total=   0.2s\n",
      "[CV] max_iter=40, n_clusters=4, n_init=7, n_jobs=-1, tol=8e-05 .......\n"
     ]
    },
    {
     "name": "stdout",
     "output_type": "stream",
     "text": [
      "[CV]  max_iter=40, n_clusters=4, n_init=7, n_jobs=-1, tol=8e-05, score=-39.69274817424905, total=   0.2s\n",
      "[CV] max_iter=40, n_clusters=4, n_init=7, n_jobs=-1, tol=8e-05 .......\n",
      "[CV]  max_iter=40, n_clusters=4, n_init=7, n_jobs=-1, tol=8e-05, score=-31.36138228890768, total=   0.2s\n",
      "[CV] max_iter=40, n_clusters=4, n_init=7, n_jobs=-1, tol=8e-05 .......\n",
      "[CV]  max_iter=40, n_clusters=4, n_init=7, n_jobs=-1, tol=8e-05, score=-29.38175418667523, total=   0.3s\n",
      "[CV] max_iter=40, n_clusters=4, n_init=7, n_jobs=-1, tol=0.0001 ......\n",
      "[CV]  max_iter=40, n_clusters=4, n_init=7, n_jobs=-1, tol=0.0001, score=-39.74459728958879, total=   0.2s\n",
      "[CV] max_iter=40, n_clusters=4, n_init=7, n_jobs=-1, tol=0.0001 ......\n",
      "[CV]  max_iter=40, n_clusters=4, n_init=7, n_jobs=-1, tol=0.0001, score=-32.0258101456423, total=   0.2s\n",
      "[CV] max_iter=40, n_clusters=4, n_init=7, n_jobs=-1, tol=0.0001 ......\n",
      "[CV]  max_iter=40, n_clusters=4, n_init=7, n_jobs=-1, tol=0.0001, score=-29.36269716128487, total=   0.2s\n",
      "[CV] max_iter=40, n_clusters=4, n_init=8, n_jobs=-1, tol=5e-05 .......\n",
      "[CV]  max_iter=40, n_clusters=4, n_init=8, n_jobs=-1, tol=5e-05, score=-39.8963172141043, total=   0.2s\n",
      "[CV] max_iter=40, n_clusters=4, n_init=8, n_jobs=-1, tol=5e-05 .......\n",
      "[CV]  max_iter=40, n_clusters=4, n_init=8, n_jobs=-1, tol=5e-05, score=-31.43106500647854, total=   0.2s\n",
      "[CV] max_iter=40, n_clusters=4, n_init=8, n_jobs=-1, tol=5e-05 .......\n",
      "[CV]  max_iter=40, n_clusters=4, n_init=8, n_jobs=-1, tol=5e-05, score=-29.36269716128487, total=   0.3s\n",
      "[CV] max_iter=40, n_clusters=4, n_init=8, n_jobs=-1, tol=8e-05 .......\n",
      "[CV]  max_iter=40, n_clusters=4, n_init=8, n_jobs=-1, tol=8e-05, score=-39.79909086374308, total=   0.2s\n",
      "[CV] max_iter=40, n_clusters=4, n_init=8, n_jobs=-1, tol=8e-05 .......\n",
      "[CV]  max_iter=40, n_clusters=4, n_init=8, n_jobs=-1, tol=8e-05, score=-31.335548985238795, total=   0.3s\n",
      "[CV] max_iter=40, n_clusters=4, n_init=8, n_jobs=-1, tol=8e-05 .......\n",
      "[CV]  max_iter=40, n_clusters=4, n_init=8, n_jobs=-1, tol=8e-05, score=-29.488997041678324, total=   0.2s\n",
      "[CV] max_iter=40, n_clusters=4, n_init=8, n_jobs=-1, tol=0.0001 ......\n",
      "[CV]  max_iter=40, n_clusters=4, n_init=8, n_jobs=-1, tol=0.0001, score=-39.89389062655987, total=   0.2s\n",
      "[CV] max_iter=40, n_clusters=4, n_init=8, n_jobs=-1, tol=0.0001 ......\n",
      "[CV]  max_iter=40, n_clusters=4, n_init=8, n_jobs=-1, tol=0.0001, score=-31.175062310388103, total=   0.3s\n",
      "[CV] max_iter=40, n_clusters=4, n_init=8, n_jobs=-1, tol=0.0001 ......\n",
      "[CV]  max_iter=40, n_clusters=4, n_init=8, n_jobs=-1, tol=0.0001, score=-29.328739928121188, total=   0.2s\n",
      "[CV] max_iter=40, n_clusters=4, n_init=9, n_jobs=-1, tol=5e-05 .......\n",
      "[CV]  max_iter=40, n_clusters=4, n_init=9, n_jobs=-1, tol=5e-05, score=-40.28869100952402, total=   0.2s\n",
      "[CV] max_iter=40, n_clusters=4, n_init=9, n_jobs=-1, tol=5e-05 .......\n",
      "[CV]  max_iter=40, n_clusters=4, n_init=9, n_jobs=-1, tol=5e-05, score=-31.449685966930012, total=   0.2s\n",
      "[CV] max_iter=40, n_clusters=4, n_init=9, n_jobs=-1, tol=5e-05 .......\n",
      "[CV]  max_iter=40, n_clusters=4, n_init=9, n_jobs=-1, tol=5e-05, score=-29.293919893580757, total=   0.2s\n",
      "[CV] max_iter=40, n_clusters=4, n_init=9, n_jobs=-1, tol=8e-05 .......\n",
      "[CV]  max_iter=40, n_clusters=4, n_init=9, n_jobs=-1, tol=8e-05, score=-40.20346627268834, total=   0.2s\n",
      "[CV] max_iter=40, n_clusters=4, n_init=9, n_jobs=-1, tol=8e-05 .......\n",
      "[CV]  max_iter=40, n_clusters=4, n_init=9, n_jobs=-1, tol=8e-05, score=-31.59807899019396, total=   0.3s\n",
      "[CV] max_iter=40, n_clusters=4, n_init=9, n_jobs=-1, tol=8e-05 .......\n",
      "[CV]  max_iter=40, n_clusters=4, n_init=9, n_jobs=-1, tol=8e-05, score=-29.32477022339531, total=   0.2s\n",
      "[CV] max_iter=40, n_clusters=4, n_init=9, n_jobs=-1, tol=0.0001 ......\n",
      "[CV]  max_iter=40, n_clusters=4, n_init=9, n_jobs=-1, tol=0.0001, score=-40.266624491932085, total=   0.2s\n",
      "[CV] max_iter=40, n_clusters=4, n_init=9, n_jobs=-1, tol=0.0001 ......\n",
      "[CV]  max_iter=40, n_clusters=4, n_init=9, n_jobs=-1, tol=0.0001, score=-31.541732482434323, total=   0.2s\n",
      "[CV] max_iter=40, n_clusters=4, n_init=9, n_jobs=-1, tol=0.0001 ......\n",
      "[CV]  max_iter=40, n_clusters=4, n_init=9, n_jobs=-1, tol=0.0001, score=-29.38175418667523, total=   0.2s\n",
      "[CV] max_iter=45, n_clusters=4, n_init=1, n_jobs=-1, tol=5e-05 .......\n",
      "[CV]  max_iter=45, n_clusters=4, n_init=1, n_jobs=-1, tol=5e-05, score=-39.89648648407463, total=   0.0s\n",
      "[CV] max_iter=45, n_clusters=4, n_init=1, n_jobs=-1, tol=5e-05 .......\n",
      "[CV]  max_iter=45, n_clusters=4, n_init=1, n_jobs=-1, tol=5e-05, score=-31.205514038528765, total=   0.1s\n",
      "[CV] max_iter=45, n_clusters=4, n_init=1, n_jobs=-1, tol=5e-05 .......\n",
      "[CV]  max_iter=45, n_clusters=4, n_init=1, n_jobs=-1, tol=5e-05, score=-29.328739928121188, total=   0.1s\n",
      "[CV] max_iter=45, n_clusters=4, n_init=1, n_jobs=-1, tol=8e-05 .......\n",
      "[CV]  max_iter=45, n_clusters=4, n_init=1, n_jobs=-1, tol=8e-05, score=-39.810872455132085, total=   0.1s\n",
      "[CV] max_iter=45, n_clusters=4, n_init=1, n_jobs=-1, tol=8e-05 .......\n",
      "[CV]  max_iter=45, n_clusters=4, n_init=1, n_jobs=-1, tol=8e-05, score=-32.07101825602791, total=   0.1s\n",
      "[CV] max_iter=45, n_clusters=4, n_init=1, n_jobs=-1, tol=8e-05 .......\n",
      "[CV]  max_iter=45, n_clusters=4, n_init=1, n_jobs=-1, tol=8e-05, score=-29.36192088724698, total=   0.1s\n",
      "[CV] max_iter=45, n_clusters=4, n_init=1, n_jobs=-1, tol=0.0001 ......\n",
      "[CV]  max_iter=45, n_clusters=4, n_init=1, n_jobs=-1, tol=0.0001, score=-39.834267325140125, total=   0.1s\n",
      "[CV] max_iter=45, n_clusters=4, n_init=1, n_jobs=-1, tol=0.0001 ......\n",
      "[CV]  max_iter=45, n_clusters=4, n_init=1, n_jobs=-1, tol=0.0001, score=-31.705171769719698, total=   0.1s\n",
      "[CV] max_iter=45, n_clusters=4, n_init=1, n_jobs=-1, tol=0.0001 ......\n",
      "[CV]  max_iter=45, n_clusters=4, n_init=1, n_jobs=-1, tol=0.0001, score=-29.45705326297307, total=   0.1s\n",
      "[CV] max_iter=45, n_clusters=4, n_init=2, n_jobs=-1, tol=5e-05 .......\n",
      "[CV]  max_iter=45, n_clusters=4, n_init=2, n_jobs=-1, tol=5e-05, score=-40.39522825751374, total=   0.0s\n",
      "[CV] max_iter=45, n_clusters=4, n_init=2, n_jobs=-1, tol=5e-05 .......\n",
      "[CV]  max_iter=45, n_clusters=4, n_init=2, n_jobs=-1, tol=5e-05, score=-32.32730088314669, total=   0.1s\n",
      "[CV] max_iter=45, n_clusters=4, n_init=2, n_jobs=-1, tol=5e-05 .......\n",
      "[CV]  max_iter=45, n_clusters=4, n_init=2, n_jobs=-1, tol=5e-05, score=-29.359660628586234, total=   0.1s\n",
      "[CV] max_iter=45, n_clusters=4, n_init=2, n_jobs=-1, tol=8e-05 .......\n",
      "[CV]  max_iter=45, n_clusters=4, n_init=2, n_jobs=-1, tol=8e-05, score=-40.01139415617393, total=   0.1s\n",
      "[CV] max_iter=45, n_clusters=4, n_init=2, n_jobs=-1, tol=8e-05 .......\n",
      "[CV]  max_iter=45, n_clusters=4, n_init=2, n_jobs=-1, tol=8e-05, score=-31.94060993208447, total=   0.1s\n",
      "[CV] max_iter=45, n_clusters=4, n_init=2, n_jobs=-1, tol=8e-05 .......\n",
      "[CV]  max_iter=45, n_clusters=4, n_init=2, n_jobs=-1, tol=8e-05, score=-29.36269716128487, total=   0.1s\n",
      "[CV] max_iter=45, n_clusters=4, n_init=2, n_jobs=-1, tol=0.0001 ......\n",
      "[CV]  max_iter=45, n_clusters=4, n_init=2, n_jobs=-1, tol=0.0001, score=-40.051281378369055, total=   0.0s\n",
      "[CV] max_iter=45, n_clusters=4, n_init=2, n_jobs=-1, tol=0.0001 ......\n",
      "[CV]  max_iter=45, n_clusters=4, n_init=2, n_jobs=-1, tol=0.0001, score=-32.292828338996244, total=   0.1s\n",
      "[CV] max_iter=45, n_clusters=4, n_init=2, n_jobs=-1, tol=0.0001 ......\n",
      "[CV]  max_iter=45, n_clusters=4, n_init=2, n_jobs=-1, tol=0.0001, score=-29.36192088724698, total=   0.1s\n",
      "[CV] max_iter=45, n_clusters=4, n_init=3, n_jobs=-1, tol=5e-05 .......\n",
      "[CV]  max_iter=45, n_clusters=4, n_init=3, n_jobs=-1, tol=5e-05, score=-39.677408363145595, total=   0.1s\n",
      "[CV] max_iter=45, n_clusters=4, n_init=3, n_jobs=-1, tol=5e-05 .......\n",
      "[CV]  max_iter=45, n_clusters=4, n_init=3, n_jobs=-1, tol=5e-05, score=-31.83732981250808, total=   0.1s\n",
      "[CV] max_iter=45, n_clusters=4, n_init=3, n_jobs=-1, tol=5e-05 .......\n",
      "[CV]  max_iter=45, n_clusters=4, n_init=3, n_jobs=-1, tol=5e-05, score=-29.3189818497989, total=   0.1s\n",
      "[CV] max_iter=45, n_clusters=4, n_init=3, n_jobs=-1, tol=8e-05 .......\n",
      "[CV]  max_iter=45, n_clusters=4, n_init=3, n_jobs=-1, tol=8e-05, score=-39.923801582291986, total=   0.1s\n",
      "[CV] max_iter=45, n_clusters=4, n_init=3, n_jobs=-1, tol=8e-05 .......\n",
      "[CV]  max_iter=45, n_clusters=4, n_init=3, n_jobs=-1, tol=8e-05, score=-32.377637546108176, total=   0.1s\n",
      "[CV] max_iter=45, n_clusters=4, n_init=3, n_jobs=-1, tol=8e-05 .......\n",
      "[CV]  max_iter=45, n_clusters=4, n_init=3, n_jobs=-1, tol=8e-05, score=-29.3925335872489, total=   0.1s\n",
      "[CV] max_iter=45, n_clusters=4, n_init=3, n_jobs=-1, tol=0.0001 ......\n",
      "[CV]  max_iter=45, n_clusters=4, n_init=3, n_jobs=-1, tol=0.0001, score=-39.900912431457925, total=   0.1s\n",
      "[CV] max_iter=45, n_clusters=4, n_init=3, n_jobs=-1, tol=0.0001 ......\n"
     ]
    },
    {
     "name": "stdout",
     "output_type": "stream",
     "text": [
      "[CV]  max_iter=45, n_clusters=4, n_init=3, n_jobs=-1, tol=0.0001, score=-31.690229045519327, total=   0.1s\n",
      "[CV] max_iter=45, n_clusters=4, n_init=3, n_jobs=-1, tol=0.0001 ......\n",
      "[CV]  max_iter=45, n_clusters=4, n_init=3, n_jobs=-1, tol=0.0001, score=-29.38175418667523, total=   0.1s\n",
      "[CV] max_iter=45, n_clusters=4, n_init=4, n_jobs=-1, tol=5e-05 .......\n",
      "[CV]  max_iter=45, n_clusters=4, n_init=4, n_jobs=-1, tol=5e-05, score=-39.945757961089434, total=   0.1s\n",
      "[CV] max_iter=45, n_clusters=4, n_init=4, n_jobs=-1, tol=5e-05 .......\n",
      "[CV]  max_iter=45, n_clusters=4, n_init=4, n_jobs=-1, tol=5e-05, score=-31.928446677705512, total=   0.2s\n",
      "[CV] max_iter=45, n_clusters=4, n_init=4, n_jobs=-1, tol=5e-05 .......\n",
      "[CV]  max_iter=45, n_clusters=4, n_init=4, n_jobs=-1, tol=5e-05, score=-29.285817445335873, total=   0.1s\n",
      "[CV] max_iter=45, n_clusters=4, n_init=4, n_jobs=-1, tol=8e-05 .......\n",
      "[CV]  max_iter=45, n_clusters=4, n_init=4, n_jobs=-1, tol=8e-05, score=-39.692366028520496, total=   0.1s\n",
      "[CV] max_iter=45, n_clusters=4, n_init=4, n_jobs=-1, tol=8e-05 .......\n",
      "[CV]  max_iter=45, n_clusters=4, n_init=4, n_jobs=-1, tol=8e-05, score=-31.434120172811763, total=   0.2s\n",
      "[CV] max_iter=45, n_clusters=4, n_init=4, n_jobs=-1, tol=8e-05 .......\n",
      "[CV]  max_iter=45, n_clusters=4, n_init=4, n_jobs=-1, tol=8e-05, score=-29.394608717114906, total=   0.1s\n",
      "[CV] max_iter=45, n_clusters=4, n_init=4, n_jobs=-1, tol=0.0001 ......\n",
      "[CV]  max_iter=45, n_clusters=4, n_init=4, n_jobs=-1, tol=0.0001, score=-40.28612304553795, total=   0.1s\n",
      "[CV] max_iter=45, n_clusters=4, n_init=4, n_jobs=-1, tol=0.0001 ......\n",
      "[CV]  max_iter=45, n_clusters=4, n_init=4, n_jobs=-1, tol=0.0001, score=-31.888201875052477, total=   0.1s\n",
      "[CV] max_iter=45, n_clusters=4, n_init=4, n_jobs=-1, tol=0.0001 ......\n",
      "[CV]  max_iter=45, n_clusters=4, n_init=4, n_jobs=-1, tol=0.0001, score=-29.36192088724698, total=   0.1s\n",
      "[CV] max_iter=45, n_clusters=4, n_init=5, n_jobs=-1, tol=5e-05 .......\n",
      "[CV]  max_iter=45, n_clusters=4, n_init=5, n_jobs=-1, tol=5e-05, score=-40.16131878731621, total=   0.1s\n",
      "[CV] max_iter=45, n_clusters=4, n_init=5, n_jobs=-1, tol=5e-05 .......\n",
      "[CV]  max_iter=45, n_clusters=4, n_init=5, n_jobs=-1, tol=5e-05, score=-31.407494738299153, total=   0.1s\n",
      "[CV] max_iter=45, n_clusters=4, n_init=5, n_jobs=-1, tol=5e-05 .......\n",
      "[CV]  max_iter=45, n_clusters=4, n_init=5, n_jobs=-1, tol=5e-05, score=-29.338443915391927, total=   0.2s\n",
      "[CV] max_iter=45, n_clusters=4, n_init=5, n_jobs=-1, tol=8e-05 .......\n",
      "[CV]  max_iter=45, n_clusters=4, n_init=5, n_jobs=-1, tol=8e-05, score=-40.30709562261139, total=   0.2s\n",
      "[CV] max_iter=45, n_clusters=4, n_init=5, n_jobs=-1, tol=8e-05 .......\n",
      "[CV]  max_iter=45, n_clusters=4, n_init=5, n_jobs=-1, tol=8e-05, score=-31.310953994580423, total=   0.1s\n",
      "[CV] max_iter=45, n_clusters=4, n_init=5, n_jobs=-1, tol=8e-05 .......\n",
      "[CV]  max_iter=45, n_clusters=4, n_init=5, n_jobs=-1, tol=8e-05, score=-29.341685442147128, total=   0.1s\n",
      "[CV] max_iter=45, n_clusters=4, n_init=5, n_jobs=-1, tol=0.0001 ......\n",
      "[CV]  max_iter=45, n_clusters=4, n_init=5, n_jobs=-1, tol=0.0001, score=-40.29331128654885, total=   0.1s\n",
      "[CV] max_iter=45, n_clusters=4, n_init=5, n_jobs=-1, tol=0.0001 ......\n",
      "[CV]  max_iter=45, n_clusters=4, n_init=5, n_jobs=-1, tol=0.0001, score=-31.96864687986196, total=   0.2s\n",
      "[CV] max_iter=45, n_clusters=4, n_init=5, n_jobs=-1, tol=0.0001 ......\n",
      "[CV]  max_iter=45, n_clusters=4, n_init=5, n_jobs=-1, tol=0.0001, score=-29.394906384279572, total=   0.2s\n",
      "[CV] max_iter=45, n_clusters=4, n_init=6, n_jobs=-1, tol=5e-05 .......\n",
      "[CV]  max_iter=45, n_clusters=4, n_init=6, n_jobs=-1, tol=5e-05, score=-40.12355513468288, total=   0.2s\n",
      "[CV] max_iter=45, n_clusters=4, n_init=6, n_jobs=-1, tol=5e-05 .......\n",
      "[CV]  max_iter=45, n_clusters=4, n_init=6, n_jobs=-1, tol=5e-05, score=-31.477421409707695, total=   0.1s\n",
      "[CV] max_iter=45, n_clusters=4, n_init=6, n_jobs=-1, tol=5e-05 .......\n",
      "[CV]  max_iter=45, n_clusters=4, n_init=6, n_jobs=-1, tol=5e-05, score=-29.394608717114906, total=   0.2s\n",
      "[CV] max_iter=45, n_clusters=4, n_init=6, n_jobs=-1, tol=8e-05 .......\n",
      "[CV]  max_iter=45, n_clusters=4, n_init=6, n_jobs=-1, tol=8e-05, score=-39.76070559898295, total=   0.1s\n",
      "[CV] max_iter=45, n_clusters=4, n_init=6, n_jobs=-1, tol=8e-05 .......\n",
      "[CV]  max_iter=45, n_clusters=4, n_init=6, n_jobs=-1, tol=8e-05, score=-31.535060751260247, total=   0.2s\n",
      "[CV] max_iter=45, n_clusters=4, n_init=6, n_jobs=-1, tol=8e-05 .......\n",
      "[CV]  max_iter=45, n_clusters=4, n_init=6, n_jobs=-1, tol=8e-05, score=-29.36269716128487, total=   0.1s\n",
      "[CV] max_iter=45, n_clusters=4, n_init=6, n_jobs=-1, tol=0.0001 ......\n",
      "[CV]  max_iter=45, n_clusters=4, n_init=6, n_jobs=-1, tol=0.0001, score=-39.694603209956156, total=   0.1s\n",
      "[CV] max_iter=45, n_clusters=4, n_init=6, n_jobs=-1, tol=0.0001 ......\n",
      "[CV]  max_iter=45, n_clusters=4, n_init=6, n_jobs=-1, tol=0.0001, score=-31.43106500647854, total=   0.1s\n",
      "[CV] max_iter=45, n_clusters=4, n_init=6, n_jobs=-1, tol=0.0001 ......\n",
      "[CV]  max_iter=45, n_clusters=4, n_init=6, n_jobs=-1, tol=0.0001, score=-29.38175418667523, total=   0.2s\n",
      "[CV] max_iter=45, n_clusters=4, n_init=7, n_jobs=-1, tol=5e-05 .......\n",
      "[CV]  max_iter=45, n_clusters=4, n_init=7, n_jobs=-1, tol=5e-05, score=-40.184535081054676, total=   0.2s\n",
      "[CV] max_iter=45, n_clusters=4, n_init=7, n_jobs=-1, tol=5e-05 .......\n",
      "[CV]  max_iter=45, n_clusters=4, n_init=7, n_jobs=-1, tol=5e-05, score=-31.43106500647854, total=   0.2s\n",
      "[CV] max_iter=45, n_clusters=4, n_init=7, n_jobs=-1, tol=5e-05 .......\n",
      "[CV]  max_iter=45, n_clusters=4, n_init=7, n_jobs=-1, tol=5e-05, score=-29.705660016898012, total=   0.2s\n",
      "[CV] max_iter=45, n_clusters=4, n_init=7, n_jobs=-1, tol=8e-05 .......\n",
      "[CV]  max_iter=45, n_clusters=4, n_init=7, n_jobs=-1, tol=8e-05, score=-39.635545695950206, total=   0.1s\n",
      "[CV] max_iter=45, n_clusters=4, n_init=7, n_jobs=-1, tol=8e-05 .......\n",
      "[CV]  max_iter=45, n_clusters=4, n_init=7, n_jobs=-1, tol=8e-05, score=-31.247251545079845, total=   0.1s\n",
      "[CV] max_iter=45, n_clusters=4, n_init=7, n_jobs=-1, tol=8e-05 .......\n",
      "[CV]  max_iter=45, n_clusters=4, n_init=7, n_jobs=-1, tol=8e-05, score=-29.338443915391927, total=   0.2s\n",
      "[CV] max_iter=45, n_clusters=4, n_init=7, n_jobs=-1, tol=0.0001 ......\n",
      "[CV]  max_iter=45, n_clusters=4, n_init=7, n_jobs=-1, tol=0.0001, score=-40.19733484480598, total=   0.2s\n",
      "[CV] max_iter=45, n_clusters=4, n_init=7, n_jobs=-1, tol=0.0001 ......\n",
      "[CV]  max_iter=45, n_clusters=4, n_init=7, n_jobs=-1, tol=0.0001, score=-32.10392066784987, total=   0.2s\n",
      "[CV] max_iter=45, n_clusters=4, n_init=7, n_jobs=-1, tol=0.0001 ......\n",
      "[CV]  max_iter=45, n_clusters=4, n_init=7, n_jobs=-1, tol=0.0001, score=-29.3114832713503, total=   0.3s\n",
      "[CV] max_iter=45, n_clusters=4, n_init=8, n_jobs=-1, tol=5e-05 .......\n",
      "[CV]  max_iter=45, n_clusters=4, n_init=8, n_jobs=-1, tol=5e-05, score=-40.29184215196927, total=   0.2s\n",
      "[CV] max_iter=45, n_clusters=4, n_init=8, n_jobs=-1, tol=5e-05 .......\n",
      "[CV]  max_iter=45, n_clusters=4, n_init=8, n_jobs=-1, tol=5e-05, score=-31.312914030642446, total=   0.2s\n",
      "[CV] max_iter=45, n_clusters=4, n_init=8, n_jobs=-1, tol=5e-05 .......\n",
      "[CV]  max_iter=45, n_clusters=4, n_init=8, n_jobs=-1, tol=5e-05, score=-29.32477022339531, total=   0.2s\n",
      "[CV] max_iter=45, n_clusters=4, n_init=8, n_jobs=-1, tol=8e-05 .......\n",
      "[CV]  max_iter=45, n_clusters=4, n_init=8, n_jobs=-1, tol=8e-05, score=-40.204920115804434, total=   0.2s\n",
      "[CV] max_iter=45, n_clusters=4, n_init=8, n_jobs=-1, tol=8e-05 .......\n",
      "[CV]  max_iter=45, n_clusters=4, n_init=8, n_jobs=-1, tol=8e-05, score=-31.295880207528644, total=   0.2s\n",
      "[CV] max_iter=45, n_clusters=4, n_init=8, n_jobs=-1, tol=8e-05 .......\n",
      "[CV]  max_iter=45, n_clusters=4, n_init=8, n_jobs=-1, tol=8e-05, score=-29.36269716128487, total=   0.2s\n",
      "[CV] max_iter=45, n_clusters=4, n_init=8, n_jobs=-1, tol=0.0001 ......\n",
      "[CV]  max_iter=45, n_clusters=4, n_init=8, n_jobs=-1, tol=0.0001, score=-40.32856822373762, total=   0.2s\n",
      "[CV] max_iter=45, n_clusters=4, n_init=8, n_jobs=-1, tol=0.0001 ......\n",
      "[CV]  max_iter=45, n_clusters=4, n_init=8, n_jobs=-1, tol=0.0001, score=-31.48468517594864, total=   0.2s\n",
      "[CV] max_iter=45, n_clusters=4, n_init=8, n_jobs=-1, tol=0.0001 ......\n",
      "[CV]  max_iter=45, n_clusters=4, n_init=8, n_jobs=-1, tol=0.0001, score=-29.26716453193888, total=   0.2s\n",
      "[CV] max_iter=45, n_clusters=4, n_init=9, n_jobs=-1, tol=5e-05 .......\n"
     ]
    },
    {
     "name": "stdout",
     "output_type": "stream",
     "text": [
      "[CV]  max_iter=45, n_clusters=4, n_init=9, n_jobs=-1, tol=5e-05, score=-39.83862354648554, total=   0.2s\n",
      "[CV] max_iter=45, n_clusters=4, n_init=9, n_jobs=-1, tol=5e-05 .......\n",
      "[CV]  max_iter=45, n_clusters=4, n_init=9, n_jobs=-1, tol=5e-05, score=-32.32420375099972, total=   0.2s\n",
      "[CV] max_iter=45, n_clusters=4, n_init=9, n_jobs=-1, tol=5e-05 .......\n",
      "[CV]  max_iter=45, n_clusters=4, n_init=9, n_jobs=-1, tol=5e-05, score=-29.335062090710434, total=   0.2s\n",
      "[CV] max_iter=45, n_clusters=4, n_init=9, n_jobs=-1, tol=8e-05 .......\n",
      "[CV]  max_iter=45, n_clusters=4, n_init=9, n_jobs=-1, tol=8e-05, score=-40.37254037995331, total=   0.1s\n",
      "[CV] max_iter=45, n_clusters=4, n_init=9, n_jobs=-1, tol=8e-05 .......\n",
      "[CV]  max_iter=45, n_clusters=4, n_init=9, n_jobs=-1, tol=8e-05, score=-31.493802714957, total=   0.2s\n",
      "[CV] max_iter=45, n_clusters=4, n_init=9, n_jobs=-1, tol=8e-05 .......\n",
      "[CV]  max_iter=45, n_clusters=4, n_init=9, n_jobs=-1, tol=8e-05, score=-29.38175418667523, total=   0.2s\n",
      "[CV] max_iter=45, n_clusters=4, n_init=9, n_jobs=-1, tol=0.0001 ......\n",
      "[CV]  max_iter=45, n_clusters=4, n_init=9, n_jobs=-1, tol=0.0001, score=-40.184535081054676, total=   0.2s\n",
      "[CV] max_iter=45, n_clusters=4, n_init=9, n_jobs=-1, tol=0.0001 ......\n",
      "[CV]  max_iter=45, n_clusters=4, n_init=9, n_jobs=-1, tol=0.0001, score=-31.37734086275474, total=   0.2s\n",
      "[CV] max_iter=45, n_clusters=4, n_init=9, n_jobs=-1, tol=0.0001 ......\n",
      "[CV]  max_iter=45, n_clusters=4, n_init=9, n_jobs=-1, tol=0.0001, score=-29.305433308520296, total=   0.2s\n",
      "[Parallel(n_jobs=1)]: Done 729 out of 729 | elapsed:  1.7min finished\n"
     ]
    },
    {
     "name": "stderr",
     "output_type": "stream",
     "text": [
      "/home/dmitriy/.local/lib/python3.6/site-packages/sklearn/model_selection/_search.py:841: DeprecationWarning: The default of the `iid` parameter will change from True to False in version 0.22 and will be removed in 0.24. This will change numeric results when test-set sizes are unequal.\n",
      "  DeprecationWarning)\n"
     ]
    },
    {
     "data": {
      "text/plain": [
       "GridSearchCV(cv='warn', error_score='raise-deprecating',\n",
       "       estimator=KMeans(algorithm='auto', copy_x=True, init='k-means++', max_iter=300,\n",
       "    n_clusters=8, n_init=10, n_jobs=None, precompute_distances='auto',\n",
       "    random_state=None, tol=0.0001, verbose=0),\n",
       "       fit_params=None, iid='warn', n_jobs=None,\n",
       "       param_grid={'n_clusters': [4], 'max_iter': range(5, 50, 5), 'n_init': range(1, 10), 'tol': [5e-05, 8e-05, 0.0001], 'n_jobs': [-1]},\n",
       "       pre_dispatch='2*n_jobs', refit=True, return_train_score='warn',\n",
       "       scoring=None, verbose=100)"
      ]
     },
     "execution_count": 74,
     "metadata": {},
     "output_type": "execute_result"
    }
   ],
   "source": [
    "svr = KMeans()\n",
    "clf = GridSearchCV(svr, parameters, verbose=100)\n",
    "clf.fit(X)"
   ]
  },
  {
   "cell_type": "markdown",
   "metadata": {},
   "source": [
    "View optimal parameters can be so"
   ]
  },
  {
   "cell_type": "code",
   "execution_count": 75,
   "metadata": {},
   "outputs": [
    {
     "data": {
      "text/plain": [
       "{'max_iter': 40, 'n_clusters': 4, 'n_init': 4, 'n_jobs': -1, 'tol': 8e-05}"
      ]
     },
     "execution_count": 75,
     "metadata": {},
     "output_type": "execute_result"
    }
   ],
   "source": [
    "clf.best_params_"
   ]
  },
  {
   "cell_type": "markdown",
   "metadata": {},
   "source": [
    "More about grid search see in documentstions <a href=\"http://scikit-learn.org/stable/modules/classes.html#module-sklearn.grid_search\">Grid search</a>"
   ]
  },
  {
   "cell_type": "markdown",
   "metadata": {},
   "source": [
    "Using joblib we can save and load our model"
   ]
  },
  {
   "cell_type": "code",
   "execution_count": 76,
   "metadata": {},
   "outputs": [],
   "source": [
    "from sklearn.externals import joblib\n",
    "\n",
    "\n",
    "joblib.dump(km,  'doc_cluster.pkl')\n",
    "\n",
    "km = joblib.load('doc_cluster.pkl')"
   ]
  },
  {
   "cell_type": "markdown",
   "metadata": {},
   "source": [
    "Here is some fancy indexing and sorting on each cluster to identify which are the top n words that are nearest to the cluster centroid. This gives a good sense of the main topic of the cluster."
   ]
  },
  {
   "cell_type": "code",
   "execution_count": 77,
   "metadata": {},
   "outputs": [
    {
     "name": "stdout",
     "output_type": "stream",
     "text": [
      "\n",
      "Top terms per cluster:\n",
      "\n",
      "Cluster 0:\n",
      " af\n",
      " pressur\n",
      " reaction\n",
      " experi\n",
      " energi\n",
      "\n",
      "Cluster 1:\n",
      " social\n",
      " popul\n",
      " type\n",
      " system\n",
      " differ\n",
      "\n",
      "Cluster 2:\n",
      " state\n",
      " year\n",
      " nation\n",
      " new\n",
      " presid\n",
      "\n",
      "Cluster 3:\n",
      " go\n",
      " get\n",
      " man\n",
      " come\n",
      " like\n"
     ]
    }
   ],
   "source": [
    "print(\"\\nTop terms per cluster:\")\n",
    "order_centroids = km.cluster_centers_.argsort()[:, ::-1]\n",
    "\n",
    "terms = vectorizer.get_feature_names()\n",
    "for i in range(num_clusters):\n",
    "    print(\"\\nCluster %d:\" % i)\n",
    "    for ind in order_centroids[i, :5]:\n",
    "        print(' %s' % terms[ind])"
   ]
  },
  {
   "cell_type": "markdown",
   "metadata": {},
   "source": [
    "#### Visualizing document clusters\n",
    "\n",
    "First calculate distance between documents"
   ]
  },
  {
   "cell_type": "code",
   "execution_count": 78,
   "metadata": {},
   "outputs": [],
   "source": [
    "from sklearn.metrics.pairwise import cosine_similarity\n",
    "dist = 1 - cosine_similarity(X)"
   ]
  },
  {
   "cell_type": "markdown",
   "metadata": {},
   "source": [
    "Then define some dictionaries for going from cluster number to color and to cluster name. I based the cluster names off the words that were closest to each cluster centroid."
   ]
  },
  {
   "cell_type": "code",
   "execution_count": 79,
   "metadata": {},
   "outputs": [],
   "source": [
    "cluster_colors = {0: '#1b9e77', 1: '#d95f02', 2: '#7570b3', 3: '#e7298a'}\n",
    "\n",
    "cluster_names = {}\n",
    "\n",
    "for i in range(num_clusters):\n",
    "    cluster_names[i] = []\n",
    "    for ind in order_centroids[i, :5]:\n",
    "        cluster_names[i].append(str(terms[ind]))\n",
    "    cluster_names[i] = ', '.join(cluster_names[i])\n",
    "    \n",
    "clusters = km.labels_.tolist()"
   ]
  },
  {
   "cell_type": "markdown",
   "metadata": {},
   "source": [
    "<p>Here is some code to convert the dist matrix into a 2-dimensional array using <a href=\"http://en.wikipedia.org/wiki/Multidimensional_scaling\">multidimensional scaling</a>. I won't pretend I know a ton about MDS, but it was useful for this purpose. Another option would be to use <a href=\"http://en.wikipedia.org/wiki/Principal_component_analysis\">principal component analysis</a>.</p>"
   ]
  },
  {
   "cell_type": "code",
   "execution_count": 80,
   "metadata": {},
   "outputs": [],
   "source": [
    "from sklearn.manifold import MDS\n",
    "\n",
    "# convert two components as we're plotting points in a two-dimensional plane\n",
    "# \"precomputed\" because we provide a distance matrix\n",
    "# we will also specify `random_state` so the plot is reproducible.\n",
    "mds = MDS(n_components=2, dissimilarity=\"precomputed\", random_state=1)\n",
    "\n",
    "pos = mds.fit_transform(dist)  # shape (n_components, n_samples)\n",
    "\n",
    "xs, ys = pos[:, 0], pos[:, 1]"
   ]
  },
  {
   "cell_type": "markdown",
   "metadata": {},
   "source": [
    "Load labels from file `labels.csv`"
   ]
  },
  {
   "cell_type": "code",
   "execution_count": 86,
   "metadata": {},
   "outputs": [
    {
     "data": {
      "text/html": [
       "<div>\n",
       "<style scoped>\n",
       "    .dataframe tbody tr th:only-of-type {\n",
       "        vertical-align: middle;\n",
       "    }\n",
       "\n",
       "    .dataframe tbody tr th {\n",
       "        vertical-align: top;\n",
       "    }\n",
       "\n",
       "    .dataframe thead th {\n",
       "        text-align: right;\n",
       "    }\n",
       "</style>\n",
       "<table border=\"1\" class=\"dataframe\">\n",
       "  <thead>\n",
       "    <tr style=\"text-align: right;\">\n",
       "      <th></th>\n",
       "      <th>id</th>\n",
       "      <th>name</th>\n",
       "      <th>category</th>\n",
       "    </tr>\n",
       "  </thead>\n",
       "  <tbody>\n",
       "    <tr>\n",
       "      <th>0</th>\n",
       "      <td>A01</td>\n",
       "      <td>Atlanta Constitution</td>\n",
       "      <td>Political Reportage</td>\n",
       "    </tr>\n",
       "    <tr>\n",
       "      <th>1</th>\n",
       "      <td>A02</td>\n",
       "      <td>Dallas Morning News</td>\n",
       "      <td>Political Reportage</td>\n",
       "    </tr>\n",
       "    <tr>\n",
       "      <th>2</th>\n",
       "      <td>A03</td>\n",
       "      <td>Chicago Tribune</td>\n",
       "      <td>Political Reportage</td>\n",
       "    </tr>\n",
       "    <tr>\n",
       "      <th>3</th>\n",
       "      <td>A04</td>\n",
       "      <td>Christian Science Monitor</td>\n",
       "      <td>Political Reportage</td>\n",
       "    </tr>\n",
       "    <tr>\n",
       "      <th>4</th>\n",
       "      <td>A05</td>\n",
       "      <td>Providence Journal</td>\n",
       "      <td>Political Reportage</td>\n",
       "    </tr>\n",
       "  </tbody>\n",
       "</table>\n",
       "</div>"
      ],
      "text/plain": [
       "    id                       name             category\n",
       "0  A01       Atlanta Constitution  Political Reportage\n",
       "1  A02        Dallas Morning News  Political Reportage\n",
       "2  A03            Chicago Tribune  Political Reportage\n",
       "3  A04  Christian Science Monitor  Political Reportage\n",
       "4  A05         Providence Journal  Political Reportage"
      ]
     },
     "execution_count": 86,
     "metadata": {},
     "output_type": "execute_result"
    }
   ],
   "source": [
    "import pandas as pd\n",
    "labels_df = pd.read_csv('labels.csv',sep=';', encoding='cp1252')\n",
    "cod = labels_df['id']\n",
    "labels = labels_df['name']\n",
    "labels = zip(cod,labels)\n",
    "\n",
    "labels = {a[0].lower(): a[1] for a in labels}\n",
    "labels_df.head()"
   ]
  },
  {
   "cell_type": "code",
   "execution_count": 96,
   "metadata": {},
   "outputs": [
    {
     "data": {
      "text/plain": [
       "['Cornell H. Mayer',\n",
       " 'R. C. Binder et al.',\n",
       " 'Harry H. Hull',\n",
       " 'James A. Ibers et al.',\n",
       " 'John R. Van Wazer, ed.']"
      ]
     },
     "execution_count": 96,
     "metadata": {},
     "output_type": "execute_result"
    }
   ],
   "source": [
    "titles = []\n",
    "for i in text_fileids_by_categories.keys():\n",
    "    titles += [labels.get(l[1:]) for l in text_fileids_by_categories[i]]\n",
    "titles[:5]"
   ]
  },
  {
   "cell_type": "markdown",
   "metadata": {},
   "source": [
    "Group our coordinates using <a href=\"http://pandas.pydata.org/pandas-docs/stable/index.html\"> pandas  </a>"
   ]
  },
  {
   "cell_type": "code",
   "execution_count": 97,
   "metadata": {},
   "outputs": [],
   "source": [
    "import pandas as pd\n",
    "df = pd.DataFrame(dict(x=xs, y=ys, label=clusters, title=titles))\n",
    "\n",
    "#group by cluster\n",
    "groups = df.groupby('label')"
   ]
  },
  {
   "cell_type": "markdown",
   "metadata": {},
   "source": [
    "Next, plot the labeled observations colored by cluster using <a href=\"http://matplotlib.org/\">matplotlib</a>."
   ]
  },
  {
   "cell_type": "code",
   "execution_count": 98,
   "metadata": {},
   "outputs": [
    {
     "name": "stderr",
     "output_type": "stream",
     "text": [
      "/home/dmitriy/.local/lib/python3.6/site-packages/matplotlib/cbook/__init__.py:424: MatplotlibDeprecationWarning: \n",
      "Passing one of 'on', 'true', 'off', 'false' as a boolean is deprecated; use an actual boolean (True/False) instead.\n",
      "  warn_deprecated(\"2.2\", \"Passing one of 'on', 'true', 'off', 'false' as a \"\n",
      "/home/dmitriy/.local/lib/python3.6/site-packages/ipykernel_launcher.py:33: DeprecationWarning: \n",
      ".ix is deprecated. Please use\n",
      ".loc for label based indexing or\n",
      ".iloc for positional indexing\n",
      "\n",
      "See the documentation here:\n",
      "http://pandas.pydata.org/pandas-docs/stable/indexing.html#ix-indexer-is-deprecated\n"
     ]
    },
    {
     "data": {
      "image/png": "[encoded data removed]",
      "text/plain": [
       "<Figure size 1224x648 with 1 Axes>"
      ]
     },
     "metadata": {},
     "output_type": "display_data"
    }
   ],
   "source": [
    "import matplotlib.pyplot as plt \n",
    "#display graphs in ipython notebook\n",
    "%matplotlib inline \n",
    "# set up plot\n",
    "fig, ax = plt.subplots(figsize=(17, 9)) # set size\n",
    "ax.margins(0.05) # Optional, just adds 5% padding to the autoscaling\n",
    "\n",
    "\n",
    "#iterate through groups to layer the plot\n",
    "#note that I use the cluster_name and cluster_color dicts with the 'name' lookup to return the appropriate color/label\n",
    "for name, group in groups:\n",
    "    ax.plot(group.x, group.y, marker='o', linestyle='', ms=12, \n",
    "            label=cluster_names[name], color=cluster_colors[name], \n",
    "            mec='none')\n",
    "    ax.set_aspect('auto')\n",
    "    ax.tick_params(\\\n",
    "        axis= 'x',          # changes apply to the x-axis\n",
    "        which='both',      # both major and minor ticks are affected\n",
    "        bottom='off',      # ticks along the bottom edge are off\n",
    "        top='off',         # ticks along the top edge are off\n",
    "        labelbottom='off')\n",
    "    ax.tick_params(\\\n",
    "        axis= 'y',         # changes apply to the y-axis\n",
    "        which='both',      # both major and minor ticks are affected\n",
    "        left='off',      # ticks along the bottom edge are off\n",
    "        top='off',         # ticks along the top edge are off\n",
    "        labelleft='off')\n",
    "    \n",
    "ax.legend(numpoints=1)  #show legend with only 1 point\n",
    "\n",
    "#add label in x,y position with the label as the film title\n",
    "for i in range(len(df)):\n",
    "    ax.text(df.ix[i]['x']+0.01, df.ix[i]['y']+0.02, df.ix[i]['title'], size=8)  \n",
    "    \n",
    "plt.show() #show the plot\n",
    "\n",
    "#uncomment the below to save the plot if need be\n",
    "#plt.savefig('clusters_small_noaxes.png', dpi=200)"
   ]
  },
  {
   "cell_type": "markdown",
   "metadata": {},
   "source": [
    "#### Hierarchical document clustering\n",
    "Now that I was successfuly able to cluster and plot the documents using k-means, I wanted to try another clustering algorithm. I chose the Ward clustering algorithm because it offers hierarchical clustering. Ward clustering is an agglomerative clustering method, meaning that at each stage, the pair of clusters with minimum between-cluster distance are merged. I used the precomputed cosine distance matrix (dist) to calclate a linkage_matrix, which I then plot as a dendrogram.\n",
    "\n",
    "Note that this method returned 3 primary clusters, with the largest cluster being split into about 4 major subclusters. Note that the cluster in red contains many of the \"Killed, soldiers, captain\" films. Braveheart and Gladiator are within the same low-level cluster which is interesting as these are probably my two favorite movies. "
   ]
  },
  {
   "cell_type": "code",
   "execution_count": 99,
   "metadata": {
    "scrolled": false
   },
   "outputs": [
    {
     "data": {
      "image/png": "[encoded data removed]",
      "text/plain": [
       "<Figure size 1080x1800 with 1 Axes>"
      ]
     },
     "metadata": {
      "needs_background": "light"
     },
     "output_type": "display_data"
    }
   ],
   "source": [
    "from scipy.cluster.hierarchy import ward, dendrogram\n",
    "\n",
    "linkage_matrix = ward(dist) #define the linkage_matrix using ward clustering pre-computed distances\n",
    "\n",
    "fig, ax = plt.subplots(figsize=(15, 25)) # set size\n",
    "ax = dendrogram(linkage_matrix, orientation=\"right\", labels=titles, leaf_font_size=12.);\n",
    "\n",
    "plt.tick_params(\\\n",
    "    axis= 'x',          # changes apply to the x-axis\n",
    "    which='both',      # both major and minor ticks are affected\n",
    "    bottom='off',      # ticks along the bottom edge are off\n",
    "    top='off',         # ticks along the top edge are off\n",
    "    labelbottom='off')\n",
    "\n",
    "plt.tight_layout() #show plot with tight layout\n"
   ]
  },
  {
   "cell_type": "markdown",
   "metadata": {},
   "source": [
    "> ### Exercise  3\n",
    ">Load all texts from category `science_fiction` cleaning and clustering it to two clusters. Save 10 top words per cluster to variable `clusters_result` as lists.   \n",
    ">And sort each cluster alphabetically."
   ]
  },
  {
   "cell_type": "code",
   "execution_count": 144,
   "metadata": {},
   "outputs": [
    {
     "name": "stdout",
     "output_type": "stream",
     "text": [
      "n_samples: 2, n_features: 9020\n",
      "\n",
      "Top terms per cluster:\n",
      "\n",
      "Cluster 0:\n",
      " hal\n",
      " macneff\n",
      " siddo\n",
      " gapt\n",
      " say hal\n",
      " year\n",
      " gabriel\n",
      " personnel\n",
      " mari\n",
      " though\n",
      "\n",
      "Cluster 1:\n",
      " mike\n",
      " jubal\n",
      " mar\n",
      " digbi\n",
      " grokk\n",
      " brother\n",
      " martian\n",
      " oh\n",
      " help\n",
      " bishop\n",
      "[['gabriel', 'gapt', 'hal', 'macneff', 'mari', 'personnel', 'say hal', 'siddo', 'though', 'year'], ['bishop', 'brother', 'digbi', 'grokk', 'help', 'jubal', 'mar', 'martian', 'mike', 'oh']]\n"
     ]
    }
   ],
   "source": [
    "text_categories2 = ['science_fiction']\n",
    "data_text = []\n",
    "for i in text_categories2:\n",
    "    data_text += [ ' '.join(w) for w in text_by_categories2[i]]\n",
    "labels = []\n",
    "for i in range(len(text_categories2)):\n",
    "    for j in (range(i)):\n",
    "        labels.append(i)\n",
    "vectorizer = TfidfVectorizer(max_df=0.8, min_df=0.1,use_idf=True, ngram_range=(1,5),tokenizer=tokenize)\n",
    "X = vectorizer.fit_transform(data_text)\n",
    "\n",
    "print(\"n_samples: %d, n_features: %d\" % X.shape)\n",
    "\n",
    "from sklearn.cluster import KMeans\n",
    "\n",
    "num_clusters = 2\n",
    "\n",
    "km = KMeans(n_clusters=num_clusters)\n",
    "y_pred = km.fit_predict(X)\n",
    "print(\"\\nTop terms per cluster:\")\n",
    "order_centroids = km.cluster_centers_.argsort()[:, ::-1]\n",
    "clusters_result = []\n",
    "terms = vectorizer.get_feature_names()\n",
    "for i in range(num_clusters):\n",
    "    print(\"\\nCluster %d:\" % i)\n",
    "    list0 = []\n",
    "    for ind in order_centroids[i, :10]:\n",
    "        print(' %s' % terms[ind])\n",
    "        list0.append(terms[ind])\n",
    "    list0 = sorted(list0, key=str.lower)\n",
    "    clusters_result.append(list0)\n",
    "    del list0\n",
    "\n",
    "clusters_result = clusters_result\n",
    "print(clusters_result)"
   ]
  },
  {
   "cell_type": "code",
   "execution_count": null,
   "metadata": {},
   "outputs": [],
   "source": [
    "Test.assertEqualsHashed(clusters_result, 'ef8eaf29882bcaba3a0266bb68813cd69de0f036', 'Incorrect data', \"Exercise 3 is successful\")"
   ]
  },
  {
   "cell_type": "markdown",
   "metadata": {
    "collapsed": true
   },
   "source": [
    "## 4. Distance between strings searching"
   ]
  },
  {
   "cell_type": "markdown",
   "metadata": {},
   "source": [
    "We have already encountered with the calculation of distances between strings, when visualize clusters text. Let's take a closer look at how we can calculate the distances between the rows."
   ]
  },
  {
   "cell_type": "markdown",
   "metadata": {},
   "source": [
    "### Methods for distance between strings measuring \n",
    "Now there are many methods for calculating for distance between strings measuring , one can distinguish among them:\n",
    "- Fuzzy string matching\n",
    "- Sequence alignment\n",
    "- Substrings containing"
   ]
  },
  {
   "cell_type": "markdown",
   "metadata": {},
   "source": [
    "#### Fuzzy string matching\n",
    "\n",
    "For this method, we need to allocate only meaningful words from a string, ie normalize:"
   ]
  },
  {
   "cell_type": "code",
   "execution_count": 109,
   "metadata": {},
   "outputs": [],
   "source": [
    "import string\n",
    "\n",
    "def normalize(s):\n",
    "    for p in string.punctuation:\n",
    "        s = s.replace(p, '')\n",
    "    return s.lower().strip()\n",
    "\n",
    "def fuzzy_match(s1, s2):\n",
    "    return normalize(s1) == normalize(s2)"
   ]
  },
  {
   "cell_type": "code",
   "execution_count": 110,
   "metadata": {},
   "outputs": [
    {
     "name": "stdout",
     "output_type": "stream",
     "text": [
      "True\n",
      "False\n",
      "True\n"
     ]
    }
   ],
   "source": [
    "print (fuzzy_match('Machine Learning' , 'machine learning '))\n",
    "print (fuzzy_match('Machine Learning' , 'machine learnings '))\n",
    "print (fuzzy_match('Data scIence teChniqueS' , 'Data ...science=== techniques'))"
   ]
  },
  {
   "cell_type": "markdown",
   "metadata": {},
   "source": [
    "#### Sequence alignment \n",
    "\n",
    "We have considered how to check whether the strings are the same, but often need to see how close they are to each other, this package will help <a href=\"https://docs.python.org/2/library/difflib.html\">`difflib`</a>."
   ]
  },
  {
   "cell_type": "code",
   "execution_count": 111,
   "metadata": {},
   "outputs": [],
   "source": [
    "from difflib import SequenceMatcher\n",
    "def similar(a, b):\n",
    "    return SequenceMatcher(None, a, b).ratio()"
   ]
  },
  {
   "cell_type": "code",
   "execution_count": 112,
   "metadata": {},
   "outputs": [
    {
     "name": "stdout",
     "output_type": "stream",
     "text": [
      "0.65\n",
      "1.0\n",
      "0.4827586206896552\n"
     ]
    }
   ],
   "source": [
    "print (similar('Linear regression', ' lineAR !!! Regression '))\n",
    "print (similar('Data science', 'Data science'))\n",
    "print (similar('Data science', 'Constant variance'))"
   ]
  },
  {
   "cell_type": "markdown",
   "metadata": {},
   "source": [
    "#### Substrings containing \n",
    "\n",
    "Another method of fuzzy string comparison to check if there are certain phrases - substring:"
   ]
  },
  {
   "cell_type": "code",
   "execution_count": 113,
   "metadata": {},
   "outputs": [],
   "source": [
    "def substr(a, b):\n",
    "    return a in b"
   ]
  },
  {
   "cell_type": "code",
   "execution_count": 114,
   "metadata": {},
   "outputs": [
    {
     "name": "stdout",
     "output_type": "stream",
     "text": [
      "False\n",
      "True\n"
     ]
    }
   ],
   "source": [
    "print (substr('Data science', 'Data mining'))\n",
    "print (substr('Linear', 'Linear regression'))"
   ]
  },
  {
   "cell_type": "markdown",
   "metadata": {},
   "source": [
    "### Similarity metrics for distance between strings measuring \n",
    "Especially possible tools for the analysis of texts have similarity metrics for distance between strings measuring. We single out the following most popular methods:\n",
    "- Euclidean distance;\n",
    "- Hamming distance;\n",
    "- Levenshtein distance;\n",
    "- Damerau-Levenshtein Distance\n",
    "- Cosine Similarity;\n",
    "- Minkowski distance;\n",
    "- Jaccard similarity."
   ]
  },
  {
   "cell_type": "markdown",
   "metadata": {},
   "source": [
    "Take two of the first text from adventure and two from news category and consider them all of the above methods."
   ]
  },
  {
   "cell_type": "code",
   "execution_count": 115,
   "metadata": {},
   "outputs": [],
   "source": [
    "texts = {}\n",
    "texts['Clifford Irving'] = ' '.join(text_by_categories['adventure'][1])\n",
    "texts['Cliff Farrell'] = ' '.join(text_by_categories['adventure'][2])\n",
    "texts['Atlanta Constitution'] = ' '.join(text_by_categories['news'][0])\n",
    "texts['Dallas Morning News'] = ' '.join(text_by_categories['news'][1])"
   ]
  },
  {
   "cell_type": "markdown",
   "metadata": {},
   "source": [
    "Prepare tf-idf matrix. It will be needed to calculate the distance, because not all algorithms work directly with the text."
   ]
  },
  {
   "cell_type": "code",
   "execution_count": 117,
   "metadata": {},
   "outputs": [
    {
     "name": "stdout",
     "output_type": "stream",
     "text": [
      "[[0.         0.         0.         ... 0.         0.         0.        ]\n",
      " [0.         0.         0.         ... 0.         0.         0.        ]\n",
      " [0.         0.         0.         ... 0.         0.         0.        ]\n",
      " [0.01115217 0.01115217 0.01115217 ... 0.01115217 0.01115217 0.01115217]]\n"
     ]
    }
   ],
   "source": [
    "tfidf_vectorizer = TfidfVectorizer(max_df=0.8, min_df=0.1,use_idf=True, ngram_range=(1,5),tokenizer=tokenize)\n",
    "tfidf_matrix = tfidf_vectorizer.fit_transform(texts.values()) #fit the vectorizer \n",
    "tfidf_matrix_array = tfidf_matrix.toarray()\n",
    "print (tfidf_matrix_array)"
   ]
  },
  {
   "cell_type": "markdown",
   "metadata": {},
   "source": [
    "#### Euclidean distance "
   ]
  },
  {
   "cell_type": "markdown",
   "metadata": {},
   "source": [
    "Euclidean distance  is the distance between two points in Euclidean space. With this distance, Euclidean space becomes a metric space. \n",
    "<img src=\"https://upload.wikimedia.org/math/8/4/9/849f040fd10bb86f7c85eb0bbe3566a4.png\">"
   ]
  },
  {
   "cell_type": "code",
   "execution_count": 119,
   "metadata": {},
   "outputs": [
    {
     "name": "stdout",
     "output_type": "stream",
     "text": [
      "[[0.         1.36851593 1.40220931 1.40389734]\n",
      " [1.36851593 0.         1.40474536 1.40470482]\n",
      " [1.40220931 1.40474536 0.         1.34209867]\n",
      " [1.40389734 1.40470482 1.34209867 0.        ]]\n"
     ]
    }
   ],
   "source": [
    "from sklearn.metrics.pairwise import euclidean_distances\n",
    "distances = euclidean_distances(tfidf_matrix)\n",
    "print (distances)"
   ]
  },
  {
   "cell_type": "code",
   "execution_count": 120,
   "metadata": {},
   "outputs": [],
   "source": [
    "import numpy as np\n",
    "def plot_distances(distances,labels):\n",
    "    distances = np.array(distances)\n",
    "    fig = plt.figure(figsize = (5,5))\n",
    "    ax = fig.add_subplot(111)\n",
    "    cax = ax.matshow(distances, cmap=plt.cm.Blues)\n",
    "\n",
    "    ax.set_xticks(np.arange(distances.shape[0])+0.5, minor=False)\n",
    "    ax.set_yticks(np.arange(distances.shape[1])+0.1, minor=False)\n",
    "\n",
    "    ax.set_xticklabels(labels, rotation=90, ha='right', minor=False, fontsize=12)\n",
    "    ax.set_yticklabels(labels, minor=False, fontsize=12)\n",
    "    plt.show()"
   ]
  },
  {
   "cell_type": "code",
   "execution_count": 121,
   "metadata": {},
   "outputs": [
    {
     "data": {
      "image/png": "[encoded data removed]",
      "text/plain": [
       "<Figure size 360x360 with 1 Axes>"
      ]
     },
     "metadata": {
      "needs_background": "light"
     },
     "output_type": "display_data"
    }
   ],
   "source": [
    "plot_distances(distances,texts.keys())"
   ]
  },
  {
   "cell_type": "markdown",
   "metadata": {},
   "source": [
    "#### Hamming distance "
   ]
  },
  {
   "cell_type": "markdown",
   "metadata": {},
   "source": [
    "Hamming distance between two strings of equal length is the number of positions at which the corresponding symbols are different. In another way, it measures the minimum number of substitutions required to change one string into the other, or the minimum number of errors that could have transformed one string into the other."
   ]
  },
  {
   "cell_type": "code",
   "execution_count": 122,
   "metadata": {},
   "outputs": [],
   "source": [
    "def hamdist(str1, str2):   \n",
    "    diffs = 0  \n",
    "    for ch1, ch2 in zip(str1, str2):  \n",
    "        if ch1 != ch2:  \n",
    "            diffs += 1  \n",
    "    return diffs  "
   ]
  },
  {
   "cell_type": "code",
   "execution_count": 123,
   "metadata": {},
   "outputs": [
    {
     "data": {
      "image/png": "[encoded data removed]",
      "text/plain": [
       "<Figure size 360x360 with 1 Axes>"
      ]
     },
     "metadata": {
      "needs_background": "light"
     },
     "output_type": "display_data"
    }
   ],
   "source": [
    "distances = []\n",
    "\n",
    "n = range(len(tfidf_matrix_array))\n",
    "\n",
    "for i in n:\n",
    "    t = []\n",
    "    for j in n:\n",
    "        t.append(hamdist(tfidf_matrix_array[i],tfidf_matrix_array[j]))\n",
    "    distances.append(t[:])\n",
    "    \n",
    "plot_distances(distances,texts.keys())"
   ]
  },
  {
   "cell_type": "markdown",
   "metadata": {},
   "source": [
    "#### Levenshtein distance"
   ]
  },
  {
   "cell_type": "markdown",
   "metadata": {},
   "source": [
    "Levenshtein distance is a string metric for measuring the difference between two sequences. Informally, the Levenshtein distance between two words is the minimum number of single-character edits (i.e. insertions, deletions or substitutions) required to change one word into the other.\n",
    "\n",
    "Mathematically, the Levenshtein distance between two strings `a`, `b` (of length `|a|` and `|b|` respectively) is given by `lev`<sub>a,b</sub>`(|a|,|b|)` where\n",
    "<img src=\"https://upload.wikimedia.org/math/d/4/f/d4f80cafb626ae9d9b8dc748360f61ec.png\">"
   ]
  },
  {
   "cell_type": "code",
   "execution_count": 125,
   "metadata": {},
   "outputs": [],
   "source": [
    "from jellyfish import levenshtein_distance"
   ]
  },
  {
   "cell_type": "code",
   "execution_count": 127,
   "metadata": {},
   "outputs": [
    {
     "name": "stdout",
     "output_type": "stream",
     "text": [
      "[[0, 4442, 5254, 5352], [4442, 0, 5314, 5409], [5254, 5314, 0, 5711], [5352, 5409, 5711, 0]]\n"
     ]
    }
   ],
   "source": [
    "distances = []\n",
    "\n",
    "for i in texts.keys():\n",
    "    t = []\n",
    "    for j in texts.keys():\n",
    "        t.append(levenshtein_distance(texts[i],texts[j]))\n",
    "    distances.append(t[:])\n",
    "    \n",
    "print (distances)"
   ]
  },
  {
   "cell_type": "code",
   "execution_count": 128,
   "metadata": {},
   "outputs": [
    {
     "data": {
      "image/png": "[encoded data removed]",
      "text/plain": [
       "<Figure size 360x360 with 1 Axes>"
      ]
     },
     "metadata": {
      "needs_background": "light"
     },
     "output_type": "display_data"
    }
   ],
   "source": [
    "plot_distances(distances,texts.keys())"
   ]
  },
  {
   "cell_type": "markdown",
   "metadata": {},
   "source": [
    "#### Damerau-Levenshtein Distance "
   ]
  },
  {
   "cell_type": "markdown",
   "metadata": {},
   "source": [
    " Damerau–Levenshtein distance is a distance (string metric) between two strings, i.e., finite sequence of symbols, given by counting the minimum number of operations needed to transform one string into the other, where an operation is defined as an insertion, deletion, or substitution of a single character, or a transposition of two adjacent characters. In his seminal paper, Damerau not only distinguished these four edit operations but also stated that they correspond to more than 80% of all human misspellings. Damerau's paper considered only misspellings that could be corrected with at most one edit operation.\n",
    "\n",
    "The Damerau–Levenshtein distance differs from the classical Levenshtein distance by including transpositions among its allowable operations.\n",
    "\n",
    "To express the Damerau–Levenshtein distance between two strings `a` and `b` a function `d`<sub>a,b</sub>`(i,j)` is defined, whose value is a distance between an `i`–symbol prefix (initial substring) of string `a` and a `j`–symbol prefix of `b`.\n",
    "<img src=\"https://upload.wikimedia.org/math/4/e/9/4e9f6fb468fd977d50b773ccbafb5ff9.png\">\n",
    "\n",
    "`pip install pyxDamerauLevenshtein`"
   ]
  },
  {
   "cell_type": "code",
   "execution_count": 129,
   "metadata": {},
   "outputs": [],
   "source": [
    "from jellyfish import damerau_levenshtein_distance"
   ]
  },
  {
   "cell_type": "code",
   "execution_count": 130,
   "metadata": {},
   "outputs": [
    {
     "name": "stdout",
     "output_type": "stream",
     "text": [
      "[[0, 4423, 5238, 5339], [4423, 0, 5303, 5402], [5238, 5303, 0, 5695], [5339, 5402, 5695, 0]]\n"
     ]
    }
   ],
   "source": [
    "distances = []\n",
    "\n",
    "for i in texts.keys():\n",
    "    t = []\n",
    "    for j in texts.keys():\n",
    "        t.append(damerau_levenshtein_distance(texts[i],texts[j]))\n",
    "    distances.append(t[:])\n",
    "    \n",
    "print (distances)"
   ]
  },
  {
   "cell_type": "code",
   "execution_count": 131,
   "metadata": {},
   "outputs": [
    {
     "data": {
      "image/png": "[encoded data removed]",
      "text/plain": [
       "<Figure size 360x360 with 1 Axes>"
      ]
     },
     "metadata": {
      "needs_background": "light"
     },
     "output_type": "display_data"
    }
   ],
   "source": [
    "plot_distances(distances,texts.keys())"
   ]
  },
  {
   "cell_type": "markdown",
   "metadata": {},
   "source": [
    "#### Cosine Similarity "
   ]
  },
  {
   "cell_type": "markdown",
   "metadata": {},
   "source": [
    "Cosine similarity is a measure of similarity between two vectors of an inner product space that measures the cosine of the angle between them. The cosine of 0° is 1, and it is less than 1 for any other angle. It is thus a judgment of orientation and not magnitude: two vectors with the same orientation have a cosine similarity of 1, two vectors at 90° have a similarity of 0, and two vectors diametrically opposed have a similarity of -1, independent of their magnitude. Cosine similarity is particularly used in positive space, where the outcome is neatly bounded in [0,1].\n",
    "\n",
    "Given two vectors of attributes, A and B, the cosine similarity, cos(θ), is represented using a dot product and magnitude as\n",
    "<img src=\"https://upload.wikimedia.org/math/4/e/4/4e45dc7ae582130813e804f793f24ead.png\">"
   ]
  },
  {
   "cell_type": "code",
   "execution_count": 132,
   "metadata": {},
   "outputs": [
    {
     "name": "stdout",
     "output_type": "stream",
     "text": [
      "[[1.         0.06358208 0.01690452 0.01453613]\n",
      " [0.06358208 1.         0.01334524 0.01340218]\n",
      " [0.01690452 0.01334524 1.         0.09938559]\n",
      " [0.01453613 0.01340218 0.09938559 1.        ]]\n"
     ]
    }
   ],
   "source": [
    "from sklearn.metrics.pairwise import cosine_similarity\n",
    "\n",
    "distances = cosine_similarity(tfidf_matrix)\n",
    "print (distances)"
   ]
  },
  {
   "cell_type": "code",
   "execution_count": 133,
   "metadata": {},
   "outputs": [
    {
     "data": {
      "image/png": "[encoded data removed]",
      "text/plain": [
       "<Figure size 360x360 with 1 Axes>"
      ]
     },
     "metadata": {
      "needs_background": "light"
     },
     "output_type": "display_data"
    }
   ],
   "source": [
    "plot_distances(distances,texts.keys())"
   ]
  },
  {
   "cell_type": "markdown",
   "metadata": {},
   "source": [
    "####  Manhattan distance\n",
    "The distance between two points in a grid based on a strictly horizontal and/or vertical path (that is, along the grid lines), as opposed to the diagonal or \"as the crow flies\" distance. The Manhattan distance is the simple sum of the horizontal and vertical components. Based on Taxicab geometry.\n",
    "\n",
    "The taxicab distance, `d`<sub>1</sub>, between two vectors `p`, `q` in an `n`-dimensional real vector space with fixed Cartesian coordinate system, is the sum of the lengths of the projections of the line segment between the points onto the coordinate axes. More formally:\n",
    "<img src=\"https://upload.wikimedia.org/math/4/c/5/4c568bd1d76a6b15e19cb2ac3ad75350.png\">"
   ]
  },
  {
   "cell_type": "code",
   "execution_count": 134,
   "metadata": {},
   "outputs": [
    {
     "name": "stdout",
     "output_type": "stream",
     "text": [
      "[[  0.         110.61536333 116.93914628 119.15913209]\n",
      " [110.61536333   0.         115.15793534 117.14129256]\n",
      " [116.93914628 115.15793534   0.         117.67695911]\n",
      " [119.15913209 117.14129256 117.67695911   0.        ]]\n"
     ]
    }
   ],
   "source": [
    "from sklearn.metrics.pairwise import manhattan_distances\n",
    "\n",
    "distances = manhattan_distances(tfidf_matrix)\n",
    "print (distances)"
   ]
  },
  {
   "cell_type": "code",
   "execution_count": 135,
   "metadata": {},
   "outputs": [
    {
     "data": {
      "image/png": "[encoded data removed]",
      "text/plain": [
       "<Figure size 360x360 with 1 Axes>"
      ]
     },
     "metadata": {
      "needs_background": "light"
     },
     "output_type": "display_data"
    }
   ],
   "source": [
    "plot_distances(distances,texts.keys())"
   ]
  },
  {
   "cell_type": "markdown",
   "metadata": {},
   "source": [
    "#### Minkowski distance\n",
    "The Minkowski distance is a metric in a normed vector space which can be considered as a generalization of both the Euclidean distance and the Manhattan distance.\n",
    "<img src=\"https://upload.wikimedia.org/math/a/a/0/aa0c62083c12390cb15ac3217de88e66.png\">"
   ]
  },
  {
   "cell_type": "code",
   "execution_count": 136,
   "metadata": {},
   "outputs": [
    {
     "name": "stdout",
     "output_type": "stream",
     "text": [
      "[[0.0, 1.3685159263976716, 1.402209310807171, 1.4038973364300693], [1.3685159263976716, 0.0, 1.4047453591226944, 1.4047048228881045], [1.402209310807171, 1.4047453591226944, 0.0, 1.3420986652919873], [1.4038973364300693, 1.4047048228881045, 1.3420986652919873, 0.0]]\n"
     ]
    }
   ],
   "source": [
    "from scipy.spatial.distance import minkowski\n",
    "\n",
    "distances = []\n",
    "\n",
    "for i in n:\n",
    "    t = []\n",
    "    for j in n:\n",
    "        t.append(minkowski(tfidf_matrix_array[i],tfidf_matrix_array[j],2))\n",
    "    distances.append(t[:])\n",
    "\n",
    "print (distances)"
   ]
  },
  {
   "cell_type": "code",
   "execution_count": 137,
   "metadata": {},
   "outputs": [
    {
     "data": {
      "image/png": "[encoded data removed]",
      "text/plain": [
       "<Figure size 360x360 with 1 Axes>"
      ]
     },
     "metadata": {
      "needs_background": "light"
     },
     "output_type": "display_data"
    }
   ],
   "source": [
    "plot_distances(distances,texts.keys())"
   ]
  },
  {
   "cell_type": "markdown",
   "metadata": {},
   "source": [
    "#### Jaccard similarity "
   ]
  },
  {
   "cell_type": "markdown",
   "metadata": {},
   "source": [
    "The Jaccard similarity is a common index for binary variables. It is defined as the quotient between the intersection and the union of the pairwise compared variables among two objects.\n",
    "<img src=\"https://upload.wikimedia.org/math/0/a/0/0a0633ce67c9130d890078a8d67f0474.png\">"
   ]
  },
  {
   "cell_type": "code",
   "execution_count": 138,
   "metadata": {},
   "outputs": [],
   "source": [
    "from sklearn.metrics import jaccard_similarity_score as jaccard_similarity\n",
    "\n",
    "from math import*\n",
    "\n",
    "def jaccard_similarity(x,y):\n",
    "\n",
    "    intersection_cardinality = len(set.intersection(*[set(x), set(y)]))\n",
    "    union_cardinality = len(set.union(*[set(x), set(y)]))\n",
    "    \n",
    "    return intersection_cardinality/float(union_cardinality)"
   ]
  },
  {
   "cell_type": "code",
   "execution_count": 139,
   "metadata": {},
   "outputs": [
    {
     "data": {
      "image/png": "[encoded data removed]",
      "text/plain": [
       "<Figure size 360x360 with 1 Axes>"
      ]
     },
     "metadata": {
      "needs_background": "light"
     },
     "output_type": "display_data"
    }
   ],
   "source": [
    "distances = []\n",
    "\n",
    "for i in n:\n",
    "    t = []\n",
    "    for j in n:\n",
    "        t.append(jaccard_similarity(tfidf_matrix_array[i],tfidf_matrix_array[j]))\n",
    "    distances.append(t[:])\n",
    "    \n",
    "plot_distances(distances,texts.keys())"
   ]
  },
  {
   "cell_type": "markdown",
   "metadata": {},
   "source": [
    "> ### Exercise  4\n",
    "Load first two texts from brown corpus from category science_fiction. Clean this texts and calculate manhattan distance between them. Save result into variable `manhattan_result`.\n",
    "<br><i>The result should be a positive real number.</i>"
   ]
  },
  {
   "cell_type": "code",
   "execution_count": 155,
   "metadata": {},
   "outputs": [
    {
     "name": "stdout",
     "output_type": "stream",
     "text": [
      "[[  0.         120.72433506]\n",
      " [120.72433506   0.        ]]\n"
     ]
    },
    {
     "data": {
      "image/png": "[encoded data removed]",
      "text/plain": [
       "<Figure size 360x360 with 1 Axes>"
      ]
     },
     "metadata": {
      "needs_background": "light"
     },
     "output_type": "display_data"
    },
    {
     "name": "stdout",
     "output_type": "stream",
     "text": [
      "Distance between two vectors is 120.72433505708017\n"
     ]
    }
   ],
   "source": [
    "from sklearn.feature_extraction.text import TfidfVectorizer\n",
    "  \n",
    "text_categories2 = ['science_fiction']\n",
    "data_text = []\n",
    "for i in text_categories2:\n",
    "    data_text += [ ' '.join(w) for w in text_by_categories2[i]]\n",
    "\n",
    "def tokenize(text):\n",
    "    return text.split()\n",
    "\n",
    "tfidf_vectorizer = TfidfVectorizer(max_df=0.8, min_df=0.1,use_idf=True, ngram_range=(1,5),tokenizer=tokenize)\n",
    "\n",
    "tfidf_matrix = tfidf_vectorizer.fit_transform(data_text) #fit the vectorizer \n",
    "\n",
    "import numpy as np\n",
    "def plot_distances(distances,labels):\n",
    "    distances = np.array(distances)\n",
    "    fig = plt.figure(figsize = (5,5))\n",
    "    ax = fig.add_subplot(111)\n",
    "    cax = ax.matshow(distances, cmap=plt.cm.Blues)\n",
    "\n",
    "    ax.set_xticks(np.arange(distances.shape[0])+0.5, minor=False)\n",
    "    ax.set_yticks(np.arange(distances.shape[1])+0.1, minor=False)\n",
    "\n",
    "    ax.set_xticklabels(labels, rotation=90, ha='right', minor=False, fontsize=12)\n",
    "    ax.set_yticklabels(labels, minor=False, fontsize=12)\n",
    "    plt.show()\n",
    "\n",
    "from sklearn.metrics.pairwise import manhattan_distances\n",
    "\n",
    "distances = manhattan_distances(tfidf_matrix)\n",
    "print (distances)\n",
    "\n",
    "plot_distances(distances,texts.keys())\n",
    "\n",
    "manhattan_result = [i for i in distances[0] if i!=0][0]\n",
    "print(\"Distance between two vectors is {}\".format(manhattan_result))"
   ]
  },
  {
   "cell_type": "code",
   "execution_count": null,
   "metadata": {},
   "outputs": [],
   "source": [
    "Test.assertEqualsHashed(manhattan_result, '69c3357952541b6eafc99d1a9cd321c4f27a8eb7', 'Incorrect data', \"Exercise 4 is successful\")"
   ]
  },
  {
   "cell_type": "markdown",
   "metadata": {},
   "source": [
    "<center><h3>Presented by <a target=\"_blank\" rel=\"noopener noreferrer nofollow\" href=\"http://datascience-school.com\">datascience-school.com</a></h3></center>"
   ]
  }
 ],
 "metadata": {
  "anaconda-cloud": {},
  "kernelspec": {
   "display_name": "Python 3",
   "language": "python",
   "name": "python3"
  },
  "language_info": {
   "codemirror_mode": {
    "name": "ipython",
    "version": 3
   },
   "file_extension": ".py",
   "mimetype": "text/x-python",
   "name": "python",
   "nbconvert_exporter": "python",
   "pygments_lexer": "ipython3",
   "version": "3.6.7"
  }
 },
 "nbformat": 4,
 "nbformat_minor": 1
}
