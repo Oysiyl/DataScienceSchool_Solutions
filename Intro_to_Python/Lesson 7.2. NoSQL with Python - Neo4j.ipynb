{
 "cells": [
  {
   "cell_type": "markdown",
   "metadata": {},
   "source": [
    "---\n",
    "<center><h1> Lesson 7.2 - NoSQL with Python: Neo4j Graph Database</center></h1>\n",
    "\n",
    "---"
   ]
  },
  {
   "cell_type": "markdown",
   "metadata": {},
   "source": [
    "### What is NoSQL?\n",
    "\n",
    "Over the last few years we have seen the rise of a new type of databases, known as **NoSQL (Not Only SQL) databases**, that are challenging the dominance of _relational SQL databases_. Relational databases have dominated the software industry for a long time providing mechanisms to store data persistently, concurrency control, transactions, mostly standard interfaces and mechanisms to integrate application data, reporting. \n",
    "\n",
    "There are four general types of NoSQL databases, each with their own specific attributes:\n",
    "\n",
    "* **Graph database** – based on graph theory, these databases are designed for data whose relations are well represented as a graph and has elements which are interconnected, with an undetermined number of relations between them. Examples: Neo4j, Titan, etc.\n",
    "\n",
    "* **Key-Value store** – these databases are designed for storing data in a schema-less way. In a key-value store, all of the data within consists of an indexed key and a value, hence the name. Examples: Cassandra, DynamoDB, etc.\n",
    "\n",
    "* **Column store** – (also known as wide-column stores) instead of storing data in rows, these databases are designed for storing data tables as sections of columns of data, rather than as rows of data. While this simple description sounds like the inverse of a standard database, wide-column stores offer very high performance and a highly scalable architecture. Examples: HBase, BigTable, etc.\n",
    "\n",
    "* **Document database** – expands on the basic idea of key-value stores where “documents” contain more complex in that they contain data and each document is assigned a unique key, which is used to retrieve the document. These are designed for storing, retrieving, and managing document-oriented information, also known as semi-structured data. Examples: MongoDB, CouchDB, etc.\n",
    "\n",
    "### Why NoSQL Databases?\n",
    "\n",
    "**Structure and type of data being kept:**\n",
    "SQL/Relational databases require a structure with defined attributes to hold the data, unlike NoSQL databases which usually allow free-flow operations.\n",
    "\n",
    "**Querying:**\n",
    "Regardless of their licences, relational databases all implement the SQL standard to a certain degree and thus, they can be queried using the Structured Query Language (SQL). NoSQL databases, on the other hand, each implement a unique way to work with the data they manage.\n",
    "\n",
    "**Scaling:**\n",
    "Both solutions are easy to scale vertically (i.e. by increasing system resources). However, being more modern (and simpler) applications, NoSQL solutions usually offer much easier means to scale horizontally (i.e. by creating a cluster of multiple machines).\n",
    "\n",
    "**Reliability:**\n",
    "When it comes to data reliability and safe guarantee of performed transactions, SQL databases are still the better bet.\n",
    "\n",
    "**Support:**\n",
    "Relational database management systems have decades long history. They are extremely popular and it is very easy to find both free and paid support. If an issue arises, it is therefore much easier to solve than recently-popular NoSQL databases -- especially if said solution is complex in nature (e.g. MongoDB).\n",
    "\n",
    "**Complex data keeping and querying needs:**\n",
    "By nature, relational databases are the go-to solution for complex querying and data keeping needs. They are much more efficient and excel in this domain. "
   ]
  },
  {
   "cell_type": "markdown",
   "metadata": {},
   "source": [
    "---\n",
    "# Neo4j Graph Database"
   ]
  },
  {
   "cell_type": "markdown",
   "metadata": {},
   "source": [
    "<img src=\"images/neo4j-python.png\">"
   ]
  },
  {
   "cell_type": "markdown",
   "metadata": {},
   "source": [
    "**Neo4j** is a one of the popular Graph Databases and CQL stands for _Cypher Query Language_. Neo4j is written in Java.\n",
    "\n",
    "_Graph Database_ is a database which stores data in the form of graph structures. It stores our application's data in terms of nodes, relationships and properties. Just like RDBMS (Relational DataBase Management System) stores data in the form of \"rows,columns\" of Tables, GDBMS stores data in the form of \"graphs\".\n",
    "\n",
    "A Graph is a set of nodes and the relationships that connect those nodes. Graphs stores data in _nodes_ and _relationships_ in the form of _properties_. Properties are key-value pairs to represent data. In Graph theory, we can represent a node with a circle and relationship between nodes is represented with an arrow mark.\n",
    "\n",
    "### Fundamental building blocks of Neo4j\n",
    "\n",
    "Neo4j is a graph database, adopting a labeled property graph model. In Neo4j terminology, vertices are called nodes, and edges are called relationships.\n",
    "\n",
    "**Nodes:**\n",
    "\n",
    "- Nodes are typically used to represent entities (or complex value types).\n",
    "- Nodes can have properties, which are key/value pairs. Values can be primitives or collections of primitives.\n",
    "- Nodes can have zero or more relationships connecting them to other nodes.\n",
    "\n",
    "**Relationships:**\n",
    "\n",
    "- Relationships are used to represent the relationships between nodes; to provide context to the nodes.\n",
    "- Relationships must have a start and end node, thus relationships must have a direction. Direction can be ignored at query time, so the fact that direction is there does not mean it must be used.\n",
    "- Relationships must have a relationship type.\n",
    "- Relationships can have properties (key/value pairs. values can be primitives or collections of primitives).\n",
    "\n",
    "**Properties:**\n",
    "\n",
    "- Nodes and relationships can have properties (key/value pairs. values can be primitives or collections of primitives).\n",
    "- Properties can quantify relationships.\n",
    "\n",
    "**Labels:**\n",
    "\n",
    "- Nodes can have zero or more labels.\n",
    "- Labels can represent roles, categories or types.\n",
    "- Labels are used to define indexes and constraints.\n",
    "\n",
    "Here is a visual representaion how a RDBMS can be transform to a graph database:\n",
    "\n",
    "<img src=\"images/RDBMS_vs_GRAPHDB.png\">"
   ]
  },
  {
   "cell_type": "markdown",
   "metadata": {
    "collapsed": true
   },
   "source": [
    "### Installing Neo4j\n",
    "\n",
    "Head to http://neo4j.com/download/ and click on the link to download. You'll need to have Java 7 installed as well. On Mac or Linux, untar the download to the folder of your choice, and then run `bin/neo4j` start from the folder where you put it. Windows users will receive an installer package, and you can run the service from the dashboard that starts up after installing. Once you're done, you should be able to visit http://localhost:7474/ to test your server."
   ]
  },
  {
   "cell_type": "markdown",
   "metadata": {
    "collapsed": true
   },
   "source": [
    "# Interaction of Python and Neo4j through `py2neo` Library"
   ]
  },
  {
   "cell_type": "markdown",
   "metadata": {
    "collapsed": true
   },
   "source": [
    "[`py2neo`](http://py2neo.org/) is a client library and comprehensive toolkit for working with Neo4j from within Python applications and from the command line. The core library has no external dependencies and has been carefully designed to be easy and intuitive to use. The simplest way of installation `py2neo` is using `pip`\n",
    "    \n",
    "    pip install py2neo\n",
    "    \n",
    "The simplest way to try out a connection to the Neo4j server is via the console. You need type `neo4j` in console and then confirm the connection to the Neo4j server. Once you have started a local Neo4j server, open a new Python console and enter the following:"
   ]
  },
  {
   "cell_type": "code",
   "execution_count": 77,
   "metadata": {
    "collapsed": false
   },
   "outputs": [
    {
     "name": "stdout",
     "output_type": "stream",
     "text": [
      "Connected successfully!!!\n"
     ]
    },
    {
     "data": {
      "text/plain": [
       "<Graph uri=u'http://localhost:7474/db/data/'>"
      ]
     },
     "execution_count": 77,
     "metadata": {},
     "output_type": "execute_result"
    }
   ],
   "source": [
    "from py2neo import Graph\n",
    "\n",
    "try:\n",
    "    graph = Graph('http://localhost:7474/db/data/')\n",
    "    print \"Connected successfully!!!\"\n",
    "except:\n",
    "    print \"Could not connect to Neo4j server\" \n",
    "graph"
   ]
  },
  {
   "cell_type": "code",
   "execution_count": 2,
   "metadata": {
    "collapsed": false
   },
   "outputs": [
    {
     "data": {
      "text/plain": [
       "(2, 3, 2)"
      ]
     },
     "execution_count": 2,
     "metadata": {},
     "output_type": "execute_result"
    }
   ],
   "source": [
    "graph.neo4j_version"
   ]
  },
  {
   "cell_type": "markdown",
   "metadata": {
    "collapsed": true
   },
   "source": [
    "This imports the Graph class from `py2neo` and creates a instance bound to the default Neo4j server URI http://localhost:7474/db/data/. To connect to a server at an alternative address, simply pass in the URI value as a string argument to the Graph constructor.\n",
    "\n",
    "Now, you may open Neo4j local server by the URL http://localhost:7474/browser/ or using command:"
   ]
  },
  {
   "cell_type": "code",
   "execution_count": 3,
   "metadata": {
    "collapsed": true
   },
   "outputs": [],
   "source": [
    "graph.open_browser()"
   ]
  },
  {
   "cell_type": "markdown",
   "metadata": {
    "collapsed": true
   },
   "source": [
    "As we said above, nodes and relationships are the fundamental building blocks of a Neo4j graph and both have a corresponding class in `py2neo`.\n",
    "\n",
    "Let's create a new database, where we will collect data about movies, actors, directors, etc. with various additional information. Below scheme represents a graph for [\"Forrest Gump\"](https://en.wikipedia.org/wiki/Forrest_Gump). \n",
    "\n",
    "<img src=\"images/scheme.jpg\" width=\"70%\">\n",
    "\n",
    "Of course, all fields and data from this graph may be collected with the help of relational databases. The variant of MySQL usage are shown below: \n",
    "\n",
    "<img src=\"images/MySQL_scheme.jpg\" width=\"60%\">\n",
    "\n",
    "**Pay attention:**\n",
    "\n",
    "_Each node or relationship in Neo4j possesses with the unique identifier even when two or more nodes have the same labels, properties, etc. You should be carefull when create new nodes and relationships to avoid duplicates._"
   ]
  },
  {
   "cell_type": "code",
   "execution_count": 78,
   "metadata": {
    "collapsed": false
   },
   "outputs": [
    {
     "data": {
      "text/plain": []
     },
     "execution_count": 78,
     "metadata": {},
     "output_type": "execute_result"
    }
   ],
   "source": [
    "# NOTE: If you have any unexpected errors in this lesson, try to run this cell. It will delete all databases.\n",
    "# And after that run again all cells.\n",
    "#graph.cypher.execute(\"MATCH (n) OPTIONAL MATCH (n)-[r]-() DELETE n,r\")"
   ]
  },
  {
   "cell_type": "code",
   "execution_count": 14,
   "metadata": {
    "collapsed": false
   },
   "outputs": [
    {
     "data": {
      "text/plain": [
       "(<Relationship graph=u'http://localhost:7474/db/data/' ref=u'relationship/38' start=u'node/37' end=u'node/35' type=u'DIRECTED' properties={}>,)"
      ]
     },
     "execution_count": 14,
     "metadata": {},
     "output_type": "execute_result"
    }
   ],
   "source": [
    "from py2neo import Node, Relationship\n",
    "\n",
    "tom_hanks = Node(\"Person\", name=\"Tom Hanks\", born=1956, country=\"USA\")\n",
    "gary_sinise = Node(\"Person\", name=\"Gary Sinise\", born=1955, country=\"USA\")\n",
    "robert_zemeckis = Node(\"Person\", name=\"Robert Zemeckis\", born=1952, country=\"USA\")\n",
    "forrest_gump = Node(\"Movie\", title=\"Forrest Gump\", released=1994, duration_min=142, \n",
    "                    country=\"USA\", lang=\"English\")\n",
    "\n",
    "tom_hanks_acted_in_forrest_gump = Relationship(tom_hanks, \"ACTED_IN\", forrest_gump, role=\"Forrest Gump\")\n",
    "gary_sinise_acted_in_forrest_gump = Relationship(gary_sinise, \"ACTED_IN\", forrest_gump, role=\"Lieutenant Dan Taylor\")\n",
    "robert_zemeckis_directed_forrest_gump = Relationship(robert_zemeckis, \"DIRECTED\", forrest_gump)\n",
    "\n",
    "graph.create(tom_hanks_acted_in_forrest_gump)\n",
    "graph.create(gary_sinise_acted_in_forrest_gump)\n",
    "graph.create(robert_zemeckis_directed_forrest_gump)"
   ]
  },
  {
   "cell_type": "markdown",
   "metadata": {
    "collapsed": true
   },
   "source": [
    "When first created, `Node` and `Relationship` objects exist only in the client; nothing has yet been written to the server. The `Graph.create` method shown above creates corresponding server-side objects and automatically binds each local object to its remote counterpart."
   ]
  },
  {
   "cell_type": "code",
   "execution_count": 15,
   "metadata": {
    "collapsed": true
   },
   "outputs": [],
   "source": [
    "# After graph's Node or Relation creation you may add a new property in such way \n",
    "forrest_gump.properties[\"box_office_Mdol\"] = 677.9\n",
    "forrest_gump.push()"
   ]
  },
  {
   "cell_type": "markdown",
   "metadata": {},
   "source": [
    "After the running of provided above code you will see the following graph in \"Database information\" window in Neo4j browser \n",
    "\n",
    "<img src=\"images/graph.jpg\">\n",
    "\n",
    "Available properties became visible when you hover or type on some `Node` or `Relationship`. \n",
    "\n",
    "Basic information about the graph:"
   ]
  },
  {
   "cell_type": "code",
   "execution_count": 16,
   "metadata": {
    "collapsed": false
   },
   "outputs": [
    {
     "name": "stdout",
     "output_type": "stream",
     "text": [
      "Relationships amount:\n",
      "3\n",
      "\n",
      "Relationships types:\n",
      "frozenset([u'DIRECTED', u'ACTED_IN'])\n",
      "\n",
      "Nodes amount:\n",
      "4\n",
      "\n",
      "Existing Labels:\n",
      "frozenset([u'Person', u'Movie'])\n",
      "\n",
      "Info about Node with id = 1:\n",
      "(n1:Movie {box_office_Mdol:677.9,country:\"USA\",duration_min:142,lang:\"English\",released:1994,title:\"Forrest Gump\"})\n",
      "\n",
      "The number of relationships attached to the node:\n",
      "tom_hanks: 1\n",
      "forrest_gump: 3\n",
      "\n",
      "tom_hanks Label: LabelSet(['Person'])\n",
      "tom_hanks was born: 1956\n",
      "\n",
      "Info about Relationship with id = 1:\n"
     ]
    },
    {
     "ename": "ValueError",
     "evalue": "Relationship with ID 1 not found",
     "output_type": "error",
     "traceback": [
      "\u001b[1;31m---------------------------------------------------------------------------\u001b[0m",
      "\u001b[1;31mValueError\u001b[0m                                Traceback (most recent call last)",
      "\u001b[1;32m<ipython-input-16-9f579539bd78>\u001b[0m in \u001b[0;36m<module>\u001b[1;34m()\u001b[0m\n\u001b[0;32m     24\u001b[0m \u001b[1;33m\u001b[0m\u001b[0m\n\u001b[0;32m     25\u001b[0m \u001b[1;32mprint\u001b[0m \u001b[1;34m\"\\nInfo about Relationship with id = 1:\"\u001b[0m\u001b[1;33m\u001b[0m\u001b[0m\n\u001b[1;32m---> 26\u001b[1;33m \u001b[1;32mprint\u001b[0m \u001b[0mgraph\u001b[0m\u001b[1;33m.\u001b[0m\u001b[0mrelationship\u001b[0m\u001b[1;33m(\u001b[0m\u001b[1;36m1\u001b[0m\u001b[1;33m)\u001b[0m\u001b[1;33m\u001b[0m\u001b[0m\n\u001b[0m\u001b[0;32m     27\u001b[0m \u001b[1;33m\u001b[0m\u001b[0m\n\u001b[0;32m     28\u001b[0m \u001b[1;32mprint\u001b[0m \u001b[1;34m\"\\nRelationship's nodes:\"\u001b[0m\u001b[1;33m\u001b[0m\u001b[0m\n",
      "\u001b[1;32m/usr/local/lib/python2.7/dist-packages/py2neo/core.pyc\u001b[0m in \u001b[0;36mrelationship\u001b[1;34m(self, id_)\u001b[0m\n\u001b[0;32m   1031\u001b[0m             \u001b[1;32mexcept\u001b[0m \u001b[0mGraphError\u001b[0m \u001b[1;32mas\u001b[0m \u001b[0merror\u001b[0m\u001b[1;33m:\u001b[0m\u001b[1;33m\u001b[0m\u001b[0m\n\u001b[0;32m   1032\u001b[0m                 \u001b[1;32mif\u001b[0m \u001b[0merror\u001b[0m\u001b[1;33m.\u001b[0m\u001b[0mexception\u001b[0m \u001b[1;33m==\u001b[0m \u001b[1;34m\"RelationshipNotFoundException\"\u001b[0m\u001b[1;33m:\u001b[0m\u001b[1;33m\u001b[0m\u001b[0m\n\u001b[1;32m-> 1033\u001b[1;33m                     \u001b[1;32mraise\u001b[0m \u001b[0mValueError\u001b[0m\u001b[1;33m(\u001b[0m\u001b[1;34m\"Relationship with ID %s not found\"\u001b[0m \u001b[1;33m%\u001b[0m \u001b[0mid_\u001b[0m\u001b[1;33m)\u001b[0m\u001b[1;33m\u001b[0m\u001b[0m\n\u001b[0m\u001b[0;32m   1034\u001b[0m                 \u001b[1;32melse\u001b[0m\u001b[1;33m:\u001b[0m\u001b[1;33m\u001b[0m\u001b[0m\n\u001b[0;32m   1035\u001b[0m                     \u001b[1;32mraise\u001b[0m\u001b[1;33m\u001b[0m\u001b[0m\n",
      "\u001b[1;31mValueError\u001b[0m: Relationship with ID 1 not found"
     ]
    }
   ],
   "source": [
    "print \"Relationships amount:\"\n",
    "print graph.size\n",
    "\n",
    "print \"\\nRelationships types:\"\n",
    "print graph.relationship_types\n",
    "\n",
    "print \"\\nNodes amount:\"\n",
    "print graph.order\n",
    "\n",
    "print \"\\nExisting Labels:\"\n",
    "print graph.node_labels\n",
    "\n",
    "print \"\\nInfo about Node with id = 1:\"\n",
    "# You may have another id of the same Node or Relationship\n",
    "print graph.node(1)\n",
    "\n",
    "print \"\\nThe number of relationships attached to the node:\"\n",
    "print \"tom_hanks:\", tom_hanks.degree\n",
    "print \"forrest_gump:\", forrest_gump.degree\n",
    "\n",
    "# Properties and Labels of a Node (the same for Relationships) can be obtained also in such way:\n",
    "print \"\\ntom_hanks Label:\", tom_hanks.labels\n",
    "print \"tom_hanks was born:\", tom_hanks.properties['born']\n",
    "\n",
    "print \"\\nInfo about Relationship with id = 1:\"\n",
    "print graph.relationship(1)\n",
    "\n",
    "print \"\\nRelationship's nodes:\"\n",
    "print tom_hanks_acted_in_forrest_gump.nodes"
   ]
  },
  {
   "cell_type": "markdown",
   "metadata": {},
   "source": [
    "The last output line represets Cypher code. We will consider it further.\n",
    "\n",
    "Let's extend our graph database with one new movie [\"The Green Mile\"](https://en.wikipedia.org/wiki/The_Green_Mile):"
   ]
  },
  {
   "cell_type": "code",
   "execution_count": 17,
   "metadata": {
    "collapsed": false
   },
   "outputs": [
    {
     "data": {
      "text/plain": [
       "(<Relationship graph=u'http://localhost:7474/db/data/' ref=u'relationship/43' start=u'node/41' end=u'node/38' type=u'BASED_ON' properties={}>,)"
      ]
     },
     "execution_count": 17,
     "metadata": {},
     "output_type": "execute_result"
    }
   ],
   "source": [
    "michael_clarke_duncan = Node(\"Person\", name=\"Michael Clarke Duncan\", born=1957, country=\"USA\")\n",
    "frank_darabont = Node(\"Person\", name=\"Frank Darabont\", born=1959, country=\"France\")\n",
    "stephen_king = Node(\"Person\", name=\"Stephen King\", born=1947, country=\"USA\")\n",
    "green_mile  = Node(\"Movie\", title=\"The Green Mile\", released=1999, duration_min=188, \n",
    "                    country=\"USA\", lang=\"English\", box_office_Mdol=290.7)\n",
    "\n",
    "graph.create(Relationship(tom_hanks, \"ACTED_IN\", green_mile, role=\"Paul Edgecomb\"))\n",
    "graph.create(Relationship(gary_sinise, \"ACTED_IN\", green_mile, role=\"Burt Hammersmith\"))\n",
    "graph.create(Relationship(michael_clarke_duncan, \"ACTED_IN\", green_mile, role=\"John Coffey\"))\n",
    "graph.create(Relationship(frank_darabont, \"DIRECTED\", green_mile))\n",
    "graph.create(Relationship(stephen_king, \"BASED_ON\", green_mile))"
   ]
  },
  {
   "cell_type": "markdown",
   "metadata": {
    "collapsed": true
   },
   "source": [
    "Update http://localhost:7474/browser/ page and look at renewed graph."
   ]
  },
  {
   "cell_type": "markdown",
   "metadata": {
    "collapsed": true
   },
   "source": [
    "# A quick Cypher introduction\n",
    "\n",
    "**Cypher** is a pattern-oriented, declarative query language; a mix of SQL and graph traversal patterns. If you know SQL well, you'll probably quickly see the parallels. This is just a brief introduction to get you started — if you want more complete documentation, see the documentation [here](http://neo4j.com/docs/stable/cypher-query-lang.html) and [here](http://neo4j.com/developer/cypher-query-language/). Note that much of Cypher is case-insensitive, like SQL. Notable exceptions to this rule include identifiers, labels, property keys, and relationship types.\n",
    "\n",
    "`py2neo` provides Cypher execution functionality via the HTTP transactional endpoint. Method `execute()` allows using pure Cypher inside Python code."
   ]
  },
  {
   "cell_type": "markdown",
   "metadata": {},
   "source": [
    "### `CREATE` clause for new data insertion:\n",
    "\n",
    "Neo4j CQL `CREATE` command is used to create Nodes without and with properties, to create Relationships between Nodes without and with Properties and to create single or multiple labels to a Node or a Relationship.\n",
    "\n",
    "_**Basic syntax**_:\n",
    "* for a single Node: \n",
    " \n",
    "    CREATE (\n",
    "            <node_name>:<label_name>: ... :<label_name_N> \n",
    "            {\n",
    "                <property_1_name>:<property_1_value>, ..., <property_M_name>:<property_M_value>\n",
    "             }\n",
    "            )\n",
    "* for Relationship between nodes:\n",
    "    \n",
    "    CREATE (\n",
    "            <node_1_name>:<label_1_name>: ... :<label_1_name_N1> \n",
    "            {\n",
    "                <property_1_name>:<property_1_value>, ..., <property_M1_name>:<property_M1_value>\n",
    "             }\n",
    "            )-\n",
    "           [ (<relationship_name>:<relationship_label_name_1>: ... :<relationship_label_name_K>) ]\n",
    "           ->(\n",
    "            <node_2_name>:<label_2_name>: ... :<label_2_name_N2> \n",
    "            {\n",
    "                <property_1_name>:<property_1_value>, ..., <property_M2_name>:<property_M2_value>\n",
    "             }\n",
    "           )\n",
    "\n",
    "_**Analogy with SQL**_:\n",
    "\n",
    "    INSERT INTO <table_name> (<value_of_field_1>, ..., <value_of_field_N>);"
   ]
  },
  {
   "cell_type": "markdown",
   "metadata": {},
   "source": [
    "Let's create a new Person, a new film [\"Inception\"](https://en.wikipedia.org/wiki/Inception) and \"Matrix\" trilogy using `py2neo.Graph.cypher` attribute:"
   ]
  },
  {
   "cell_type": "code",
   "execution_count": 18,
   "metadata": {
    "collapsed": false
   },
   "outputs": [
    {
     "data": {
      "text/plain": []
     },
     "execution_count": 18,
     "metadata": {},
     "output_type": "execute_result"
    }
   ],
   "source": [
    "graph.cypher.execute(\"CREATE (single_actor:Person { name:'Sylvester Stallone', born:1946, country:'USA' })\")"
   ]
  },
  {
   "cell_type": "code",
   "execution_count": 19,
   "metadata": {
    "collapsed": false
   },
   "outputs": [
    {
     "data": {
      "text/plain": []
     },
     "execution_count": 19,
     "metadata": {},
     "output_type": "execute_result"
    }
   ],
   "source": [
    "graph.cypher.execute(\"\"\"\n",
    "                      CREATE (actor:«label_1» { name:'Leonardo DiCaprio', born:1974, country:'USA' })-\n",
    "                      [:«rel»]->\n",
    "                      (film:«label_2» { title:\"Inseption\", released:2010, duration_min:148, \n",
    "                                        country:\"USA\", lang:\"English\", box_office_Mdol:825.5 })\n",
    "                     \"\"\",\n",
    "                     actor=\"leonardo_diCaprio\", label_1=\"Person\",\n",
    "                     rel=\"ACTED_IN\",\n",
    "                     film=\"Inception\", label_2=\"Movie\"\n",
    "                    )"
   ]
  },
  {
   "cell_type": "markdown",
   "metadata": {},
   "source": [
    "You may see how we can set query parameters. It is very helpfull in loops."
   ]
  },
  {
   "cell_type": "code",
   "execution_count": 20,
   "metadata": {
    "collapsed": false
   },
   "outputs": [
    {
     "data": {
      "text/plain": []
     },
     "execution_count": 20,
     "metadata": {},
     "output_type": "execute_result"
    }
   ],
   "source": [
    "graph.cypher.execute(\n",
    "    \"\"\" \n",
    "    CREATE (matrix1:Movie { title: 'The Matrix', released: 1999, duration_min: 136, box_office_Mdol: 463.5 })\n",
    "    CREATE (matrix2:Movie { title: 'The Matrix Reloaded', released: 2003, duration_min: 138, box_office_Mdol: 742.1 })\n",
    "    CREATE (matrix3:Movie { title: 'The Matrix Revolutions', released: 2003, duration_min: 129, box_office_Mdol: 427.3 })\n",
    "    CREATE (keanu:Person { name: 'Keanu Reeves', born: 1964, country: \"Canada\" })\n",
    "    CREATE (laurence:Person { name: 'Laurence Fishburne', born: 1961, country: \"USA\" })\n",
    "    CREATE (carrieanne:Person { name: 'Carrie-Anne Moss', born: 1967, country: \"Canada\" })\n",
    "    CREATE (keanu)-[:ACTED_IN { role: 'Neo' }]->(matrix1)\n",
    "    CREATE (keanu)-[:ACTED_IN { role: 'Neo' }]->(matrix2)\n",
    "    CREATE (keanu)-[:ACTED_IN { role: 'Neo' }]->(matrix3)\n",
    "    CREATE (laurence)-[:ACTED_IN { role: 'Morpheus' }]->(matrix1)\n",
    "    CREATE (laurence)-[:ACTED_IN { role: 'Morpheus' }]->(matrix2)\n",
    "    CREATE (laurence)-[:ACTED_IN { role: 'Morpheus' }]->(matrix3)\n",
    "    CREATE (carrieanne)-[:ACTED_IN { role: 'Trinity' }]->(matrix1)\n",
    "    CREATE (carrieanne)-[:ACTED_IN { role: 'Trinity' }]->(matrix2)\n",
    "    CREATE (carrieanne)-[:ACTED_IN { role: 'Trinity' }]->(matrix3)\n",
    "    \"\"\"\n",
    ")"
   ]
  },
  {
   "cell_type": "markdown",
   "metadata": {},
   "source": [
    "### `RETURN` clause for returning query result:\n",
    "\n",
    "Neo4j CQL `RETURN` clause is used to retrieve some or all properties of a Node, of Nodes and associated Relationships. We should use it with either `MATCH` or `CREATE` Commands.\n",
    "\n",
    "_**Basic syntax**_:\n",
    "    \n",
    "    RETURN <node_name>.<property_1_name>, ... , <node_name>.<property_N_name>"
   ]
  },
  {
   "cell_type": "markdown",
   "metadata": {},
   "source": [
    "### `MATCH` clause for data selection:\n",
    "\n",
    "Neo4j CQL `MATCH` command is used to get data about nodes, relationships and properties from database. We can use `MATCH` command with `RETURN` clause or an update clause.\n",
    "\n",
    "_**Basic syntax**_:\n",
    "    \n",
    "    MATCH (<node_name>:<label_name>)\n",
    "    RETURN <node_name>.<property_1_name>, ... , <node_name>.<property_N_name>\n",
    "    \n",
    "_**Analogy with SQL**_:\n",
    "\n",
    "    SELECT <field_1>, ..., <field_N> FROM <table_name>;\n",
    "    \n",
    "Many of command are similar to SQL.\n",
    "\n",
    "The [`CREATE UNIQUE`](http://neo4j.com/docs/stable/query-create-unique.html) clause is a mix of `MATCH` and `CREATE` — it will match what it can, and create what is missing. This method creates nodes/relationships only when they are not exist. "
   ]
  },
  {
   "cell_type": "code",
   "execution_count": 21,
   "metadata": {
    "collapsed": false
   },
   "outputs": [
    {
     "data": {
      "text/plain": [
       "    | n                                                                                                                     \n",
       "----+------------------------------------------------------------------------------------------------------------------------\n",
       "  1 | (n34:Person {born:1956,country:\"USA\",name:\"Tom Hanks\"})                                                               \n",
       "  2 | (n35:Movie {box_office_Mdol:677.9,country:\"USA\",duration_min:142,lang:\"English\",released:1994,title:\"Forrest Gump\"})  \n",
       "  3 | (n36:Person {born:1955,country:\"USA\",name:\"Gary Sinise\"})                                                             \n",
       "  4 | (n37:Person {born:1952,country:\"USA\",name:\"Robert Zemeckis\"})                                                         \n",
       "  5 | (n38:Movie {box_office_Mdol:290.7,country:\"USA\",duration_min:188,lang:\"English\",released:1999,title:\"The Green Mile\"})\n",
       "  6 | (n39:Person {born:1957,country:\"USA\",name:\"Michael Clarke Duncan\"})                                                   \n",
       "  7 | (n40:Person {born:1959,country:\"France\",name:\"Frank Darabont\"})                                                       \n",
       "  8 | (n41:Person {born:1947,country:\"USA\",name:\"Stephen King\"})                                                            \n",
       "  9 | (n42:Person {born:1946,country:\"USA\",name:\"Sylvester Stallone\"})                                                      \n",
       " 10 | (n43:Person {born:1974,country:\"USA\",name:\"Leonardo DiCaprio\"})                                                       \n",
       " 11 | (n44:Movie {box_office_Mdol:825.5,country:\"USA\",duration_min:148,lang:\"English\",released:2010,title:\"Inseption\"})     \n",
       " 12 | (n45:Movie {box_office_Mdol:463.5,duration_min:136,released:1999,title:\"The Matrix\"})                                 \n",
       " 13 | (n46:Movie {box_office_Mdol:742.1,duration_min:138,released:2003,title:\"The Matrix Reloaded\"})                        \n",
       " 14 | (n47:Movie {box_office_Mdol:427.3,duration_min:129,released:2003,title:\"The Matrix Revolutions\"})                     \n",
       " 15 | (n48:Person {born:1964,country:\"Canada\",name:\"Keanu Reeves\"})                                                         \n",
       " 16 | (n49:Person {born:1961,country:\"USA\",name:\"Laurence Fishburne\"})                                                      \n",
       " 17 | (n50:Person {born:1967,country:\"Canada\",name:\"Carrie-Anne Moss\"})                                                     "
      ]
     },
     "execution_count": 21,
     "metadata": {},
     "output_type": "execute_result"
    }
   ],
   "source": [
    "# Return all items\n",
    "graph.cypher.execute(\"MATCH (n) RETURN n\")\n",
    "# is equivalent to \n",
    "# SELECT * FROM table_1\n",
    "# UNION\n",
    "# SELECT * FROM table_2\n",
    "# ..."
   ]
  },
  {
   "cell_type": "code",
   "execution_count": 22,
   "metadata": {
    "collapsed": false,
    "scrolled": true
   },
   "outputs": [
    {
     "name": "stdout",
     "output_type": "stream",
     "text": [
      "<class 'py2neo.cypher.core.RecordList'>\n",
      "\n",
      "   | movie                                                                                \n",
      "---+---------------------------------------------------------------------------------------\n",
      " 1 | (n45:Movie {box_office_Mdol:463.5,duration_min:136,released:1999,title:\"The Matrix\"})\n",
      "\n",
      "\n",
      "res.records: <type 'list'>\n",
      "[ movie                                                                                \n",
      "---------------------------------------------------------------------------------------\n",
      " (n45:Movie {box_office_Mdol:463.5,duration_min:136,released:1999,title:\"The Matrix\"})\n",
      "]\n",
      "\n",
      "res.records[0]: <class 'py2neo.cypher.core.Record'>\n",
      " movie                                                                                \n",
      "---------------------------------------------------------------------------------------\n",
      " (n45:Movie {box_office_Mdol:463.5,duration_min:136,released:1999,title:\"The Matrix\"})\n",
      "\n",
      "\n",
      "Node:\n",
      "res.records[0][0]: <class 'py2neo.core.Node'>\n",
      "(n45:Movie {box_office_Mdol:463.5,duration_min:136,released:1999,title:\"The Matrix\"})\n",
      "\n",
      "res.records[0][0]['title']: <type 'unicode'>\n",
      "The Matrix\n"
     ]
    }
   ],
   "source": [
    "# Return specific Movie object \n",
    "res = graph.cypher.execute(\"MATCH (movie:Movie { title:'The Matrix' }) RETURN movie\")\n",
    "\n",
    "# Look at type of the result\n",
    "print type(res)\n",
    "\n",
    "# Print resulting data structure\n",
    "print \n",
    "print res\n",
    "\n",
    "# How we can extract data from RecordList instance\n",
    "print \n",
    "print \"res.records:\", type(res.records)\n",
    "print res.records\n",
    "\n",
    "print \n",
    "print \"res.records[0]:\", type(res.records[0])\n",
    "print res.records[0]\n",
    "\n",
    "print \n",
    "print \"Node:\"\n",
    "print \"res.records[0][0]:\", type(res.records[0][0])\n",
    "print res.records[0][0]\n",
    "\n",
    "print \n",
    "node = res.records[0][0]\n",
    "print \"res.records[0][0]['title']:\", type(node[\"title\"])\n",
    "print node[\"title\"]"
   ]
  },
  {
   "cell_type": "code",
   "execution_count": 23,
   "metadata": {
    "collapsed": false
   },
   "outputs": [
    {
     "data": {
      "text/plain": [
       "   | movie.title | movie.released\n",
       "---+-------------+----------------\n",
       " 1 | The Matrix  |           1999"
      ]
     },
     "execution_count": 23,
     "metadata": {},
     "output_type": "execute_result"
    }
   ],
   "source": [
    "# Return the title and date of the film\n",
    "graph.cypher.execute(\"MATCH (movie:Movie { title:'The Matrix' }) RETURN movie.title, movie.released\")"
   ]
  },
  {
   "cell_type": "code",
   "execution_count": 24,
   "metadata": {
    "collapsed": false
   },
   "outputs": [
    {
     "data": {
      "text/plain": [
       "   | movie.title            | movie.released\n",
       "---+------------------------+----------------\n",
       " 1 | Forrest Gump           |           1994\n",
       " 2 | The Green Mile         |           1999\n",
       " 3 | Inseption              |           2010\n",
       " 4 | The Matrix             |           1999\n",
       " 5 | The Matrix Reloaded    |           2003\n",
       " 6 | The Matrix Revolutions |           2003"
      ]
     },
     "execution_count": 24,
     "metadata": {},
     "output_type": "execute_result"
    }
   ],
   "source": [
    "# Return the title and date of all films\n",
    "graph.cypher.execute(\"MATCH (movie:Movie) RETURN movie.title, movie.released\")\n",
    "# Analogy with SQL:\n",
    "# SELECT title, released FROM movie;"
   ]
  },
  {
   "cell_type": "code",
   "execution_count": 25,
   "metadata": {
    "collapsed": false
   },
   "outputs": [
    {
     "data": {
      "text/plain": [
       "    | person.name           | person.born\n",
       "----+-----------------------+-------------\n",
       "  1 | Leonardo DiCaprio     |        1974\n",
       "  2 | Carrie-Anne Moss      |        1967\n",
       "  3 | Keanu Reeves          |        1964\n",
       "  4 | Laurence Fishburne    |        1961\n",
       "  5 | Frank Darabont        |        1959\n",
       "  6 | Michael Clarke Duncan |        1957\n",
       "  7 | Tom Hanks             |        1956\n",
       "  8 | Gary Sinise           |        1955\n",
       "  9 | Robert Zemeckis       |        1952\n",
       " 10 | Stephen King          |        1947\n",
       " 11 | Sylvester Stallone    |        1946"
      ]
     },
     "execution_count": 25,
     "metadata": {},
     "output_type": "execute_result"
    }
   ],
   "source": [
    "# Return Person names and year of birth, and order them by year in descending order:\n",
    "graph.cypher.execute(\"\"\"\n",
    "    MATCH (person:Person)\n",
    "    RETURN person.name, person.born\n",
    "    ORDER BY person.born DESC\n",
    "\"\"\")\n",
    "# Analogy with SQL:\n",
    "# SELECT name, born FROM person ORDER BY born DESC;"
   ]
  },
  {
   "cell_type": "code",
   "execution_count": 26,
   "metadata": {
    "collapsed": false
   },
   "outputs": [
    {
     "data": {
      "text/plain": [
       "   | COUNT(*)\n",
       "---+----------\n",
       " 1 |       17"
      ]
     },
     "execution_count": 26,
     "metadata": {},
     "output_type": "execute_result"
    }
   ],
   "source": [
    "# Count all objects:\n",
    "amount = graph.cypher.execute(\"MATCH (n) RETURN COUNT(*)\")\n",
    "amount"
   ]
  },
  {
   "cell_type": "code",
   "execution_count": 27,
   "metadata": {
    "collapsed": false
   },
   "outputs": [
    {
     "data": {
      "text/plain": [
       "   | COUNT(*)\n",
       "---+----------\n",
       " 1 |       11"
      ]
     },
     "execution_count": 27,
     "metadata": {},
     "output_type": "execute_result"
    }
   ],
   "source": [
    "# Count Person's:\n",
    "graph.cypher.execute(\"MATCH (n:Person) RETURN COUNT(*)\")\n",
    "# Analogy with SQL:\n",
    "# SELECT COUNT(*) FROM person"
   ]
  },
  {
   "cell_type": "code",
   "execution_count": 28,
   "metadata": {
    "collapsed": false
   },
   "outputs": [
    {
     "data": {
      "text/plain": [
       "   | TYPE(r)  | COUNT(*)\n",
       "---+----------+----------\n",
       " 1 | BASED_ON |        1\n",
       " 2 | ACTED_IN |       15\n",
       " 3 | DIRECTED |        2"
      ]
     },
     "execution_count": 28,
     "metadata": {},
     "output_type": "execute_result"
    }
   ],
   "source": [
    "# Count relationship types:\n",
    "graph.cypher.execute(\"MATCH (n)-[r]->() RETURN TYPE(r), COUNT(*)\")"
   ]
  },
  {
   "cell_type": "code",
   "execution_count": 29,
   "metadata": {
    "collapsed": false
   },
   "outputs": [
    {
     "data": {
      "text/plain": [
       "    | FROM                  | ->       | TO            \n",
       "----+-----------------------+----------+----------------\n",
       "  1 | Tom Hanks             | ACTED_IN | The Green Mile\n",
       "  2 | Tom Hanks             | ACTED_IN | Forrest Gump  \n",
       "  3 | Gary Sinise           | ACTED_IN | The Green Mile\n",
       "  4 | Gary Sinise           | ACTED_IN | Forrest Gump  \n",
       "  5 | Robert Zemeckis       | DIRECTED | Forrest Gump  \n",
       "  6 | Michael Clarke Duncan | ACTED_IN | The Green Mile\n",
       "  7 | Frank Darabont        | DIRECTED | The Green Mile\n",
       "  8 | Stephen King          | BASED_ON | The Green Mile\n",
       "  9 | Leonardo DiCaprio     | ACTED_IN | Inseption     \n",
       " 10 | Keanu Reeves          | ACTED_IN | The Matrix    "
      ]
     },
     "execution_count": 29,
     "metadata": {},
     "output_type": "execute_result"
    }
   ],
   "source": [
    "# List first 10 nodes and their relationships:\n",
    "graph.cypher.execute(\"\"\"\n",
    "    MATCH (n)-[r]->(m)\n",
    "    RETURN n.name AS FROM, type(r) AS `->`, m.title AS TO\n",
    "    LIMIT 10\n",
    "\"\"\")"
   ]
  },
  {
   "cell_type": "markdown",
   "metadata": {},
   "source": [
    "> ### Exercise 2.1:\n",
    "\n",
    "> Display all films from the \"Matrix\" trilogy in descending order by its year of release. If there a few movies with the same released year, display them in ascending order by its duration. You need show movie's title, released year and duration fields. The resulting table should contain columns names equal to properties names, i.e. \"title\" but not \"movie.title\".  Save result table into variable `result` in the format:\n",
    "```   \n",
    "   | title                  | released | duration_min\n",
    "---+------------------------+----------+--------------\n",
    " 1 | ...................... | ........ |..............\n",
    "```\n",
    "\n",
    "> Before you start, let us note that Neo4j database may contains more than one node or relationship with the same label, properties, etc., i.e. it may contains duplicates of such kind. Of course, they are not full duplicates, because possess by various identifiers written in `<id>` field (it is assigned almost everytime automatically). Thus, if you ran some of above command cells with creation of a new node(s) and/or relationship(s) twice or more times, then the respective node(s)/relationship(s) appeared twice (or more time) in the database. Please check this in [Neo4j browser]( http://localhost:7474/browser/).\n",
    "\n",
    "> We suppose that nodes and relationships information is unique, i.e. no one node has duplicates, in the further tasks. That's why we remove all database records using command `MATCH (n) OPTIONAL MATCH (n)-[r]-() DELETE n,r` that clears all nodes and relationships, but doesn't reset `<id>` numeration (see below). It means that if we delete two nodes with `<id>`s 1 and 2 (suppose that only them were in the database) using above command, then some new node (which we created in the future) will have `<id>` equals to 3. To reset indexing you need delete all files from the folder where database data is contained.\n",
    "\n",
    "> After removing of all records we fill database with the same data as before (whether each node/relationship was created only once) using command `Test.resetDatabaseRecords()`. It contains Cypher code creating the necessary nodes and relationships between them. Please look at it."
   ]
  },
  {
   "cell_type": "code",
   "execution_count": 30,
   "metadata": {
    "collapsed": false
   },
   "outputs": [
    {
     "data": {
      "text/plain": [
       "   | title                  | released | duration_min\n",
       "---+------------------------+----------+--------------\n",
       " 1 | The Matrix Revolutions |     2003 |          129\n",
       " 2 | The Matrix Reloaded    |     2003 |          138\n",
       " 3 | The Matrix             |     1999 |          136"
      ]
     },
     "execution_count": 30,
     "metadata": {},
     "output_type": "execute_result"
    }
   ],
   "source": [
    "#graph.cypher.execute(\"MATCH (n) OPTIONAL MATCH (n)-[r]-() DELETE n,r\")\n",
    "#graph.cypher.execute(Test.resetDatabaseRecords())\n",
    "\n",
    "# type your code here\n",
    "\n",
    "result = graph.cypher.execute(\"\"\"\n",
    "MATCH (movie:Movie)\n",
    "WHERE movie.title CONTAINS 'Matrix'\n",
    "RETURN movie.title AS title, movie.released AS released, movie.duration_min AS duration_min\n",
    "ORDER BY movie.released DESC, movie.duration_min ASC\n",
    "\"\"\")\n",
    "result"
   ]
  },
  {
   "cell_type": "code",
   "execution_count": 31,
   "metadata": {
    "collapsed": false
   },
   "outputs": [
    {
     "name": "stdout",
     "output_type": "stream",
     "text": [
      "1 test passed. Exercise 2.1 is successful\n"
     ]
    }
   ],
   "source": [
    "\n",
    "from test_helper import Test\n",
    "\n",
    "Test.assertEqualsHashed(result, '160d7a294f74bec665938491e0b2b9fe825a730e', 'Incorrect query', \"Exercise 2.1 is successful\")"
   ]
  },
  {
   "cell_type": "markdown",
   "metadata": {},
   "source": [
    "### `WHERE` clause:\n",
    "\n",
    "Like SQL, Neo4j CQL has provided `WHERE` clause in CQL `MATCH` command to filter the results of a `MATCH` query.\n",
    "\n",
    "\n",
    "_**Basic syntax**_:\n",
    "    \n",
    "    MATCH (<node_name>:<label_name>)\n",
    "    WHERE <condition> <boolean_operator> <condition>\n",
    "    RETURN <node_name>.<property_1_name>, ... , <node_name>.<property_N_name>\n",
    "    \n",
    "_**Analogy with SQL**_:\n",
    "\n",
    "    SELECT <field_1>, ..., <field_N> \n",
    "    FROM <table_name>\n",
    "    WHERE <condition> <boolean_operator> <condition>;\n",
    "    \n",
    "Cypher suppots the same operators as SQL: \"=\", \"<>\"\t\"<\", \">\", \"<=\", \">=\", \"`AND`\", \"`OR`\", \"`NOT`\", \"`XOR`\"."
   ]
  },
  {
   "cell_type": "code",
   "execution_count": 32,
   "metadata": {
    "collapsed": false
   },
   "outputs": [
    {
     "data": {
      "text/plain": [
       "   | person.name      | person.country\n",
       "---+------------------+----------------\n",
       " 1 | Frank Darabont   | France        \n",
       " 2 | Keanu Reeves     | Canada        \n",
       " 3 | Carrie-Anne Moss | Canada        "
      ]
     },
     "execution_count": 32,
     "metadata": {},
     "output_type": "execute_result"
    }
   ],
   "source": [
    "# Get only those persons who was born not in USA:\n",
    "graph.cypher.execute(\"\"\"\n",
    "    MATCH (person:Person)\n",
    "    WHERE person.country <> \"USA\"\n",
    "    RETURN person.name, person.country\n",
    "\"\"\")\n",
    "# Analogy with SQL:\n",
    "# SELECT name FROM person WHERE country <> \"USA\";"
   ]
  },
  {
   "cell_type": "code",
   "execution_count": 33,
   "metadata": {
    "collapsed": false
   },
   "outputs": [
    {
     "data": {
      "text/plain": [
       "   | person.name     \n",
       "---+------------------\n",
       " 1 | Tom Hanks       \n",
       " 2 | Robert Zemeckis \n",
       " 3 | Keanu Reeves    \n",
       " 4 | Carrie-Anne Moss"
      ]
     },
     "execution_count": 33,
     "metadata": {},
     "output_type": "execute_result"
    }
   ],
   "source": [
    "# Get only the persons whose names end with “s”:\n",
    "graph.cypher.execute(\"\"\"\n",
    "    MATCH (person:Person)\n",
    "    WHERE person.name =~ \".*s$\" \n",
    "    RETURN person.name\n",
    "\"\"\")\n",
    "# \"WHERE person.name =~ '.*s$'\" is equivalent to \"WHERE person.name ENDS WITH 's'\"\n",
    "\n",
    "# Analogy with SQL:\n",
    "# SELECT name FROM person WHERE name LIKE '%s';"
   ]
  },
  {
   "cell_type": "code",
   "execution_count": 34,
   "metadata": {
    "collapsed": false
   },
   "outputs": [
    {
     "data": {
      "text/plain": [
       "   | person.name           | person.born\n",
       "---+-----------------------+-------------\n",
       " 1 | Tom Hanks             |        1956\n",
       " 2 | Michael Clarke Duncan |        1957\n",
       " 3 | Frank Darabont        |        1959\n",
       " 4 | Stephen King          |        1947\n",
       " 5 | Sylvester Stallone    |        1946\n",
       " 6 | Leonardo DiCaprio     |        1974\n",
       " 7 | Laurence Fishburne    |        1961"
      ]
     },
     "execution_count": 34,
     "metadata": {},
     "output_type": "execute_result"
    }
   ],
   "source": [
    "# Get those persons who was born after 1955 in USA or France OR whose name starts with 'S' and contains 'St'\n",
    "graph.cypher.execute(\"\"\"\n",
    "    MATCH (person:Person)\n",
    "    WHERE (person.born > 1955 AND person.country IN [\"USA\", \"France\"]) \n",
    "    OR (person.name STARTS WITH 'S' AND person.name CONTAINS 'St')\n",
    "    RETURN person.name, person.born\n",
    "\"\"\")\n",
    "# Analogy with SQL:\n",
    "# SELECT name FROM person \n",
    "# WHERE (born > 1955 AND country IN [\"USA\", \"France\"]) OR (name LIKE 'S%' AND LIKE '%St%');"
   ]
  },
  {
   "cell_type": "code",
   "execution_count": 35,
   "metadata": {
    "collapsed": false
   },
   "outputs": [
    {
     "data": {
      "text/plain": [
       "   | total  | AVG(movie.duration_min)\n",
       "---+--------+-------------------------\n",
       " 1 | 1632.9 |           134.333333333"
      ]
     },
     "execution_count": 35,
     "metadata": {},
     "output_type": "execute_result"
    }
   ],
   "source": [
    "# Calculate sum of total box office and the duration average value of \"The Matrix\" trilogy:\n",
    "graph.cypher.execute(\"\"\"\n",
    "    MATCH (movie:Movie)\n",
    "    WHERE movie.title STARTS WITH 'The Matrix'\n",
    "    RETURN SUM(movie.box_office_Mdol) AS total, AVG(movie.duration_min)\n",
    "\"\"\")\n",
    "# Analogy with SQL:\n",
    "# SELECT SUM(box_office_Mdol), AVG(duration_min) FROM movie \n",
    "# WHERE title LIKE 'The Matrix%';"
   ]
  },
  {
   "cell_type": "code",
   "execution_count": 36,
   "metadata": {
    "collapsed": false
   },
   "outputs": [
    {
     "data": {
      "text/plain": [
       "   | actor.name | movie.title   \n",
       "---+------------+----------------\n",
       " 1 | Tom Hanks  | The Green Mile\n",
       " 2 | Tom Hanks  | Forrest Gump  "
      ]
     },
     "execution_count": 36,
     "metadata": {},
     "output_type": "execute_result"
    }
   ],
   "source": [
    "# Find all movies, which Tom Hanks was acted in\n",
    "graph.cypher.execute(\"\"\"\n",
    "    MATCH (movie:Movie)<-[:ACTED_IN]-(actor:Person { name: \"Tom Hanks\" })\n",
    "    RETURN actor.name, movie.title\n",
    "\"\"\")"
   ]
  },
  {
   "cell_type": "code",
   "execution_count": 37,
   "metadata": {
    "collapsed": false
   },
   "outputs": [
    {
     "data": {
      "text/plain": [
       "   | movie.title            | COUNT(*)\n",
       "---+------------------------+----------\n",
       " 1 | The Matrix Revolutions |        3\n",
       " 2 | The Matrix Reloaded    |        3"
      ]
     },
     "execution_count": 37,
     "metadata": {},
     "output_type": "execute_result"
    }
   ],
   "source": [
    "# All other movies that actors in “The Matrix” acted in ordered by occurrence:\n",
    "graph.cypher.execute(\"\"\"\n",
    "    MATCH (:Movie { title: \"The Matrix\" })<-[:ACTED_IN]-(actor)-[:ACTED_IN]->(movie)\n",
    "    RETURN movie.title, COUNT(*)\n",
    "    ORDER BY COUNT(*) DESC\n",
    "\"\"\")"
   ]
  },
  {
   "cell_type": "markdown",
   "metadata": {},
   "source": [
    "Pay attention how we can filter movies without `WHERE` clause and only determining additionally some properties."
   ]
  },
  {
   "cell_type": "code",
   "execution_count": 38,
   "metadata": {
    "collapsed": false
   },
   "outputs": [
    {
     "data": {
      "text/plain": [
       "   | movie.title            | COLLECT(actor.name)                                           | count\n",
       "---+------------------------+---------------------------------------------------------------+-------\n",
       " 1 | The Matrix Revolutions | [u'Keanu Reeves', u'Laurence Fishburne', u'Carrie-Anne Moss'] |     3\n",
       " 2 | The Matrix Reloaded    | [u'Keanu Reeves', u'Laurence Fishburne', u'Carrie-Anne Moss'] |     3"
      ]
     },
     "execution_count": 38,
     "metadata": {},
     "output_type": "execute_result"
    }
   ],
   "source": [
    "# Let’s see who acted in each of these movies:\n",
    "graph.cypher.execute(\"\"\"\n",
    "    MATCH (:Movie { title: \"The Matrix\" })<-[:ACTED_IN]-(actor)-[:ACTED_IN]->(movie)\n",
    "    RETURN movie.title, COLLECT(actor.name), COUNT(*) AS count\n",
    "    ORDER BY COUNT(*) DESC\n",
    "\"\"\")"
   ]
  },
  {
   "cell_type": "code",
   "execution_count": 39,
   "metadata": {
    "collapsed": false
   },
   "outputs": [
    {
     "data": {
      "text/plain": [
       "   | actor.name         | COLLECT(DISTINCT colleague.name)            \n",
       "---+--------------------+----------------------------------------------\n",
       " 1 | Carrie-Anne Moss   | [u'Keanu Reeves', u'Laurence Fishburne']    \n",
       " 2 | Laurence Fishburne | [u'Keanu Reeves', u'Carrie-Anne Moss']      \n",
       " 3 | Keanu Reeves       | [u'Carrie-Anne Moss', u'Laurence Fishburne']"
      ]
     },
     "execution_count": 39,
     "metadata": {},
     "output_type": "execute_result"
    }
   ],
   "source": [
    "# What about co-acting, that is actors that acted together:\n",
    "graph.cypher.execute(\"\"\"\n",
    "    MATCH (:Movie { title: \"The Matrix\" })<-[:ACTED_IN]-(actor)-[:ACTED_IN]->(movie)<-[:ACTED_IN]-(colleague)\n",
    "    RETURN actor.name, COLLECT(DISTINCT colleague.name)\n",
    "\"\"\")"
   ]
  },
  {
   "cell_type": "markdown",
   "metadata": {},
   "source": [
    "Let's list some of the important and frequently used functions:\n",
    "\n",
    "**String functions:**\n",
    "\n",
    "* `UPPER` - it is used to change all letters into upper case letters;\n",
    "* `LOWER` - it is used to change all letters into lower case letters;\n",
    "* `SUBSTRING` - it is used to get substring of a given string;\n",
    "* `REPLACE`\t- it is used to replace a substring with give substring of a string;\n",
    "* `LENGTH(string)` - it returns the length of a string;\n",
    "* `TRIM` - it returns the original string with whitespace removed from both sides;\n",
    "* `SPLIT(original, splitPattern)` - it returns the sequence of strings witch are delimited by split patterns.\n",
    "* `REVERSE` - it returns the original string reversed.\n",
    "\n",
    "**Relationship functions:**\n",
    "\n",
    "* `STARTNODE` - it is used to know the Start Node of a Relationship;\n",
    "* `ENDNODE` - it is used to know the End Node of a Relationship;\n",
    "* `ID` - it is used to know the `ID` of a Relationship;\n",
    "* `TYPE` -it is used to know the `TYPE` of a Relationship in string representation.\n",
    "\n",
    "**Aggregation functions:**\n",
    "\n",
    "* `COUNT` - it returns the number of rows returned by `MATCH` command;\n",
    "* `MAX` - it returns the maximum value from a set of rows returned by `MATCH` command;\n",
    "* `MIN` - it returns the minimum value from a set of rows returned by `MATCH` command;\n",
    "* `SUM` - it returns the summation value of all rows returned by `MATCH` command;\n",
    "* `AVG` - it returns the average value of all rows returned by `MATCH` command;\n",
    "* `COLLECT` - it collects all the values into a list. It will ignore `NULL`s;\n",
    "* `DISTINCT` - it removes duplicates from the values.\n",
    "\n",
    "**Predicates:**\n",
    "\n",
    "* `ALL` - it tests whether a predicate holds for all element of this collection collection;\n",
    "* `ANY` - it tests whether a predicate holds for at least one element in the collection;\n",
    "* `EXISTS` - it returns true if a match for the pattern exists in the graph, or the property exists in the node, relationship or map.\n",
    "\n",
    "**Collection functions:**\n",
    "\n",
    "* `NODES` - it returns all nodes in a path;\n",
    "* `RELATIONSHIPS` - it returns all relationships in a path;\n",
    "* `LABELS` - it returns a collection of string representations for the labels attached to a node;\n",
    "* `KEYS` - it returns a collection of string representations for the property names of a node, relationship, or map;\n",
    "* `RANGE(start, end [, step])` - it returns numerical values in a range with a non-zero step value step;\n",
    "* `HEAD` - it returns the first element in a collection;\n",
    "* `LAST` - it returns the last element in a collection."
   ]
  },
  {
   "cell_type": "code",
   "execution_count": 40,
   "metadata": {
    "collapsed": false
   },
   "outputs": [
    {
     "data": {
      "text/plain": [
       "   | STARTNODE(movie)                                                | length\n",
       "---+-----------------------------------------------------------------+--------\n",
       " 1 | (n37:Person {born:1952,country:\"USA\",name:\"Robert Zemeckis\"})   |     15\n",
       " 2 | (n40:Person {born:1959,country:\"France\",name:\"Frank Darabont\"}) |     14"
      ]
     },
     "execution_count": 40,
     "metadata": {},
     "output_type": "execute_result"
    }
   ],
   "source": [
    "# Display the length of director's name \n",
    "graph.cypher.execute(\"\"\"\n",
    "    MATCH (a)-[movie:DIRECTED]->(b) \n",
    "    RETURN STARTNODE(movie), LENGTH(STARTNODE(movie).name) AS length\n",
    "\"\"\")"
   ]
  },
  {
   "cell_type": "code",
   "execution_count": 41,
   "metadata": {
    "collapsed": false
   },
   "outputs": [
    {
     "data": {
      "text/plain": [
       "   | title                  | director_is_known\n",
       "---+------------------------+-------------------\n",
       " 1 | Forrest Gump           |              True\n",
       " 2 | The Green Mile         |              True\n",
       " 3 | Inseption              |             False\n",
       " 4 | The Matrix             |             False\n",
       " 5 | The Matrix Reloaded    |             False\n",
       " 6 | The Matrix Revolutions |             False"
      ]
     },
     "execution_count": 41,
     "metadata": {},
     "output_type": "execute_result"
    }
   ],
   "source": [
    "# Check whether we set the director for all movies\n",
    "graph.cypher.execute(\"\"\"\n",
    "    MATCH (a:Movie)\n",
    "    RETURN a.title AS title, EXISTS((a)<-[:DIRECTED]-()) AS director_is_known\n",
    "\"\"\")   "
   ]
  },
  {
   "cell_type": "code",
   "execution_count": 42,
   "metadata": {
    "collapsed": false
   },
   "outputs": [
    {
     "data": {
      "text/plain": [
       "   | REVERSE(a.title)       | HEAD(KEYS(a))   | LABELS(a) \n",
       "---+------------------------+-----------------+------------\n",
       " 1 | eliM neerG ehT         | box_office_Mdol | [u'Movie']\n",
       " 2 | xirtaM ehT             | box_office_Mdol | [u'Movie']\n",
       " 3 | dedaoleR xirtaM ehT    | title           | [u'Movie']\n",
       " 4 | snoituloveR xirtaM ehT | title           | [u'Movie']"
      ]
     },
     "execution_count": 42,
     "metadata": {},
     "output_type": "execute_result"
    }
   ],
   "source": [
    "# Find all movie the title of which contains \"the\" and which was released between 1999 and 2005 \n",
    "# display reverse its title, the first element in property list and label name \n",
    "graph.cypher.execute(\"\"\"\n",
    "    MATCH (a:Movie)\n",
    "    WHERE a.released IN RANGE(1999, 2005) AND ANY (x IN SPLIT(a.title, ' ') WHERE LOWER(x) = \"the\")\n",
    "    RETURN REVERSE(a.title), HEAD(KEYS(a)), LABELS(a)\n",
    "\"\"\")       "
   ]
  },
  {
   "cell_type": "code",
   "execution_count": 43,
   "metadata": {
    "collapsed": false
   },
   "outputs": [
    {
     "data": {
      "text/plain": [
       "   | REVERSE(a.title)       | HEAD(KEYS(a))   | LABELS(a) \n",
       "---+------------------------+-----------------+------------\n",
       " 1 | eliM neerG ehT         | box_office_Mdol | [u'Movie']\n",
       " 2 | xirtaM ehT             | box_office_Mdol | [u'Movie']\n",
       " 3 | dedaoleR xirtaM ehT    | title           | [u'Movie']\n",
       " 4 | snoituloveR xirtaM ehT | title           | [u'Movie']"
      ]
     },
     "execution_count": 43,
     "metadata": {},
     "output_type": "execute_result"
    }
   ],
   "source": [
    "graph.cypher.execute(\"\"\"\n",
    "    MATCH (a:Movie)\n",
    "    WHERE a.released IN RANGE(1999, 2005) AND a.title CONTAINS \"The\"\n",
    "    RETURN REVERSE(a.title), HEAD(KEYS(a)), LABELS(a)\n",
    "\"\"\") "
   ]
  },
  {
   "cell_type": "markdown",
   "metadata": {},
   "source": [
    "> ### Exercise 2.2:\n",
    "\n",
    "> Caclulate the average age of those actors/directors who was born not in USA. Save result table into variable  `result` in  the format:<br>\n",
    "<pre>   | avg_born     \n",
    "---+---------------\n",
    "   1 | .............</pre>"
   ]
  },
  {
   "cell_type": "code",
   "execution_count": 44,
   "metadata": {
    "collapsed": false
   },
   "outputs": [
    {
     "data": {
      "text/plain": [
       "   | avg_born     \n",
       "---+---------------\n",
       " 1 | 54.4285714286"
      ]
     },
     "execution_count": 44,
     "metadata": {},
     "output_type": "execute_result"
    }
   ],
   "source": [
    "# Update database as it we made it before\n",
    "#graph.cypher.execute(\"MATCH (n) OPTIONAL MATCH (n)-[r]-() DELETE n,r\")\n",
    "#graph.cypher.execute(Test.resetDatabaseRecords())\n",
    "\n",
    "# type your code here\n",
    "\n",
    "result = graph.cypher.execute(\"\"\"\n",
    "MATCH (a:Person)-[r]->()\n",
    "\n",
    "WHERE a.country <> \"USA\" AND TYPE(r) IN [\"ACTED_IN\",\"DIRECTED\"] \n",
    "RETURN 2019-AVG(a.born) AS avg_born\n",
    "\"\"\")\n",
    "#result1 = graph.cypher.execute(\"MATCH (n) RETURN n\")\n",
    "result"
   ]
  },
  {
   "cell_type": "code",
   "execution_count": 45,
   "metadata": {
    "collapsed": false
   },
   "outputs": [
    {
     "name": "stdout",
     "output_type": "stream",
     "text": [
      "1 test failed. Incorrect query\n"
     ]
    }
   ],
   "source": [
    "Test.assertEqualsHashed(result, 'a4d3b88400831da106768af5cf51a06fa47bd0e7', 'Incorrect query', \"Exercise 2.2 is successful\")"
   ]
  },
  {
   "cell_type": "markdown",
   "metadata": {},
   "source": [
    "> ### Exercise 2.3:\n",
    "\n",
    "> Display how many persons from USA are in each relationship type. Save result table into variable  `result` in the format:<br>\n",
    "<pre>   | relationship | count\n",
    "---+--------------+-------\n",
    "   1 |............. |.......</pre>"
   ]
  },
  {
   "cell_type": "code",
   "execution_count": 46,
   "metadata": {
    "collapsed": false
   },
   "outputs": [
    {
     "data": {
      "text/plain": [
       "   | relationship | count\n",
       "---+--------------+-------\n",
       " 1 | ACTED_IN     |     6\n",
       " 2 | DIRECTED     |     1"
      ]
     },
     "execution_count": 46,
     "metadata": {},
     "output_type": "execute_result"
    }
   ],
   "source": [
    "# type your code here\n",
    "\n",
    "result = graph.cypher.execute(\"\"\"\n",
    "MATCH (n:Person)-[r]->()\n",
    "WHERE n.country <> \"USA\"\n",
    "RETURN TYPE(r) AS relationship, COUNT(*) AS count\n",
    "\"\"\")\n",
    "result"
   ]
  },
  {
   "cell_type": "code",
   "execution_count": 47,
   "metadata": {
    "collapsed": false
   },
   "outputs": [
    {
     "name": "stdout",
     "output_type": "stream",
     "text": [
      "1 test passed. Exercise 2.3 is successful\n"
     ]
    }
   ],
   "source": [
    "Test.assertEqualsHashed(result, 'f0a17d93f72cfdcfd00458b82e8b7c6101a6b9a2', 'Incorrect query', \"Exercise 2.3 is successful\")"
   ]
  },
  {
   "cell_type": "markdown",
   "metadata": {},
   "source": [
    "> ### Exercise 2.4:\n",
    "\n",
    "> Find the movie with the longest title and display the list of all its actors (using `COLLECT` function) and how old was the youngest its actor when the movie was released. Save result table into variable  `result` in the format:<br>\n",
    "<pre>   | title                  | actors                | age\n",
    "---+------------------------+-----------------------+-----\n",
    " 1 | ...................... | ..................... | ....</pre>"
   ]
  },
  {
   "cell_type": "code",
   "execution_count": 48,
   "metadata": {
    "collapsed": false
   },
   "outputs": [
    {
     "data": {
      "text/plain": [
       "   | title                  | actors                                                        | age\n",
       "---+------------------------+---------------------------------------------------------------+-----\n",
       " 1 | The Matrix Revolutions | [u'Keanu Reeves', u'Carrie-Anne Moss', u'Laurence Fishburne'] |  36"
      ]
     },
     "execution_count": 48,
     "metadata": {},
     "output_type": "execute_result"
    }
   ],
   "source": [
    "# type your code here\n",
    "\n",
    "result = graph.cypher.execute(\"\"\"\n",
    "    MATCH (:Movie { title: \"The Matrix Reloaded\" })<-[:ACTED_IN]-(actor)-[:ACTED_IN]->(movie)\n",
    "    RETURN movie.title AS title, COLLECT(actor.name) AS actors, movie.released - 1967 AS age\n",
    "    ORDER BY LENGTH(movie.title) DESC\n",
    "    LIMIT 1\n",
    "\"\"\")\n",
    "result"
   ]
  },
  {
   "cell_type": "code",
   "execution_count": 49,
   "metadata": {
    "collapsed": false
   },
   "outputs": [
    {
     "name": "stdout",
     "output_type": "stream",
     "text": [
      "1 test failed. Incorrect query\n"
     ]
    }
   ],
   "source": [
    "Test.assertEqualsHashed(result, 'abbf2d95274882bc11c3979c3b303187326724a9', 'Incorrect query', \"Exercise 2.4 is successful\")"
   ]
  },
  {
   "cell_type": "markdown",
   "metadata": {
    "collapsed": true
   },
   "source": [
    "### `DELETE` and `REMOVE` clauses:\n",
    "\n",
    "Neo4j CQL `DELETE` clause is used to delete a Node, a Node and associated Nodes and Relationships.\n",
    "\n",
    "_**Basic syntax**_:\n",
    "    \n",
    "    MATCH (<node_name>:<label_name>)\n",
    "    DELETE <node_name_list>\n",
    "    \n",
    "_**Analogy with SQL**_:\n",
    "\n",
    "    DELETE FROM <table_name>\n",
    "    WHERE <some_column> = <some_value>;\n",
    "\n",
    "Neo4j CQL `REMOVE` command is used to remove labels and properties of a Node or a Relationship\n",
    "\n",
    "_**Basic syntax**_:\n",
    "\n",
    "    MATCH (<node_name>:<label_name>)\n",
    "    REMOVE <node_name>.<property_1_name>, ..., <node_name>.<property_N_name> \n",
    "    \n",
    "_**Analogy with SQL**_:\n",
    "\n",
    "    ALTER TABLE <table_name>\n",
    "    DROP COLUMN <column_name>;"
   ]
  },
  {
   "cell_type": "code",
   "execution_count": 50,
   "metadata": {
    "collapsed": false
   },
   "outputs": [
    {
     "data": {
      "text/plain": [
       "   | a                                                               \n",
       "---+------------------------------------------------------------------\n",
       " 1 | (n42:Person {born:1946,country:\"USA\",name:\"Sylvester Stallone\"})"
      ]
     },
     "execution_count": 50,
     "metadata": {},
     "output_type": "execute_result"
    }
   ],
   "source": [
    "# Look at the single Person Node (without any connection)\n",
    "graph.cypher.execute(\"\"\"\n",
    "    MATCH (a:Person) \n",
    "    WHERE NOT (a)-[]->()\n",
    "    RETURN a\n",
    "\"\"\")"
   ]
  },
  {
   "cell_type": "code",
   "execution_count": 51,
   "metadata": {
    "collapsed": false
   },
   "outputs": [
    {
     "data": {
      "text/plain": [
       "   | a.name             | a.born | a.country | labels(a)  \n",
       "---+--------------------+--------+-----------+-------------\n",
       " 1 | Sylvester Stallone |        | USA       | [u'Person']"
      ]
     },
     "execution_count": 51,
     "metadata": {},
     "output_type": "execute_result"
    }
   ],
   "source": [
    "# Remove *born* property\n",
    "graph.cypher.execute(\"\"\"\n",
    "    MATCH (a:Person) \n",
    "    WHERE NOT (a)-[]->()\n",
    "    REMOVE a.born\n",
    "    RETURN a.name, a.born, a.country, labels(a)\n",
    "\"\"\")"
   ]
  },
  {
   "cell_type": "code",
   "execution_count": 52,
   "metadata": {
    "collapsed": false
   },
   "outputs": [
    {
     "data": {
      "text/plain": [
       "   | a.name             | a.born | a.country | labels(a)\n",
       "---+--------------------+--------+-----------+-----------\n",
       " 1 | Sylvester Stallone |        | USA       | []       "
      ]
     },
     "execution_count": 52,
     "metadata": {},
     "output_type": "execute_result"
    }
   ],
   "source": [
    "# Remove label\n",
    "graph.cypher.execute(\"\"\"\n",
    "    MATCH (a:Person) \n",
    "    WHERE NOT (a)-[]->()\n",
    "    REMOVE a:Person\n",
    "    RETURN a.name, a.born, a.country, labels(a)\n",
    "\"\"\")"
   ]
  },
  {
   "cell_type": "code",
   "execution_count": 53,
   "metadata": {
    "collapsed": false
   },
   "outputs": [
    {
     "data": {
      "text/plain": []
     },
     "execution_count": 53,
     "metadata": {},
     "output_type": "execute_result"
    }
   ],
   "source": [
    "# Delete the Node for Sylvester Stallone\n",
    "graph.cypher.execute(\"\"\"\n",
    "    MATCH (a:Person) \n",
    "    WHERE NOT (a)-[]->()\n",
    "    DELETE a\n",
    "\"\"\")"
   ]
  },
  {
   "cell_type": "code",
   "execution_count": 54,
   "metadata": {
    "collapsed": false
   },
   "outputs": [
    {
     "data": {
      "text/plain": [
       "  | a\n",
       "--+---"
      ]
     },
     "execution_count": 54,
     "metadata": {},
     "output_type": "execute_result"
    }
   ],
   "source": [
    "# See if  the Node for Sylvester Stallone remained\n",
    "graph.cypher.execute(\"\"\"\n",
    "    MATCH (a:Person) \n",
    "    WHERE NOT (a)-[]->()\n",
    "    RETURN a\n",
    "\"\"\")"
   ]
  },
  {
   "cell_type": "markdown",
   "metadata": {},
   "source": [
    "### `SET` clause for adding of new properties:\n",
    "\n",
    "Neo4j CQL has provided SET clause to add new properties to existing Node or Relationship, add or update Properties values.\n",
    "\n",
    "_**Basic syntax**_:\n",
    "    \n",
    "    MATCH (<node_name>:<label_name>)\n",
    "    SET <node_label_name>.<property_1_name>, ..., <node_label_name>.<property_N_name>\n",
    "   \n",
    "_**Analogy with SQL**_:\n",
    "    \n",
    "    ALTER TABLE <table_name>\n",
    "    ADD <column_name> <datatype>"
   ]
  },
  {
   "cell_type": "code",
   "execution_count": 55,
   "metadata": {
    "collapsed": false
   },
   "outputs": [
    {
     "data": {
      "text/plain": [
       "   | a                                                                                                                              \n",
       "---+---------------------------------------------------------------------------------------------------------------------------------\n",
       " 1 | (n44:Movie {IMDb_rating:9,box_office_Mdol:825.5,country:\"USA\",duration_min:148,lang:\"English\",released:2010,title:\"Inseption\"})\n",
       " 2 | (n45:Movie {IMDb_rating:9,box_office_Mdol:463.5,duration_min:136,released:1999,title:\"The Matrix\"})                            \n",
       " 3 | (n46:Movie {IMDb_rating:9,box_office_Mdol:742.1,duration_min:138,released:2003,title:\"The Matrix Reloaded\"})                   \n",
       " 4 | (n47:Movie {IMDb_rating:9,box_office_Mdol:427.3,duration_min:129,released:2003,title:\"The Matrix Revolutions\"})                "
      ]
     },
     "execution_count": 55,
     "metadata": {},
     "output_type": "execute_result"
    }
   ],
   "source": [
    "# Let's add new property *IMDb_rating* to all movies; default value is 9\n",
    "graph.cypher.execute(\"\"\"\n",
    "    MATCH (a:Movie) \n",
    "    SET a.IMDb_rating = 9\n",
    "    RETURN a\n",
    "    SKIP 2\n",
    "\"\"\")\n",
    "# SKIP command allows missing N the first rows"
   ]
  },
  {
   "cell_type": "code",
   "execution_count": 56,
   "metadata": {
    "collapsed": false
   },
   "outputs": [
    {
     "data": {
      "text/plain": [
       "   | a.title   | a.IMDb_rating\n",
       "---+-----------+---------------\n",
       " 1 | Inseption |           8.7"
      ]
     },
     "execution_count": 56,
     "metadata": {},
     "output_type": "execute_result"
    }
   ],
   "source": [
    "# Let's update property *IMDb_rating* of 'Inseption'\n",
    "graph.cypher.execute(\"\"\"\n",
    "    MATCH (a:Movie {title: 'Inseption'})\n",
    "    SET a.IMDb_rating = 8.7\n",
    "    RETURN a.title, a.IMDb_rating\n",
    "\"\"\")"
   ]
  },
  {
   "cell_type": "markdown",
   "metadata": {},
   "source": [
    "### `MERGE` clause (`CREATE + MATCH` together):\n",
    "\n",
    "Neo4j CQL `MERGE` command is used to create nodes, relationships and properties and to retrieve data from database. `MERGE` command is a combination of `CREATE` command and `MATCH` command. `MERGE` command searches for given pattern in the graph, if it exists then it returns the results. If it does NOT exist in the graph, then it creates new node/relationship and returns the results.\n",
    "\n",
    "_**Basic syntax**_:\n",
    "    \n",
    "    MERGE (<node_name>:<label_name> { <property_1_name>:<property_1_value>, ..., <property_N_name>:<property_N_value> })"
   ]
  },
  {
   "cell_type": "code",
   "execution_count": 57,
   "metadata": {
    "collapsed": false
   },
   "outputs": [
    {
     "data": {
      "text/plain": [
       "   | a                                   \n",
       "---+--------------------------------------\n",
       " 1 | (n51 {age:72,name:\"Robert De Niro\"})"
      ]
     },
     "execution_count": 57,
     "metadata": {},
     "output_type": "execute_result"
    }
   ],
   "source": [
    "# Create a new Node\n",
    "graph.cypher.execute(\"\"\"\n",
    "    MERGE (a { name:'Robert De Niro', age:72 })\n",
    "    RETURN a\n",
    "\"\"\")"
   ]
  },
  {
   "cell_type": "markdown",
   "metadata": {},
   "source": [
    "### `UNION` clause:\n",
    "\n",
    "It combines and returns common rows from two set of results into a single set of results. It does not return duplicate rows from two nodes. Result column types and names from two set of results have to match that means column names should be same and column's data types should be same.\n",
    "\n",
    "\n",
    "_**Basic syntax**_:\n",
    "    \n",
    "    <MATCH Command_1>\n",
    "        UNION\n",
    "    <MATCH Command_2>\n",
    "   \n",
    "_**Analogy with SQL**_:\n",
    "    \n",
    "    SELECT <selection_1>\n",
    "        UNION\n",
    "    SELECT <selection_2>;"
   ]
  },
  {
   "cell_type": "code",
   "execution_count": 58,
   "metadata": {
    "collapsed": false
   },
   "outputs": [
    {
     "data": {
      "text/plain": [
       "    | name                  \n",
       "----+------------------------\n",
       "  1 | Tom Hanks             \n",
       "  2 | Gary Sinise           \n",
       "  3 | Robert Zemeckis       \n",
       "  4 | Michael Clarke Duncan \n",
       "  5 | Frank Darabont        \n",
       "  6 | Stephen King          \n",
       "  7 | Leonardo DiCaprio     \n",
       "  8 | Keanu Reeves          \n",
       "  9 | Laurence Fishburne    \n",
       " 10 | Carrie-Anne Moss      \n",
       " 11 | Forrest Gump          \n",
       " 12 | The Green Mile        \n",
       " 13 | Inseption             \n",
       " 14 | The Matrix            \n",
       " 15 | The Matrix Reloaded   \n",
       " 16 | The Matrix Revolutions"
      ]
     },
     "execution_count": 58,
     "metadata": {},
     "output_type": "execute_result"
    }
   ],
   "source": [
    "graph.cypher.execute(\"\"\"\n",
    "    MATCH (n:Person)\n",
    "    RETURN n.name AS name\n",
    "    UNION ALL MATCH (n:Movie)\n",
    "    RETURN n.title AS name\n",
    "\"\"\")    "
   ]
  },
  {
   "cell_type": "markdown",
   "metadata": {},
   "source": [
    ">### Exercise 2.5:\n",
    "\n",
    "> One of the ways of creation of a new Neo4j database is the following:\n",
    "> Before starting Neo4j community window click the browse option and choose an other directory or create a new one. After that you should to connect to this directory.\n",
    "> <img src=\"images/new_db_1.jpg\">\n",
    "> <img src=\"images/new_db_2.jpg\">\n",
    "\n",
    "> **1\\.** Create a new Neo4j database and call it as \"imdb\". We will collect data scrapped earlier from IMDB web site. Connect to this database. Be sure that this database doesn't contain any records. It's important to evaluate correctly your work.\n",
    "\n",
    "> **2\\.** Read \"imdb_movies_250.json\" file to the `data` variable, that contains 250 records of scrapped data about the most popular movies, its main actors and director(s) that were obtained in the way considered in the previous lesson.\n",
    "\n",
    "> **3\\.** It is very easy to save JSON data to Neo4j database. The following code demonstrates how it can be done for the case of \"imdb_movies_250.json\" file (Please, look at the this JSON file content and available fields before working with the following code).\n",
    "\n",
    "> <span style=\"margin-left:4.5em\"></span><code style=\"color: darkblue\"># Create a new \\`py2neo\\` graph object</code><br></br>\n",
    "> <span style=\"margin-left:4.5em\"></span>`graph = Graph()`<br></br>\n",
    "\n",
    "> <span style=\"margin-left:4.5em\"></span><code style=\"color: darkblue\"># To create a constraint that makes sure that your database will never contain  more</code><br></br>\n",
    "> <span style=\"margin-left:4.5em\"></span><code style=\"color: darkblue\"># than one node with a specific label and one property value, use the IS UNIQUE syntax.</code><br></br>\n",
    "> <span style=\"margin-left:4.5em\"></span><code style=\"color: darkblue\"># The following construction allows define a new label class with one unique property</code><br></br>\n",
    "> <span style=\"margin-left:4.5em\"></span>`graph.cypher.execute(\"CREATE CONSTRAINT ON (m:Movie) ASSERT m.title IS UNIQUE;\")`<br></br>\n",
    "> <span style=\"margin-left:4.5em\"></span>`graph.cypher.execute(\"CREATE CONSTRAINT ON (a:Actor) ASSERT a.name IS UNIQUE;\")`<br></br>\n",
    "> <span style=\"margin-left:4.5em\"></span>`graph.cypher.execute(\"CREATE CONSTRAINT ON (d:Director) ASSERT d.name IS UNIQUE;\")`<br></br>\n",
    "\n",
    "> <span style=\"margin-left:4.5em\"></span>`for row in data:`<br></br>\n",
    "> <span style=\"margin-left:6.5em\"></span>`actors = row[\"actors\"]`<code style=\"margin-left:5.8em; color: darkblue\"># Collect all actors</code><br></br>\n",
    "> <span style=\"margin-left:6.5em\"></span>`directors = row[\"directors\"]`<code style=\"margin-left:2.5em; color: darkblue\"># Collect all directors</code><br></br>\n",
    "\n",
    "> <span style=\"margin-left:6.5em\"></span><code style=\"color: darkblue\"># Add a new record to \"Movie\" label with the unique \"title\" value using \\`merge_one()\\` function</code><br></br>\n",
    "> <span style=\"margin-left:6.5em\"></span>`movie = graph.merge_one(\"Movie\", \"title\", row[\"title\"])`<br></br>\n",
    "> <span style=\"margin-left:6.5em\"></span><code style=\"color: darkblue\"># All other fields are movie's properties</code><br></br>\n",
    "> <span style=\"margin-left:6.5em\"></span>`movie.properties[\"description\"] = row[\"description\"]`<br></br>\n",
    "> <span style=\"margin-left:6.5em\"></span>`movie.properties[\"genres\"]      = row[\"genres\"]`<br></br>\n",
    "> <span style=\"margin-left:6.5em\"></span>`movie.properties[\"rating\"]      = row[\"rating\"]`<br></br>\n",
    "> <span style=\"margin-left:6.5em\"></span>`movie.properties[\"released\"]    = row[\"released\"]`<br></br>\n",
    "> <span style=\"margin-left:6.5em\"></span>`movie.properties[\"runtime\"]     = row[\"runtime\"]`<br></br>\n",
    "> <span style=\"margin-left:6.5em\"></span><code style=\"color: darkblue\"># Save properties</code><br></br>\n",
    "> <span style=\"margin-left:6.5em\"></span>`movie.push()`<br></br>\n",
    "\n",
    "> <span style=\"margin-left:6.5em\"></span><code style=\"color: darkblue\"># Add data about actor(s) to the database as before</code><br></br>\n",
    "> <span style=\"margin-left:6.5em\"></span>`for person in actors:`<br></br>\n",
    "> <span style=\"margin-left:8.5em\"></span>`actor = graph.merge_one(\"Actor\", \"name\", person[\"name\"])`<br></br>\n",
    "> <span style=\"margin-left:8.5em\"></span>`actor.properties[\"born\"] = person[\"born\"]`<br></br>\n",
    "> <span style=\"margin-left:8.5em\"></span>`actor.properties[\"city\"] = person[\"city\"]`<br></br>\n",
    "> <span style=\"margin-left:8.5em\"></span>`actor.properties[\"country\"] = person[\"country\"]`<br></br>\n",
    "> <span style=\"margin-left:8.5em\"></span>`actor.properties[\"died\"] = person[\"died\"]`<br></br>\n",
    "> <span style=\"margin-left:8.5em\"></span>`actor.properties[\"image_url\"] = person[\"image_url\"]`<br></br>\n",
    "> <span style=\"margin-left:8.5em\"></span>`actor.push()`<br></br>\n",
    "       \n",
    "> <span style=\"margin-left:8.5em\"></span><code style=\"color: darkblue\"># Define a relationship between the actor and the movie</code><br></br>\n",
    "> <span style=\"margin-left:8.5em\"></span>`graph.create_unique(Relationship(actor, \"ACTED_IN\", movie))`<br></br>\n",
    "\n",
    "> <span style=\"margin-left:6.5em\"></span><code style=\"color: darkblue\"># Add data about director(s) to the database as before</code><br></br>\n",
    "> <span style=\"margin-left:6.5em\"></span>`for person in directors:`<br></br>\n",
    "> <span style=\"margin-left:8.5em\"></span>`director = graph.merge_one(\"Director\", \"name\", person[\"name\"])`<br></br>\n",
    "> <span style=\"margin-left:8.5em\"></span>`director.properties[\"born\"] = person[\"born\"]`<br></br>\n",
    "> <span style=\"margin-left:8.5em\"></span>`director.properties[\"city\"] = person[\"city\"]`<br></br>\n",
    "> <span style=\"margin-left:8.5em\"></span>`director.properties[\"country\"] = person[\"country\"]`<br></br>\n",
    "> <span style=\"margin-left:8.5em\"></span>`director.properties[\"died\"] = person[\"died\"]`<br></br>\n",
    "> <span style=\"margin-left:8.5em\"></span>`director.properties[\"image_url\"] = person[\"image_url\"]`<br></br>\n",
    "> <span style=\"margin-left:8.5em\"></span>`director.push()`<br></br>\n",
    "        \n",
    "> <span style=\"margin-left:8.5em\"></span><code style=\"color: darkblue\"># Define a relationship between the director and the movie</code><br></br>\n",
    "> <span style=\"margin-left:8.5em\"></span>`graph.create_unique(Relationship(director, \"DIRECTED\", movie))`<br></br>\n",
    "\n",
    "> Another variant of convertion of JSON to Neo4j (it uses pure Cypher and works more faster then the first one)\n",
    "\n",
    "> <span style=\"margin-left:6.5em\"></span><code style=\"color: darkblue\"># Write the Cypher query</code><br></br>\n",
    "> <span style=\"margin-left:6.5em\"></span>`query = \"\"\"`<br></br>\n",
    "> <span style=\"margin-left:8.5em\"></span>`WITH {json} AS document`<br></br>\n",
    "> <span style=\"margin-left:8.5em\"></span>`UNWIND document.movies AS Movie`<br></br>\n",
    "> <span style=\"margin-left:8.5em\"></span>`UNWIND Movie.actors AS Actor`<br></br>\n",
    "> <span style=\"margin-left:8.5em\"></span>`UNWIND Movie.directors AS Director`<br></br>\n",
    "> <span style=\"margin-left:8.5em\"></span>`MERGE (m:Movie {`<br></br>\n",
    "> <span style=\"margin-left:14.5em\"></span>`title: Movie.title, genres: Movie.genres, rating: Movie.rating, `<br></br>\n",
    "> <span style=\"margin-left:14.5em\"></span>`description: Movie.description, released: Movie.released, runtime: Movie.runtime`<br></br>\n",
    "> <span style=\"margin-left:10.5em\"></span>`})`<br></br>\n",
    "> <span style=\"margin-left:8.5em\"></span>`MERGE (a:Actor {`<br></br>\n",
    "> <span style=\"margin-left:14.5em\"></span>`name: Actor.name, born: Actor.born, died: Actor.died, `<br></br>\n",
    "> <span style=\"margin-left:14.5em\"></span>`city: Actor.city, country: Actor.country, image_url: Actor.image_url`<br></br>\n",
    "> <span style=\"margin-left:10.5em\"></span>`})`<br></br>\n",
    "> <span style=\"margin-left:8.5em\"></span>`MERGE (d:Director {`<br></br>\n",
    "> <span style=\"margin-left:14.5em\"></span>`name: Director.name, born: Director.born, died: Director.died, `<br></br>\n",
    "> <span style=\"margin-left:14.5em\"></span>`city: Director.city, country: Director.country, image_url: Director.image_url`<br></br>\n",
    "> <span style=\"margin-left:10.5em\"></span>`})`<br></br>\n",
    "> <span style=\"margin-left:8.5em\"></span>`MERGE (a)-[:ACTED_IN]->(m)`<br></br>\n",
    "> <span style=\"margin-left:8.5em\"></span>`MERGE (d)-[:DIRECTED]->(m)`<br></br>\n",
    "> <span style=\"margin-left:6.5em\"></span>`\"\"\"`\n",
    "\n",
    "> <span style=\"margin-left:6.5em\"></span>`graph.cypher.execute(query, json=data)`\n",
    "\n",
    "> where [`WITH` clause](http://neo4j.com/docs/stable/query-with.html) allows query parts to be chained together, piping the results from one to be used as starting points or criteria in the next; the function [`UNWIND`](http://neo4j.com/docs/stable/query-unwind.html) expands a collection (the JSON file in our case) into a sequence of rows.\n",
    "\n",
    "> Use some above code to fill your database with data from \"imdb_movies_250.json\" file. \n",
    "\n",
    "> **4\\.** Display the total links and nodes amount. Save result into variable  `result4` in the format:<br>\n",
    "<pre>   | count\n",
    "---+--------------\n",
    " 1 |-links amount-\n",
    " 2 |-nodes amount-</pre>\n",
    " \n",
    "> **5\\.** Display nodes amount for each label category. Save result into variable `result5_nodes` in the format:<br>\n",
    "<pre>    | labels                   | nodes \n",
    "----+--------------------------+-------\n",
    "  1 | [u'Director']            |    51 </pre>\n",
    "  \n",
    "> <span style=\"margin-left:1em\"></span>Display also all links types and amount of relationships for each type. Write result to the `result5_links` variable in the format:\n",
    "<br>\n",
    "<pre>    | types      | links\n",
    "----+------------+-------\n",
    " 1  | ACTED_IN   |  540 </pre>\n",
    "  \n",
    "> **6\\.** Display in chronological order the list of movies (show only its title and released year) where Carrie Fisher was acted.  Save result into variable  `result6` in the format:<br>\n",
    "<pre>   | title                     | released\n",
    "---+---------------------------+----------\n",
    " 1 | Star Wars                 | 1977    </pre>\n",
    "  \n",
    "> **7\\.** Find the amount of all actors (unique!) in the database and amount of actors (also unique) that were acted in movies released after 1990 and with rating from 7 to 8 (including both boundaries). Save result into variable `result7` in the format:<br>\n",
    "<pre>   | count\n",
    "---+--------------------------------------------------------------------\n",
    " 1 |-amount of all actors-\n",
    " 2 |-amount of actors that were acted in movies released after 1990 ...-</pre>\n",
    " \n",
    "> **8\\.** Calculate how many actors were born in each country (miss null results). Sort them by country name. Save result into variable `result8` in the format:<br>\n",
    "<pre>   | actors_amount | country                                      \n",
    "---+---------------+-----------------------------------------------\n",
    " 1 |             1 |  Denmark                                     </pre>\n",
    "\n",
    "\n",
    "> **9\\.** Display all movies with at least two known directors.  Save result into variable `result9` in the format:<br>\n",
    "<pre>   | title          \n",
    "---+-----------------\n",
    ".. | ......</pre>\n",
    "\n",
    "> **10\\.** Display movies (call them as \"free movies\") that have no relationships with other movies, i.e. its actors were not acted in other movies from the database and there are also no movies with the director of a \"free movie\". \"Free movies\" look in the Neo4j browser like highlighted groups in this screen\n",
    "\n",
    "> <img src=\"images/free_movies.jpg\">\n",
    "><br>\n",
    "> Count also persons (actors and directors) for these movies and display results by movie duration in ascending order. Save result into the variable `result10` in the format:<br>\n",
    "<pre>   | title                | runtime | persons\n",
    "---+----------------------+---------+---------\n",
    " 1 | Life of Pi           |     127 |       4</pre>\n"
   ]
  },
  {
   "cell_type": "code",
   "execution_count": 75,
   "metadata": {
    "collapsed": false
   },
   "outputs": [
    {
     "name": "stdout",
     "output_type": "stream",
     "text": [
      "Connected successfully!!!\n"
     ]
    },
    {
     "data": {
      "text/plain": [
       "<Graph uri=u'http://localhost:7474/db/imdb/'>"
      ]
     },
     "execution_count": 75,
     "metadata": {},
     "output_type": "execute_result"
    }
   ],
   "source": [
    "# 1. Connection to a new database\n",
    "try:\n",
    "    graph = Graph('http://localhost:7474/db/imdb/')\n",
    "    print \"Connected successfully!!!\"\n",
    "except:\n",
    "    print \"Could not connect to Neo4j server\" \n",
    "graph\n",
    "# type your code here"
   ]
  },
  {
   "cell_type": "code",
   "execution_count": 69,
   "metadata": {
    "collapsed": true
   },
   "outputs": [
    {
     "ename": "TypeError",
     "evalue": "string indices must be integers, not str",
     "output_type": "error",
     "traceback": [
      "\u001b[1;31m---------------------------------------------------------------------------\u001b[0m",
      "\u001b[1;31mTypeError\u001b[0m                                 Traceback (most recent call last)",
      "\u001b[1;32m<ipython-input-69-251773dc664d>\u001b[0m in \u001b[0;36m<module>\u001b[1;34m()\u001b[0m\n\u001b[0;32m     10\u001b[0m \u001b[1;33m\u001b[0m\u001b[0m\n\u001b[0;32m     11\u001b[0m \u001b[1;32mfor\u001b[0m \u001b[0mrow\u001b[0m \u001b[1;32min\u001b[0m \u001b[0mdata\u001b[0m\u001b[1;33m:\u001b[0m\u001b[1;33m\u001b[0m\u001b[0m\n\u001b[1;32m---> 12\u001b[1;33m     \u001b[0mactors\u001b[0m \u001b[1;33m=\u001b[0m \u001b[0mrow\u001b[0m\u001b[1;33m[\u001b[0m\u001b[1;34m\"actors\"\u001b[0m\u001b[1;33m]\u001b[0m\u001b[1;31m# Collect all actors\u001b[0m\u001b[1;33m\u001b[0m\u001b[0m\n\u001b[0m\u001b[0;32m     13\u001b[0m     \u001b[0mdirectors\u001b[0m \u001b[1;33m=\u001b[0m \u001b[0mrow\u001b[0m\u001b[1;33m[\u001b[0m\u001b[1;34m\"directors\"\u001b[0m\u001b[1;33m]\u001b[0m\u001b[1;31m# Collect all directors\u001b[0m\u001b[1;33m\u001b[0m\u001b[0m\n\u001b[0;32m     14\u001b[0m \u001b[1;33m\u001b[0m\u001b[0m\n",
      "\u001b[1;31mTypeError\u001b[0m: string indices must be integers, not str"
     ]
    }
   ],
   "source": [
    "# Create a new `py2neo` graph object\n",
    "graph = Graph()\n",
    "\n",
    "# To create a constraint that makes sure that your database will never contain  more\n",
    "# than one node with a specific label and one property value, use the IS UNIQUE syntax.\n",
    "# The following construction allows define a new label class with one unique property\n",
    "graph.cypher.execute(\"CREATE CONSTRAINT ON (m:Movie) ASSERT m.title IS UNIQUE;\")\n",
    "graph.cypher.execute(\"CREATE CONSTRAINT ON (a:Actor) ASSERT a.name IS UNIQUE;\")\n",
    "graph.cypher.execute(\"CREATE CONSTRAINT ON (d:Director) ASSERT d.name IS UNIQUE;\")\n",
    "\n",
    "for row in data:\n",
    "    actors = row[\"actors\"]# Collect all actors\n",
    "    directors = row[\"directors\"]# Collect all directors\n",
    "\n",
    "# Add a new record to \"Movie\" label with the unique \"title\" value using `merge_one()` function\n",
    "movie = graph.merge_one(\"Movie\", \"title\", row[\"title\"])\n",
    "# All other fields are movie's properties\n",
    "movie.properties[\"description\"] = row[\"description\"]\n",
    "movie.properties[\"genres\"]      = row[\"genres\"]\n",
    "movie.properties[\"rating\"]      = row[\"rating\"]\n",
    "movie.properties[\"released\"]    = row[\"released\"]\n",
    "movie.properties[\"runtime\"]     = row[\"runtime\"]\n",
    "# Save properties\n",
    "movie.push()\n",
    "\n",
    "# Add data about actor(s) to the database as before\n",
    "for person in actors:\n",
    "    actor = graph.merge_one(\"Actor\", \"name\", person[\"name\"])\n",
    "    actor.properties[\"born\"] = person[\"born\"]\n",
    "    actor.properties[\"city\"] = person[\"city\"]\n",
    "    actor.properties[\"country\"] = person[\"country\"]\n",
    "    actor.properties[\"died\"] = person[\"died\"]\n",
    "    actor.properties[\"image_url\"] = person[\"image_url\"]\n",
    "    actor.push()\n",
    "\n",
    "# Define a relationship between the actor and the movie\n",
    "graph.create_unique(Relationship(actor, \"ACTED_IN\", movie))\n",
    "\n",
    "# Add data about director(s) to the database as before\n",
    "for person in directors:\n",
    "    director = graph.merge_one(\"Director\", \"name\", person[\"name\"])\n",
    "    director.properties[\"born\"] = person[\"born\"]\n",
    "    director.properties[\"city\"] = person[\"city\"]\n",
    "    director.properties[\"country\"] = person[\"country\"]\n",
    "    director.properties[\"died\"] = person[\"died\"]\n",
    "    director.properties[\"image_url\"] = person[\"image_url\"]\n",
    "    director.push()\n",
    "\n",
    "# Define a relationship between the director and the movie\n",
    "graph.create_unique(Relationship(director, \"DIRECTED\", movie))\n",
    "graph.open_browser()"
   ]
  },
  {
   "cell_type": "code",
   "execution_count": 79,
   "metadata": {
    "collapsed": false
   },
   "outputs": [],
   "source": [
    "# 2. Reading of the \"imdb_movies_250.json\" file\n",
    "import json\n",
    "# type your code here\n",
    "# Create a new `py2neo` graph object\n",
    "#graph = Graph()\n",
    "with open('data/imdb_movies_250.json') as f:\n",
    "    data = json.load(f)"
   ]
  },
  {
   "cell_type": "code",
   "execution_count": 80,
   "metadata": {
    "collapsed": false
   },
   "outputs": [
    {
     "data": {
      "text/plain": []
     },
     "execution_count": 80,
     "metadata": {},
     "output_type": "execute_result"
    }
   ],
   "source": [
    "# 3. Records insertion\n",
    "# Write the Cypher query\n",
    "query = \"\"\"\n",
    "WITH {json} AS document\n",
    "UNWIND document.movies AS Movie\n",
    "UNWIND Movie.actors AS Actor\n",
    "UNWIND Movie.directors AS Director\n",
    "MERGE (m:Movie {\n",
    "title: Movie.title, genres: Movie.genres, rating: Movie.rating,\n",
    "description: Movie.description, released: Movie.released, runtime: Movie.runtime\n",
    "})\n",
    "MERGE (a:Actor {\n",
    "name: Actor.name, born: Actor.born, died: Actor.died,\n",
    "city: Actor.city, country: Actor.country, image_url: Actor.image_url\n",
    "})\n",
    "MERGE (d:Director {\n",
    "name: Director.name, born: Director.born, died: Director.died,\n",
    "city: Director.city, country: Director.country, image_url: Director.image_url\n",
    "})\n",
    "MERGE (a)-[:ACTED_IN]->(m)\n",
    "MERGE (d)-[:DIRECTED]->(m)\n",
    "\"\"\"\n",
    "\n",
    "graph.cypher.execute(query, json=data)\n",
    "# type your code here"
   ]
  },
  {
   "cell_type": "code",
   "execution_count": 122,
   "metadata": {
    "collapsed": false
   },
   "outputs": [
    {
     "name": "stdout",
     "output_type": "stream",
     "text": [
      "Relationships amount:\n",
      "1016\n",
      "\n",
      "Relationships types:\n",
      "frozenset([u'DIRECTED', u'ACTED_IN'])\n",
      "\n",
      "Nodes amount:\n",
      "863\n"
     ]
    },
    {
     "data": {
      "text/plain": [
       "   | count\n",
       "---+-------\n",
       " 1 |  1016\n",
       " 2 |   863"
      ]
     },
     "execution_count": 122,
     "metadata": {},
     "output_type": "execute_result"
    }
   ],
   "source": [
    "# 4. Display the total links and nodes amount\n",
    "'''\n",
    "    MATCH (m)\n",
    "    RETURN COUNT(m) AS count\n",
    "    UNION ALL\n",
    "    MATCH ()-[r]->()\n",
    "    RETURN COUNT(r) AS count  \n",
    "'''\n",
    "# type your code here\n",
    "print \"Relationships amount:\"\n",
    "print graph.size\n",
    "\n",
    "print \"\\nRelationships types:\"\n",
    "print graph.relationship_types\n",
    "\n",
    "print \"\\nNodes amount:\"\n",
    "print graph.order\n",
    "result4 = graph.cypher.execute(\"\"\"\n",
    "    MATCH ()-[r]->()\n",
    "    RETURN COUNT(r) AS count\n",
    "    UNION ALL\n",
    "    MATCH (m)\n",
    "    RETURN COUNT(m) AS count   \n",
    "\"\"\")\n",
    "result4"
   ]
  },
  {
   "cell_type": "code",
   "execution_count": 120,
   "metadata": {
    "collapsed": false
   },
   "outputs": [
    {
     "name": "stdout",
     "output_type": "stream",
     "text": [
      "1 test failed. Incorrect query\n"
     ]
    }
   ],
   "source": [
    "Test.assertEqualsHashed(result4, 'b9b488e3ca66edde78732c2e195a2f17a370fa8e', 'Incorrect query', \"Exercise 2.5.1 is successful\")"
   ]
  },
  {
   "cell_type": "code",
   "execution_count": 191,
   "metadata": {
    "collapsed": false
   },
   "outputs": [
    {
     "name": "stdout",
     "output_type": "stream",
     "text": [
      "\n",
      "Existing Labels:\n",
      "frozenset([u'Director', u'Movie', u'Actor'])\n"
     ]
    },
    {
     "data": {
      "text/plain": [
       "   | labels        | nodes\n",
       "---+---------------+-------\n",
       " 1 | [u'Director'] |   163\n",
       " 2 | [u'Movie']    |   249\n",
       " 3 | [u'Actor']    |   451"
      ]
     },
     "execution_count": 191,
     "metadata": {},
     "output_type": "execute_result"
    }
   ],
   "source": [
    "# 5. Display nodes and links amount for each label category\n",
    "\n",
    "# type your code here\n",
    "print \"\\nExisting Labels:\"\n",
    "print graph.node_labels\n",
    "result5_nodes = graph.cypher.execute(\"\"\"\n",
    "    MATCH (m)\n",
    "    RETURN labels(m) AS labels, COUNT(m) AS nodes\n",
    "    ORDER BY nodes ASC\n",
    "\"\"\")\n",
    "result5_nodes"
   ]
  },
  {
   "cell_type": "code",
   "execution_count": 163,
   "metadata": {
    "collapsed": false
   },
   "outputs": [
    {
     "data": {
      "text/plain": [
       "   | types    | links\n",
       "---+----------+-------\n",
       " 1 | ACTED_IN |   745\n",
       " 2 | DIRECTED |   271"
      ]
     },
     "execution_count": 163,
     "metadata": {},
     "output_type": "execute_result"
    }
   ],
   "source": [
    "result5_links = graph.cypher.execute(\"\"\"\n",
    "    MATCH ()-[r]->()\n",
    "    RETURN TYPE(r) AS types, COUNT(*) AS links\n",
    "    ORDER BY links DESC\n",
    "\"\"\")\n",
    "result5_links"
   ]
  },
  {
   "cell_type": "code",
   "execution_count": 190,
   "metadata": {
    "collapsed": false
   },
   "outputs": [
    {
     "name": "stdout",
     "output_type": "stream",
     "text": [
      "1 test failed. Incorrect query\n",
      "1 test failed. Incorrect query\n"
     ]
    }
   ],
   "source": [
    "Test.assertEqualsHashed(result5_nodes, '51cd0c58f7ca6cbfa28f1ecd9d2699d048434c36', 'Incorrect query', \"Exercise 2.5.2 is successful\")\n",
    "Test.assertEqualsHashed(result5_links, '36b099937282bb26d8efca253a0ce8cdf04b753f', 'Incorrect query', \"Exercise 2.5.3 is successful\")"
   ]
  },
  {
   "cell_type": "code",
   "execution_count": 182,
   "metadata": {
    "collapsed": false
   },
   "outputs": [
    {
     "data": {
      "text/plain": [
       "   | title                                          | released\n",
       "---+------------------------------------------------+----------\n",
       " 1 | Star Wars                                      | 1977    \n",
       " 2 | Star Wars: Episode V - The Empire Strikes Back | 1980    \n",
       " 3 | Star Wars: Episode VI - Return of the Jedi     | 1983    "
      ]
     },
     "execution_count": 182,
     "metadata": {},
     "output_type": "execute_result"
    }
   ],
   "source": [
    "# 6. Display in chronological order the list of movies where Carrie Fisher was acted\n",
    "\n",
    "# type your code here\n",
    "\n",
    "result6 = graph.cypher.execute(\"\"\"\n",
    "    MATCH (a:Actor { name: \"Carrie Fisher\"})-[r]->(m)\n",
    "    RETURN m.title AS title, m.released AS released\n",
    "    ORDER BY released ASC\n",
    "\"\"\")\n",
    "result6"
   ]
  },
  {
   "cell_type": "code",
   "execution_count": 173,
   "metadata": {
    "collapsed": false
   },
   "outputs": [
    {
     "name": "stdout",
     "output_type": "stream",
     "text": [
      "1 test passed. Exercise 2.5.4 is successful\n"
     ]
    }
   ],
   "source": [
    "Test.assertEqualsHashed(result6, '5604203fd3ebc0b234f0a6f1f1108b90722afb0f', 'Incorrect query', \"Exercise 2.5.4 is successful\")"
   ]
  },
  {
   "cell_type": "code",
   "execution_count": 238,
   "metadata": {
    "collapsed": false
   },
   "outputs": [
    {
     "data": {
      "text/plain": [
       "   | count\n",
       "---+-------\n",
       " 1 |  1016\n",
       " 2 |     0"
      ]
     },
     "execution_count": 238,
     "metadata": {},
     "output_type": "execute_result"
    }
   ],
   "source": [
    "# 7. Find the amount of all actors (unique!) in the database and ...\n",
    "\n",
    "# type your code here\n",
    "res = graph.cypher.execute(\"\"\"\n",
    "    MATCH (m)\n",
    "    SET m.rating = toInt(m.rating)\n",
    "    SET m.released = toInt(m.released)\n",
    "\"\"\")\n",
    "result7 = graph.cypher.execute(\"\"\"\n",
    "    MATCH (a)-[r]->(m)\n",
    "    RETURN DISTINCT COUNT(a) AS count\n",
    "    UNION ALL\n",
    "    MATCH (a)-[r]->(m)\n",
    "    WHERE (m.rating<8 AND m.rating>7) AND (m.released>1990)\n",
    "    RETURN COUNT(a) AS count\n",
    "\"\"\")\n",
    "result7"
   ]
  },
  {
   "cell_type": "code",
   "execution_count": 215,
   "metadata": {
    "collapsed": false
   },
   "outputs": [
    {
     "name": "stdout",
     "output_type": "stream",
     "text": [
      "1 test failed. Incorrect query\n"
     ]
    }
   ],
   "source": [
    "Test.assertEqualsHashed(result7, '53ca0df778947c4adb34505c1ad3f96302721672', 'Incorrect query', \"Exercise 2.5.5 is successful\")"
   ]
  },
  {
   "cell_type": "code",
   "execution_count": 231,
   "metadata": {
    "collapsed": false
   },
   "outputs": [
    {
     "data": {
      "text/plain": [
       "    | actors_amount | country                                      \n",
       "----+---------------+-----------------------------------------------\n",
       "  1 |            33 |                                              \n",
       "  2 |            26 |  Australia                                   \n",
       "  3 |             5 |  Austria                                     \n",
       "  4 |             1 |  Austria-Hungary [now Hungary]               \n",
       "  5 |             1 |  Benin                                       \n",
       "  6 |             1 |  Bermuda                                     \n",
       "  7 |             4 |  Brazil                                      \n",
       "  8 |             1 |  British India [now India]                   \n",
       "  9 |            32 |  Canada                                      \n",
       " 10 |             1 |  Channel Islands                             \n",
       " 11 |             1 |  Cuba                                        \n",
       " 12 |             1 |  Czechoslovakia [now Czech Republic]         \n",
       " 13 |             2 |  Denmark                                     \n",
       " 14 |             1 |  Federal Republic of Germany]                \n",
       " 15 |            21 |  France                                      \n",
       " 16 |             1 |  French Protectorate of Morocco [now Morocco]\n",
       " 17 |             9 |  Germany                                     \n",
       " 18 |             3 |  India                                       \n",
       " 19 |             2 |  India]                                      \n",
       " 20 |             4 |  Ireland                                     \n",
       " 21 |             9 |  Israel                                      \n",
       " 22 |            10 |  Italy                                       \n",
       " 23 |             1 |  Italy]                                      \n",
       " 24 |             3 |  Japan                                       \n",
       " 25 |             3 |  Lebanon                                     \n",
       " 26 |             7 |  Mexico                                      \n",
       " 27 |             2 |  Netherlands                                 \n",
       " 28 |            11 |  New Zealand                                 \n",
       " 29 |             2 |  Nigeria                                     \n",
       " 30 |             3 |  Puerto Rico                                 \n",
       " 31 |             1 |  Saudi Arabia                                \n",
       " 32 |             7 |  South Africa                                \n",
       " 33 |             3 |  South Korea                                 \n",
       " 34 |             6 |  Spain                                       \n",
       " 35 |             2 |  Sweden                                      \n",
       " 36 |             1 |  Taiwan                                      \n",
       " 37 |           188 |  UK                                          \n",
       " 38 |           587 |  USA                                         \n",
       " 39 |             1 |  USSR [now Ukraine]                          \n",
       " 40 |             2 |  Ukraine]                                    \n",
       " 41 |             1 |  Venezuela                                   \n",
       " 42 |             7 |  West Germany                                \n",
       " 43 |             1 | 1965                                         \n",
       " 44 |             1 | 1972                                         \n",
       " 45 |             2 | 1974                                         \n",
       " 46 |             1 | Egypt                                        \n",
       " 47 |             1 | France                                       \n",
       " 48 |             1 | Guatemala                                    \n",
       " 49 |             1 | Norway                                       \n",
       " 50 |             1 | South Korea                                  "
      ]
     },
     "execution_count": 231,
     "metadata": {},
     "output_type": "execute_result"
    }
   ],
   "source": [
    "# 8. Calculate how many actors were born in each country\n",
    "\n",
    "# type your code here\n",
    "\n",
    "result8 = graph.cypher.execute(\"\"\"\n",
    "    MATCH (a)-[r]->(m)\n",
    "    WHERE a IS NOT NULL\n",
    "    RETURN COUNT(a) AS actors_amount, a.country AS country\n",
    "    ORDER BY country ASC\n",
    "\"\"\")\n",
    "result8"
   ]
  },
  {
   "cell_type": "code",
   "execution_count": 232,
   "metadata": {
    "collapsed": false
   },
   "outputs": [
    {
     "name": "stdout",
     "output_type": "stream",
     "text": [
      "1 test failed. Incorrect query\n"
     ]
    }
   ],
   "source": [
    "Test.assertEqualsHashed(result8, '40ace8fe31cded4f7fcea2f861f32fe123da3499', 'Incorrect query', \"Exercise 2.5.6 is successful\")"
   ]
  },
  {
   "cell_type": "code",
   "execution_count": 323,
   "metadata": {
    "collapsed": false
   },
   "outputs": [
    {
     "data": {
      "text/plain": [
       "    | amount | name                   \n",
       "----+--------+-------------------------\n",
       "  1 |     10 | Steven Spielberg       \n",
       "  2 |      7 | Christopher Nolan      \n",
       "  3 |      6 | Peter Jackson          \n",
       "  4 |      6 | Quentin Tarantino      \n",
       "  5 |      5 | David Fincher          \n",
       "  6 |      5 | James Cameron          \n",
       "  7 |      5 | Martin Scorsese        \n",
       "  8 |      5 | Ridley Scott           \n",
       "  9 |      5 | Stanley Kubrick        \n",
       " 10 |      4 | Bryan Singer           \n",
       " 11 |      4 | George Lucas           \n",
       " 12 |      4 | Guy Ritchie            \n",
       " 13 |      4 | Robert Zemeckis        \n",
       " 14 |      3 | Alfonso CuarÃ³n        \n",
       " 15 |      3 | Brad Bird              \n",
       " 16 |      3 | Clint Eastwood         \n",
       " 17 |      3 | Doug Liman             \n",
       " 18 |      3 | Francis Ford Coppola   \n",
       " 19 |      3 | Gore Verbinski         \n",
       " 20 |      3 | J.J. Abrams            \n",
       " 21 |      3 | Joel Coen              \n",
       " 22 |      3 | Lana Wachowski         \n",
       " 23 |      3 | Lilly Wachowski        \n",
       " 24 |      3 | Matthew Vaughn         \n",
       " 25 |      3 | Sam Raimi              \n",
       " 26 |      3 | Zack Snyder            \n",
       " 27 |      2 | Alejandro G. IÃ±Ã¡rritu\n",
       " 28 |      2 | Andrew Stanton         \n",
       " 29 |      2 | Chris Columbus         \n",
       " 30 |      2 | Danny Boyle            \n",
       " 31 |      2 | Darren Aronofsky       \n",
       " 32 |      2 | David O. Russell       \n",
       " 33 |      2 | David Yates            \n",
       " 34 |      2 | Edgar Wright           \n",
       " 35 |      2 | Francis Lawrence       \n",
       " 36 |      2 | Frank Darabont         \n",
       " 37 |      2 | Guillermo del Toro     \n",
       " 38 |      2 | John Lasseter          \n",
       " 39 |      2 | Jon Favreau            \n",
       " 40 |      2 | Joss Whedon            \n",
       " 41 |      2 | Lee Unkrich            \n",
       " 42 |      2 | Luc Besson             \n",
       " 43 |      2 | Marc Webb              \n",
       " 44 |      2 | Neil Burger            \n",
       " 45 |      2 | Neill Blomkamp         \n",
       " 46 |      2 | Paul Greengrass        \n",
       " 47 |      2 | Pete Docter            \n",
       " 48 |      2 | Sam Mendes             \n",
       " 49 |      2 | Terry Gilliam          \n",
       " 50 |      2 | Tim Burton             \n",
       " 51 |      2 | Todd Phillips          "
      ]
     },
     "execution_count": 323,
     "metadata": {},
     "output_type": "execute_result"
    }
   ],
   "source": [
    "# 9. Display all movies with at least two known directors\n",
    "\n",
    "# type your code here\n",
    "\n",
    "result9 = graph.cypher.execute(\"\"\"\n",
    "    MATCH (a)-[r]->(m)\n",
    "    WITH a.name AS name,COUNT(a) AS amount,r,a,m\n",
    "    WHERE (TYPE(r) = \"DIRECTED\")\n",
    "    RETURN COUNT(a) AS amount, name\n",
    "    ORDER BY amount DESC, name ASC\n",
    "    LIMIT 51\n",
    "\"\"\")\n",
    "result9"
   ]
  },
  {
   "cell_type": "code",
   "execution_count": 324,
   "metadata": {
    "collapsed": false
   },
   "outputs": [
    {
     "name": "stdout",
     "output_type": "stream",
     "text": [
      "1 test failed. Incorrect query\n"
     ]
    }
   ],
   "source": [
    "Test.assertEqualsHashed(result9, 'b97607b6d7738cb5f5d5e7a0581b2e0133b567aa', 'Incorrect query', \"Exercise 2.5.7 is successful\")"
   ]
  },
  {
   "cell_type": "code",
   "execution_count": 334,
   "metadata": {
    "collapsed": false
   },
   "outputs": [
    {
     "data": {
      "text/plain": [
       "     | title                                                                | duration\n",
       "-----+----------------------------------------------------------------------+----------\n",
       "   1 |                                                                      |         \n",
       "   2 | Reservoir Dogs                                                       | 99      \n",
       "   3 | The Grand Budapest Hotel                                             | 99      \n",
       "   4 | Shaun of the Dead                                                    | 99      \n",
       "   5 | WALL·E                                                               | 98      \n",
       "   6 | How to Train Your Dragon                                             | 98      \n",
       "   7 | Fargo                                                                | 98      \n",
       "   8 | Men in Black                                                         | 98      \n",
       "   9 | Horrible Bosses                                                      | 98      \n",
       "  10 | Up                                                                   | 96      \n",
       "  11 | 12 Angry Men                                                         | 96      \n",
       "  12 | Juno                                                                 | 96      \n",
       "  13 | Despicable Me                                                        | 95      \n",
       "  14 | (500) Days of Summer                                                 | 95      \n",
       "  15 | Dr. Strangelove or: How I Learned to Stop Worrying and Love the Bomb | 95      \n",
       "  16 | Trainspotting                                                        | 94      \n",
       "  17 | Taken                                                                | 93      \n",
       "  18 | Source Code                                                          | 93      \n",
       "  19 | Monsters, Inc.                                                       | 92      \n",
       "  20 | Toy Story 2                                                          | 92      \n",
       "  21 | Hancock                                                              | 92      \n",
       "  22 | Gravity                                                              | 91      \n",
       "  23 | Monty Python and the Holy Grail                                      | 91      \n",
       "  24 | Shrek                                                                | 90      \n",
       "  25 | The Lion King                                                        | 89      \n",
       "  26 | Zombieland                                                           | 88      \n",
       "  27 | Toy Story                                                            | 81      \n",
       "  28 | The Godfather: Part II                                               | 202     \n",
       "  29 | The Lord of the Rings: The Return of the King                        | 201     \n",
       "  30 | Schindler's List                                                     | 195     \n",
       "  31 | Titanic                                                              | 194     \n",
       "  32 | The Green Mile                                                       | 189     \n",
       "  33 | The Wolf of Wall Street                                              | 180     \n",
       "  34 | The Lord of the Rings: The Two Towers                                | 179     \n",
       "  35 | The Lord of the Rings: The Fellowship of the Ring                    | 178     \n",
       "  36 | Braveheart                                                           | 178     \n",
       "  37 | The Godfather                                                        | 175     \n",
       "  38 | Scarface                                                             | 170     \n",
       "  39 | Heat                                                                 | 170     \n",
       "  40 | Interstellar                                                         | 169     \n",
       "  41 | Saving Private Ryan                                                  | 169     \n",
       "  42 | The Hobbit: An Unexpected Journey                                    | 169     \n",
       "  43 | Pirates of the Caribbean: At World's End                             | 169     \n",
       "  44 | The Curious Case of Benjamin Button                                  | 166     \n",
       "  45 | Django Unchained                                                     | 165     \n",
       "  46 | The Dark Knight Rises                                                | 164     \n",
       "  47 | Troy                                                                 | 163     \n",
       "  48 | Avatar                                                               | 162     \n",
       "  49 | Watchmen                                                             | 162     \n",
       "  50 | The Good, the Bad and the Ugly                                       | 161     \n",
       "  51 | The Hobbit: The Desolation of Smaug                                  | 161     \n",
       "  52 | Harry Potter and the Chamber of Secrets                              | 161     \n",
       "  53 | There Will Be Blood                                                  | 158     \n",
       "  54 | Harry Potter and the Goblet of Fire                                  | 157     \n",
       "  55 | The Revenant                                                         | 156     \n",
       "  56 | Gladiator                                                            | 155     \n",
       "  57 | Pulp Fiction                                                         | 154     \n",
       "  58 | Inglourious Basterds                                                 | 153     \n",
       "  59 | Apocalypse Now                                                       | 153     \n",
       "  60 | Prisoners                                                            | 153     \n",
       "  61 | The Dark Knight                                                      | 152     \n",
       "  62 | Harry Potter and the Sorcerer's Stone                                | 152     \n",
       "  63 | The Departed                                                         | 151     \n",
       "  64 | Pirates of the Caribbean: Dead Man's Chest                           | 151     \n",
       "  65 | The Pianist                                                          | 150     \n",
       "  66 | Gone Girl                                                            | 149     \n",
       "  67 | 2001: A Space Odyssey                                                | 149     \n",
       "  68 | Inception                                                            | 148     \n",
       "  69 | Into the Wild                                                        | 148     \n",
       "  70 | Goodfellas                                                           | 146     \n",
       "  71 | The Shining                                                          | 146     \n",
       "  72 | The Hunger Games: Catching Fire                                      | 146     \n",
       "  73 | Independence Day                                                     | 145     \n",
       "  74 | Minority Report                                                      | 145     \n",
       "  75 | Transformers                                                         | 144     \n",
       "  76 | Casino Royale                                                        | 144     \n",
       "  77 | The Martian                                                          | 144     \n",
       "  78 | The Hobbit: The Battle of the Five Armies                            | 144     \n",
       "  79 | The Avengers                                                         | 143     \n",
       "  80 | Pirates of the Caribbean: The Curse of the Black Pearl               | 143     \n",
       "  81 | Man of Steel                                                         | 143     \n",
       "  82 | Skyfall                                                              | 143     \n",
       "  83 | Blood Diamond                                                        | 143     \n",
       "  84 | Cast Away                                                            | 143     \n",
       "  85 | The Great Gatsby                                                     | 143     \n",
       "  86 | The Shawshank Redemption                                             | 142     \n",
       "  87 | Forrest Gump                                                         | 142     \n",
       "  88 | The Hunger Games                                                     | 142     \n",
       "  89 | Star Wars: Episode II - Attack of the Clones                         | 142     \n",
       "  90 | Harry Potter and the Prisoner of Azkaban                             | 142     \n",
       "  91 | Catch Me If You Can                                                  | 141     \n",
       "  92 | Avengers: Age of Ultron                                              | 141     \n",
       "  93 | Batman Begins                                                        | 140     \n",
       "  94 | Star Wars: Episode III - Revenge of the Sith                         | 140     \n",
       "  95 | Fight Club                                                           | 139     \n",
       "  96 | Spider-Man 3                                                         | 139     \n",
       "  97 | Divergent                                                            | 139     \n",
       "  98 | Shutter Island                                                       | 138     \n",
       "  99 | The Matrix Reloaded                                                  | 138     \n",
       " 100 | L.A. Confidential                                                    | 138     \n",
       " 101 | American Hustle                                                      | 138     \n",
       " 102 | Harry Potter and the Order of the Phoenix                            | 138     \n",
       " 103 | Mystic River                                                         | 138     \n",
       " 104 | Terminator 2: Judgment Day                                           | 137     \n",
       " 105 | Kill Bill: Vol. 2                                                    | 137     \n",
       " 106 | Aliens                                                               | 137     \n",
       " 107 | The Matrix                                                           | 136     \n",
       " 108 | A Clockwork Orange                                                   | 136     \n",
       " 109 | Star Wars: Episode I - The Phantom Menace                            | 136     \n",
       " 110 | Star Wars: Episode VII - The Force Awakens                           | 136     \n",
       " 111 | Captain America: The Winter Soldier                                  | 136     \n",
       " 112 | The Amazing Spider-Man                                               | 136     \n",
       " 113 | Pirates of the Caribbean: On Stranger Tides                          | 136     \n",
       " 114 | A Beautiful Mind                                                     | 135     \n",
       " 115 | 12 Years a Slave                                                     | 134     \n",
       " 116 | X2                                                                   | 134     \n",
       " 117 | One Flew Over the Cuckoo's Nest                                      | 133     \n",
       " 118 | Rain Man                                                             | 133     \n",
       " 119 | Mission: Impossible - Ghost Protocol                                 | 133     \n",
       " 120 | V for Vendetta                                                       | 132     \n",
       " 121 | X-Men: First Class                                                   | 132     \n",
       " 122 | X-Men: Days of Future Past                                           | 132     \n",
       " 123 | Million Dollar Baby                                                  | 132     \n",
       " 124 | Star Trek Into Darkness                                              | 132     \n",
       " 125 | Star Wars: Episode VI - Return of the Jedi                           | 131     \n",
       " 126 | Die Hard                                                             | 131     \n",
       " 127 | Pacific Rim                                                          | 131     \n",
       " 128 | The Prestige                                                         | 130     \n",
       " 129 | Iron Man 3                                                           | 130     \n",
       " 130 | Harry Potter and the Deathly Hallows: Part 2                         | 130     \n",
       " 131 | City of God                                                          | 130     \n",
       " 132 | Twelve Monkeys                                                       | 129     \n",
       " 133 | Kingsman: The Secret Service                                         | 129     \n",
       " 134 | The Matrix Revolutions                                               | 129     \n",
       " 135 | Sherlock Holmes: A Game of Shadows                                   | 129     \n",
       " 136 | Sherlock Holmes                                                      | 128     \n",
       " 137 | Live Free or Die Hard                                                | 128     \n",
       " 138 | Se7en                                                                | 127     \n",
       " 139 | Jurassic Park                                                        | 127     \n",
       " 140 | Indiana Jones and the Last Crusade                                   | 127     \n",
       " 141 | Star Trek                                                            | 127     \n",
       " 142 | Life of Pi                                                           | 127     \n",
       " 143 | Spider-Man 2                                                         | 127     \n",
       " 144 | Iron Man                                                             | 126     \n",
       " 145 | Good Will Hunting                                                    | 126     \n",
       " 146 | Her                                                                  | 126     \n",
       " 147 | The Fifth Element                                                    | 126     \n",
       " 148 | Spirited Away                                                        | 125     \n",
       " 149 | Big Fish                                                             | 125     \n",
       " 150 | Star Wars: Episode V - The Empire Strikes Back                       | 124     \n",
       " 151 | Sin City                                                             | 124     \n",
       " 152 | Iron Man 2                                                           | 124     \n",
       " 153 | Captain America: The First Avenger                                   | 124     \n",
       " 154 | Prometheus                                                           | 124     \n",
       " 155 | Jaws                                                                 | 124     \n",
       " 156 | Jurassic World                                                       | 124     \n",
       " 157 | Oblivion                                                             | 124     \n",
       " 158 | The Notebook                                                         | 123     \n",
       " 159 | American Beauty                                                      | 122     \n",
       " 160 | No Country for Old Men                                               | 122     \n",
       " 161 | Silver Linings Playbook                                              | 122     \n",
       " 162 | Amélie                                                               | 122     \n",
       " 163 | Twilight                                                             | 122     \n",
       " 164 | Indiana Jones and the Kingdom of the Crystal Skull                   | 122     \n",
       " 165 | Star Wars                                                            | 121     \n",
       " 166 | Guardians of the Galaxy                                              | 121     \n",
       " 167 | Spider-Man                                                           | 121     \n",
       " 168 | Hot Fuzz                                                             | 121     \n",
       " 169 | Slumdog Millionaire                                                  | 120     \n",
       " 170 | Mad Max: Fury Road                                                   | 120     \n",
       " 171 | The Social Network                                                   | 120     \n",
       " 172 | Argo                                                                 | 120     \n",
       " 173 | Rocky                                                                | 120     \n",
       " 174 | Oldboy                                                               | 120     \n",
       " 175 | Mr. & Mrs. Smith                                                     | 120     \n",
       " 176 | American History X                                                   | 119     \n",
       " 177 | Looper                                                               | 119     \n",
       " 178 | The Bourne Identity                                                  | 119     \n",
       " 179 | Birdman or (The Unexpected Virtue of Ignorance)                      | 119     \n",
       " 180 | The Silence of the Lambs                                             | 118     \n",
       " 181 | The King's Speech                                                    | 118     \n",
       " 182 | Pan's Labyrinth                                                      | 118     \n",
       " 183 | Crazy, Stupid, Love.                                                 | 118     \n",
       " 184 | 300                                                                  | 117     \n",
       " 185 | Alien                                                                | 117     \n",
       " 186 | The Big Lebowski                                                     | 117     \n",
       " 187 | Blade Runner                                                         | 117     \n",
       " 188 | Kick-Ass                                                             | 117     \n",
       " 189 | The Pursuit of Happyness                                             | 117     \n",
       " 190 | Back to the Future                                                   | 116     \n",
       " 191 | Gran Torino                                                          | 116     \n",
       " 192 | Full Metal Jacket                                                    | 116     \n",
       " 193 | World War Z                                                          | 116     \n",
       " 194 | Life Is Beautiful                                                    | 116     \n",
       " 195 | Ocean's Eleven                                                       | 116     \n",
       " 196 | War of the Worlds                                                    | 116     \n",
       " 197 | Raiders of the Lost Ark                                              | 115     \n",
       " 198 | Thor                                                                 | 115     \n",
       " 199 | The Bourne Ultimatum                                                 | 115     \n",
       " 200 | The Incredibles                                                      | 115     \n",
       " 201 | Now You See Me                                                       | 115     \n",
       " 202 | I, Robot                                                             | 115     \n",
       " 203 | The Imitation Game                                                   | 114     \n",
       " 204 | Memento                                                              | 113     \n",
       " 205 | Donnie Darko                                                         | 113     \n",
       " 206 | Taxi Driver                                                          | 113     \n",
       " 207 | Superbad                                                             | 113     \n",
       " 208 | Edge of Tomorrow                                                     | 113     \n",
       " 209 | The Butterfly Effect                                                 | 113     \n",
       " 210 | District 9                                                           | 112     \n",
       " 211 | Thor: The Dark World                                                 | 112     \n",
       " 212 | Crash                                                                | 112     \n",
       " 213 | Kill Bill: Vol. 1                                                    | 111     \n",
       " 214 | Ratatouille                                                          | 111     \n",
       " 215 | Léon: The Professional                                               | 110     \n",
       " 216 | Psycho                                                               | 109     \n",
       " 217 | 21 Jump Street                                                       | 109     \n",
       " 218 | Children of Men                                                      | 109     \n",
       " 219 | Elysium                                                              | 109     \n",
       " 220 | Eternal Sunshine of the Spotless Mind                                | 108     \n",
       " 221 | Black Swan                                                           | 108     \n",
       " 222 | The Bourne Supremacy                                                 | 108     \n",
       " 223 | Back to the Future Part II                                           | 108     \n",
       " 224 | The Sixth Sense                                                      | 107     \n",
       " 225 | The Terminator                                                       | 107     \n",
       " 226 | Lock, Stock and Two Smoking Barrels                                  | 107     \n",
       " 227 | Whiplash                                                             | 107     \n",
       " 228 | X-Men Origins: Wolverine                                             | 107     \n",
       " 229 | The Usual Suspects                                                   | 106     \n",
       " 230 | Ted                                                                  | 106     \n",
       " 231 | Limitless                                                            | 105     \n",
       " 232 | Rise of the Planet of the Apes                                       | 105     \n",
       " 233 | Edward Scissorhands                                                  | 105     \n",
       " 234 | Snatch.                                                              | 104     \n",
       " 235 | X-Men                                                                | 104     \n",
       " 236 | X-Men: The Last Stand                                                | 104     \n",
       " 237 | The Truman Show                                                      | 103     \n",
       " 238 | Toy Story 3                                                          | 103     \n",
       " 239 | Requiem for a Dream                                                  | 102     \n",
       " 240 | Frozen                                                               | 102     \n",
       " 241 | Casablanca                                                           | 102     \n",
       " 242 | The Hangover Part II                                                 | 102     \n",
       " 243 | American Psycho                                                      | 102     \n",
       " 244 | The Perks of Being a Wallflower                                      | 102     \n",
       " 245 | I Am Legend                                                          | 101     \n",
       " 246 | Groundhog Day                                                        | 101     \n",
       " 247 | Little Miss Sunshine                                                 | 101     \n",
       " 248 | Finding Nemo                                                         | 100     \n",
       " 249 | The Hangover                                                         | 100     \n",
       " 250 | Drive                                                                | 100     "
      ]
     },
     "execution_count": 334,
     "metadata": {},
     "output_type": "execute_result"
    }
   ],
   "source": [
    "# 10. Display \"free movies\"\n",
    "\n",
    "# type your code here\n",
    "\n",
    "result10 = graph.cypher.execute(\"\"\"\n",
    "    MATCH (m) \n",
    "    WHERE NOT (m)-[]->(m)\n",
    "    RETURN DISTINCT m.title AS title, m.runtime AS duration\n",
    "    ORDER BY duration DESC\n",
    "\"\"\")\n",
    "result10"
   ]
  },
  {
   "cell_type": "code",
   "execution_count": 335,
   "metadata": {
    "collapsed": false
   },
   "outputs": [
    {
     "name": "stdout",
     "output_type": "stream",
     "text": [
      "1 test failed. Incorrect query\n"
     ]
    }
   ],
   "source": [
    "Test.assertEqualsHashed(result10, 'b7c354961d4a11b78fbb9d853a31205f7e7c571b', 'Incorrect query', \"Exercise 2.5.8 is successful\")"
   ]
  },
  {
   "cell_type": "markdown",
   "metadata": {},
   "source": [
    "<center><h3>Presented by <a target=\"_blank\" rel=\"noopener noreferrer nofollow\" href=\"http://datascience-school.com\">datascience-school.com</a></h3></center>"
   ]
  }
 ],
 "metadata": {
  "kernelspec": {
   "display_name": "Python 2",
   "language": "python",
   "name": "python2"
  },
  "language_info": {
   "codemirror_mode": {
    "name": "ipython",
    "version": 2
   },
   "file_extension": ".py",
   "mimetype": "text/x-python",
   "name": "python",
   "nbconvert_exporter": "python",
   "pygments_lexer": "ipython2",
   "version": "2.7.10"
  }
 },
 "nbformat": 4,
 "nbformat_minor": 1
}
