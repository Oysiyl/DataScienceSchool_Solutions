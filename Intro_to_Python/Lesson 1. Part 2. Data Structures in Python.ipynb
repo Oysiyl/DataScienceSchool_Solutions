{
 "cells": [
  {
   "cell_type": "markdown",
   "metadata": {},
   "source": [
    "---\n",
    "<center><h1> Lesson 1 - Crash course into Python</h1></center>\n",
    "---\n",
    "---\n",
    "\n",
    "<center><h1>Part 2. Data Structures in Python</h1></center>\n",
    "\n",
    "---"
   ]
  },
  {
   "cell_type": "markdown",
   "metadata": {},
   "source": [
    "## Table of Contents\n",
    "- [Data Structures](#Data-Structures)\n",
    "    * [List](#List)\n",
    "    * [Ranges of Integers](#Ranges-of-Integers)\n",
    "     - [*Exercise 2.1*](#Exercise-2.1)\n",
    "     - [*Exercise 2.2*](#Exercise-2.2)\n",
    "    * [Set](#Set)\n",
    "     - [*Exercise 2.3*](#Exercise-2.3)\n",
    "    * [Tuple](#Tuple)\n",
    "    * [Dictionary](#Dictionary)\n",
    "     - [*Exercise 2.4*](#Exercise-2.4)\n",
    "    * [Combining Data Structures](#Combining-Data-Structures)"
   ]
  },
  {
   "cell_type": "markdown",
   "metadata": {},
   "source": [
    "---\n",
    "# Data Structures"
   ]
  },
  {
   "cell_type": "markdown",
   "metadata": {},
   "source": [
    "We have covered in detail much of the basics of python's primitive data types. Its now useful to consider how these basic types can be collected in ways that are meaningful and useful for a variety of tasks. Data structures are a fundamental component of programming, a collection of elements of data that adhere to certain properties, depending on the type. In these notes, we'll present three basic data structures, the list, the set, and the dictionary. Python data structures are very rich, and beyond the scope of this simple primer. Please see [the documentation](http://docs.python.org/2/tutorial/datastructures.html) for a more complete view."
   ]
  },
  {
   "cell_type": "markdown",
   "metadata": {},
   "source": [
    "### List"
   ]
  },
  {
   "cell_type": "markdown",
   "metadata": {},
   "source": [
    "[[back to top]](#Table-of-Contents)"
   ]
  },
  {
   "cell_type": "markdown",
   "metadata": {},
   "source": [
    "A list, sometimes called and array or a vector is an ordered collection of values. The value of a particular element in a list is retrieved by querying for a specific index into an array. Lists allow duplicate values, but but indicies are unique. In python, like most programming languages, list indices start at 0, that is, to get the first element in a list, request the element at index 0. Lists provide very fast access to elements at specific positions, but are inefficient at \"membership queries,\" determining if an element is in the array. \n",
    "\n",
    "In python, lists are specified by square brackets, `[ ]`, containing zero or more values, separated by commas. Lists are the most common data structure, and are often generated as a result of other functions, for instance, `a_string.split(\" \")`.\n",
    "\n",
    "To query a specific value from a list, pass in the requested index into square brackets following the name of the list. Negative indices can be used to traverse the list from the right."
   ]
  },
  {
   "cell_type": "code",
   "execution_count": 26,
   "metadata": {
    "collapsed": false,
    "scrolled": false
   },
   "outputs": [
    {
     "name": "stdout",
     "output_type": "stream",
     "text": [
      "another_list[1]:\n",
      "b\n",
      "a_list[-1]:\n",
      "11\n",
      "a_list[2:]:\n",
      "[3, 0, 5, 10, 11]\n"
     ]
    }
   ],
   "source": [
    "a_list = [1, 2, 3, 0, 5, 10, 11]\n",
    "another_list = [\"a\", \"b\", \"c\"]\n",
    "empty_list = []\n",
    "mixed_list = [1, \"a\"]\n",
    "\n",
    "print \"another_list[1]:\"\n",
    "print another_list[1]\n",
    "print \"a_list[-1]:\"\n",
    "print a_list[-1]      # indexing from the right\n",
    "print \"a_list[2:]:\"\n",
    "print a_list[2:]"
   ]
  },
  {
   "cell_type": "markdown",
   "metadata": {},
   "source": [
    "Some common functionality of lists:\n",
    "\n",
    "+ `list.append(x)`: adds an element ot the end of a list\n",
    "+ `list_1.extend(list_2)`: adds all elements in the second list to the end of the first list\n",
    "+ `list.insert(index, x)`: inserts element x into the list at the specified index. Elements to the right of this index are shifted over\n",
    "+ `list.pop(index)`: removes the element at the specified position\n",
    "+ `list.index(x)`: looks through the list to find the specified element, returning it's position if it's found, else throws an error\n",
    "+ `list.remove(x)`: removes object `x` from list\n",
    "+ `list.count(x)`: counts the number of occurrences of the input element\n",
    "+ `list.sort()`: sorts the list of items\n",
    "+ `list.reverse()`: reverses the order of the list\n",
    "+ `len(list)`: returns the number of elements in the list"
   ]
  },
  {
   "cell_type": "code",
   "execution_count": 3,
   "metadata": {
    "collapsed": false,
    "scrolled": false
   },
   "outputs": [
    {
     "name": "stdout",
     "output_type": "stream",
     "text": [
      "a_list:\n",
      "[1, 2, 3, 0, 5, 10, 11]\n",
      "append(7):\n",
      "[1, 2, 3, 0, 5, 10, 11, 7] \n",
      "\n",
      "extend([3, 9, 6]):\n",
      "[1, 2, 3, 0, 5, 10, 11, 7, 3, 9, 6] \n",
      "\n",
      "insert(3, -1):\n",
      "[1, 2, 3, -1, 0, 5, 10, 11, 7, 3, 9, 6] \n",
      "\n",
      "pop():\n",
      "[1, 2, 3, -1, 0, 5, 10, 11, 7, 3, 9] \n",
      "\n",
      "pop(0):\n",
      "[2, 3, -1, 0, 5, 10, 11, 7, 3, 9] \n",
      "\n",
      "remove(0):\n",
      "[2, 3, -1, 5, 10, 11, 7, 3, 9] \n",
      "\n",
      "index(10):\n",
      "4\n",
      "[2, 3, -1, 5, 10, 11, 7, 3, 9] \n",
      "\n",
      "count(3):\n",
      "2\n",
      "[2, 3, -1, 5, 10, 11, 7, 3, 9] \n",
      "\n",
      "sort():\n",
      "[-1, 2, 3, 3, 5, 7, 9, 10, 11] \n",
      "\n",
      "reverse():\n",
      "[11, 10, 9, 7, 5, 3, 3, 2, -1] \n",
      "\n",
      "len():\n",
      "9\n"
     ]
    }
   ],
   "source": [
    "a_list = [1, 2, 3, 0, 5, 10, 11]\n",
    "print \"a_list:\"\n",
    "print a_list\n",
    "\n",
    "a_list.append(7)\n",
    "print \"append(7):\"\n",
    "print a_list, '\\n'\n",
    "\n",
    "a_list.extend([3, 9, 6])\n",
    "print \"extend([3, 9, 6]):\"\n",
    "print a_list, '\\n'\n",
    "\n",
    "a_list.insert(3, -1)\n",
    "print 'insert(3, -1):'\n",
    "print a_list, '\\n'\n",
    "\n",
    "a_list.pop()\n",
    "print \"pop():\"\n",
    "print a_list, '\\n'\n",
    "\n",
    "a_list.pop(0)\n",
    "print \"pop(0):\"\n",
    "print a_list, '\\n'\n",
    "\n",
    "a_list.remove(0)\n",
    "print \"remove(0):\"\n",
    "print a_list, '\\n'\n",
    "\n",
    "x = a_list.index(10)\n",
    "print \"index(10):\"\n",
    "print x\n",
    "print a_list, '\\n'   # a_list was not changed\n",
    "\n",
    "y = a_list.count(3)\n",
    "print \"count(3):\"\n",
    "print y\n",
    "print a_list, '\\n'   # a_list was not changed\n",
    "\n",
    "a_list.sort()\n",
    "print \"sort():\"\n",
    "print a_list, '\\n'\n",
    "\n",
    "a_list.reverse()\n",
    "print \"reverse():\"\n",
    "print a_list, '\\n'\n",
    "print \"len():\"\n",
    "print len(a_list)"
   ]
  },
  {
   "cell_type": "markdown",
   "metadata": {},
   "source": [
    "Lets remember just three helpful function available for lists: \n",
    "\n",
    "* `max(list)`: returns item from the list with max value\t\n",
    "* `min(list)`: returns item from the list with min value\n",
    "* `sum(list)`: returns of all list's elements if they are summable"
   ]
  },
  {
   "cell_type": "code",
   "execution_count": 4,
   "metadata": {
    "collapsed": false,
    "scrolled": false
   },
   "outputs": [
    {
     "name": "stdout",
     "output_type": "stream",
     "text": [
      "max(list_1):\n",
      "4\n",
      "min(list_1):\n",
      "1\n",
      "sum(list_1):\n",
      "10\n",
      "sum(list_2):\n"
     ]
    },
    {
     "ename": "TypeError",
     "evalue": "unsupported operand type(s) for +: 'int' and 'str'",
     "output_type": "error",
     "traceback": [
      "\u001b[1;31m---------------------------------------------------------------------------\u001b[0m",
      "\u001b[1;31mTypeError\u001b[0m                                 Traceback (most recent call last)",
      "\u001b[1;32m<ipython-input-4-d08ebcfeff2e>\u001b[0m in \u001b[0;36m<module>\u001b[1;34m()\u001b[0m\n\u001b[0;32m      9\u001b[0m \u001b[1;33m\u001b[0m\u001b[0m\n\u001b[0;32m     10\u001b[0m \u001b[1;32mprint\u001b[0m \u001b[1;34m\"sum(list_2):\"\u001b[0m\u001b[1;33m\u001b[0m\u001b[0m\n\u001b[1;32m---> 11\u001b[1;33m \u001b[1;32mprint\u001b[0m \u001b[0msum\u001b[0m\u001b[1;33m(\u001b[0m\u001b[0mlist_2\u001b[0m\u001b[1;33m)\u001b[0m   \u001b[1;31m# cause an error as well as max(list_1) and min(list_1)\u001b[0m\u001b[1;33m\u001b[0m\u001b[0m\n\u001b[0m",
      "\u001b[1;31mTypeError\u001b[0m: unsupported operand type(s) for +: 'int' and 'str'"
     ]
    }
   ],
   "source": [
    "list_1 = [1, 2, 3, 4]\n",
    "list_2 = [0, 1, 'a', True]\n",
    "print \"max(list_1):\"\n",
    "print max(list_1)\n",
    "print \"min(list_1):\"\n",
    "print min(list_1)\n",
    "print \"sum(list_1):\"\n",
    "print sum(list_1)\n",
    "\n",
    "print \"sum(list_2):\"\n",
    "print sum(list_2)   # cause an error as well as max(list_1) and min(list_1)"
   ]
  },
  {
   "cell_type": "markdown",
   "metadata": {},
   "source": [
    "We have used method `pop` for deletion an element of the list. Function **`del`** plays the same role, but it \"can\" delete whole list at onse also. The same statement is correct for other data types."
   ]
  },
  {
   "cell_type": "code",
   "execution_count": 5,
   "metadata": {
    "collapsed": false,
    "scrolled": false
   },
   "outputs": [
    {
     "name": "stdout",
     "output_type": "stream",
     "text": [
      "a_list after 'del a_list[3]':\n",
      "[1, 2, 3, 5, 10, 11]\n",
      "<type 'list'>\n",
      "a_list after 'del a_list':\n"
     ]
    },
    {
     "ename": "NameError",
     "evalue": "name 'a_list' is not defined",
     "output_type": "error",
     "traceback": [
      "\u001b[1;31m---------------------------------------------------------------------------\u001b[0m",
      "\u001b[1;31mNameError\u001b[0m                                 Traceback (most recent call last)",
      "\u001b[1;32m<ipython-input-5-2264908686ea>\u001b[0m in \u001b[0;36m<module>\u001b[1;34m()\u001b[0m\n\u001b[0;32m      8\u001b[0m \u001b[1;32mprint\u001b[0m \u001b[1;34m\"a_list after 'del a_list':\"\u001b[0m\u001b[1;33m\u001b[0m\u001b[0m\n\u001b[0;32m      9\u001b[0m \u001b[1;32mdel\u001b[0m \u001b[0ma_list\u001b[0m\u001b[1;33m\u001b[0m\u001b[0m\n\u001b[1;32m---> 10\u001b[1;33m \u001b[1;32mprint\u001b[0m \u001b[0ma_list\u001b[0m\u001b[1;33m\u001b[0m\u001b[0m\n\u001b[0m\u001b[0;32m     11\u001b[0m \u001b[1;32mprint\u001b[0m \u001b[0mtype\u001b[0m\u001b[1;33m(\u001b[0m\u001b[0ma_list\u001b[0m\u001b[1;33m)\u001b[0m\u001b[1;33m\u001b[0m\u001b[0m\n",
      "\u001b[1;31mNameError\u001b[0m: name 'a_list' is not defined"
     ]
    }
   ],
   "source": [
    "a_list = [1, 2, 3, 0, 5, 10, 11]\n",
    "\n",
    "del a_list[3]\n",
    "print \"a_list after 'del a_list[3]':\"\n",
    "print a_list\n",
    "print type(a_list)\n",
    "\n",
    "print \"a_list after 'del a_list':\"\n",
    "del a_list\n",
    "print a_list\n",
    "print type(a_list)"
   ]
  },
  {
   "cell_type": "markdown",
   "metadata": {},
   "source": [
    "The above error message said us that there are no `a_list` variable for now. Thus, `del` remove it from the memory. \n",
    "\n",
    "We have also used function **`type(var)`** to finc out the type of variable `var`. "
   ]
  },
  {
   "cell_type": "markdown",
   "metadata": {},
   "source": [
    "Lists may contain elements of different types and also nested lists"
   ]
  },
  {
   "cell_type": "code",
   "execution_count": 6,
   "metadata": {
    "collapsed": false,
    "scrolled": false
   },
   "outputs": [
    {
     "name": "stdout",
     "output_type": "stream",
     "text": [
      "Combined list:\n",
      "['A', 0.25, -1, True, [1], False, [1, ['1', None], 'a']]\n"
     ]
    }
   ],
   "source": [
    "combined_list = [\"A\", 0.25, -1, True, [1], 1==0, [1, ['1', None], 'a']]\n",
    "print 'Combined list:'\n",
    "print combined_list"
   ]
  },
  {
   "cell_type": "markdown",
   "metadata": {},
   "source": [
    "### Ranges of Integers"
   ]
  },
  {
   "cell_type": "markdown",
   "metadata": {},
   "source": [
    "[[back to top]](#Table-of-Contents)"
   ]
  },
  {
   "cell_type": "markdown",
   "metadata": {},
   "source": [
    "Often it is convenient to define (and iterate through) ranges of integers. Python has a convenient range function that allows you to do just this.\n",
    "\n",
    "The `range()` command is a convenient way to make sequential lists of numbers:"
   ]
  },
  {
   "cell_type": "code",
   "execution_count": 7,
   "metadata": {
    "collapsed": false,
    "scrolled": false
   },
   "outputs": [
    {
     "name": "stdout",
     "output_type": "stream",
     "text": [
      "range(3):\n",
      "[0, 1, 2]\n",
      "range(-5, 5):\n",
      "[-5, -4, -3, -2, -1, 0, 1, 2, 3, 4]\n",
      "range(-5, 5, 2):\n",
      "[-5, -3, -1, 1, 3]\n"
     ]
    }
   ],
   "source": [
    "print \"range(3):\"\n",
    "print range(3) # start at zero, < the specified ceiling value\n",
    "print \"range(-5, 5):\"\n",
    "print range(-5, 5) #from the left value, < right value\n",
    "print \"range(-5, 5, 2):\"\n",
    "print range(-5, 5, 2) #from the left value, to the middle value, incrementing by the right value"
   ]
  },
  {
   "cell_type": "markdown",
   "metadata": {},
   "source": [
    "Note that `range(n)` starts at 0 and gives the sequential list of integers less than `n`. If you want to start at a different number, use range(start,stop). The first lists created below with range have a *step* of 1 between elements. You can also give a fixed step size via a third command:"
   ]
  },
  {
   "cell_type": "code",
   "execution_count": 8,
   "metadata": {
    "collapsed": false,
    "scrolled": false
   },
   "outputs": [
    {
     "name": "stdout",
     "output_type": "stream",
     "text": [
      "range(2,8):\n",
      "[2, 3, 4, 5, 6, 7]\n",
      "range(0,20,2):\n",
      "[0, 2, 4, 6, 8, 10, 12, 14, 16, 18]\n"
     ]
    }
   ],
   "source": [
    "print \"range(2,8):\"\n",
    "print range(2,8)\n",
    "evens = range(0,20,2)\n",
    "print \"range(0,20,2):\"\n",
    "print evens"
   ]
  },
  {
   "cell_type": "markdown",
   "metadata": {},
   "source": [
    "As an example let's rewrite above code for Fibonacci sequence using Python lists"
   ]
  },
  {
   "cell_type": "code",
   "execution_count": 9,
   "metadata": {
    "collapsed": false,
    "scrolled": false
   },
   "outputs": [
    {
     "name": "stdout",
     "output_type": "stream",
     "text": [
      "Fibonacci sequence with lists:\n",
      "[0, 1, 1, 2, 3, 5, 8, 13, 21]\n"
     ]
    }
   ],
   "source": [
    "i = 2\n",
    "seq = [0, 1]\n",
    "while seq[i-1] < 20: \n",
    "    seq.append(seq[i-1] + seq[i-2])\n",
    "    i = i + 1\n",
    "print \"Fibonacci sequence with lists:\"\n",
    "print seq"
   ]
  },
  {
   "cell_type": "markdown",
   "metadata": {},
   "source": [
    "`None` is a special value in Python. It is a value that indicates no value."
   ]
  },
  {
   "cell_type": "markdown",
   "metadata": {},
   "source": [
    ">### Exercise 2.1\n",
    "\n",
    ">* Add the letter \"d\" in `another_list` and print the result (see example above).\n",
    "\n",
    ">* Find the index for letter \"c\" in `another_list`. Assign result to `c_index` variable."
   ]
  },
  {
   "cell_type": "code",
   "execution_count": 27,
   "metadata": {
    "collapsed": false
   },
   "outputs": [
    {
     "name": "stdout",
     "output_type": "stream",
     "text": [
      "['a', 'b', 'c', 'd']\n",
      "2\n"
     ]
    }
   ],
   "source": [
    "# type your code here\n",
    "another_list.append(\"d\")\n",
    "print another_list\n",
    "c_index = another_list.index(\"c\")\n",
    "print c_index"
   ]
  },
  {
   "cell_type": "code",
   "execution_count": 15,
   "metadata": {
    "collapsed": false
   },
   "outputs": [
    {
     "name": "stdout",
     "output_type": "stream",
     "text": [
      "1 test passed. Exercise 2.1.1 is successful\n",
      "1 test passed. Exercise 2.1.2 is successful\n"
     ]
    }
   ],
   "source": [
    "from test_helper import Test\n",
    "\n",
    "Test.assertEqualsHashed(another_list, '2d20205b636068b94c6253d2c0a324067e02eacf', \n",
    "                        'Incorrect content of list \"another_list\"', \"Exercise 2.1.1 is successful\")\n",
    "Test.assertEqualsHashed(c_index, 'da4b9237bacccdf19c0760cab7aec4a8359010b0', \n",
    "                        'Incorrect value of \"c_index\"', \"Exercise 2.1.2 is successful\")"
   ]
  },
  {
   "cell_type": "markdown",
   "metadata": {},
   "source": [
    ">### Exercise 2.2\n",
    "\n",
    ">* Sort `another_list` in descending order and print the result.\n",
    "\n",
    ">* In the sentence \"Python is the word and only one word. And on and on and on and on...\" count the amount of all words. Write results to the `amount` variable. Count also how many times the word \"and\" occurs in this sentence (ignore capitalization). Write result to the `and_amount` variable. "
   ]
  },
  {
   "cell_type": "code",
   "execution_count": 52,
   "metadata": {
    "collapsed": false
   },
   "outputs": [
    {
     "name": "stdout",
     "output_type": "stream",
     "text": [
      "['d', 'c', 'b', 'a']\n",
      "16\n",
      "5\n"
     ]
    }
   ],
   "source": [
    "# type your code here\n",
    "another_list = ['a', 'b', 'c', 'd']\n",
    "another_list.sort(reverse=True)\n",
    "print another_list\n",
    "sentence = \"Python is the word and only one word. And on and on and on and on...\"\n",
    "amount = len(sentence.split(\" \"))\n",
    "print amount\n",
    "and_amount = sentence.lower().count(\"and\")\n",
    "print and_amount"
   ]
  },
  {
   "cell_type": "code",
   "execution_count": 53,
   "metadata": {
    "collapsed": false
   },
   "outputs": [
    {
     "name": "stdout",
     "output_type": "stream",
     "text": [
      "1 test passed. Exercise 2.2.1 is successful\n",
      "1 test passed. Exercise 2.2.2 is successful\n",
      "1 test passed. Exercise 2.2.3 is successful\n"
     ]
    }
   ],
   "source": [
    "Test.assertEqualsHashed(another_list, '16b42f397e8e00787c372edd00bc3dbcda6d130f', \n",
    "                        'Incorrect content of list \"another_list\"', \"Exercise 2.2.1 is successful\")\n",
    "Test.assertEqualsHashed(amount, '1574bddb75c78a6fd2251d61e2993b5146201319',\n",
    "                        'Incorrect value of \"amount\"', \"Exercise 2.2.2 is successful\")\n",
    "Test.assertEqualsHashed(and_amount, 'ac3478d69a3c81fa62e60f5c3696165a4e5e6ac4', \n",
    "                        'Incorrect value of \"and_amount\"', \"Exercise 2.2.3 is successful\")"
   ]
  },
  {
   "cell_type": "markdown",
   "metadata": {},
   "source": [
    "### Set"
   ]
  },
  {
   "cell_type": "markdown",
   "metadata": {},
   "source": [
    "[[back to top]](#Table-of-Contents)"
   ]
  },
  {
   "cell_type": "markdown",
   "metadata": {},
   "source": [
    "A set is a data structure where all elements are unique. Sets are unordered. In fact, the order of the elements observed when printing a set might change at different points during a programs execution, depending on the state of python's internal representation of the set. Sets are ideal for membership queries, for instance, is a user amongst those users who have received a promotion? \n",
    "\n",
    "Sets are specified by curly braces, `{ }`, containing one or more comma separated values. To specify an empty list, you can use the alternative construct, `set()`."
   ]
  },
  {
   "cell_type": "code",
   "execution_count": 54,
   "metadata": {
    "collapsed": true,
    "scrolled": false
   },
   "outputs": [],
   "source": [
    "some_set = {1, 2, 3, 4}\n",
    "another_set = {4, 5, 6}\n",
    "empty_set = set()"
   ]
  },
  {
   "cell_type": "markdown",
   "metadata": {},
   "source": [
    "We can also create a set from a list:"
   ]
  },
  {
   "cell_type": "code",
   "execution_count": 55,
   "metadata": {
    "collapsed": false,
    "scrolled": false
   },
   "outputs": [
    {
     "name": "stdout",
     "output_type": "stream",
     "text": [
      "my_set:\n",
      "set([0, 1, 2, 3, 5, 10, 11])\n",
      "my_set is subset of your_set:\n",
      "False\n"
     ]
    }
   ],
   "source": [
    "my_list = [1, 2, 3, 0, 5, 10, 11, 1, 5]\n",
    "your_list = [1, 2, 3, 0, 12, 13]\n",
    "my_set = set(my_list)\n",
    "your_set = set(your_list)\n",
    "print 'my_set:'\n",
    "print my_set\n",
    "print 'my_set is subset of your_set:'\n",
    "print my_set.issubset(your_set)"
   ]
  },
  {
   "cell_type": "markdown",
   "metadata": {},
   "source": [
    "The easiest way to check for membership in a set is to use the `in` keyword, checking if a needle is \"`in`\" the haystack set."
   ]
  },
  {
   "cell_type": "code",
   "execution_count": 56,
   "metadata": {
    "collapsed": false,
    "scrolled": false
   },
   "outputs": [
    {
     "name": "stdout",
     "output_type": "stream",
     "text": [
      "The value 1 appears in the variable some_set: True\n",
      "The value 0 appears in the variable some_set: False\n"
     ]
    }
   ],
   "source": [
    "print \"The value 1 appears in the variable some_set:\", 1 in some_set\n",
    "print \"The value 0 appears in the variable some_set:\", 0 in some_set"
   ]
  },
  {
   "cell_type": "markdown",
   "metadata": {},
   "source": [
    "We also have the \"`not in`\" operator"
   ]
  },
  {
   "cell_type": "code",
   "execution_count": 57,
   "metadata": {
    "collapsed": false,
    "scrolled": false
   },
   "outputs": [
    {
     "name": "stdout",
     "output_type": "stream",
     "text": [
      "Check that the value 5 does not appear in the variable some_set: True\n",
      "Check that the value 1 does not appear in the variable some_set: False\n"
     ]
    }
   ],
   "source": [
    "val = 5\n",
    "print \"Check that the value %d does not appear in the variable some_set:\" % val, (val not in some_set)\n",
    "val = 1\n",
    "print \"Check that the value %d does not appear in the variable some_set:\" % val, (val not in some_set)"
   ]
  },
  {
   "cell_type": "markdown",
   "metadata": {},
   "source": [
    "Some other common set functionality:\n",
    "\n",
    "+ `set_a.add(x)`: adds an element to a set\n",
    "+ `set_a.remove(x)`: removes an element from a set\n",
    "+ `set_a - set_b`: elements in a but not in b. Equivalent to `set_a.difference(set_b)`\n",
    "+ `set_a | set_b`: elements in a or b. Equivalent to `set_a.union(set_b)`\n",
    "+ `set_a & set_b`: elements in both a and b. Equivalent to `set_a.intersection(set_b)`\n",
    "+ `set_a ^ set_b`: elements in a or b but not both. Equivalent to `set_a.symmetric_difference(set_b)` \n",
    "+ `set_a <= set_b`:\ttests whether every element in set_a is in set_b. Equivalent to `set_a.issubset(set_b)`"
   ]
  },
  {
   "cell_type": "code",
   "execution_count": 59,
   "metadata": {
    "collapsed": false,
    "scrolled": false
   },
   "outputs": [
    {
     "name": "stdout",
     "output_type": "stream",
     "text": [
      "set_1:\n",
      "set([0, 1, 2, 3, 5, 10, 11]) \n",
      "\n",
      "set_2:\n",
      "set([0, 1, 2, 3, 12, 13]) \n",
      "\n",
      "set_2.add(6):\n",
      "set([0, 1, 2, 3, 6, 12, 13]) \n",
      "\n",
      "set_1.remove(5):\n",
      "set([0, 1, 2, 3, 10, 11]) \n",
      "\n",
      "Set substraction:\n",
      "set([10, 11])\n",
      "set([12, 13, 6]) \n",
      "\n",
      "Set union:\n",
      "set([0, 1, 2, 3, 6, 10, 11, 12, 13])\n",
      "set([0, 1, 2, 3, 6, 10, 11, 12, 13]) \n",
      "\n",
      "Set intersection:\n",
      "set([0, 1, 2, 3])\n",
      "set([0, 1, 2, 3]) \n",
      "\n",
      "Set symmetric difference:\n",
      "set([6, 10, 11, 12, 13])\n",
      "set([6, 10, 11, 12, 13]) \n",
      "\n",
      "Is subset:\n",
      "set_1 <= set_2: False\n",
      "set_2 <= set_1: False \n",
      "\n",
      "Is subset:\n",
      "{0, 1} <= {0, 1, 2, 3, 4}: True\n",
      "{0, 4, 2} <= {0, 1, 2, 3, 4}: True\n"
     ]
    }
   ],
   "source": [
    "set_1 = set([1, 2, 3, 0, 5, 10, 11, 1, 5])\n",
    "set_2 = {1, 2, 3, 0, 12, 13}\n",
    "\n",
    "print \"set_1:\"\n",
    "print set_1, '\\n'\n",
    "print \"set_2:\"\n",
    "print set_2, '\\n'\n",
    "\n",
    "set_2.add(6)\n",
    "print \"set_2.add(6):\"\n",
    "print set_2, '\\n'\n",
    "\n",
    "set_1.remove(5)\n",
    "print \"set_1.remove(5):\"\n",
    "print set_1, '\\n'\n",
    "\n",
    "print \"Set substraction:\"\n",
    "print set_1 - set_2\n",
    "print set_2 - set_1, '\\n'\n",
    "\n",
    "print \"Set union:\"\n",
    "print set_1 | set_2\n",
    "print set_2 | set_1, '\\n'\n",
    "\n",
    "print \"Set intersection:\"\n",
    "print set_1 & set_2\n",
    "print set_2 & set_1, '\\n'\n",
    "\n",
    "print \"Set symmetric difference:\"\n",
    "print set_1 ^ set_2\n",
    "print set_2 ^ set_1, '\\n'\n",
    "\n",
    "print \"Is subset:\"\n",
    "print 'set_1 <= set_2:', set_1 <= set_2\n",
    "print 'set_2 <= set_1:', set_2 <= set_1, '\\n'\n",
    "print \"Is subset:\"\n",
    "print '{0, 1} <= {0, 1, 2, 3, 4}:', {0, 1} <= {0, 1, 2, 3, 4}\n",
    "print '{0, 4, 2} <= {0, 1, 2, 3, 4}:', {0, 4, 2} <= {0, 1, 2, 3, 4}"
   ]
  },
  {
   "cell_type": "markdown",
   "metadata": {},
   "source": [
    ">### Exercise 2.3\n",
    "\n",
    "> You have three sets `s1 = {1, 2, 3}`, `s2 = {6, 7, 1, 5, 2}` and `s3 = {7, 3, 1, 9, 2, 0, 1, 2}`.\n",
    "\n",
    ">* Find all common numbers in `s1`, `s2` and `s3`. Write results to `common` variable.\n",
    "\n",
    ">* Find all numbers which are present only in one set form `s1`, `s2` and `s3`. Write results to `unique` variable.\n",
    "\n",
    ">* Find all numbers which are present in `s1` and `s2`, but are absent in `s3`. Write result to `not_in_s3` variable."
   ]
  },
  {
   "cell_type": "code",
   "execution_count": 74,
   "metadata": {
    "collapsed": false,
    "scrolled": false
   },
   "outputs": [
    {
     "name": "stdout",
     "output_type": "stream",
     "text": [
      "set([1, 2])\n",
      "set([0, 3, 5, 6, 7, 9])\n",
      "set([5, 6])\n"
     ]
    }
   ],
   "source": [
    "# type your code here\n",
    "s1 = {1, 2, 3}\n",
    "s2 = {6, 7, 1, 5, 2}\n",
    "s3 = {7, 3, 1, 9, 2, 0, 1, 2}\n",
    "common = s1 & s2 & s3\n",
    "print common\n",
    "unique = (s1 | s2 | s3) - common\n",
    "print unique\n",
    "not_in_s3 = unique - s3\n",
    "print not_in_s3"
   ]
  },
  {
   "cell_type": "code",
   "execution_count": 75,
   "metadata": {
    "collapsed": false
   },
   "outputs": [
    {
     "name": "stdout",
     "output_type": "stream",
     "text": [
      "1 test passed. Exercise 2.3.1 is successful\n",
      "1 test passed. Exercise 2.3.2 is successful\n",
      "1 test passed. Exercise 2.3.3 is successful\n"
     ]
    }
   ],
   "source": [
    "Test.assertEqualsHashed(common, '4876f5bf4c138cbd4e97101baf5dc8348ebc73ce', \n",
    "                        'Incorrect value of \"common\"', \"Exercise 2.3.1 is successful\")\n",
    "Test.assertEqualsHashed(unique, '7ccf18337b0cc9da5b8d3f379d6d5c2cc59b03d7', \n",
    "                        'Incorrect value of \"unique\"', \"Exercise 2.3.2 is successful\")\n",
    "Test.assertEqualsHashed(not_in_s3, 'df16cbf23c5925bbcbda7aeec72591dac9970ac8',\n",
    "                        'Incorrect value of \"not_in_s3\"', \"Exercise 2.3.3 is successful\")"
   ]
  },
  {
   "cell_type": "markdown",
   "metadata": {},
   "source": [
    "### Tuple"
   ]
  },
  {
   "cell_type": "markdown",
   "metadata": {},
   "source": [
    "[[back to top]](#Table-of-Contents)"
   ]
  },
  {
   "cell_type": "markdown",
   "metadata": {},
   "source": [
    "Tuples are immutable and contain a fixed number of elements. A tuple consists of a number of values separated by commas, for instance:"
   ]
  },
  {
   "cell_type": "code",
   "execution_count": 76,
   "metadata": {
    "collapsed": false,
    "scrolled": false
   },
   "outputs": [
    {
     "name": "stdout",
     "output_type": "stream",
     "text": [
      "t:\n",
      "(12345, 54321, 'hello!') \n",
      "\n",
      "t[0]:\n",
      "12345 \n",
      "\n",
      "my_tuple[1]:\n",
      "2 \n",
      "\n",
      "Two elements. The first one: NYU and the second one stern:\n"
     ]
    }
   ],
   "source": [
    "t = 12345, 54321, 'hello!'\n",
    "print 't:'\n",
    "print t,'\\n'\n",
    "print 't[0]:'\n",
    "print t[0],'\\n'\n",
    "\n",
    "my_tuple = (1, 2, 3)\n",
    "print 'my_tuple[1]:'\n",
    "print my_tuple[1],'\\n'\n",
    "\n",
    "print \"Two elements. The first one: %s and the second one %s:\" % (\"NYU\", \"stern\")"
   ]
  },
  {
   "cell_type": "markdown",
   "metadata": {},
   "source": [
    "Let's rewrite the Fibonacci script from above using tuples, to avoid the temporary variable t:"
   ]
  },
  {
   "cell_type": "code",
   "execution_count": 77,
   "metadata": {
    "collapsed": false,
    "scrolled": false
   },
   "outputs": [
    {
     "name": "stdout",
     "output_type": "stream",
     "text": [
      "Fibonacci series with tuples:\n",
      "1 1 2 3 5 8 13\n"
     ]
    }
   ],
   "source": [
    "# Fibonacci series:\n",
    "# the sum of two elements defines the next\n",
    "a = 0\n",
    "b = 1\n",
    "print \"Fibonacci series with tuples:\"\n",
    "while b < 20:\n",
    "    print b,\n",
    "    a, b = b, a+b"
   ]
  },
  {
   "cell_type": "markdown",
   "metadata": {},
   "source": [
    "### Dictionary"
   ]
  },
  {
   "cell_type": "markdown",
   "metadata": {},
   "source": [
    "[[back to top]](#Table-of-Contents)"
   ]
  },
  {
   "cell_type": "markdown",
   "metadata": {},
   "source": [
    "Dictionaries, sometimes called dicts, maps, or, rarely, hashes are data structures containing key-value pairs. Dictionaries have a set of unique keys and are used to retrieve the value information associated with these keys. For instance, a dictionary might be used to store for each user, that user's location, or for a product id, the description associated with that product. Lookup into a dictionary is very efficient, and because these data structures are very common, they are frequently used and encountered in practice. \n",
    "\n",
    "Dictionaries are specified by curly braces, `{ }`, containing zero or more comma separated key-value pairs, where the keys and values are separated by a colon, `:`. Like a list, values for a particular key are retrieved by passing the query key into square brackets."
   ]
  },
  {
   "cell_type": "code",
   "execution_count": 78,
   "metadata": {
    "collapsed": false,
    "scrolled": false
   },
   "outputs": [
    {
     "name": "stdout",
     "output_type": "stream",
     "text": [
      "a_dict['c']:\n",
      "4\n"
     ]
    }
   ],
   "source": [
    "a_dict = {\"a\":1, \"b\":2, \"c\":3, \"c\": 4}\n",
    "another_dict = {\"c\":5, \"d\":6}\n",
    "empty_dict = {}\n",
    "print \"a_dict['c']:\"\n",
    "print a_dict[\"c\"]"
   ]
  },
  {
   "cell_type": "markdown",
   "metadata": {},
   "source": [
    "Like the set, the easiest way to check if a particular key is in a map is through the `in` keyword:"
   ]
  },
  {
   "cell_type": "code",
   "execution_count": 79,
   "metadata": {
    "collapsed": false,
    "scrolled": false
   },
   "outputs": [
    {
     "name": "stdout",
     "output_type": "stream",
     "text": [
      "a in a dict:\n",
      "True\n",
      "b in another_dict:\n",
      "False\n"
     ]
    }
   ],
   "source": [
    "print \"a in a dict:\"\n",
    "print \"a\" in a_dict\n",
    "print \"b in another_dict:\"\n",
    "print \"b\" in another_dict"
   ]
  },
  {
   "cell_type": "markdown",
   "metadata": {},
   "source": [
    "Some common operations on dictionaries:\n",
    "\n",
    "+ `dict.keys()`: returns a list containing the keys of a dictionary\n",
    "+ `dict.values()`: returns a list containing the values in a dictionary\n",
    "+ `dict.pop(x)`: removes the key `x` and its associated value from the dictionary\n",
    "+ `dict.clear()`: removes all elements of dictionary `dict`\n",
    "+ `dict.copy()`: returns a shallow copy of dictionary `dict`\n",
    "+ `dict.fromkeys()`: сreates a new dictionary with keys from sequence and values set to value\t\n",
    "+ `dict.get(key, default=None)`: for key `key`, returns value or default if key not in dictionary\n",
    "+ `dict.has_key(key)`: returns true if key in dictionary `dict`, false otherwise\n",
    "+ `dict.items()`: returns a list of dict's (key, value) tuple pairs\n",
    "+ `dict.setdefault(key, default=None)`: similar to get(), but will set `dict[key]=default` if `key` is not already in dict\n",
    "+ `dict.update(dict_2)`: adds dictionary `dict_2`'s key-values pairs to `dict`"
   ]
  },
  {
   "cell_type": "code",
   "execution_count": 80,
   "metadata": {
    "collapsed": false,
    "scrolled": false
   },
   "outputs": [
    {
     "name": "stdout",
     "output_type": "stream",
     "text": [
      "dict_1 keys:\n",
      "['a', 'c', 'b', 'd']\n",
      "dict_1 values:\n",
      "[1, 3, 2, 4] \n",
      "\n",
      "dict_01 from keys 'seq':\n",
      "{'age': None, 'name': None, 'sex': None} \n",
      "\n",
      "dict_2.pop('e'):\n",
      "{'d': 5, 'f': 7} \n",
      "\n",
      "dict_2:\n",
      "{'d': 5, 'f': 7}\n",
      "dict_3:\n",
      "{'d': 5, 'f': 7}\n",
      "dict_4:\n",
      "{'d': 5, 'f': 7} \n",
      "\n",
      "After dict_2.clear():\n",
      "dict_2:\n",
      "{}\n",
      "dict_3:\n",
      "{'d': 5, 'f': 7}\n",
      "dict_4:\n",
      "{} \n",
      "\n",
      "dict_02 from keys 'seq':\n",
      "{'age': 5, 'name': 5, 'sex': 5} \n",
      "\n",
      "dict_1.has_key():\n",
      "True\n",
      "dict_1.has_key('f'):\n",
      "False \n",
      "\n",
      "dict_1 get 'b':\n",
      "2 \n",
      "\n",
      "dict_1 get 'f':\n",
      "None \n",
      "\n",
      "dict_1 items:\n",
      "[('a', 1), ('c', 3), ('b', 2), ('d', 4)] \n",
      "\n",
      "dict_1 update:\n",
      "{'a': 1, 'x': 0, 'c': 3, 'b': 2, 'd': 4}\n"
     ]
    }
   ],
   "source": [
    "dict_1 = {\"a\":1, \"b\":2, \"c\":3, \"d\": 4}\n",
    "dict_2 = {\"d\":5, \"e\":6, \"f\": 7}\n",
    "print \"dict_1 keys:\"\n",
    "print dict_1.keys()\n",
    "print \"dict_1 values:\"\n",
    "print dict_1.values(), '\\n'\n",
    "\n",
    "\n",
    "seq = ('name', 'age', 'sex')\n",
    "dict_01 = dict.fromkeys(seq)\n",
    "print \"dict_01 from keys 'seq':\"\n",
    "print dict_01, '\\n'\n",
    "\n",
    "dict_2.pop(\"e\")\n",
    "print \"dict_2.pop('e'):\"\n",
    "print dict_2, '\\n'\n",
    "\n",
    "dict_3 = dict_2.copy()\n",
    "dict_4 = dict_2\n",
    "print \"dict_2:\"\n",
    "print dict_2\n",
    "print 'dict_3:'\n",
    "print dict_3\n",
    "print 'dict_4:'\n",
    "print dict_4, '\\n'\n",
    "\n",
    "dict_2.clear()\n",
    "print \"After dict_2.clear():\"\n",
    "print \"dict_2:\"\n",
    "print dict_2         # is removed\n",
    "print 'dict_3:'\n",
    "print dict_3         # is NOT removed\n",
    "print 'dict_4:'\n",
    "print dict_4, '\\n'   # is removed also\n",
    "\n",
    "dict_02 = dict.fromkeys(seq, 5)\n",
    "print \"dict_02 from keys 'seq':\"\n",
    "print dict_02, '\\n'\n",
    "\n",
    "print \"dict_1.has_key(\"b\"):\"\n",
    "print dict_1.has_key(\"b\")\n",
    "print \"dict_1.has_key('f'):\"\n",
    "print dict_1.has_key(\"f\"), '\\n'\n",
    "\n",
    "print \"dict_1 get 'b':\"\n",
    "print dict_1.get(\"b\"), '\\n'\n",
    "print \"dict_1 get 'f':\"\n",
    "print dict_1.get(\"f\"), '\\n'\n",
    "\n",
    "print \"dict_1 items:\"\n",
    "print dict_1.items(), '\\n'\n",
    "\n",
    "dict_1.update({\"x\": 0})\n",
    "print \"dict_1 update:\"\n",
    "print dict_1"
   ]
  },
  {
   "cell_type": "markdown",
   "metadata": {
    "collapsed": true
   },
   "source": [
    ">### Exercise 2.4\n",
    "\n",
    "> You have three dictionaries \n",
    "\n",
    "> 1. `john = {\"name\": \"John\", \"age\": 23, \"profession\": \"Python Developer\", \"salary\": 80000}`; \n",
    "> 2. `thomas = {\"name\": \"Thomas\", \"age\": 53, \"profession\": \"Teacher\", \"salary\": 15000}`; \n",
    "> 3. `barbara = {\"name\": \"Barbara\", \"age\": 30, \"profession\": \"Doctor\", \"salary\": 47000}`;\n",
    "\n",
    "> For these dictionaries you need:\n",
    "\n",
    ">* Barbara had the birthday yesterday, now she is 31, and the John's salary increased to 85000 last month. Correct these data.\n",
    "\n",
    ">* Calculate the `diff` value as the difference between average salary of John, Thomas and Barbara before and after the previous corrections.  "
   ]
  },
  {
   "cell_type": "code",
   "execution_count": 83,
   "metadata": {
    "collapsed": false,
    "scrolled": false
   },
   "outputs": [
    {
     "name": "stdout",
     "output_type": "stream",
     "text": [
      "-1667\n"
     ]
    }
   ],
   "source": [
    "# type your code here\n",
    "john = {\"name\": \"John\", \"age\": 23, \"profession\": \"Python Developer\", \"salary\": 80000}\n",
    "thomas = {\"name\": \"Thomas\", \"age\": 53, \"profession\": \"Teacher\", \"salary\": 15000}\n",
    "barbara = {\"name\": \"Barbara\", \"age\": 30, \"profession\": \"Doctor\", \"salary\": 47000}\n",
    "avg1 = (john.get(\"salary\") + thomas.get(\"salary\") + barbara.get(\"salary\"))/3\n",
    "barbara.update({\"age\": 31})\n",
    "john.update({\"salary\": 85000})\n",
    "avg2 = (john.get(\"salary\") + thomas.get(\"salary\") + barbara.get(\"salary\"))/3\n",
    "diff = avg1 - avg2\n",
    "print diff"
   ]
  },
  {
   "cell_type": "code",
   "execution_count": 84,
   "metadata": {
    "collapsed": false
   },
   "outputs": [
    {
     "name": "stdout",
     "output_type": "stream",
     "text": [
      "1 test passed. Exercise 2.4.1 is successful\n",
      "1 test passed. Exercise 2.4.2 is successful\n"
     ]
    }
   ],
   "source": [
    "Test.assertEqualsHashed((john, thomas, barbara), '82b9d6d71decccef342e403e75e3692ce35912c0', \n",
    "                        'Some of dictionaries \"john\", \"thomas\" or \"barbara\" contains incorrect data', \"Exercise 2.4.1 is successful\")\n",
    "Test.assertEqualsHashed(diff, '364a41be14bf74959a727cb8d4930247fc293b92', 'Incorrect value of \"diff\"', \"Exercise 2.4.2 is successful\")"
   ]
  },
  {
   "cell_type": "markdown",
   "metadata": {},
   "source": [
    "Function **`cmp(obj_1, obj_2)`** compares elements of both objects `obj_1` and `obj_2`. It is available for lists, tuples and dictionaries."
   ]
  },
  {
   "cell_type": "code",
   "execution_count": 85,
   "metadata": {
    "collapsed": false,
    "scrolled": false
   },
   "outputs": [
    {
     "name": "stdout",
     "output_type": "stream",
     "text": [
      "Comparsion between dict1 and dict2 : -1\n",
      "Comparsion between dict2 and dict3 : 1\n",
      "Comparsion between dict1 and dict4 : 0\n"
     ]
    }
   ],
   "source": [
    "dict1 = {'Name': 'Zara', 'Age': 7}\n",
    "dict2 = {'Name': 'Mahnaz', 'Age': 27}\n",
    "dict3 = {'Name': 'Abid', 'Age': 27}\n",
    "dict4 = {'Name': 'Zara', 'Age': 7}\n",
    "\n",
    "print \"Comparsion between dict1 and dict2 : %d\" %  cmp (dict1, dict2)   # no one values of all keys coincede\n",
    "print \"Comparsion between dict2 and dict3 : %d\" %  cmp (dict2, dict3)   # values of one key \"Age\" coincide\n",
    "print \"Comparsion between dict1 and dict4 : %d\" %  cmp (dict1, dict4)   # both keys \"Name\" and \"Age\" values coincide "
   ]
  },
  {
   "cell_type": "markdown",
   "metadata": {},
   "source": [
    "### Combining Data Structures"
   ]
  },
  {
   "cell_type": "markdown",
   "metadata": {},
   "source": [
    "[[back to top]](#Table-of-Contents)"
   ]
  },
  {
   "cell_type": "markdown",
   "metadata": {
    "collapsed": true
   },
   "source": [
    "There are many opportunities to combine data types in python. Lists can be populated by arbitrary data structures. Similarly, you can use any type as the value in a dictionary. However, the elements of sets, and the keys of dictionaries need to have some special properties that allow the mechanics of the data structure to determine how to store the element."
   ]
  },
  {
   "cell_type": "code",
   "execution_count": 86,
   "metadata": {
    "collapsed": false,
    "scrolled": false
   },
   "outputs": [
    {
     "name": "stdout",
     "output_type": "stream",
     "text": [
      "lists of lists\n",
      "[[1, 2, 3], [4, 5, 6, 7]]\n",
      "lists of lists of lists\n",
      "[[[1, 2, 3], [4, 5, 6, 7]], [[4, 5, 6], [7, 8, 9]]]\n",
      "retrieving data from this data structure\n",
      "[[1, 2, 3], [4, 5, 6, 7]]\n",
      "[1, 2, 3]\n",
      "1\n",
      "data structures as values in a dictionary\n",
      "{'lol': [[1, 2, 3], [4, 5, 6, 7]], 'lol_2': [[4, 5, 6], [7, 8, 9]]}\n",
      "retrieving data from this dictionary\n",
      "[[1, 2, 3], [4, 5, 6, 7]]\n",
      "[1, 2, 3]\n",
      "1\n"
     ]
    }
   ],
   "source": [
    "print \"lists of lists\"\n",
    "lol = [[1, 2, 3], [4, 5, 6, 7]]\n",
    "lol_2 = [[4, 5, 6], [7, 8, 9]]\n",
    "print lol\n",
    "\n",
    "print \"lists of lists of lists\"\n",
    "lolol = [lol, lol_2]\n",
    "print lolol\n",
    "\n",
    "print \"retrieving data from this data structure\"\n",
    "print lolol[0]\n",
    "print lolol[0][0]\n",
    "print lolol[0][0][0]\n",
    "\n",
    "print \"data structures as values in a dictionary\"\n",
    "dlol = {\"lol\":lol, \"lol_2\":lol_2}\n",
    "print dlol\n",
    "\n",
    "print \"retrieving data from this dictionary\"\n",
    "print dlol[\"lol\"]\n",
    "print dlol[\"lol\"][0]\n",
    "print dlol[\"lol\"][0][0]"
   ]
  },
  {
   "cell_type": "markdown",
   "metadata": {},
   "source": [
    "<center><h3>Presented by <a target=\"_blank\" href=\"http://datascience-school.com\">datascience-school.com</a></h3></center>"
   ]
  }
 ],
 "metadata": {
  "anaconda-cloud": {},
  "kernelspec": {
   "display_name": "Python 2",
   "language": "python",
   "name": "python2"
  },
  "language_info": {
   "codemirror_mode": {
    "name": "ipython",
    "version": 2
   },
   "file_extension": ".py",
   "mimetype": "text/x-python",
   "name": "python",
   "nbconvert_exporter": "python",
   "pygments_lexer": "ipython2",
   "version": "2.7.10"
  }
 },
 "nbformat": 4,
 "nbformat_minor": 1
}
