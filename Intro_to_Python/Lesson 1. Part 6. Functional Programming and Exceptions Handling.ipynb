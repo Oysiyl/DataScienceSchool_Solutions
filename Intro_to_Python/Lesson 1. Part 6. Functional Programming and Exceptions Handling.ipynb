{
 "cells": [
  {
   "cell_type": "markdown",
   "metadata": {},
   "source": [
    "---\n",
    "<center><h1> Lesson 1 - Crash course into Python</h1></center>\n",
    "---\n",
    "---\n",
    "\n",
    "<center><h1>Part 6. Functional Programming and Exceptions Handling</h1></center>\n",
    "\n",
    "---"
   ]
  },
  {
   "cell_type": "markdown",
   "metadata": {},
   "source": [
    "## Table of Contents\n",
    "- [Functional Programming](#Functional-Programming)\n",
    "    * [`lambda` Expression](#lambda-Expression)\n",
    "    * [`map()`, `filter()` and `reduce()` Functions](#map)\n",
    "    * [Iterators](#Iterators)\n",
    "    * [List Comprehensions](#List-Comprehensions)\n",
    "    * [Generators and Generator Expressions](#Generators-and-Generator-Expressions)\n",
    "    * [Decorators](#Decorators)\n",
    "    * [Exercise 6.1](#Exercise-6.1)\n",
    "- [Exceptions Handling](#Exceptions-Handling)\n",
    "    * [Catching Exceptions: `try ... except ... else ... finally` block](#Catching-Exceptions:-try-...-except-...-else-...-finally-block)\n",
    "    * [The `assert` Statement](#The-assert-Statement)"
   ]
  },
  {
   "cell_type": "markdown",
   "metadata": {},
   "source": [
    "---\n",
    "## Functional Programming"
   ]
  },
  {
   "cell_type": "markdown",
   "metadata": {},
   "source": [
    "Python is a multi-paradigm language; it notably supports imperative, object-oriented, and functional programming models. Python functions are objects and can be handled like other objects. In particular, they can be passed as arguments to other functions (also called higher-order functions). This the essence of functional programming.\n",
    "\n",
    "Functional programming is a very broad subject. The idea is to have a series of functions, each of which generates a new data structure from an input, without changing the input structure at all. By not modifying the input structure (something that is called not having *side effects*), many guarantees can be made about how independent the processes are, which can help parallelization and guarantees of program accuracy. There is a [Python Functional Programming HOWTO](http://docs.python.org/2/howto/functional.html) in the standard docs that goes into more details on functional programming. I just wanted to touch on a few of the most important ideas here."
   ]
  },
  {
   "cell_type": "markdown",
   "metadata": {},
   "source": [
    "### `lambda` Expression"
   ]
  },
  {
   "cell_type": "markdown",
   "metadata": {},
   "source": [
    "[[back to top]](#Table-of-Contents)"
   ]
  },
  {
   "cell_type": "markdown",
   "metadata": {
    "collapsed": true
   },
   "source": [
    "The 'lambda' operator allows us to build _anonymous functions_, which are simply functions that aren't defined by a normal 'def' statement with a name. This is not exactly the same as lambda in functional programming languages, but it is a very powerful concept that's well integrated into Python and is often used in conjunction with typical functional concepts like `filter()`, `map()` and `reduce()`.\n",
    "\n",
    "Syntax of Lambda Function\n",
    "\n",
    "    lambda arg1, arg2, ...argN : expression using arguments\n",
    "    \n",
    "Lambda functions can have any number of arguments but only one expression. The expression is evaluated and returned. Lambda functions can be used wherever function objects are required\n",
    "\n",
    "For example, a function that raises a argument to a power of two is:"
   ]
  },
  {
   "cell_type": "code",
   "execution_count": 1,
   "metadata": {
    "collapsed": false,
    "scrolled": false
   },
   "outputs": [
    {
     "data": {
      "text/plain": [
       "100"
      ]
     },
     "execution_count": 1,
     "metadata": {},
     "output_type": "execute_result"
    }
   ],
   "source": [
    "def square(x):\n",
    "    return x**2\n",
    "square(10)"
   ]
  },
  {
   "cell_type": "markdown",
   "metadata": {},
   "source": [
    "The same result using `lambda` expression:"
   ]
  },
  {
   "cell_type": "code",
   "execution_count": 2,
   "metadata": {
    "collapsed": false,
    "scrolled": false
   },
   "outputs": [
    {
     "data": {
      "text/plain": [
       "<function __main__.<lambda>>"
      ]
     },
     "execution_count": 2,
     "metadata": {},
     "output_type": "execute_result"
    }
   ],
   "source": [
    "lambda x: x**2"
   ]
  },
  {
   "cell_type": "code",
   "execution_count": 3,
   "metadata": {
    "collapsed": false,
    "scrolled": false
   },
   "outputs": [
    {
     "data": {
      "text/plain": [
       "100"
      ]
     },
     "execution_count": 3,
     "metadata": {},
     "output_type": "execute_result"
    }
   ],
   "source": [
    "square_lambda = lambda x: x**2\n",
    "square_lambda(10)"
   ]
  },
  {
   "cell_type": "markdown",
   "metadata": {},
   "source": [
    "And a few additional examples:"
   ]
  },
  {
   "cell_type": "code",
   "execution_count": 4,
   "metadata": {
    "collapsed": false,
    "scrolled": false
   },
   "outputs": [
    {
     "name": "stdout",
     "output_type": "stream",
     "text": [
      "two(1,2):\n",
      "3\n",
      "f('This is a string'):\n",
      "This, is, a, string\n",
      "f(0):\n",
      "None\n"
     ]
    }
   ],
   "source": [
    "# lambda function with many arguments\n",
    "two = lambda x, y: x + y\n",
    "print 'two(1,2):'\n",
    "print two(1, 2)\n",
    "\n",
    "# and one more example\n",
    "f = lambda x: ', '.join(x.strip().split()) if isinstance(x, str) else None\n",
    "print \"f('This is a string'):\"\n",
    "print f('This is a string')\n",
    "print 'f(0):'\n",
    "print f(0)"
   ]
  },
  {
   "cell_type": "markdown",
   "metadata": {},
   "source": [
    "We have used the `isinstance(arg, a_type)` function which returns `True` if type of `arg` coincides with `a_type` else False. It is equivalent to the expression `type(arg) == a_type`.\n",
    "\n",
    "Here is a simple example of using lambda with built-in function `sorted()`:\n",
    "\n",
    "    sorted(iterable[, key][, reverse])\n",
    "    \n",
    "The `sorted()` have a `key` parameter to specify a function to be called on each list element prior to making comparisons."
   ]
  },
  {
   "cell_type": "code",
   "execution_count": 5,
   "metadata": {
    "collapsed": false,
    "scrolled": false
   },
   "outputs": [
    {
     "data": {
      "text/plain": [
       "[('George', 'Miami', 18), ('James', 'New York', 24), ('Barbara', 'Dallas', 27)]"
      ]
     },
     "execution_count": 5,
     "metadata": {},
     "output_type": "execute_result"
    }
   ],
   "source": [
    "people = [\n",
    "    ('James', 'New York', 24),\n",
    "    ('Barbara', 'Dallas', 27),\n",
    "    ('George', 'Miami', 18),\n",
    "]\n",
    "sorted(people, key=lambda age: age[2])"
   ]
  },
  {
   "cell_type": "markdown",
   "metadata": {},
   "source": [
    "<a id=\"map\">"
   ]
  },
  {
   "cell_type": "markdown",
   "metadata": {},
   "source": [
    "### `map()`, `filter()` and `reduce()` Functions"
   ]
  },
  {
   "cell_type": "markdown",
   "metadata": {},
   "source": [
    "[[back to top]](#Table-of-Contents)"
   ]
  },
  {
   "cell_type": "markdown",
   "metadata": {
    "collapsed": true
   },
   "source": [
    "The `map()` function in Python takes in a function and a list. The function is called with all the items in the list and a new list is returned which contains items returned by that function for each item. \n",
    "\n",
    "> Note, `map()`, `filter()` functions return result of list type in Python 2 and an iterator in Python 3.\n",
    "\n",
    "Here is examples of using of `map()` function:"
   ]
  },
  {
   "cell_type": "code",
   "execution_count": 6,
   "metadata": {
    "collapsed": false,
    "scrolled": false
   },
   "outputs": [
    {
     "name": "stdout",
     "output_type": "stream",
     "text": [
      "new_list:\n",
      "[2, 10, 14, 12, 8, 22, 0, 30]\n",
      "new_list_2:\n",
      "[2, 10, 14, 12, 8, 22, 0, 30]\n"
     ]
    }
   ],
   "source": [
    "# Let's double each item in a list using map() and lambda functions\n",
    "a_list = [1, 5, 7, 6, 4, 11, 0, 15]\n",
    "\n",
    "new_list = map(lambda x: x * 2 , a_list)\n",
    "print \"new_list:\"\n",
    "print(new_list)\n",
    "\n",
    "# Above result we could obtain using loops\n",
    "new_list_2 = []\n",
    "for x in a_list:\n",
    "    new_list_2.append(x * 2)\n",
    "print \"new_list_2:\"\n",
    "print(new_list_2)"
   ]
  },
  {
   "cell_type": "code",
   "execution_count": 7,
   "metadata": {
    "collapsed": false,
    "scrolled": false
   },
   "outputs": [
    {
     "name": "stdout",
     "output_type": "stream",
     "text": [
      "Converted to fahrenheit:\n",
      "[32.0, 14.0, 64.4, 77.9]\n"
     ]
    }
   ],
   "source": [
    "# You may use before defined function in map(), not only lambda\n",
    "def fahrenheit(T):\n",
    "    return (9/5.)*T + 32\n",
    "\n",
    "celcius = [0, -10, 18, 25.5] \n",
    "converted = map(fahrenheit, celcius)\n",
    "print \"Converted to fahrenheit:\"\n",
    "print converted"
   ]
  },
  {
   "cell_type": "markdown",
   "metadata": {},
   "source": [
    "If function is `None`, the identity function is assumed; if there are multiple arguments, `map()` returns a list consisting of tuples containing the corresponding items from all iterables (a kind of transpose operation). The iterable arguments may be a sequence or any iterable object; the result is always a list:"
   ]
  },
  {
   "cell_type": "code",
   "execution_count": 8,
   "metadata": {
    "collapsed": false,
    "scrolled": false
   },
   "outputs": [
    {
     "name": "stdout",
     "output_type": "stream",
     "text": [
      "Result of map with None func and 2 tuples:\n",
      "[(1, -4), (2, -5), (3, -6)]\n"
     ]
    }
   ],
   "source": [
    "a = [1, 2, 3]\n",
    "b = [-4, -5, -6]\n",
    "a_tuple = map(None, a, b)\n",
    "print \"Result of map with None func and 2 tuples:\"\n",
    "print a_tuple"
   ]
  },
  {
   "cell_type": "markdown",
   "metadata": {},
   "source": [
    "The `filter()` function in Python takes in a function and a list as arguments. The function is called with all the items in the list and a new list is returned which contains items for which the function evaluats to `True`."
   ]
  },
  {
   "cell_type": "code",
   "execution_count": 9,
   "metadata": {
    "collapsed": false,
    "scrolled": false
   },
   "outputs": [
    {
     "name": "stdout",
     "output_type": "stream",
     "text": [
      "new_list:\n",
      "[6, 4, 0]\n",
      "new_list2:\n",
      "[6, 4, 0]\n"
     ]
    }
   ],
   "source": [
    "# Let's filter out only the even items from a list using filter() and lambda functions\n",
    "a_list = [1, 5, 7, 6, 4, 11, 0, 15]\n",
    "\n",
    "new_list = filter(lambda x: (x%2 == 0) , a_list)\n",
    "print \"new_list:\"\n",
    "print(new_list)\n",
    "\n",
    "# The same with help of loops\n",
    "new_list_2 = []\n",
    "for x in a_list:\n",
    "    if x%2 == 0:\n",
    "        new_list_2.append(x)\n",
    "print \"new_list2:\"\n",
    "print(new_list_2)"
   ]
  },
  {
   "cell_type": "code",
   "execution_count": 10,
   "metadata": {
    "collapsed": false,
    "scrolled": false
   },
   "outputs": [
    {
     "name": "stdout",
     "output_type": "stream",
     "text": [
      "list(range(-5,5)):\n",
      "[-5, -4, -3, -2, -1, 0, 1, 2, 3, 4]\n",
      "list( filter((lambda x: x < 0), range(-5,5))):\n",
      "[-5, -4, -3, -2, -1]\n"
     ]
    }
   ],
   "source": [
    "# As a list we may use range(), for example\n",
    "# all values\n",
    "print \"list(range(-5,5)):\"\n",
    "print list(range(-5,5))\n",
    "\n",
    "# only negative values\n",
    "print \"list( filter((lambda x: x < 0), range(-5,5))):\"\n",
    "print list( filter((lambda x: x < 0), range(-5,5)))"
   ]
  },
  {
   "cell_type": "markdown",
   "metadata": {},
   "source": [
    "The function `reduce(func, seq)` continually applies the function `func` to the sequence `seq`. _**It returns a single value**_. \n",
    "\n",
    "Suppose, `seq = [s1, s2, s3, ... , sn]` and `func = lambda x, y: x + y`, calling `reduce(func, seq)` will work like this:\n",
    "\n",
    "* At first the first two elements of seq will be applied to `func`, i.e. `func(s1,s2)`. Thus `func` returns `s1 + s2`. The list on which `reduce()` works looks now like this: `[func(s1, s2), s3, ... , sn]`;\n",
    "\n",
    "* In the next step `func` will be applied on the previous result and the third element of the list, i.e. `func(func(s1, s2),s3)`. Thus `func` returns `(s1 + s2) + s3`. The list looks like this now: `[func(func(s1, s2),s3), ... , sn]`;\n",
    "\n",
    "* Continue like this until just one element is left and return this element as the result of `reduce()`. The final result will look like `func(func(func(s1, s2),s3) ... ), sn)` or `((s1 + s2) + s3) + ... ) + sn `."
   ]
  },
  {
   "cell_type": "code",
   "execution_count": 12,
   "metadata": {
    "collapsed": false,
    "scrolled": false
   },
   "outputs": [
    {
     "name": "stdout",
     "output_type": "stream",
     "text": [
      "Sum of a list:\n",
      "15\n",
      "Above result using loops:\n",
      "15\n",
      "Determining the maximum of a list of numerical values:\n",
      "102\n"
     ]
    }
   ],
   "source": [
    "# Sum of a list\n",
    "print \"Sum of a list:\"\n",
    "print reduce(lambda x, y: x + y, [1, 2, 3, 4, 5])\n",
    "\n",
    "# Above result using loops\n",
    "s = 0\n",
    "for x in range(1,6):\n",
    "    s += x\n",
    "print \"Above result using loops:\"\n",
    "print s\n",
    "\n",
    "# Determining the maximum of a list of numerical values\n",
    "f = lambda a, b: a if (a > b) else b\n",
    "print \"Determining the maximum of a list of numerical values:\"\n",
    "print reduce(f, [-47, 11, -42, 102, 13])"
   ]
  },
  {
   "cell_type": "markdown",
   "metadata": {},
   "source": [
    "### Iterators"
   ]
  },
  {
   "cell_type": "markdown",
   "metadata": {},
   "source": [
    "[[back to top]](#Table-of-Contents)"
   ]
  },
  {
   "cell_type": "markdown",
   "metadata": {
    "collapsed": true
   },
   "source": [
    "An iterator is an object representing a stream of data; this object returns the data one element at a time. A Python iterator must support a method called `next()` that takes no arguments and always returns the next element of the stream. If there are no more elements in the stream, `next()` must raise the `StopIteration` exception. Iterators don’t have to be finite, though; it’s perfectly reasonable to write an iterator that produces an infinite stream of data."
   ]
  },
  {
   "cell_type": "code",
   "execution_count": 14,
   "metadata": {
    "collapsed": false,
    "scrolled": false
   },
   "outputs": [
    {
     "name": "stdout",
     "output_type": "stream",
     "text": [
      "Iterator:\n",
      "<listiterator object at 0x7fce06751a90>\n",
      "Iterations:\n",
      "1\n",
      "2\n",
      "3\n",
      "4\n"
     ]
    },
    {
     "ename": "StopIteration",
     "evalue": "",
     "output_type": "error",
     "traceback": [
      "\u001b[1;31m---------------------------------------------------------------------------\u001b[0m",
      "\u001b[1;31mStopIteration\u001b[0m                             Traceback (most recent call last)",
      "\u001b[1;32m<ipython-input-14-3f477b1620cd>\u001b[0m in \u001b[0;36m<module>\u001b[1;34m()\u001b[0m\n\u001b[0;32m      9\u001b[0m \u001b[1;32mprint\u001b[0m \u001b[0mmy_iter\u001b[0m\u001b[1;33m.\u001b[0m\u001b[0mnext\u001b[0m\u001b[1;33m(\u001b[0m\u001b[1;33m)\u001b[0m\u001b[1;33m\u001b[0m\u001b[0m\n\u001b[0;32m     10\u001b[0m \u001b[1;32mprint\u001b[0m \u001b[0mmy_iter\u001b[0m\u001b[1;33m.\u001b[0m\u001b[0mnext\u001b[0m\u001b[1;33m(\u001b[0m\u001b[1;33m)\u001b[0m\u001b[1;33m\u001b[0m\u001b[0m\n\u001b[1;32m---> 11\u001b[1;33m \u001b[1;32mprint\u001b[0m \u001b[0mmy_iter\u001b[0m\u001b[1;33m.\u001b[0m\u001b[0mnext\u001b[0m\u001b[1;33m(\u001b[0m\u001b[1;33m)\u001b[0m\u001b[1;33m\u001b[0m\u001b[0m\n\u001b[0m",
      "\u001b[1;31mStopIteration\u001b[0m: "
     ]
    }
   ],
   "source": [
    "#last line makes error because there is no more elements in this stream\n",
    "a_list = [1, 2, 3, 4]\n",
    "my_iter = iter(a_list)\n",
    "print \"Iterator:\"\n",
    "print my_iter\n",
    "print \"Iterations:\"\n",
    "print my_iter.next()\n",
    "print my_iter.next()\n",
    "print my_iter.next()\n",
    "print my_iter.next()\n",
    "print my_iter.next()"
   ]
  },
  {
   "cell_type": "markdown",
   "metadata": {},
   "source": [
    "Strings, lists, tuples and dictionaries support iterators. On each iteration in loop interpreter calls the `next()` method."
   ]
  },
  {
   "cell_type": "code",
   "execution_count": 16,
   "metadata": {
    "collapsed": false,
    "scrolled": false
   },
   "outputs": [
    {
     "name": "stdout",
     "output_type": "stream",
     "text": [
      "Iter for string:\n",
      "s\n",
      "t\n",
      "r\n",
      "i\n",
      "n\n",
      "g\n",
      "Iter for list:\n",
      "1\n",
      "2\n",
      "3\n",
      "4\n",
      "Iter for tuple:\n",
      "1\n",
      "2\n",
      "3\n",
      "4\n",
      "Iter for dictionary:\n",
      "y\n",
      "x\n"
     ]
    }
   ],
   "source": [
    "# for string\n",
    "print \"Iter for string:\"\n",
    "for i in 'string':\n",
    "    print i\n",
    "\n",
    "print \"Iter for list:\"\n",
    "# for lists (despite we have seen an example above)\n",
    "for i in [1, 2, 3, 4]:\n",
    "    print i\n",
    "    \n",
    "print \"Iter for tuple:\"\n",
    "# for tuples\n",
    "for i in (1, 2, 3, 4):\n",
    "    print i\n",
    "\n",
    "print \"Iter for dictionary:\"\n",
    "# for dictionaries\n",
    "for i in {\"x\": 1, \"y\": 2}:\n",
    "    print i"
   ]
  },
  {
   "cell_type": "markdown",
   "metadata": {},
   "source": [
    "### List Comprehensions"
   ]
  },
  {
   "cell_type": "markdown",
   "metadata": {},
   "source": [
    "[[back to top]](#Table-of-Contents)"
   ]
  },
  {
   "cell_type": "markdown",
   "metadata": {
    "collapsed": true
   },
   "source": [
    "The practical data scientist often faces situations where one list is to be transformed into another list, transforming the values in the input array, filtering out certain undesired values, etc. List comprehensions are a natural, flexible way to perform these transformations on the elements in a list. \n",
    "\n",
    "The syntax of list comprehensions is based on the way mathematicians define sets and lists, a syntax that leaves it clear what the contents should be:\n",
    "\n",
    "+ `S = {x² : x in {0 ... 9}}`\n",
    "\n",
    "+ `V = (1, 2, 4, 8, ..., 2¹²)`\n",
    "\n",
    "+ `M = {x | x in S and x even}`\n",
    "\n",
    "List comprehensions apply an arbitrary expression to items in an iterable rather than applying function. It provides a compact way of mapping a list into another list by applying a function to each of the elements of the list.\n",
    "\n",
    "Python's list comprehensions give a very natural way to write statements just like these. You can write math-like expressions without having to much special syntax."
   ]
  },
  {
   "cell_type": "code",
   "execution_count": 17,
   "metadata": {
    "collapsed": false,
    "scrolled": false
   },
   "outputs": [
    {
     "name": "stdout",
     "output_type": "stream",
     "text": [
      "With list comprehensions:\n",
      "[0.0, 1.0, 4.0, 9.0, 16.0, 25.0, 36.0, 49.0, 64.0, 81.0]\n",
      "With 'for' loop:\n",
      "[0.0, 1.0, 4.0, 9.0, 16.0, 25.0, 36.0, 49.0, 64.0, 81.0]\n"
     ]
    }
   ],
   "source": [
    "import math\n",
    "S = [math.pow(x, 2) for x in range(0,10)]\n",
    "print \"With list comprehensions:\"\n",
    "print S\n",
    "\n",
    "S = []\n",
    "for x in range(0,10):\n",
    "     S.append(math.pow(x,2))\n",
    "print \"With 'for' loop:\"\n",
    "print S"
   ]
  },
  {
   "cell_type": "markdown",
   "metadata": {},
   "source": [
    "> Note, the list comprehension for deriving M uses a \"if statement\" to filter out those values that aren't of interest, restricting to only the even perfect squares."
   ]
  },
  {
   "cell_type": "code",
   "execution_count": 19,
   "metadata": {
    "collapsed": false,
    "scrolled": false
   },
   "outputs": [
    {
     "name": "stdout",
     "output_type": "stream",
     "text": [
      "S:\n",
      "[0.0, 1.0, 4.0, 9.0, 16.0, 25.0, 36.0, 49.0, 64.0, 81.0]\n",
      "V:\n",
      "[1.0, 2.0, 4.0, 8.0, 16.0, 32.0, 64.0, 128.0, 256.0, 512.0, 1024.0, 2048.0, 4096.0]\n",
      "M:\n",
      "[0.0, 4.0, 16.0, 36.0, 64.0]\n"
     ]
    }
   ],
   "source": [
    "import math\n",
    "S = [math.pow(x, 2) for x in range(0,10)]\n",
    "V = [math.pow(2, x) for x in range(0, 13)]\n",
    "M = [x for x in S if x%2 == 0]\n",
    "print \"S:\"\n",
    "print S\n",
    "print \"V:\"\n",
    "print V\n",
    "print \"M:\"\n",
    "print M"
   ]
  },
  {
   "cell_type": "markdown",
   "metadata": {},
   "source": [
    "These are simple examples, using numerical compuation. In the following operation we transform a string into an list of values, a more complex operation: "
   ]
  },
  {
   "cell_type": "code",
   "execution_count": 21,
   "metadata": {
    "collapsed": false,
    "scrolled": false
   },
   "outputs": [
    {
     "name": "stdout",
     "output_type": "stream",
     "text": [
      "split sting by words with upper and lower case:\n"
     ]
    },
    {
     "data": {
      "text/plain": [
       "[['THE', 'the'],\n",
       " ['QUICK', 'quick'],\n",
       " ['BROWN', 'brown'],\n",
       " ['FOX', 'fox'],\n",
       " ['JUMPS', 'jumps'],\n",
       " ['OVER', 'over'],\n",
       " ['THE', 'the'],\n",
       " ['LAZY', 'lazy'],\n",
       " ['DOG', 'dog']]"
      ]
     },
     "execution_count": 21,
     "metadata": {},
     "output_type": "execute_result"
    }
   ],
   "source": [
    "words = 'The quick brown fox jumps over the lazy dog'\n",
    "print \"split sting by words with upper and lower case:\"\n",
    "[[w.upper(), w.lower()] for w in words.split()]"
   ]
  },
  {
   "cell_type": "markdown",
   "metadata": {},
   "source": [
    "### Generators and Generator Expressions"
   ]
  },
  {
   "cell_type": "markdown",
   "metadata": {},
   "source": [
    "[[back to top]](#Table-of-Contents)"
   ]
  },
  {
   "cell_type": "markdown",
   "metadata": {
    "collapsed": true
   },
   "source": [
    "Generators simplifies creation of iterators. A generator is a function that produces a sequence of results instead of a single value. In computer science, a generator is a special routine that can be used to control the iteration behavior of a loop.\n",
    "\n",
    "A generator is very similar to a function that returns an array, in that a generator has parameters, can be called, and generates a sequence of values. However, instead of building an array containing all the values and returning them all at once, a generator yields the values one at a time, which requires less memory and allows the caller to get started processing the first few values immediately. In short, a generator looks like a function but behaves like an iterator.\n",
    "\n",
    "Let's look at the interactive example below:"
   ]
  },
  {
   "cell_type": "code",
   "execution_count": 22,
   "metadata": {
    "collapsed": false,
    "scrolled": false
   },
   "outputs": [
    {
     "data": {
      "text/plain": [
       "<generator object counter at 0x7fce067475a0>"
      ]
     },
     "execution_count": 22,
     "metadata": {},
     "output_type": "execute_result"
    }
   ],
   "source": [
    "def counter(n):\n",
    "    print 'start ... '\n",
    "    while True:\n",
    "        yield n\n",
    "        print 'increment n', n\n",
    "        n += 1\n",
    "\n",
    "c = counter(2)\n",
    "c"
   ]
  },
  {
   "cell_type": "code",
   "execution_count": 23,
   "metadata": {
    "collapsed": false,
    "scrolled": false
   },
   "outputs": [
    {
     "name": "stdout",
     "output_type": "stream",
     "text": [
      "start ... \n"
     ]
    },
    {
     "data": {
      "text/plain": [
       "2"
      ]
     },
     "execution_count": 23,
     "metadata": {},
     "output_type": "execute_result"
    }
   ],
   "source": [
    "next(c)"
   ]
  },
  {
   "cell_type": "code",
   "execution_count": 24,
   "metadata": {
    "collapsed": false,
    "scrolled": false
   },
   "outputs": [
    {
     "name": "stdout",
     "output_type": "stream",
     "text": [
      "increment n 2\n"
     ]
    },
    {
     "data": {
      "text/plain": [
       "3"
      ]
     },
     "execution_count": 24,
     "metadata": {},
     "output_type": "execute_result"
    }
   ],
   "source": [
    "next(c)"
   ]
  },
  {
   "cell_type": "code",
   "execution_count": 25,
   "metadata": {
    "collapsed": false,
    "scrolled": false
   },
   "outputs": [
    {
     "name": "stdout",
     "output_type": "stream",
     "text": [
      "increment n 3\n"
     ]
    },
    {
     "data": {
      "text/plain": [
       "4"
      ]
     },
     "execution_count": 25,
     "metadata": {},
     "output_type": "execute_result"
    }
   ],
   "source": [
    "next(c)"
   ]
  },
  {
   "cell_type": "markdown",
   "metadata": {},
   "source": [
    "And what happening in the code:\n",
    "\n",
    "* The presence of the `yield` keyword in `counter()` means that this is not a normal function. It is a special kind of function which generates values one at a time. We can think of it as a resumable function. Calling it will return a generator that can be used to generate successive values of `n`.\n",
    "\n",
    "* Line `c = counter(2)` only create a generator and return a generator object but this does not actually execute the function code.\n",
    "\n",
    "* The `next()` function takes a generator object and returns its next value. The first time we call `next()` with the counter generator, it executes the code in `counter()` up to the first `yield` statement, then returns the value that was yielded. In this case, that will be 2, because we originally created the generator by calling `counter(2)`.\n",
    "\n",
    "* Repeatedly calling `next()` with the same generator object resumes exactly where it left off and continues until it hits the next `yield` statement. All variables, local state, etc. are saved on `yield` and restored on `next()`. The next line of code waiting to be executed calls `print`, which prints increment `n`. After that, the statement `n += 1`. Then it loops through the while loop again, and the first thing it hits is the statement `yield n`, which saves the state of everything and returns the current value of `n` (now 3).\n",
    "\n",
    "* The second time we call `next(c)`, we do all the same things again, but this time `n` is now 4.\n",
    "\n",
    "Since `counter()` sets up an infinite loop, we could theoretically do this forever, and it would just keep incrementing `n` and spitting out values.\n",
    "\n",
    "Let's show just one example:"
   ]
  },
  {
   "cell_type": "code",
   "execution_count": 28,
   "metadata": {
    "collapsed": false,
    "scrolled": false
   },
   "outputs": [
    {
     "name": "stdout",
     "output_type": "stream",
     "text": [
      "the first call\n",
      "<generator object cubic_generator at 0x7fce067479b0>\n",
      "0 1 8 27 64 125 216 343 512 729 \n",
      "the second call\n",
      "<generator object cubic_generator at 0x7fce067479b0>\n"
     ]
    }
   ],
   "source": [
    "# generator\n",
    "def cubic_generator(n):\n",
    "    for i in range(n):\n",
    "        yield i ** 3\n",
    "\n",
    "cubic_gen = cubic_generator(10)\n",
    "print \"the first call\"\n",
    "print cubic_gen\n",
    "for i in cubic_gen:\n",
    "    print i, \n",
    "    \n",
    "print \"\\nthe second call\"    \n",
    "print cubic_gen\n",
    "for i in cubic_gen:\n",
    "    print i, "
   ]
  },
  {
   "cell_type": "markdown",
   "metadata": {},
   "source": [
    "Generator can be called only once and it does not contain all values in the memory, but generate a new value on each iteration."
   ]
  },
  {
   "cell_type": "code",
   "execution_count": 27,
   "metadata": {
    "collapsed": false,
    "scrolled": false
   },
   "outputs": [
    {
     "name": "stdout",
     "output_type": "stream",
     "text": [
      "the first call\n",
      "[0, 1, 8, 27, 64, 125, 216, 343, 512, 729]\n",
      "\n",
      "the second call\n",
      "[0, 1, 8, 27, 64, 125, 216, 343, 512, 729]\n"
     ]
    }
   ],
   "source": [
    "# function:\n",
    "def cubic_function(n):\n",
    "    return [i ** 3 for i in range(n)]\n",
    "\n",
    "cubic_func = cubic_function(10)\n",
    "print \"the first call\"\n",
    "print cubic_func\n",
    "\n",
    "print \"\\nthe second call\"\n",
    "print cubic_func"
   ]
  },
  {
   "cell_type": "markdown",
   "metadata": {},
   "source": [
    "Fucntion/iterator can be many times and it stores up the all values.\n",
    "\n",
    "Let's rewrite Fibonacci sequence function as a generator:"
   ]
  },
  {
   "cell_type": "code",
   "execution_count": 29,
   "metadata": {
    "collapsed": false,
    "scrolled": false
   },
   "outputs": [
    {
     "name": "stdout",
     "output_type": "stream",
     "text": [
      "Fibonacci sequence up to 100\n",
      "0 1 1 2 3 5 8 13 21 34 55 89\n"
     ]
    }
   ],
   "source": [
    "def fibonacci_generator(n):\n",
    "    a, b = 0, 1            \n",
    "    while a < n:\n",
    "        yield a            \n",
    "        a, b = b, a + b    \n",
    "print \"Fibonacci sequence up to 100\"\n",
    "for i in fibonacci_generator(100):\n",
    "    print i, "
   ]
  },
  {
   "cell_type": "markdown",
   "metadata": {},
   "source": [
    "**Generator expressions** are generator version of list comprehensions. They look like list comprehensions, but returns a generator back instead of a list."
   ]
  },
  {
   "cell_type": "code",
   "execution_count": 30,
   "metadata": {
    "collapsed": false,
    "scrolled": false
   },
   "outputs": [
    {
     "name": "stdout",
     "output_type": "stream",
     "text": [
      "Generator:\n",
      "<generator object <genexpr> at 0x7fce06747960>\n",
      "Sum of generator:\n",
      "285\n"
     ]
    }
   ],
   "source": [
    "a = (x*x for x in range(10))\n",
    "print \"Generator:\"\n",
    "print a\n",
    "print \"Sum of generator:\"\n",
    "print sum(a)"
   ]
  },
  {
   "cell_type": "markdown",
   "metadata": {},
   "source": [
    "### Decorators"
   ]
  },
  {
   "cell_type": "markdown",
   "metadata": {},
   "source": [
    "[[back to top]](#Table-of-Contents)"
   ]
  },
  {
   "cell_type": "markdown",
   "metadata": {
    "collapsed": true
   },
   "source": [
    "Python allows the creation of nested functions. This means we can declare functions inside of functions and all the scoping and lifetime rules still apply normally."
   ]
  },
  {
   "cell_type": "code",
   "execution_count": 31,
   "metadata": {
    "collapsed": false,
    "scrolled": false
   },
   "outputs": [
    {
     "name": "stdout",
     "output_type": "stream",
     "text": [
      "inner x = 1\n",
      "outer x = 1\n"
     ]
    }
   ],
   "source": [
    "def outer():\n",
    "    x = 1\n",
    "    def inner():\n",
    "        print 'inner x =', x\n",
    "    inner() \n",
    "    print 'outer x =', x\n",
    "\n",
    "outer()"
   ]
  },
  {
   "cell_type": "markdown",
   "metadata": {},
   "source": [
    "Python supports a feature called _function closures_ which means that inner functions defined in non-global scope remember what their enclosing namespaces looked like at definition time. This can be seen by looking at the `func_closure` attribute of our inner function which contains the variables in the enclosing scopes.\n",
    "\n",
    "This alone is a powerful technique - you might even think of it as similar to object oriented techniques in some ways: outer is a constructor for inner with x acting like a private member variable. And the uses are numerous - if you are familiar with the key parameter in Python’s sorted function you have probably written a lambda function to sort a list of lists by the second item instead of the first. You might now be able to write an itemgetter function that accepts the index to retrieve and returns a function that could suitably be passed to the key parameter."
   ]
  },
  {
   "cell_type": "code",
   "execution_count": 32,
   "metadata": {
    "collapsed": false,
    "scrolled": false
   },
   "outputs": [
    {
     "name": "stdout",
     "output_type": "stream",
     "text": [
      "print1:\n",
      "<function inner at 0x7fce06780e60>\n",
      "print1.func_closure:\n",
      "(<cell at 0x7fce0679a948: int object at 0x1f1f178>,)\n",
      "print1()\n",
      "1\n",
      "None\n",
      "print2():\n",
      "2\n",
      "None\n"
     ]
    }
   ],
   "source": [
    "def outer(x):\n",
    "    def inner():\n",
    "        print x\n",
    "    return inner\n",
    "\n",
    "print1 = outer(1)\n",
    "print \"print1:\"\n",
    "print print1\n",
    "print \"print1.func_closure:\"\n",
    "print print1.func_closure\n",
    "print \"print1()\"\n",
    "print print1()\n",
    "\n",
    "print2 = outer(2)\n",
    "print \"print2():\"\n",
    "print print2()"
   ]
  },
  {
   "cell_type": "markdown",
   "metadata": {},
   "source": [
    "A decorator is just a callable that takes a function as an argument and returns a replacement function. Let's start from a simple example"
   ]
  },
  {
   "cell_type": "code",
   "execution_count": 33,
   "metadata": {
    "collapsed": false,
    "scrolled": false
   },
   "outputs": [
    {
     "name": "stdout",
     "output_type": "stream",
     "text": [
      "outer function starts\n",
      "-- inner function starts\n",
      "----before some_func\n",
      "------ some_func body\n",
      "---- after some_func\n",
      "-- inner function ends\n"
     ]
    },
    {
     "data": {
      "text/plain": [
       "2"
      ]
     },
     "execution_count": 33,
     "metadata": {},
     "output_type": "execute_result"
    }
   ],
   "source": [
    "def outer(some_func):\n",
    "    print \"outer function starts\"\n",
    "    def inner():\n",
    "        print \"-- inner function starts\"\n",
    "        print \"----before some_func\"\n",
    "        res = some_func() \n",
    "        print \"---- after some_func\"\n",
    "        print \"-- inner function ends\"\n",
    "        return res + 1\n",
    "    return inner\n",
    "\n",
    "def foo():\n",
    "    print \"------ some_func body\"\n",
    "    return 1\n",
    "\n",
    "decorated = outer(foo) \n",
    "decorated()"
   ]
  },
  {
   "cell_type": "markdown",
   "metadata": {},
   "source": [
    "Thus, we defined a function named `outer` that has a single parameter `some_func`. Inside `outer` we define an nested function named `inner`. The `inner` function will print a string then call `some_func`, catching its return value at point. The value of `some_func` might be different each time outer is called, but whatever function it is we’ll call it. Finally `inner` returns the return value of `some_func() + 1` - and we can see that when we call our returned function stored in decorated we get the results of the print and also a return value of 2 instead of the original return value 1 we would expect to get by calling `foo`.\n",
    "\n",
    "In addition, we can chain two or more than two decorators! "
   ]
  },
  {
   "cell_type": "code",
   "execution_count": 34,
   "metadata": {
    "collapsed": false,
    "scrolled": false
   },
   "outputs": [
    {
     "name": "stdout",
     "output_type": "stream",
     "text": [
      "</''''''\\>\n",
      "*tomatoes*\n",
      "---meet---\n",
      "~~salad~~\n",
      "<\\______/>\n"
     ]
    }
   ],
   "source": [
    "def bread(func):\n",
    "    def wrapper():\n",
    "        print \"</''''''\\>\"\n",
    "        func()\n",
    "        print \"<\\______/>\"\n",
    "    return wrapper\n",
    "\n",
    "def ingredients(func):\n",
    "    def wrapper():\n",
    "        print \"*tomatoes*\"\n",
    "        func()\n",
    "        print \"~~salad~~\"\n",
    "    return wrapper\n",
    "\n",
    "def meat():\n",
    "    print \"---meet---\"\n",
    "\n",
    "sandwich = bread(ingredients(meat))\n",
    "sandwich()"
   ]
  },
  {
   "cell_type": "markdown",
   "metadata": {},
   "source": [
    "Python provides support to wrap a function in a decorator by pre-pending the function definition with a decorator name and the `@` symbol. In the code samples above we can decorated our function by replacing the variable containing the function with a wrapped version."
   ]
  },
  {
   "cell_type": "code",
   "execution_count": 36,
   "metadata": {
    "collapsed": false,
    "scrolled": false
   },
   "outputs": [
    {
     "name": "stdout",
     "output_type": "stream",
     "text": [
      "outer function starts\n",
      "-- inner function starts\n",
      "----before some_func\n",
      "------ some_func body\n",
      "---- after some_func\n",
      "-- inner function ends\n"
     ]
    },
    {
     "data": {
      "text/plain": [
       "2"
      ]
     },
     "execution_count": 36,
     "metadata": {},
     "output_type": "execute_result"
    }
   ],
   "source": [
    "def outer(some_func):\n",
    "    print \"outer function starts\"\n",
    "    def inner():\n",
    "        print \"-- inner function starts\"\n",
    "        print \"----before some_func\"\n",
    "        res = some_func() \n",
    "        print \"---- after some_func\"\n",
    "        print \"-- inner function ends\"\n",
    "        return res + 1\n",
    "    return inner\n",
    "\n",
    "@outer\n",
    "def foo():\n",
    "    print \"------ some_func body\"\n",
    "    return 1\n",
    "\n",
    "foo()"
   ]
  },
  {
   "cell_type": "code",
   "execution_count": 37,
   "metadata": {
    "collapsed": false,
    "scrolled": false
   },
   "outputs": [
    {
     "name": "stdout",
     "output_type": "stream",
     "text": [
      "</''''''\\>\n",
      "*tomatoes*\n",
      "---meet---\n",
      "~~salad~~\n",
      "<\\______/>\n"
     ]
    }
   ],
   "source": [
    "def bread(func):\n",
    "    def wrapper():\n",
    "        print \"</''''''\\>\"\n",
    "        func()\n",
    "        print \"<\\______/>\"\n",
    "    return wrapper\n",
    "\n",
    "def ingredients(func):\n",
    "    def wrapper():\n",
    "        print \"*tomatoes*\"\n",
    "        func()\n",
    "        print \"~~salad~~\"\n",
    "    return wrapper\n",
    "\n",
    "@bread\n",
    "@ingredients\n",
    "def sandwich():\n",
    "    print \"---meet---\"\n",
    "\n",
    "sandwich()"
   ]
  },
  {
   "cell_type": "markdown",
   "metadata": {},
   "source": [
    "Suppose we want to trace all the calls to the recursive function which generates a Fibonacci sequence. We can write a higher order function to return a new function, which prints whenever fib function is called."
   ]
  },
  {
   "cell_type": "code",
   "execution_count": 38,
   "metadata": {
    "collapsed": false,
    "scrolled": false
   },
   "outputs": [
    {
     "name": "stdout",
     "output_type": "stream",
     "text": [
      "|-- fib 5\n",
      "|  |-- fib 4\n",
      "|  |  |-- fib 3\n",
      "|  |  |  |-- fib 2\n",
      "|  |  |  |  |-- fib 1\n",
      "|  |  |  |  |  |-- return 1\n",
      "|  |  |  |  |-- fib 0\n",
      "|  |  |  |  |  |-- return 1\n",
      "|  |  |  |  |-- return 2\n",
      "|  |  |  |-- fib 1\n",
      "|  |  |  |  |-- return 1\n",
      "|  |  |  |-- return 3\n",
      "|  |  |-- fib 2\n",
      "|  |  |  |-- fib 1\n",
      "|  |  |  |  |-- return 1\n",
      "|  |  |  |-- fib 0\n",
      "|  |  |  |  |-- return 1\n",
      "|  |  |  |-- return 2\n",
      "|  |  |-- return 5\n",
      "|  |-- fib 3\n",
      "|  |  |-- fib 2\n",
      "|  |  |  |-- fib 1\n",
      "|  |  |  |  |-- return 1\n",
      "|  |  |  |-- fib 0\n",
      "|  |  |  |  |-- return 1\n",
      "|  |  |  |-- return 2\n",
      "|  |  |-- fib 1\n",
      "|  |  |  |-- return 1\n",
      "|  |  |-- return 3\n",
      "|  |-- return 8\n"
     ]
    },
    {
     "data": {
      "text/plain": [
       "8"
      ]
     },
     "execution_count": 38,
     "metadata": {},
     "output_type": "execute_result"
    }
   ],
   "source": [
    "def trace(f):\n",
    "    f.indent = 0\n",
    "    def g(x):\n",
    "        print '|  ' * f.indent + '|--', f.__name__, x\n",
    "        f.indent += 1\n",
    "        value = f(x)\n",
    "        print '|  ' * f.indent + '|--', 'return', repr(value)\n",
    "        f.indent -= 1\n",
    "        return value\n",
    "    return g\n",
    "\n",
    "@trace\n",
    "def fib(n):\n",
    "    if n is 0 or n is 1:\n",
    "        return 1\n",
    "    else:\n",
    "        return fib(n-1) + fib(n-2)\n",
    "    \n",
    "fib(5)"
   ]
  },
  {
   "cell_type": "markdown",
   "metadata": {},
   "source": [
    "And let's buid a decorator which will measure time of some process duration"
   ]
  },
  {
   "cell_type": "code",
   "execution_count": 41,
   "metadata": {
    "collapsed": false,
    "scrolled": false
   },
   "outputs": [
    {
     "name": "stdout",
     "output_type": "stream",
     "text": [
      "List time:\n",
      "Elapsed time 0.768 sec\n",
      "Gen time:\n",
      "Elapsed time 0.0 sec\n",
      "Classic list time:\n",
      "Elapsed time 0.82 sec\n"
     ]
    }
   ],
   "source": [
    "def timer(func):\n",
    "    import time\n",
    "    def wrapper(x):\n",
    "        start = time.time()\n",
    "        res = func(x)\n",
    "        print \"Elapsed time {} sec\".format(round(time.time() - start, 3))\n",
    "        return res\n",
    "    return wrapper\n",
    "\n",
    "@timer\n",
    "def iter_list(n):\n",
    "    return [i ** 10 for i in xrange(n)]\n",
    "\n",
    "@timer\n",
    "def gen_list(n):\n",
    "    return (i ** 10 for i in xrange(n))\n",
    "\n",
    "@timer\n",
    "def classic_list(n):\n",
    "    l = []\n",
    "    for i in range(n):\n",
    "        l.append(i ** 10)\n",
    "print \"List time:\" \n",
    "iter_list(10**6)\n",
    "print \"Gen time:\"\n",
    "gen_list(10**6)\n",
    "print \"Classic list time:\"\n",
    "classic_list(10**6)"
   ]
  },
  {
   "cell_type": "markdown",
   "metadata": {},
   "source": [
    "Pay your attention how \"slow\" classic list creation using `append` method works comparable with generators and iterators."
   ]
  },
  {
   "cell_type": "markdown",
   "metadata": {
    "collapsed": true
   },
   "source": [
    ">### Exercise 6.1\n",
    "\n",
    ">* Using `map()` and `filter()` functions create a list `cubed` of cubed numbers, which are even and divide by 5 without remainder of the division for all number from -50 to 50 (excluding 0).\n",
    "\n",
    ">* Using `reduce()` function find the multiplication of all numbers from the list obtained in the previous stage. Write result to `mul` variable.\n",
    "\n",
    ">* Write a decorator which will add the prefix \"$\" to some function output."
   ]
  },
  {
   "cell_type": "code",
   "execution_count": 81,
   "metadata": {
    "collapsed": false,
    "scrolled": false
   },
   "outputs": [
    {
     "name": "stdout",
     "output_type": "stream",
     "text": [
      "[-125000, -64000, -27000, -8000, -1000, 1000, 8000, 27000, 64000]\n",
      "-23887872000000000000000000000000000000\n",
      "$1\n",
      "$1\n"
     ]
    }
   ],
   "source": [
    "# type your code here\n",
    "def cubic_function():\n",
    "    return [i ** 3 for i in range(-50,50) if i!=0 and i%5==0 and i%2==0]\n",
    "#def prefix(n):\n",
    "#    return [i + \"$\" for i in range(n)]\n",
    "cubed = cubic_function()\n",
    "print cubed\n",
    "mul = reduce(lambda x,y: x*y, cubed)\n",
    "print mul\n",
    "res = \"$\"\n",
    "def prefix(func):\n",
    "    def wrapper(x):\n",
    "        full = res + str(func(x))\n",
    "        return full\n",
    "    return wrapper\n",
    "@prefix\n",
    "def f(x):\n",
    "    return x**2\n",
    "\n",
    "@prefix\n",
    "def f2(x):\n",
    "    return str(x).upper()\n",
    "print f(x)\n",
    "print f2(x)"
   ]
  },
  {
   "cell_type": "code",
   "execution_count": 82,
   "metadata": {
    "collapsed": false
   },
   "outputs": [
    {
     "name": "stdout",
     "output_type": "stream",
     "text": [
      "1 test passed. Exercise 6.1.1 is successful\n",
      "1 test passed. Exercise 6.1.2 is successful\n",
      "1 test passed. Exercise 6.1.3 is successful\n",
      "1 test passed. Exercise 6.1.3 is successful\n"
     ]
    }
   ],
   "source": [
    "from test_helper import Test\n",
    "\n",
    "Test.assertEqualsHashed(cubed, 'c2ecfa2920635c3ab42d220e159bd7f14482e53f', 'Incorrect content of \"cubed\"', \n",
    "                        \"Exercise 6.1.1 is successful\")\n",
    "Test.assertEqualsHashed(mul, '220ea767cda11608f5ee1b1257daf64447a50c1b', 'Incorrect value of \"mul\"', \"Exercise 6.1.2 is successful\")\n",
    "\n",
    "\n",
    "\n",
    "Test.assertEqualsHashed(f(10), '2fce60fd8238c902e35e9684ead673677be94f42', 'Incorrect output', \"Exercise 6.1.3 is successful\")\n",
    "Test.assertEqualsHashed(f2([5>=-1, 'a'*5, -2, True, None, 3, 'asd']), '860eddb4fbe9794396142f6687baed8b6418ab10', \n",
    "                        'Incorrect output', \"Exercise 6.1.3 is successful\")"
   ]
  },
  {
   "cell_type": "markdown",
   "metadata": {},
   "source": [
    "---\n",
    "## Exceptions Handling"
   ]
  },
  {
   "cell_type": "markdown",
   "metadata": {},
   "source": [
    "[[back to top]](#Table-of-Contents)"
   ]
  },
  {
   "cell_type": "markdown",
   "metadata": {},
   "source": [
    "Error reporting and processing through exceptions is one of Python’s key features. Python provides two very important features to handle any unexpected error in the Python programs and to add debugging capabilities in them \n",
    "\n",
    "* Exception Handling\n",
    "* Assertions\n",
    "\n",
    "An _exception_ is an event, which occurs during the execution of a program that disrupts the normal flow of the program's instructions. In general, when a Python script encounters a situation that it cannot cope with, it raises an exception. An exception is a Python object that represents an error.\n",
    "\n",
    "When a Python script raises an exception, it must either handle the exception immediately otherwise it terminates and quits."
   ]
  },
  {
   "cell_type": "code",
   "execution_count": 57,
   "metadata": {
    "collapsed": false,
    "scrolled": false
   },
   "outputs": [
    {
     "ename": "ZeroDivisionError",
     "evalue": "integer division or modulo by zero",
     "output_type": "error",
     "traceback": [
      "\u001b[1;31m---------------------------------------------------------------------------\u001b[0m",
      "\u001b[1;31mZeroDivisionError\u001b[0m                         Traceback (most recent call last)",
      "\u001b[1;32m<ipython-input-57-05c9758a9c21>\u001b[0m in \u001b[0;36m<module>\u001b[1;34m()\u001b[0m\n\u001b[1;32m----> 1\u001b[1;33m \u001b[1;36m1\u001b[0m\u001b[1;33m/\u001b[0m\u001b[1;36m0\u001b[0m\u001b[1;33m\u001b[0m\u001b[0m\n\u001b[0m",
      "\u001b[1;31mZeroDivisionError\u001b[0m: integer division or modulo by zero"
     ]
    }
   ],
   "source": [
    "1/0"
   ]
  },
  {
   "cell_type": "markdown",
   "metadata": {},
   "source": [
    "This traceback indicates that the `ZeroDivisionError` exception is being raised. This is a built-in exception. The full list of Standard Exceptions can be found [here](https://docs.python.org/2/library/exceptions.html)."
   ]
  },
  {
   "cell_type": "markdown",
   "metadata": {},
   "source": [
    "### Catching Exceptions: `try ... except ... else ... finally` block"
   ]
  },
  {
   "cell_type": "markdown",
   "metadata": {},
   "source": [
    "[[back to top]](#Table-of-Contents)"
   ]
  },
  {
   "cell_type": "markdown",
   "metadata": {},
   "source": [
    "If you have some suspicious code that may raise an exception, you can defend your program by placing the suspicious code in a `try:` block. After the `try:` block, include an `except:` statement, followed by a block of code which handles the problem as elegantly as possible."
   ]
  },
  {
   "cell_type": "code",
   "execution_count": 58,
   "metadata": {
    "collapsed": false,
    "scrolled": false
   },
   "outputs": [
    {
     "name": "stdout",
     "output_type": "stream",
     "text": [
      "You can't divide by zero, you're silly.\n"
     ]
    }
   ],
   "source": [
    "try:\n",
    "    print 1/0\n",
    "except ZeroDivisionError:\n",
    "    print \"You can't divide by zero, you're silly.\""
   ]
  },
  {
   "cell_type": "code",
   "execution_count": 59,
   "metadata": {
    "collapsed": false,
    "scrolled": false
   },
   "outputs": [
    {
     "name": "stdout",
     "output_type": "stream",
     "text": [
      "1.0\n",
      "0.333333333333\n",
      "0.2\n",
      "You can't divide by zero, you're silly.\n",
      "0.5\n"
     ]
    }
   ],
   "source": [
    "for i in [1, 3, 5, 0, 2]:\n",
    "    try:\n",
    "        print 1.0/i\n",
    "    except ZeroDivisionError:\n",
    "        print \"You can't divide by zero, you're silly.\""
   ]
  },
  {
   "cell_type": "markdown",
   "metadata": {},
   "source": [
    "Exceptions could lead to a situation where, after raising an exception, the code block where the exception occurred might not be revisited. In some cases this might leave external resources used by the program in an unknown state. `finally` clause allows programmers to close such resources in case of an exception. \n",
    "\n",
    "An exception can have an _argument_, which is a value that gives additional information about the problem. The contents of the argument vary by exception. This variable receives the value of the exception mostly containing the cause of the exception. The variable can receive a single value or multiple values in the form of a tuple. This tuple usually contains the error string, the error number, and an error location."
   ]
  },
  {
   "cell_type": "code",
   "execution_count": 60,
   "metadata": {
    "collapsed": false,
    "scrolled": false
   },
   "outputs": [
    {
     "name": "stdout",
     "output_type": "stream",
     "text": [
      "Enter a number: 1\n",
      "Enter 'exit' to stop: 2\n",
      "Enter a number: 3\n",
      "Enter 'exit' to stop: 4\n",
      "Enter a number: 5\n",
      "Enter 'exit' to stop: 6\n",
      "Enter a number: 7\n",
      "Enter 'exit' to stop: 8\n",
      "Enter a number: exit\n",
      "Error -  invalid literal for int() with base 10: 'exit'\n",
      "Enter 'exit' to stop: 'exit'\n",
      "Enter a number: iytrityi\n",
      "Error -  invalid literal for int() with base 10: 'iytrityi'\n",
      "Enter 'exit' to stop: exit\n"
     ]
    }
   ],
   "source": [
    "while True:\n",
    "    try:\n",
    "        val = int(raw_input(\"Enter a number: \"))\n",
    "        1/val\n",
    "    except ValueError, e:   # e is an argument of Exception\n",
    "        print \"Error - \", e\n",
    "    except ZeroDivisionError as e:   # here e is also an argument\n",
    "        print \"Another Error - \", e\n",
    "    finally:\n",
    "        exit = raw_input(\"Enter 'exit' to stop: \")\n",
    "        if exit == 'exit':\n",
    "            break"
   ]
  },
  {
   "cell_type": "markdown",
   "metadata": {},
   "source": [
    "The `else`-statement can be used after a `try-except` block. If no exception is thrown, the else-statements are executed. The else must come after the excepts."
   ]
  },
  {
   "cell_type": "code",
   "execution_count": 61,
   "metadata": {
    "collapsed": false,
    "scrolled": false
   },
   "outputs": [
    {
     "name": "stdout",
     "output_type": "stream",
     "text": [
      "Content was written successfully\n"
     ]
    }
   ],
   "source": [
    "try:\n",
    "    f = open(\"test\", \"w\")\n",
    "    f.write(\"This is a test file for exception handling\")\n",
    "except IOError:\n",
    "    print \"Error: can\\'t find file or read data\"\n",
    "else:\n",
    "    print \"Content was written successfully\"\n",
    "    f.close()"
   ]
  },
  {
   "cell_type": "markdown",
   "metadata": {},
   "source": [
    "You can raise exceptions in several ways by using the raise statement. The general syntax for the `raise` statement is as follows:\n",
    "\n",
    "    raise [Exception]\n",
    "\n",
    "Here, `Exception` is the type of exception (for example, `NameError`)."
   ]
  },
  {
   "cell_type": "code",
   "execution_count": 62,
   "metadata": {
    "collapsed": false,
    "scrolled": false
   },
   "outputs": [
    {
     "name": "stdout",
     "output_type": "stream",
     "text": [
      "Enter a denominator: 3\n",
      "3.33333333333\n",
      "OK\n",
      "Enter a denominator: 0\n",
      "ZeroDivisionError\n",
      "Enter a denominator: 10\n",
      "1.0\n",
      "OK\n",
      "Enter a denominator: exit\n"
     ]
    },
    {
     "ename": "Exception",
     "evalue": "My Value Error",
     "output_type": "error",
     "traceback": [
      "\u001b[1;31m---------------------------------------------------------------------------\u001b[0m",
      "\u001b[1;31mException\u001b[0m                                 Traceback (most recent call last)",
      "\u001b[1;32m<ipython-input-62-87a58075beab>\u001b[0m in \u001b[0;36m<module>\u001b[1;34m()\u001b[0m\n\u001b[0;32m     14\u001b[0m             \u001b[1;32mprint\u001b[0m\u001b[1;33m(\u001b[0m\u001b[1;34m\"OK\"\u001b[0m\u001b[1;33m)\u001b[0m\u001b[1;33m\u001b[0m\u001b[0m\n\u001b[0;32m     15\u001b[0m     \u001b[1;32mexcept\u001b[0m \u001b[0mValueError\u001b[0m\u001b[1;33m:\u001b[0m\u001b[1;33m\u001b[0m\u001b[0m\n\u001b[1;32m---> 16\u001b[1;33m         \u001b[1;32mraise\u001b[0m \u001b[0mException\u001b[0m\u001b[1;33m(\u001b[0m\u001b[1;34m\"My Value Error\"\u001b[0m\u001b[1;33m)\u001b[0m\u001b[1;33m\u001b[0m\u001b[0m\n\u001b[0m",
      "\u001b[1;31mException\u001b[0m: My Value Error"
     ]
    }
   ],
   "source": [
    "# enter numbers less than 10 and larger than 10 and also some letter to test the work of below code  block  \n",
    "\n",
    "while True:\n",
    "    try:\n",
    "        denominator = int(raw_input(\"Enter a denominator: \"))\n",
    "        try:\n",
    "            i = 10.0 / denominator\n",
    "            print i\n",
    "            if i < 1:\n",
    "                raise Exception(\"Too large denominator\")\n",
    "        except:\n",
    "            print(\"ZeroDivisionError\")\n",
    "        else:\n",
    "            print(\"OK\")\n",
    "    except ValueError:\n",
    "        raise Exception(\"My Value Error\")"
   ]
  },
  {
   "cell_type": "markdown",
   "metadata": {},
   "source": [
    "### The `assert` Statement"
   ]
  },
  {
   "cell_type": "markdown",
   "metadata": {},
   "source": [
    "[[back to top]](#Table-of-Contents)"
   ]
  },
  {
   "cell_type": "markdown",
   "metadata": {},
   "source": [
    "The `assert` statement is intended for debugging statements. It can be seen as an abbreviated notation for a conditional raise statement. When it encounters an `assert` statement, Python evaluates the accompanying expression, which is hopefully `True`. If the expression is `False`, Python raises an `AssertionError` exception.\n",
    "\n",
    "The following code, using the assert statement, is semantically equivalent, i.e. has the same meaning:\n",
    "\n",
    "    assert <some_test>, <message>\n",
    "\n",
    "The line above can be \"read\" as: If `<some_test>` evaluates to `False`, an exception is raised and `<message>` will be output. "
   ]
  },
  {
   "cell_type": "code",
   "execution_count": 63,
   "metadata": {
    "collapsed": false,
    "scrolled": false
   },
   "outputs": [
    {
     "ename": "AssertionError",
     "evalue": "x has to be smaller than y",
     "output_type": "error",
     "traceback": [
      "\u001b[1;31m---------------------------------------------------------------------------\u001b[0m",
      "\u001b[1;31mAssertionError\u001b[0m                            Traceback (most recent call last)",
      "\u001b[1;32m<ipython-input-63-d4d7cbf40c0f>\u001b[0m in \u001b[0;36m<module>\u001b[1;34m()\u001b[0m\n\u001b[0;32m      1\u001b[0m \u001b[0mx\u001b[0m \u001b[1;33m=\u001b[0m \u001b[1;36m5\u001b[0m\u001b[1;33m\u001b[0m\u001b[0m\n\u001b[0;32m      2\u001b[0m \u001b[0my\u001b[0m \u001b[1;33m=\u001b[0m \u001b[1;36m3\u001b[0m\u001b[1;33m\u001b[0m\u001b[0m\n\u001b[1;32m----> 3\u001b[1;33m \u001b[1;32massert\u001b[0m \u001b[0mx\u001b[0m \u001b[1;33m<\u001b[0m \u001b[0my\u001b[0m\u001b[1;33m,\u001b[0m \u001b[1;34m\"x has to be smaller than y\"\u001b[0m\u001b[1;33m\u001b[0m\u001b[0m\n\u001b[0m",
      "\u001b[1;31mAssertionError\u001b[0m: x has to be smaller than y"
     ]
    }
   ],
   "source": [
    "x = 5\n",
    "y = 3\n",
    "assert x < y, \"x has to be smaller than y\""
   ]
  },
  {
   "cell_type": "code",
   "execution_count": 64,
   "metadata": {
    "collapsed": true,
    "scrolled": false
   },
   "outputs": [],
   "source": [
    "x = 1\n",
    "y = 3\n",
    "assert x < y, \"x has to be smaller than y\""
   ]
  },
  {
   "cell_type": "code",
   "execution_count": 65,
   "metadata": {
    "collapsed": false,
    "scrolled": false
   },
   "outputs": [
    {
     "name": "stdout",
     "output_type": "stream",
     "text": [
      "KelvinToFahrenheit(273):\n",
      "32.0\n",
      "KelvinToFahrenheit(505.78):\n",
      "451.004\n",
      "KelvinToFahrenheit(-5):\n"
     ]
    },
    {
     "ename": "AssertionError",
     "evalue": "Colder than absolute zero!",
     "output_type": "error",
     "traceback": [
      "\u001b[1;31m---------------------------------------------------------------------------\u001b[0m",
      "\u001b[1;31mAssertionError\u001b[0m                            Traceback (most recent call last)",
      "\u001b[1;32m<ipython-input-65-57ee2be00dd3>\u001b[0m in \u001b[0;36m<module>\u001b[1;34m()\u001b[0m\n\u001b[0;32m     10\u001b[0m \u001b[1;32mprint\u001b[0m \u001b[0mKelvinToFahrenheit\u001b[0m\u001b[1;33m(\u001b[0m\u001b[1;36m505.78\u001b[0m\u001b[1;33m)\u001b[0m\u001b[1;33m\u001b[0m\u001b[0m\n\u001b[0;32m     11\u001b[0m \u001b[1;32mprint\u001b[0m \u001b[1;34m\"KelvinToFahrenheit(-5):\"\u001b[0m\u001b[1;33m\u001b[0m\u001b[0m\n\u001b[1;32m---> 12\u001b[1;33m \u001b[1;32mprint\u001b[0m \u001b[0mKelvinToFahrenheit\u001b[0m\u001b[1;33m(\u001b[0m\u001b[1;33m-\u001b[0m\u001b[1;36m5\u001b[0m\u001b[1;33m)\u001b[0m\u001b[1;33m\u001b[0m\u001b[0m\n\u001b[0m",
      "\u001b[1;32m<ipython-input-65-57ee2be00dd3>\u001b[0m in \u001b[0;36mKelvinToFahrenheit\u001b[1;34m(Temperature)\u001b[0m\n\u001b[0;32m      2\u001b[0m \u001b[1;33m\u001b[0m\u001b[0m\n\u001b[0;32m      3\u001b[0m \u001b[1;32mdef\u001b[0m \u001b[0mKelvinToFahrenheit\u001b[0m\u001b[1;33m(\u001b[0m\u001b[0mTemperature\u001b[0m\u001b[1;33m)\u001b[0m\u001b[1;33m:\u001b[0m\u001b[1;33m\u001b[0m\u001b[0m\n\u001b[1;32m----> 4\u001b[1;33m     \u001b[1;32massert\u001b[0m \u001b[0mTemperature\u001b[0m \u001b[1;33m>=\u001b[0m \u001b[1;36m0\u001b[0m\u001b[1;33m,\u001b[0m \u001b[1;34m\"Colder than absolute zero!\"\u001b[0m\u001b[1;33m\u001b[0m\u001b[0m\n\u001b[0m\u001b[0;32m      5\u001b[0m     \u001b[1;32mreturn\u001b[0m \u001b[1;33m(\u001b[0m\u001b[0mTemperature\u001b[0m \u001b[1;33m-\u001b[0m \u001b[1;36m273\u001b[0m\u001b[1;33m)\u001b[0m \u001b[1;33m*\u001b[0m \u001b[1;36m1.8\u001b[0m \u001b[1;33m+\u001b[0m \u001b[1;36m32\u001b[0m\u001b[1;33m\u001b[0m\u001b[0m\n\u001b[0;32m      6\u001b[0m \u001b[1;33m\u001b[0m\u001b[0m\n",
      "\u001b[1;31mAssertionError\u001b[0m: Colder than absolute zero!"
     ]
    }
   ],
   "source": [
    "# below function convert temperature in Kelvins to temperature in Fahrenheits\n",
    "\n",
    "def KelvinToFahrenheit(Temperature):\n",
    "    assert Temperature >= 0, \"Colder than absolute zero!\"\n",
    "    return (Temperature - 273) * 1.8 + 32\n",
    "\n",
    "print 'KelvinToFahrenheit(273):'\n",
    "print KelvinToFahrenheit(273)\n",
    "print \"KelvinToFahrenheit(505.78):\"\n",
    "print KelvinToFahrenheit(505.78)\n",
    "print \"KelvinToFahrenheit(-5):\"\n",
    "print KelvinToFahrenheit(-5)"
   ]
  },
  {
   "cell_type": "markdown",
   "metadata": {
    "collapsed": true
   },
   "source": [
    "<center><h3>Presented by <a target=\"_blank\" href=\"http://datascience-school.com\">datascience-school.com</a></h3></center>"
   ]
  }
 ],
 "metadata": {
  "anaconda-cloud": {},
  "kernelspec": {
   "display_name": "Python 2",
   "language": "python",
   "name": "python2"
  },
  "language_info": {
   "codemirror_mode": {
    "name": "ipython",
    "version": 2
   },
   "file_extension": ".py",
   "mimetype": "text/x-python",
   "name": "python",
   "nbconvert_exporter": "python",
   "pygments_lexer": "ipython2",
   "version": "2.7.10"
  }
 },
 "nbformat": 4,
 "nbformat_minor": 1
}
