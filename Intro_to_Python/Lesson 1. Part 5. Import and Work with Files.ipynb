{
 "cells": [
  {
   "cell_type": "markdown",
   "metadata": {},
   "source": [
    "---\n",
    "<center><h1> Lesson 1 - Crash course into Python</h1></center>\n",
    "---\n",
    "---\n",
    "\n",
    "<center><h1>Part 5. Import and Work with Files</h1></center>\n",
    "\n",
    "---"
   ]
  },
  {
   "cell_type": "markdown",
   "metadata": {},
   "source": [
    "## Table of Contents\n",
    "- [Importing Libraries and Modules](#Importing-Libraries-and-Modules)\n",
    "    * [Creation of Your Own Modules and Packages](#Creation-of-Your-Own-Modules-and-Packages)\n",
    "- [Files and Printing](#Files-and-Printing)\n",
    "    - [*Exercise 5.1*](#Exercise-5.1)"
   ]
  },
  {
   "cell_type": "markdown",
   "metadata": {},
   "source": [
    "---\n",
    "# Importing Libraries and Modules"
   ]
  },
  {
   "cell_type": "markdown",
   "metadata": {},
   "source": [
    "One of the greatest strengths of the python programming language is its rich set of libraries- pre-written code that implements a variety of functionality. For the data scientist, python's libraries (also called \"modules\") are particularly valuable. With a little bit of research into the details of python's libraries, a lot of common data  tasks are little more than a function call away. Libraries exist for doing data cleaning, analysis, visualization, machine learning and statistics. \n",
    "\n",
    "[This XKCD cartoon](http://xkcd.com/353/) pretty much summarizes what Python libraries can do...\n",
    "\n",
    "In order to have access to a libraries functionality in a block of code, you must first import it. Importing a library tells python that while executing your code, it should not only consider the code and functions that you have written, but code and functions in the libraries that you have imported.\n",
    "\n",
    "There are several ways to import modules in python, some have ebetter properties than others. Below we see the preferred general way to import modules. In documentation, you may see other ways to import libraries (`from a_library import foo`). There is no risk to just copying this pattern if it is known to work. \n",
    "\n",
    "Imagine I want to import a library called `some_python_library`. This can be done using the import commands. All code below that import statement has access to the library contents.\n",
    "\n",
    "+ `import some_python_library`: imports the module `some_python_library`, and creates a reference to that module in the current namespace. Or in other words, after you’ve run this statement, you can use `some_python_library.name` to refer to things defined in module `some_python_library`\n",
    "\n",
    "+ `import some_python_library as plib`: imports the module `some_python_library` and sets an alias for that library that may be easier to refer to. To refer to a thing defined in the library `some_python_library`, use `plib.name`\n",
    "\n",
    "+ `from some_python_library import sub_library`: imports the module `sub_library` from the package of libraries `some_python_library`\n",
    "\n",
    "+ `import library_1, library_2, library_3, ...`: there is possibility of import of many modules in one line\n",
    "\n",
    "+ `from some_python_library import *`: import all names from a module into the current namespace\n",
    "\n",
    "In practice you'll see the second pattern used very frequently; `pandas` referred to as `pd`, `numpy` referred to as `np`, etc. "
   ]
  },
  {
   "cell_type": "markdown",
   "metadata": {},
   "source": [
    "Let's give a few examples of importing of some common used libraries:\n",
    "\n",
    "* [`math`](https://docs.python.org/2/library/math.html) contains many mathematical operations"
   ]
  },
  {
   "cell_type": "code",
   "execution_count": 1,
   "metadata": {
    "scrolled": false
   },
   "outputs": [
    {
     "name": "stdout",
     "output_type": "stream",
     "text": [
      "1.4142135623730951\n",
      "0.6931471805599453\n",
      "3628800\n"
     ]
    }
   ],
   "source": [
    "import math\n",
    "\n",
    "number = 2\n",
    "print (math.sqrt(number))\n",
    "print (math.log(number))\n",
    "print (math.factorial(10))"
   ]
  },
  {
   "cell_type": "markdown",
   "metadata": {},
   "source": [
    "* [`datetime`](https://docs.python.org/2/library/datetime.html) contains functions and classes for working with dates and times, separatley and together"
   ]
  },
  {
   "cell_type": "code",
   "execution_count": 2,
   "metadata": {
    "scrolled": false
   },
   "outputs": [
    {
     "name": "stdout",
     "output_type": "stream",
     "text": [
      "2019-04-23 13:20:59.565750\n",
      "year: 2019\n",
      "month: 4\n",
      "day: 23\n",
      "week day: 1\n",
      "hour: 13\n",
      "minute: 20\n",
      "second: 59\n",
      "microsecond: 565750\n",
      "Today  : 2019-04-23 13:20:59.566483\n",
      "UTC Now: 2019-04-23 10:20:59.566533\n"
     ]
    }
   ],
   "source": [
    "from datetime import datetime as d\n",
    "\n",
    "now = d.now()\n",
    "print (now)\n",
    "print ('year:', now.year)\n",
    "print ('month:', now.month)\n",
    "print ('day:', now.day)\n",
    "print ('week day:', now.weekday())\n",
    "print ('hour:', now.hour)\n",
    "print ('minute:', now.minute)\n",
    "print ('second:', now.second)\n",
    "print ('microsecond:', now.microsecond)\n",
    "\n",
    "print ('Today  :', d.today())\n",
    "print ('UTC Now:', d.utcnow())"
   ]
  },
  {
   "cell_type": "markdown",
   "metadata": {},
   "source": [
    "* [`os`](https://docs.python.org/2/library/os.html) provides a portable way of using operating system dependent functionality"
   ]
  },
  {
   "cell_type": "code",
   "execution_count": 3,
   "metadata": {
    "scrolled": false
   },
   "outputs": [
    {
     "name": "stdout",
     "output_type": "stream",
     "text": [
      "Lesson 1. Part 4. User Defined Functions.ipynb\n",
      "Lesson 2. Part 3. Work with pandas DataFrames - main operations, sorting and selecting by type.ipynb\n",
      "Lesson 2. Part 1. Introduction to pandas data structures.ipynb\n",
      "Lesson 6. Part 2. SQL syntax and basic commands.ipynb\n",
      "Lesson 6. Part 1. What is SQL - Connection to SQL servers.ipynb\n",
      "Lesson 2. Part 6. Work with pandas DataFrames - reshaping and pivot tables.ipynb\n",
      "Lesson 8.2. NoSQL with Python - Mongo.ipynb\n",
      "Lesson 1. Part 5. Import and Work with Files.ipynb\n",
      "Lesson 5. Advanced topics with sklearn.ipynb\n",
      "Vagrantfile\n",
      "Lesson 2. Part 4. Work with pandas DataFrames - grouping.ipynb\n",
      "Lesson 3.1. Part 1. NumPy.ipynb\n",
      "Lesson 7.2. NoSQL with Python - Neo4j.ipynb\n",
      "Lesson 8.1. Work with Twitter API in Python.ipynb\n",
      "Lesson 2. Part 5. Work with pandas DataFramesb - join, merge and concatenate.ipynb\n",
      "test\n",
      "Lesson 4. Part 2. Machine learning general overview. Classification.ipynb\n",
      "Lesson 1. Part 7. Basic Object Oriented Programming in Python.ipynb\n",
      "Lesson 1. Part 1. Primitive Data Types in Python and Operations on them.ipynb\n",
      "Lesson 6. Part 3 Work with SQL databases using Python libraries.ipynb\n",
      "Lesson 3.1. Part 2. Matplotlib.ipynb\n",
      "Lesson 7.1. Web scraping with Python.ipynb\n",
      "Lesson 2. Part 7. Work with pandas DataFrames - visualization.ipynb\n",
      "Lesson 1. Part 3. Control Structures -  if Statement, for and while Loops.ipynb\n",
      "Lesson 2. Part 2. Work with pandas DataFrames - filtering, indexing and missing data.ipynb\n",
      "Lesson 3.2. Geovisualization with Python.ipynb\n",
      ".ipynb_checkpoints\n",
      "Lesson 1. Part 2. Data Structures in Python.ipynb\n",
      ".vagrant\n",
      "Lesson 1. Part 6. Functional Programming and Exceptions Handling.ipynb\n",
      "\n",
      "('one', 'two', 'three') : one/two/three\n",
      "('/', 'one', 'two', 'three') : /one/two/three\n",
      "('/one', '/two', '/three') : /three\n"
     ]
    }
   ],
   "source": [
    "import os\n",
    "\n",
    "# prints all files and folders in the root directory\n",
    "for file in os.listdir(\"./\"):\n",
    "    print (file)\n",
    "    \n",
    "print ()\n",
    "# builds OS paths\n",
    "for parts in [ ('one', 'two', 'three'),\n",
    "               ('/', 'one', 'two', 'three'),\n",
    "               ('/one', '/two', '/three'),\n",
    "              ]:\n",
    "    print (parts, ':', os.path.join(*parts))"
   ]
  },
  {
   "cell_type": "markdown",
   "metadata": {},
   "source": [
    "The list of Standard Python Libraries can be found [here](https://docs.python.org/2/library/)"
   ]
  },
  {
   "cell_type": "markdown",
   "metadata": {},
   "source": [
    "### Creation of Your Own Modules and Packages"
   ]
  },
  {
   "cell_type": "markdown",
   "metadata": {},
   "source": [
    "[[back to top]](#Table-of-Contents)"
   ]
  },
  {
   "cell_type": "markdown",
   "metadata": {},
   "source": [
    "Creating Python modules is something that most Python programmers do every day. Any time you save a new Python script, you have created a new module. You can import your module into other modules. A package is a collection of modules. The things you import into your scripts from the standard library are modules or packages. In this article, we’ll be looking at how to create modules and packages. We’ll spend more time on packages since they’re more complicated than modules.\n",
    "\n",
    "We will begin by creating a super simple module. This module will provide us with basic arithmetic and no error handling. \n",
    "\n",
    "Note, you need run all above cells of this section for testing its work\n",
    "Here’s our first example:"
   ]
  },
  {
   "cell_type": "code",
   "execution_count": 4,
   "metadata": {
    "scrolled": false
   },
   "outputs": [],
   "source": [
    "def add(x, y):\n",
    "    return x + y\n",
    " \n",
    "def division(x, y):\n",
    "    return x / y\n",
    " \n",
    "def multiply(x, y):\n",
    "    return x * y\n",
    " \n",
    "def subtract(x, y):\n",
    "    return x - y"
   ]
  },
  {
   "cell_type": "code",
   "execution_count": 5,
   "metadata": {
    "scrolled": false
   },
   "outputs": [
    {
     "name": "stdout",
     "output_type": "stream",
     "text": [
      "The following commands were written to file `my_math.py`:\n",
      "get_ipython().run_line_magic('save', 'my_math.py _ih[5]')\n",
      "# !!! Pay your attention: the number between brackets [] should coincide with x from the above In [x]\n"
     ]
    }
   ],
   "source": [
    "%save my_math.py _ih[5]\n",
    "# !!! Pay your attention: the number between brackets [] should coincide with x from the above In [x]"
   ]
  },
  {
   "cell_type": "markdown",
   "metadata": {},
   "source": [
    "Above code created a file `my_math.py` in the roor folder. Please check whether it is.\n",
    "\n",
    "Let's write a little script that imports our module and runs the functions in it:"
   ]
  },
  {
   "cell_type": "code",
   "execution_count": 7,
   "metadata": {
    "scrolled": false
   },
   "outputs": [
    {
     "name": "stdout",
     "output_type": "stream",
     "text": [
      "Add 5 and 8\n"
     ]
    },
    {
     "ename": "AttributeError",
     "evalue": "module 'my_math' has no attribute 'add'",
     "output_type": "error",
     "traceback": [
      "\u001b[0;31m---------------------------------------------------------------------------\u001b[0m",
      "\u001b[0;31mAttributeError\u001b[0m                            Traceback (most recent call last)",
      "\u001b[0;32m<ipython-input-7-83a8a40ac4ab>\u001b[0m in \u001b[0;36m<module>\u001b[0;34m\u001b[0m\n\u001b[1;32m      1\u001b[0m \u001b[0;32mimport\u001b[0m \u001b[0mmy_math\u001b[0m \u001b[0;32mas\u001b[0m \u001b[0mm\u001b[0m\u001b[0;34m\u001b[0m\u001b[0;34m\u001b[0m\u001b[0m\n\u001b[1;32m      2\u001b[0m \u001b[0mprint\u001b[0m \u001b[0;34m(\u001b[0m\u001b[0;34m\"Add 5 and 8\"\u001b[0m\u001b[0;34m)\u001b[0m\u001b[0;34m\u001b[0m\u001b[0;34m\u001b[0m\u001b[0m\n\u001b[0;32m----> 3\u001b[0;31m \u001b[0mprint\u001b[0m \u001b[0;34m(\u001b[0m\u001b[0mm\u001b[0m\u001b[0;34m.\u001b[0m\u001b[0madd\u001b[0m\u001b[0;34m(\u001b[0m\u001b[0;36m5\u001b[0m\u001b[0;34m,\u001b[0m \u001b[0;36m8\u001b[0m\u001b[0;34m)\u001b[0m\u001b[0;34m)\u001b[0m\u001b[0;34m\u001b[0m\u001b[0;34m\u001b[0m\u001b[0m\n\u001b[0m\u001b[1;32m      4\u001b[0m \u001b[0mprint\u001b[0m \u001b[0;34m(\u001b[0m\u001b[0;34m\"Substract 10 and 5\"\u001b[0m\u001b[0;34m)\u001b[0m\u001b[0;34m\u001b[0m\u001b[0;34m\u001b[0m\u001b[0m\n\u001b[1;32m      5\u001b[0m \u001b[0mprint\u001b[0m \u001b[0;34m(\u001b[0m\u001b[0mm\u001b[0m\u001b[0;34m.\u001b[0m\u001b[0msubtract\u001b[0m\u001b[0;34m(\u001b[0m\u001b[0;36m10\u001b[0m\u001b[0;34m,\u001b[0m \u001b[0;36m5\u001b[0m\u001b[0;34m)\u001b[0m\u001b[0;34m)\u001b[0m\u001b[0;34m\u001b[0m\u001b[0;34m\u001b[0m\u001b[0m\n",
      "\u001b[0;31mAttributeError\u001b[0m: module 'my_math' has no attribute 'add'"
     ]
    }
   ],
   "source": [
    "import my_math as m\n",
    "print (\"Add 5 and 8\")\n",
    "print (m.add(5, 8))\n",
    "print (\"Substract 10 and 5\")\n",
    "print (m.subtract(10, 5))\n",
    "print (\"Divide 2 by 7\")\n",
    "print (m.division(2, 7))\n",
    "print (\"Multiply 12 by 6\")\n",
    "print (m.multiply(12, 6))"
   ]
  },
  {
   "cell_type": "markdown",
   "metadata": {},
   "source": [
    "The main difference between a module and a package is that a package is a collection of modules AND it has an `__init__.py` file. Depending on the complexity of the package, it may have more than one `__init__.py`. Let’s take a look at a simple folder structure to make this more obvious, then we’ll create some simple code to follow that structure.\n",
    "\n",
    "Let's create a new folder \"arithmetic\", which we'll collect our modules in "
   ]
  },
  {
   "cell_type": "code",
   "execution_count": 8,
   "metadata": {
    "scrolled": false
   },
   "outputs": [],
   "source": [
    "os.mkdir('./arithmetic')"
   ]
  },
  {
   "cell_type": "code",
   "execution_count": 9,
   "metadata": {
    "scrolled": false
   },
   "outputs": [],
   "source": [
    "def add(x, y):\n",
    "    return x + y"
   ]
  },
  {
   "cell_type": "code",
   "execution_count": 10,
   "metadata": {
    "scrolled": false
   },
   "outputs": [
    {
     "name": "stdout",
     "output_type": "stream",
     "text": [
      "The following commands were written to file `arithmetic/addition.py`:\n",
      "def add(x, y):\n",
      "    return x + y\n"
     ]
    }
   ],
   "source": [
    "%save arithmetic/addition.py _ih[9]"
   ]
  },
  {
   "cell_type": "code",
   "execution_count": 11,
   "metadata": {
    "scrolled": false
   },
   "outputs": [],
   "source": [
    "def division(x, y):\n",
    "    return x / y"
   ]
  },
  {
   "cell_type": "code",
   "execution_count": 12,
   "metadata": {
    "scrolled": false
   },
   "outputs": [
    {
     "name": "stdout",
     "output_type": "stream",
     "text": [
      "The following commands were written to file `arithmetic/division.py`:\n",
      "def division(x, y):\n",
      "    return x / y\n"
     ]
    }
   ],
   "source": [
    "%save arithmetic/division.py _ih[11]"
   ]
  },
  {
   "cell_type": "code",
   "execution_count": 13,
   "metadata": {
    "scrolled": false
   },
   "outputs": [],
   "source": [
    "def multiply(x, y):\n",
    "    return x * y"
   ]
  },
  {
   "cell_type": "code",
   "execution_count": 14,
   "metadata": {
    "scrolled": false
   },
   "outputs": [
    {
     "name": "stdout",
     "output_type": "stream",
     "text": [
      "The following commands were written to file `arithmetic/multiplication.py`:\n",
      "def multiply(x, y):\n",
      "    return x * y\n"
     ]
    }
   ],
   "source": [
    "%save arithmetic/multiplication.py _ih[13]"
   ]
  },
  {
   "cell_type": "code",
   "execution_count": 15,
   "metadata": {
    "scrolled": false
   },
   "outputs": [],
   "source": [
    "def subtract(x, y):\n",
    "    return x - y"
   ]
  },
  {
   "cell_type": "code",
   "execution_count": 16,
   "metadata": {
    "scrolled": false
   },
   "outputs": [
    {
     "name": "stdout",
     "output_type": "stream",
     "text": [
      "The following commands were written to file `arithmetic/subtraction.py`:\n",
      "def subtract(x, y):\n",
      "    return x - y\n"
     ]
    }
   ],
   "source": [
    "%save arithmetic/subtraction.py _ih[15]"
   ]
  },
  {
   "cell_type": "markdown",
   "metadata": {},
   "source": [
    "We should also create an empty Python file `__init__.py`. The below command we will consider in the next section."
   ]
  },
  {
   "cell_type": "code",
   "execution_count": 17,
   "metadata": {
    "scrolled": false
   },
   "outputs": [],
   "source": [
    "open('arithmetic/__init__.py','a').close()"
   ]
  },
  {
   "cell_type": "markdown",
   "metadata": {},
   "source": [
    "\"arithmetic\" folder (your own package) has the following structure\n",
    "\n",
    "    arithmetic/\n",
    "        __init__.py\n",
    "        addition.py\n",
    "        division.py\n",
    "        multiplication.py\n",
    "        subtraction.py"
   ]
  },
  {
   "cell_type": "code",
   "execution_count": 18,
   "metadata": {
    "scrolled": false
   },
   "outputs": [
    {
     "name": "stdout",
     "output_type": "stream",
     "text": [
      "Import functions from package\n",
      "Add 5 and 8\n",
      "13\n",
      "Substract 10 and 5\n",
      "5\n",
      "Divide 2 by 7\n",
      "0.2857142857142857\n",
      "Multiply 12 by 6\n",
      "72\n"
     ]
    }
   ],
   "source": [
    "from arithmetic import addition, division, multiplication, subtraction\n",
    "print (\"Import functions from package\")\n",
    "print (\"Add 5 and 8\")\n",
    "print (addition.add(5, 8))\n",
    "print (\"Substract 10 and 5\")\n",
    "print (subtraction.subtract(10, 5))\n",
    "print (\"Divide 2 by 7\")\n",
    "print (division.division(2, 7))\n",
    "print (\"Multiply 12 by 6\")\n",
    "print (multiplication.multiply(12, 6))"
   ]
  },
  {
   "cell_type": "markdown",
   "metadata": {},
   "source": [
    "---\n",
    "## Files and Printing"
   ]
  },
  {
   "cell_type": "markdown",
   "metadata": {},
   "source": [
    "[[back to top]](#Table-of-Contents)"
   ]
  },
  {
   "cell_type": "markdown",
   "metadata": {},
   "source": [
    "You'll often be reading data from a file, or writing the output of your python scripts back into a file. Python makes this very easy. You need to open a file in the appropriate mode, using the `open` function, then you can read or write to accomplish your task. The `open` function takes two arguments, the name of the file, and the mode. The mode is a single letter string that specifies if you're going to be reading from a file, writing to a file, or appending to the end of an existing file. The function returns a file object that performs the various tasks you'll be performing: `a_file = open(filename, mode)`. The modes are:\n",
    "\n",
    "+ `'r'`: open a file for reading\n",
    "+ `'w'`: open a file for writing. Caution: this will overwrite any previously existing file\n",
    "+ `'a'`: append. Write to the end of a file. \n",
    "\n",
    "When reading, you typically want to iterate through the lines in a file using a for loop, as above. Some other common methods for dealing with files are: \n",
    "\n",
    "+ `file.read()`: read the entire contents of a file into a string\n",
    "+ `file.readline()`: read one line of a file\n",
    "+ `file.readlines()`: read all lines of a file and collect them as a list\n",
    "+ `file.write(some_string)`: writes to the file, note this doesn't automatically include any new lines. Also note that sometimes writes are buffered- python will wait until you have several writes pending, and perform them all at once\n",
    "+ `file.flush()`: write out any buffered writes\n",
    "+ `file.close()`: close the open file. This will free up some computer resources occupied by keeping a file open.\n",
    "+ `file.seek(position)`: moves to a specific position within a file. Note that position is specified in bytes. \n",
    "\n",
    "Here is an example using files:"
   ]
  },
  {
   "cell_type": "code",
   "execution_count": 19,
   "metadata": {
    "scrolled": false
   },
   "outputs": [
    {
     "name": "stdout",
     "output_type": "stream",
     "text": [
      "Open file\n",
      "write rows to file\n",
      "Flush data and close file\n"
     ]
    }
   ],
   "source": [
    "print (\"Open file\")\n",
    "A_file = open(\"temp.txt\", \"w\")\n",
    "A_list = [\"a\", \"b\", \"c\", \"d\"]\n",
    "A_set = {1, 2, 3, 4}\n",
    "print (\"write rows to file\")\n",
    "for x in A_list:\n",
    "    A_file.write(\"letter: %s\\n\" % x)\n",
    "    # print \"letter: %s\\n\" % x\n",
    "for n in A_set:\n",
    "    A_file.write(\"number: %d\\n\" % n)\n",
    "    # print \"number: %d\\n\" % n\n",
    "print (\"Flush data and close file\")\n",
    "A_file.flush()\n",
    "A_file.close()"
   ]
  },
  {
   "cell_type": "code",
   "execution_count": 20,
   "metadata": {
    "scrolled": false
   },
   "outputs": [
    {
     "name": "stdout",
     "output_type": "stream",
     "text": [
      "Print file data through bash\n",
      "letter: a\r\n",
      "letter: b\r\n",
      "letter: c\r\n",
      "letter: d\r\n",
      "number: 1\r\n",
      "number: 2\r\n",
      "number: 3\r\n",
      "number: 4\r\n"
     ]
    }
   ],
   "source": [
    "print (\"Print file data through bash\")\n",
    "!cat temp.txt"
   ]
  },
  {
   "cell_type": "code",
   "execution_count": 21,
   "metadata": {
    "scrolled": false
   },
   "outputs": [
    {
     "name": "stdout",
     "output_type": "stream",
     "text": [
      "Print file data through python\n",
      "letter: a\n",
      "\n",
      "letter: b\n",
      "\n",
      "letter: c\n",
      "\n",
      "letter: d\n",
      "\n",
      "number: 1\n",
      "\n",
      "number: 2\n",
      "\n",
      "number: 3\n",
      "\n",
      "number: 4\n",
      "\n"
     ]
    }
   ],
   "source": [
    "print (\"Print file data through python\")\n",
    "file_2 = open(\"temp.txt\", \"r\")\n",
    "for line in file_2:\n",
    "    print (line) # note that this doesn't strip off the newlines\n",
    "file_2.close()"
   ]
  },
  {
   "cell_type": "markdown",
   "metadata": {},
   "source": [
    "Another way of working with file objects is the `with` statement. It is good practice to use this statement. \n",
    "With the `with` statement, you get better syntax and exceptions handling. \n",
    "\n",
    "In addition, it will automatically close the file. The `with` statement provides a way for ensuring that a clean-up is always used."
   ]
  },
  {
   "cell_type": "code",
   "execution_count": 22,
   "metadata": {
    "scrolled": false
   },
   "outputs": [
    {
     "name": "stdout",
     "output_type": "stream",
     "text": [
      "Hello World\n",
      "\n",
      "It is a  new line\n",
      "\n",
      "And again a line\n",
      "\n",
      "The end\n"
     ]
    }
   ],
   "source": [
    "# write a new file\n",
    "with open(\"hello.txt\", \"w\") as f:\n",
    "    f.write(\"Hello World\\nIt is a  new line\\nAnd again a line\\nThe end\")\n",
    "    \n",
    "# read the \"hello.txt\" file\n",
    "with open(\"hello.txt\") as f:\n",
    "    data = f.readlines()\n",
    "    for line in data:\n",
    "        print (line)"
   ]
  },
  {
   "cell_type": "code",
   "execution_count": 23,
   "metadata": {
    "scrolled": false
   },
   "outputs": [
    {
     "name": "stdout",
     "output_type": "stream",
     "text": [
      "letter: a\n",
      "letter: b\n",
      "letter: c\n",
      "letter: d\n",
      "number: 1\n",
      "number: 2\n",
      "number: 3\n",
      "number: 4\n",
      "\n"
     ]
    }
   ],
   "source": [
    "file_3 = open(\"temp.txt\", \"r\")\n",
    "content = file_3.read()\n",
    "print (content)\n",
    "file_3.close()"
   ]
  },
  {
   "cell_type": "code",
   "execution_count": 24,
   "metadata": {
    "scrolled": false
   },
   "outputs": [],
   "source": [
    "# filter rows\n",
    "file_4 = open(\"temp.txt\", \"r\")\n",
    "for line in file_4:\n",
    "    if line.count(\"t\") > 0:\n",
    "        break\n",
    "    print (line.strip()) # remove the extra newline.\n",
    "file_4.close()"
   ]
  },
  {
   "cell_type": "code",
   "execution_count": 25,
   "metadata": {
    "scrolled": false
   },
   "outputs": [
    {
     "name": "stdout",
     "output_type": "stream",
     "text": [
      "letter: a\r\n",
      "letter: b\r\n",
      "letter: c\r\n",
      "letter: d\r\n",
      "number: 1\r\n",
      "number: 2\r\n",
      "number: 3\r\n",
      "number: 4\r\n"
     ]
    }
   ],
   "source": [
    "!cat temp.txt"
   ]
  },
  {
   "cell_type": "code",
   "execution_count": 26,
   "metadata": {
    "scrolled": false
   },
   "outputs": [
    {
     "name": "stdout",
     "output_type": "stream",
     "text": [
      "letter_a\n",
      "['letter', 'a']\n",
      "letter_b\n",
      "letter_c\n",
      "['letter', 'c']\n",
      "letter_d\n",
      "['letter', 'd']\n",
      "number_1\n",
      "['number', '1']\n",
      "number_2\n",
      "['number', '2']\n",
      "number_3\n",
      "['number', '3']\n",
      "number_4\n",
      "['number', '4']\n"
     ]
    }
   ],
   "source": [
    "# filter columns\n",
    "file_5 = open(\"temp.txt\", \"r\")\n",
    "for line in file_5:\n",
    "    columns = line.strip().split(\": \") # create a list by splitting the line on the \" \" and \":\" characters\n",
    "    print (\"_\".join(columns)) # prints the columns as a string, using the \"#\" char as a separator\n",
    "    if columns[1] != \"b\": # if the second element of the list is NOT b, \n",
    "        print (columns) # then print the list\n",
    "\n",
    "file_5.close()"
   ]
  },
  {
   "cell_type": "markdown",
   "metadata": {},
   "source": [
    "Common used file formats for storage of large numbers of rows with data are [CSV](https://en.wikipedia.org/wiki/Comma-separated_values) and [JSON](https://en.wikipedia.org/wiki/JSON) file formates. \n",
    "\n",
    "Python provide libraries for writting, reading and updating these (and many others) files:\n",
    "* [`csv`](https://docs.python.org/2/library/csv.html) library implements tools to read and write tabular data in CSV format \n",
    "* [`json`](https://docs.python.org/2/library/json.html) library allows to users to work with JSON files"
   ]
  },
  {
   "cell_type": "code",
   "execution_count": 27,
   "metadata": {
    "scrolled": false
   },
   "outputs": [
    {
     "name": "stdout",
     "output_type": "stream",
     "text": [
      "['NO', 'Letter', 'Date']\n",
      "['1', 'a', '08/01/07']\n",
      "['2', 'b', '08/02/07']\n",
      "['3', 'c', '08/03/07']\n",
      "['4', 'd', '08/04/07']\n",
      "['5', 'e', '08/05/07']\n",
      "['6', 'f', '08/06/07']\n",
      "['7', 'g', '08/07/07']\n",
      "['8', 'h', '08/08/07']\n",
      "['9', 'i', '08/09/07']\n",
      "['10', 'j', '08/10/07']\n"
     ]
    }
   ],
   "source": [
    "import csv\n",
    "\n",
    "# Writing CSV data\n",
    "with open('test.csv', 'w') as f:\n",
    "    writer = csv.writer(f)\n",
    "    writer.writerow( ('NO', 'Letter', 'Date') )\n",
    "    for i in range(10):\n",
    "        writer.writerow( (i+1, chr(ord('a') + i), '08/%02d/07' % (i+1)) )\n",
    "        \n",
    "# Reading data back\n",
    "with open('test.csv', 'r') as f:\n",
    "    reader = csv.reader(f)\n",
    "    for row in reader:\n",
    "        print (row)"
   ]
  },
  {
   "cell_type": "markdown",
   "metadata": {},
   "source": [
    "`chr` and `ord` are [basic Python functions](https://docs.python.org/2/library/functions.html) which work with ASCII character's codes "
   ]
  },
  {
   "cell_type": "code",
   "execution_count": 28,
   "metadata": {
    "scrolled": false
   },
   "outputs": [
    {
     "name": "stdout",
     "output_type": "stream",
     "text": [
      "{'NO': 19, 'letters': 'ebhgfcad', 'choice': 'd', 'rounded': 0.651}\n"
     ]
    }
   ],
   "source": [
    "import json\n",
    "import random\n",
    "\n",
    "# converts str type to a list\n",
    "l = list('abcdefgh')\n",
    "\n",
    "# Writing JSON data\n",
    "with open('test.json', 'w') as f:\n",
    "    random.shuffle(l)\n",
    "    letters = ''.join(l)\n",
    "    data = {\n",
    "            \"NO\": random.randint(0, 100),\n",
    "            \"letters\": letters,\n",
    "            \"choice\": random.choice('abcdefgh'),\n",
    "            \"rounded\": round(random.random(), 3)\n",
    "        }\n",
    "    json.dump(data, f)\n",
    "\n",
    "# Reading data back\n",
    "with open('test.json', 'r') as f:\n",
    "    for line in f:\n",
    "        print (json.loads(line))"
   ]
  },
  {
   "cell_type": "markdown",
   "metadata": {},
   "source": [
    "Above we have used module [`random`](https://docs.python.org/2/library/random.html), which implements pseudo-random number generators for various distributions, and also function [`round(n, m)`](https://docs.python.org/2/library/functions.html#round) that returns the floating point value `n` rounded to `m` digits after the decimal point. "
   ]
  },
  {
   "cell_type": "markdown",
   "metadata": {},
   "source": [
    ">### Exercise 5.1\n",
    "\n",
    ">The command below will create a file called `phonetest.txt`\n",
    "\n",
    ">``` \n",
    ">    %%file phonetest.txt\n",
    ">    679-397-5255\n",
    ">    2126660921\n",
    ">    212-998-0902\n",
    ">    888-888-2222\n",
    ">    800-555-1211\n",
    ">    800 555 1212\n",
    ">    800.555.1213\n",
    ">    (800) 555-1214\n",
    ">    1-800-555-1215\n",
    ">    1(800)555-1216\n",
    ">    800-555-1212-1234\n",
    ">    800-555-1212x1234\n",
    ">    800-555-1212 ext. 1234\n",
    ">    work 1-(800) 555.121 ```\n",
    "    \n",
    ">* Overwrite `phonetest.txt` in the opposite order (i.e. the first line should be written the last, etc.) using Python funcionality. Read content of renewed file to the `content` string variable, where after each row you should add its number"
   ]
  },
  {
   "cell_type": "code",
   "execution_count": null,
   "metadata": {
    "collapsed": true
   },
   "outputs": [],
   "source": [
    "# type your code here"
   ]
  },
  {
   "cell_type": "code",
   "execution_count": null,
   "metadata": {},
   "outputs": [],
   "source": [
    "from test_helper import Test\n",
    "\n",
    "Test.assertEqualsHashed(content, '8c4be466aa5f8bbeb7d13c7cde2f06cf7d696ae8', 'Incorrect value of \"content\"', \n",
    "                        \"Exercise 5.1 is successful\")"
   ]
  },
  {
   "cell_type": "markdown",
   "metadata": {},
   "source": [
    "<center><h3>Presented by <a target=\"_blank\" href=\"http://datascience-school.com\">datascience-school.com</a></h3></center>"
   ]
  }
 ],
 "metadata": {
  "anaconda-cloud": {},
  "kernelspec": {
   "display_name": "Python 3",
   "language": "python",
   "name": "python3"
  },
  "language_info": {
   "codemirror_mode": {
    "name": "ipython",
    "version": 3
   },
   "file_extension": ".py",
   "mimetype": "text/x-python",
   "name": "python",
   "nbconvert_exporter": "python",
   "pygments_lexer": "ipython3",
   "version": "3.6.7"
  }
 },
 "nbformat": 4,
 "nbformat_minor": 1
}
