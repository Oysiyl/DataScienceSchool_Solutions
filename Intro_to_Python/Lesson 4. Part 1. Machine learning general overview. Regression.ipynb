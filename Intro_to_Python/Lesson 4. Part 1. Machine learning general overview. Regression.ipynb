{
 "cells": [
  {
   "cell_type": "markdown",
   "metadata": {},
   "source": [
    "---\n",
    "<center><h1> Lesson 4 - Intro to machine learning with scikit-learn</h1></center> \n",
    "<center><h1>Part 1. Machine learning general overview. Regression</h1></center>\n",
    "\n",
    "---"
   ]
  },
  {
   "cell_type": "markdown",
   "metadata": {},
   "source": [
    "## <u>What is machine learning?</u>\n",
    "\n",
    "Machine learning (ML) is a method of data analysis that automates analytical model building. Using algorithms that iteratively learn from data, ML allows computers to find hidden insights without being explicitly programmed where to look.\n",
    "\n",
    "The iterative aspect of ML is important because as models are exposed to new data, they are able to independently adapt. They learn from previous computations to produce reliable, repeatable decisions and results. So in general, ML is about learning to do better in the future based on what was experienced in the past.\n",
    "\n",
    "ML is a core subarea of artificial intelligence and also intersects broadly with other fields, especially statistics, but also mathematics, physics, theoretical computer science and more.\n",
    "\n",
    "There are many examples of ML problems:\n",
    "\n",
    "* optical character recognition: categorize images of handwritten characters by the letters represented\n",
    "* face detection: find faces in images (or indicate if a face is present)\n",
    "* spam filtering: identify email messages as spam or non-spam\n",
    "* topic spotting: categorize news articles (say) as to whether they are about politics, ports, entertainment, etc.\n",
    "* spoken language understanding: within the context of a limited domain, determine the meaning of something uttered by a speaker to the extent that it can be classified into one of a fixed set of categories\n",
    "* medical diagnosis: diagnose a patient as a sufferer or non-sufferer of some disease\n",
    "* customer segmentation: predict, for instance, which customers will respond to a particular promotion\n",
    "* fraud detection: identify credit card transactions (for instance) which may be fraudulent in nature\n",
    "* weather prediction: predict, for instance, whether or not it will rain tomorrow\n",
    "\n",
    "\n",
    "## <u>What are the two main categories of machine learning?</u>\n",
    "\n",
    "### Supervised learning:\n",
    "The data comes with additional attributes (called labels) that we want to predict. This problem can be either:\n",
    "\n",
    "* _**classification**_: samples belong to two or more classes and we want to learn from already labeled data how to predict the class of unlabeled data. An example of classification problem would be the handwritten digit recognition example, in which the aim is to assign each input vector to one of a finite number of discrete categories. Another way to think of classification is as a discrete (as opposed to continuous) form of supervised learning where one has a limited number of categories and for each of the n samples provided, one is to try to label them with the correct category or class.\n",
    "\n",
    "* _**regression**_: if the desired output consists of one or more continuous variables, then the task is called regression. An example of a regression problem would be the prediction of the length of a salmon as a function of its age and weight.\n",
    "\n",
    "### Unsupervised learning: \n",
    "\n",
    "The training data consists of a set of input vectors without any corresponding target values. The goal in such problems may be to discover groups of similar examples within the data, where it is called clustering, or to determine the distribution of data within the input space, known as density estimation, or to project the data from a high-dimensional space down to two or three dimensions for the purpose of visualization.\n",
    "\n",
    "\n",
    "## <u>How does machine learning \"work\"?</u>\n",
    "\n",
    "<img src=\"images/ml.png\">"
   ]
  },
  {
   "cell_type": "markdown",
   "metadata": {},
   "source": [
    "## Machine learning with scikit-learn\n",
    "\n",
    "The specific software package we will be using to do ML is called [scikit-learn](http://scikit-learn.org). Scikit-learn is a very powerful package that supports a vast array of ML algorithms (regression, classification, clustering, model selection and dimensionality reduction).\n",
    "\n",
    "In the current lesson we will consider only supervised ML. Remind, it is broken down into two categories, _classification_ and _regression_. In classification, the label is discrete, while in regression, the label is continuous. For example, in astronomy, the task of determining whether an object is a star, a galaxy, or a quasar is a classification problem: the label is from three distinct categories (classes). On the other hand, we might wish to estimate the age of an object based on such observations: this would be a regression problem, because the label (age) is a continuous quantity.\n",
    "\n",
    "scikit-learn comes with several toy datasets that are quite useful for getting an intuition for ML (iris, digits, diabetes etc.). All available datasets may be found [here](http://scikit-learn.org/stable/datasets). In this lesson we will consider two datasets - Boston and Iris - and apply regression and classification algorithms to them."
   ]
  },
  {
   "cell_type": "markdown",
   "metadata": {},
   "source": [
    " <h2>Regression with Boston dataset</h2>\n",
    "\n",
    "We chose Boston Housing dataset, which contains information about the housing values in suburbs of Boston."
   ]
  },
  {
   "cell_type": "code",
   "execution_count": 1,
   "metadata": {},
   "outputs": [
    {
     "data": {
      "text/plain": [
       "dict_keys(['data', 'target', 'feature_names', 'DESCR', 'filename'])"
      ]
     },
     "execution_count": 1,
     "metadata": {},
     "output_type": "execute_result"
    }
   ],
   "source": [
    "# Import all datasets\n",
    "from sklearn.datasets import *\n",
    "\n",
    "# Load Boston Housind data\n",
    "data_boston = load_boston()\n",
    "# Get keys of data\n",
    "data_boston.keys()"
   ]
  },
  {
   "cell_type": "code",
   "execution_count": 2,
   "metadata": {},
   "outputs": [
    {
     "name": "stdout",
     "output_type": "stream",
     "text": [
      "['CRIM' 'ZN' 'INDUS' 'CHAS' 'NOX' 'RM' 'AGE' 'DIS' 'RAD' 'TAX' 'PTRATIO'\n",
      " 'B' 'LSTAT']\n"
     ]
    }
   ],
   "source": [
    "# Look at the feature names of Boston data set\n",
    "print (data_boston.feature_names)"
   ]
  },
  {
   "cell_type": "code",
   "execution_count": 3,
   "metadata": {},
   "outputs": [
    {
     "name": "stdout",
     "output_type": "stream",
     "text": [
      ".. _boston_dataset:\n",
      "\n",
      "Boston house prices dataset\n",
      "---------------------------\n",
      "\n",
      "**Data Set Characteristics:**  \n",
      "\n",
      "    :Number of Instances: 506 \n",
      "\n",
      "    :Number of Attributes: 13 numeric/categorical predictive. Median Value (attribute 14) is usually the target.\n",
      "\n",
      "    :Attribute Information (in order):\n",
      "        - CRIM     per capita crime rate by town\n",
      "        - ZN       proportion of residential land zoned for lots over 25,000 sq.ft.\n",
      "        - INDUS    proportion of non-retail business acres per town\n",
      "        - CHAS     Charles River dummy variable (= 1 if tract bounds river; 0 otherwise)\n",
      "        - NOX      nitric oxides concentration (parts per 10 million)\n",
      "        - RM       average number of rooms per dwelling\n",
      "        - AGE      proportion of owner-occupied units built prior to 1940\n",
      "        - DIS      weighted distances to five Boston employment centres\n",
      "        - RAD      index of accessibility to radial highways\n",
      "        - TAX      full-value property-tax rate per $10,000\n",
      "        - PTRATIO  pupil-teacher ratio by town\n",
      "        - B        1000(Bk - 0.63)^2 where Bk is the proportion of blacks by town\n",
      "        - LSTAT    % lower status of the population\n",
      "        - MEDV     Median value of owner-occupied homes in $1000's\n",
      "\n",
      "    :Missing Attribute Values: None\n",
      "\n",
      "    :Creator: Harrison, D. and Rubinfeld, D.L.\n",
      "\n",
      "This is a copy of UCI ML housing dataset.\n",
      "https://archive.ics.uci.edu/ml/machine-learning-databases/housing/\n",
      "\n",
      "\n",
      "This dataset was taken from the StatLib library which is maintained at Carnegie Mellon University.\n",
      "\n",
      "The Boston house-price data of Harrison, D. and Rubinfeld, D.L. 'Hedonic\n",
      "prices and the demand for clean air', J. Environ. Economics & Management,\n",
      "vol.5, 81-102, 1978.   Used in Belsley, Kuh & Welsch, 'Regression diagnostics\n",
      "...', Wiley, 1980.   N.B. Various transformations are used in the table on\n",
      "pages 244-261 of the latter.\n",
      "\n",
      "The Boston house-price data has been used in many machine learning papers that address regression\n",
      "problems.   \n",
      "     \n",
      ".. topic:: References\n",
      "\n",
      "   - Belsley, Kuh & Welsch, 'Regression diagnostics: Identifying Influential Data and Sources of Collinearity', Wiley, 1980. 244-261.\n",
      "   - Quinlan,R. (1993). Combining Instance-Based and Model-Based Learning. In Proceedings on the Tenth International Conference of Machine Learning, 236-243, University of Massachusetts, Amherst. Morgan Kaufmann.\n",
      "\n"
     ]
    }
   ],
   "source": [
    "# For getting more information about this data we can see the description\n",
    "print (data_boston.DESCR)"
   ]
  },
  {
   "cell_type": "code",
   "execution_count": 4,
   "metadata": {},
   "outputs": [
    {
     "data": {
      "text/plain": [
       "array([[6.3200e-03, 1.8000e+01, 2.3100e+00, ..., 1.5300e+01, 3.9690e+02,\n",
       "        4.9800e+00],\n",
       "       [2.7310e-02, 0.0000e+00, 7.0700e+00, ..., 1.7800e+01, 3.9690e+02,\n",
       "        9.1400e+00],\n",
       "       [2.7290e-02, 0.0000e+00, 7.0700e+00, ..., 1.7800e+01, 3.9283e+02,\n",
       "        4.0300e+00],\n",
       "       ...,\n",
       "       [6.0760e-02, 0.0000e+00, 1.1930e+01, ..., 2.1000e+01, 3.9690e+02,\n",
       "        5.6400e+00],\n",
       "       [1.0959e-01, 0.0000e+00, 1.1930e+01, ..., 2.1000e+01, 3.9345e+02,\n",
       "        6.4800e+00],\n",
       "       [4.7410e-02, 0.0000e+00, 1.1930e+01, ..., 2.1000e+01, 3.9690e+02,\n",
       "        7.8800e+00]])"
      ]
     },
     "execution_count": 4,
     "metadata": {},
     "output_type": "execute_result"
    }
   ],
   "source": [
    "# Look at dataset values\n",
    "data_boston.data"
   ]
  },
  {
   "cell_type": "markdown",
   "metadata": {},
   "source": [
    "The Boston dataset is a dictionary-like object that holds all the data and some metadata about the data. This data is stored in the `data` key, which is a `n_samples x n_features` array. In the case of supervised problem like this one, one or more response variables (labels) are stored in the `target` key.\n",
    "\n",
    "For better visualization of the features and target examples we use pandas package, that allow to show data as a DataFrame."
   ]
  },
  {
   "cell_type": "code",
   "execution_count": 7,
   "metadata": {},
   "outputs": [
    {
     "name": "stdout",
     "output_type": "stream",
     "text": [
      "Boston dataset contains 506 rows.\n"
     ]
    },
    {
     "data": {
      "text/html": [
       "<div>\n",
       "<style scoped>\n",
       "    .dataframe tbody tr th:only-of-type {\n",
       "        vertical-align: middle;\n",
       "    }\n",
       "\n",
       "    .dataframe tbody tr th {\n",
       "        vertical-align: top;\n",
       "    }\n",
       "\n",
       "    .dataframe thead th {\n",
       "        text-align: right;\n",
       "    }\n",
       "</style>\n",
       "<table border=\"1\" class=\"dataframe\">\n",
       "  <thead>\n",
       "    <tr style=\"text-align: right;\">\n",
       "      <th></th>\n",
       "      <th>CRIM</th>\n",
       "      <th>ZN</th>\n",
       "      <th>INDUS</th>\n",
       "      <th>CHAS</th>\n",
       "      <th>NOX</th>\n",
       "      <th>RM</th>\n",
       "      <th>AGE</th>\n",
       "      <th>DIS</th>\n",
       "      <th>RAD</th>\n",
       "      <th>TAX</th>\n",
       "      <th>PTRATIO</th>\n",
       "      <th>B</th>\n",
       "      <th>LSTAT</th>\n",
       "    </tr>\n",
       "  </thead>\n",
       "  <tbody>\n",
       "    <tr>\n",
       "      <th>0</th>\n",
       "      <td>0.00632</td>\n",
       "      <td>18.0</td>\n",
       "      <td>2.31</td>\n",
       "      <td>0.0</td>\n",
       "      <td>0.538</td>\n",
       "      <td>6.575</td>\n",
       "      <td>65.2</td>\n",
       "      <td>4.0900</td>\n",
       "      <td>1.0</td>\n",
       "      <td>296.0</td>\n",
       "      <td>15.3</td>\n",
       "      <td>396.90</td>\n",
       "      <td>4.98</td>\n",
       "    </tr>\n",
       "    <tr>\n",
       "      <th>1</th>\n",
       "      <td>0.02731</td>\n",
       "      <td>0.0</td>\n",
       "      <td>7.07</td>\n",
       "      <td>0.0</td>\n",
       "      <td>0.469</td>\n",
       "      <td>6.421</td>\n",
       "      <td>78.9</td>\n",
       "      <td>4.9671</td>\n",
       "      <td>2.0</td>\n",
       "      <td>242.0</td>\n",
       "      <td>17.8</td>\n",
       "      <td>396.90</td>\n",
       "      <td>9.14</td>\n",
       "    </tr>\n",
       "    <tr>\n",
       "      <th>2</th>\n",
       "      <td>0.02729</td>\n",
       "      <td>0.0</td>\n",
       "      <td>7.07</td>\n",
       "      <td>0.0</td>\n",
       "      <td>0.469</td>\n",
       "      <td>7.185</td>\n",
       "      <td>61.1</td>\n",
       "      <td>4.9671</td>\n",
       "      <td>2.0</td>\n",
       "      <td>242.0</td>\n",
       "      <td>17.8</td>\n",
       "      <td>392.83</td>\n",
       "      <td>4.03</td>\n",
       "    </tr>\n",
       "    <tr>\n",
       "      <th>3</th>\n",
       "      <td>0.03237</td>\n",
       "      <td>0.0</td>\n",
       "      <td>2.18</td>\n",
       "      <td>0.0</td>\n",
       "      <td>0.458</td>\n",
       "      <td>6.998</td>\n",
       "      <td>45.8</td>\n",
       "      <td>6.0622</td>\n",
       "      <td>3.0</td>\n",
       "      <td>222.0</td>\n",
       "      <td>18.7</td>\n",
       "      <td>394.63</td>\n",
       "      <td>2.94</td>\n",
       "    </tr>\n",
       "    <tr>\n",
       "      <th>4</th>\n",
       "      <td>0.06905</td>\n",
       "      <td>0.0</td>\n",
       "      <td>2.18</td>\n",
       "      <td>0.0</td>\n",
       "      <td>0.458</td>\n",
       "      <td>7.147</td>\n",
       "      <td>54.2</td>\n",
       "      <td>6.0622</td>\n",
       "      <td>3.0</td>\n",
       "      <td>222.0</td>\n",
       "      <td>18.7</td>\n",
       "      <td>396.90</td>\n",
       "      <td>5.33</td>\n",
       "    </tr>\n",
       "  </tbody>\n",
       "</table>\n",
       "</div>"
      ],
      "text/plain": [
       "      CRIM    ZN  INDUS  CHAS    NOX     RM   AGE     DIS  RAD    TAX  \\\n",
       "0  0.00632  18.0   2.31   0.0  0.538  6.575  65.2  4.0900  1.0  296.0   \n",
       "1  0.02731   0.0   7.07   0.0  0.469  6.421  78.9  4.9671  2.0  242.0   \n",
       "2  0.02729   0.0   7.07   0.0  0.469  7.185  61.1  4.9671  2.0  242.0   \n",
       "3  0.03237   0.0   2.18   0.0  0.458  6.998  45.8  6.0622  3.0  222.0   \n",
       "4  0.06905   0.0   2.18   0.0  0.458  7.147  54.2  6.0622  3.0  222.0   \n",
       "\n",
       "   PTRATIO       B  LSTAT  \n",
       "0     15.3  396.90   4.98  \n",
       "1     17.8  396.90   9.14  \n",
       "2     17.8  392.83   4.03  \n",
       "3     18.7  394.63   2.94  \n",
       "4     18.7  396.90   5.33  "
      ]
     },
     "execution_count": 7,
     "metadata": {},
     "output_type": "execute_result"
    }
   ],
   "source": [
    "import pandas as pd\n",
    "\n",
    "# Create data frame with the features\n",
    "boston = pd.DataFrame(data_boston.data, columns=data_boston.feature_names)\n",
    "\n",
    "# Show a head of the Data Frame\n",
    "print (\"Boston dataset contains {} rows.\".format(boston.index.size))\n",
    "boston.head()"
   ]
  },
  {
   "cell_type": "markdown",
   "metadata": {},
   "source": [
    "Boston's target contains the housing prices. Let's add column with it."
   ]
  },
  {
   "cell_type": "code",
   "execution_count": 8,
   "metadata": {},
   "outputs": [
    {
     "data": {
      "text/plain": [
       "array([24. , 21.6, 34.7, 33.4, 36.2, 28.7, 22.9, 27.1, 16.5, 18.9, 15. ,\n",
       "       18.9, 21.7, 20.4, 18.2, 19.9, 23.1, 17.5, 20.2, 18.2])"
      ]
     },
     "execution_count": 8,
     "metadata": {},
     "output_type": "execute_result"
    }
   ],
   "source": [
    "data_boston.target[:20]"
   ]
  },
  {
   "cell_type": "code",
   "execution_count": 9,
   "metadata": {},
   "outputs": [
    {
     "data": {
      "text/html": [
       "<div>\n",
       "<style scoped>\n",
       "    .dataframe tbody tr th:only-of-type {\n",
       "        vertical-align: middle;\n",
       "    }\n",
       "\n",
       "    .dataframe tbody tr th {\n",
       "        vertical-align: top;\n",
       "    }\n",
       "\n",
       "    .dataframe thead th {\n",
       "        text-align: right;\n",
       "    }\n",
       "</style>\n",
       "<table border=\"1\" class=\"dataframe\">\n",
       "  <thead>\n",
       "    <tr style=\"text-align: right;\">\n",
       "      <th></th>\n",
       "      <th>CRIM</th>\n",
       "      <th>ZN</th>\n",
       "      <th>INDUS</th>\n",
       "      <th>CHAS</th>\n",
       "      <th>NOX</th>\n",
       "      <th>RM</th>\n",
       "      <th>AGE</th>\n",
       "      <th>DIS</th>\n",
       "      <th>RAD</th>\n",
       "      <th>TAX</th>\n",
       "      <th>PTRATIO</th>\n",
       "      <th>B</th>\n",
       "      <th>LSTAT</th>\n",
       "      <th>PRICE</th>\n",
       "    </tr>\n",
       "  </thead>\n",
       "  <tbody>\n",
       "    <tr>\n",
       "      <th>0</th>\n",
       "      <td>0.00632</td>\n",
       "      <td>18.0</td>\n",
       "      <td>2.31</td>\n",
       "      <td>0.0</td>\n",
       "      <td>0.538</td>\n",
       "      <td>6.575</td>\n",
       "      <td>65.2</td>\n",
       "      <td>4.0900</td>\n",
       "      <td>1.0</td>\n",
       "      <td>296.0</td>\n",
       "      <td>15.3</td>\n",
       "      <td>396.90</td>\n",
       "      <td>4.98</td>\n",
       "      <td>24.0</td>\n",
       "    </tr>\n",
       "    <tr>\n",
       "      <th>1</th>\n",
       "      <td>0.02731</td>\n",
       "      <td>0.0</td>\n",
       "      <td>7.07</td>\n",
       "      <td>0.0</td>\n",
       "      <td>0.469</td>\n",
       "      <td>6.421</td>\n",
       "      <td>78.9</td>\n",
       "      <td>4.9671</td>\n",
       "      <td>2.0</td>\n",
       "      <td>242.0</td>\n",
       "      <td>17.8</td>\n",
       "      <td>396.90</td>\n",
       "      <td>9.14</td>\n",
       "      <td>21.6</td>\n",
       "    </tr>\n",
       "    <tr>\n",
       "      <th>2</th>\n",
       "      <td>0.02729</td>\n",
       "      <td>0.0</td>\n",
       "      <td>7.07</td>\n",
       "      <td>0.0</td>\n",
       "      <td>0.469</td>\n",
       "      <td>7.185</td>\n",
       "      <td>61.1</td>\n",
       "      <td>4.9671</td>\n",
       "      <td>2.0</td>\n",
       "      <td>242.0</td>\n",
       "      <td>17.8</td>\n",
       "      <td>392.83</td>\n",
       "      <td>4.03</td>\n",
       "      <td>34.7</td>\n",
       "    </tr>\n",
       "  </tbody>\n",
       "</table>\n",
       "</div>"
      ],
      "text/plain": [
       "      CRIM    ZN  INDUS  CHAS    NOX     RM   AGE     DIS  RAD    TAX  \\\n",
       "0  0.00632  18.0   2.31   0.0  0.538  6.575  65.2  4.0900  1.0  296.0   \n",
       "1  0.02731   0.0   7.07   0.0  0.469  6.421  78.9  4.9671  2.0  242.0   \n",
       "2  0.02729   0.0   7.07   0.0  0.469  7.185  61.1  4.9671  2.0  242.0   \n",
       "\n",
       "   PTRATIO       B  LSTAT  PRICE  \n",
       "0     15.3  396.90   4.98   24.0  \n",
       "1     17.8  396.90   9.14   21.6  \n",
       "2     17.8  392.83   4.03   34.7  "
      ]
     },
     "execution_count": 9,
     "metadata": {},
     "output_type": "execute_result"
    }
   ],
   "source": [
    "# Add column \"Price\"\n",
    "boston[\"PRICE\"] = data_boston.target\n",
    "\n",
    "# Display first 3 rows\n",
    "boston[:3]"
   ]
  },
  {
   "cell_type": "markdown",
   "metadata": {},
   "source": [
    "We must use the features and target for fitting our model. \n",
    "\n",
    "Let's put `X` equals to all the other features (or independent variables) and `Y` equals to boston housing price(target)."
   ]
  },
  {
   "cell_type": "code",
   "execution_count": 10,
   "metadata": {},
   "outputs": [],
   "source": [
    "# Define target\n",
    "Y = boston.PRICE\n",
    "\n",
    "# Drop prices from the Data Frame and define features X\n",
    "X = boston.drop(\"PRICE\", axis = 1)"
   ]
  },
  {
   "cell_type": "markdown",
   "metadata": {},
   "source": [
    "Let's look at the price of houses in 1000 $."
   ]
  },
  {
   "cell_type": "code",
   "execution_count": 11,
   "metadata": {},
   "outputs": [
    {
     "data": {
      "image/png": "[encoded data removed]",
      "text/plain": [
       "<Figure size 432x288 with 1 Axes>"
      ]
     },
     "metadata": {
      "needs_background": "light"
     },
     "output_type": "display_data"
    }
   ],
   "source": [
    "%matplotlib inline\n",
    "import matplotlib.pyplot as plt\n",
    "\n",
    "plt.hist(Y, color = 'g')\n",
    "plt.xlabel(\"Median value of owner-occupied homes $1000's\")\n",
    "plt.show()"
   ]
  },
  {
   "cell_type": "markdown",
   "metadata": {},
   "source": [
    "## <span style=\"color: blue\">Linear regression</span>\n",
    "\n",
    "The predicting the Boston housing prices is a Regression problem. So, we have chosen the [LinearRegression](http://scikit-learn.org/stable/modules/generated/sklearn.linear_model.LinearRegression.html) provided by scikit-learn.\n",
    "\n",
    "Linear regression is the oldest and most widely used predictive model in the field of ML. The goal is to  minimize the sum of the squared errors to fit a straight line to a set of data points - sum of green distances between blue (train) points and red straight line (line of linear regression) on the picture below (note, we have shown only a few such distances): \n",
    "\n",
    "<img src=\"images/linear_regression.png\" width=\"50%\">\n",
    "\n",
    "You can find further information at [Wikipedia](https://en.wikipedia.org/wiki/Linear_regression).\n",
    "\n",
    "The linear regression model fits a linear function to a set of data points. The form of the function is:\n",
    "\n",
    "$$Y = \\beta_0 + \\beta_1X_1 + \\beta_2X_2 + … + \\beta_nX_n$$\n",
    "or \n",
    "$$Y = \\beta_0 + \\sum_{i=1}^{n}\\beta_i X_i,$$\n",
    "\n",
    "where $Y$ is the target variable and $X_1, X_2, ..., X_n$ are the predictor variables and $\\beta_1, \\beta_2, ..., \\beta_n$ are the regression coefficients (also known as weights), $\\beta_0$ is constant. \n",
    "\n",
    "The regression calculation can be displayed in a matrix form:  \n",
    "\n",
    "$$\n",
    "\\begin{equation}\n",
    "X = \n",
    "        \\begin{pmatrix}\n",
    "        x_{10} = 1 & x_{11} & \\dots & x_{1k}  \\\\\n",
    "        \\vdots & \\vdots & \\ddots & \\vdots \\\\\n",
    "        x_{n0} = 1 & x_{n1} & \\dots & x_{nk}  \\\\\n",
    "        \\end{pmatrix} \\qquad\n",
    "y = \n",
    "        \\begin{pmatrix}\n",
    "        y_{1}  \\\\\n",
    "        \\vdots \\\\\n",
    "        y_{n}  \\\\\n",
    "        \\end{pmatrix} \\qquad\n",
    "\\beta = \n",
    "        \\begin{pmatrix}\n",
    "        \\beta_{0}  \\\\\n",
    "        \\beta_{1}  \\\\\n",
    "        \\vdots \\\\\n",
    "        \\beta_{k}  \\\\\n",
    "        \\end{pmatrix}\n",
    "\\end{equation}\n",
    "$$\n",
    "\n",
    "Size of $X$ matrix is `n × (k + 1).`\n",
    "\n",
    "Weights are the solution of the equation system:\n",
    "\n",
    "$$\\sum_{k=1}^{N}\\left(Y_k - \\beta_0 + \\beta_1X_{1k} + \\beta_2X_{2k} + … + \\beta_nX_{nk}\\right)^2 \\rightarrow \\min$$\n",
    "or\n",
    "$$\\frac{\\partial}{\\partial X_i}\\sum_{k=1}^{N}\\left(\\bar Y_k - \\beta_0 + \\sum_{i=1}^{n}\\beta_i \\bar X_{ik}\\right)^2 = 0,$$\n",
    "or in the vector form\n",
    "$$\n",
    "||y - X \\beta|| ^2_2 \\longrightarrow \\min_{\\beta} \n",
    "$$\n",
    "\n",
    "where $\\bar{Y}_k$ and $\\bar{X}_{ik}$ are real (train) values of target variable and predictors respectivelly and $||...||_2$ denotes the well-known l2-norm.\n",
    "\n",
    "To solve this problem we need to calculate $\\hat\\beta$. $\\hat\\beta$ is expressed analytically from the previous equation and this is the exact solution:  \n",
    "\n",
    "$$\n",
    "\\hat\\beta = {(X^TX)}^{-1}X^Ty\n",
    "$$ \n",
    "\n",
    "Also, $\\hat y$ can be calculated, that is, you can calculate the prediction of the model on the objects on which it is trained:  \n",
    "$$\n",
    "\\hat{y} = X{(X^TX)}^{-1}X^Ty\n",
    "$$\n",
    "\n",
    "But for this calculation, you need to transpose matrix of size `n × (k + 1).` This calculation has the complexity $О(n^3)$. For big data sets, it takes too much time.   \n",
    "\n",
    "So for big data set it is better to use scikit-Learn module [SGDRegressor](http://scikit-learn.org/stable/modules/generated/sklearn.linear_model.SGDRegressor.html#sklearn.linear_model.SGDRegressor).  \n",
    "\n",
    "SGDRegressor makes not an exact calculation but it is well suited for regression problems with a large number of training samples. This module performs faster calculations, but the accuracy decreases.\n",
    "\n",
    "First, we will import linear regression from scikit-Learn module and than store this object in a variable `lr`."
   ]
  },
  {
   "cell_type": "code",
   "execution_count": 12,
   "metadata": {},
   "outputs": [
    {
     "data": {
      "text/plain": [
       "LinearRegression(copy_X=True, fit_intercept=True, n_jobs=None,\n",
       "         normalize=False)"
      ]
     },
     "execution_count": 12,
     "metadata": {},
     "output_type": "execute_result"
    }
   ],
   "source": [
    "from sklearn.linear_model import LinearRegression\n",
    "\n",
    "# Create Linear Regression model\n",
    "lr = LinearRegression()\n",
    "lr"
   ]
  },
  {
   "cell_type": "markdown",
   "metadata": {},
   "source": [
    "LinearRegression contains many parameters, such as:\n",
    "\n",
    "* `fit(X, y)` - fit linear model   \n",
    "* `get_params()` - get parameters for this estimator    \n",
    "* `predict(X)` - predict using the linear model    \n",
    "* `score(X, y)` - returns the coefficient of determination $R^2$ of the prediction\n",
    "(note, these parameters are common for the most of algorithms in scikit-learn)\n",
    "    \n",
    "This are a parameters and attributes of Ordinary least squares Linear Regression\n",
    "\n",
    "+ `fit_intercept` : boolean, optional, default True\n",
    "    \n",
    "whether to calculate the intercept for this model. If set to False, no intercept will be used in calculations (e.g. data is expected to be already centered).\n",
    "\n",
    "+ `normalize` : boolean, optional, default False\n",
    "\n",
    "This parameter is ignored when `fit_intercept` is set to False. If True, the regressors X will be normalized before regression by subtracting the mean and dividing by the l2-norm. If you wish to standardize, please use `sklearn.preprocessing.StandardScaler` before calling `fit` on an estimator with `normalize=False`.\n",
    "\n",
    "+ `copy_X` : boolean, optional, default True\n",
    "\n",
    "If True, X will be copied; else, it may be overwritten.\n",
    "\n",
    "+ `n_jobs` : int, optional, default 1\n",
    "\n",
    "The number of jobs to use for the computation. If -1 all CPUs are used. This will only provide speedup for n_targets > 1 and sufficient large problems.\n",
    "\t\n",
    "+ `coef_` : array, shape (n_features, ) or (n_targets, n_features)\n",
    "\n",
    "Estimated coefficients for the linear regression problem. If multiple targets are passed during the fit (y 2D), this is a 2D array of shape (n_targets, n_features), while if only one target is passed, this is a 1D array of length n_features.\n",
    "\n",
    "+ `intercept_` : array\n",
    "\n",
    "Independent term in the linear model."
   ]
  },
  {
   "cell_type": "markdown",
   "metadata": {},
   "source": [
    "### 1. Fitting a linear model"
   ]
  },
  {
   "cell_type": "code",
   "execution_count": 13,
   "metadata": {},
   "outputs": [
    {
     "data": {
      "text/plain": [
       "LinearRegression(copy_X=True, fit_intercept=True, n_jobs=None,\n",
       "         normalize=False)"
      ]
     },
     "execution_count": 13,
     "metadata": {},
     "output_type": "execute_result"
    }
   ],
   "source": [
    "# Fit Linear Regression\n",
    "lr.fit(X, Y)"
   ]
  },
  {
   "cell_type": "code",
   "execution_count": 14,
   "metadata": {},
   "outputs": [
    {
     "name": "stdout",
     "output_type": "stream",
     "text": [
      "Intercept coefficient: 36.45948838508978\n",
      "Number of coefficients: 13\n"
     ]
    }
   ],
   "source": [
    "# Show intercept and number of coefficients\n",
    "\n",
    "print (\"Intercept coefficient:\",  lr.intercept_)\n",
    "print (\"Number of coefficients:\",  len(lr.coef_))"
   ]
  },
  {
   "cell_type": "markdown",
   "metadata": {},
   "source": [
    "So, it means, that for each feature we have found one coefficient. Let's see"
   ]
  },
  {
   "cell_type": "code",
   "execution_count": 16,
   "metadata": {
    "scrolled": true
   },
   "outputs": [
    {
     "data": {
      "text/html": [
       "<div>\n",
       "<style scoped>\n",
       "    .dataframe tbody tr th:only-of-type {\n",
       "        vertical-align: middle;\n",
       "    }\n",
       "\n",
       "    .dataframe tbody tr th {\n",
       "        vertical-align: top;\n",
       "    }\n",
       "\n",
       "    .dataframe thead th {\n",
       "        text-align: right;\n",
       "    }\n",
       "</style>\n",
       "<table border=\"1\" class=\"dataframe\">\n",
       "  <thead>\n",
       "    <tr style=\"text-align: right;\">\n",
       "      <th></th>\n",
       "      <th>features</th>\n",
       "      <th>coefficients</th>\n",
       "    </tr>\n",
       "  </thead>\n",
       "  <tbody>\n",
       "    <tr>\n",
       "      <th>5</th>\n",
       "      <td>RM</td>\n",
       "      <td>3.809865</td>\n",
       "    </tr>\n",
       "    <tr>\n",
       "      <th>3</th>\n",
       "      <td>CHAS</td>\n",
       "      <td>2.686734</td>\n",
       "    </tr>\n",
       "    <tr>\n",
       "      <th>8</th>\n",
       "      <td>RAD</td>\n",
       "      <td>0.306049</td>\n",
       "    </tr>\n",
       "    <tr>\n",
       "      <th>1</th>\n",
       "      <td>ZN</td>\n",
       "      <td>0.046420</td>\n",
       "    </tr>\n",
       "    <tr>\n",
       "      <th>2</th>\n",
       "      <td>INDUS</td>\n",
       "      <td>0.020559</td>\n",
       "    </tr>\n",
       "    <tr>\n",
       "      <th>11</th>\n",
       "      <td>B</td>\n",
       "      <td>0.009312</td>\n",
       "    </tr>\n",
       "    <tr>\n",
       "      <th>6</th>\n",
       "      <td>AGE</td>\n",
       "      <td>0.000692</td>\n",
       "    </tr>\n",
       "    <tr>\n",
       "      <th>9</th>\n",
       "      <td>TAX</td>\n",
       "      <td>-0.012335</td>\n",
       "    </tr>\n",
       "    <tr>\n",
       "      <th>0</th>\n",
       "      <td>CRIM</td>\n",
       "      <td>-0.108011</td>\n",
       "    </tr>\n",
       "    <tr>\n",
       "      <th>12</th>\n",
       "      <td>LSTAT</td>\n",
       "      <td>-0.524758</td>\n",
       "    </tr>\n",
       "    <tr>\n",
       "      <th>10</th>\n",
       "      <td>PTRATIO</td>\n",
       "      <td>-0.952747</td>\n",
       "    </tr>\n",
       "    <tr>\n",
       "      <th>7</th>\n",
       "      <td>DIS</td>\n",
       "      <td>-1.475567</td>\n",
       "    </tr>\n",
       "    <tr>\n",
       "      <th>4</th>\n",
       "      <td>NOX</td>\n",
       "      <td>-17.766611</td>\n",
       "    </tr>\n",
       "  </tbody>\n",
       "</table>\n",
       "</div>"
      ],
      "text/plain": [
       "   features  coefficients\n",
       "5        RM      3.809865\n",
       "3      CHAS      2.686734\n",
       "8       RAD      0.306049\n",
       "1        ZN      0.046420\n",
       "2     INDUS      0.020559\n",
       "11        B      0.009312\n",
       "6       AGE      0.000692\n",
       "9       TAX     -0.012335\n",
       "0      CRIM     -0.108011\n",
       "12    LSTAT     -0.524758\n",
       "10  PTRATIO     -0.952747\n",
       "7       DIS     -1.475567\n",
       "4       NOX    -17.766611"
      ]
     },
     "execution_count": 16,
     "metadata": {},
     "output_type": "execute_result"
    }
   ],
   "source": [
    "pd.DataFrame(list(zip(X.columns, lr.coef_)), columns = [\"features\", \"coefficients\"]).sort_values('coefficients', ascending=False)"
   ]
  },
  {
   "cell_type": "markdown",
   "metadata": {},
   "source": [
    "There is a high correlation between prices & RM (that means average numbers of rooms per dwelling), prices and NOX (nitric oxides concentration)."
   ]
  },
  {
   "cell_type": "markdown",
   "metadata": {},
   "source": [
    "Lets calculate correlation without machine learning modules. To simplify calculation lets do regression for one variable. It is called **Simple linear regression**.\n",
    "\n",
    "The least squares method minimizes the sum of the squares of the regression residuals:  \n",
    "\n",
    "$$\n",
    "(b_0, b_1) = \\arg \\min_{\\beta_0, \\beta_1} F(\\beta_0, \\beta_1) = \\arg \\min_{\\beta_0, \\beta_1} \\sum_i{(y_i - \\beta_0 - \\beta_1 x_i)^2}\n",
    "$$\n",
    "\n",
    "Differentiating $F (\\beta_0, \\beta_1)$ and leveling the partial derivatives to zero, it is easy to obtain point estimates of the model parameters:  \n",
    "\n",
    "$$\n",
    "b_1 = \\frac { \\sum(X_i - \\bar X) (Y_i - \\bar Y)} {\\sum(X_i - \\bar X)^2}\n",
    "$$\n",
    "\n",
    "$$\n",
    "b_0 = \\bar Y - b_1 \\bar X\n",
    "$$"
   ]
  },
  {
   "cell_type": "code",
   "execution_count": 17,
   "metadata": {},
   "outputs": [
    {
     "name": "stdout",
     "output_type": "stream",
     "text": [
      "b1:  -33.91605500866111\n",
      "b0:  41.34587446797325\n"
     ]
    }
   ],
   "source": [
    "# calculate regression between housing prices & nitric oxides concentration(NOX)\n",
    "import numpy as np\n",
    "\n",
    "X_mean = np.mean(X.NOX)\n",
    "Y_mean = np.mean(Y)\n",
    "b1 = np.sum((X.NOX - X_mean) * (Y - Y_mean)) / np.sum((X.NOX - X_mean) ** 2)\n",
    "b0 = Y_mean - b1 * X_mean\n",
    "print('b1: ', b1)\n",
    "print('b0: ', b0)"
   ]
  },
  {
   "cell_type": "markdown",
   "metadata": {},
   "source": [
    "And repeat above code for the case of of 1D regression"
   ]
  },
  {
   "cell_type": "code",
   "execution_count": 19,
   "metadata": {},
   "outputs": [
    {
     "name": "stdout",
     "output_type": "stream",
     "text": [
      "b0: 41.345874467973246\n",
      "b1: -33.916055008661104\n"
     ]
    }
   ],
   "source": [
    "lr1d = LinearRegression()\n",
    "lr1d.fit(X.NOX.values.reshape(-1, 1), Y)\n",
    "\n",
    "print (\"b0:\",  lr1d.intercept_)\n",
    "print (\"b1:\",  lr1d.coef_[0])"
   ]
  },
  {
   "cell_type": "markdown",
   "metadata": {},
   "source": [
    "As you can see both cases gave the same linear regression coefficients values.\n",
    "\n",
    "But $b_1$ parameter in this calculation is much higher than in Linear Regression. That is because we try to explaine price only by one parameter and don't use another.  \n",
    "\n",
    "When we add more parameters, then the model shows more degrees of freedom to manipulate the data. And each parameters has lower weight. "
   ]
  },
  {
   "cell_type": "markdown",
   "metadata": {},
   "source": [
    "Lets plot a scatter plot between housing prices and RM and NOX."
   ]
  },
  {
   "cell_type": "code",
   "execution_count": 20,
   "metadata": {
    "scrolled": false
   },
   "outputs": [
    {
     "data": {
      "image/png": "[encoded data removed]",
      "text/plain": [
       "<Figure size 1152x432 with 2 Axes>"
      ]
     },
     "metadata": {
      "needs_background": "light"
     },
     "output_type": "display_data"
    }
   ],
   "source": [
    "# Import matplotlib library\n",
    "%matplotlib inline\n",
    "import matplotlib.pyplot as plt\n",
    "\n",
    "# Set plot's width and height\n",
    "plt.rcParams['figure.figsize'] = (16.0, 6.0)\n",
    "\n",
    "# Plot for RM distribution\n",
    "plt.subplot(1,2,1)\n",
    "# Name the axis\n",
    "plt.xlabel(\"Average numbers of rooms per dwelling\")\n",
    "plt.ylabel(\"Prices of Houses\")\n",
    "# Define title\n",
    "plt.title(\"Relationship between RM and Price\")\n",
    "# Plot\n",
    "plt.scatter(boston.RM, boston.PRICE, color = 'r', alpha = 0.3)\n",
    "\n",
    "# Plot for NOX distribution\n",
    "plt.subplot(1,2,2)\n",
    "plt.xlabel(\"Nitric oxides concentration\")\n",
    "plt.ylabel(\"Prices of Houses\")\n",
    "plt.title(\"Relationship between NOX and Price\")\n",
    "plt.scatter(boston.NOX, boston.PRICE, color='b', alpha = 0.3)\n",
    "\n",
    "plt.show()"
   ]
  },
  {
   "cell_type": "markdown",
   "metadata": {},
   "source": [
    "There is a positive correlation between RM and housing prices and negative - between NOX and prices."
   ]
  },
  {
   "cell_type": "markdown",
   "metadata": {},
   "source": [
    "### 2. Predicting prices\n",
    "\n",
    "To predict prices we will use `lr.predict()` function."
   ]
  },
  {
   "cell_type": "code",
   "execution_count": 21,
   "metadata": {},
   "outputs": [
    {
     "name": "stdout",
     "output_type": "stream",
     "text": [
      "[30.00384338 25.02556238 30.56759672 28.60703649 27.94352423 25.25628446\n",
      " 23.00180827 19.53598843 11.52363685 18.92026211 18.99949651 21.58679568\n",
      " 20.90652153 19.55290281 19.28348205]\n"
     ]
    }
   ],
   "source": [
    "# Predict the prices\n",
    "Y_p = lr.predict(X)\n",
    "\n",
    "# Print the prices of the first 15 houses\n",
    "print (Y_p[:15])"
   ]
  },
  {
   "cell_type": "markdown",
   "metadata": {},
   "source": [
    "Let's now plot a difference between the true prices and the predicted prices."
   ]
  },
  {
   "cell_type": "code",
   "execution_count": 22,
   "metadata": {},
   "outputs": [
    {
     "data": {
      "image/png": "[encoded data removed]",
      "text/plain": [
       "<Figure size 1152x432 with 1 Axes>"
      ]
     },
     "metadata": {
      "needs_background": "light"
     },
     "output_type": "display_data"
    }
   ],
   "source": [
    "plt.xlabel(\"True prices\")\n",
    "plt.ylabel(\"Predicted prices\")\n",
    "\n",
    "plt.title(\"Relationship between true prices and predicted prices\")\n",
    "\n",
    "plt.scatter(Y, Y_p, color='g', label='predicted data', alpha=0.5)\n",
    "plt.scatter(Y, Y, color='y', label='true data', alpha=0.5)\n",
    "plt.legend()\n",
    "plt.show()"
   ]
  },
  {
   "cell_type": "markdown",
   "metadata": {},
   "source": [
    "There are some errors. Let's calculate the Mean Squared Error."
   ]
  },
  {
   "cell_type": "code",
   "execution_count": 23,
   "metadata": {},
   "outputs": [
    {
     "data": {
      "text/plain": [
       "21.894831181729202"
      ]
     },
     "execution_count": 23,
     "metadata": {},
     "output_type": "execute_result"
    }
   ],
   "source": [
    "# Calculate MSE\n",
    "mse = np.mean((Y - Y_p)**2)\n",
    "mse"
   ]
  },
  {
   "cell_type": "markdown",
   "metadata": {},
   "source": [
    "### 3. Training and test data sets\n",
    "\n",
    "This code will tell us how well the model does on explaining the data we used to fit the model.\n",
    "\n",
    "In Machine learning we focus on model performance on unseen data. In order to estimate the performance of the system on unseen data, we can split the data into two sets: the training set and the test set.\n",
    "\n",
    "The following code will fit a model just using the training data and print out the coefficient of determination for both the training and testing data"
   ]
  },
  {
   "cell_type": "code",
   "execution_count": 25,
   "metadata": {},
   "outputs": [
    {
     "name": "stdout",
     "output_type": "stream",
     "text": [
      "X.shape (506, 13)\n",
      "Y.shape (506,)\n",
      "X_train.shape (379, 13)\n",
      "X_test.shape (127, 13)\n",
      "y_train.shape (379,)\n",
      "y_test.shape (127,)\n"
     ]
    }
   ],
   "source": [
    "# Import function for splitting arrays or matrices into random subsets for train and test\n",
    "from sklearn.model_selection import train_test_split\n",
    "\n",
    "# Split data\n",
    "X_train, X_test, y_train, y_test = train_test_split(X, Y)\n",
    "\n",
    "# Show the size of each set \n",
    "print (\"X.shape\", X.shape)\n",
    "print (\"Y.shape\", Y.shape)\n",
    "print (\"X_train.shape\", X_train.shape)\n",
    "print (\"X_test.shape\", X_test.shape)\n",
    "print (\"y_train.shape\", y_train.shape)\n",
    "print (\"y_test.shape\", y_test.shape)"
   ]
  },
  {
   "cell_type": "markdown",
   "metadata": {},
   "source": [
    "Build a linear regression model using train and test data sets."
   ]
  },
  {
   "cell_type": "code",
   "execution_count": 26,
   "metadata": {},
   "outputs": [],
   "source": [
    "# Fit the model\n",
    "lr_new = LinearRegression()\n",
    "lr_new.fit(X_train, y_train)\n",
    "\n",
    "# Get train prediction\n",
    "pred_train = lr_new.predict(X_train)\n",
    "\n",
    "# Get test prediction\n",
    "pred_test = lr_new.predict(X_test)"
   ]
  },
  {
   "cell_type": "markdown",
   "metadata": {},
   "source": [
    "As in previous paragraph let's calculate MSE for train and test prediction"
   ]
  },
  {
   "cell_type": "code",
   "execution_count": 27,
   "metadata": {},
   "outputs": [
    {
     "name": "stdout",
     "output_type": "stream",
     "text": [
      "Train MSE: 20.53028101457743\n",
      "Test MSE: 27.390166997234203\n"
     ]
    }
   ],
   "source": [
    "print (\"Train MSE:\", np.mean((y_train - pred_train)**2))\n",
    "print (\"Test MSE:\", np.mean((y_test - pred_test)**2))"
   ]
  },
  {
   "cell_type": "markdown",
   "metadata": {},
   "source": [
    "Let's show the residual plot using training (blue) and test (red) data."
   ]
  },
  {
   "cell_type": "code",
   "execution_count": 28,
   "metadata": {},
   "outputs": [
    {
     "data": {
      "image/png": "[encoded data removed]",
      "text/plain": [
       "<Figure size 1152x432 with 1 Axes>"
      ]
     },
     "metadata": {
      "needs_background": "light"
     },
     "output_type": "display_data"
    }
   ],
   "source": [
    "plt.xlabel(\"Predicted train and test prices\")\n",
    "plt.ylabel(\"Deviation of predicted prices from the real ones\")\n",
    "\n",
    "plt.scatter(pred_train, pred_train-y_train, color = 'k', label=\"training data\", alpha=0.5)\n",
    "plt.scatter(pred_test, pred_test - y_test, color = 'c', label=\"test data\", alpha=0.5)\n",
    "\n",
    "plt.legend()\n",
    "plt.show()"
   ]
  },
  {
   "cell_type": "markdown",
   "metadata": {},
   "source": [
    "<center><h3>Presented by <a target=\"_blank\" rel=\"noopener noreferrer nofollow\" href=\"http://datascience-school.com\">datascience-school.com</a></h3></center>"
   ]
  }
 ],
 "metadata": {
  "kernelspec": {
   "display_name": "Python 3",
   "language": "python",
   "name": "python3"
  },
  "language_info": {
   "codemirror_mode": {
    "name": "ipython",
    "version": 3
   },
   "file_extension": ".py",
   "mimetype": "text/x-python",
   "name": "python",
   "nbconvert_exporter": "python",
   "pygments_lexer": "ipython3",
   "version": "3.6.7"
  }
 },
 "nbformat": 4,
 "nbformat_minor": 1
}
