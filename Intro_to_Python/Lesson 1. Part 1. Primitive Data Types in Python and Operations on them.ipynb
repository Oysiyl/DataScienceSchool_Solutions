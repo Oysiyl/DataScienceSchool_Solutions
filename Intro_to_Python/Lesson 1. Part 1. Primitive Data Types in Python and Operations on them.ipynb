{
 "cells": [
  {
   "cell_type": "markdown",
   "metadata": {},
   "source": [
    "---\n",
    "<center><h1> Lesson 1 - Crash course into Python</h1></center>\n",
    "---\n",
    "---\n",
    "\n",
    "<center><h1>Part 1. Primitive Data Types in Python and Operations on them</h1></center>\n",
    "\n",
    "---"
   ]
  },
  {
   "cell_type": "markdown",
   "metadata": {
    "collapsed": true
   },
   "source": [
    "<img src=\"images/python-logo-master.png\" width=\"500px\">"
   ]
  },
  {
   "cell_type": "markdown",
   "metadata": {},
   "source": [
    "## Why Python? \n",
    "\n",
    "Python is the programming language of choice for many scientists to a large degree because it offers a great deal of power to analyze and model scientific data with relatively little overhead in terms of learning, installation or development time. It is a language you can pick up in a weekend, and use for the rest of one's life. Python is a very accessible language and is even taught to school children. Python supports multiple programming paradigms, including object-oriented, imperative and functional programming or procedural styles. It features a dynamic type system and automatic memory management and has a large and comprehensive standard library.\n",
    "\n",
    "The [official Python Tutorial](http://docs.python.org/2/tutorial/) is a great place to start getting a feel for the language. But if you don't know Python, you may read this section to learn the fundamentals. If you have ever programmed, it will only take you a few minutes to learn the basics.\n",
    "\n",
    "Many large organizations as *Google*, *Yahoo!*, *CERN*, *NASA*, *Dropbox Inc.* etc. use of Python.\n",
    "\n",
    "Python can serve as a scripting language for web applications, software products development, scientific computing, machine learning and data science etc. Below are presented a word cloud with only small part of Python tools, frameworks and libraries and also branches where Python is actively used. And _Data Science_ is one of the main."
   ]
  },
  {
   "cell_type": "markdown",
   "metadata": {},
   "source": [
    "<img src=\"images/python-programming.png\" width=\"700px\">"
   ]
  },
  {
   "cell_type": "markdown",
   "metadata": {},
   "source": [
    "<link rel=\"stylesheet\" href=\"//maxcdn.bootstrapcdn.com/font-awesome/4.3.0/css/font-awesome.min.css\">\n",
    "\n",
    ">Note, all examples, that will be provided in the current lesson and in the all following ones, will touch version 2.7.X of Python. The key differences between Python 2 and Python 3 are collected in the **\"Python2 vs Python3.pdf\"** from the supplemented materials.\n",
    "\n",
    "The lessons that follow make use of the IPython notebooks. There's a good introduction to notebooks [in the IPython notebook documentation](http://ipython.org/notebook.html) that even has a [nice video](http://www.youtube.com/watch?v=H6dLGQw9yFQ#!) on how to use the notebooks. You should probably also flip through the [IPython tutorial](http://ipython.org/ipython-doc/dev/interactive/tutorial.html) in your copious free time.\n",
    "\n",
    "Briefly, notebooks have code cells (that are generally followed by result cells) and text cells. The text cells are the stuff that you're reading now. The code cells start with \"`In []:`\" with some number generally in the brackets. If you put your cursor in the code cell and hit Shift-Enter (or use menu \"Cell\" ⇒ \"Run\", or press button <span style=\"border: 1px solid #ddd\"><i class=\"fa fa-step-forward\" style=\"margin: 5px\"></i></span> on the Instrument Bar), the code will run in the Python interpreter and the result will print out in the output cell. You can then change things around and see whether you understand what's going on. \n",
    "\n",
    "\n",
    ">Many examples are get without result displaying. To see result you should type Shift+Enter on the chosen code cell.\n",
    "\n",
    "If you need to know more, see supplemented materials **\"Installing Python with Anaconda.ipynb\"** and **\"Introduction to the IPython Notebook.ipynb\"** to this lesson and also the [IPython notebook documentation](http://ipython.org/notebook.html) or the [IPython tutorial](http://ipython.org/ipython-doc/dev/interactive/tutorial.html)."
   ]
  },
  {
   "cell_type": "markdown",
   "metadata": {},
   "source": [
    "# Table of Contents\n",
    "- [Using Python as a Calculator](#Using-Python-as-a-Calculator)\n",
    "- [The first Python program](#The-first-Python-program)\n",
    "- [Comments](#Сomments)\n",
    "- [Variables](#Сariables)\n",
    "    - [*Exercise 1.1*](#Exercise-1.1)\n",
    "- [Primitive Data Types](#Primitive-Data-Types)\n",
    "    * [String](#String)\n",
    "        - [*Exercise 1.2*](#Exercise-1.2)\n",
    "    * [Integer](#Integer)\n",
    "    * [Floating Point Numbers](#Floating-Point-Numbers)\n",
    "    * [Booleans](#Booleans)\n",
    "- [Operations on Primitive Data Types](#Operations-on-Primitive-Data-Types)\n",
    "    * [Operations on Strings](#Operations-on-Strings)\n",
    "    * [Operations on Numeric Types](#Operations-on-Numeric-Types)\n",
    "    * [Booleans Operations](#Boolean-Operations)\n",
    "    * [String Formating](#String-Formating)"
   ]
  },
  {
   "cell_type": "markdown",
   "metadata": {},
   "source": [
    "---\n",
    "## Using Python as a Calculator"
   ]
  },
  {
   "cell_type": "markdown",
   "metadata": {},
   "source": [
    "[[back to top]](#Table-of-Contents)"
   ]
  },
  {
   "cell_type": "markdown",
   "metadata": {},
   "source": [
    "Many of the things, which a calculator is required for, can be made with the help of Python:"
   ]
  },
  {
   "cell_type": "code",
   "execution_count": 1,
   "metadata": {
    "scrolled": false
   },
   "outputs": [
    {
     "data": {
      "text/plain": [
       "4"
      ]
     },
     "execution_count": 1,
     "metadata": {},
     "output_type": "execute_result"
    }
   ],
   "source": [
    "2 + 2"
   ]
  },
  {
   "cell_type": "markdown",
   "metadata": {},
   "source": [
    "Here, `2 + 2` is an _expression statement_. This operation is performed, the result is returned, and IPython displays it in the notebook cell's output.\n",
    "\n",
    "It is convenient to divide the numbers by spaces."
   ]
  },
  {
   "cell_type": "code",
   "execution_count": 2,
   "metadata": {
    "scrolled": false
   },
   "outputs": [
    {
     "data": {
      "text/plain": [
       "5.0"
      ]
     },
     "execution_count": 2,
     "metadata": {},
     "output_type": "execute_result"
    }
   ],
   "source": [
    "(50 - 5*6) / 4"
   ]
  },
  {
   "cell_type": "markdown",
   "metadata": {},
   "source": [
    "Python integer division, like C or Fortran integer division, truncates the remainder and returns an integer. At least it does in version 2. In version 3, Python returns a floating point number. You can get a sneak preview of this feature in Python 2 by importing the module from the future features:\n",
    "\n",
    "    from __future__ import division\n",
    "    \n",
    "Alternatively, you can convert one of the integers to a floating point number, in which case the division function returns another floating point number."
   ]
  },
  {
   "cell_type": "code",
   "execution_count": 3,
   "metadata": {
    "scrolled": false
   },
   "outputs": [
    {
     "data": {
      "text/plain": [
       "1.4285714285714286"
      ]
     },
     "execution_count": 3,
     "metadata": {},
     "output_type": "execute_result"
    }
   ],
   "source": [
    "10/7"
   ]
  },
  {
   "cell_type": "code",
   "execution_count": 4,
   "metadata": {
    "scrolled": false
   },
   "outputs": [
    {
     "data": {
      "text/plain": [
       "1.4285714285714286"
      ]
     },
     "execution_count": 4,
     "metadata": {},
     "output_type": "execute_result"
    }
   ],
   "source": [
    "10/7."
   ]
  },
  {
   "cell_type": "code",
   "execution_count": 5,
   "metadata": {
    "scrolled": false
   },
   "outputs": [
    {
     "data": {
      "text/plain": [
       "1.4285714285714286"
      ]
     },
     "execution_count": 5,
     "metadata": {},
     "output_type": "execute_result"
    }
   ],
   "source": [
    "10/float(7)"
   ]
  },
  {
   "cell_type": "markdown",
   "metadata": {},
   "source": [
    "With Python types like `float` we will meet further.\n",
    "\n",
    "The operation exponentiation is carried out in Python using the sign `**` such a way"
   ]
  },
  {
   "cell_type": "code",
   "execution_count": 6,
   "metadata": {
    "scrolled": false
   },
   "outputs": [
    {
     "data": {
      "text/plain": [
       "-1024"
      ]
     },
     "execution_count": 6,
     "metadata": {},
     "output_type": "execute_result"
    }
   ],
   "source": [
    "-2 ** 10"
   ]
  },
  {
   "cell_type": "markdown",
   "metadata": {},
   "source": [
    "The sign `%` allows getting the remainder of division. Function `abs` returns absolute value of a number."
   ]
  },
  {
   "cell_type": "code",
   "execution_count": 7,
   "metadata": {
    "scrolled": false
   },
   "outputs": [
    {
     "data": {
      "text/plain": [
       "2.3333333333333335"
      ]
     },
     "execution_count": 7,
     "metadata": {},
     "output_type": "execute_result"
    }
   ],
   "source": [
    "abs(-7/3)"
   ]
  },
  {
   "cell_type": "markdown",
   "metadata": {},
   "source": [
    "Additional information can be found [here](https://docs.python.org/3/reference/expressions.html#the-power-operator)."
   ]
  },
  {
   "cell_type": "markdown",
   "metadata": {},
   "source": [
    "---\n",
    "## The first Python program"
   ]
  },
  {
   "cell_type": "markdown",
   "metadata": {},
   "source": [
    "[[back to top]](#Table-of-Contents)"
   ]
  },
  {
   "cell_type": "markdown",
   "metadata": {},
   "source": [
    "Traditionally, every time that we start learning a new programming language, we start with a program that prints \"Hello World\" in the output."
   ]
  },
  {
   "cell_type": "code",
   "execution_count": 8,
   "metadata": {
    "scrolled": false
   },
   "outputs": [
    {
     "name": "stdout",
     "output_type": "stream",
     "text": [
      "Hello World\n"
     ]
    }
   ],
   "source": [
    "print (\"Hello World\")"
   ]
  },
  {
   "cell_type": "markdown",
   "metadata": {},
   "source": [
    "#### <div style=\"color: blue\">Congratulations! You are now a Python programmer.</div>\n",
    "\n",
    "The `print` statement is often used for printing character strings."
   ]
  },
  {
   "cell_type": "markdown",
   "metadata": {},
   "source": [
    "---\n",
    "## Comments"
   ]
  },
  {
   "cell_type": "markdown",
   "metadata": {},
   "source": [
    "[[back to top]](#Table-of-Contents)"
   ]
  },
  {
   "cell_type": "markdown",
   "metadata": {},
   "source": [
    "Comments are notes in your source code that aren't exectued when your code is run. These are useful for reminding yourself what your code does, and for notifying others to your intentions. Python has single line coments"
   ]
  },
  {
   "cell_type": "code",
   "execution_count": 9,
   "metadata": {
    "scrolled": false
   },
   "outputs": [],
   "source": [
    "# This is a single line comment"
   ]
  },
  {
   "cell_type": "markdown",
   "metadata": {},
   "source": [
    "and multiline comments."
   ]
  },
  {
   "cell_type": "code",
   "execution_count": 10,
   "metadata": {
    "scrolled": false
   },
   "outputs": [
    {
     "data": {
      "text/plain": [
       "'\\nI am also\\n    a multi-\\n        line\\n            comments\\n'"
      ]
     },
     "execution_count": 10,
     "metadata": {},
     "output_type": "execute_result"
    }
   ],
   "source": [
    "''' This is \n",
    "a multiline comment\n",
    "'''\n",
    "\n",
    "\"\"\"\n",
    "I am also\n",
    "    a multi-\n",
    "        line\n",
    "            comments\n",
    "\"\"\""
   ]
  },
  {
   "cell_type": "markdown",
   "metadata": {},
   "source": [
    "Note, multiline comments processed in IPython Notebook.\n",
    "\n",
    "Whereas Python discards the comments completely, adding comments in the code is important when the code is to be read by other humans (including yourself in the future)."
   ]
  },
  {
   "cell_type": "markdown",
   "metadata": {},
   "source": [
    "---\n",
    "## Variables"
   ]
  },
  {
   "cell_type": "markdown",
   "metadata": {},
   "source": [
    "[[back to top]](#Table-of-Contents)"
   ]
  },
  {
   "cell_type": "markdown",
   "metadata": {},
   "source": [
    "Variables form a fundamental concept of any programming language. A variable has a name and a value. \n",
    "\n",
    "Variables are aliases for data. This allows the developer to use the name for a particular value rather than the value it self. This makes the code more readable, and allows various optimizations to make a program run more efficiently.\n",
    "\n",
    "In python, a variable can be named almost anything, according to the whims of the programmer. You can use any letter, the special characters \"\\_\" and every number provided you do not start with it. White spaces and signs with special meanings in Python, as \"+\" and \"-\" are not allowed. Variable names are case-sensitive. The common pattern is to separate words in variable names with underscores \"\\_\".\n",
    "\n",
    "Variables are declared by stating the variable name and assigning to it using the \"=\" operator. At any time, you can reassign a value to a variable."
   ]
  },
  {
   "cell_type": "code",
   "execution_count": 11,
   "metadata": {
    "scrolled": false
   },
   "outputs": [
    {
     "name": "stdout",
     "output_type": "stream",
     "text": [
      "My first variable:\n",
      "Hello, \n",
      "\n",
      "My first and second variables:\n",
      "Hello, World! \n",
      "\n",
      "Reassigned first and second variables:\n",
      "Goodbuy, World! \n",
      "\n",
      "Reassigned first variable again:\n",
      "World! \n",
      "\n"
     ]
    }
   ],
   "source": [
    "my_first_variable = \"Hello,\"\n",
    "my_second_variable = \"World!\"\n",
    "yet_another_variable = 1\n",
    "pi = 3.1415926\n",
    "a = 2\n",
    "print (\"My first variable:\")\n",
    "print (my_first_variable,'\\n')\n",
    "\n",
    "# print may contain more than one argument\n",
    "print (\"My first and second variables:\")\n",
    "print (my_first_variable, my_second_variable,'\\n')\n",
    "\n",
    "# It is possible to reassign a created variable\n",
    "my_first_variable = \"Goodbuy,\" # reassigning\n",
    "\n",
    "print (\"Reassigned first and second variables:\")\n",
    "print (my_first_variable, my_second_variable,'\\n')\n",
    "\n",
    "# Reassigning again\n",
    "my_first_variable = my_second_variable \n",
    "\n",
    "print (\"Reassigned first variable again:\")\n",
    "print (my_first_variable,'\\n')"
   ]
  },
  {
   "cell_type": "markdown",
   "metadata": {},
   "source": [
    "After variable declaration you may use it:"
   ]
  },
  {
   "cell_type": "code",
   "execution_count": 12,
   "metadata": {
    "scrolled": false
   },
   "outputs": [
    {
     "name": "stdout",
     "output_type": "stream",
     "text": [
      "b:\n",
      "4 \n",
      "\n",
      "R:\n",
      "8 \n",
      "\n",
      "2 * pi * R:\n",
      "50.2654816 \n",
      "\n"
     ]
    }
   ],
   "source": [
    "b = a ** 2\n",
    "print ('b:')\n",
    "print (b,'\\n')\n",
    "\n",
    "R = b * a\n",
    "print ('R:')\n",
    "print (R,'\\n')\n",
    "\n",
    "# Any operation may be done even in print \n",
    "print ('2 * pi * R:')\n",
    "print (2 * pi * R,'\\n')"
   ]
  },
  {
   "cell_type": "markdown",
   "metadata": {},
   "source": [
    "Several variables can be defined at once (this is called **unpacking**):"
   ]
  },
  {
   "cell_type": "code",
   "execution_count": 13,
   "metadata": {
    "scrolled": false
   },
   "outputs": [
    {
     "name": "stdout",
     "output_type": "stream",
     "text": [
      "a, b:\n",
      "2.5 6\n"
     ]
    }
   ],
   "source": [
    "a, b = 2.5, 6\n",
    "print ('a, b:')\n",
    "print (a, b)"
   ]
  },
  {
   "cell_type": "markdown",
   "metadata": {},
   "source": [
    "We can get the output of unix commands in Python variables by prefixing them with `!`"
   ]
  },
  {
   "cell_type": "code",
   "execution_count": 14,
   "metadata": {
    "scrolled": false
   },
   "outputs": [
    {
     "name": "stdout",
     "output_type": "stream",
     "text": [
      "Current date:\n",
      "['Вто апр 23 08:55:51 EEST 2019']\n"
     ]
    }
   ],
   "source": [
    "current_date = !date\n",
    "print ('Current date:')\n",
    "print (current_date)"
   ]
  },
  {
   "cell_type": "markdown",
   "metadata": {},
   "source": [
    "There are different types of variables. Here, we have used a number (more precisely, an **integer**). Other important types include **floating-point numbers** to represent real numbers, **strings** to represent text, and **booleans** to represent `True/False` values. Here are a few examples:"
   ]
  },
  {
   "cell_type": "code",
   "execution_count": 15,
   "metadata": {
    "scrolled": false
   },
   "outputs": [
    {
     "name": "stdout",
     "output_type": "stream",
     "text": [
      "String, string, float:\n",
      "pi is about 3.1415\n"
     ]
    }
   ],
   "source": [
    "some_float = 3.1415\n",
    "some_string = 'pi is'  \n",
    "# You can also use double quotes.\n",
    "other_string = \"about\"\n",
    "print ('String, string, float:')\n",
    "print (some_string, other_string, some_float) "
   ]
  },
  {
   "cell_type": "markdown",
   "metadata": {
    "collapsed": true
   },
   "source": [
    ">### Exercise 1.1\n",
    ">The volume of the ball calculated by the formula $\\frac{4\\pi}{3}R^3$, where $\\pi \\approx 3.1415$ and $R$ is the radius of the ball. Create two variables `pi` (3.1415) and `R` and assign them $\\pi$ and 5, respectively. Calculate the vlolume by the above formula and write result to the `V` variable. "
   ]
  },
  {
   "cell_type": "code",
   "execution_count": 16,
   "metadata": {
    "scrolled": false
   },
   "outputs": [
    {
     "name": "stdout",
     "output_type": "stream",
     "text": [
      "523.5833333333334\n"
     ]
    }
   ],
   "source": [
    "# type your code here\n",
    "pi = 3.1415\n",
    "r = 5\n",
    "V = (4*pi/3)*(r**3)\n",
    "print (V)"
   ]
  },
  {
   "cell_type": "code",
   "execution_count": 18,
   "metadata": {},
   "outputs": [
    {
     "name": "stdout",
     "output_type": "stream",
     "text": [
      "1 test passed. Exercise 1.1 is successful\n"
     ]
    }
   ],
   "source": [
    "from test_helper import Test\n",
    " \n",
    "Test.assertEqualsHashed(V, '379da8b6fe112c1fde8371886cc040c5cdc4f2da', 'Incorrect value of \"V\"', \"Exercise 1.1 is successful\")"
   ]
  },
  {
   "cell_type": "markdown",
   "metadata": {},
   "source": [
    "---\n",
    "## Primitive Data Types"
   ]
  },
  {
   "cell_type": "markdown",
   "metadata": {},
   "source": [
    "[[back to top]](#Table-of-Contents)"
   ]
  },
  {
   "cell_type": "markdown",
   "metadata": {},
   "source": [
    "These are the basic data types that constitute all of the more complex data structures in python."
   ]
  },
  {
   "cell_type": "markdown",
   "metadata": {},
   "source": [
    "### String"
   ]
  },
  {
   "cell_type": "markdown",
   "metadata": {},
   "source": [
    "[[back to top]](#Table-of-Contents)"
   ]
  },
  {
   "cell_type": "markdown",
   "metadata": {},
   "source": [
    "Textual data, characters and sequences of characters. Can be specified by surrounding some text with single `'` or double `\"` quotes. "
   ]
  },
  {
   "cell_type": "code",
   "execution_count": 17,
   "metadata": {
    "scrolled": false
   },
   "outputs": [
    {
     "name": "stdout",
     "output_type": "stream",
     "text": [
      "str_1:\n",
      "Hello, World!\n"
     ]
    }
   ],
   "source": [
    "str_1 = \"Hello, World!\"\n",
    "print ('str_1:')\n",
    "print (str_1)"
   ]
  },
  {
   "cell_type": "code",
   "execution_count": 18,
   "metadata": {
    "scrolled": false
   },
   "outputs": [
    {
     "name": "stdout",
     "output_type": "stream",
     "text": [
      "str_2:\n",
      "Hello World!\n",
      "Hello World Twice!\n",
      "\n",
      "str_3:\n",
      "Hello\tWorld!\n",
      "\n"
     ]
    }
   ],
   "source": [
    "# Notice that we end the strings below with the \\n character, which is the \"new line\" special character\n",
    "str_2 = \"Hello World!\\nHello World Twice!\\n\"\n",
    "print ('str_2:')\n",
    "print (str_2)\n",
    "\n",
    "# Let's use the \\t character, which is the special character for tab\n",
    "str_3 = \"Hello\\tWorld!\\n\"\n",
    "print ('str_3:')\n",
    "print (str_3)"
   ]
  },
  {
   "cell_type": "markdown",
   "metadata": {},
   "source": [
    "But not both at the same time, unless you want one of the symbols to be part of the string."
   ]
  },
  {
   "cell_type": "code",
   "execution_count": 19,
   "metadata": {
    "scrolled": false
   },
   "outputs": [
    {
     "name": "stdout",
     "output_type": "stream",
     "text": [
      "str_4:\n",
      "This is a string within single quotes that can contain \"double quotes\" as part of the string\n",
      "\n",
      "str_5:\n",
      "If we want to have 'single quotes' in single quoted string we should escape them\n",
      "\n",
      "str_6:\n",
      "Similarly, if we want to have \"double quotes\" in double quoted string we should escape them\n",
      "\n",
      "Double escape:\n",
      "C:\\path\\on\\windows\n",
      "C:\\path\\on\\windows\n"
     ]
    }
   ],
   "source": [
    "str_4 = 'This is a string within single quotes that can contain \"double quotes\" as part of the string\\n'\n",
    "print ('str_4:')\n",
    "print (str_4)\n",
    "\n",
    "str_5 = 'If we want to have \\'single quotes\\' in single quoted string we should escape them\\n'\n",
    "print ('str_5:')\n",
    "print (str_5)\n",
    "\n",
    "str_6 = \"Similarly, if we want to have \\\"double quotes\\\" in double quoted string we should escape them\\n\"\n",
    "print ('str_6:')\n",
    "print (str_6)\n",
    "\n",
    "print (\"Double escape:\")\n",
    "print(\"C:\\\\path\\\\on\\\\windows\")\n",
    "print(r\"C:\\path\\on\\windows\")"
   ]
  },
  {
   "cell_type": "markdown",
   "metadata": {},
   "source": [
    "You can also disable escaping by using **raw literals** with a `r` prefix before the string, like in the last example above. In this case, backslashes are considered as normal characters.\n",
    "\n",
    "You will find the list of special characters in Python [here](https://docs.python.org/3.4/reference/lexical_analysis.html#string-and-bytes-literals).\n",
    "\n",
    "You can use the \"+\" operator to concatenate strings together. If you have a lot of words to concatenate together, there are other, more efficient ways to do this (we will consider it further). But this is fine for linking a few strings together."
   ]
  },
  {
   "cell_type": "code",
   "execution_count": 20,
   "metadata": {
    "scrolled": false
   },
   "outputs": [
    {
     "name": "stdout",
     "output_type": "stream",
     "text": [
      "str7 str8:\n",
      "hello world!\n"
     ]
    }
   ],
   "source": [
    "str_7 = \"hello\"\n",
    "str_8 = \"world\"\n",
    "print (\"str7 str8:\")\n",
    "print (str_7 + \" \" + str_8 + \"!\")"
   ]
  },
  {
   "cell_type": "markdown",
   "metadata": {},
   "source": [
    "Multilines strings remember multilines comments"
   ]
  },
  {
   "cell_type": "code",
   "execution_count": 21,
   "metadata": {
    "scrolled": false
   },
   "outputs": [
    {
     "name": "stdout",
     "output_type": "stream",
     "text": [
      "str_9:\n",
      "\n",
      "If we want to have multiple lines in the string\n",
      "then we can use triple quotes: This is a multiline\n",
      "string!\n",
      "\n"
     ]
    }
   ],
   "source": [
    "str_9 = \"\"\"\n",
    "If we want to have multiple lines in the string\n",
    "then we can use triple quotes: This is a multiline\n",
    "string!\n",
    "\"\"\"\n",
    "print ('str_9:')\n",
    "print (str_9)\n",
    "# or the same in triple double quotes \"\"\""
   ]
  },
  {
   "cell_type": "markdown",
   "metadata": {},
   "source": [
    "If we want to assign the text to a variable, we put it within parentheses"
   ]
  },
  {
   "cell_type": "code",
   "execution_count": 22,
   "metadata": {
    "scrolled": false
   },
   "outputs": [
    {
     "name": "stdout",
     "output_type": "stream",
     "text": [
      "Array string concat:\n",
      "Two or more string literals\n",
      "(i.e. the ones enclosed between quotes)\n",
      "next to each other are automatically concatenated.\n",
      "\n",
      "Inline string concat:\n",
      "Two or more string literals(i.e. the ones enclosed between quotes)next to each other are automatically concatenated.\n",
      "\n"
     ]
    }
   ],
   "source": [
    "str_10 = ('Two or more string literals\\n' \n",
    "'(i.e. the ones enclosed between quotes)\\n' \n",
    "'next to each other are automatically concatenated.\\n')\n",
    "print (\"Array string concat:\")\n",
    "print (str_10)\n",
    "\n",
    "# Compare with\n",
    "print (\"Inline string concat:\")\n",
    "print ('Two or more string literals' '(i.e. the ones enclosed between quotes)' \n",
    "       'next to each other are automatically concatenated.\\n')"
   ]
  },
  {
   "cell_type": "markdown",
   "metadata": {},
   "source": [
    "Strings can be indexed (subscripted), with the first character having index 0. There is no separate character type; a character is simply a string of size one:"
   ]
  },
  {
   "cell_type": "code",
   "execution_count": 23,
   "metadata": {
    "scrolled": false
   },
   "outputs": [
    {
     "name": "stdout",
     "output_type": "stream",
     "text": [
      "word[0]:\n",
      "P\n",
      "\"word\"[0]:\n",
      "w\n",
      "word[5]:\n",
      "n\n"
     ]
    }
   ],
   "source": [
    "word = 'Python'\n",
    "print (\"word[0]:\")\n",
    "print (word[0])  # character in position 0\n",
    "print ('\"word\"[0]:')\n",
    "print (\"word\"[0])\n",
    "print ('word[5]:')\n",
    "print (word[5])  # character in position 5"
   ]
  },
  {
   "cell_type": "markdown",
   "metadata": {},
   "source": [
    "Indices may also be negative numbers, to start counting from the right:"
   ]
  },
  {
   "cell_type": "code",
   "execution_count": 24,
   "metadata": {
    "scrolled": false
   },
   "outputs": [
    {
     "name": "stdout",
     "output_type": "stream",
     "text": [
      "n\n",
      "o\n",
      "P\n"
     ]
    }
   ],
   "source": [
    "print (word[-1])  # the last character\n",
    "print (word[-2])  # second-last character\n",
    "print (word[-6])  # the first letter"
   ]
  },
  {
   "cell_type": "markdown",
   "metadata": {},
   "source": [
    "In addition to indexing, **slicing** is also supported. While indexing is used to obtain individual characters, slicing allows you to obtain a substring:"
   ]
  },
  {
   "cell_type": "code",
   "execution_count": 25,
   "metadata": {
    "scrolled": false
   },
   "outputs": [
    {
     "name": "stdout",
     "output_type": "stream",
     "text": [
      "word[0:2]:\n",
      "Py\n",
      "word[2:5]:\n",
      "tho\n",
      "word[2:]:\n",
      "thon\n",
      "word[:3]:\n",
      "Pyt\n",
      "word[0:6:2]:\n",
      "Pto\n",
      "word[::2]:\n",
      "Pto\n",
      "word[:-1]:\n",
      "Pytho\n",
      "word[-3:]:\n",
      "hon\n",
      "word[-6:]:\n",
      "Python\n",
      "word[::-1]:\n",
      "nohtyP\n",
      "word[::-2]:\n",
      "nhy\n"
     ]
    }
   ],
   "source": [
    "print ('word[0:2]:')\n",
    "print (word[0:2])    # characters from position 0 (included) to 2 (excluded)\n",
    "print ('word[2:5]:')\n",
    "print (word[2:5])    # characters from position 2 (included) to 5 (excluded)\n",
    "print ('word[2:]:')\n",
    "print (word[2:])     # characters from position 2 (included) to the end\n",
    "print ('word[:3]:')\n",
    "print (word[:3])     # characters from beginning (position 0) to position 3 (excluded)\n",
    "print ('word[0:6:2]:')\n",
    "print (word[0:6:2])  # characters from beginning (position 0) to the end (position 6 excluded) with the step 2, \n",
    "                   # i.e. each odd positioning character\n",
    "print ('word[::2]:')\n",
    "print (word[::2])    # the same as above\n",
    "print ('word[:-1]:')\n",
    "print (word[:-1])    # the same as word[:5]\n",
    "print ('word[-3:]:')\n",
    "print (word[-3:])    # the same as word[3:6]\n",
    "print ('word[-6:]:')\n",
    "print (word[-6:])    # the same as word[:6]\n",
    "print ('word[::-1]:')\n",
    "print (word[::-1])   # returns the palindrome, i.e. we are going from the last character to the first one with step 1\n",
    "print ('word[::-2]:')\n",
    "print (word[::-2])   # we are going from the last character to the first one with step 2"
   ]
  },
  {
   "cell_type": "markdown",
   "metadata": {},
   "source": [
    ">### Exercise 1.2\n",
    "\n",
    ">* Assign the string 'Dealing with Data' to a Python variable. \n",
    "\n",
    ">* Print the word 'Dealing' by using the indexing/slicing approach. \n",
    "\n",
    ">* Print the word 'Data' by using the negative indexing/slicing approach.\n",
    "\n",
    ">* Using slices and strings concatenation swap 'Dealing' and 'Data'.\n",
    "\n",
    ">* What should be `start`, `end` and `step` values of a slice of this string to get the word 'with' in opposite order 'htiw'? Replace `start`, `end` and `step` variables in the `indeces` variable below. Use only one slicing and avoid [::-1] slicing."
   ]
  },
  {
   "cell_type": "code",
   "execution_count": 26,
   "metadata": {
    "scrolled": false
   },
   "outputs": [
    {
     "name": "stdout",
     "output_type": "stream",
     "text": [
      "Dealing\n",
      "Data\n",
      "Data with Dealing\n",
      "htiw\n"
     ]
    }
   ],
   "source": [
    "# type your code here\n",
    "\n",
    "string = 'Dealing with Data'\n",
    "dealing = string[:7]\n",
    "print (dealing)\n",
    "data = string[-4:]\n",
    "print (data)\n",
    "w = string[7:-4]\n",
    "changed = data + w + dealing\n",
    "\n",
    "print (changed)\n",
    "print (string[11:7:-1])\n",
    "\n",
    "indices = (11, 7, -1)"
   ]
  },
  {
   "cell_type": "code",
   "execution_count": 116,
   "metadata": {},
   "outputs": [
    {
     "name": "stdout",
     "output_type": "stream",
     "text": [
      "1 test passed. Exercise 1.2 is successful\n"
     ]
    }
   ],
   "source": [
    "Test.assertEqualsHashed(indices, '6aba3ea1bef0ea6b2c6c793d1516a7079f17272f', \n",
    "                        'Incorrect values of \"start\", \"end\" or \"step\" values in \"indices\"', \"Exercise 1.2 is successful\")"
   ]
  },
  {
   "cell_type": "markdown",
   "metadata": {},
   "source": [
    "### Integer"
   ]
  },
  {
   "cell_type": "markdown",
   "metadata": {},
   "source": [
    "[[back to top]](#Table-of-Contents)"
   ]
  },
  {
   "cell_type": "markdown",
   "metadata": {},
   "source": [
    "Positive and negative whole numbers"
   ]
  },
  {
   "cell_type": "code",
   "execution_count": 27,
   "metadata": {
    "scrolled": false
   },
   "outputs": [
    {
     "name": "stdout",
     "output_type": "stream",
     "text": [
      "Int sum:\n",
      "99\n"
     ]
    }
   ],
   "source": [
    "int_1 = 1\n",
    "int_2 = -2\n",
    "int_3 = 100\n",
    "print (\"Int sum:\")\n",
    "print (int_1 + int_2 + int_3) # for integers, + is just \"plus\""
   ]
  },
  {
   "cell_type": "markdown",
   "metadata": {},
   "source": [
    "### Floating Point Numbers"
   ]
  },
  {
   "cell_type": "markdown",
   "metadata": {},
   "source": [
    "[[back to top]](#Table-of-Contents)"
   ]
  },
  {
   "cell_type": "markdown",
   "metadata": {},
   "source": [
    "Decimal numbers, representations of fractions, and \"real-valued numbers\""
   ]
  },
  {
   "cell_type": "code",
   "execution_count": 28,
   "metadata": {
    "scrolled": false
   },
   "outputs": [
    {
     "name": "stdout",
     "output_type": "stream",
     "text": [
      "Float sum:\n",
      "7.2\n"
     ]
    }
   ],
   "source": [
    "float_1 = 1.2\n",
    "float_2 = -4.0\n",
    "float_3 = 10.0\n",
    "print ('Float sum:')\n",
    "print (float_1 + float_2 + float_3)"
   ]
  },
  {
   "cell_type": "markdown",
   "metadata": {},
   "source": [
    "### Booleans"
   ]
  },
  {
   "cell_type": "markdown",
   "metadata": {},
   "source": [
    "[[back to top]](#Table-of-Contents)"
   ]
  },
  {
   "cell_type": "markdown",
   "metadata": {},
   "source": [
    "Booleans represent the truth or success of a statement, and are commonly used for branching and checking status in code. "
   ]
  },
  {
   "cell_type": "code",
   "execution_count": 29,
   "metadata": {
    "scrolled": false
   },
   "outputs": [
    {
     "name": "stdout",
     "output_type": "stream",
     "text": [
      "bool_1:\n",
      "True\n",
      "bool_2:\n",
      "False\n"
     ]
    }
   ],
   "source": [
    "bool_1 = True \n",
    "bool_2 = False\n",
    "print ('bool_1:')\n",
    "print (bool_1)\n",
    "print ('bool_2:')\n",
    "print (bool_2)"
   ]
  },
  {
   "cell_type": "markdown",
   "metadata": {},
   "source": [
    "Ariphmetical operation are available for boolean variables too. At this time, boolean value `True` converts to 1 and `False` converts to 0."
   ]
  },
  {
   "cell_type": "code",
   "execution_count": 30,
   "metadata": {
    "scrolled": false
   },
   "outputs": [
    {
     "name": "stdout",
     "output_type": "stream",
     "text": [
      "Boolean substraction:\n",
      "-1\n",
      "Boolean multiplication:\n",
      "0\n"
     ]
    }
   ],
   "source": [
    "print ('Boolean substraction:')\n",
    "print (bool_2 - bool_1)\n",
    "print ('Boolean multiplication:')\n",
    "print (bool_1 * bool_2)"
   ]
  },
  {
   "cell_type": "markdown",
   "metadata": {},
   "source": [
    "---\n",
    "## Operations on Primitive Data Types"
   ]
  },
  {
   "cell_type": "markdown",
   "metadata": {},
   "source": [
    "[[back to top]](#Table-of-Contents)"
   ]
  },
  {
   "cell_type": "markdown",
   "metadata": {},
   "source": [
    "Python provides a variety of operations for performing common tasks on the primitive data types presented above. Of course, this list isn't complete, and the core functionality provided by python is greatly extended by library code, some of which will be discussed below. Note that operations can be performed either on \"literal primitives\" or on variables storing some primitive. "
   ]
  },
  {
   "cell_type": "markdown",
   "metadata": {},
   "source": [
    "### Operations on Strings "
   ]
  },
  {
   "cell_type": "markdown",
   "metadata": {},
   "source": [
    "[[back to top]](#Table-of-Contents)"
   ]
  },
  {
   "cell_type": "markdown",
   "metadata": {},
   "source": [
    "We've already seen one of the most common string operators, `+`, used for string concatenation, the indexing operation to get specific characters, and the slicing operation to get substrings. Below are some of the more commonly used string operations:\n",
    "\n",
    "+ `+` : concatenate two strings\n",
    "+ `len(str)`: length of a string, number of characters\n",
    "+ `str.upper()`: returns an uppercase version of a string\n",
    "+ `str.lower()`: returns a lowercase version of a string\n",
    "+ `haystack.index(needle)`: searches haystack for needle, prints the position of the first occurrence, indexed from 0. Note, throws an error if needle isn't found\n",
    "+ `str_1.count(str_2)`: counts the number of occurrences of one string in another\n",
    "+ `haystack.startswith(needle)`: does a the haystack string start with the needle string?\n",
    "+ `haystack.endswith(needle)`: does a the haystack string end with the needle string?\n",
    "+ `str_1.split(str_2)`: split the first string at every occurrence of the second string. Outputs a list (see below)\n",
    "+ `str.strip()`: remove any whitespace from the left or right of the string, including newlines\n",
    "+ `str.lstrip()`: remove any whitespace only from the left of the string, including newlines\n",
    "+ `str.rstrip()`: remove any whitespace only from the right of the string, including newlines \n",
    "+ `str.format(values)`: returns a formatted version of str, using substitutions from values\n",
    "+ `str.isalnum()`: returns true if string has at least 1 character and all characters are alphanumeric and false otherwise\n",
    "+ `str.isalpha()`: returns true if string has at least 1 character and all characters are alphabetic and false otherwise\n",
    "+ `str.isdigit()`: returns true if string contains only digits and false otherwise\n",
    "+ `str.isdecimal()`: returns true if a unicode string contains only decimal characters and false otherwise\n",
    "+ `str.islower()`: returns true if string has at least 1 cased character and all cased characters are in lowercase and false otherwise\n",
    "+ `str.isnumeric()`: returns true if a unicode string contains only numeric characters and false otherwise\n",
    "+ `str.isspace()`: returns true if string contains only whitespace characters and false otherwise\n",
    "+ `str.istitle()`: returns true if string is properly \"titlecased\" and false otherwise\n",
    "+ `str.isupper()`: returns true if string has at least one cased character and all cased characters are in uppercase and false otherwise\n",
    "+ `str.join(seq)`: concatenates a sequence of elements in one common string with separator `str`\n",
    "+ `str.capitalize()`: capitalizes first letter of string\n",
    "+ `str.replace(old_substr, new_substr)`: returns a copy of the string in which the occurrences of `old_substr` have been replaced with `new_substr`\n",
    "+ `str.title()`: returns \"titlecased\" version of string, that is, all words begin with uppercase and the rest are lowercase\n",
    "+ `str.decode(encoding='UTF-8')`: decodes the string using the codec registered for encoding\n",
    "+ `str.encode(encoding='UTF-8')`: returns encoded string version of string\n",
    "+ `str_1.find(str_2, beg=0 end=len(string))`: determine if `str_2` occurs in `str_1` or in a substring of string if starting index `beg` and ending index `end` are given returns index if found and -1 otherwise.\n",
    "\n",
    "A better list of string operations is [available here](http://docs.python.org/2/library/string.html)."
   ]
  },
  {
   "cell_type": "code",
   "execution_count": 31,
   "metadata": {
    "scrolled": false
   },
   "outputs": [
    {
     "name": "stdout",
     "output_type": "stream",
     "text": [
      "Python is the word. And on and on and on and on...\n",
      "The length of the 'word' above is 50 characters\n",
      "PYTHON IS THE WORD. AND ON AND ON AND ON AND ON...\n",
      "The first time that we see the string 'on' is at position 4\n",
      "We see the string on that many times: 5\n"
     ]
    }
   ],
   "source": [
    "words = \"Python is the word. And on and on and on and on...\"\n",
    "print (words)\n",
    "print (\"The length of the 'word' above is\", len(words), \"characters\")\n",
    "print (words.upper())\n",
    "print (\"The first time that we see the string 'on' is at position\", words.index(\"on\"))\n",
    "print (\"We see the string on that many times:\", words.count(\"on\"))"
   ]
  },
  {
   "cell_type": "code",
   "execution_count": 32,
   "metadata": {
    "scrolled": false
   },
   "outputs": [
    {
     "name": "stdout",
     "output_type": "stream",
     "text": [
      "Format examples:\n",
      "Python is a programming language.\n",
      "2 plus 3 equals 5\n",
      "2 plus 3 equals 5\n"
     ]
    }
   ],
   "source": [
    "print ('Format examples:')\n",
    "print (\"{} is a programming language.\".format(\"Python\"))\n",
    "print (\"{} plus {} equals {}\".format(2, 3, 5))\n",
    "print (\"{2} plus {0} equals {1}\".format(3, 5, 2))"
   ]
  },
  {
   "cell_type": "code",
   "execution_count": 33,
   "metadata": {
    "scrolled": false
   },
   "outputs": [
    {
     "name": "stdout",
     "output_type": "stream",
     "text": [
      "concatenation:\n",
      "Hello, World! Hello World!\n",
      "Hello World Twice!\n",
      "\n",
      "Hello, World! everybody\n",
      "length:\n",
      "13\n",
      "46\n",
      "string casing:\n",
      "HELLO, WORLD!\n",
      "hello\n",
      "string indexing:\n",
      "2\n",
      "2\n",
      "string count:\n",
      "3\n",
      "1\n",
      "starts with & endswith:\n",
      "True\n",
      "False\n",
      "split:\n",
      "['practical', 'data', 'science']\n",
      "['hello']\n",
      "equality:\n",
      "False\n",
      "False\n"
     ]
    }
   ],
   "source": [
    "print (\"concatenation:\")\n",
    "print (str_1 + \" \" + str_2)\n",
    "print (str_1 + \" everybody\")\n",
    "\n",
    "print (\"length:\")\n",
    "print (len(str_1))\n",
    "print (len(str_1 + \" \" + str_2))\n",
    "\n",
    "print (\"string casing:\")\n",
    "print (str_1.upper())\n",
    "print (\"HELLO\".lower())\n",
    "\n",
    "print (\"string indexing:\")\n",
    "print (\"hello\".index(\"ll\"))\n",
    "print (\"hello\".upper().index(\"LL\"))\n",
    "\n",
    "print (\"string count:\")\n",
    "print (str_1.count(\"l\"))\n",
    "print (str_1.count(\"ll\"))\n",
    "\n",
    "print (\"starts with & endswith:\")\n",
    "print (\"hello\".startswith(\"he\"))\n",
    "print (\"hello\".endswith(\"world\"))\n",
    "\n",
    "print (\"split:\")\n",
    "print (\"practical data science\".split(\" \"))\n",
    "print (\"hello\".split(\" \"))\n",
    "\n",
    "print (\"equality:\")\n",
    "print (str_1 == \"hello\")\n",
    "print (str_1 == \"HELLO\")"
   ]
  },
  {
   "cell_type": "markdown",
   "metadata": {},
   "source": [
    "Python allows getting information about data type, function etc. \n",
    "\n",
    "* `dir()`: without arguments, returns the list of names in the current local scope; with an argument, attempt to return a list of valid attributes for that object.\n",
    "* `help()`: if no argument is given, the interactive help system starts on the interpreter console; if the argument is a string, then the string is looked up as the name of a module, function, class, method, keyword, or documentation topic, and a help page is printed on the console."
   ]
  },
  {
   "cell_type": "code",
   "execution_count": 34,
   "metadata": {
    "scrolled": true
   },
   "outputs": [
    {
     "data": {
      "text/plain": [
       "['__add__',\n",
       " '__class__',\n",
       " '__contains__',\n",
       " '__delattr__',\n",
       " '__dir__',\n",
       " '__doc__',\n",
       " '__eq__',\n",
       " '__format__',\n",
       " '__ge__',\n",
       " '__getattribute__',\n",
       " '__getitem__',\n",
       " '__getnewargs__',\n",
       " '__gt__',\n",
       " '__hash__',\n",
       " '__init__',\n",
       " '__init_subclass__',\n",
       " '__iter__',\n",
       " '__le__',\n",
       " '__len__',\n",
       " '__lt__',\n",
       " '__mod__',\n",
       " '__mul__',\n",
       " '__ne__',\n",
       " '__new__',\n",
       " '__reduce__',\n",
       " '__reduce_ex__',\n",
       " '__repr__',\n",
       " '__rmod__',\n",
       " '__rmul__',\n",
       " '__setattr__',\n",
       " '__sizeof__',\n",
       " '__str__',\n",
       " '__subclasshook__',\n",
       " 'capitalize',\n",
       " 'casefold',\n",
       " 'center',\n",
       " 'count',\n",
       " 'encode',\n",
       " 'endswith',\n",
       " 'expandtabs',\n",
       " 'find',\n",
       " 'format',\n",
       " 'format_map',\n",
       " 'index',\n",
       " 'isalnum',\n",
       " 'isalpha',\n",
       " 'isdecimal',\n",
       " 'isdigit',\n",
       " 'isidentifier',\n",
       " 'islower',\n",
       " 'isnumeric',\n",
       " 'isprintable',\n",
       " 'isspace',\n",
       " 'istitle',\n",
       " 'isupper',\n",
       " 'join',\n",
       " 'ljust',\n",
       " 'lower',\n",
       " 'lstrip',\n",
       " 'maketrans',\n",
       " 'partition',\n",
       " 'replace',\n",
       " 'rfind',\n",
       " 'rindex',\n",
       " 'rjust',\n",
       " 'rpartition',\n",
       " 'rsplit',\n",
       " 'rstrip',\n",
       " 'split',\n",
       " 'splitlines',\n",
       " 'startswith',\n",
       " 'strip',\n",
       " 'swapcase',\n",
       " 'title',\n",
       " 'translate',\n",
       " 'upper',\n",
       " 'zfill']"
      ]
     },
     "execution_count": 34,
     "metadata": {},
     "output_type": "execute_result"
    }
   ],
   "source": [
    "dir(str)"
   ]
  },
  {
   "cell_type": "code",
   "execution_count": 35,
   "metadata": {
    "scrolled": true
   },
   "outputs": [
    {
     "name": "stdout",
     "output_type": "stream",
     "text": [
      "Help on class str in module builtins:\n",
      "\n",
      "class str(object)\n",
      " |  str(object='') -> str\n",
      " |  str(bytes_or_buffer[, encoding[, errors]]) -> str\n",
      " |  \n",
      " |  Create a new string object from the given object. If encoding or\n",
      " |  errors is specified, then the object must expose a data buffer\n",
      " |  that will be decoded using the given encoding and error handler.\n",
      " |  Otherwise, returns the result of object.__str__() (if defined)\n",
      " |  or repr(object).\n",
      " |  encoding defaults to sys.getdefaultencoding().\n",
      " |  errors defaults to 'strict'.\n",
      " |  \n",
      " |  Methods defined here:\n",
      " |  \n",
      " |  __add__(self, value, /)\n",
      " |      Return self+value.\n",
      " |  \n",
      " |  __contains__(self, key, /)\n",
      " |      Return key in self.\n",
      " |  \n",
      " |  __eq__(self, value, /)\n",
      " |      Return self==value.\n",
      " |  \n",
      " |  __format__(...)\n",
      " |      S.__format__(format_spec) -> str\n",
      " |      \n",
      " |      Return a formatted version of S as described by format_spec.\n",
      " |  \n",
      " |  __ge__(self, value, /)\n",
      " |      Return self>=value.\n",
      " |  \n",
      " |  __getattribute__(self, name, /)\n",
      " |      Return getattr(self, name).\n",
      " |  \n",
      " |  __getitem__(self, key, /)\n",
      " |      Return self[key].\n",
      " |  \n",
      " |  __getnewargs__(...)\n",
      " |  \n",
      " |  __gt__(self, value, /)\n",
      " |      Return self>value.\n",
      " |  \n",
      " |  __hash__(self, /)\n",
      " |      Return hash(self).\n",
      " |  \n",
      " |  __iter__(self, /)\n",
      " |      Implement iter(self).\n",
      " |  \n",
      " |  __le__(self, value, /)\n",
      " |      Return self<=value.\n",
      " |  \n",
      " |  __len__(self, /)\n",
      " |      Return len(self).\n",
      " |  \n",
      " |  __lt__(self, value, /)\n",
      " |      Return self<value.\n",
      " |  \n",
      " |  __mod__(self, value, /)\n",
      " |      Return self%value.\n",
      " |  \n",
      " |  __mul__(self, value, /)\n",
      " |      Return self*value.\n",
      " |  \n",
      " |  __ne__(self, value, /)\n",
      " |      Return self!=value.\n",
      " |  \n",
      " |  __new__(*args, **kwargs) from builtins.type\n",
      " |      Create and return a new object.  See help(type) for accurate signature.\n",
      " |  \n",
      " |  __repr__(self, /)\n",
      " |      Return repr(self).\n",
      " |  \n",
      " |  __rmod__(self, value, /)\n",
      " |      Return value%self.\n",
      " |  \n",
      " |  __rmul__(self, value, /)\n",
      " |      Return value*self.\n",
      " |  \n",
      " |  __sizeof__(...)\n",
      " |      S.__sizeof__() -> size of S in memory, in bytes\n",
      " |  \n",
      " |  __str__(self, /)\n",
      " |      Return str(self).\n",
      " |  \n",
      " |  capitalize(...)\n",
      " |      S.capitalize() -> str\n",
      " |      \n",
      " |      Return a capitalized version of S, i.e. make the first character\n",
      " |      have upper case and the rest lower case.\n",
      " |  \n",
      " |  casefold(...)\n",
      " |      S.casefold() -> str\n",
      " |      \n",
      " |      Return a version of S suitable for caseless comparisons.\n",
      " |  \n",
      " |  center(...)\n",
      " |      S.center(width[, fillchar]) -> str\n",
      " |      \n",
      " |      Return S centered in a string of length width. Padding is\n",
      " |      done using the specified fill character (default is a space)\n",
      " |  \n",
      " |  count(...)\n",
      " |      S.count(sub[, start[, end]]) -> int\n",
      " |      \n",
      " |      Return the number of non-overlapping occurrences of substring sub in\n",
      " |      string S[start:end].  Optional arguments start and end are\n",
      " |      interpreted as in slice notation.\n",
      " |  \n",
      " |  encode(...)\n",
      " |      S.encode(encoding='utf-8', errors='strict') -> bytes\n",
      " |      \n",
      " |      Encode S using the codec registered for encoding. Default encoding\n",
      " |      is 'utf-8'. errors may be given to set a different error\n",
      " |      handling scheme. Default is 'strict' meaning that encoding errors raise\n",
      " |      a UnicodeEncodeError. Other possible values are 'ignore', 'replace' and\n",
      " |      'xmlcharrefreplace' as well as any other name registered with\n",
      " |      codecs.register_error that can handle UnicodeEncodeErrors.\n",
      " |  \n",
      " |  endswith(...)\n",
      " |      S.endswith(suffix[, start[, end]]) -> bool\n",
      " |      \n",
      " |      Return True if S ends with the specified suffix, False otherwise.\n",
      " |      With optional start, test S beginning at that position.\n",
      " |      With optional end, stop comparing S at that position.\n",
      " |      suffix can also be a tuple of strings to try.\n",
      " |  \n",
      " |  expandtabs(...)\n",
      " |      S.expandtabs(tabsize=8) -> str\n",
      " |      \n",
      " |      Return a copy of S where all tab characters are expanded using spaces.\n",
      " |      If tabsize is not given, a tab size of 8 characters is assumed.\n",
      " |  \n",
      " |  find(...)\n",
      " |      S.find(sub[, start[, end]]) -> int\n",
      " |      \n",
      " |      Return the lowest index in S where substring sub is found,\n",
      " |      such that sub is contained within S[start:end].  Optional\n",
      " |      arguments start and end are interpreted as in slice notation.\n",
      " |      \n",
      " |      Return -1 on failure.\n",
      " |  \n",
      " |  format(...)\n",
      " |      S.format(*args, **kwargs) -> str\n",
      " |      \n",
      " |      Return a formatted version of S, using substitutions from args and kwargs.\n",
      " |      The substitutions are identified by braces ('{' and '}').\n",
      " |  \n",
      " |  format_map(...)\n",
      " |      S.format_map(mapping) -> str\n",
      " |      \n",
      " |      Return a formatted version of S, using substitutions from mapping.\n",
      " |      The substitutions are identified by braces ('{' and '}').\n",
      " |  \n",
      " |  index(...)\n",
      " |      S.index(sub[, start[, end]]) -> int\n",
      " |      \n",
      " |      Return the lowest index in S where substring sub is found, \n",
      " |      such that sub is contained within S[start:end].  Optional\n",
      " |      arguments start and end are interpreted as in slice notation.\n",
      " |      \n",
      " |      Raises ValueError when the substring is not found.\n",
      " |  \n",
      " |  isalnum(...)\n",
      " |      S.isalnum() -> bool\n",
      " |      \n",
      " |      Return True if all characters in S are alphanumeric\n",
      " |      and there is at least one character in S, False otherwise.\n",
      " |  \n",
      " |  isalpha(...)\n",
      " |      S.isalpha() -> bool\n",
      " |      \n",
      " |      Return True if all characters in S are alphabetic\n",
      " |      and there is at least one character in S, False otherwise.\n",
      " |  \n",
      " |  isdecimal(...)\n",
      " |      S.isdecimal() -> bool\n",
      " |      \n",
      " |      Return True if there are only decimal characters in S,\n",
      " |      False otherwise.\n",
      " |  \n",
      " |  isdigit(...)\n",
      " |      S.isdigit() -> bool\n",
      " |      \n",
      " |      Return True if all characters in S are digits\n",
      " |      and there is at least one character in S, False otherwise.\n",
      " |  \n",
      " |  isidentifier(...)\n",
      " |      S.isidentifier() -> bool\n",
      " |      \n",
      " |      Return True if S is a valid identifier according\n",
      " |      to the language definition.\n",
      " |      \n",
      " |      Use keyword.iskeyword() to test for reserved identifiers\n",
      " |      such as \"def\" and \"class\".\n",
      " |  \n",
      " |  islower(...)\n",
      " |      S.islower() -> bool\n",
      " |      \n",
      " |      Return True if all cased characters in S are lowercase and there is\n",
      " |      at least one cased character in S, False otherwise.\n",
      " |  \n",
      " |  isnumeric(...)\n",
      " |      S.isnumeric() -> bool\n",
      " |      \n",
      " |      Return True if there are only numeric characters in S,\n",
      " |      False otherwise.\n",
      " |  \n",
      " |  isprintable(...)\n",
      " |      S.isprintable() -> bool\n",
      " |      \n",
      " |      Return True if all characters in S are considered\n",
      " |      printable in repr() or S is empty, False otherwise.\n",
      " |  \n",
      " |  isspace(...)\n",
      " |      S.isspace() -> bool\n",
      " |      \n",
      " |      Return True if all characters in S are whitespace\n",
      " |      and there is at least one character in S, False otherwise.\n",
      " |  \n",
      " |  istitle(...)\n",
      " |      S.istitle() -> bool\n",
      " |      \n",
      " |      Return True if S is a titlecased string and there is at least one\n",
      " |      character in S, i.e. upper- and titlecase characters may only\n",
      " |      follow uncased characters and lowercase characters only cased ones.\n",
      " |      Return False otherwise.\n",
      " |  \n",
      " |  isupper(...)\n",
      " |      S.isupper() -> bool\n",
      " |      \n",
      " |      Return True if all cased characters in S are uppercase and there is\n",
      " |      at least one cased character in S, False otherwise.\n",
      " |  \n",
      " |  join(...)\n",
      " |      S.join(iterable) -> str\n",
      " |      \n",
      " |      Return a string which is the concatenation of the strings in the\n",
      " |      iterable.  The separator between elements is S.\n",
      " |  \n",
      " |  ljust(...)\n",
      " |      S.ljust(width[, fillchar]) -> str\n",
      " |      \n",
      " |      Return S left-justified in a Unicode string of length width. Padding is\n",
      " |      done using the specified fill character (default is a space).\n",
      " |  \n",
      " |  lower(...)\n",
      " |      S.lower() -> str\n",
      " |      \n",
      " |      Return a copy of the string S converted to lowercase.\n",
      " |  \n",
      " |  lstrip(...)\n",
      " |      S.lstrip([chars]) -> str\n",
      " |      \n",
      " |      Return a copy of the string S with leading whitespace removed.\n",
      " |      If chars is given and not None, remove characters in chars instead.\n",
      " |  \n",
      " |  partition(...)\n",
      " |      S.partition(sep) -> (head, sep, tail)\n",
      " |      \n",
      " |      Search for the separator sep in S, and return the part before it,\n",
      " |      the separator itself, and the part after it.  If the separator is not\n",
      " |      found, return S and two empty strings.\n",
      " |  \n",
      " |  replace(...)\n",
      " |      S.replace(old, new[, count]) -> str\n",
      " |      \n",
      " |      Return a copy of S with all occurrences of substring\n",
      " |      old replaced by new.  If the optional argument count is\n",
      " |      given, only the first count occurrences are replaced.\n",
      " |  \n",
      " |  rfind(...)\n",
      " |      S.rfind(sub[, start[, end]]) -> int\n",
      " |      \n",
      " |      Return the highest index in S where substring sub is found,\n",
      " |      such that sub is contained within S[start:end].  Optional\n",
      " |      arguments start and end are interpreted as in slice notation.\n",
      " |      \n",
      " |      Return -1 on failure.\n",
      " |  \n",
      " |  rindex(...)\n",
      " |      S.rindex(sub[, start[, end]]) -> int\n",
      " |      \n",
      " |      Return the highest index in S where substring sub is found,\n",
      " |      such that sub is contained within S[start:end].  Optional\n",
      " |      arguments start and end are interpreted as in slice notation.\n",
      " |      \n",
      " |      Raises ValueError when the substring is not found.\n",
      " |  \n",
      " |  rjust(...)\n",
      " |      S.rjust(width[, fillchar]) -> str\n",
      " |      \n",
      " |      Return S right-justified in a string of length width. Padding is\n",
      " |      done using the specified fill character (default is a space).\n",
      " |  \n",
      " |  rpartition(...)\n",
      " |      S.rpartition(sep) -> (head, sep, tail)\n",
      " |      \n",
      " |      Search for the separator sep in S, starting at the end of S, and return\n",
      " |      the part before it, the separator itself, and the part after it.  If the\n",
      " |      separator is not found, return two empty strings and S.\n",
      " |  \n",
      " |  rsplit(...)\n",
      " |      S.rsplit(sep=None, maxsplit=-1) -> list of strings\n",
      " |      \n",
      " |      Return a list of the words in S, using sep as the\n",
      " |      delimiter string, starting at the end of the string and\n",
      " |      working to the front.  If maxsplit is given, at most maxsplit\n",
      " |      splits are done. If sep is not specified, any whitespace string\n",
      " |      is a separator.\n",
      " |  \n",
      " |  rstrip(...)\n",
      " |      S.rstrip([chars]) -> str\n",
      " |      \n",
      " |      Return a copy of the string S with trailing whitespace removed.\n",
      " |      If chars is given and not None, remove characters in chars instead.\n",
      " |  \n",
      " |  split(...)\n",
      " |      S.split(sep=None, maxsplit=-1) -> list of strings\n",
      " |      \n",
      " |      Return a list of the words in S, using sep as the\n",
      " |      delimiter string.  If maxsplit is given, at most maxsplit\n",
      " |      splits are done. If sep is not specified or is None, any\n",
      " |      whitespace string is a separator and empty strings are\n",
      " |      removed from the result.\n",
      " |  \n",
      " |  splitlines(...)\n",
      " |      S.splitlines([keepends]) -> list of strings\n",
      " |      \n",
      " |      Return a list of the lines in S, breaking at line boundaries.\n",
      " |      Line breaks are not included in the resulting list unless keepends\n",
      " |      is given and true.\n",
      " |  \n",
      " |  startswith(...)\n",
      " |      S.startswith(prefix[, start[, end]]) -> bool\n",
      " |      \n",
      " |      Return True if S starts with the specified prefix, False otherwise.\n",
      " |      With optional start, test S beginning at that position.\n",
      " |      With optional end, stop comparing S at that position.\n",
      " |      prefix can also be a tuple of strings to try.\n",
      " |  \n",
      " |  strip(...)\n",
      " |      S.strip([chars]) -> str\n",
      " |      \n",
      " |      Return a copy of the string S with leading and trailing\n",
      " |      whitespace removed.\n",
      " |      If chars is given and not None, remove characters in chars instead.\n",
      " |  \n",
      " |  swapcase(...)\n",
      " |      S.swapcase() -> str\n",
      " |      \n",
      " |      Return a copy of S with uppercase characters converted to lowercase\n",
      " |      and vice versa.\n",
      " |  \n",
      " |  title(...)\n",
      " |      S.title() -> str\n",
      " |      \n",
      " |      Return a titlecased version of S, i.e. words start with title case\n",
      " |      characters, all remaining cased characters have lower case.\n",
      " |  \n",
      " |  translate(...)\n",
      " |      S.translate(table) -> str\n",
      " |      \n",
      " |      Return a copy of the string S in which each character has been mapped\n",
      " |      through the given translation table. The table must implement\n",
      " |      lookup/indexing via __getitem__, for instance a dictionary or list,\n",
      " |      mapping Unicode ordinals to Unicode ordinals, strings, or None. If\n",
      " |      this operation raises LookupError, the character is left untouched.\n",
      " |      Characters mapped to None are deleted.\n",
      " |  \n",
      " |  upper(...)\n",
      " |      S.upper() -> str\n",
      " |      \n",
      " |      Return a copy of S converted to uppercase.\n",
      " |  \n",
      " |  zfill(...)\n",
      " |      S.zfill(width) -> str\n",
      " |      \n",
      " |      Pad a numeric string S with zeros on the left, to fill a field\n",
      " |      of the specified width. The string S is never truncated.\n",
      " |  \n",
      " |  ----------------------------------------------------------------------\n",
      " |  Static methods defined here:\n",
      " |  \n",
      " |  maketrans(x, y=None, z=None, /)\n",
      " |      Return a translation table usable for str.translate().\n",
      " |      \n",
      " |      If there is only one argument, it must be a dictionary mapping Unicode\n",
      " |      ordinals (integers) or characters to Unicode ordinals, strings or None.\n",
      " |      Character keys will be then converted to ordinals.\n",
      " |      If there are two arguments, they must be strings of equal length, and\n",
      " |      in the resulting dictionary, each character in x will be mapped to the\n",
      " |      character at the same position in y. If there is a third argument, it\n",
      " |      must be a string, whose characters will be mapped to None in the result.\n",
      "\n"
     ]
    }
   ],
   "source": [
    "help(str)"
   ]
  },
  {
   "cell_type": "code",
   "execution_count": 36,
   "metadata": {
    "scrolled": true
   },
   "outputs": [
    {
     "name": "stdout",
     "output_type": "stream",
     "text": [
      "Help on built-in function split:\n",
      "\n",
      "split(...) method of builtins.str instance\n",
      "    S.split(sep=None, maxsplit=-1) -> list of strings\n",
      "    \n",
      "    Return a list of the words in S, using sep as the\n",
      "    delimiter string.  If maxsplit is given, at most maxsplit\n",
      "    splits are done. If sep is not specified or is None, any\n",
      "    whitespace string is a separator and empty strings are\n",
      "    removed from the result.\n",
      "\n"
     ]
    }
   ],
   "source": [
    "string = ''\n",
    "help(string.split)"
   ]
  },
  {
   "cell_type": "markdown",
   "metadata": {},
   "source": [
    "### Operations on Numeric Types"
   ]
  },
  {
   "cell_type": "markdown",
   "metadata": {},
   "source": [
    "[[back to top]](#Table-of-Contents)"
   ]
  },
  {
   "cell_type": "markdown",
   "metadata": {},
   "source": [
    "There are a bunch of common mathematical operations available on numeric types in python. If an operation is being performed on two integers, then the output will also be an integer. If one of the operands is a float, then the remaining operand will be cast into a float, and the result will likewise be a float.\n",
    "\n",
    "+ `+`: plus, add two numbers\n",
    "+ `-`: minus, subtract two numbers. If put before a single numeric value, takes the negative of that value. \n",
    "+ `*`: multiply two numbers\n",
    "+ `/`: divide the first operand by the second.\n",
    "+ `%`: modulo, what is the remainder when the first number is divided by the second?\n",
    "\n",
    "We have used such operation when consider Python as a calculator."
   ]
  },
  {
   "cell_type": "code",
   "execution_count": 37,
   "metadata": {
    "scrolled": false
   },
   "outputs": [
    {
     "name": "stdout",
     "output_type": "stream",
     "text": [
      "addition:\n",
      "2\n",
      "2.5\n",
      "subtraction:\n",
      "0\n",
      "0.0\n",
      "negation:\n",
      "-5\n",
      "multiplication:\n",
      "9\n",
      "4.0\n",
      "division:\n",
      "2.5\n",
      "2.5\n",
      "modulo:\n",
      "1\n",
      "1.5\n"
     ]
    }
   ],
   "source": [
    "print (\"addition:\")\n",
    "print (1+1)\n",
    "print (1.5 + 1)\n",
    "\n",
    "print (\"subtraction:\")\n",
    "print (1-1)\n",
    "print (1-1.0)\n",
    "\n",
    "print (\"negation:\")\n",
    "x = 5\n",
    "print (-x)\n",
    "\n",
    "print (\"multiplication:\")\n",
    "print (3*3)\n",
    "print (2*2.0)\n",
    "\n",
    "print (\"division:\")\n",
    "print (5/2) # integer division!\n",
    "print (5/2.0)\n",
    "\n",
    "print (\"modulo:\")\n",
    "print (5%2)\n",
    "print (5.5%2)"
   ]
  },
  {
   "cell_type": "code",
   "execution_count": 38,
   "metadata": {
    "scrolled": false
   },
   "outputs": [
    {
     "name": "stdout",
     "output_type": "stream",
     "text": [
      "percentage of men:\n",
      "0.4444444444444444\n",
      "44.44444444444444 %\n"
     ]
    }
   ],
   "source": [
    "males = 8\n",
    "females = 10\n",
    "\n",
    "print (\"percentage of men:\")\n",
    "print (males/(males+females))\n",
    "print (1.0*males/(males+females) * 100, \"%\")"
   ]
  },
  {
   "cell_type": "markdown",
   "metadata": {},
   "source": [
    "There are also a bunch of comparison operators on numeric values:\n",
    "\n",
    "+ `==`: equality of values\n",
    "+ `<`: less than\n",
    "+ `<=`: less than or equal to\n",
    "+ `>`: greater than\n",
    "+ `>=`: greater than or equal to\n",
    "+ `!=`: not equal to, different than\n",
    "\n",
    "These all return a boolean with a value that depends on the outcome of the comparison. "
   ]
  },
  {
   "cell_type": "code",
   "execution_count": 39,
   "metadata": {
    "scrolled": false
   },
   "outputs": [
    {
     "name": "stdout",
     "output_type": "stream",
     "text": [
      "equals:\n",
      "False\n",
      "True\n",
      "True\n",
      "comparison:\n",
      "True\n",
      "False\n",
      "False\n",
      "True\n",
      "False\n"
     ]
    }
   ],
   "source": [
    "print (\"equals:\")\n",
    "print (1 == 2)\n",
    "print (1 == 1)\n",
    "# Beware though when comparing floats, as small \n",
    "# differences may not be captured. \n",
    "# We have sixteen 0's in the number below\n",
    "print (1.0000000000000001 == 1.0)\n",
    "\n",
    "print (\"comparison:\")\n",
    "print (1 > 0)\n",
    "print (1 > 1)\n",
    "print (1.0 > 1)\n",
    "print (1 >= 1)\n",
    "print (1.0 != 1)"
   ]
  },
  {
   "cell_type": "code",
   "execution_count": 41,
   "metadata": {
    "scrolled": false
   },
   "outputs": [
    {
     "name": "stdout",
     "output_type": "stream",
     "text": [
      "Fibonacci series:\n",
      "1\n",
      "1\n",
      "2\n",
      "3\n",
      "5\n",
      "8\n",
      "13\n"
     ]
    }
   ],
   "source": [
    "# Fibonacci series (https://en.wikipedia.org/wiki/Fibonacci_number):\n",
    "# the sum of two elements defines the next\n",
    "a = 0\n",
    "b = 1\n",
    "# Here we use loop while\n",
    "print (\"Fibonacci series:\")\n",
    "while b < 20: \n",
    "    print (b),    # the comma after b allows to place all numbers in one row\n",
    "    t = a       # temporary variable\n",
    "    a = b\n",
    "    b = t + b"
   ]
  },
  {
   "cell_type": "markdown",
   "metadata": {},
   "source": [
    "### Boolean Operations"
   ]
  },
  {
   "cell_type": "markdown",
   "metadata": {},
   "source": [
    "[[back to top]](#Table-of-Contents)"
   ]
  },
  {
   "cell_type": "markdown",
   "metadata": {
    "collapsed": true
   },
   "source": [
    "Frequently, one wants to combine or modify boolean values. Python has several operations for just this purpose:\n",
    "\n",
    "+ `not a`: returns the opposite value of `a`.\n",
    "+ `a and b`: returns true if and only if both `a` and `b` are true.\n",
    "+ `a or b`: returns true either `a` or `b` are true, or both.\n",
    "\n",
    "Like mathematical expressions, boolean expressions can be nested using parentheses. "
   ]
  },
  {
   "cell_type": "code",
   "execution_count": 42,
   "metadata": {
    "scrolled": false
   },
   "outputs": [
    {
     "name": "stdout",
     "output_type": "stream",
     "text": [
      "Boolean expressions:\n",
      "var1 + var2 == 11 and not var2 + var3 == 13: False\n",
      "var1 + var2 == 12 and var2 + var3 == 13: False\n",
      "var1 + var2 == 12 or var2 + var3 == 13: True\n"
     ]
    }
   ],
   "source": [
    "var1 = 5\n",
    "var2 = 6\n",
    "var3 = 7 \n",
    "print (\"Boolean expressions:\")\n",
    "print (\"var1 + var2 == 11 and not var2 + var3 == 13:\", (var1 + var2 == 11 and not var2 + var3 == 13))\n",
    "print (\"var1 + var2 == 12 and var2 + var3 == 13:\", (var1 + var2 == 12 and var2 + var3 == 13))\n",
    "print (\"var1 + var2 == 12 or var2 + var3 == 13:\", (var1 + var2 == 12 or var2 + var3 == 13))"
   ]
  },
  {
   "cell_type": "markdown",
   "metadata": {},
   "source": [
    "### String Formatting"
   ]
  },
  {
   "cell_type": "markdown",
   "metadata": {},
   "source": [
    "[[back to top]](#Table-of-Contents)"
   ]
  },
  {
   "cell_type": "markdown",
   "metadata": {},
   "source": [
    "Often one wants to embed other information into strings, sometimes with special formatting constraints. In python, one may insert special formatting characters into strings that convey what type of data should be inserted and where, and how the \"stringified\" form should be formatted. For instance, one may wish to insert an integer into a string:"
   ]
  },
  {
   "cell_type": "code",
   "execution_count": 43,
   "metadata": {
    "scrolled": false
   },
   "outputs": [
    {
     "name": "stdout",
     "output_type": "stream",
     "text": [
      "Using %:\n",
      "To be or not 2 be\n",
      "Using format():\n",
      "To be or not 2 be\n"
     ]
    }
   ],
   "source": [
    "message = 2\n",
    "print (\"Using %:\")\n",
    "print (\"To be or not %d be\" % message)\n",
    "# or \n",
    "print (\"Using format():\")\n",
    "print (\"To be or not {} be\".format(message))"
   ]
  },
  {
   "cell_type": "markdown",
   "metadata": {},
   "source": [
    "Another variant of string formating we have illustrated above with the help of `format` string method.\n",
    "\n",
    "Note the `%d` formatting (or conversion) specifier in the string. This is stating that you wish to insert an integer value (more on these conversion specifiers below). Then the value you wish to insert into the string is separated by a `%` character placed after the string. If you wish to insert more than one value into the string being formatted, they can be placed in a comma separated list, surrounded by parentheses after the `%`:"
   ]
  },
  {
   "cell_type": "code",
   "execution_count": 44,
   "metadata": {
    "scrolled": false
   },
   "outputs": [
    {
     "name": "stdout",
     "output_type": "stream",
     "text": [
      "Multiple % formatting:\n",
      "2 be or not 2 be\n"
     ]
    }
   ],
   "source": [
    "print (\"Multiple % formatting:\")\n",
    "print (\"%d be or not %d be\" % (2, 2))"
   ]
  },
  {
   "cell_type": "markdown",
   "metadata": {},
   "source": [
    "In detail, a conversion specifier contains two or more characters which must occur in order with the following components:\n",
    "\n",
    "+ The `%` character which marks the start of the specifier\n",
    "+ An optional minimum field width. The value being read is padded to be at least this width\n",
    "+ An optional precision value, given as a \"`.`\" followed by the number of digits precision. \n",
    "+ Conversion specifier flag, which defines the type of the variable that we are printing (specified below). "
   ]
  },
  {
   "cell_type": "code",
   "execution_count": 45,
   "metadata": {
    "scrolled": false
   },
   "outputs": [
    {
     "name": "stdout",
     "output_type": "stream",
     "text": [
      "Formatting numerical output:\n",
      "Result: 004.35\n",
      "Result:   4.35\n",
      "Result: 4.35\n",
      "Result: 4.3478\n"
     ]
    }
   ],
   "source": [
    "print (\"Formatting numerical output:\")\n",
    "print (\"Result: %06.2f\" % (100.0/23))\n",
    "print (\"Result: %6.2f\" % (100.0/23))\n",
    "print (\"Result: %.2f\" % (100.0/23))\n",
    "print (\"Result: %.4f\" % (100.0/23))"
   ]
  },
  {
   "cell_type": "markdown",
   "metadata": {},
   "source": [
    "Some common conversion flag characters are:\n",
    "\n",
    "+ `d`: Signed integer decimal.\n",
    "+ `i`: Signed integer decimal.\n",
    "+ `e`: Floating point exponential format (lowercase).\n",
    "+ `E`: Floating point exponential format (uppercase).\n",
    "+ `f`: Floating point decimal format.\n",
    "+ `c`: Single character (accepts integer or single character string).\n",
    "+ `r`: String (converts any python object using repr()).\n",
    "+ `s`: String (converts any python object using str())."
   ]
  },
  {
   "cell_type": "code",
   "execution_count": 46,
   "metadata": {
    "scrolled": false
   },
   "outputs": [
    {
     "name": "stdout",
     "output_type": "stream",
     "text": [
      "Conversion flags example:\n",
      "2 be or not 3.333 b\n"
     ]
    }
   ],
   "source": [
    "print (\"Conversion flags example:\")\n",
    "print (\"%d %s or not %04.3f %c\" % (2, \"be\", 10.0/3, 'b'))"
   ]
  },
  {
   "cell_type": "markdown",
   "metadata": {},
   "source": [
    "For a more detailed treatment on string formatting options, see [here](http://docs.python.org/release/2.5.2/lib/typesseq-strings.html)."
   ]
  },
  {
   "cell_type": "markdown",
   "metadata": {},
   "source": [
    "<center><h3>Presented by <a target=\"_blank\" href=\"http://datascience-school.com\">datascience-school.com</a></h3></center>"
   ]
  }
 ],
 "metadata": {
  "anaconda-cloud": {},
  "kernelspec": {
   "display_name": "Python 3",
   "language": "python",
   "name": "python3"
  },
  "language_info": {
   "codemirror_mode": {
    "name": "ipython",
    "version": 3
   },
   "file_extension": ".py",
   "mimetype": "text/x-python",
   "name": "python",
   "nbconvert_exporter": "python",
   "pygments_lexer": "ipython3",
   "version": "3.6.7"
  }
 },
 "nbformat": 4,
 "nbformat_minor": 1
}
