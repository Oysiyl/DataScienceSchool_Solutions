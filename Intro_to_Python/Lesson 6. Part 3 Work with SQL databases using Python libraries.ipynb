{
 "cells": [
  {
   "cell_type": "markdown",
   "metadata": {},
   "source": [
    "---\n",
    "<center><h1>Lesson 6 - SQL with Python. Relational databases</h1></center>\n",
    "---\n",
    "<center><h1>Part 3. Work with SQL databases using Python libraries</h1></center>\n",
    "\n",
    "---"
   ]
  },
  {
   "cell_type": "markdown",
   "metadata": {},
   "source": [
    "# Table of Contents\n",
    "\n",
    "- [Connection to SQLite database using `sqlite3` library](#Connection-to-SQLite-database-using-sqlite3-library)\n",
    "- [Connection to MySQL database using `MySQLdb` library](#Connection-to-MySQL-database-using-MySQLdb-library)\n",
    "- [Interaction of pandas and SQL](#Interaction-of-pandas-and-SQL)\n",
    "     - [*Exercise 3.1*](#Exercise-3.1)\n",
    "     - [*Exercise 3.2*](#Exercise-3.2)\n",
    "     - [*Exercise 3.3*](#Exercise-3.3)\n",
    "     - [*Exercise 3.4*](#Exercise-3.4)\n",
    "     - [*Exercise 3.5*](#Exercise-3.5)\n",
    "---"
   ]
  },
  {
   "cell_type": "markdown",
   "metadata": {},
   "source": [
    "# Connection to SQLite database using `sqlite3` library"
   ]
  },
  {
   "cell_type": "markdown",
   "metadata": {},
   "source": [
    "[[back to top]](#Table-of-Contents)"
   ]
  },
  {
   "cell_type": "markdown",
   "metadata": {},
   "source": [
    "The Python Standard Library includes a module called `sqlite3` intended for working with this database.\n",
    "\n",
    "We use the function `sqlite3.connect` to connect to the database. We can use the argument “:memory:” to create a temporary DB in the RAM or pass the name of a file to open or create it. \n",
    "\n",
    "> **NOTE:** When we are done working with the DB we need to close the connection."
   ]
  },
  {
   "cell_type": "code",
   "execution_count": 1,
   "metadata": {
    "collapsed": false
   },
   "outputs": [
    {
     "name": "stdout",
     "output_type": "stream",
     "text": [
      "Database created and opened succesfully!\n"
     ]
    }
   ],
   "source": [
    "import sqlite3\n",
    "\n",
    "# Get connection to SQLite database\n",
    "try:\n",
    "    # This code creates the database if it doesn't exist, else this opens the database\n",
    "    con = sqlite3.connect('example.db')\n",
    "    print \"Database created and opened succesfully!\"\n",
    "except:\n",
    "    print \"Something went wrong.\""
   ]
  },
  {
   "cell_type": "code",
   "execution_count": 2,
   "metadata": {
    "collapsed": false
   },
   "outputs": [
    {
     "data": {
      "text/plain": [
       "<sqlite3.Cursor at 0x7f1c1426e490>"
      ]
     },
     "execution_count": 2,
     "metadata": {},
     "output_type": "execute_result"
    }
   ],
   "source": [
    "# NOTE: If you have any unexpected errors in this lesson, try to run this cell. It will delete all databases.\n",
    "# And after that run again all cells.\n",
    "con.execute(\"DROP TABLE company;\")"
   ]
  },
  {
   "cell_type": "code",
   "execution_count": 3,
   "metadata": {
    "collapsed": false
   },
   "outputs": [
    {
     "name": "stdout",
     "output_type": "stream",
     "text": [
      "Table created successfully!\n",
      "Records created successfully\n",
      "Connection was interrupted\n"
     ]
    }
   ],
   "source": [
    "# Create a Cursor object for interaction with database\n",
    "cursor = con.cursor()\n",
    "\n",
    "# Create a new table\n",
    "cursor.execute('''CREATE TABLE company\n",
    "        (id INT PRIMARY KEY       NOT NULL,\n",
    "         name           TEXT      NOT NULL,\n",
    "         age            INT       NOT NULL,\n",
    "         address        CHAR(50),\n",
    "         salary         REAL);''')\n",
    "\n",
    "print \"Table created successfully!\"\n",
    "# Insert rows of data\n",
    "cursor.execute(\"INSERT INTO company (id, name, age, address, salary) \\\n",
    "        VALUES (1, 'John', 28, 'California', 25000.00)\");\n",
    "\n",
    "cursor.execute(\"INSERT INTO company (id, name, age, address, salary) \\\n",
    "      VALUES (2, 'Allen', 25, 'California', 150000.00)\");\n",
    "\n",
    "# Save (commit) the changes\n",
    "con.commit()\n",
    "print \"Records created successfully\"\n",
    "\n",
    "# We should also close the connection if we are done with it.\n",
    "# Just be sure any changes have been committed or they will be lost.\n",
    "con.close()\n",
    "print \"Connection was interrupted\""
   ]
  },
  {
   "cell_type": "markdown",
   "metadata": {},
   "source": [
    "Let's open the just created database and insert a few new rows."
   ]
  },
  {
   "cell_type": "code",
   "execution_count": 4,
   "metadata": {
    "collapsed": false
   },
   "outputs": [
    {
     "name": "stdout",
     "output_type": "stream",
     "text": [
      "Database opened succesfully\n",
      "Records created successfully\n"
     ]
    }
   ],
   "source": [
    "con = sqlite3.connect('example.db')\n",
    "print \"Database opened succesfully\"\n",
    "\n",
    "cursor = con.cursor()\n",
    "\n",
    "cursor.execute(\"INSERT INTO company (id, name, age, address, salary) \\\n",
    "      VALUES (3, 'Richard', 33, 'Texas', 60000.00)\");\n",
    "\n",
    "cursor.execute(\"INSERT INTO company (id, name, age, address, salary) \\\n",
    "      VALUES (4, 'Mark', 35, 'New York', 75000.00)\");\n",
    "\n",
    "con.commit()\n",
    "print \"Records created successfully\"\n",
    "con.close()"
   ]
  },
  {
   "cell_type": "markdown",
   "metadata": {},
   "source": [
    "Let's look at database content."
   ]
  },
  {
   "cell_type": "code",
   "execution_count": 5,
   "metadata": {
    "collapsed": false
   },
   "outputs": [
    {
     "name": "stdout",
     "output_type": "stream",
     "text": [
      "ID =  1\n",
      "NAME =  John\n",
      "AGE =  28\n",
      "ADDRESS =  California\n",
      "SALARY =  25000.0 \n",
      "\n",
      "ID =  2\n",
      "NAME =  Allen\n",
      "AGE =  25\n",
      "ADDRESS =  California\n",
      "SALARY =  150000.0 \n",
      "\n",
      "ID =  3\n",
      "NAME =  Richard\n",
      "AGE =  33\n",
      "ADDRESS =  Texas\n",
      "SALARY =  60000.0 \n",
      "\n",
      "ID =  4\n",
      "NAME =  Mark\n",
      "AGE =  35\n",
      "ADDRESS =  New York\n",
      "SALARY =  75000.0 \n",
      "\n"
     ]
    }
   ],
   "source": [
    "con = sqlite3.connect('example.db')\n",
    "\n",
    "# suppose, we want to see all fields \n",
    "cursor = con.execute(\"SELECT * FROM company\")\n",
    "for row in cursor:\n",
    "    print \"ID = \", row[0]\n",
    "    print \"NAME = \", row[1]\n",
    "    print \"AGE = \", row[2]\n",
    "    print \"ADDRESS = \", row[3]\n",
    "    print \"SALARY = \", row[4], \"\\n\"\n",
    "    \n",
    "con.close()"
   ]
  },
  {
   "cell_type": "markdown",
   "metadata": {
    "collapsed": true
   },
   "source": [
    "Let's update one row data and delete another row."
   ]
  },
  {
   "cell_type": "code",
   "execution_count": 6,
   "metadata": {
    "collapsed": false
   },
   "outputs": [
    {
     "name": "stdout",
     "output_type": "stream",
     "text": [
      "Total number of rows updated : 1\n",
      "\n",
      "ID =  1\n",
      "NAME =  John\n",
      "AGE =  28\n",
      "ADDRESS =  California\n",
      "SALARY =  37000.0 \n",
      "\n",
      "ID =  3\n",
      "NAME =  Richard\n",
      "AGE =  33\n",
      "ADDRESS =  Texas\n",
      "SALARY =  60000.0 \n",
      "\n",
      "ID =  4\n",
      "NAME =  Mark\n",
      "AGE =  35\n",
      "ADDRESS =  New York\n",
      "SALARY =  75000.0 \n",
      "\n"
     ]
    }
   ],
   "source": [
    "con = sqlite3.connect('example.db')\n",
    "\n",
    "# Let's change John's salary \n",
    "con.execute(\"UPDATE company SET salary = 37000.00 WHERE id=1;\")\n",
    "con.commit()\n",
    "print \"Total number of rows updated :\", con.total_changes\n",
    "\n",
    "# Let's remove row for Allen \n",
    "con.execute(\"DELETE FROM company WHERE id=2;\")\n",
    "con.commit()\n",
    "\n",
    "cursor = con.execute(\"SELECT * FROM company\")\n",
    "print\n",
    "for row in cursor:\n",
    "    print \"ID = \", row[0]\n",
    "    print \"NAME = \", row[1]\n",
    "    print \"AGE = \", row[2]\n",
    "    print \"ADDRESS = \", row[3]\n",
    "    print \"SALARY = \", row[4], \"\\n\"\n",
    "\n",
    "con.close()"
   ]
  },
  {
   "cell_type": "markdown",
   "metadata": {
    "collapsed": true
   },
   "source": [
    "# Connection to MySQL database using `MySQLdb` library"
   ]
  },
  {
   "cell_type": "markdown",
   "metadata": {},
   "source": [
    "[[back to top]](#Table-of-Contents)"
   ]
  },
  {
   "cell_type": "markdown",
   "metadata": {},
   "source": [
    "Let's create a new MySQL database \"example_db\" with the help of Command Line or Terminal as was described in [MySQL](#MySQL) and [`CREATE DATABASE` and `SHOW DATABASES`](#CREATE-DATABASE-and-SHOW-DATABASES) sections.\n",
    "\n",
    "All other operations with created database including tables’ creation and filling them with data we will do with the help of specific Python library [`MySQLdb`](https://pypi.python.org/pypi/MySQL-python/1.2.5). It is compatible with the Python DB API, which makes the code more portable. Using this model is the preferred way of working with the MySQL.\n",
    "\n",
    "The simplest way to install it is using of pip:\n",
    "\n",
    "    pip install MySQL-python"
   ]
  },
  {
   "cell_type": "code",
   "execution_count": 7,
   "metadata": {
    "collapsed": false
   },
   "outputs": [
    {
     "name": "stdout",
     "output_type": "stream",
     "text": [
      "Succesfully connected to MySQL server!\n"
     ]
    }
   ],
   "source": [
    "import MySQLdb\n",
    "\n",
    "# Get connection to MySQL database\n",
    "try:\n",
    "    con = MySQLdb.connect(\"localhost\", \"root\", \"vagrant\")\n",
    "    print \"Succesfully connected to MySQL server!\"\n",
    "except MySQLdb.Error as e:\n",
    "    print \"Something went wrong. \\nError:\", e"
   ]
  },
  {
   "cell_type": "code",
   "execution_count": 8,
   "metadata": {
    "collapsed": false
   },
   "outputs": [
    {
     "name": "stdout",
     "output_type": "stream",
     "text": [
      "Database was created successfully\n",
      "Database was selected successfully\n",
      "Table created successfully!\n",
      "Records created successfully\n",
      "Connection was interrupted\n"
     ]
    },
    {
     "name": "stderr",
     "output_type": "stream",
     "text": [
      "/usr/local/lib/python2.7/dist-packages/ipykernel/__main__.py:17: Warning: Table 'company' already exists\n"
     ]
    }
   ],
   "source": [
    "# Create a Cursor object for interaction with database\n",
    "cursor = con.cursor()\n",
    "\n",
    "# Crate a new database\n",
    "#cursor.execute(\"CREATE DATABASE example_db;\")\n",
    "print \"Database was created successfully\"\n",
    "\n",
    "# Select a database for future work\n",
    "cursor.execute(\"USE example_db;\")\n",
    "print \"Database was selected successfully\"\n",
    "\n",
    "# Create a new table \n",
    "cursor.execute('''CREATE TABLE IF NOT EXISTS company \n",
    "                  (name VARCHAR(70) NOT NULL, \n",
    "                   age INT NOT NULL, \n",
    "                   address VARCHAR(50),\n",
    "                   salary REAL);''')\n",
    "print \"Table created successfully!\"\n",
    "\n",
    "# Prepare SQL query to INSERT a record into the database.\n",
    "sql = \"INSERT INTO company (name, age, address, salary) \\\n",
    "        VALUES ('John', 28, 'California', 25000.00);\"\n",
    "\n",
    "try:\n",
    "    # Execute the SQL command\n",
    "    cursor.execute(sql)\n",
    "    # Commit your changes in the database\n",
    "    con.commit()\n",
    "    print \"Records created successfully\"\n",
    "except:\n",
    "    # Rollback in case there is any error\n",
    "    print 'Rollback'\n",
    "    con.rollback()\n",
    "\n",
    "# Disconnect from server\n",
    "con.close()\n",
    "print \"Connection was interrupted\""
   ]
  },
  {
   "cell_type": "markdown",
   "metadata": {},
   "source": [
    "* `commit()` is the operation, which gives a green signal to database to finalize the changes, and after this operation, no change can be reverted back;\n",
    "\n",
    "*  if you are not satisfied with one or more of the changes and you want to revert back those changes completely, then use `rollback()` method;\n",
    "\n",
    "* to disconnect database connection, use `close()` method."
   ]
  },
  {
   "cell_type": "markdown",
   "metadata": {},
   "source": [
    "Let's open the just created database and insert a few new rows."
   ]
  },
  {
   "cell_type": "code",
   "execution_count": 9,
   "metadata": {
    "collapsed": false
   },
   "outputs": [
    {
     "name": "stdout",
     "output_type": "stream",
     "text": [
      "Succesfully connected to MySQL server!\n",
      "Records created successfully\n"
     ]
    }
   ],
   "source": [
    "# Now we can set the need database during connection\n",
    "con = MySQLdb.connect(\"localhost\", \"root\", \"vagrant\", \"example_db\")\n",
    "print \"Succesfully connected to MySQL server!\"\n",
    "\n",
    "cursor = con.cursor()\n",
    "\n",
    "sql_1 = \"INSERT INTO company (name, age, address, salary) \\\n",
    "         VALUES ('Allen', 25, 'California', 150000.00);\"\n",
    "\n",
    "sql_2 = \"INSERT INTO company (name, age, address, salary) \\\n",
    "         VALUES ('Richard', 33, 'Texas', 60000.00);\"\n",
    "\n",
    "sql_3 = \"INSERT INTO company (name, age, address, salary) \\\n",
    "         VALUES ('Mark', 35, 'New York', 75000.00);\"\n",
    "\n",
    "try:\n",
    "    cursor.execute(sql_1)\n",
    "    cursor.execute(sql_2)\n",
    "    cursor.execute(sql_3)\n",
    "    con.commit()\n",
    "    print \"Records created successfully\"\n",
    "except:\n",
    "    print 'Rollback'\n",
    "    con.rollback()"
   ]
  },
  {
   "cell_type": "markdown",
   "metadata": {},
   "source": [
    "Let's look at database content."
   ]
  },
  {
   "cell_type": "code",
   "execution_count": 10,
   "metadata": {
    "collapsed": false
   },
   "outputs": [
    {
     "name": "stdout",
     "output_type": "stream",
     "text": [
      "name: John, age: 28, address: California, salary: 128994.5088\n",
      "name: Allen, age: 25, address: California, salary: 773967.0528\n",
      "name: John, age: 28, address: California, salary: 107495.424\n",
      "name: John, age: 28, address: California, salary: 107495.424\n",
      "name: Allen, age: 25, address: California, salary: 644972.544\n",
      "name: John, age: 28, address: California, salary: 89579.52\n",
      "name: Allen, age: 25, address: California, salary: 537477.12\n",
      "name: John, age: 28, address: California, salary: 74649.6\n",
      "name: Allen, age: 25, address: California, salary: 447897.6\n",
      "name: John, age: 28, address: California, salary: 62208.0\n",
      "name: Allen, age: 25, address: California, salary: 373248.0\n",
      "name: John, age: 28, address: California, salary: 51840.0\n",
      "name: Allen, age: 25, address: California, salary: 311040.0\n",
      "name: Allen, age: 25, address: California, salary: 259200.0\n",
      "name: Allen, age: 25, address: California, salary: 216000.0\n",
      "name: Allen, age: 25, address: California, salary: 180000.0\n",
      "name: Allen, age: 25, address: California, salary: 150000.0\n",
      "name: Richard, age: 33, address: Texas, salary: 60000.0\n",
      "name: Mark, age: 35, address: New York, salary: 75000.0\n"
     ]
    }
   ],
   "source": [
    "# Prepare SQL query to extract data from database for printing.\n",
    "# Suppose, we want to see all worker with salary larger then 50 000\n",
    "sql = \"SELECT * FROM company WHERE salary > 50000\"\n",
    "\n",
    "try:\n",
    "    cursor.execute(sql)\n",
    "    results = cursor.fetchall()\n",
    "    for row in results:\n",
    "        name = row[0]\n",
    "        age = row[1]\n",
    "        address = row[2]\n",
    "        salary = row[3]\n",
    "        # Now print fetched result\n",
    "        print \"name: {}, age: {}, address: {}, salary: {}\".format(name, age, address, salary)\n",
    "except:\n",
    "    print \"Error: unable to fecth data\""
   ]
  },
  {
   "cell_type": "markdown",
   "metadata": {},
   "source": [
    "Let's update one row data and delete another row."
   ]
  },
  {
   "cell_type": "code",
   "execution_count": 11,
   "metadata": {
    "collapsed": false
   },
   "outputs": [
    {
     "name": "stdout",
     "output_type": "stream",
     "text": [
      "Records created successfully\n",
      "name: John, age: 28, address: California, salary: 154793.41056\n",
      "name: Allen, age: 25, address: California, salary: 928760.46336\n",
      "name: John, age: 28, address: California, salary: 128994.5088\n",
      "name: John, age: 28, address: California, salary: 128994.5088\n",
      "name: Allen, age: 25, address: California, salary: 773967.0528\n",
      "name: John, age: 28, address: California, salary: 107495.424\n",
      "name: Allen, age: 25, address: California, salary: 644972.544\n",
      "name: John, age: 28, address: California, salary: 89579.52\n",
      "name: Allen, age: 25, address: California, salary: 537477.12\n",
      "name: John, age: 28, address: California, salary: 74649.6\n",
      "name: Allen, age: 25, address: California, salary: 447897.6\n",
      "name: John, age: 28, address: California, salary: 62208.0\n",
      "name: Allen, age: 25, address: California, salary: 373248.0\n",
      "name: John, age: 28, address: California, salary: 51840.0\n",
      "name: Allen, age: 25, address: California, salary: 311040.0\n",
      "name: John, age: 28, address: California, salary: 43200.0\n",
      "name: Allen, age: 25, address: California, salary: 259200.0\n",
      "name: John, age: 28, address: California, salary: 36000.0\n",
      "name: Allen, age: 25, address: California, salary: 216000.0\n",
      "name: John, age: 28, address: California, salary: 30000.0\n",
      "name: Allen, age: 25, address: California, salary: 180000.0\n"
     ]
    }
   ],
   "source": [
    "# Prepare SQL query to UPDATE rows required the following:\n",
    "# increase salary those who are younger 30\n",
    "sql_update = \"UPDATE company SET salary = salary * 1.2 WHERE age < 30;\"\n",
    "  \n",
    "# Prepare SQL query to DELETE rows required the following:\n",
    "# worker does not lieve in California \n",
    "sql_delete = \"DELETE FROM company WHERE address!='California';\"\n",
    "\n",
    "# SQL query for printing\n",
    "sql = \"SELECT * FROM company;\"\n",
    "try:\n",
    "    cursor.execute(sql_update)\n",
    "    cursor.execute(sql_delete)\n",
    "    con.commit()\n",
    "    print \"Records created successfully\"\n",
    "    \n",
    "    try:\n",
    "        cursor.execute(sql)\n",
    "        for row in cursor.fetchall():\n",
    "            print \"name: {}, age: {}, address: {}, salary: {}\".format(row[0], row[1], row[2], row[3])\n",
    "    except:\n",
    "        print \"Error: unable to fecth data\"\n",
    "except:\n",
    "    # Rollback in case there is any error\n",
    "    print 'Rollback'\n",
    "    con.rollback()\n",
    "\n",
    "# Disconnect from server\n",
    "con.close()"
   ]
  },
  {
   "cell_type": "markdown",
   "metadata": {},
   "source": [
    "# Interaction of pandas and SQL"
   ]
  },
  {
   "cell_type": "markdown",
   "metadata": {},
   "source": [
    "[[back to top]](#Table-of-Contents)"
   ]
  },
  {
   "cell_type": "markdown",
   "metadata": {},
   "source": [
    "Using pandas, we can import results of a SQL query into a dataframe.\n",
    "\n",
    "pandas DataFrame’s method `to_sql()` allows to rewrite a DataFrame to the existing SQL database. Moreover, it does no matter if it is SQLite, MySQL or any other SQL database. \n",
    "\n",
    "pandas function `read_sql()` allows convert a SQL table to the DataFrame.\n",
    "\n",
    "Let's read three data files for MovieLens dataset, which have used in a few previous lessons."
   ]
  },
  {
   "cell_type": "code",
   "execution_count": 12,
   "metadata": {
    "collapsed": false
   },
   "outputs": [],
   "source": [
    "import pandas as pd\n",
    "\n",
    "genres = [\n",
    "    'Action', 'Adventure', 'Animation', 'Childrens', 'Comedy', 'Crime', 'Documentary', 'Drama', 'Fantasy',\n",
    "    'Film_Noir', 'Horror', 'Musical', 'Mystery', 'Romance', 'Sci_Fi', 'Thriller', 'War', 'Western'\n",
    "]\n",
    "\n",
    "movies = pd.read_csv('data/u.data', sep='\\t', engine='python', names=['user_id', 'movie_id', 'rating', 'timestamp'])\n",
    "users = pd.read_csv('data/u.user', sep='|', engine='python', names=['user_id', 'age', 'gender', 'occupation', 'zip_code'])\n",
    "items = pd.read_csv('data/u.item', sep='|', engine='python', \n",
    "                        names=['movie_id', 'movie_title', 'release_date', 'video_release_date', 'IMDb_URL', 'unknown'] + genres)\n",
    "\n",
    "# Remove columns with undefined data and empty rows \n",
    "items = items.drop([\"video_release_date\", \"unknown\"], axis=1)\n",
    "\n",
    "# Remove uninformative rows\n",
    "items = items[(items['movie_title'] != 'unknown') | (items['release_date'].notnull())]"
   ]
  },
  {
   "cell_type": "code",
   "execution_count": 13,
   "metadata": {
    "collapsed": false
   },
   "outputs": [
    {
     "name": "stdout",
     "output_type": "stream",
     "text": [
      "100000 rows\n"
     ]
    },
    {
     "data": {
      "text/html": [
       "<div>\n",
       "<table border=\"1\" class=\"dataframe\">\n",
       "  <thead>\n",
       "    <tr style=\"text-align: right;\">\n",
       "      <th></th>\n",
       "      <th>user_id</th>\n",
       "      <th>movie_id</th>\n",
       "      <th>rating</th>\n",
       "      <th>timestamp</th>\n",
       "    </tr>\n",
       "  </thead>\n",
       "  <tbody>\n",
       "    <tr>\n",
       "      <th>0</th>\n",
       "      <td>196</td>\n",
       "      <td>242</td>\n",
       "      <td>3</td>\n",
       "      <td>881250949</td>\n",
       "    </tr>\n",
       "    <tr>\n",
       "      <th>1</th>\n",
       "      <td>186</td>\n",
       "      <td>302</td>\n",
       "      <td>3</td>\n",
       "      <td>891717742</td>\n",
       "    </tr>\n",
       "    <tr>\n",
       "      <th>2</th>\n",
       "      <td>22</td>\n",
       "      <td>377</td>\n",
       "      <td>1</td>\n",
       "      <td>878887116</td>\n",
       "    </tr>\n",
       "    <tr>\n",
       "      <th>3</th>\n",
       "      <td>244</td>\n",
       "      <td>51</td>\n",
       "      <td>2</td>\n",
       "      <td>880606923</td>\n",
       "    </tr>\n",
       "    <tr>\n",
       "      <th>4</th>\n",
       "      <td>166</td>\n",
       "      <td>346</td>\n",
       "      <td>1</td>\n",
       "      <td>886397596</td>\n",
       "    </tr>\n",
       "  </tbody>\n",
       "</table>\n",
       "</div>"
      ],
      "text/plain": [
       "   user_id  movie_id  rating  timestamp\n",
       "0      196       242       3  881250949\n",
       "1      186       302       3  891717742\n",
       "2       22       377       1  878887116\n",
       "3      244        51       2  880606923\n",
       "4      166       346       1  886397596"
      ]
     },
     "execution_count": 13,
     "metadata": {},
     "output_type": "execute_result"
    }
   ],
   "source": [
    "print movies.shape[0], \"rows\"\n",
    "movies.head()"
   ]
  },
  {
   "cell_type": "code",
   "execution_count": 14,
   "metadata": {
    "collapsed": false
   },
   "outputs": [
    {
     "name": "stdout",
     "output_type": "stream",
     "text": [
      "943 rows\n"
     ]
    },
    {
     "data": {
      "text/html": [
       "<div>\n",
       "<table border=\"1\" class=\"dataframe\">\n",
       "  <thead>\n",
       "    <tr style=\"text-align: right;\">\n",
       "      <th></th>\n",
       "      <th>user_id</th>\n",
       "      <th>age</th>\n",
       "      <th>gender</th>\n",
       "      <th>occupation</th>\n",
       "      <th>zip_code</th>\n",
       "    </tr>\n",
       "  </thead>\n",
       "  <tbody>\n",
       "    <tr>\n",
       "      <th>0</th>\n",
       "      <td>1</td>\n",
       "      <td>24</td>\n",
       "      <td>M</td>\n",
       "      <td>technician</td>\n",
       "      <td>85711</td>\n",
       "    </tr>\n",
       "    <tr>\n",
       "      <th>1</th>\n",
       "      <td>2</td>\n",
       "      <td>53</td>\n",
       "      <td>F</td>\n",
       "      <td>other</td>\n",
       "      <td>94043</td>\n",
       "    </tr>\n",
       "    <tr>\n",
       "      <th>2</th>\n",
       "      <td>3</td>\n",
       "      <td>23</td>\n",
       "      <td>M</td>\n",
       "      <td>writer</td>\n",
       "      <td>32067</td>\n",
       "    </tr>\n",
       "    <tr>\n",
       "      <th>3</th>\n",
       "      <td>4</td>\n",
       "      <td>24</td>\n",
       "      <td>M</td>\n",
       "      <td>technician</td>\n",
       "      <td>43537</td>\n",
       "    </tr>\n",
       "    <tr>\n",
       "      <th>4</th>\n",
       "      <td>5</td>\n",
       "      <td>33</td>\n",
       "      <td>F</td>\n",
       "      <td>other</td>\n",
       "      <td>15213</td>\n",
       "    </tr>\n",
       "  </tbody>\n",
       "</table>\n",
       "</div>"
      ],
      "text/plain": [
       "   user_id  age gender  occupation zip_code\n",
       "0        1   24      M  technician    85711\n",
       "1        2   53      F       other    94043\n",
       "2        3   23      M      writer    32067\n",
       "3        4   24      M  technician    43537\n",
       "4        5   33      F       other    15213"
      ]
     },
     "execution_count": 14,
     "metadata": {},
     "output_type": "execute_result"
    }
   ],
   "source": [
    "print users.shape[0], \"rows\"\n",
    "users.head()"
   ]
  },
  {
   "cell_type": "code",
   "execution_count": 15,
   "metadata": {
    "collapsed": false
   },
   "outputs": [
    {
     "name": "stdout",
     "output_type": "stream",
     "text": [
      "1681 rows\n"
     ]
    },
    {
     "data": {
      "text/html": [
       "<div>\n",
       "<table border=\"1\" class=\"dataframe\">\n",
       "  <thead>\n",
       "    <tr style=\"text-align: right;\">\n",
       "      <th></th>\n",
       "      <th>movie_id</th>\n",
       "      <th>movie_title</th>\n",
       "      <th>release_date</th>\n",
       "      <th>IMDb_URL</th>\n",
       "      <th>Action</th>\n",
       "      <th>Adventure</th>\n",
       "      <th>Animation</th>\n",
       "      <th>Childrens</th>\n",
       "      <th>Comedy</th>\n",
       "      <th>Crime</th>\n",
       "      <th>...</th>\n",
       "      <th>Fantasy</th>\n",
       "      <th>Film_Noir</th>\n",
       "      <th>Horror</th>\n",
       "      <th>Musical</th>\n",
       "      <th>Mystery</th>\n",
       "      <th>Romance</th>\n",
       "      <th>Sci_Fi</th>\n",
       "      <th>Thriller</th>\n",
       "      <th>War</th>\n",
       "      <th>Western</th>\n",
       "    </tr>\n",
       "  </thead>\n",
       "  <tbody>\n",
       "    <tr>\n",
       "      <th>0</th>\n",
       "      <td>1</td>\n",
       "      <td>Toy Story (1995)</td>\n",
       "      <td>01-Jan-1995</td>\n",
       "      <td>http://us.imdb.com/M/title-exact?Toy%20Story%2...</td>\n",
       "      <td>0</td>\n",
       "      <td>0</td>\n",
       "      <td>1</td>\n",
       "      <td>1</td>\n",
       "      <td>1</td>\n",
       "      <td>0</td>\n",
       "      <td>...</td>\n",
       "      <td>0</td>\n",
       "      <td>0</td>\n",
       "      <td>0</td>\n",
       "      <td>0</td>\n",
       "      <td>0</td>\n",
       "      <td>0</td>\n",
       "      <td>0</td>\n",
       "      <td>0</td>\n",
       "      <td>0</td>\n",
       "      <td>0</td>\n",
       "    </tr>\n",
       "    <tr>\n",
       "      <th>1</th>\n",
       "      <td>2</td>\n",
       "      <td>GoldenEye (1995)</td>\n",
       "      <td>01-Jan-1995</td>\n",
       "      <td>http://us.imdb.com/M/title-exact?GoldenEye%20(...</td>\n",
       "      <td>1</td>\n",
       "      <td>1</td>\n",
       "      <td>0</td>\n",
       "      <td>0</td>\n",
       "      <td>0</td>\n",
       "      <td>0</td>\n",
       "      <td>...</td>\n",
       "      <td>0</td>\n",
       "      <td>0</td>\n",
       "      <td>0</td>\n",
       "      <td>0</td>\n",
       "      <td>0</td>\n",
       "      <td>0</td>\n",
       "      <td>0</td>\n",
       "      <td>1</td>\n",
       "      <td>0</td>\n",
       "      <td>0</td>\n",
       "    </tr>\n",
       "    <tr>\n",
       "      <th>2</th>\n",
       "      <td>3</td>\n",
       "      <td>Four Rooms (1995)</td>\n",
       "      <td>01-Jan-1995</td>\n",
       "      <td>http://us.imdb.com/M/title-exact?Four%20Rooms%...</td>\n",
       "      <td>0</td>\n",
       "      <td>0</td>\n",
       "      <td>0</td>\n",
       "      <td>0</td>\n",
       "      <td>0</td>\n",
       "      <td>0</td>\n",
       "      <td>...</td>\n",
       "      <td>0</td>\n",
       "      <td>0</td>\n",
       "      <td>0</td>\n",
       "      <td>0</td>\n",
       "      <td>0</td>\n",
       "      <td>0</td>\n",
       "      <td>0</td>\n",
       "      <td>1</td>\n",
       "      <td>0</td>\n",
       "      <td>0</td>\n",
       "    </tr>\n",
       "    <tr>\n",
       "      <th>3</th>\n",
       "      <td>4</td>\n",
       "      <td>Get Shorty (1995)</td>\n",
       "      <td>01-Jan-1995</td>\n",
       "      <td>http://us.imdb.com/M/title-exact?Get%20Shorty%...</td>\n",
       "      <td>1</td>\n",
       "      <td>0</td>\n",
       "      <td>0</td>\n",
       "      <td>0</td>\n",
       "      <td>1</td>\n",
       "      <td>0</td>\n",
       "      <td>...</td>\n",
       "      <td>0</td>\n",
       "      <td>0</td>\n",
       "      <td>0</td>\n",
       "      <td>0</td>\n",
       "      <td>0</td>\n",
       "      <td>0</td>\n",
       "      <td>0</td>\n",
       "      <td>0</td>\n",
       "      <td>0</td>\n",
       "      <td>0</td>\n",
       "    </tr>\n",
       "    <tr>\n",
       "      <th>4</th>\n",
       "      <td>5</td>\n",
       "      <td>Copycat (1995)</td>\n",
       "      <td>01-Jan-1995</td>\n",
       "      <td>http://us.imdb.com/M/title-exact?Copycat%20(1995)</td>\n",
       "      <td>0</td>\n",
       "      <td>0</td>\n",
       "      <td>0</td>\n",
       "      <td>0</td>\n",
       "      <td>0</td>\n",
       "      <td>1</td>\n",
       "      <td>...</td>\n",
       "      <td>0</td>\n",
       "      <td>0</td>\n",
       "      <td>0</td>\n",
       "      <td>0</td>\n",
       "      <td>0</td>\n",
       "      <td>0</td>\n",
       "      <td>0</td>\n",
       "      <td>1</td>\n",
       "      <td>0</td>\n",
       "      <td>0</td>\n",
       "    </tr>\n",
       "  </tbody>\n",
       "</table>\n",
       "<p>5 rows × 22 columns</p>\n",
       "</div>"
      ],
      "text/plain": [
       "   movie_id        movie_title release_date  \\\n",
       "0         1   Toy Story (1995)  01-Jan-1995   \n",
       "1         2   GoldenEye (1995)  01-Jan-1995   \n",
       "2         3  Four Rooms (1995)  01-Jan-1995   \n",
       "3         4  Get Shorty (1995)  01-Jan-1995   \n",
       "4         5     Copycat (1995)  01-Jan-1995   \n",
       "\n",
       "                                            IMDb_URL  Action  Adventure  \\\n",
       "0  http://us.imdb.com/M/title-exact?Toy%20Story%2...       0          0   \n",
       "1  http://us.imdb.com/M/title-exact?GoldenEye%20(...       1          1   \n",
       "2  http://us.imdb.com/M/title-exact?Four%20Rooms%...       0          0   \n",
       "3  http://us.imdb.com/M/title-exact?Get%20Shorty%...       1          0   \n",
       "4  http://us.imdb.com/M/title-exact?Copycat%20(1995)       0          0   \n",
       "\n",
       "   Animation  Childrens  Comedy  Crime   ...     Fantasy  Film_Noir  Horror  \\\n",
       "0          1          1       1      0   ...           0          0       0   \n",
       "1          0          0       0      0   ...           0          0       0   \n",
       "2          0          0       0      0   ...           0          0       0   \n",
       "3          0          0       1      0   ...           0          0       0   \n",
       "4          0          0       0      1   ...           0          0       0   \n",
       "\n",
       "   Musical  Mystery  Romance  Sci_Fi  Thriller  War  Western  \n",
       "0        0        0        0       0         0    0        0  \n",
       "1        0        0        0       0         1    0        0  \n",
       "2        0        0        0       0         1    0        0  \n",
       "3        0        0        0       0         0    0        0  \n",
       "4        0        0        0       0         1    0        0  \n",
       "\n",
       "[5 rows x 22 columns]"
      ]
     },
     "execution_count": 15,
     "metadata": {},
     "output_type": "execute_result"
    }
   ],
   "source": [
    "print items.shape[0], \"rows\"\n",
    "items.head()"
   ]
  },
  {
   "cell_type": "markdown",
   "metadata": {},
   "source": [
    "Now we will save `movie` DataFrame as MySQL table to the `example_db` database created on the previous steps."
   ]
  },
  {
   "cell_type": "code",
   "execution_count": 16,
   "metadata": {
    "collapsed": false
   },
   "outputs": [
    {
     "name": "stderr",
     "output_type": "stream",
     "text": [
      "/usr/local/lib/python2.7/dist-packages/pandas/core/generic.py:1160: FutureWarning: The 'mysql' flavor with DBAPI connection is deprecated and will be removed in future versions. MySQL will be further supported with SQLAlchemy connectables.\n",
      "  chunksize=chunksize, dtype=dtype)\n"
     ]
    },
    {
     "name": "stdout",
     "output_type": "stream",
     "text": [
      "(196L, 242L, 3L, 881250949L)\n",
      "(186L, 302L, 3L, 891717742L)\n",
      "(22L, 377L, 1L, 878887116L)\n",
      "(244L, 51L, 2L, 880606923L)\n",
      "(166L, 346L, 1L, 886397596L)\n"
     ]
    }
   ],
   "source": [
    "con = MySQLdb.connect(\"localhost\", \"root\", \"vagrant\", \"example_db\")\n",
    "\n",
    "# Create a new table `movies`\n",
    "movies.to_sql(con=con,               # Current connection\n",
    "              name='movies',         # Table name\n",
    "              if_exists='replace',   # `if_exists` defines what you want to do if the tabe exists:\n",
    "                                     # `fail`: If table exists, do nothing\n",
    "                                     # `replace`: If table exists, drop it, recreate it, and insert data\n",
    "                                     # `append`: If table exists, insert data. Create if does not exist\n",
    "              flavor='mysql',        # The flavor of SQL to use,  default ‘sqlite’\n",
    "              index=False            # Don't write DataFrame index as a column to the SQL table\n",
    "             )\n",
    "# Read first 5 records of just created table\n",
    "cursor = con.cursor()\n",
    "sql = \"SELECT * FROM movies LIMIT 5\"\n",
    "\n",
    "try:\n",
    "    cursor.execute(sql)\n",
    "    results = cursor.fetchall()\n",
    "    for row in results:\n",
    "        print row\n",
    "except:\n",
    "    print \"Error: unable to fecth data\"\n",
    "    # Rollback in case there is any error\n",
    "    print 'Rollback'\n",
    "    con.rollback()\n",
    "# Disconnect from server\n",
    "con.close()"
   ]
  },
  {
   "cell_type": "markdown",
   "metadata": {},
   "source": [
    "> ### Exercise 3.1:\n",
    "\n",
    "> Create two new tables `users` and `items` for respective DataFrames in the way shown above. If you have the problems with 'IMDb_URL' column writting to the database, you may simply drop it."
   ]
  },
  {
   "cell_type": "code",
   "execution_count": 17,
   "metadata": {
    "collapsed": false
   },
   "outputs": [
    {
     "name": "stdout",
     "output_type": "stream",
     "text": [
      "(1L, 24L, 'M', 'technician', '85711')\n",
      "(2L, 53L, 'F', 'other', '94043')\n",
      "(3L, 23L, 'M', 'writer', '32067')\n",
      "(4L, 24L, 'M', 'technician', '43537')\n",
      "(5L, 33L, 'F', 'other', '15213')\n",
      "   movie_id        movie_title release_date  Action  Adventure  Animation  \\\n",
      "0         1   Toy Story (1995)  01-Jan-1995       0          0          1   \n",
      "1         2   GoldenEye (1995)  01-Jan-1995       1          1          0   \n",
      "2         3  Four Rooms (1995)  01-Jan-1995       0          0          0   \n",
      "3         4  Get Shorty (1995)  01-Jan-1995       1          0          0   \n",
      "4         5     Copycat (1995)  01-Jan-1995       0          0          0   \n",
      "\n",
      "   Childrens  Comedy  Crime  Documentary   ...     Fantasy  Film_Noir  Horror  \\\n",
      "0          1       1      0            0   ...           0          0       0   \n",
      "1          0       0      0            0   ...           0          0       0   \n",
      "2          0       0      0            0   ...           0          0       0   \n",
      "3          0       1      0            0   ...           0          0       0   \n",
      "4          0       0      1            0   ...           0          0       0   \n",
      "\n",
      "   Musical  Mystery  Romance  Sci_Fi  Thriller  War  Western  \n",
      "0        0        0        0       0         0    0        0  \n",
      "1        0        0        0       0         1    0        0  \n",
      "2        0        0        0       0         1    0        0  \n",
      "3        0        0        0       0         0    0        0  \n",
      "4        0        0        0       0         1    0        0  \n",
      "\n",
      "[5 rows x 21 columns]\n",
      "(1L, 'Toy Story (1995)', '01-Jan-1995', 0L, 0L, 1L, 1L, 1L, 0L, 0L, 0L, 0L, 0L, 0L, 0L, 0L, 0L, 0L, 0L, 0L, 0L)\n",
      "(2L, 'GoldenEye (1995)', '01-Jan-1995', 1L, 1L, 0L, 0L, 0L, 0L, 0L, 0L, 0L, 0L, 0L, 0L, 0L, 0L, 0L, 1L, 0L, 0L)\n",
      "(3L, 'Four Rooms (1995)', '01-Jan-1995', 0L, 0L, 0L, 0L, 0L, 0L, 0L, 0L, 0L, 0L, 0L, 0L, 0L, 0L, 0L, 1L, 0L, 0L)\n",
      "(4L, 'Get Shorty (1995)', '01-Jan-1995', 1L, 0L, 0L, 0L, 1L, 0L, 0L, 1L, 0L, 0L, 0L, 0L, 0L, 0L, 0L, 0L, 0L, 0L)\n",
      "(5L, 'Copycat (1995)', '01-Jan-1995', 0L, 0L, 0L, 0L, 0L, 1L, 0L, 1L, 0L, 0L, 0L, 0L, 0L, 0L, 0L, 1L, 0L, 0L)\n"
     ]
    },
    {
     "name": "stderr",
     "output_type": "stream",
     "text": [
      "/usr/local/lib/python2.7/dist-packages/pandas/io/sql.py:1441: Warning: Data truncated for column 'movie_title' at row 473\n",
      "  conn.executemany(self.insert_statement(), data_list)\n",
      "/usr/local/lib/python2.7/dist-packages/pandas/io/sql.py:1441: Warning: Data truncated for column 'movie_title' at row 579\n",
      "  conn.executemany(self.insert_statement(), data_list)\n",
      "/usr/local/lib/python2.7/dist-packages/pandas/io/sql.py:1441: Warning: Data truncated for column 'movie_title' at row 637\n",
      "  conn.executemany(self.insert_statement(), data_list)\n",
      "/usr/local/lib/python2.7/dist-packages/pandas/io/sql.py:1441: Warning: Data truncated for column 'movie_title' at row 862\n",
      "  conn.executemany(self.insert_statement(), data_list)\n",
      "/usr/local/lib/python2.7/dist-packages/pandas/io/sql.py:1441: Warning: Data truncated for column 'movie_title' at row 1004\n",
      "  conn.executemany(self.insert_statement(), data_list)\n",
      "/usr/local/lib/python2.7/dist-packages/pandas/io/sql.py:1441: Warning: Data truncated for column 'movie_title' at row 1058\n",
      "  conn.executemany(self.insert_statement(), data_list)\n",
      "/usr/local/lib/python2.7/dist-packages/pandas/io/sql.py:1441: Warning: Data truncated for column 'movie_title' at row 1120\n",
      "  conn.executemany(self.insert_statement(), data_list)\n",
      "/usr/local/lib/python2.7/dist-packages/pandas/io/sql.py:1441: Warning: Data truncated for column 'movie_title' at row 1241\n",
      "  conn.executemany(self.insert_statement(), data_list)\n",
      "/usr/local/lib/python2.7/dist-packages/pandas/io/sql.py:1441: Warning: Data truncated for column 'movie_title' at row 1331\n",
      "  conn.executemany(self.insert_statement(), data_list)\n"
     ]
    }
   ],
   "source": [
    "# type your code here\n",
    "con = MySQLdb.connect(\"localhost\", \"root\", \"vagrant\", \"example_db\")\n",
    "\n",
    "# Create a new table `users`\n",
    "users.to_sql(con=con,               # Current connection\n",
    "              name='users',         # Table name\n",
    "              if_exists='replace',   # `if_exists` defines what you want to do if the tabe exists:\n",
    "                                     # `fail`: If table exists, do nothing\n",
    "                                     # `replace`: If table exists, drop it, recreate it, and insert data\n",
    "                                     # `append`: If table exists, insert data. Create if does not exist\n",
    "              flavor='mysql',        # The flavor of SQL to use,  default ‘sqlite’\n",
    "              index=False            # Don't write DataFrame index as a column to the SQL table\n",
    "             )\n",
    "# Read first 5 records of just created table\n",
    "cursor = con.cursor()\n",
    "sql = \"SELECT * FROM users LIMIT 5\"\n",
    "\n",
    "try:\n",
    "    cursor.execute(sql)\n",
    "    results = cursor.fetchall()\n",
    "    for row in results:\n",
    "        print row\n",
    "except:\n",
    "    print \"Error: unable to fecth data\"\n",
    "    # Rollback in case there is any error\n",
    "    print 'Rollback'\n",
    "    con.rollback()\n",
    "# Disconnect from server\n",
    "con.close()\n",
    "con = MySQLdb.connect(\"localhost\", \"root\", \"vagrant\", \"example_db\")\n",
    "items = items.drop('IMDb_URL',axis=1)\n",
    "print(items.head(5))\n",
    "# Create a new table `items`\n",
    "items.to_sql(con=con,               # Current connection\n",
    "              name='items',         # Table name\n",
    "              if_exists='replace',   # `if_exists` defines what you want to do if the tabe exists:\n",
    "                                     # `fail`: If table exists, do nothing\n",
    "                                     # `replace`: If table exists, drop it, recreate it, and insert data\n",
    "                                     # `append`: If table exists, insert data. Create if does not exist\n",
    "              flavor='mysql',        # The flavor of SQL to use,  default ‘sqlite’\n",
    "              index=False            # Don't write DataFrame index as a column to the SQL table\n",
    "             )\n",
    "# Read first 5 records of just created table\n",
    "cursor = con.cursor()\n",
    "sql = \"SELECT * FROM items LIMIT 5\"\n",
    "\n",
    "try:\n",
    "    cursor.execute(sql)\n",
    "    results = cursor.fetchall()\n",
    "    for row in results:\n",
    "        print row\n",
    "except:\n",
    "    print \"Error: unable to fecth data\"\n",
    "    # Rollback in case there is any error\n",
    "    print 'Rollback'\n",
    "    con.rollback()\n",
    "# Disconnect from server\n",
    "#con.close()"
   ]
  },
  {
   "cell_type": "code",
   "execution_count": 18,
   "metadata": {
    "collapsed": false
   },
   "outputs": [
    {
     "name": "stdout",
     "output_type": "stream",
     "text": [
      "1 test passed. Exercise 3.1 is successful\n"
     ]
    }
   ],
   "source": [
    "from test_helper import Test\n",
    "\n",
    "result = cursor.execute('SELECT movie_id FROM items') + cursor.execute('SELECT user_id FROM users')\n",
    "Test.assertEqualsHashed(result, 'ef899d5268da6f195ca97b123df5f0e66082be4d', 'Incorrect sql query', \"Exercise 3.1 is successful\")"
   ]
  },
  {
   "cell_type": "markdown",
   "metadata": {},
   "source": [
    "To convert a SQL table to pandas DataFrame you may use `read_sql` function, that has two argument: SQL query and connection.  "
   ]
  },
  {
   "cell_type": "code",
   "execution_count": 19,
   "metadata": {
    "collapsed": false
   },
   "outputs": [
    {
     "name": "stdout",
     "output_type": "stream",
     "text": [
      "943 rows\n"
     ]
    },
    {
     "data": {
      "text/html": [
       "<div>\n",
       "<table border=\"1\" class=\"dataframe\">\n",
       "  <thead>\n",
       "    <tr style=\"text-align: right;\">\n",
       "      <th></th>\n",
       "      <th>user_id</th>\n",
       "      <th>movie_id</th>\n",
       "      <th>rating</th>\n",
       "      <th>timestamp</th>\n",
       "    </tr>\n",
       "  </thead>\n",
       "  <tbody>\n",
       "    <tr>\n",
       "      <th>0</th>\n",
       "      <td>1</td>\n",
       "      <td>61</td>\n",
       "      <td>4</td>\n",
       "      <td>878542420</td>\n",
       "    </tr>\n",
       "    <tr>\n",
       "      <th>1</th>\n",
       "      <td>2</td>\n",
       "      <td>292</td>\n",
       "      <td>4</td>\n",
       "      <td>888550774</td>\n",
       "    </tr>\n",
       "    <tr>\n",
       "      <th>2</th>\n",
       "      <td>3</td>\n",
       "      <td>335</td>\n",
       "      <td>1</td>\n",
       "      <td>889237269</td>\n",
       "    </tr>\n",
       "    <tr>\n",
       "      <th>3</th>\n",
       "      <td>4</td>\n",
       "      <td>264</td>\n",
       "      <td>3</td>\n",
       "      <td>892004275</td>\n",
       "    </tr>\n",
       "    <tr>\n",
       "      <th>4</th>\n",
       "      <td>5</td>\n",
       "      <td>2</td>\n",
       "      <td>3</td>\n",
       "      <td>875636053</td>\n",
       "    </tr>\n",
       "  </tbody>\n",
       "</table>\n",
       "</div>"
      ],
      "text/plain": [
       "   user_id  movie_id  rating  timestamp\n",
       "0        1        61       4  878542420\n",
       "1        2       292       4  888550774\n",
       "2        3       335       1  889237269\n",
       "3        4       264       3  892004275\n",
       "4        5         2       3  875636053"
      ]
     },
     "execution_count": 19,
     "metadata": {},
     "output_type": "execute_result"
    }
   ],
   "source": [
    "df = pd.read_sql(\"SELECT * FROM movies GROUP BY user_id ORDER BY user_id\", con)\n",
    "\n",
    "print df.shape[0], \"rows\"\n",
    "df.head()"
   ]
  },
  {
   "cell_type": "markdown",
   "metadata": {},
   "source": [
    "> ### Exercise 3.2:\n",
    "\n",
    "> Using SQL join commands join tables `movies` and `users` by the common field `user_id`. After that join the obtained table with `items` table by the common field `movie_id`. In the result you must to get the same table (let's call it `full`) which we have worked in the lesson **Lesson 2 - Basic intro into pandas** with (the same records amount)."
   ]
  },
  {
   "cell_type": "code",
   "execution_count": 20,
   "metadata": {
    "collapsed": false
   },
   "outputs": [
    {
     "name": "stdout",
     "output_type": "stream",
     "text": [
      "(100000, 943, 1681, 99991)\n",
      "   user_id  movie_id  rating  timestamp  age gender  occupation zip_code  \\\n",
      "0      196       242       3  881250949   49      M      writer    55105   \n",
      "1      305       242       5  886307828   23      M  programmer    94086   \n",
      "2        6       242       4  883268170   42      M   executive    98101   \n",
      "3      234       242       4  891033261   60      M     retired    94702   \n",
      "4       63       242       3  875747190   31      M   marketing    75240   \n",
      "\n",
      "    movie_title release_date   ...     Fantasy  Film_Noir  Horror  Musical  \\\n",
      "0  Kolya (1996)  24-Jan-1997   ...           0          0       0        0   \n",
      "1  Kolya (1996)  24-Jan-1997   ...           0          0       0        0   \n",
      "2  Kolya (1996)  24-Jan-1997   ...           0          0       0        0   \n",
      "3  Kolya (1996)  24-Jan-1997   ...           0          0       0        0   \n",
      "4  Kolya (1996)  24-Jan-1997   ...           0          0       0        0   \n",
      "\n",
      "   Mystery  Romance  Sci_Fi  Thriller  War  Western  \n",
      "0        0        0       0         0    0        0  \n",
      "1        0        0       0         0    0        0  \n",
      "2        0        0       0         0    0        0  \n",
      "3        0        0       0         0    0        0  \n",
      "4        0        0       0         0    0        0  \n",
      "\n",
      "[5 rows x 28 columns]\n"
     ]
    },
    {
     "data": {
      "text/html": [
       "<div>\n",
       "<table border=\"1\" class=\"dataframe\">\n",
       "  <thead>\n",
       "    <tr style=\"text-align: right;\">\n",
       "      <th></th>\n",
       "      <th>user_id</th>\n",
       "      <th>movie_id</th>\n",
       "      <th>rating</th>\n",
       "      <th>timestamp</th>\n",
       "      <th>age</th>\n",
       "      <th>gender</th>\n",
       "      <th>occupation</th>\n",
       "      <th>zip_code</th>\n",
       "      <th>movie_title</th>\n",
       "      <th>release_date</th>\n",
       "      <th>...</th>\n",
       "      <th>Fantasy</th>\n",
       "      <th>Film_Noir</th>\n",
       "      <th>Horror</th>\n",
       "      <th>Musical</th>\n",
       "      <th>Mystery</th>\n",
       "      <th>Romance</th>\n",
       "      <th>Sci_Fi</th>\n",
       "      <th>Thriller</th>\n",
       "      <th>War</th>\n",
       "      <th>Western</th>\n",
       "    </tr>\n",
       "  </thead>\n",
       "  <tbody>\n",
       "    <tr>\n",
       "      <th>0</th>\n",
       "      <td>196</td>\n",
       "      <td>242</td>\n",
       "      <td>3</td>\n",
       "      <td>881250949</td>\n",
       "      <td>49</td>\n",
       "      <td>M</td>\n",
       "      <td>writer</td>\n",
       "      <td>55105</td>\n",
       "      <td>Kolya (1996)</td>\n",
       "      <td>24-Jan-1997</td>\n",
       "      <td>...</td>\n",
       "      <td>0</td>\n",
       "      <td>0</td>\n",
       "      <td>0</td>\n",
       "      <td>0</td>\n",
       "      <td>0</td>\n",
       "      <td>0</td>\n",
       "      <td>0</td>\n",
       "      <td>0</td>\n",
       "      <td>0</td>\n",
       "      <td>0</td>\n",
       "    </tr>\n",
       "    <tr>\n",
       "      <th>1</th>\n",
       "      <td>305</td>\n",
       "      <td>242</td>\n",
       "      <td>5</td>\n",
       "      <td>886307828</td>\n",
       "      <td>23</td>\n",
       "      <td>M</td>\n",
       "      <td>programmer</td>\n",
       "      <td>94086</td>\n",
       "      <td>Kolya (1996)</td>\n",
       "      <td>24-Jan-1997</td>\n",
       "      <td>...</td>\n",
       "      <td>0</td>\n",
       "      <td>0</td>\n",
       "      <td>0</td>\n",
       "      <td>0</td>\n",
       "      <td>0</td>\n",
       "      <td>0</td>\n",
       "      <td>0</td>\n",
       "      <td>0</td>\n",
       "      <td>0</td>\n",
       "      <td>0</td>\n",
       "    </tr>\n",
       "    <tr>\n",
       "      <th>2</th>\n",
       "      <td>6</td>\n",
       "      <td>242</td>\n",
       "      <td>4</td>\n",
       "      <td>883268170</td>\n",
       "      <td>42</td>\n",
       "      <td>M</td>\n",
       "      <td>executive</td>\n",
       "      <td>98101</td>\n",
       "      <td>Kolya (1996)</td>\n",
       "      <td>24-Jan-1997</td>\n",
       "      <td>...</td>\n",
       "      <td>0</td>\n",
       "      <td>0</td>\n",
       "      <td>0</td>\n",
       "      <td>0</td>\n",
       "      <td>0</td>\n",
       "      <td>0</td>\n",
       "      <td>0</td>\n",
       "      <td>0</td>\n",
       "      <td>0</td>\n",
       "      <td>0</td>\n",
       "    </tr>\n",
       "    <tr>\n",
       "      <th>3</th>\n",
       "      <td>234</td>\n",
       "      <td>242</td>\n",
       "      <td>4</td>\n",
       "      <td>891033261</td>\n",
       "      <td>60</td>\n",
       "      <td>M</td>\n",
       "      <td>retired</td>\n",
       "      <td>94702</td>\n",
       "      <td>Kolya (1996)</td>\n",
       "      <td>24-Jan-1997</td>\n",
       "      <td>...</td>\n",
       "      <td>0</td>\n",
       "      <td>0</td>\n",
       "      <td>0</td>\n",
       "      <td>0</td>\n",
       "      <td>0</td>\n",
       "      <td>0</td>\n",
       "      <td>0</td>\n",
       "      <td>0</td>\n",
       "      <td>0</td>\n",
       "      <td>0</td>\n",
       "    </tr>\n",
       "    <tr>\n",
       "      <th>4</th>\n",
       "      <td>63</td>\n",
       "      <td>242</td>\n",
       "      <td>3</td>\n",
       "      <td>875747190</td>\n",
       "      <td>31</td>\n",
       "      <td>M</td>\n",
       "      <td>marketing</td>\n",
       "      <td>75240</td>\n",
       "      <td>Kolya (1996)</td>\n",
       "      <td>24-Jan-1997</td>\n",
       "      <td>...</td>\n",
       "      <td>0</td>\n",
       "      <td>0</td>\n",
       "      <td>0</td>\n",
       "      <td>0</td>\n",
       "      <td>0</td>\n",
       "      <td>0</td>\n",
       "      <td>0</td>\n",
       "      <td>0</td>\n",
       "      <td>0</td>\n",
       "      <td>0</td>\n",
       "    </tr>\n",
       "  </tbody>\n",
       "</table>\n",
       "<p>5 rows × 28 columns</p>\n",
       "</div>"
      ],
      "text/plain": [
       "   user_id  movie_id  rating  timestamp  age gender  occupation zip_code  \\\n",
       "0      196       242       3  881250949   49      M      writer    55105   \n",
       "1      305       242       5  886307828   23      M  programmer    94086   \n",
       "2        6       242       4  883268170   42      M   executive    98101   \n",
       "3      234       242       4  891033261   60      M     retired    94702   \n",
       "4       63       242       3  875747190   31      M   marketing    75240   \n",
       "\n",
       "    movie_title release_date   ...     Fantasy  Film_Noir  Horror  Musical  \\\n",
       "0  Kolya (1996)  24-Jan-1997   ...           0          0       0        0   \n",
       "1  Kolya (1996)  24-Jan-1997   ...           0          0       0        0   \n",
       "2  Kolya (1996)  24-Jan-1997   ...           0          0       0        0   \n",
       "3  Kolya (1996)  24-Jan-1997   ...           0          0       0        0   \n",
       "4  Kolya (1996)  24-Jan-1997   ...           0          0       0        0   \n",
       "\n",
       "   Mystery  Romance  Sci_Fi  Thriller  War  Western  \n",
       "0        0        0       0         0    0        0  \n",
       "1        0        0       0         0    0        0  \n",
       "2        0        0       0         0    0        0  \n",
       "3        0        0       0         0    0        0  \n",
       "4        0        0       0         0    0        0  \n",
       "\n",
       "[5 rows x 28 columns]"
      ]
     },
     "execution_count": 20,
     "metadata": {},
     "output_type": "execute_result"
    }
   ],
   "source": [
    "# type your code here\n",
    "sql = \" \\\n",
    "SELECT * FROM movies as m,users as u,items as i; \\\n",
    "JOIN u ON u.user_id=m.user_id; \\\n",
    "JOIN i ON i.movie_id=m.movie_id; \\\n",
    "\"\n",
    "df1 =pd.read_sql(\"SELECT * FROM movies\",con)\n",
    "df2 =pd.read_sql(\"SELECT * FROM users\",con)\n",
    "df3 =pd.read_sql(\"SELECT * FROM items\",con)\n",
    "df41 = pd.merge(df1,df2,on='user_id')\n",
    "df4 = pd.merge(df41,df3,on='movie_id')\n",
    "print(len(df1),len(df2),len(df3),len(df4))\n",
    "print(df4.head(5))\n",
    "full = df4\n",
    "del df4\n",
    "#full = pd.read_sql(sql, con)\n",
    "full.head()"
   ]
  },
  {
   "cell_type": "code",
   "execution_count": 21,
   "metadata": {
    "collapsed": false
   },
   "outputs": [
    {
     "name": "stdout",
     "output_type": "stream",
     "text": [
      "1 test passed. Exercise 3.2 is successful\n"
     ]
    }
   ],
   "source": [
    "Test.assertEqualsHashed(len(full), '1ec795c83bc6203b809313940936203cca766e10', 'Incorrect sql query', \"Exercise 3.2 is successful\")"
   ]
  },
  {
   "cell_type": "markdown",
   "metadata": {},
   "source": [
    "> ### Exercise 3.3:\n",
    "\n",
    "> Using SQL commands group all movies by the genre (you need take all genres from above `genres` Python list) and display how many movies are included to each group. Does the total amount of movies in all groups is equal to the total amount of movies in `full` SQL table? Your resulting table should have the following form\n",
    "\n",
    ">||Action_films|Adventure_films|...|Western_films|in_all|\n",
    "|----|----|----|----|----|\n",
    "|0|251|135|...|27|2891|\n",
    "\n",
    ">i.e. each column corresponds to genre name and contains the `\"_films\"` suffics, the last column called `\"in_all\"` contains the total amount of movies in all genres. All genres columns should be positioned in alphabetic order.\n",
    "\n",
    "> Write result to the `result` variable."
   ]
  },
  {
   "cell_type": "code",
   "execution_count": 22,
   "metadata": {
    "collapsed": false
   },
   "outputs": [
    {
     "name": "stdout",
     "output_type": "stream",
     "text": [
      "   user_id  movie_id  rating  timestamp  age gender  occupation zip_code  \\\n",
      "0      196       242       3  881250949   49      M      writer    55105   \n",
      "1      305       242       5  886307828   23      M  programmer    94086   \n",
      "2        6       242       4  883268170   42      M   executive    98101   \n",
      "3      234       242       4  891033261   60      M     retired    94702   \n",
      "4       63       242       3  875747190   31      M   marketing    75240   \n",
      "\n",
      "    movie_title release_date   ...     Fantasy  Film_Noir  Horror  Musical  \\\n",
      "0  Kolya (1996)  24-Jan-1997   ...           0          0       0        0   \n",
      "1  Kolya (1996)  24-Jan-1997   ...           0          0       0        0   \n",
      "2  Kolya (1996)  24-Jan-1997   ...           0          0       0        0   \n",
      "3  Kolya (1996)  24-Jan-1997   ...           0          0       0        0   \n",
      "4  Kolya (1996)  24-Jan-1997   ...           0          0       0        0   \n",
      "\n",
      "   Mystery  Romance  Sci_Fi  Thriller  War  Western  \n",
      "0        0        0       0         0    0        0  \n",
      "1        0        0       0         0    0        0  \n",
      "2        0        0       0         0    0        0  \n",
      "3        0        0       0         0    0        0  \n",
      "4        0        0       0         0    0        0  \n",
      "\n",
      "[5 rows x 28 columns]\n",
      "Index([u'Action', u'Adventure', u'Animation', u'Childrens', u'Comedy',\n",
      "       u'Crime', u'Documentary', u'Drama', u'Fantasy', u'Film_Noir', u'Horror',\n",
      "       u'Musical', u'Mystery', u'Romance', u'Sci_Fi', u'Thriller', u'War',\n",
      "       u'Western', u'user_id', u'movie_id', u'rating', u'timestamp', u'age',\n",
      "       u'gender', u'occupation', u'zip_code', u'movie_title', u'release_date'],\n",
      "      dtype='object')\n",
      "Action_films       75\n",
      "Adventure_films    55\n",
      "Animation_films    17\n",
      "Childrens_films    36\n",
      "Comedy_films       63\n",
      "dtype: int64\n",
      "[   75    55    17    36    63    33     4    60    17    12    18    18\n",
      "    31    42    43    56    28    10 99991]\n"
     ]
    }
   ],
   "source": [
    "# type your code here\n",
    "print(full.head(5))\n",
    "placeholder= '?' # For SQLite. See DBAPI paramstyle.\n",
    "placeholders= ', '.join(i for i in genres)\n",
    "sql = \" \\\n",
    "SELECT %s FROM movies; \\\n",
    "ORDER BY ASC;\" % placeholders\n",
    "list1 = full.columns.tolist()\n",
    "\n",
    "df1 = full.groupby(genres).count().reset_index()\n",
    "print df1.columns\n",
    "#df1.drop([u'movie_title',u'release_date'],inplace=True,axis=1)\n",
    "df1.drop([u'user_id', u'rating', u'timestamp', u'age',\n",
    "       u'gender', u'occupation', u'zip_code', u'movie_title', u'release_date'], inplace=True, axis=1)\n",
    "df1 = df1.add_suffix('_films')\n",
    "df1.rename(columns={'movie_id_films':'in_all'}, inplace=True)\n",
    "#df1['in_all'] = df1.sum(axis=1)\n",
    "df1.head(5)\n",
    "#print df1.sum()\n",
    "result = df1.sum()\n",
    "print result.head(5)\n",
    "print result.values\n",
    "#result = pd.read_sql(sql, con)\n",
    "#print(result.head(5))"
   ]
  },
  {
   "cell_type": "code",
   "execution_count": 23,
   "metadata": {
    "collapsed": false
   },
   "outputs": [
    {
     "name": "stdout",
     "output_type": "stream",
     "text": [
      "1 test failed. Incorrect sql query\n"
     ]
    }
   ],
   "source": [
    "Test.assertEqualsHashed(result.values, 'af649b8df0964186b7f15cd370275c6c8aaf9267', 'Incorrect sql query', \"Exercise 3.3 is successful\")"
   ]
  },
  {
   "cell_type": "markdown",
   "metadata": {},
   "source": [
    "> ### Exercise 3.4:\n",
    "\n",
    "> Calculate how many movies possess by more than 2 genres. Write result to the `amount` variable."
   ]
  },
  {
   "cell_type": "code",
   "execution_count": 24,
   "metadata": {
    "collapsed": false
   },
   "outputs": [
    {
     "name": "stdout",
     "output_type": "stream",
     "text": [
      "Action_films         int64\n",
      "Adventure_films      int64\n",
      "Animation_films      int64\n",
      "Childrens_films      int64\n",
      "Comedy_films         int64\n",
      "Crime_films          int64\n",
      "Documentary_films    int64\n",
      "Drama_films          int64\n",
      "Fantasy_films        int64\n",
      "Film_Noir_films      int64\n",
      "Horror_films         int64\n",
      "Musical_films        int64\n",
      "Mystery_films        int64\n",
      "Romance_films        int64\n",
      "Sci_Fi_films         int64\n",
      "Thriller_films       int64\n",
      "War_films            int64\n",
      "Western_films        int64\n",
      "in_all               int64\n",
      "dtype: object\n"
     ]
    },
    {
     "ename": "ValueError",
     "evalue": "Wrong number of items passed 19, placement implies 1",
     "output_type": "error",
     "traceback": [
      "\u001b[1;31m---------------------------------------------------------------------------\u001b[0m",
      "\u001b[1;31mValueError\u001b[0m                                Traceback (most recent call last)",
      "\u001b[1;32m<ipython-input-24-fb0a46f894dd>\u001b[0m in \u001b[0;36m<module>\u001b[1;34m()\u001b[0m\n\u001b[0;32m      2\u001b[0m \u001b[1;32mprint\u001b[0m \u001b[0mdf1\u001b[0m\u001b[1;33m.\u001b[0m\u001b[0mdtypes\u001b[0m\u001b[1;33m\u001b[0m\u001b[0m\n\u001b[0;32m      3\u001b[0m \u001b[1;31m#df1['sum']=(df1.sum(axis=1)-df1['in_all'])/4\u001b[0m\u001b[1;33m\u001b[0m\u001b[1;33m\u001b[0m\u001b[0m\n\u001b[1;32m----> 4\u001b[1;33m \u001b[0mdf1\u001b[0m\u001b[1;33m[\u001b[0m\u001b[1;34m'sum'\u001b[0m\u001b[1;33m]\u001b[0m\u001b[1;33m=\u001b[0m\u001b[0mdf1\u001b[0m\u001b[1;33m.\u001b[0m\u001b[0mapply\u001b[0m\u001b[1;33m(\u001b[0m\u001b[1;32mlambda\u001b[0m \u001b[0mx\u001b[0m\u001b[1;33m:\u001b[0m \u001b[0mx\u001b[0m\u001b[1;33m+\u001b[0m\u001b[0mx\u001b[0m\u001b[1;33m)\u001b[0m\u001b[1;33m.\u001b[0m\u001b[0mastype\u001b[0m\u001b[1;33m(\u001b[0m\u001b[1;34m'int64'\u001b[0m\u001b[1;33m)\u001b[0m\u001b[1;33m\u001b[0m\u001b[0m\n\u001b[0m\u001b[0;32m      5\u001b[0m \u001b[1;31m#print sum(df1['sum'])\u001b[0m\u001b[1;33m\u001b[0m\u001b[1;33m\u001b[0m\u001b[0m\n\u001b[0;32m      6\u001b[0m \u001b[0mdf2\u001b[0m \u001b[1;33m=\u001b[0m \u001b[0mdf1\u001b[0m\u001b[1;33m[\u001b[0m\u001b[0mdf1\u001b[0m\u001b[1;33m[\u001b[0m\u001b[1;34m'sum'\u001b[0m\u001b[1;33m]\u001b[0m\u001b[1;33m>\u001b[0m\u001b[1;36m1\u001b[0m\u001b[1;33m]\u001b[0m\u001b[1;33m\u001b[0m\u001b[0m\n",
      "\u001b[1;32m/usr/local/lib/python2.7/dist-packages/pandas/core/frame.pyc\u001b[0m in \u001b[0;36m__setitem__\u001b[1;34m(self, key, value)\u001b[0m\n\u001b[0;32m   2346\u001b[0m         \u001b[1;32melse\u001b[0m\u001b[1;33m:\u001b[0m\u001b[1;33m\u001b[0m\u001b[0m\n\u001b[0;32m   2347\u001b[0m             \u001b[1;31m# set column\u001b[0m\u001b[1;33m\u001b[0m\u001b[1;33m\u001b[0m\u001b[0m\n\u001b[1;32m-> 2348\u001b[1;33m             \u001b[0mself\u001b[0m\u001b[1;33m.\u001b[0m\u001b[0m_set_item\u001b[0m\u001b[1;33m(\u001b[0m\u001b[0mkey\u001b[0m\u001b[1;33m,\u001b[0m \u001b[0mvalue\u001b[0m\u001b[1;33m)\u001b[0m\u001b[1;33m\u001b[0m\u001b[0m\n\u001b[0m\u001b[0;32m   2349\u001b[0m \u001b[1;33m\u001b[0m\u001b[0m\n\u001b[0;32m   2350\u001b[0m     \u001b[1;32mdef\u001b[0m \u001b[0m_setitem_slice\u001b[0m\u001b[1;33m(\u001b[0m\u001b[0mself\u001b[0m\u001b[1;33m,\u001b[0m \u001b[0mkey\u001b[0m\u001b[1;33m,\u001b[0m \u001b[0mvalue\u001b[0m\u001b[1;33m)\u001b[0m\u001b[1;33m:\u001b[0m\u001b[1;33m\u001b[0m\u001b[0m\n",
      "\u001b[1;32m/usr/local/lib/python2.7/dist-packages/pandas/core/frame.pyc\u001b[0m in \u001b[0;36m_set_item\u001b[1;34m(self, key, value)\u001b[0m\n\u001b[0;32m   2413\u001b[0m         \u001b[0mself\u001b[0m\u001b[1;33m.\u001b[0m\u001b[0m_ensure_valid_index\u001b[0m\u001b[1;33m(\u001b[0m\u001b[0mvalue\u001b[0m\u001b[1;33m)\u001b[0m\u001b[1;33m\u001b[0m\u001b[0m\n\u001b[0;32m   2414\u001b[0m         \u001b[0mvalue\u001b[0m \u001b[1;33m=\u001b[0m \u001b[0mself\u001b[0m\u001b[1;33m.\u001b[0m\u001b[0m_sanitize_column\u001b[0m\u001b[1;33m(\u001b[0m\u001b[0mkey\u001b[0m\u001b[1;33m,\u001b[0m \u001b[0mvalue\u001b[0m\u001b[1;33m)\u001b[0m\u001b[1;33m\u001b[0m\u001b[0m\n\u001b[1;32m-> 2415\u001b[1;33m         \u001b[0mNDFrame\u001b[0m\u001b[1;33m.\u001b[0m\u001b[0m_set_item\u001b[0m\u001b[1;33m(\u001b[0m\u001b[0mself\u001b[0m\u001b[1;33m,\u001b[0m \u001b[0mkey\u001b[0m\u001b[1;33m,\u001b[0m \u001b[0mvalue\u001b[0m\u001b[1;33m)\u001b[0m\u001b[1;33m\u001b[0m\u001b[0m\n\u001b[0m\u001b[0;32m   2416\u001b[0m \u001b[1;33m\u001b[0m\u001b[0m\n\u001b[0;32m   2417\u001b[0m         \u001b[1;31m# check if we are modifying a copy\u001b[0m\u001b[1;33m\u001b[0m\u001b[1;33m\u001b[0m\u001b[0m\n",
      "\u001b[1;32m/usr/local/lib/python2.7/dist-packages/pandas/core/generic.pyc\u001b[0m in \u001b[0;36m_set_item\u001b[1;34m(self, key, value)\u001b[0m\n\u001b[0;32m   1457\u001b[0m \u001b[1;33m\u001b[0m\u001b[0m\n\u001b[0;32m   1458\u001b[0m     \u001b[1;32mdef\u001b[0m \u001b[0m_set_item\u001b[0m\u001b[1;33m(\u001b[0m\u001b[0mself\u001b[0m\u001b[1;33m,\u001b[0m \u001b[0mkey\u001b[0m\u001b[1;33m,\u001b[0m \u001b[0mvalue\u001b[0m\u001b[1;33m)\u001b[0m\u001b[1;33m:\u001b[0m\u001b[1;33m\u001b[0m\u001b[0m\n\u001b[1;32m-> 1459\u001b[1;33m         \u001b[0mself\u001b[0m\u001b[1;33m.\u001b[0m\u001b[0m_data\u001b[0m\u001b[1;33m.\u001b[0m\u001b[0mset\u001b[0m\u001b[1;33m(\u001b[0m\u001b[0mkey\u001b[0m\u001b[1;33m,\u001b[0m \u001b[0mvalue\u001b[0m\u001b[1;33m)\u001b[0m\u001b[1;33m\u001b[0m\u001b[0m\n\u001b[0m\u001b[0;32m   1460\u001b[0m         \u001b[0mself\u001b[0m\u001b[1;33m.\u001b[0m\u001b[0m_clear_item_cache\u001b[0m\u001b[1;33m(\u001b[0m\u001b[1;33m)\u001b[0m\u001b[1;33m\u001b[0m\u001b[0m\n\u001b[0;32m   1461\u001b[0m \u001b[1;33m\u001b[0m\u001b[0m\n",
      "\u001b[1;32m/usr/local/lib/python2.7/dist-packages/pandas/core/internals.pyc\u001b[0m in \u001b[0;36mset\u001b[1;34m(self, item, value, check)\u001b[0m\n\u001b[0;32m   3351\u001b[0m         \u001b[1;32mexcept\u001b[0m \u001b[0mKeyError\u001b[0m\u001b[1;33m:\u001b[0m\u001b[1;33m\u001b[0m\u001b[0m\n\u001b[0;32m   3352\u001b[0m             \u001b[1;31m# This item wasn't present, just insert at end\u001b[0m\u001b[1;33m\u001b[0m\u001b[1;33m\u001b[0m\u001b[0m\n\u001b[1;32m-> 3353\u001b[1;33m             \u001b[0mself\u001b[0m\u001b[1;33m.\u001b[0m\u001b[0minsert\u001b[0m\u001b[1;33m(\u001b[0m\u001b[0mlen\u001b[0m\u001b[1;33m(\u001b[0m\u001b[0mself\u001b[0m\u001b[1;33m.\u001b[0m\u001b[0mitems\u001b[0m\u001b[1;33m)\u001b[0m\u001b[1;33m,\u001b[0m \u001b[0mitem\u001b[0m\u001b[1;33m,\u001b[0m \u001b[0mvalue\u001b[0m\u001b[1;33m)\u001b[0m\u001b[1;33m\u001b[0m\u001b[0m\n\u001b[0m\u001b[0;32m   3354\u001b[0m             \u001b[1;32mreturn\u001b[0m\u001b[1;33m\u001b[0m\u001b[0m\n\u001b[0;32m   3355\u001b[0m \u001b[1;33m\u001b[0m\u001b[0m\n",
      "\u001b[1;32m/usr/local/lib/python2.7/dist-packages/pandas/core/internals.pyc\u001b[0m in \u001b[0;36minsert\u001b[1;34m(self, loc, item, value, allow_duplicates)\u001b[0m\n\u001b[0;32m   3452\u001b[0m \u001b[1;33m\u001b[0m\u001b[0m\n\u001b[0;32m   3453\u001b[0m         block = make_block(values=value, ndim=self.ndim,\n\u001b[1;32m-> 3454\u001b[1;33m                            placement=slice(loc, loc + 1))\n\u001b[0m\u001b[0;32m   3455\u001b[0m \u001b[1;33m\u001b[0m\u001b[0m\n\u001b[0;32m   3456\u001b[0m         \u001b[1;32mfor\u001b[0m \u001b[0mblkno\u001b[0m\u001b[1;33m,\u001b[0m \u001b[0mcount\u001b[0m \u001b[1;32min\u001b[0m \u001b[0m_fast_count_smallints\u001b[0m\u001b[1;33m(\u001b[0m\u001b[0mself\u001b[0m\u001b[1;33m.\u001b[0m\u001b[0m_blknos\u001b[0m\u001b[1;33m[\u001b[0m\u001b[0mloc\u001b[0m\u001b[1;33m:\u001b[0m\u001b[1;33m]\u001b[0m\u001b[1;33m)\u001b[0m\u001b[1;33m:\u001b[0m\u001b[1;33m\u001b[0m\u001b[0m\n",
      "\u001b[1;32m/usr/local/lib/python2.7/dist-packages/pandas/core/internals.pyc\u001b[0m in \u001b[0;36mmake_block\u001b[1;34m(values, placement, klass, ndim, dtype, fastpath)\u001b[0m\n\u001b[0;32m   2459\u001b[0m                      placement=placement, dtype=dtype)\n\u001b[0;32m   2460\u001b[0m \u001b[1;33m\u001b[0m\u001b[0m\n\u001b[1;32m-> 2461\u001b[1;33m     \u001b[1;32mreturn\u001b[0m \u001b[0mklass\u001b[0m\u001b[1;33m(\u001b[0m\u001b[0mvalues\u001b[0m\u001b[1;33m,\u001b[0m \u001b[0mndim\u001b[0m\u001b[1;33m=\u001b[0m\u001b[0mndim\u001b[0m\u001b[1;33m,\u001b[0m \u001b[0mfastpath\u001b[0m\u001b[1;33m=\u001b[0m\u001b[0mfastpath\u001b[0m\u001b[1;33m,\u001b[0m \u001b[0mplacement\u001b[0m\u001b[1;33m=\u001b[0m\u001b[0mplacement\u001b[0m\u001b[1;33m)\u001b[0m\u001b[1;33m\u001b[0m\u001b[0m\n\u001b[0m\u001b[0;32m   2462\u001b[0m \u001b[1;33m\u001b[0m\u001b[0m\n\u001b[0;32m   2463\u001b[0m \u001b[1;31m# TODO: flexible with index=None and/or items=None\u001b[0m\u001b[1;33m\u001b[0m\u001b[1;33m\u001b[0m\u001b[0m\n",
      "\u001b[1;32m/usr/local/lib/python2.7/dist-packages/pandas/core/internals.pyc\u001b[0m in \u001b[0;36m__init__\u001b[1;34m(self, values, placement, ndim, fastpath)\u001b[0m\n\u001b[0;32m     82\u001b[0m             raise ValueError('Wrong number of items passed %d, placement '\n\u001b[0;32m     83\u001b[0m                              'implies %d' % (len(self.values),\n\u001b[1;32m---> 84\u001b[1;33m                                              len(self.mgr_locs)))\n\u001b[0m\u001b[0;32m     85\u001b[0m \u001b[1;33m\u001b[0m\u001b[0m\n\u001b[0;32m     86\u001b[0m     \u001b[1;33m@\u001b[0m\u001b[0mproperty\u001b[0m\u001b[1;33m\u001b[0m\u001b[0m\n",
      "\u001b[1;31mValueError\u001b[0m: Wrong number of items passed 19, placement implies 1"
     ]
    }
   ],
   "source": [
    "# type your code here\n",
    "print df1.dtypes\n",
    "#df1['sum']=(df1.sum(axis=1)-df1['in_all'])/4\n",
    "df1['sum']=df1.apply(lambda x: x+x).astype('int64')\n",
    "#print sum(df1['sum'])\n",
    "df2 = df1[df1['sum']>1]\n",
    "df2.head()\n",
    "amount = len(df2)\n",
    "print amount"
   ]
  },
  {
   "cell_type": "code",
   "execution_count": null,
   "metadata": {
    "collapsed": false
   },
   "outputs": [],
   "source": [
    "Test.assertEqualsHashed(amount, 'ba613d1fc0d9300175611e31cca7cf9f525056cb', \n",
    "                        'Incorrect value of \"amount\"', \"Exercise 3.4 is successful\")"
   ]
  },
  {
   "cell_type": "markdown",
   "metadata": {},
   "source": [
    "> ### Exercise 3.5:\n",
    "\n",
    "> Select all users who watched more than 50 movies, which were released after 1980, display his ID and how many films were evaluated by him with 1 or with 5 (call this column as `count`). Display results in ascending order by user age. If there are few users with the same age, then order them by ID. Your resulting table should contain at least two column `user_id` and `count`. Write result to the `result` variable."
   ]
  },
  {
   "cell_type": "code",
   "execution_count": 51,
   "metadata": {
    "collapsed": false,
    "scrolled": true
   },
   "outputs": [
    {
     "name": "stdout",
     "output_type": "stream",
     "text": [
      "    user_id  movie_id  rating  timestamp  age gender     occupation zip_code  \\\n",
      "1       305       242       5  886307828   23      M     programmer    94086   \n",
      "5       181       242       1  878961814   26      M      executive    21218   \n",
      "7       249       242       5  879571438   25      M        student    84103   \n",
      "10      145       242       5  875269755   31      M  entertainment    V3N4P   \n",
      "13       18       242       5  880129305   35      F          other    37212   \n",
      "\n",
      "     movie_title release_date   ...     Fantasy  Film_Noir  Horror  Musical  \\\n",
      "1   Kolya (1996)   1997-01-24   ...           0          0       0        0   \n",
      "5   Kolya (1996)   1997-01-24   ...           0          0       0        0   \n",
      "7   Kolya (1996)   1997-01-24   ...           0          0       0        0   \n",
      "10  Kolya (1996)   1997-01-24   ...           0          0       0        0   \n",
      "13  Kolya (1996)   1997-01-24   ...           0          0       0        0   \n",
      "\n",
      "    Mystery  Romance  Sci_Fi  Thriller  War  Western  \n",
      "1         0        0       0         0    0        0  \n",
      "5         0        0       0         0    0        0  \n",
      "7         0        0       0         0    0        0  \n",
      "10        0        0       0         0    0        0  \n",
      "13        0        0       0         0    0        0  \n",
      "\n",
      "[5 rows x 28 columns]\n",
      "Index([u'user_id', 0], dtype='object')\n",
      "Index([u'user_id', 0], dtype='object')\n",
      "   user_id  count  age\n",
      "0      887     90   14\n",
      "1      270     79   18\n",
      "2      642     94   18\n",
      "3      592    164   18\n",
      "4      588     74   18\n"
     ]
    }
   ],
   "source": [
    "#full.head(5)\n",
    "import datetime as dt\n",
    "full0 = full\n",
    "full0['release_date'] = pd.to_datetime(full0['release_date'])\n",
    "#print full0.head(5)\n",
    "full0 = full0.loc[(full0['rating']==1)|(full0['rating']==5)&(full0['release_date']>'1979-12-31')]\n",
    "print full0.head(5)\n",
    "df4 = full0.groupby('user_id').size().reset_index()\n",
    "print df4.columns\n",
    "#df4.rename({0:'count'}, inplace=True)\n",
    "print df4.columns\n",
    "df4.head(5)\n",
    "df6 = full0[['user_id','age']]\n",
    "df5=pd.DataFrame()\n",
    "df5['user_id'] = df4['user_id']\n",
    "df5['count'] = df4[0]\n",
    "df5 = df5[df5['count']>50]\n",
    "df5 = pd.merge(df5,df6, on='user_id', how='left').drop_duplicates().reset_index(drop=True)\n",
    "df5 = df5.sort_values(by='age',ascending=True).reset_index(drop=True)\n",
    "print df5.head(5)\n",
    "result = df5\n",
    "# type your code here\n",
    "#result = pd.read_sql(<<YOUR_CODE>>, con)\n",
    "#result"
   ]
  },
  {
   "cell_type": "code",
   "execution_count": 52,
   "metadata": {
    "collapsed": false
   },
   "outputs": [
    {
     "name": "stdout",
     "output_type": "stream",
     "text": [
      "1 test failed. Incorrect sql query\n"
     ]
    }
   ],
   "source": [
    "Test.assertEqualsHashed(result['user_id'] + result['count'], 'c0b1c79e2d06e741b3fb7844fda11aee3c3f9250', \n",
    "                        'Incorrect sql query',  \"Exercise 3.5 is successful\")"
   ]
  },
  {
   "cell_type": "markdown",
   "metadata": {
    "collapsed": true
   },
   "source": [
    "<center><h3>Presented by <a target=\"_blank\" rel=\"noopener noreferrer nofollow\" href=\"http://datascience-school.com\">datascience-school.com</a></h3></center>"
   ]
  }
 ],
 "metadata": {
  "kernelspec": {
   "display_name": "Python 2",
   "language": "python",
   "name": "python2"
  },
  "language_info": {
   "codemirror_mode": {
    "name": "ipython",
    "version": 2
   },
   "file_extension": ".py",
   "mimetype": "text/x-python",
   "name": "python",
   "nbconvert_exporter": "python",
   "pygments_lexer": "ipython2",
   "version": "2.7.10"
  },
  "widgets": {
   "state": {},
   "version": "1.0.0"
  }
 },
 "nbformat": 4,
 "nbformat_minor": 0
}
