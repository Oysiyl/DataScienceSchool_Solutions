{
 "cells": [
  {
   "cell_type": "markdown",
   "metadata": {},
   "source": [
    "---\n",
    "<center><h1> Lesson 1 - Crash course into Python</h1></center>\n",
    "---\n",
    "---\n",
    "\n",
    "<center><h1>Part 4.  User Defined Functions</h1></center>\n",
    "\n",
    "---"
   ]
  },
  {
   "cell_type": "markdown",
   "metadata": {},
   "source": [
    "## Table of Contents\n",
    "- [User Defined Functions](#User-Defined-Functions)\n",
    "    * [Function Definition](#Function-Definition)\n",
    "     - [*Exercise 4.1*](#Exercise-4.1)\n",
    "    * [Positional and Keyword Arguments](#Positional-and-Keyword-Arguments)\n",
    "    * [Passage by Assignment](#Passage-by-Assignment)\n",
    "    * [Recursion](#Recursion)\n",
    "     - [*Exercise 4.2*](#Exercise-4.2)"
   ]
  },
  {
   "cell_type": "markdown",
   "metadata": {},
   "source": [
    "---\n",
    "# User Defined Function"
   ]
  },
  {
   "cell_type": "markdown",
   "metadata": {},
   "source": [
    "Functions assign a name to a block of code the way variables assign names to bits of data. This seeminly benign naming of things is incredibly powerful; alloing one to reuse common functionality over and over. Well-tested functions form building blocks for large, complex systems. As you progress through python, you'll find yourself using powerful functions defined in some of python's vast libraries of code. "
   ]
  },
  {
   "cell_type": "markdown",
   "metadata": {},
   "source": [
    "### Function Definition"
   ]
  },
  {
   "cell_type": "markdown",
   "metadata": {},
   "source": [
    "[[back to top]](#Table-of-Contents)"
   ]
  },
  {
   "cell_type": "markdown",
   "metadata": {},
   "source": [
    "Function definitions begin with the `def` keyword, followed by the name you wish to assign to a function. Following this name are parentheses, `( )`, containing zero or more variable names, those values that are passed into the function. There is then a colon, followed by a code block defining the actions of the function:"
   ]
  },
  {
   "cell_type": "code",
   "execution_count": 1,
   "metadata": {
    "collapsed": false,
    "scrolled": false
   },
   "outputs": [
    {
     "name": "stdout",
     "output_type": "stream",
     "text": [
      "Example of print function:\n",
      "hi!\n",
      "hi!\n",
      "hi!\n",
      "hi!\n"
     ]
    }
   ],
   "source": [
    "def print_hi():\n",
    "    print \"hi!\"\n",
    "print \"Example of print function:\"    \n",
    "print_hi()\n",
    "print_hi()\n",
    "print_hi()\n",
    "print_hi()"
   ]
  },
  {
   "cell_type": "code",
   "execution_count": 2,
   "metadata": {
    "collapsed": false,
    "scrolled": false
   },
   "outputs": [
    {
     "name": "stdout",
     "output_type": "stream",
     "text": [
      "Function that prints input string:\n",
      "hi PANOS!\n",
      "hi SIMONA!\n",
      "hi ADAM!\n"
     ]
    }
   ],
   "source": [
    "def hi_you(name):\n",
    "    print \"hi %s!\" % name.upper()\n",
    "print \"Function that prints input string:\"\n",
    "hi_you(\"Panos\")\n",
    "hi_you(\"Simona\")\n",
    "hi_you(\"Adam\")"
   ]
  },
  {
   "cell_type": "code",
   "execution_count": 3,
   "metadata": {
    "collapsed": false,
    "scrolled": false
   },
   "outputs": [
    {
     "name": "stdout",
     "output_type": "stream",
     "text": [
      "Function that ouputs quare of a number:\n",
      "The square of  0 is   0\n",
      "The square of  1 is   1\n",
      "The square of  2 is   4\n",
      "The square of  3 is   9\n",
      "The square of  4 is  16\n",
      "The square of  5 is  25\n",
      "The square of  6 is  36\n",
      "The square of  7 is  49\n",
      "The square of  8 is  64\n",
      "The square of  9 is  81\n",
      "The square of 10 is 100\n",
      "The square of 11 is 121\n",
      "The square of 12 is 144\n",
      "The square of 13 is 169\n",
      "The square of 14 is 196\n"
     ]
    }
   ],
   "source": [
    "def square(num):\n",
    "    squared = num*num\n",
    "    return squared\n",
    "print \"Function that ouputs quare of a number:\"\n",
    "for i in range(15):\n",
    "    print \"The square of %2d\" %i, \"is %3d\" % square(i)"
   ]
  },
  {
   "cell_type": "markdown",
   "metadata": {},
   "source": [
    "Note that the fucntion `square` has a special keyword return. The argument to return is passed to whatever piece of code is calling the function. In this case, the square of the number that was input. \n",
    "\n",
    "Variables set inside of functions are said to be scoped to those functions: changes, including any new variables created, are only accessible while in the function code block (with some exceptions). If \"outside\" variables are modified inside a function's context, the contents of that variable are first copied.\n",
    "\n",
    "Similarly, changes or modifications to a function's arguments aren't reflected once the scope is returned; The variable will continue to point to the original thing. However, it is possible to modify the thing that is passed, assuming that it is mutable.\n",
    "\n",
    "There is a docstring wrapped by triple quotes \"\"\". This is a particular form of comment that explains what the function does. It is not mandatory, but it is strongly recommended to write docstrings for the functions exposed to the user."
   ]
  },
  {
   "cell_type": "code",
   "execution_count": 4,
   "metadata": {
    "collapsed": false,
    "scrolled": false
   },
   "outputs": [
    {
     "name": "stdout",
     "output_type": "stream",
     "text": [
      "2 is even: True\n",
      "3 is even: False\n"
     ]
    }
   ],
   "source": [
    "def is_even(number):\n",
    "    \"\"\"Return whether an integer is even or not.\"\"\"\n",
    "    return number % 2 == 0\n",
    "\n",
    "print \"2 is even:\", is_even(2)\n",
    "print \"3 is even:\", is_even(3)"
   ]
  },
  {
   "cell_type": "code",
   "execution_count": 5,
   "metadata": {
    "collapsed": false,
    "scrolled": false
   },
   "outputs": [
    {
     "name": "stdout",
     "output_type": "stream",
     "text": [
      "We start here!\n",
      "The name is panos\n",
      "Let's call the function...\n",
      "We are now in the function!\n",
      "not panos\n",
      "something! ... and we are out\n",
      "Done with the function...\n",
      "panos\n"
     ]
    }
   ],
   "source": [
    "# inside a function's context, changes to a variable defined outside that\n",
    "# context aren't reflected once the context is returned\n",
    "\n",
    "name = \"panos\"\n",
    "def do_something():\n",
    "    print \"We are now in the function!\"\n",
    "    name = \"not panos\"\n",
    "    print name\n",
    "    print \"something! ... and we are out\"\n",
    "\n",
    "print \"We start here!\"\n",
    "print \"The name is\", name\n",
    "print \"Let's call the function...\"\n",
    "do_something()\n",
    "print \"Done with the function...\"\n",
    "print name"
   ]
  },
  {
   "cell_type": "code",
   "execution_count": 6,
   "metadata": {
    "collapsed": false,
    "scrolled": false
   },
   "outputs": [
    {
     "name": "stdout",
     "output_type": "stream",
     "text": [
      "Name got from function without input:\n",
      "panos\n",
      "Name changed within function:\n",
      "nothing\n",
      "Outside name still the same:\n",
      "panos\n"
     ]
    }
   ],
   "source": [
    "# but outside variables can be read!\n",
    "def do_something_else():\n",
    "    print \"Name got from function without input:\"\n",
    "    print name\n",
    "do_something_else()\n",
    "\n",
    "def do_something_new(some_name):\n",
    "    print \"Name changed within function:\"\n",
    "    some_name = \"nothing\"\n",
    "    print some_name\n",
    "\n",
    "do_something_new(name)\n",
    "print \"Outside name still the same:\"\n",
    "print name"
   ]
  },
  {
   "cell_type": "code",
   "execution_count": 7,
   "metadata": {
    "collapsed": false,
    "scrolled": false
   },
   "outputs": [
    {
     "name": "stdout",
     "output_type": "stream",
     "text": [
      "Call a function\n",
      "Get sum of list and add it to the end of the list\n",
      "Return sum\n",
      "6\n",
      "Changed outside list :\n",
      "[1, 2, 3, 6]\n",
      "Again for another list:\n",
      "Get sum of list and add it to the end of the list\n",
      "Return sum\n",
      "15\n",
      "First list:\n",
      "[1, 2, 3, 6]\n",
      "Second list:\n",
      "[1, 2, 3, 4, 5, 15]\n"
     ]
    }
   ],
   "source": [
    "# mutable objects (lists, sets, dictionaries, etc) can be modified\n",
    "a_list = [1,2,3]\n",
    "b_list = [1,2,3,4,5]\n",
    "def add_sum(some_list):\n",
    "    s = sum(some_list)\n",
    "    print \"Get sum of list and add it to the end of the list\"\n",
    "    some_list.append(s)\n",
    "    some_list = [355329,343248324,324843284]\n",
    "    print \"Return sum\"\n",
    "    return s\n",
    "\n",
    "print \"Call a function\"\n",
    "tot = add_sum(a_list)\n",
    "print tot\n",
    "print \"Changed outside list :\"\n",
    "print a_list\n",
    "\n",
    "# try again!\n",
    "print \"Again for another list:\"\n",
    "tot = add_sum(b_list)\n",
    "print tot\n",
    "\n",
    "print \"First list:\"\n",
    "print a_list\n",
    "print \"Second list:\"\n",
    "print b_list"
   ]
  },
  {
   "cell_type": "code",
   "execution_count": 8,
   "metadata": {
    "collapsed": false,
    "scrolled": false
   },
   "outputs": [
    {
     "name": "stdout",
     "output_type": "stream",
     "text": [
      "Hi!\n"
     ]
    },
    {
     "ename": "NameError",
     "evalue": "name 'thing' is not defined",
     "output_type": "error",
     "traceback": [
      "\u001b[1;31m---------------------------------------------------------------------------\u001b[0m",
      "\u001b[1;31mNameError\u001b[0m                                 Traceback (most recent call last)",
      "\u001b[1;32m<ipython-input-8-79d666b041f8>\u001b[0m in \u001b[0;36m<module>\u001b[1;34m()\u001b[0m\n\u001b[0;32m      5\u001b[0m     \u001b[1;32mprint\u001b[0m \u001b[1;34m\"Hi!\"\u001b[0m\u001b[1;33m\u001b[0m\u001b[0m\n\u001b[0;32m      6\u001b[0m \u001b[0mdo_something_new\u001b[0m\u001b[1;33m(\u001b[0m\u001b[1;33m)\u001b[0m\u001b[1;33m\u001b[0m\u001b[0m\n\u001b[1;32m----> 7\u001b[1;33m \u001b[1;32mprint\u001b[0m \u001b[0mthing\u001b[0m\u001b[1;33m\u001b[0m\u001b[0m\n\u001b[0m",
      "\u001b[1;31mNameError\u001b[0m: name 'thing' is not defined"
     ]
    }
   ],
   "source": [
    "# variables created in a function aren't accessible \n",
    "# outside that function's context\n",
    "def do_something_new():\n",
    "    thing = \"123\"\n",
    "    print \"Hi!\"\n",
    "do_something_new()\n",
    "print thing"
   ]
  },
  {
   "cell_type": "code",
   "execution_count": 9,
   "metadata": {
    "collapsed": false,
    "scrolled": false
   },
   "outputs": [
    {
     "name": "stdout",
     "output_type": "stream",
     "text": [
      "times_two(four):\n",
      "8\n",
      "four:\n",
      "4\n"
     ]
    }
   ],
   "source": [
    "def times_two(input):\n",
    "    input = 2*input\n",
    "    return input\n",
    "\n",
    "four = 4\n",
    "print \"times_two(four):\"\n",
    "print times_two(four)\n",
    "print \"four:\"\n",
    "print four"
   ]
  },
  {
   "cell_type": "markdown",
   "metadata": {},
   "source": [
    "Python function may contains many arguments, i.e. a tuple of arguments"
   ]
  },
  {
   "cell_type": "code",
   "execution_count": 10,
   "metadata": {
    "collapsed": false,
    "scrolled": false
   },
   "outputs": [
    {
     "name": "stdout",
     "output_type": "stream",
     "text": [
      "multiply(2, 3):\n",
      "6\n"
     ]
    }
   ],
   "source": [
    "def multiply(a, b):\n",
    "    return a * b\n",
    "print \"multiply(2, 3):\"\n",
    "print multiply(2, 3)"
   ]
  },
  {
   "cell_type": "markdown",
   "metadata": {},
   "source": [
    "Let's prepare the above code for Fibonacci sequence as a function, but not we will return `n` elements of this sequence:"
   ]
  },
  {
   "cell_type": "code",
   "execution_count": 11,
   "metadata": {
    "collapsed": false,
    "scrolled": false
   },
   "outputs": [
    {
     "name": "stdout",
     "output_type": "stream",
     "text": [
      "10 first number from Fibonacci sequence:\n",
      "[0, 1, 1, 2, 3, 5, 8, 13, 21, 34]\n",
      "20 first number from Fibonacci sequence:\n",
      "[0, 1, 1, 2, 3, 5, 8, 13, 21, 34, 55, 89, 144, 233, 377, 610, 987, 1597, 2584, 4181]\n"
     ]
    }
   ],
   "source": [
    "def fibonacci(seq_length):\n",
    "    \"Return the Fibonacci sequence of length *seq_length*\"\n",
    "    seq = [0,1]\n",
    "    if seq_length < 1:\n",
    "        print \"Fibonacci sequence only defined for length 1 or greater\"\n",
    "        return\n",
    "    if 0 < seq_length < 3:\n",
    "        return seq[:seq_length]\n",
    "    for i in range(2,seq_length): \n",
    "        seq.append(seq[i-1] + seq[i-2])\n",
    "    return seq\n",
    "print \"10 first number from Fibonacci sequence:\"\n",
    "print fibonacci(10)\n",
    "print \"20 first number from Fibonacci sequence:\"\n",
    "print fibonacci(20)"
   ]
  },
  {
   "cell_type": "markdown",
   "metadata": {},
   "source": [
    ">### Exercise 4.1\n",
    "\n",
    ">* Write the function `fact(n)` which calculates the factorial of some number `n` and returns it.\n",
    "\n",
    ">* Write the function `seq(a, b)`, where `a` and `b` are integers. This function returns the list containg number from `a` to `b` (including `a` and `b`) in ascending order if `a < b` and it returns the list with numbers from `a` to `b` (including `a` and `b`) in descending order otherwise."
   ]
  },
  {
   "cell_type": "code",
   "execution_count": 14,
   "metadata": {
    "collapsed": true,
    "scrolled": false
   },
   "outputs": [],
   "source": [
    "# type your code here\n",
    "def fact(n):\n",
    "    #if n == 0:\n",
    "    #    return 1\n",
    "    #else:\n",
    "    #    return n * fact(n-1)\n",
    "    return reduce(lambda x,y:x*y,[1]+range(1,n+1))\n",
    "def seq(a,b):\n",
    "    a = int(a)\n",
    "    b = int(b)\n",
    "    listnum = []\n",
    "    if a<b:\n",
    "        for i in range(a,b+1):\n",
    "            listnum.append(i)\n",
    "        listnum.sort(reverse=False)\n",
    "        return listnum\n",
    "    elif a>b:\n",
    "        for i in range(b,a+1):\n",
    "            listnum.append(i)\n",
    "        listnum.sort(reverse=True)\n",
    "        return listnum"
   ]
  },
  {
   "cell_type": "code",
   "execution_count": 15,
   "metadata": {
    "collapsed": false
   },
   "outputs": [
    {
     "name": "stdout",
     "output_type": "stream",
     "text": [
      "1 test passed. Exercise 4.1.1 is successful\n",
      "1 test passed. Exercise 4.1.1 is successful\n",
      "1 test passed. Exercise 4.1.1 is successful\n",
      "1 test passed. Exercise 4.1.1 is successful\n",
      "1 test passed. Exercise 4.1.1 is successful\n",
      "1 test passed. Exercise 4.1.2 is successful\n",
      "1 test passed. Exercise 4.1.2 is successful\n",
      "1 test passed. Exercise 4.1.2 is successful\n",
      "1 test passed. Exercise 4.1.2 is successful\n",
      "1 test passed. Exercise 4.1.2 is successful\n"
     ]
    }
   ],
   "source": [
    "from test_helper import Test\n",
    "\n",
    "Test.assertEqualsHashed(fact(0), '356a192b7913b04c54574d18c28d46e6395428ab', 'Incorrect value of factorial', \n",
    "                        \"Exercise 4.1.1 is successful\")\n",
    "Test.assertEqualsHashed(fact(1), '356a192b7913b04c54574d18c28d46e6395428ab', 'Incorrect value of factorial', \n",
    "                        \"Exercise 4.1.1 is successful\")\n",
    "Test.assertEqualsHashed(fact(5), '775bc5c30e27f0e562115d136e7f7edbd3cead89', 'Incorrect value of factorial', \n",
    "                        \"Exercise 4.1.1 is successful\")\n",
    "Test.assertEqualsHashed(fact(10), 'e7781c072c6b1e94f8e32157bbd460ba2509743e', 'Incorrect value of factorial', \n",
    "                        \"Exercise 4.1.1 is successful\")\n",
    "Test.assertEqualsHashed(fact(1000), '66f6bf2c97320c47b40bf44ca7e240762445ff3f', 'Incorrect value of factorial', \n",
    "                        \"Exercise 4.1.1 is successful\")\n",
    "\n",
    "Test.assertEqualsHashed(seq(0,5), '8e00c59f23c7f45c9a30315e0974918dfbbb0613', 'Incorrect range', \"Exercise 4.1.2 is successful\")\n",
    "Test.assertEqualsHashed(seq(10,50), 'd0a65e2c833f71fbba560739dae2c17797bc4d52', 'Incorrect range', \"Exercise 4.1.2 is successful\")\n",
    "Test.assertEqualsHashed(seq(62,17), 'e7faf900199d9f289057e0c7c45629af72f249f2', 'Incorrect range', \"Exercise 4.1.2 is successful\")\n",
    "Test.assertEqualsHashed(seq(-10,-20), '39afea3d5bfa1bfa1168097ee49e979de0b12953', 'Incorrect range', \"Exercise 4.1.2 is successful\")\n",
    "Test.assertEqualsHashed(seq(-20,-5), 'cdf4161c75d42e5be68c51169ef821bb89f9f5a6', 'Incorrect range', \"Exercise 4.1.2 is successful\")"
   ]
  },
  {
   "cell_type": "markdown",
   "metadata": {},
   "source": [
    "### Positional and Keyword Arguments"
   ]
  },
  {
   "cell_type": "markdown",
   "metadata": {},
   "source": [
    "[[back to top]](#Table-of-Contents)"
   ]
  },
  {
   "cell_type": "markdown",
   "metadata": {},
   "source": [
    "A Python function can accept an arbitrary number of arguments, called **positional arguments**. It can also accept optional named arguments, called *keyword arguments*. Here is an example:"
   ]
  },
  {
   "cell_type": "code",
   "execution_count": 16,
   "metadata": {
    "collapsed": true,
    "scrolled": false
   },
   "outputs": [],
   "source": [
    "def remainder(number, divisor=2):\n",
    "    return number % divisor"
   ]
  },
  {
   "cell_type": "markdown",
   "metadata": {},
   "source": [
    "The second argument of this function, divisor, is optional. If it is not provided by the caller, it will default to the number 2, as show here:"
   ]
  },
  {
   "cell_type": "code",
   "execution_count": 17,
   "metadata": {
    "collapsed": false,
    "scrolled": false
   },
   "outputs": [
    {
     "name": "stdout",
     "output_type": "stream",
     "text": [
      "1\n"
     ]
    }
   ],
   "source": [
    "print remainder(5)"
   ]
  },
  {
   "cell_type": "markdown",
   "metadata": {},
   "source": [
    "There are two equivalent ways of specifying a keyword argument when calling a function:"
   ]
  },
  {
   "cell_type": "code",
   "execution_count": 18,
   "metadata": {
    "collapsed": false,
    "scrolled": false
   },
   "outputs": [
    {
     "name": "stdout",
     "output_type": "stream",
     "text": [
      "2\n",
      "2\n"
     ]
    }
   ],
   "source": [
    "print remainder(5, 3)\n",
    "print remainder(5, divisor=3)"
   ]
  },
  {
   "cell_type": "markdown",
   "metadata": {},
   "source": [
    "In the first case, `3` is understood as the second argument, `divisor`. In the second case, the name of the argument is given explicitly by the caller. This second syntax is clearer and less error-prone than the first one.\n",
    "\n",
    "You may create functions, which are a particular variant of the other function. Thus way in functional programming called **carring**. Currying is like a kind of incremental binding of function arguments.\n",
    "\n",
    "Function that returns a function is called the **factory function**. "
   ]
  },
  {
   "cell_type": "code",
   "execution_count": 19,
   "metadata": {
    "collapsed": false,
    "scrolled": false
   },
   "outputs": [
    {
     "name": "stdout",
     "output_type": "stream",
     "text": [
      "pow(2,3):\n",
      "8\n",
      "pow2(3):\n",
      "9\n"
     ]
    }
   ],
   "source": [
    "def pow(base, power):\n",
    "    return base ** power\n",
    "print \"pow(2,3):\"\n",
    "print pow(2, 3)\n",
    "\n",
    "def pow2(x):\n",
    "    return pow(x, 2)\n",
    "\n",
    "print \"pow2(3):\"\n",
    "print pow2(3)"
   ]
  },
  {
   "cell_type": "markdown",
   "metadata": {},
   "source": [
    "Functions can also accept arbitrary sets of positional and keyword arguments, using the following syntax:"
   ]
  },
  {
   "cell_type": "code",
   "execution_count": 20,
   "metadata": {
    "collapsed": false,
    "scrolled": false
   },
   "outputs": [
    {
     "name": "stdout",
     "output_type": "stream",
     "text": [
      "('Positional arguments:', (1, 2, 3))\n",
      "('Keyword arguments:', {'a': 4, 'b': 5})\n",
      "None\n"
     ]
    }
   ],
   "source": [
    "def f(*args, **kwargs):\n",
    "    print(\"Positional arguments:\", args)\n",
    "    print(\"Keyword arguments:\", kwargs)\n",
    "    \n",
    "print f(1, 2, 3, a=4, b=5)"
   ]
  },
  {
   "cell_type": "markdown",
   "metadata": {},
   "source": [
    "Inside the function, `args` is a tuple containing positional arguments, and `kwargs` is a dictionary containing keyword arguments."
   ]
  },
  {
   "cell_type": "markdown",
   "metadata": {},
   "source": [
    "### Passage by Assignment"
   ]
  },
  {
   "cell_type": "markdown",
   "metadata": {},
   "source": [
    "[[back to top]](#Table-of-Contents)"
   ]
  },
  {
   "cell_type": "markdown",
   "metadata": {},
   "source": [
    "When passing a parameter to a Python function, a *reference* to the object is actually passed (_passage by assignment_):\n",
    "\n",
    "* If the passed object is mutable, it can be modified by the function.\n",
    "* If the passed object is immutable, it cannot be modified by the function."
   ]
  },
  {
   "cell_type": "code",
   "execution_count": 21,
   "metadata": {
    "collapsed": false,
    "scrolled": false
   },
   "outputs": [
    {
     "name": "stdout",
     "output_type": "stream",
     "text": [
      "list modified through function:\n",
      "[1, 2, 3]\n"
     ]
    }
   ],
   "source": [
    "my_list = [1, 2]\n",
    "\n",
    "def add(some_list, value):\n",
    "    some_list.append(value)\n",
    "\n",
    "add(my_list, 3)\n",
    "print \"list modified through function:\"\n",
    "print my_list"
   ]
  },
  {
   "cell_type": "markdown",
   "metadata": {},
   "source": [
    "The function `add()` modifies an object defined outside it (in this case, the object `my_list`); we say this function has _side-effects_. A function with no side-effects is called a _pure function_: it doesn't modify anything in the outer context, and it deterministically returns the same result for any given set of inputs. Pure functions are to be preferred over functions with side-effects.\n",
    "\n",
    "Knowing this can help you spot out subtle bugs. There are further related concepts that are useful to know, including function scopes, naming, binding, and more."
   ]
  },
  {
   "cell_type": "markdown",
   "metadata": {},
   "source": [
    "### Recursion"
   ]
  },
  {
   "cell_type": "markdown",
   "metadata": {},
   "source": [
    "[[back to top]](#Table-of-Contents)"
   ]
  },
  {
   "cell_type": "markdown",
   "metadata": {},
   "source": [
    "Functions can also call themselves, something that is often called recursion. Recursion is a way of programming or coding a problem, in which a function calls itself one or more times in its body. Usually, it is returning the return value of this function call. If a function definition fulfils the condition of recursion, we call this function a recursive function. \n",
    "\n",
    "A recursive function terminates, if with every recursive call the solution of the problem is downsized and moves towards a base case. A base case is a case, where the problem can be solved without further recursion. A recursion can lead to an infinite loop, if the base case is not met in the calls. \n",
    "\n",
    "_Example_:  \n",
    "    \n",
    "    4! = 4 * 3!\n",
    "    3! = 3 * 2!\n",
    "    2! = 2 * 1 \n",
    "\n",
    "Replacing the calculated values gives us the following expression \n",
    "\n",
    "    4! = 4 * 3 * 2 * 1 \n",
    "    \n",
    "Recursion can be very elegant, and can lead to very simple programs. Let's implement the factorial in Python"
   ]
  },
  {
   "cell_type": "code",
   "execution_count": 22,
   "metadata": {
    "collapsed": false,
    "scrolled": false
   },
   "outputs": [
    {
     "name": "stdout",
     "output_type": "stream",
     "text": [
      "Factorial of 5:\n",
      "120\n"
     ]
    }
   ],
   "source": [
    "def fact(n):\n",
    "    if n <= 0:\n",
    "        return 1\n",
    "    return n*fact(n-1)\n",
    "print \"Factorial of 5:\"\n",
    "print fact(5)"
   ]
  },
  {
   "cell_type": "markdown",
   "metadata": {},
   "source": [
    "The Fibonacci sequence are easy to write as a Python function using recursion too: "
   ]
  },
  {
   "cell_type": "code",
   "execution_count": 23,
   "metadata": {
    "collapsed": false,
    "scrolled": false
   },
   "outputs": [
    {
     "name": "stdout",
     "output_type": "stream",
     "text": [
      "10 first number from Fibonacci sequence with recursion:\n",
      "[0, 1, 1, 2, 3, 5, 8, 13, 21, 34]\n",
      "20 first number from Fibonacci sequence with recursion:\n",
      "[0, 1, 1, 2, 3, 5, 8, 13, 21, 34, 55, 89, 144, 233, 377, 610, 987, 1597, 2584, 4181]\n"
     ]
    }
   ],
   "source": [
    "def fib(n):\n",
    "    \"\"\" Return n-th element of Fibonacci sequence \"\"\"\n",
    "    if n == 0:\n",
    "        return 0\n",
    "    elif n == 1:\n",
    "        return 1\n",
    "    else:\n",
    "        return fib(n-1) + fib(n-2)\n",
    "    \n",
    "def fibonacci(n):\n",
    "    a = []\n",
    "    for i in range(n):\n",
    "        a.append(fib(i))\n",
    "    return a\n",
    "\n",
    "print \"10 first number from Fibonacci sequence with recursion:\"\n",
    "print fibonacci(10)\n",
    "print \"20 first number from Fibonacci sequence with recursion:\"\n",
    "print fibonacci(20)"
   ]
  },
  {
   "cell_type": "markdown",
   "metadata": {},
   "source": [
    "Let's also write a recusive Python function for the involution: "
   ]
  },
  {
   "cell_type": "code",
   "execution_count": 24,
   "metadata": {
    "collapsed": false,
    "scrolled": false
   },
   "outputs": [
    {
     "name": "stdout",
     "output_type": "stream",
     "text": [
      "Involution 2 by 5\n",
      "32\n"
     ]
    }
   ],
   "source": [
    "def pow(x, y):\n",
    "    if y == 0:\n",
    "        return 1\n",
    "    else:\n",
    "        return x * pow(x, y-1)\n",
    "print \"Involution 2 by 5\"\n",
    "print pow(2, 5)"
   ]
  },
  {
   "cell_type": "markdown",
   "metadata": {},
   "source": [
    "If a recursion never reaches a base case, it goes on making recursive calls forever, and the program never terminates. This is known as infinite recursion, and it is generally not a good idea. Here is a minimal program with an infinite recursion:\n",
    "\n",
    "    def recurse():       \n",
    "        recurse()\n",
    "        \n",
    "Note, recursion is a wonderfull alternative for loops, but it has some restriction connected with available memory. Thus, it can work to the depth of 10 000."
   ]
  },
  {
   "cell_type": "markdown",
   "metadata": {},
   "source": [
    ">### Exercise 4.2\n",
    "\n",
    ">* Write a recursive Python function `rec_sum(n)` that returns the sum of the first `n` integers."
   ]
  },
  {
   "cell_type": "code",
   "execution_count": 34,
   "metadata": {
    "collapsed": false,
    "scrolled": false
   },
   "outputs": [],
   "source": [
    "# type your code here\n",
    "def rec_sum(n):\n",
    "    if n<1:\n",
    "        return 0\n",
    "    else:\n",
    "        return n + rec_sum(n-1)"
   ]
  },
  {
   "cell_type": "code",
   "execution_count": 35,
   "metadata": {
    "collapsed": false
   },
   "outputs": [
    {
     "name": "stdout",
     "output_type": "stream",
     "text": [
      "1 test passed. Exercise 4.2 is successful\n",
      "1 test passed. Exercise 4.2 is successful\n",
      "1 test passed. Exercise 4.2 is successful\n",
      "1 test passed. Exercise 4.2 is successful\n",
      "1 test passed. Exercise 4.2 is successful\n"
     ]
    }
   ],
   "source": [
    "Test.assertEqualsHashed(rec_sum(0), 'b6589fc6ab0dc82cf12099d1c2d40ab994e8410c', 'Incorrect sum', \"Exercise 4.2 is successful\")\n",
    "Test.assertEqualsHashed(rec_sum(1), '356a192b7913b04c54574d18c28d46e6395428ab', 'Incorrect sum', \"Exercise 4.2 is successful\")\n",
    "Test.assertEqualsHashed(rec_sum(5), 'f1abd670358e036c31296e66b3b66c382ac00812', 'Incorrect sum', \"Exercise 4.2 is successful\")\n",
    "Test.assertEqualsHashed(rec_sum(100), '9b248b3c1308cf3f57f4220ec2aea2c0e9545921', 'Incorrect sum', \"Exercise 4.2 is successful\")\n",
    "Test.assertEqualsHashed(rec_sum(-10), 'b6589fc6ab0dc82cf12099d1c2d40ab994e8410c', 'Incorrect sum', \"Exercise 4.2 is successful\")"
   ]
  },
  {
   "cell_type": "markdown",
   "metadata": {},
   "source": [
    "<center><h3>Presented by <a target=\"_blank\" href=\"http://datascience-school.com\">datascience-school.com</a></h3></center>"
   ]
  }
 ],
 "metadata": {
  "anaconda-cloud": {},
  "kernelspec": {
   "display_name": "Python 2",
   "language": "python",
   "name": "python2"
  },
  "language_info": {
   "codemirror_mode": {
    "name": "ipython",
    "version": 2
   },
   "file_extension": ".py",
   "mimetype": "text/x-python",
   "name": "python",
   "nbconvert_exporter": "python",
   "pygments_lexer": "ipython2",
   "version": "2.7.10"
  }
 },
 "nbformat": 4,
 "nbformat_minor": 1
}
