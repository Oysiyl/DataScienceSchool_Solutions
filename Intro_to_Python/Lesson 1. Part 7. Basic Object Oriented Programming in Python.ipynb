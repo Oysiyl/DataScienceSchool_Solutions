{
 "cells": [
  {
   "cell_type": "markdown",
   "metadata": {},
   "source": [
    "---\n",
    "<center><h1> Lesson 1 - Crash course into Python</h1></center>\n",
    "---\n",
    "---\n",
    "\n",
    "<center><h1>Part 7. Basic Object Oriented Programming in Python</h1></center>\n",
    "\n",
    "---"
   ]
  },
  {
   "cell_type": "markdown",
   "metadata": {},
   "source": [
    "## Table of Contents\n",
    "- [Basic Object Oriented Programming in Python](#Basic-Object-Oriented-Programming-in-Python)\n",
    "    * [Creating Classes and Instance Objects](#Creating-Classes-and-Instance-Objects)\n",
    "    * [Data Encapsulation](#Data-Encapsulation)\n",
    "    * [Inheritance](#Inheritance)\n",
    "    * [Accessing Attributes and Destroying Objects](#Accessing-Attributes-and-Destroying-Objects)\n",
    "    * [Overriding Methods and Overloading Operators](#Overriding-Methods-and-Overloading-Operators)\n",
    "    * [Magic Methods](#Magic-Methods)\n",
    "    * [Exercise 7.1](#Exercise-7.1)"
   ]
  },
  {
   "cell_type": "markdown",
   "metadata": {},
   "source": [
    "---\n",
    "## Basic Object Oriented Programming in Python"
   ]
  },
  {
   "cell_type": "markdown",
   "metadata": {},
   "source": [
    "Python is what is known as an object-oriented programming language. This means python allows a programmer to define special custom data structures called classes that not only can contain their own data elements, but special fucntions called methods that can potentially alter a class instance's internal state. \n",
    "\n",
    "Classes are defined through the keyword `class`, followed by the name of the class, which, by convention, is capitalized. This is followed by a code block that specifies the methods that define a class. Note that classes are a rich and complex topic in python. However, much of the functionality a data scientist may wish to use, in particular, python's machine learning libraries, will be accessed through class objects.\n",
    "\n",
    "We will consider only basic aspects of OOP in Python. Please see the [official documentation](http://docs.python.org/2/tutorial/classes.html) for more info."
   ]
  },
  {
   "cell_type": "markdown",
   "metadata": {},
   "source": [
    "### Creating Classes and Instance Objects"
   ]
  },
  {
   "cell_type": "markdown",
   "metadata": {},
   "source": [
    "[[back to top]](#Table-of-Contents)"
   ]
  },
  {
   "cell_type": "markdown",
   "metadata": {},
   "source": [
    "The `class` statement creates a new class definition. \n",
    "\n",
    "Let's create an object that will define vector in 2D and operations with it"
   ]
  },
  {
   "cell_type": "code",
   "execution_count": 1,
   "metadata": {
    "collapsed": true,
    "scrolled": false
   },
   "outputs": [],
   "source": [
    "import math\n",
    "\n",
    "class Vector:\n",
    "    \"\"\" This object that defines vector in 2D and operations with it \"\"\"\n",
    "    \n",
    "    beginVal = [0, 0]\n",
    "    \n",
    "    def __init__(self, xPoint, yPoint):\n",
    "        self.x = xPoint\n",
    "        self.y = yPoint\n",
    "        \n",
    "    def len(self):\n",
    "        return math.sqrt(self.x**2 + self.y**2)\n",
    "    \n",
    "    def normalize(self):\n",
    "        normalized = (self.x/self.len(), self.y/self.len())\n",
    "        return Vector(*normalized)\n",
    "    \n",
    "    def reset(self):\n",
    "        self.x, self.y = Vector.beginVal\n",
    "        \n",
    "    def show_coordinates(self):\n",
    "        print \"({}, {})\".format(self.x, self.y)"
   ]
  },
  {
   "cell_type": "markdown",
   "metadata": {},
   "source": [
    "The class has a documentation string, which can be accessed via `ClassName.__doc__`"
   ]
  },
  {
   "cell_type": "code",
   "execution_count": 2,
   "metadata": {
    "collapsed": false,
    "scrolled": false
   },
   "outputs": [
    {
     "data": {
      "text/plain": [
       "' This object that defines vector in 2D and operations with it '"
      ]
     },
     "execution_count": 2,
     "metadata": {},
     "output_type": "execute_result"
    }
   ],
   "source": [
    "Vector.__doc__"
   ]
  },
  {
   "cell_type": "markdown",
   "metadata": {},
   "source": [
    "The variable `beginVal` is a class variable whose value is shared among all instances of a this class. This can be accessed as `Vector.beginVal` from inside the class or outside the class."
   ]
  },
  {
   "cell_type": "code",
   "execution_count": 3,
   "metadata": {
    "collapsed": false,
    "scrolled": false
   },
   "outputs": [
    {
     "data": {
      "text/plain": [
       "[0, 0]"
      ]
     },
     "execution_count": 3,
     "metadata": {},
     "output_type": "execute_result"
    }
   ],
   "source": [
    "Vector.beginVal"
   ]
  },
  {
   "cell_type": "markdown",
   "metadata": {},
   "source": [
    "The first method `__init__()` is a special method, which is called class constructor or initialization method that Python calls when you create a new instance of this class.\n",
    "\n",
    "You declare other class methods like normal functions with the exception that the first argument to each method is `self`. Python adds the `self` argument to the list for you; you do not need to include it when you call the methods.\n",
    "\n",
    "Functions `__init__()`, `len()` and `normalize()` are called _methods_ of the class; `x` and `y` variables are called _attributes_ of the class.\n",
    "\n",
    "You may return a new instance class object in some class method as shown in `normalize` method. This is called _overloading_ (see below). \n",
    "\n",
    "To create instances of a class, you call the class using class name and pass in whatever arguments its `__init__` method accepts."
   ]
  },
  {
   "cell_type": "code",
   "execution_count": 4,
   "metadata": {
    "collapsed": false,
    "scrolled": false
   },
   "outputs": [
    {
     "name": "stdout",
     "output_type": "stream",
     "text": [
      "2.2360679775\n",
      "(1, 2)\n",
      "<__main__.Vector instance at 0x7f0de4667050>\n",
      "(0.4472135955, 0.894427191)\n",
      "-2\n",
      "5\n",
      "(0, 0)\n"
     ]
    }
   ],
   "source": [
    "vec_1 = Vector(1, 2)   # one insatnce of Vector class\n",
    "vec_2 = Vector(-2, 5)  # other instance of Vector class\n",
    "\n",
    "# call Vector class methods\n",
    "print vec_1.len()\n",
    "\n",
    "vec_1.show_coordinates()\n",
    "\n",
    "print vec_1.normalize()   # return a class object\n",
    "norm_vec = vec_1.normalize()\n",
    "\n",
    "norm_vec.show_coordinates()\n",
    "\n",
    "# look at attributes values by directly calling of them\n",
    "print vec_2.x\n",
    "print vec_2.y\n",
    "\n",
    "# Make x and y coordinates of vec_2 equal to zero\n",
    "vec_2.reset()\n",
    "vec_2.show_coordinates()"
   ]
  },
  {
   "cell_type": "markdown",
   "metadata": {},
   "source": [
    "### Data Encapsulation"
   ]
  },
  {
   "cell_type": "markdown",
   "metadata": {},
   "source": [
    "[[back to top]](#Table-of-Contents)"
   ]
  },
  {
   "cell_type": "markdown",
   "metadata": {},
   "source": [
    "If an identifier doesn't start with an underscore character \"\\_\" it can be accessed from outside, i.e. the value can be read and changed. Data can be protected by making members private or protected. Instance variable names starting with two underscore characters cannot be accessed from outside of the class. At least not directly, but they can be accessed through private name mangling. You need to name attributes with a double underscore prefix, and those attributes then are not be directly visible to outsiders."
   ]
  },
  {
   "cell_type": "code",
   "execution_count": 5,
   "metadata": {
    "collapsed": true,
    "scrolled": false
   },
   "outputs": [],
   "source": [
    "class Vehicle:\n",
    "    \"\"\" Describes a vehicle \"\"\"\n",
    "    \n",
    "    def __init__(self, vehicle_type, max_speed=90):\n",
    "        self.__type = vehicle_type\n",
    "        self.max_speed = max_speed\n",
    "        self._speed = 0\n",
    "        \n",
    "    def start(self):\n",
    "        print 'The {} start working'.format(self.__type)\n",
    "        \n",
    "    def speed_increase(self, speed_step):\n",
    "        \"\"\" Increase *self._speed* value on *speed_step* items \"\"\"\n",
    "        self._speed += speed_step\n",
    "        self._speed = self._speed if self._speed <= self.max_speed else self.max_speed\n",
    "        \n",
    "    def speed_decrease(self, speed_step):\n",
    "        \"\"\" Decrease *self._speed* value on *speed_step* items \"\"\"\n",
    "        self._speed -= speed_step  \n",
    "        self._speed = self._speed if self._speed >= 0 else 0\n",
    "    \n",
    "    def get_type(self):\n",
    "        return self.__type\n",
    "\n",
    "    def stop(self):\n",
    "        self._speed = 0\n",
    "        print \"The {} stoped\".format(self.__type)"
   ]
  },
  {
   "cell_type": "code",
   "execution_count": 6,
   "metadata": {
    "collapsed": false,
    "scrolled": false
   },
   "outputs": [
    {
     "name": "stdout",
     "output_type": "stream",
     "text": [
      "The auto start working\n",
      "Auto speed:\n",
      "0\n",
      "Auto type:\n"
     ]
    },
    {
     "ename": "AttributeError",
     "evalue": "Vehicle instance has no attribute '__type'",
     "output_type": "error",
     "traceback": [
      "\u001b[1;31m---------------------------------------------------------------------------\u001b[0m",
      "\u001b[1;31mAttributeError\u001b[0m                            Traceback (most recent call last)",
      "\u001b[1;32m<ipython-input-6-7ea9815b9230>\u001b[0m in \u001b[0;36m<module>\u001b[1;34m()\u001b[0m\n\u001b[0;32m      6\u001b[0m \u001b[1;32mprint\u001b[0m \u001b[0mauto\u001b[0m\u001b[1;33m.\u001b[0m\u001b[0m_speed\u001b[0m\u001b[1;33m\u001b[0m\u001b[0m\n\u001b[0;32m      7\u001b[0m \u001b[1;32mprint\u001b[0m \u001b[1;34m\"Auto type:\"\u001b[0m\u001b[1;33m\u001b[0m\u001b[0m\n\u001b[1;32m----> 8\u001b[1;33m \u001b[1;32mprint\u001b[0m \u001b[0mauto\u001b[0m\u001b[1;33m.\u001b[0m\u001b[0m__type\u001b[0m\u001b[1;33m\u001b[0m\u001b[0m\n\u001b[0m",
      "\u001b[1;31mAttributeError\u001b[0m: Vehicle instance has no attribute '__type'"
     ]
    }
   ],
   "source": [
    "auto = Vehicle('auto')\n",
    "\n",
    "auto.start()\n",
    "\n",
    "print \"Auto speed:\"\n",
    "print auto._speed\n",
    "print \"Auto type:\"\n",
    "print auto.__type"
   ]
  },
  {
   "cell_type": "markdown",
   "metadata": {},
   "source": [
    "Python interpreter cannot find `__type` attribute because we made it invisible."
   ]
  },
  {
   "cell_type": "code",
   "execution_count": 7,
   "metadata": {
    "collapsed": false,
    "scrolled": false
   },
   "outputs": [
    {
     "name": "stdout",
     "output_type": "stream",
     "text": [
      "The bike start working\n",
      "\n",
      "Bike speed: 0\n",
      "Bike type: bike\n",
      "Bike speed increase by 10\n",
      "Bike speed: 10\n",
      "Bike speed increase by 50\n",
      "Bike speed: 60\n",
      "Bike speed increase by 30\n",
      "Bike speed: 90\n",
      "Bike speed decrease by 30\n",
      "Bike speed: 60\n",
      "The bike stoped\n",
      "Bike speed: 0\n"
     ]
    }
   ],
   "source": [
    "bike = Vehicle('bike')\n",
    "\n",
    "bike.start()\n",
    "print \n",
    "print \"Bike speed:\",bike._speed\n",
    "# we maylook at *__type* attribute in such way\n",
    "print \"Bike type:\",bike.get_type()\n",
    "\n",
    "# accelerate the bike\n",
    "bike.speed_increase(10)\n",
    "print \"Bike speed increase by 10\"\n",
    "print \"Bike speed:\",bike._speed\n",
    "\n",
    "bike.speed_increase(50)\n",
    "print \"Bike speed increase by 50\"\n",
    "print \"Bike speed:\",bike._speed\n",
    "\n",
    "bike.speed_increase(30)\n",
    "print \"Bike speed increase by 30\"\n",
    "print \"Bike speed:\",bike._speed\n",
    "\n",
    "# reduce the speed\n",
    "bike.speed_decrease(30)\n",
    "print \"Bike speed decrease by 30\"\n",
    "print \"Bike speed:\",bike._speed\n",
    "\n",
    "bike.stop()\n",
    "print \"Bike speed:\",bike._speed"
   ]
  },
  {
   "cell_type": "markdown",
   "metadata": {},
   "source": [
    "### Inheritance"
   ]
  },
  {
   "cell_type": "markdown",
   "metadata": {},
   "source": [
    "[[back to top]](#Table-of-Contents)"
   ]
  },
  {
   "cell_type": "markdown",
   "metadata": {},
   "source": [
    "Instead of starting from scratch, you can create a class by deriving it from a preexisting class by listing the parent class in parentheses after the new class name.\n",
    "\n",
    "The child class inherits the attributes of its parent class, and you can use those attributes as if they were defined in the child class. A child class can also override data members and methods from the parent."
   ]
  },
  {
   "cell_type": "code",
   "execution_count": 8,
   "metadata": {
    "collapsed": true,
    "scrolled": false
   },
   "outputs": [],
   "source": [
    "class Parent:\n",
    "    \n",
    "    def __init__(self):\n",
    "        print \"Calling parent constructor\"\n",
    "\n",
    "    def parent_method(self):\n",
    "        print 'Calling parent method'\n",
    "        \n",
    "class Child(Parent):\n",
    "    \n",
    "    def __init__(self):\n",
    "        print \"Calling child constructor\"\n",
    "\n",
    "    def child_method(self):\n",
    "        print 'Calling child method'"
   ]
  },
  {
   "cell_type": "code",
   "execution_count": 9,
   "metadata": {
    "collapsed": false,
    "scrolled": false
   },
   "outputs": [
    {
     "name": "stdout",
     "output_type": "stream",
     "text": [
      "Calling child constructor\n",
      "Calling child method\n",
      "Calling parent method\n"
     ]
    }
   ],
   "source": [
    "# instance of child\n",
    "c = Child()         \n",
    "# child calls its method\n",
    "c.child_method()      \n",
    "# calls parent's method\n",
    "c.parent_method()     "
   ]
  },
  {
   "cell_type": "markdown",
   "metadata": {},
   "source": [
    "Ussualy all new classes are inhariting from `object` class (see below).\n",
    "\n",
    "A class can inherit from more than one class. This is called _multiple inheritance_. Syntactically this is extremely easy. All the super-classes are put in parenthesis as a comma separated list behind the class name."
   ]
  },
  {
   "cell_type": "markdown",
   "metadata": {},
   "source": [
    "### Accessing Attributes and Destroying Objects"
   ]
  },
  {
   "cell_type": "markdown",
   "metadata": {},
   "source": [
    "[[back to top]](#Table-of-Contents)"
   ]
  },
  {
   "cell_type": "markdown",
   "metadata": {
    "collapsed": true
   },
   "source": [
    "You may access the object's attributes using the dot operator with object\n",
    "\n",
    "    <ClassName>.<attribute>\n",
    "    \n",
    "for both aim: \n",
    "\n",
    "* to get the attribute value;\n",
    "* to rewrite/update the attribute value.\n",
    "\n",
    "Let's create a new class Junior, which will represent a such worker's properties as name, surname, age, job and salary"
   ]
  },
  {
   "cell_type": "code",
   "execution_count": 10,
   "metadata": {
    "collapsed": true,
    "scrolled": false
   },
   "outputs": [],
   "source": [
    "class Junior(object):\n",
    "    \n",
    "    def __init__(self, name, surname, age, job, salary):\n",
    "        self.name = name           \n",
    "        self.surname = surname           \n",
    "        self.age = age  \n",
    "        self.job = job\n",
    "        self.salary = salary"
   ]
  },
  {
   "cell_type": "markdown",
   "metadata": {},
   "source": [
    "Only one constructor method was created for now. We will modify this class further. \n",
    "\n",
    "Let's create an instance of Junior and work with its attribute"
   ]
  },
  {
   "cell_type": "code",
   "execution_count": 11,
   "metadata": {
    "collapsed": false,
    "scrolled": false
   },
   "outputs": [
    {
     "name": "stdout",
     "output_type": "stream",
     "text": [
      "Name:\n",
      "John\n",
      "Surname:\n",
      "Smith\n",
      "Age:\n",
      "32\n",
      "Changed age:\n",
      "34\n"
     ]
    }
   ],
   "source": [
    "john = Junior(\"John\", \"Smith\", 32, \"Data Scientist\", \"45000\")\n",
    "print \"Name:\"\n",
    "print john.name\n",
    "print \"Surname:\"\n",
    "print john.surname\n",
    "print \"Age:\"\n",
    "print john.age\n",
    "\n",
    "# update *age* attribute value\n",
    "john.age = 34\n",
    "print \"Changed age:\"\n",
    "print john.age"
   ]
  },
  {
   "cell_type": "markdown",
   "metadata": {},
   "source": [
    "Instead of using the normal statements to access attributes, you can use the following functions −\n",
    "\n",
    "* `getattr(obj, name)`: to access the attribute of object.\n",
    "\n",
    "* hasattr(obj, name)`: to check if an attribute exists or not.\n",
    "\n",
    "* `setattr(obj, name, value)`: to set an attribute. If attribute does not exist, then it would be created.\n",
    "\n",
    "* delattr(obj, name)`: to delete an attribute."
   ]
  },
  {
   "cell_type": "code",
   "execution_count": 12,
   "metadata": {
    "collapsed": false,
    "scrolled": false
   },
   "outputs": [
    {
     "name": "stdout",
     "output_type": "stream",
     "text": [
      "john.salary:\n",
      "45000\n",
      "getattr(john, 'salary'):\n",
      "45000\n",
      "hasattr(john, 'experience'):\n",
      "False\n",
      "hasattr(john, 'salary'):\n",
      "True\n",
      "john.salary:\n",
      "45000\n",
      "john.salary after change:\n",
      "55000\n",
      "getattr(john, 'age'):\n",
      "34\n",
      "getattr(john, 'age') after deletion:\n"
     ]
    },
    {
     "ename": "AttributeError",
     "evalue": "'Junior' object has no attribute 'age'",
     "output_type": "error",
     "traceback": [
      "\u001b[1;31m---------------------------------------------------------------------------\u001b[0m",
      "\u001b[1;31mAttributeError\u001b[0m                            Traceback (most recent call last)",
      "\u001b[1;32m<ipython-input-12-e9f69b7c0cb3>\u001b[0m in \u001b[0;36m<module>\u001b[1;34m()\u001b[0m\n\u001b[0;32m     23\u001b[0m \u001b[0mdelattr\u001b[0m\u001b[1;33m(\u001b[0m\u001b[0mjohn\u001b[0m\u001b[1;33m,\u001b[0m \u001b[1;34m'age'\u001b[0m\u001b[1;33m)\u001b[0m\u001b[1;33m\u001b[0m\u001b[0m\n\u001b[0;32m     24\u001b[0m \u001b[1;32mprint\u001b[0m \u001b[1;34m\"getattr(john, 'age') after deletion:\"\u001b[0m\u001b[1;33m\u001b[0m\u001b[0m\n\u001b[1;32m---> 25\u001b[1;33m \u001b[1;32mprint\u001b[0m \u001b[0mgetattr\u001b[0m\u001b[1;33m(\u001b[0m\u001b[0mjohn\u001b[0m\u001b[1;33m,\u001b[0m \u001b[1;34m'age'\u001b[0m\u001b[1;33m)\u001b[0m\u001b[1;33m\u001b[0m\u001b[0m\n\u001b[0m",
      "\u001b[1;31mAttributeError\u001b[0m: 'Junior' object has no attribute 'age'"
     ]
    }
   ],
   "source": [
    "# look at John's salary\n",
    "print \"john.salary:\"\n",
    "print john.salary\n",
    "print \"getattr(john, 'salary'):\"\n",
    "print getattr(john, 'salary')\n",
    "\n",
    "# verify whether *john* instance has an attribute\n",
    "print \"hasattr(john, 'experience'):\"\n",
    "print hasattr(john, 'experience')   # *john* has no *expirience* attribute\n",
    "print \"hasattr(john, 'salary'):\"\n",
    "print hasattr(john, 'salary')\n",
    "\n",
    "# set new salary value\n",
    "print \"john.salary:\"\n",
    "print john.salary\n",
    "setattr(john, 'salary', 55000)\n",
    "print \"john.salary after change:\"\n",
    "print john.salary\n",
    "\n",
    "# remove age attribue\n",
    "print \"getattr(john, 'age'):\"\n",
    "print getattr(john, 'age')\n",
    "delattr(john, 'age')\n",
    "print \"getattr(john, 'age') after deletion:\"\n",
    "print getattr(john, 'age')"
   ]
  },
  {
   "cell_type": "markdown",
   "metadata": {},
   "source": [
    "Python deletes unneeded objects automatically to free the memory space. The process by which Python periodically reclaims blocks of memory that no longer are in use is termed _Garbage Collection_.\n",
    "\n",
    "An object's reference count increases when it is assigned a new name or placed in a container (list, tuple, or dictionary). The object's reference count decreases when it's deleted with `del`, its reference is reassigned, or its reference goes out of scope. When an object's reference count reaches zero, Python collects it automatically.\n",
    "\n",
    "You normally will not notice when the garbage collector destroys an orphaned instance and reclaims its space. But a class can implement the special method `__del__()`, called a destructor, that is invoked when the instance is about to be destroyed. This method might be used to clean up any non memory resources used by an instance."
   ]
  },
  {
   "cell_type": "code",
   "execution_count": 13,
   "metadata": {
    "collapsed": true,
    "scrolled": false
   },
   "outputs": [],
   "source": [
    "class Junior(object):\n",
    "    \n",
    "    def __init__(self, name, surname, age, job, salary):\n",
    "        self.name = name           \n",
    "        self.surname = surname           \n",
    "        self.age = age  \n",
    "        self.job = job\n",
    "        self.salary = salary\n",
    "        \n",
    "    def __str__(self):\n",
    "        return self.name + ' ' + self.surname\n",
    "    \n",
    "    def __del__(self):\n",
    "        print self.__class__.__name__, \"destroyed\""
   ]
  },
  {
   "cell_type": "markdown",
   "metadata": {},
   "source": [
    "The special method `__str__()` is called when you use `print()` function. Attribute `__name__` defines the class name.  "
   ]
  },
  {
   "cell_type": "code",
   "execution_count": 14,
   "metadata": {
    "collapsed": false,
    "scrolled": false
   },
   "outputs": [
    {
     "name": "stdout",
     "output_type": "stream",
     "text": [
      "Rocky Balboa\n",
      "Junior destroyed\n"
     ]
    },
    {
     "ename": "NameError",
     "evalue": "name 'rocky' is not defined",
     "output_type": "error",
     "traceback": [
      "\u001b[1;31m---------------------------------------------------------------------------\u001b[0m",
      "\u001b[1;31mNameError\u001b[0m                                 Traceback (most recent call last)",
      "\u001b[1;32m<ipython-input-14-d98a4eeab190>\u001b[0m in \u001b[0;36m<module>\u001b[1;34m()\u001b[0m\n\u001b[0;32m      4\u001b[0m \u001b[1;33m\u001b[0m\u001b[0m\n\u001b[0;32m      5\u001b[0m \u001b[1;32mdel\u001b[0m \u001b[0mrocky\u001b[0m\u001b[1;33m\u001b[0m\u001b[0m\n\u001b[1;32m----> 6\u001b[1;33m \u001b[1;32mprint\u001b[0m \u001b[0mrocky\u001b[0m\u001b[1;33m\u001b[0m\u001b[0m\n\u001b[0m",
      "\u001b[1;31mNameError\u001b[0m: name 'rocky' is not defined"
     ]
    }
   ],
   "source": [
    "rocky = Junior(\"Rocky\", \"Balboa\", \"23\", \"Web Developer\", \"35000\")\n",
    "\n",
    "print rocky\n",
    "\n",
    "del rocky\n",
    "print rocky"
   ]
  },
  {
   "cell_type": "markdown",
   "metadata": {},
   "source": [
    "Thus, we have deleted only class instance, but not whole class object. "
   ]
  },
  {
   "cell_type": "code",
   "execution_count": 15,
   "metadata": {
    "collapsed": false,
    "scrolled": false
   },
   "outputs": [
    {
     "name": "stdout",
     "output_type": "stream",
     "text": [
      "Rocky Balboa\n"
     ]
    }
   ],
   "source": [
    "rocky = Junior(\"Rocky\", \"Balboa\", \"23\", \"Web Developer\", \"35000\")\n",
    "\n",
    "print rocky"
   ]
  },
  {
   "cell_type": "markdown",
   "metadata": {},
   "source": [
    "### Overriding Methods and Overloading Operators"
   ]
  },
  {
   "cell_type": "markdown",
   "metadata": {},
   "source": [
    "[[back to top]](#Table-of-Contents)"
   ]
  },
  {
   "cell_type": "markdown",
   "metadata": {},
   "source": [
    "You can always override your parent class methods. One reason for overriding parent's methods is because you may want special or different functionality in your subclass."
   ]
  },
  {
   "cell_type": "markdown",
   "metadata": {},
   "source": [
    "Consider `Vehicle` class as a parent class let's create a child class, where we will override a few parent methods including constructor (An example of the  overloading we have provided in [`normilize()` method of `Vector` class](#class))"
   ]
  },
  {
   "cell_type": "code",
   "execution_count": 16,
   "metadata": {
    "collapsed": true,
    "scrolled": false
   },
   "outputs": [],
   "source": [
    "class Bike(Vehicle):\n",
    "    \n",
    "    def __init__(self, max_speed=240):\n",
    "        self._speed = 0\n",
    "        self.max_speed = max_speed\n",
    "        \n",
    "    def start(self):\n",
    "        print 'The bike start working'\n",
    "\n",
    "    def stop(self):\n",
    "        self._speed = 0\n",
    "        print \"The bike stoped\"\n",
    "        \n",
    "# all other methods we do not need to change"
   ]
  },
  {
   "cell_type": "code",
   "execution_count": 17,
   "metadata": {
    "collapsed": false,
    "scrolled": false
   },
   "outputs": [
    {
     "name": "stdout",
     "output_type": "stream",
     "text": [
      "The bike start working\n",
      "Bike speed increase by 10\n",
      "Bike speed: 10\n",
      "Bike speed decrease by 30\n",
      "Bike speed: 0\n",
      "The bike stoped\n",
      "Bike speed: 0\n"
     ]
    }
   ],
   "source": [
    "bike = Bike(150)\n",
    "\n",
    "bike.start()\n",
    "\n",
    "bike.speed_increase(10)\n",
    "print \"Bike speed increase by 10\"\n",
    "print \"Bike speed:\",bike._speed\n",
    "\n",
    "bike.speed_decrease(30)\n",
    "print \"Bike speed decrease by 30\"\n",
    "print \"Bike speed:\",bike._speed\n",
    "\n",
    "bike.stop()\n",
    "print \"Bike speed:\",bike._speed"
   ]
  },
  {
   "cell_type": "markdown",
   "metadata": {},
   "source": [
    "You can use `issubclass()` or `isinstance()` functions to check a relationships of two classes and instances. "
   ]
  },
  {
   "cell_type": "code",
   "execution_count": 18,
   "metadata": {
    "collapsed": false,
    "scrolled": false
   },
   "outputs": [
    {
     "name": "stdout",
     "output_type": "stream",
     "text": [
      "issubclass(Bike, Vehicle):\n",
      "True\n",
      "isinstance(Bike, Vehicle):\n",
      "False\n"
     ]
    }
   ],
   "source": [
    "print \"issubclass(Bike, Vehicle):\"\n",
    "print issubclass(Bike, Vehicle)\n",
    "print \"isinstance(Bike, Vehicle):\"\n",
    "print isinstance(Bike, Vehicle)"
   ]
  },
  {
   "cell_type": "code",
   "execution_count": 19,
   "metadata": {
    "collapsed": false,
    "scrolled": false
   },
   "outputs": [
    {
     "name": "stdout",
     "output_type": "stream",
     "text": [
      "isinstance(Bike, Vehicle):\n",
      "False\n",
      "isinstance(bike, Bike):\n",
      "True\n"
     ]
    }
   ],
   "source": [
    "print \"isinstance(Bike, Vehicle):\"\n",
    "print isinstance(Bike, Vehicle)\n",
    "print \"isinstance(bike, Bike):\"\n",
    "print isinstance(bike, Bike)"
   ]
  },
  {
   "cell_type": "markdown",
   "metadata": {},
   "source": [
    "### Magic Methods"
   ]
  },
  {
   "cell_type": "markdown",
   "metadata": {},
   "source": [
    "[[back to top]](#Table-of-Contents)"
   ]
  },
  {
   "cell_type": "markdown",
   "metadata": {
    "collapsed": true
   },
   "source": [
    "The so-called magic methods have nothing to do with wizardry. They are the methods with this clumsy syntax, i.e. the double underscores at the beginning and the end. They allows set or overload many basic Python operations.\n",
    "\n",
    "It's even possible to overload the \"+\" operator as well as all the other operators for the purposes of your own class. To do this, you need to understand the underlying mechanism. There is a special (or a \"magic\") method for every operator sign. The method The magic method for the \"+\" sign is the `__add__()` method. For \"-\" it is `__sub__()` and so on. \n",
    "\n",
    "The mechanism works like this: If we have an expression `x + y` and `x` is an instance of class `K`, then Python will check the class definition of `K`. If `K` has a method `__add__()` it will be called with `x.__add__(y)`, otherwise we will get an error message. \n",
    "\n",
    "The full list of magic methods can be found [here](https://docs.python.org/2/reference/datamodel.html).\n",
    "\n",
    "Let's add a few magic methods to class Vector, which we have set above."
   ]
  },
  {
   "cell_type": "code",
   "execution_count": 20,
   "metadata": {
    "collapsed": true,
    "scrolled": false
   },
   "outputs": [],
   "source": [
    "import math\n",
    "\n",
    "class Vector(object):\n",
    "    \"\"\" This object that defines vector in 2D and operations with it \"\"\"\n",
    "    \n",
    "    beginVal = [0, 0]\n",
    "    \n",
    "    def __init__(self, xPoint, yPoint):\n",
    "        self.x = xPoint\n",
    "        self.y = yPoint\n",
    "        \n",
    "    def norm(self):\n",
    "        return math.sqrt(self.x**2 + self.y**2)\n",
    "    \n",
    "    def normalize(self):\n",
    "        normalized = (self.x/self.norm(), self.y/self.norm())\n",
    "        return Vector(*normalized)\n",
    "    \n",
    "    def reset(self):\n",
    "        self.x, self.y = Vector.beginVal\n",
    "    \n",
    "    # scalar product of two vectors\n",
    "    def __mul__(self, other):\n",
    "        return self.x * other.x + self.y * other.y\n",
    "    \n",
    "    # sum of two vectors\n",
    "    def __add__(self, other):\n",
    "        added = (self.x + other.x, self.y + other.y) \n",
    "        return Vector(*added)\n",
    "    \n",
    "    # subtraction of two vectors\n",
    "    def __sub__(self, other):\n",
    "        subbed = (self.x - other.x, self.y - other.y) \n",
    "        return Vector(*subbed)\n",
    "    \n",
    "    # comares if two vectors are equal\n",
    "    def __eq__(self, other):\n",
    "        return self.x == other.x and self.y == other.y\n",
    "    \n",
    "    # compares if the left from sign \"<\" vector is less than the right one\n",
    "    def __lt__(self, other):\n",
    "        return self.norm() < other.norm()\n",
    "    \n",
    "    # compares if the left from sign \">\" vector is greater than the right one\n",
    "    def __gt__(self, other):\n",
    "        return self.norm() > other.norm()\n",
    "    \n",
    "    # finds the absolute value of the vector\n",
    "    def __abs__(self):\n",
    "        return self.norm()\n",
    "    \n",
    "    # changes vector to opposite one\n",
    "    def __neg__(self):\n",
    "        return Vector(-self.x, -self.y)\n",
    "    \n",
    "    # returns the amount of vector components\n",
    "    def __len__(self):\n",
    "        return len((self.x, self.y))\n",
    "    \n",
    "    # works when we print class instance\n",
    "    def __repr__(self):\n",
    "        return \"({}, {})\".format(self.x, self.y)"
   ]
  },
  {
   "cell_type": "code",
   "execution_count": 21,
   "metadata": {
    "collapsed": false,
    "scrolled": false
   },
   "outputs": [
    {
     "name": "stdout",
     "output_type": "stream",
     "text": [
      "vecA: (2, 5)\n",
      "vecB: (-5, 4)\n",
      "vecA.norm(): 5.38516480713\n",
      "vecB.norm(): 6.40312423743\n",
      "abs(vecA): 5.38516480713\n",
      "abs(vecB): 6.40312423743\n",
      "vecA * vecB: 10\n",
      "vecA.__mul__(vecB): 10\n",
      "vecA + vecB: (-3, 9)\n",
      "vecA.__add__(vecB): (-3, 9)\n",
      "vecA - vecB: (7, 1)\n",
      "vecA.__sub__(vecB): (7, 1)\n",
      "vecA == vecB: False\n",
      "vecA.__eq__(vecB): False\n",
      "vecA < vecB: True\n",
      "vecA.__lt__(vecB): True\n",
      "vecA > vecB: False\n",
      "vecA.__gt__(vecB): False\n",
      "-vecA: (-2, -5)\n",
      "vecA.__neg__(): (-2, -5)\n",
      "len(vecB): 2\n",
      "vecB.__len__(): 2\n"
     ]
    }
   ],
   "source": [
    "vecA = Vector(2,5)\n",
    "vecB = Vector(-5,4)\n",
    "\n",
    "print \"vecA:\",vecA\n",
    "print \"vecB:\",vecB\n",
    "\n",
    "print \"vecA.norm():\",vecA.norm()\n",
    "print \"vecB.norm():\",vecB.norm()\n",
    "\n",
    "print \"abs(vecA):\",abs(vecA)\n",
    "print \"abs(vecB):\",abs(vecB)\n",
    "\n",
    "print \"vecA * vecB:\",vecA * vecB\n",
    "print \"vecA.__mul__(vecB):\",vecA.__mul__(vecB)\n",
    "\n",
    "print \"vecA + vecB:\",vecA + vecB\n",
    "print \"vecA.__add__(vecB):\",vecA.__add__(vecB)\n",
    "\n",
    "print \"vecA - vecB:\",vecA - vecB\n",
    "print \"vecA.__sub__(vecB):\",vecA.__sub__(vecB)\n",
    "\n",
    "print \"vecA == vecB:\",vecA == vecB\n",
    "print \"vecA.__eq__(vecB):\",vecA.__eq__(vecB)\n",
    "\n",
    "print \"vecA < vecB:\",vecA < vecB\n",
    "print \"vecA.__lt__(vecB):\",vecA.__lt__(vecB)\n",
    "\n",
    "print \"vecA > vecB:\",vecA > vecB\n",
    "print \"vecA.__gt__(vecB):\",vecA.__gt__(vecB)\n",
    "\n",
    "print \"-vecA:\",-vecA\n",
    "print \"vecA.__neg__():\",vecA.__neg__()\n",
    "\n",
    "print \"len(vecB):\",len(vecB)\n",
    "print \"vecB.__len__():\",vecB.__len__()"
   ]
  },
  {
   "cell_type": "markdown",
   "metadata": {},
   "source": [
    ">### Exercise 7.1\n",
    "\n",
    ">* Expand Python `str` type creating a new class `ExStr`. To do this you need inherit `ExStr` from `str`. `ExStr` should contain the following methods:\n",
    "\n",
    ">    - `head(n)` - returns the first `n` characters of a string, by default this method should return the first character of the string;\n",
    "\n",
    ">    - `tail(n)` - returns the last `n` characters of a string, by default this method should return the last character of the string;\n",
    "\n",
    ">    - `percentage(flag)` - returns percent of vowels if `flag==True` (by default) and consonants letters otherwise in a string, by default the method shoud search vowels;\n",
    "\n",
    ">    - add magic method `__abs__(self)`, which returns the amount of all characters of a string excluding spaces;\n",
    "\n",
    ">    - add `__eq__(self, other)`, `__ne__(self, other)`, `__lt__(self, other)`, `__gt__(self, other)`, `__le__(self, other)` and `__ge__(self, other)` methods that allows compare two strings based on its length, i.e. 'string' < 'long_string' and 'abc' == 'dog';"
   ]
  },
  {
   "cell_type": "code",
   "execution_count": 118,
   "metadata": {
    "collapsed": false,
    "scrolled": false
   },
   "outputs": [],
   "source": [
    "# type your code here\n",
    "class ExStr(str):\n",
    "    n = None\n",
    "    def __init__(self, string):\n",
    "        self.string = string\n",
    "        #self.n = 0\n",
    "        self.flag = True\n",
    "          \n",
    "    def head(self, n=None):\n",
    "        if n is None:\n",
    "            self.n = 0\n",
    "            return self.string[self.n]\n",
    "        else:\n",
    "            self.n = n\n",
    "        return self.string[:self.n]\n",
    "        \n",
    "    def tail(self, n=None):\n",
    "        if n is None:\n",
    "            self.n = -1\n",
    "            return self.string[self.n]\n",
    "        else:\n",
    "            self.n = -n\n",
    "        return self.string[self.n:]\n",
    "\n",
    "    def percentage(self,flag=None):\n",
    "        vowels=0\n",
    "        consonant=0\n",
    "        for i in self.string:\n",
    "            if(i=='a' or i=='e' or i=='i' or i=='o' or i=='u' or i=='A' or i=='E' or i=='I' or i=='O' or i=='U'):\n",
    "                vowels=vowels+1\n",
    "            elif i.isalpha()==True:\n",
    "                consonant=consonant+1\n",
    "        if flag is None:\n",
    "            self.flag = True\n",
    "            return float(vowels)/len(self.string)\n",
    "        else:\n",
    "            self.flag = flag\n",
    "            return float(consonant)/len(self.string) \n",
    "        \n",
    "    def __abs__(self):\n",
    "        return len(\"\".join(self.string.split()))\n",
    "    # comares if two vectors are equal\n",
    "    def __eq__(self, other):\n",
    "        return self.string == other.string\n",
    "    \n",
    "    # compares if the left from sign \"<\" vector is less than the right one\n",
    "    def __lt__(self, other):\n",
    "        return self.string < other.string\n",
    "    \n",
    "    # compares if the left from sign \">\" vector is greater than the right one\n",
    "    def __gt__(self, other):\n",
    "        return self.string > other.string \n",
    "    \n",
    "        # comares if two vectors are equal\n",
    "    def __ne__(self, other):\n",
    "        return self.string != other.string\n",
    "    \n",
    "    # compares if the left from sign \"<\" vector is less than the right one\n",
    "    def __le__(self, other):\n",
    "        return self.string <= other.string\n",
    "    \n",
    "    # compares if the left from sign \">\" vector is greater than the right one\n",
    "    def __ge__(self, other):\n",
    "        return self.string >= other.string\n",
    "    \n",
    "# all other methods we do not need to change"
   ]
  },
  {
   "cell_type": "code",
   "execution_count": 119,
   "metadata": {
    "collapsed": false
   },
   "outputs": [
    {
     "name": "stdout",
     "output_type": "stream",
     "text": [
      "1 test passed. Exercise 7.1.1 is successful\n",
      "1 test passed. Exercise 7.1.2 is successful\n",
      "1 test passed. Exercise 7.1.3 is successful\n",
      "1 test passed. Exercise 7.1.3 is successful\n",
      "1 test passed. Exercise 7.1.4 is successful\n",
      "1 test passed. Exercise 7.1.4 is successful\n",
      "1 test passed. Exercise 7.1.5 is successful\n",
      "1 test passed. Exercise 7.1.5 is successful\n",
      "1 test passed. Exercise 7.1.6 is successful\n",
      "1 test passed. Exercise 7.1.6 is successful\n",
      "1 test passed. Exercise 7.1.6 is successful\n",
      "1 test passed. Exercise 7.1.6 is successful\n",
      "1 test passed. Exercise 7.1.6 is successful\n",
      "1 test passed. Exercise 7.1.6 is successful\n",
      "1 test passed. Exercise 7.1.6 is successful\n",
      "1 test passed. Exercise 7.1.6 is successful\n"
     ]
    }
   ],
   "source": [
    "from test_helper import Test\n",
    "\n",
    "s = ExStr('It is the test123! string')\n",
    "s1 = ExStr('string')\n",
    "s2 = ExStr('substring')\n",
    "s3 = ExStr('python')\n",
    "\n",
    "Test.assertEqualsHashed(s.split(), '5428dde011436690aa573bd8219ab019342367d7', \n",
    "                        'Incorrect output or undefined method', \"Exercise 7.1.1 is successful\")\n",
    "Test.assertEqualsHashed(s.count('t'), 'ac3478d69a3c81fa62e60f5c3696165a4e5e6ac4', \n",
    "                        'Incorrect output or undefined method', \"Exercise 7.1.2 is successful\")\n",
    "Test.assertEqualsHashed(s.head(), 'ca73ab65568cd125c2d27a22bbd9e863c10b675d', \n",
    "                        'Incorrect output or undefined method', \"Exercise 7.1.3 is successful\")\n",
    "Test.assertEqualsHashed(s.head(5), '3dd5d5b49f19e1af8608ede7c4aa585a51f279cb', \n",
    "                        'Incorrect output or undefined method', \"Exercise 7.1.3 is successful\")\n",
    "Test.assertEqualsHashed(s.tail(), '54fd1711209fb1c0781092374132c66e79e2241b',  \n",
    "                        'Incorrect output or undefined method', \"Exercise 7.1.4 is successful\")\n",
    "Test.assertEqualsHashed(s.tail(5), 'fb12ce1b4d28c72355a7652a5f8179cafe4ef838', \n",
    "                        'Incorrect output or undefined method', \"Exercise 7.1.4 is successful\")\n",
    "Test.assertEqualsHashed(s.percentage(), '9588c3fcb43fc86f5ac79164cedf59e8e7b9e7ec', \n",
    "                        'Incorrect output or undefined method', \"Exercise 7.1.5 is successful\")\n",
    "Test.assertEqualsHashed(s.percentage(False), 'bc0d5950400d4df7183f1f23d44ed27def3095df', \n",
    "                        'Incorrect output or undefined method', \"Exercise 7.1.5 is successful\")\n",
    "Test.assertEqualsHashed(abs(s), '472b07b9fcf2c2451e8781e944bf5f77cd8457c8', \n",
    "                        'Incorrect output or undefined method', \"Exercise 7.1.6 is successful\")\n",
    "Test.assertEqualsHashed((str(s1 == s2) + '1'), '3f67b6a7b7aa00ae3287c8bf6e7ab14142ca122b', \n",
    "                        'Incorrect output or undefined method', \"Exercise 7.1.6 is successful\")\n",
    "Test.assertEqualsHashed((str(s1 == s3) + '2'), '6ff3852415dce38f510bcf0700853784fdc37208', \n",
    "                        'Incorrect output or undefined method', \"Exercise 7.1.6 is successful\")\n",
    "Test.assertEqualsHashed((str(s1 != s2) + '3'), '94f4f4cdd155629796cfb8e289921744f6ec7082', \n",
    "                        'Incorrect output or undefined method', \"Exercise 7.1.6 is successful\")\n",
    "Test.assertEqualsHashed((str(s1 > s2) + '4'), 'c1465f33981bf55f8ac1091cfa38ddb90516d559', \n",
    "                        'Incorrect output or undefined method', \"Exercise 7.1.6 is successful\")\n",
    "Test.assertEqualsHashed((str(s1 < s2) + '5'), '7f24cbef13e3cde330a174f761d9ec43eaa9d590', \n",
    "                        'Incorrect output or undefined method', \"Exercise 7.1.6 is successful\")\n",
    "Test.assertEqualsHashed((str(s1 >= s3) + '6'), '5914588eb82a1657f90b43f632457f35d95f9de1', \n",
    "                        'Incorrect output or undefined method', \"Exercise 7.1.6 is successful\")\n",
    "Test.assertEqualsHashed((str(s1 <= s2) + '7'), '9994ebcedcfa4930635df996e8f9cdc9ebf366dd', \n",
    "                        'Incorrect output or undefined method', \"Exercise 7.1.6 is successful\")"
   ]
  },
  {
   "cell_type": "markdown",
   "metadata": {},
   "source": [
    "<center><h3>Presented by <a target=\"_blank\" href=\"http://datascience-school.com\">datascience-school.com</a></h3></center>"
   ]
  }
 ],
 "metadata": {
  "anaconda-cloud": {},
  "kernelspec": {
   "display_name": "Python 2",
   "language": "python",
   "name": "python2"
  },
  "language_info": {
   "codemirror_mode": {
    "name": "ipython",
    "version": 2
   },
   "file_extension": ".py",
   "mimetype": "text/x-python",
   "name": "python",
   "nbconvert_exporter": "python",
   "pygments_lexer": "ipython2",
   "version": "2.7.10"
  }
 },
 "nbformat": 4,
 "nbformat_minor": 1
}
