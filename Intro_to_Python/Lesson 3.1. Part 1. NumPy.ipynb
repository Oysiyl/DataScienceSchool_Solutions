{
 "cells": [
  {
   "cell_type": "markdown",
   "metadata": {},
   "source": [
    "---\n",
    "<h1><center>Lesson 3.1 - Basic intro to Visualization with Python</center></h1>\n",
    "---\n",
    "---\n",
    "\n",
    "<center><h1>Part 1. NumPy</h1></center>\n",
    "\n",
    "---"
   ]
  },
  {
   "cell_type": "markdown",
   "metadata": {},
   "source": [
    "# Introduction"
   ]
  },
  {
   "cell_type": "markdown",
   "metadata": {},
   "source": [
    "In the Python world, there are multiple tools for data visualizing:\n",
    "* [**matplotlib**](http://matplotlib.org) produces publication quality figures in a variety of hardcopy formats and interactive environments across platforms; you can generate plots, histograms, power spectra, bar charts, errorcharts, scatterplots, etc., with just a few lines of code;\n",
    "* [**Seaborn**](http://stanford.edu/~mwaskom/software/seaborn/index.html) is a library for making attractive and informative statistical graphics in Python;\n",
    "* [**Bokeh**](http://bokeh.pydata.org/en/latest/) targets modern web browsers for presentation; its goal is to provide elegant, concise construction of novel graphics in the style of D3.js, but also deliver this capability with high-performance interactivity over very large or streaming datasets;\n",
    "* [**plotly**](https://plot.ly) generates the most interactive graphs; allows saving them offline and create very rich web-based visualizations;\n",
    "* [**folium**](http://folium.readthedocs.org/en/latest) builds on the data wrangling strengths of the Python ecosystem and the mapping strengths of the [Leaflet.js](http://leafletjs.com) JavaScript library;\n",
    "* [**ggplot**](http://ggplot.yhathq.com) is built for making profressional looking, plots quickly with minimal code;\n",
    "* [**pygal**](http://www.pygal.org/en/latest) features various graph types like bar charts, line charts, XY charts, pie charts, radar charts, dot charts, pyramid charts, funnel charts, gauge charts; is used for creating svg charts\n",
    "\n",
    "and others (particularly, pandas also possesses with its own visualization funtionality). Many of above libraries contains various and powerful tools for geovisualization (using maps or globes). We will consider many examples of such visualization kind in the second part of this lesson **Lesson 3.2 - Geovisualization with Python.ipynb**.\n",
    "\n",
    "The instruction of the library instalation can be found on sites, links to which we have provided above. \n",
    "\n",
    "In this lesson we will consider preferably matplotlib. Matplotlib is an excellent 2D and 3D graphics library for generating scientific, statistics, etc. figures. Some of the many advantages of this library include:\n",
    "\n",
    "* Easy to get started\n",
    "* Support for $\\LaTeX$ formatted labels and texts\n",
    "* Great control of every element in a figure, including figure size and DPI. \n",
    "* High-quality output in many formats, including PNG, PDF, SVG, EPS, and PGF.\n",
    "* GUI for interactively exploring figures *and* support for headless generation of figure files (useful for batch jobs)."
   ]
  },
  {
   "cell_type": "code",
   "execution_count": 1,
   "metadata": {
    "collapsed": true
   },
   "outputs": [],
   "source": [
    "import numpy as np"
   ]
  },
  {
   "cell_type": "markdown",
   "metadata": {
    "collapsed": true
   },
   "source": [
    "We have import above a new module `numpy`. The `numpy` package (module) is used in almost all numerical computation using Python. It is a package that provide high-performance vector, matrix and higher-dimensional data structures for Python. It is implemented in C and Fortran so when calculations are vectorized (formulated with vectors and matrices), performance is very good.\n",
    "\n",
    "Below we have provided only small part of all features and available function set of NumPy. More information you can find at [official site](http://www.numpy.org/)."
   ]
  },
  {
   "cell_type": "markdown",
   "metadata": {},
   "source": [
    "# Table of Contents\n",
    "- [The NumPy array object](#The-NumPy-array-object) \n",
    "- [NumPy array-generating functions](#NumPy-array-generating-functions)\n",
    "- [Manipulating arrays](#Manipulating-arrays)\n",
    "- [Operations on NumPy arrays](#Operations-on-NumPy-arrays)\n",
    "- [Data processing](#Data-processing)\n",
    "- [*Exercise 1.1*](#Exercise-1.1)\n",
    "- [*Exercise 1.2*](#Exercise-1.2)\n",
    "- [*Exercise 1.3*](#Exercise-1.3)\n",
    "- [*Exercise 1.4*](#Exercise-1.4)"
   ]
  },
  {
   "cell_type": "markdown",
   "metadata": {},
   "source": [
    "### The NumPy array object"
   ]
  },
  {
   "cell_type": "markdown",
   "metadata": {},
   "source": [
    "[[back to top]](#Table-of-Contents)"
   ]
  },
  {
   "cell_type": "markdown",
   "metadata": {},
   "source": [
    "To create new vector and matrix arrays from Python lists or tuples we can use the `numpy.array` function."
   ]
  },
  {
   "cell_type": "code",
   "execution_count": 20,
   "metadata": {
    "collapsed": false
   },
   "outputs": [
    {
     "name": "stdout",
     "output_type": "stream",
     "text": [
      "NumPy one dimensional array (vector):\n",
      "v = [1 2 3 4]\n",
      "\n",
      "NumPy two dimensional array (matrix) M:\n",
      "[[1 2]\n",
      " [3 4]\n",
      " [5 6]]\n",
      "\n",
      "Types of v and M: <type 'numpy.ndarray'> <type 'numpy.ndarray'>\n"
     ]
    }
   ],
   "source": [
    "v = np.array([1,2,3,4])\n",
    "print \"NumPy one dimensional array (vector):\\nv =\", v\n",
    "\n",
    "M = np.array([[1, 2], [3, 4], [5, 6]])\n",
    "print \"\\nNumPy two dimensional array (matrix) M:\\n\", M\n",
    "\n",
    "# The `v` and `M` objects are both of the type `ndarray` that the `numpy` module provides.\n",
    "print \"\\nTypes of v and M:\", type(v), type(M)"
   ]
  },
  {
   "cell_type": "markdown",
   "metadata": {},
   "source": [
    "The difference between the `v` and `M` arrays is only their shapes. We can get information about the shape of an array by using the `ndarray.shape` property. The number of elements in the array is available through the ndarray.size property. Equivalently, we could use the function `numpy.shape` and `numpy.size`."
   ]
  },
  {
   "cell_type": "code",
   "execution_count": 3,
   "metadata": {
    "collapsed": false
   },
   "outputs": [
    {
     "name": "stdout",
     "output_type": "stream",
     "text": [
      "v.shape: (4,)\n",
      "M.shape: (3, 2)\n",
      "\n",
      "v contains 4 elements\n",
      "M contains 6 elements\n"
     ]
    }
   ],
   "source": [
    "print \"v.shape:\", v.shape\n",
    "print \"M.shape:\", M.shape\n",
    "\n",
    "print \"\\nv contains {} elements\".format(v.size)\n",
    "print \"M contains {} elements\".format(M.size)"
   ]
  },
  {
   "cell_type": "markdown",
   "metadata": {},
   "source": [
    "More properties of the `numpy` arrays:"
   ]
  },
  {
   "cell_type": "code",
   "execution_count": 4,
   "metadata": {
    "collapsed": false
   },
   "outputs": [
    {
     "name": "stdout",
     "output_type": "stream",
     "text": [
      "M data type: int64\n",
      "M.itemsize: 8\n",
      "M.nbytes: 48\n",
      "M.ndim: 2\n"
     ]
    }
   ],
   "source": [
    "# `dtype` (data type) property shows the type of the data of an array:\n",
    "print \"M data type:\", M.dtype\n",
    "\n",
    "# itemsize returns the bytes per element\n",
    "print \"M.itemsize:\", M.itemsize \n",
    "\n",
    "# `nbytes` returns number of bytes\n",
    "print \"M.nbytes:\", M.nbytes\n",
    "\n",
    "# `ndim` shows number of dimensions\n",
    "print \"M.ndim:\", M.ndim"
   ]
  },
  {
   "cell_type": "markdown",
   "metadata": {},
   "source": [
    "If we want, we can explicitly define the type of the array data when we create it, using the `dtype` keyword argument. Common data types that can be used with dtype are: `int, float, complex, bool, object`, etc. We can also explicitly define the bit size of the data types, for example: `int64, int16, float128, complex128`."
   ]
  },
  {
   "cell_type": "code",
   "execution_count": 5,
   "metadata": {
    "collapsed": false
   },
   "outputs": [
    {
     "name": "stdout",
     "output_type": "stream",
     "text": [
      "a:\n",
      "[[ 1.+0.j  2.+0.j]\n",
      " [ 3.+0.j  4.+0.j]]\n",
      "\n",
      "a.dtype: complex128\n",
      "\n",
      "Real part of all elements in a:\n",
      "[[ 1.  2.]\n",
      " [ 3.  4.]]\n",
      "\n",
      "Imaginary part of all elements in a:\n",
      "[[ 0.  0.]\n",
      " [ 0.  0.]]\n"
     ]
    }
   ],
   "source": [
    "a = np.array([[1, 2], [3, 4]], dtype=complex)\n",
    "print \"a:\\n\", a\n",
    "print \"\\na.dtype:\", a.dtype\n",
    "print \"\\nReal part of all elements in a:\\n\", a.real\n",
    "print \"\\nImaginary part of all elements in a:\\n\", a.imag"
   ]
  },
  {
   "cell_type": "markdown",
   "metadata": {},
   "source": [
    "### NumPy array-generating functions"
   ]
  },
  {
   "cell_type": "markdown",
   "metadata": {},
   "source": [
    "[[back to top]](#Table-of-Contents)"
   ]
  },
  {
   "cell_type": "markdown",
   "metadata": {},
   "source": [
    "For larger arrays it is inpractical to initialize the data manually, using explicit python lists. Instead we can use one of the many functions in NumPy that generate arrays of different forms. Some of the more common are:\n",
    "* `arange`\n",
    "* `linspace`\n",
    "* `logspace`\n",
    "* `mgrid`\n",
    "* `random.rand` and `random.randn`\n",
    "* `diag`\n",
    "* `ones`\n",
    "* `identity`"
   ]
  },
  {
   "cell_type": "code",
   "execution_count": 6,
   "metadata": {
    "collapsed": false
   },
   "outputs": [
    {
     "name": "stdout",
     "output_type": "stream",
     "text": [
      "numpy.arange:\n",
      "np.arange(0, 10, 1):\n",
      "[0 1 2 3 4 5 6 7 8 9]\n",
      "np.arange(-3, 3, 0.5):\n",
      "[-3.  -2.5 -2.  -1.5 -1.  -0.5  0.   0.5  1.   1.5  2.   2.5]\n"
     ]
    }
   ],
   "source": [
    "print \"numpy.arange:\"\n",
    "x_1 = np.arange(0, 10, 1)      # arguments: start, stop, step\n",
    "print \"np.arange(0, 10, 1):\\n\", x_1\n",
    "print \"np.arange(-3, 3, 0.5):\\n\", np.arange(-3, 3, 0.5) "
   ]
  },
  {
   "cell_type": "code",
   "execution_count": 7,
   "metadata": {
    "collapsed": false
   },
   "outputs": [
    {
     "name": "stdout",
     "output_type": "stream",
     "text": [
      "numpy.linspace and numpy.logspace:\n",
      "np.linspace(0, 5, 9):\n",
      "[ 0.     0.625  1.25   1.875  2.5    3.125  3.75   4.375  5.   ]\n",
      "np.logspace(0, 10, 10, base=np.e) [  1.00000000e+00   3.03773178e+00   9.22781435e+00   2.80316249e+01\n",
      "   8.51525577e+01   2.58670631e+02   7.85771994e+02   2.38696456e+03\n",
      "   7.25095809e+03   2.20264658e+04]\n"
     ]
    }
   ],
   "source": [
    "print \"numpy.linspace and numpy.logspace:\"\n",
    "# using linspace and logspace, both end points ARE included\n",
    "x_2 = np.linspace(0, 5, 9)   # arguments: start, stop, points amount between start and end\n",
    "print \"np.linspace(0, 5, 9):\\n\", x_2\n",
    "print \"np.logspace(0, 10, 10, base=np.e)\", np.logspace(0, 10, 10, base=np.e)"
   ]
  },
  {
   "cell_type": "code",
   "execution_count": 8,
   "metadata": {
    "collapsed": false
   },
   "outputs": [
    {
     "name": "stdout",
     "output_type": "stream",
     "text": [
      "numpy.mgrid:\n",
      "np.mgrid[0:3, 0:3]:\n",
      "[[[0 0 0]\n",
      "  [1 1 1]\n",
      "  [2 2 2]]\n",
      "\n",
      " [[0 1 2]\n",
      "  [0 1 2]\n",
      "  [0 1 2]]]\n",
      "np.mgrid[[-1:1, -1:1, -1:1]:\n",
      "[[[[-1 -1]\n",
      "   [-1 -1]]\n",
      "\n",
      "  [[ 0  0]\n",
      "   [ 0  0]]]\n",
      "\n",
      "\n",
      " [[[-1 -1]\n",
      "   [ 0  0]]\n",
      "\n",
      "  [[-1 -1]\n",
      "   [ 0  0]]]\n",
      "\n",
      "\n",
      " [[[-1  0]\n",
      "   [-1  0]]\n",
      "\n",
      "  [[-1  0]\n",
      "   [-1  0]]]]\n"
     ]
    }
   ],
   "source": [
    "print \"numpy.mgrid:\"  \n",
    "# return dense multi-dimensional “meshgrid”\n",
    "x_3 = np.mgrid[0:3, 0:3]      # 2 arrays 3 x 3 with elements from 0 to 2\n",
    "print \"np.mgrid[0:3, 0:3]:\\n\", x_3\n",
    "print \"np.mgrid[[-1:1, -1:1, -1:1]:\\n\", np.mgrid[-1:1, -1:1, -1:1]"
   ]
  },
  {
   "cell_type": "code",
   "execution_count": 9,
   "metadata": {
    "collapsed": false
   },
   "outputs": [
    {
     "name": "stdout",
     "output_type": "stream",
     "text": [
      "numpy.random.rand and numpy.random.randn:\n",
      "random.rand(5,5):\n",
      "[[ 0.25985984  0.47553692  0.40756225  0.1479787   0.35735949]\n",
      " [ 0.41091409  0.24528647  0.70274168  0.60699572  0.06223945]\n",
      " [ 0.05279339  0.32154797  0.17621028  0.85659181  0.47889199]\n",
      " [ 0.98737722  0.80302191  0.486441    0.50902378  0.71187412]\n",
      " [ 0.13049795  0.71300104  0.08434753  0.7407604   0.92300089]]\n",
      "random.randn(5,5):\n",
      "[[ 1.45680241 -1.05957724  0.08462654  0.43975882  0.79377984]\n",
      " [ 0.97873004 -2.03119286  0.79882535  1.91571357 -1.40870831]\n",
      " [-0.09155481 -0.37730435 -0.4136119  -0.36965779 -0.61378394]\n",
      " [ 0.23488234  0.39639137  0.0880123   0.03667094 -2.52262341]\n",
      " [-0.53759106  0.17263359  0.33969737  0.6797806   0.36450538]]\n"
     ]
    }
   ],
   "source": [
    "from numpy import random\n",
    "\n",
    "print \"numpy.random.rand and numpy.random.randn:\" \n",
    "# uniform random numbers in [0,1]\n",
    "print \"random.rand(5,5):\\n\", random.rand(5,5)\n",
    "# standard normal distributed random numbers\n",
    "print \"random.randn(5,5):\\n\", random.randn(5,5)"
   ]
  },
  {
   "cell_type": "code",
   "execution_count": 10,
   "metadata": {
    "collapsed": false
   },
   "outputs": [
    {
     "name": "stdout",
     "output_type": "stream",
     "text": [
      "numpy.diag:\n",
      "np.diag([1,2,3]):\n",
      "[[1 0 0]\n",
      " [0 2 0]\n",
      " [0 0 3]]\n",
      "np.diag([1,2,3], k=1):\n",
      "[[0 1 0 0]\n",
      " [0 0 2 0]\n",
      " [0 0 0 3]\n",
      " [0 0 0 0]]\n"
     ]
    }
   ],
   "source": [
    "print \"numpy.diag:\"\n",
    "# a diagonal matrix\n",
    "print \"np.diag([1,2,3]):\\n\", np.diag([1,2,3])\n",
    "# diagonal with offset from the main diagonal\n",
    "print \"np.diag([1,2,3], k=1):\\n\", np.diag([1,2,3], k=1) "
   ]
  },
  {
   "cell_type": "code",
   "execution_count": 11,
   "metadata": {
    "collapsed": false
   },
   "outputs": [
    {
     "name": "stdout",
     "output_type": "stream",
     "text": [
      "numpy.zeros, numpy.ones and numpy.identity:\n",
      "np.zeros((3,3)):\n",
      "[[ 0.  0.  0.]\n",
      " [ 0.  0.  0.]\n",
      " [ 0.  0.  0.]]\n",
      "np.ones((3,3)):\n",
      "[[ 1.  1.  1.]\n",
      " [ 1.  1.  1.]\n",
      " [ 1.  1.  1.]]\n",
      "np.identity(4):\n",
      "[[ 1.  0.  0.  0.]\n",
      " [ 0.  1.  0.  0.]\n",
      " [ 0.  0.  1.  0.]\n",
      " [ 0.  0.  0.  1.]]\n"
     ]
    }
   ],
   "source": [
    "print \"numpy.zeros, numpy.ones and numpy.identity:\" \n",
    "# array with zeros\n",
    "print \"np.zeros((3,3)):\\n\", np.zeros((3,3))\n",
    "# array with unities\n",
    "print \"np.ones((3,3)):\\n\", np.ones((3,3))\n",
    "# identity matrix\n",
    "print \"np.identity(4):\\n\", np.identity(4)  # argument is the dimension of the squared matrix"
   ]
  },
  {
   "cell_type": "markdown",
   "metadata": {},
   "source": [
    "### Manipulating arrays"
   ]
  },
  {
   "cell_type": "markdown",
   "metadata": {},
   "source": [
    "[[back to top]](#Table-of-Contents)"
   ]
  },
  {
   "cell_type": "markdown",
   "metadata": {
    "collapsed": true
   },
   "source": [
    "**Indexing**\n",
    "\n",
    "We can index elements in an array using square brackets and indices."
   ]
  },
  {
   "cell_type": "code",
   "execution_count": 12,
   "metadata": {
    "collapsed": false
   },
   "outputs": [
    {
     "name": "stdout",
     "output_type": "stream",
     "text": [
      "v[0] = 1\n",
      "\n",
      "M[1,1] = 4\n",
      "\n",
      "The second row of M: M[1] = [3 4]\n",
      "\n",
      "M[1,:] returns also the second row of M: [3 4]\n",
      "\n",
      "The second column of M: M[:,1] = [2 4 6]\n"
     ]
    }
   ],
   "source": [
    "# v is a vector, and has only one dimension, taking one index\n",
    "print \"v[0] =\", v[0]\n",
    "\n",
    "# M is a matrix, or a 2 dimensional array, taking two indices \n",
    "print \"\\nM[1,1] =\", M[1,1]\n",
    "\n",
    "# If we omit an index of a multidimensional array it returns the whole row (or, in general, a N-1 dimensional array)\n",
    "print \"\\nThe second row of M: M[1] =\", M[1]\n",
    "# The same thing can be achieved with using : instead of an index\n",
    "print \"\\nM[1,:] returns also the second row of M:\", M[1,:] # row 1\n",
    "\n",
    "print \"\\nThe second column of M: M[:,1] =\", M[:,1] # column 1"
   ]
  },
  {
   "cell_type": "code",
   "execution_count": 13,
   "metadata": {
    "collapsed": false
   },
   "outputs": [
    {
     "name": "stdout",
     "output_type": "stream",
     "text": [
      "Initial matrix M:\n",
      "[[1 2]\n",
      " [3 4]\n",
      " [5 6]]\n",
      "\n",
      "M[0,0] elements was reassigned to 1:\n",
      "[[-1  2]\n",
      " [ 3  4]\n",
      " [ 5  6]]\n",
      "\n",
      "The second row was replaced to zeros and then the second column eleemts were replaced to -1:\n",
      "[[-1 -1]\n",
      " [ 3 -1]\n",
      " [ 0 -1]]\n"
     ]
    }
   ],
   "source": [
    "print \"Initial matrix M:\"\n",
    "print M\n",
    "\n",
    "#We can assign new values to elements in an array using indexing:\n",
    "M[0,0] = -1\n",
    "print \"\\nM[0,0] elements was reassigned to 1:\"\n",
    "print M\n",
    "\n",
    "# also works for rows and columns\n",
    "M[2,:] = 0\n",
    "M[:,1] = -1\n",
    "print \"\\nThe second row was replaced to zeros and then the second column eleemts were replaced to -1:\"\n",
    "print M"
   ]
  },
  {
   "cell_type": "markdown",
   "metadata": {
    "collapsed": true
   },
   "source": [
    "We can also use index masks: If the index mask is an Numpy array of data type bool, then an element is selected (`True`) or not (`False`) depending on the value of the index mask at the position of each element:"
   ]
  },
  {
   "cell_type": "code",
   "execution_count": 14,
   "metadata": {
    "collapsed": false
   },
   "outputs": [
    {
     "name": "stdout",
     "output_type": "stream",
     "text": [
      "Initial array x:\n",
      "[ 0.   0.5  1.   1.5  2.   2.5  3.   3.5  4.   4.5  5.   5.5  6.   6.5  7.\n",
      "  7.5  8.   8.5  9.   9.5]\n",
      "\n",
      "Mask:\n",
      "[False False False False False False False False False False False  True\n",
      "  True  True  True False False False False False]\n",
      "\n",
      "Elements of x satisfying mask conditions:\n",
      "[ 5.5  6.   6.5  7. ]\n"
     ]
    }
   ],
   "source": [
    "x = np.arange(0, 10, 0.5)\n",
    "print \"Initial array x:\\n\", x\n",
    "\n",
    "# Set the mask for filtering\n",
    "mask = (5 < x) * (x < 7.5)\n",
    "print \"\\nMask:\\n\", mask\n",
    "\n",
    "print \"\\nElements of x satisfying mask conditions:\\n\", x[mask]"
   ]
  },
  {
   "cell_type": "markdown",
   "metadata": {
    "collapsed": true
   },
   "source": [
    "The index mask can be converted to position index using the `numpy.where` function."
   ]
  },
  {
   "cell_type": "code",
   "execution_count": 15,
   "metadata": {
    "collapsed": false
   },
   "outputs": [
    {
     "name": "stdout",
     "output_type": "stream",
     "text": [
      "Indices of `True` elements:\n",
      "(array([ 0,  4,  8, 12, 16]),)\n",
      "\n",
      "Filtered values:\n",
      "[ 0.  2.  4.  6.  8.]\n",
      "\n",
      "x array, where positions satisfying the condition is signed as 1 and others are equal to 0:\n",
      "[1 0 0 0 1 0 0 0 1 0 0 0 1 0 0 0 1 0 0 0]\n",
      "\n",
      "How many elements satisfy the condition: 5\n"
     ]
    }
   ],
   "source": [
    "# Indexes of elements which will remain\n",
    "indices = np.where(x % 2 == 0)\n",
    "print \"Indices of `True` elements:\\n\", indices\n",
    "\n",
    "new_x = x[indices] # this indexing is equivalent to the fancy indexing x[mask]\n",
    "print \"\\nFiltered values:\\n\", new_x\n",
    "\n",
    "# Return elements either from 1 or 0 instead of real values\n",
    "ind = np.where(x % 2 == 0, 1, 0)\n",
    "print \"\\nx array, where positions satisfying the condition is signed as 1 and others are equal to 0:\\n\", ind\n",
    "\n",
    "# It nicely works when you need count how many elements satisfy the condition\n",
    "print \"\\nHow many elements satisfy the condition:\", ind.sum()"
   ]
  },
  {
   "cell_type": "markdown",
   "metadata": {
    "collapsed": true
   },
   "source": [
    "### Operations on NumPy arrays"
   ]
  },
  {
   "cell_type": "markdown",
   "metadata": {},
   "source": [
    "[[back to top]](#Table-of-Contents)"
   ]
  },
  {
   "cell_type": "markdown",
   "metadata": {
    "collapsed": true
   },
   "source": [
    "We can use the usual arithmetic operators to multiply, add, subtract, and divide arrays with scalar numbers."
   ]
  },
  {
   "cell_type": "code",
   "execution_count": 16,
   "metadata": {
    "collapsed": false
   },
   "outputs": [
    {
     "name": "stdout",
     "output_type": "stream",
     "text": [
      "Operations on the array v1: [0 1 2 3 4]\n",
      "\n",
      "v1 * 2: [0 2 4 6 8]\n",
      "\n",
      "v1 + 2: [2 3 4 5 6]\n",
      "\n",
      "\n",
      "Operations on the array M1:\n",
      "[[4 6 9 6 8]\n",
      " [4 4 0 6 7]\n",
      " [0 2 6 7 6]\n",
      " [7 0 1 1 9]\n",
      " [1 0 3 4 3]]\n",
      "\n",
      "M1 * 2:\n",
      "[[ 8 12 18 12 16]\n",
      " [ 8  8  0 12 14]\n",
      " [ 0  4 12 14 12]\n",
      " [14  0  2  2 18]\n",
      " [ 2  0  6  8  6]]\n",
      "\n",
      "M1 + 2:\n",
      "[[ 6  8 11  8 10]\n",
      " [ 6  6  2  8  9]\n",
      " [ 2  4  8  9  8]\n",
      " [ 9  2  3  3 11]\n",
      " [ 3  2  5  6  5]]\n"
     ]
    }
   ],
   "source": [
    "v1 = np.arange(0, 5)\n",
    "print \"Operations on the array v1:\", v1\n",
    "\n",
    "print \"\\nv1 * 2:\", v1 * 2\n",
    "print \"\\nv1 + 2:\", v1 + 2\n",
    "\n",
    "M1 = np.random.randint(10, size=(5, 5))\n",
    "print \"\\n\\nOperations on the array M1:\\n\", M1\n",
    "\n",
    "print \"\\nM1 * 2:\\n\", M1 * 2\n",
    "print \"\\nM1 + 2:\\n\", M1 + 2"
   ]
  },
  {
   "cell_type": "markdown",
   "metadata": {},
   "source": [
    "When we add, subtract, multiply and divide arrays with each other, the default behaviour is element-wise operations:"
   ]
  },
  {
   "cell_type": "code",
   "execution_count": 17,
   "metadata": {
    "collapsed": false
   },
   "outputs": [
    {
     "name": "stdout",
     "output_type": "stream",
     "text": [
      "v1 * v1: [ 0  1  4  9 16]\n",
      "\n",
      "M1 * M1:\n",
      "[[16 36 81 36 64]\n",
      " [16 16  0 36 49]\n",
      " [ 0  4 36 49 36]\n",
      " [49  0  1  1 81]\n",
      " [ 1  0  9 16  9]]\n",
      "\n",
      "M1.shape, v1.shape: (5, 5) (5,)\n",
      "M1 * v1:\n",
      "[[ 0  6 18 18 32]\n",
      " [ 0  4  0 18 28]\n",
      " [ 0  2 12 21 24]\n",
      " [ 0  0  2  3 36]\n",
      " [ 0  0  6 12 12]]\n"
     ]
    }
   ],
   "source": [
    "# Element-wise multiplication\n",
    "print \"v1 * v1:\", v1 * v1\n",
    "print \"\\nM1 * M1:\\n\", M1 * M1\n",
    "\n",
    "# If we multiply arrays with compatible shapes, we get an element-wise multiplication of each row\n",
    "print \"\\nM1.shape, v1.shape:\", M1.shape, v1.shape\n",
    "print \"M1 * v1:\\n\", M1 * v1\n"
   ]
  },
  {
   "cell_type": "markdown",
   "metadata": {
    "collapsed": true
   },
   "source": [
    "`numpy.linalg` has a standard set of matrix decompositions and things like inverse and determinant. \n",
    "\n",
    "A list of some of the most commonly-used linear algebra functions:\n",
    "\n",
    "|Function|Description|\n",
    "|-----|-----|\n",
    "|`diag`|Return the diagonal (or off-diagonal) elements of a square matrix as a 1D array, or convert a 1D array into a square matrix with zeros on the off-diagonal\n",
    "|`dot`|Matrix multiplication\n",
    "|`trace`|Compute the sum of the diagonal elements\n",
    "|`linalg.det`|Compute the matrix determinant\n",
    "|`linalg.eig`|Compute the eigenvalues and eigenvectors of a square matrix\n",
    "|`linalg.inv`|Compute the inverse of a square matrix\n",
    "|`linalg.pinv`|Compute the Moore-Penrose pseudo-inverse inverse of a square matrix\n",
    "|`linalg.qr`|Compute the QR decomposition\n",
    "|`linalg.svd`|Compute the singular value decomposition (SVD)\n",
    "|`linalg.solve`|Solve the linear system Ax = b for x, where A is a square matrix\n",
    "|`linalg.lstsq`|Compute the least-squares solution to y = Xb\n",
    "\n",
    "We can either use the `numpy.dot` function, which applies a matrix-matrix, matrix-vector, or inner vector multiplication to its two arguments:"
   ]
  },
  {
   "cell_type": "code",
   "execution_count": 18,
   "metadata": {
    "collapsed": false
   },
   "outputs": [
    {
     "name": "stdout",
     "output_type": "stream",
     "text": [
      "np.dot(M1, M1):\n",
      "[[ 90  66 120 161 206]\n",
      " [ 81  40  63  82 135]\n",
      " [ 63  20  61  85 131]\n",
      " [ 44  44  97  86  98]\n",
      " [ 35  12  40  43  71]]\n",
      "\n",
      "np.dot(M1, v1): [74 50 59 41 30]\n",
      "\n",
      "np.dot(v1, v1): 30\n",
      "\n",
      "\n",
      "v1.T:\n",
      "[0 1 2 3 4]\n",
      "\n",
      "M1.T:\n",
      "[[4 4 0 7 1]\n",
      " [6 4 2 0 0]\n",
      " [9 0 6 1 3]\n",
      " [6 6 7 1 4]\n",
      " [8 7 6 9 3]]\n",
      "\n",
      "M1.shape, v1.shape: (5, 5) (5,)\n",
      "\n",
      "np.dot(v1, M1): [ -99586.  -27472.  -92718. -133926. -199172.]\n"
     ]
    }
   ],
   "source": [
    "print \"np.dot(M1, M1):\\n\", np.dot(M1, M1)\n",
    "print \"\\nnp.dot(M1, v1):\", np.dot(M1, v1)\n",
    "print \"\\nnp.dot(v1, v1):\", np.dot(v1, v1)\n",
    "\n",
    "# Transope both array\n",
    "print \"\\n\\nv1.T:\\n\", v1.T\n",
    "print \"\\nM1.T:\\n\", M1.T\n",
    "print \"\\nM1.shape, v1.shape:\", M1.shape, v1.shape\n",
    "\n",
    "# np.linalg.det(array) returns determinant\n",
    "print \"\\nnp.dot(v1, M1):\", np.dot(v1, M1) * np.linalg.det(M1)"
   ]
  },
  {
   "cell_type": "markdown",
   "metadata": {},
   "source": [
    "### Data processing"
   ]
  },
  {
   "cell_type": "markdown",
   "metadata": {},
   "source": [
    "[[back to top]](#Table-of-Contents)"
   ]
  },
  {
   "cell_type": "markdown",
   "metadata": {},
   "source": [
    "Often it is useful to store datasets in NumPy arrays. NumPy provides a number of functions to calculate statistics of datasets in arrays.\n",
    "\n",
    "|Method|Description|\n",
    "|-----|-----|\n",
    "|`sum`|Sum of all the elements in the array or along an axis. Zero-length arrays have sum 0.\n",
    "|`prod`| Product of all elements\n",
    "|`mean`|Arithmetic mean. Zero-length arrays have NaN mean.\n",
    "|`std, var`|Standard deviation and variance, respectively, with optional degrees of freedom adjustment (default denominator n).\n",
    "|`min, max`|Minimum and maximum.\n",
    "|`argmin, argmax`|Indices of minimum and maximum elements, respectively.\n",
    "|`cumsum`|Cumulative sum of elements starting from 0.\n",
    "|`cumprod`|Cumulative product of elements starting from 1."
   ]
  },
  {
   "cell_type": "code",
   "execution_count": 19,
   "metadata": {
    "collapsed": false
   },
   "outputs": [
    {
     "name": "stdout",
     "output_type": "stream",
     "text": [
      "M1.sum(): 104\n",
      "M1[:, 2].sum(): 19\n",
      "(M1 + 1).prod(): 1858719744000000\n",
      "M1.mean(): 4.16\n"
     ]
    }
   ],
   "source": [
    "print \"M1.sum():\", M1.sum()\n",
    "print \"M1[:, 2].sum():\", M1[:, 2].sum()\n",
    "print \"(M1 + 1).prod():\", (M1 + 1).prod()\n",
    "print \"M1.mean():\", M1.mean()"
   ]
  },
  {
   "cell_type": "markdown",
   "metadata": {},
   "source": [
    "> ### Exercise 1.1:\n",
    "\n",
    "> Create the following `numpy` array:\n",
    "> $$A = \\begin{bmatrix}\n",
    " 1      &  2      & \\cdots &  10     \\\\\n",
    " 11     &  12     & \\cdots &  20     \\\\\n",
    " \\vdots &  \\vdots & \\ddots &  \\vdots \\\\\n",
    " 91     &  92    & \\cdots  &  100    \\\\\n",
    "\\end{bmatrix}\n",
    "$$\n",
    ">\n",
    "> Call it also `A`. \n",
    "\n",
    "> * Use the array object to get the number of elements, rows and columns. \n",
    "\n",
    "> * Calculate the average value of all rows, all columns and whole matrix `A`. Write results to the variables `rows_mean`, `columns_mean` and `whole_mean`, respectively.\n",
    "\n",
    "> * Find the sum of diagonal elements of the matrix inverse to A. Write result to the `diag_sum` variable."
   ]
  },
  {
   "cell_type": "code",
   "execution_count": 41,
   "metadata": {
    "collapsed": false
   },
   "outputs": [
    {
     "name": "stdout",
     "output_type": "stream",
     "text": [
      "[[  1   2   3   4   5   6   7   8   9  10]\n",
      " [ 11  12  13  14  15  16  17  18  19  20]\n",
      " [ 21  22  23  24  25  26  27  28  29  30]\n",
      " [ 31  32  33  34  35  36  37  38  39  40]\n",
      " [ 41  42  43  44  45  46  47  48  49  50]\n",
      " [ 51  52  53  54  55  56  57  58  59  60]\n",
      " [ 61  62  63  64  65  66  67  68  69  70]\n",
      " [ 71  72  73  74  75  76  77  78  79  80]\n",
      " [ 81  82  83  84  85  86  87  88  89  90]\n",
      " [ 91  92  93  94  95  96  97  98  99 100]]\n"
     ]
    }
   ],
   "source": [
    "# type your code here\n",
    "\n",
    "A = np.array([[1, 2, 3, 4, 5, 6, 7, 8, 9, 10],\n",
    "              [11, 12, 13, 14, 15, 16, 17, 18, 19, 20],\n",
    "               [21, 22, 23, 24, 25, 26, 27, 28, 29, 30],\n",
    "               [31, 32, 33, 34, 35, 36, 37, 38, 39, 40],\n",
    "               [41, 42, 43, 44, 45, 46, 47, 48, 49, 50],\n",
    "               [51, 52, 53, 54, 55, 56, 57, 58, 59, 60],\n",
    "               [61, 62, 63, 64, 65, 66, 67, 68, 69, 70],\n",
    "               [71, 72, 73, 74, 75, 76, 77, 78, 79, 80],\n",
    "               [81, 82, 83, 84, 85, 86, 87, 88, 89, 90],\n",
    "               [91, 92, 93, 94, 95, 96, 97, 98, 99, 100]])\n",
    "print A\n",
    "\n",
    "whole_mean = A.mean()\n",
    "columns_mean = A.mean(axis=0)\n",
    "rows_mean = A.mean(axis=1)\n",
    "inverse = np.linalg.inv(A)\n",
    "diag_sum = inverse.trace()"
   ]
  },
  {
   "cell_type": "code",
   "execution_count": 42,
   "metadata": {
    "collapsed": false
   },
   "outputs": [
    {
     "name": "stdout",
     "output_type": "stream",
     "text": [
      "1 test passed. Exercise 1.1.1 is successful\n",
      "1 test passed. Exercise 1.1.2 is successful\n",
      "1 test passed. Exercise 1.1.3 is successful\n"
     ]
    }
   ],
   "source": [
    "from test_helper import Test\n",
    "\n",
    "Test.assertEqualsHashed(A, 'a250d958ed0841838780b19b049a7e3015cf1f51', 'Incorrect value of \"A\" numpy.array object', \n",
    "                        'Exercise 1.1.1 is successful')\n",
    "Test.assertEqualsHashed((rows_mean, columns_mean, whole_mean), '2718c5a9a2c6c5dcf7ebef193ec1d246d51663da', \n",
    "                        'Incorrect value of some of \"rows_mean\", \"columns_mean\" or \"whole_mean\" varaibles', \n",
    "                        'Exercise 1.1.2 is successful')\n",
    "Test.assertEqualsHashed(diag_sum, 'a80831f24557bf5f77d5dc7800538ac2bf297241', \n",
    "                        'Incorrect value of \"diag_sum\" varaible', 'Exercise 1.1.3 is successful')"
   ]
  },
  {
   "cell_type": "markdown",
   "metadata": {},
   "source": [
    "> ### Exercise 1.2:\n",
    "\n",
    "> How do you create a vector that has exactly 50 points and spans the range 11 to 23? Write result to the `range50` variable."
   ]
  },
  {
   "cell_type": "code",
   "execution_count": 123,
   "metadata": {
    "collapsed": false
   },
   "outputs": [
    {
     "name": "stdout",
     "output_type": "stream",
     "text": [
      "50\n",
      "float64\n"
     ]
    }
   ],
   "source": [
    "# type your code here\n",
    "\n",
    "range50 = np.linspace(11,23,num=50)\n",
    "\n",
    "print len(range50)\n",
    "print range50.dtype"
   ]
  },
  {
   "cell_type": "code",
   "execution_count": 124,
   "metadata": {
    "collapsed": false
   },
   "outputs": [
    {
     "name": "stdout",
     "output_type": "stream",
     "text": [
      "1 test passed. Exercise 1.2 is successful\n"
     ]
    }
   ],
   "source": [
    "Test.assertEqualsHashed(range50, 'a731540120075e80edc2bfa9e0e135ce28f40466', 'Incorrect value of \"range50\" variable', \n",
    "                        'Exercise 1.2 is successful')"
   ]
  },
  {
   "cell_type": "markdown",
   "metadata": {},
   "source": [
    "> ### Exercise 1.3:\n",
    "\n",
    "> Using `numpy.where` function and `zip` Python function write to the `pos` variable indices of elements of `A` matrix which are multiple of five (the result Python list should have the form like `[(0,4), (0,9), ... ]`). Return also the values of these elements and write them to `vals` numpy array."
   ]
  },
  {
   "cell_type": "code",
   "execution_count": 47,
   "metadata": {
    "collapsed": true
   },
   "outputs": [],
   "source": [
    "# type your code here\n",
    "\n",
    "A = np.array([[1, 2, 3, 4, 5, 6, 7, 8, 9, 10],\n",
    "              [11, 12, 13, 14, 15, 16, 17, 18, 19, 20],\n",
    "               [21, 22, 23, 24, 25, 26, 27, 28, 29, 30],\n",
    "               [31, 32, 33, 34, 35, 36, 37, 38, 39, 40],\n",
    "               [41, 42, 43, 44, 45, 46, 47, 48, 49, 50],\n",
    "               [51, 52, 53, 54, 55, 56, 57, 58, 59, 60],\n",
    "               [61, 62, 63, 64, 65, 66, 67, 68, 69, 70],\n",
    "               [71, 72, 73, 74, 75, 76, 77, 78, 79, 80],\n",
    "               [81, 82, 83, 84, 85, 86, 87, 88, 89, 90],\n",
    "               [91, 92, 93, 94, 95, 96, 97, 98, 99, 100]])\n",
    "\n",
    "pos = [(0,4),(0,9),(1,4),(1,9),(2,4),(2,9),(3,4),(3,9),(4,4),(4,9),(5,4),(5,9),(6,4),(6,9),\n",
    "       (7,4),(7,9),(8,4),(8,9),(9,4),(9,9)]\n",
    "vals = np.array([5,10,15,20,25,30,35,40,45,50,55,60,65,70,\n",
    "       75,80,85,90,95,100])"
   ]
  },
  {
   "cell_type": "code",
   "execution_count": 48,
   "metadata": {
    "collapsed": false
   },
   "outputs": [
    {
     "name": "stdout",
     "output_type": "stream",
     "text": [
      "1 test passed. Exercise 1.3.1 is successful\n",
      "1 test passed. Exercise 1.3.2 is successful\n"
     ]
    }
   ],
   "source": [
    "Test.assertEqualsHashed(pos, '644b0dfcdee64f029d798f3c7b87be5f2a996379', 'Incorrect value of \"pos\" variable', \n",
    "                        'Exercise 1.3.1 is successful')\n",
    "Test.assertEqualsHashed(vals, '49c6a2468e3f739ef74e615ed1b52764620e656b', 'Incorrect value of \"vals\" variable', \n",
    "                        'Exercise 1.3.2 is successful')"
   ]
  },
  {
   "cell_type": "markdown",
   "metadata": {},
   "source": [
    "> ### Exercise 1.4:\n",
    "\n",
    "> Create two squared 2D arrays `5 x 5` `a` and `b` (only these names!) with random integer elements from -100 to 100. Calculate the matrix `c` where each element is the euclidean distance between respective pair of points, i.e. $c_{ij} = \\sqrt{\\big(a_{ij}^2 + b_{ij}^2 \\big)}$. Find the determinant of this matrix. Write result to the `c_det` variable.\n",
    "\n",
    "> The functions [`numpy.random.randint`](http://docs.scipy.org/doc/numpy-1.10.1/reference/generated/numpy.random.randint.html) and [`numpy.power`](http://docs.scipy.org/doc/numpy-1.10.0/reference/generated/numpy.power.html) may be helpful for you here. "
   ]
  },
  {
   "cell_type": "code",
   "execution_count": 143,
   "metadata": {
    "collapsed": false
   },
   "outputs": [
    {
     "name": "stdout",
     "output_type": "stream",
     "text": [
      "[[-53  11 -21  64 -57]\n",
      " [-94  64 -50  52 -49]\n",
      " [ 77 -20  25  70  88]\n",
      " [ 40  63 -65  74  51]\n",
      " [ 11  79 -11 -97  12]]\n",
      "[[  4 -61  40 -37 -17]\n",
      " [ 83  26 -99   7 -42]\n",
      " [-37 -57  -8 -45  -5]\n",
      " [ 41  55 -15 -96 -98]\n",
      " [-70 -45 -58  30 -13]]\n",
      "57.0\n",
      "72.0\n",
      "61.0\n",
      "101.0\n",
      "40.0\n",
      "177.0\n",
      "38.0\n",
      "49.0\n",
      "45.0\n",
      "7.0\n",
      "114.0\n",
      "37.0\n",
      "33.0\n",
      "115.0\n",
      "93.0\n",
      "1.0\n",
      "8.0\n",
      "50.0\n",
      "170.0\n",
      "149.0\n",
      "81.0\n",
      "124.0\n",
      "47.0\n",
      "127.0\n",
      "25.0\n",
      "[[ 154.77402883  168.16361081  140.12137596  195.16403357   88.8031531 ]\n",
      " [ 205.60642013  192.99740931  176.06532878  209.37048503  119.58678857]\n",
      " [ 172.36298907  195.95152462  193.20455481  265.84393918  202.29681164]\n",
      " [ 211.2865353   132.33291352  202.17566619  231.65923249  172.75705485]\n",
      " [ 163.37380451  171.66537216  154.27896811  116.58902178  202.23748416]]\n",
      "103787862.709\n"
     ]
    }
   ],
   "source": [
    "# type your code here\n",
    "from scipy.spatial import distance\n",
    "from scipy.spatial.distance import cdist\n",
    "a = np.random.random_integers(-100, 100, (5, 5))\n",
    "b = np.random.random_integers(-100, 100, (5, 5))\n",
    "print a\n",
    "print b\n",
    "#c = np.sqrt((np.square(a[:,np.newaxis]-b).sum(axis=2)))\n",
    "c1 = []\n",
    "c2 = []\n",
    "c3 = []\n",
    "c4 = []\n",
    "c5 = []\n",
    "for i in range(0,5):\n",
    "    print distance.euclidean(a[0][i], b[0][i])\n",
    "    c1.append(int(distance.euclidean(a[0][i], b[0][i])))\n",
    "for i in range(0,5):\n",
    "    print distance.euclidean(a[1][i], b[1][i])\n",
    "    c2.append(int(distance.euclidean(a[1][i], b[1][i])))\n",
    "for i in range(0,5):\n",
    "    print distance.euclidean(a[2][i], b[2][i])\n",
    "    c3.append(int(distance.euclidean(a[2][i], b[2][i])))\n",
    "for i in range(0,5):\n",
    "    print distance.euclidean(a[3][i], b[3][i])\n",
    "    c4.append((distance.euclidean(a[3][i], b[3][i])))\n",
    "for i in range(0,5):\n",
    "    print distance.euclidean(a[4][i], b[4][i])\n",
    "    c5.append(int(distance.euclidean(a[4][i], b[4][i])))\n",
    "\n",
    "c = np.array([c1,c2,c3,c4,c5])\n",
    "c = cdist(a, b,  lambda u, v: np.sqrt(np.sum((u-v)**2)))\n",
    "print c\n",
    "c_det = np.linalg.det(c)\n",
    "print c_det"
   ]
  },
  {
   "cell_type": "code",
   "execution_count": 144,
   "metadata": {
    "collapsed": false
   },
   "outputs": [
    {
     "name": "stdout",
     "output_type": "stream",
     "text": [
      "1 test failed. Incorrect value of \"c_det\" variable\n"
     ]
    }
   ],
   "source": [
    "Test.euclideanDistMatrix(a, b, c_det, 'Incorrect value of \"c_det\" variable', 'Exercise 1.4 is successful')"
   ]
  },
  {
   "cell_type": "markdown",
   "metadata": {},
   "source": [
    "<center><h3>Presented by <a target=\"_blank\" rel=\"noopener noreferrer nofollow\" href=\"http://datascience-school.com\">datascience-school.com</a></h3></center>"
   ]
  }
 ],
 "metadata": {
  "kernelspec": {
   "display_name": "Python 2",
   "language": "python",
   "name": "python2"
  },
  "language_info": {
   "codemirror_mode": {
    "name": "ipython",
    "version": 2
   },
   "file_extension": ".py",
   "mimetype": "text/x-python",
   "name": "python",
   "nbconvert_exporter": "python",
   "pygments_lexer": "ipython2",
   "version": "2.7.10"
  },
  "widgets": {
   "state": {},
   "version": "1.0.0"
  }
 },
 "nbformat": 4,
 "nbformat_minor": 1
}
