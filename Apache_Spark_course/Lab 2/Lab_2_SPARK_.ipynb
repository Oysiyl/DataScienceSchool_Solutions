{
 "cells": [
  {
   "cell_type": "markdown",
   "metadata": {},
   "source": [
    "\n",
    "# Spark Tutorial. Part 2 - Learning Apache Spark SQL and analyzing logs\n"
   ]
  },
  {
   "cell_type": "markdown",
   "metadata": {},
   "source": [
    "After the completion of the first practical lesson you got basic understanding of the transformations and actions in Spark.      \n",
    "\n",
    "Now it's time to move onto the more advanced Spark's capability - [Spark SQL](https://spark.apache.org/sql/). In this lab we will analyze a partial log of the recommender system.\n",
    "\n",
    "Spark SQL is a Spark's module for working with *structured data*. Structured data can always be described with some schema. So lets prepare, parse and structure the data that you will use in this tutorial.\n",
    "\n",
    "First, we need to create a `SQLContext` instance.  This is an important step which allows us to work with structured data (rows and columns) in Spark, create `DataFrames` and execute SQL queries.      \n",
    "\n",
    "*Note: SQL (Structured Query Language) is a special purpose language, designed for data management and stream processing of the relational databases.  The scope of SQL includes data insert, query, update and delete, schema creation and modification, and data access control. Khowledge of SQL is a must for a data scientist since a lot of the data is stored in relational databases.* "
   ]
  },
  {
   "cell_type": "markdown",
   "metadata": {},
   "source": [
    "###  Preparation\n",
    "\n",
    "Let's create `SQLContext` instance."
   ]
  },
  {
   "cell_type": "code",
   "execution_count": 1,
   "metadata": {},
   "outputs": [],
   "source": [
    "import os\n",
    "# export PYSPARK_PYTHON=/usr/bin/python3\n",
    "# export PYSPARK_DRIVER_PYTHON=ipython3\n",
    "# export PYSPARK_DRIVER_PYTHON_OPTS=\"notebook\"\n",
    "# os.environ[\"PYSPARK_DRIVER_PYTHON\"] = \"/home/dmitriy/.local/lib/python3.6/site-packages\"\n",
    "os.environ[\"PYSPARK_PYTHON\"]=\"/usr/bin/python3.6\"\n",
    "# os.environ[\"PYSPARK_DRIVER_PYTHON_OPTS\"]=\"notebook\"\n",
    "# os.environ[\"SPARK_HOME\"] = \"/usr/local/spark/spark-2.4.0-bin-hadoop2.7\""
   ]
  },
  {
   "cell_type": "code",
   "execution_count": 2,
   "metadata": {},
   "outputs": [],
   "source": [
    "from pyspark import SparkContext\n",
    "sc = SparkContext(\"local\", \"First App\")"
   ]
  },
  {
   "cell_type": "code",
   "execution_count": 3,
   "metadata": {},
   "outputs": [],
   "source": [
    "from pyspark.sql import *\n",
    "sqlContext = SQLContext(sc)"
   ]
  },
  {
   "cell_type": "markdown",
   "metadata": {},
   "source": [
    "The file with server logs, that we will analyze, is called `apache_log_lab2`. Let's read it line by line and count rows."
   ]
  },
  {
   "cell_type": "code",
   "execution_count": 4,
   "metadata": {},
   "outputs": [
    {
     "name": "stdout",
     "output_type": "stream",
     "text": [
      "Read 260356 lines\n"
     ]
    }
   ],
   "source": [
    "log_file = sc.textFile('apache_log_lab2').cache()\n",
    "\n",
    "print ('Read {} lines'.format(log_file.count()))\n",
    "\n",
    "assert log_file.count() == 260356"
   ]
  },
  {
   "cell_type": "markdown",
   "metadata": {},
   "source": [
    "This is example of Apache web server log. Every row looks like       \n",
    "`127.0.0.1 - frank [10/Oct/2000:13:55:36 -0700] \"GET /apache_pb.gif HTTP/1.0\" 200 2326`\n",
    "\n",
    "Each part of this log entry is described [here](http://httpd.apache.org/docs/1.3/logs.html#common).\n",
    "\n",
    "Now let's try to use the `parse_log_line()` function to parse every line of log file."
   ]
  },
  {
   "cell_type": "code",
   "execution_count": 8,
   "metadata": {},
   "outputs": [],
   "source": [
    "import re\n",
    "\n",
    "# Regular expression pattern.\n",
    "LOG_PATTERN = '^(\\S+) (\\S+) (\\S+) \\[([\\w:/]+\\s[+\\-]\\d{4})\\] \\\"(\\S+) (\\S+)\\s*(\\S*)\\\" (\\d{3}) (\\S+)'\n",
    "\n",
    "def parse_log_line(logline):\n",
    "    match = re.search(LOG_PATTERN, logline)\n",
    "    if match is None:\n",
    "        return (logline, False) # False means that parsing failed.\n",
    "    size_field = match.group(9)\n",
    "    if size_field == '-':\n",
    "        size = int(0)\n",
    "    else:\n",
    "        size = int(match.group(9))\n",
    "    return (Row(\n",
    "        host          = match.group(1),\n",
    "        client_identd = match.group(2),\n",
    "        user_id       = match.group(3),\n",
    "        date_time     = match.group(4),\n",
    "        method        = match.group(5),\n",
    "        endpoint      = match.group(6),\n",
    "        protocol      = match.group(7),\n",
    "        response_code = int(match.group(8)),\n",
    "        content_size  = size\n",
    "    ), True)"
   ]
  },
  {
   "cell_type": "code",
   "execution_count": 9,
   "metadata": {},
   "outputs": [],
   "source": [
    "def parse_log():\n",
    "    parsed_logs = log_file.map(parse_log_line)    \n",
    "    logs = parsed_logs.filter(lambda s: s[1] == True).map(lambda s: s[0])\n",
    "    failed_logs = parsed_logs.filter(lambda s: s[1] == False).map(lambda s: s[0])\n",
    "    \n",
    "    failed_logs_count = failed_logs.count()\n",
    "    if failed_logs_count > 0:\n",
    "        print ('Number of invalid log lines: {}'.format(failed_logs.count()))\n",
    "        for line in failed_logs.take(5):\n",
    "            print ('Invalid: {}'.format(line))\n",
    "\n",
    "    print ('Read {} lines, parsed {} lines, failed {} lines'.format(parsed_logs.count(), logs.count(), failed_logs.count()))\n",
    "    return parsed_logs, logs, failed_logs"
   ]
  },
  {
   "cell_type": "code",
   "execution_count": 10,
   "metadata": {},
   "outputs": [
    {
     "name": "stdout",
     "output_type": "stream",
     "text": [
      "Number of invalid log lines: 23\n",
      "Invalid: ix-sac6-20.ix.netcom.com - - [08/Aug/1995:14:44:13 -0400] \"GET /images/USA-logosmall.gif HTTP/1.0 \" 200 234\n",
      "Invalid: ix-sac6-20.ix.netcom.com - - [08/Aug/1995:14:44:15 -0400] \"GET /images/WORLD-logosmall.gif HTTP/1.0 \" 200 669\n",
      "Invalid: ix-sac6-20.ix.netcom.com - - [08/Aug/1995:14:45:34 -0400] \"GET /images/KSC-logosmall.gif HTTP/1.0 \" 200 1204\n",
      "Invalid: ix-sac6-20.ix.netcom.com - - [08/Aug/1995:14:45:48 -0400] \"GET /htbin/cdt_main.pl HTTP/1.0 \" 200 3714\n",
      "Invalid: ix-li1-14.ix.netcom.com - - [08/Aug/1995:14:46:38 -0400] \"GET /images/USA-logosmall.gif HTTP/1.0 \" 200 234\n",
      "Read 260356 lines, parsed 260333 lines, failed 23 lines\n"
     ]
    }
   ],
   "source": [
    "parsed_logs, logs, failed_logs = parse_log()"
   ]
  },
  {
   "cell_type": "markdown",
   "metadata": {
    "collapsed": true
   },
   "source": [
    "## Exercise 1\n",
    "\n",
    "You might have noticed that the `parse_log_line()` failed to parse 23 lines, because they do not match the LOG_PATTERN [regular expression](https://docs.python.org/2/library/re.html#regular-expression-objects).\n",
    "\n",
    "Examine invalid lines and modify the `LOG_PATTERN` in the cell below so that the failed lines will be parsed correctly.\n",
    "\n",
    "*Note: you may want to use https://regex101.com/ to test your regular expression*. "
   ]
  },
  {
   "cell_type": "code",
   "execution_count": 12,
   "metadata": {},
   "outputs": [
    {
     "name": "stdout",
     "output_type": "stream",
     "text": [
      "Read 260356 lines, parsed 260356 lines, failed 0 lines\n"
     ]
    },
    {
     "data": {
      "text/plain": [
       "PythonRDD[20] at RDD at PythonRDD.scala:53"
      ]
     },
     "execution_count": 12,
     "metadata": {},
     "output_type": "execute_result"
    }
   ],
   "source": [
    "# Exercise 1\n",
    "LOG_PATTERN = '^(\\S+) (\\S+) (\\S+) \\[([\\w:/]+\\s[+\\-]\\d{4})\\] \\\"(\\S+) (\\S+)\\s*(\\S*)\\s?\\\" (\\d{3}) (\\S+)'\n",
    "parsed_logs, logs, failed_logs = parse_log()\n",
    "logs.cache()"
   ]
  },
  {
   "cell_type": "code",
   "execution_count": 8,
   "metadata": {
    "collapsed": true
   },
   "outputs": [],
   "source": [
    "# TEST\n",
    "import sys, os\n",
    "sys.path.append(\"/usr/local/lib/python2.7/site-packages\")\n",
    "dir_path = os.path.dirname(os.path.realpath('Lab_1/Lab_1_SPARK.ipynb'))\n",
    "sys.path.append('/home/vagrant/.local/lib/python2.7/site-packages')\n",
    "\n",
    "from test_helper_spark import *"
   ]
  },
  {
   "cell_type": "code",
   "execution_count": 9,
   "metadata": {},
   "outputs": [
    {
     "name": "stdout",
     "output_type": "stream",
     "text": [
      "1 test passed. Correct logs count: 260356\n",
      "1 test passed. Correct logs: [Row(client_identd=u'-', content_size=0L, date_time=u'01/Aug/1995:00:00:08 -0400', endpoint=u'/images/ksclogo-medium.gif', host=u'uplherc.upl.com', method=u'GET', protocol=u'HTTP/1.0', response_code=304, user_id=u'-'), Row(client_identd=u'-', content_size=0L, date_time=u'01/Aug/1995:00:00:08 -0400', endpoint=u'/images/USA-logosmall.gif', host=u'uplherc.upl.com', method=u'GET', protocol=u'HTTP/1.0', response_code=304, user_id=u'-'), ...]\n"
     ]
    }
   ],
   "source": [
    "# Test\n",
    "\n",
    "lab2_test_ex_1(logs)"
   ]
  },
  {
   "cell_type": "markdown",
   "metadata": {},
   "source": [
    "## Exercise 2\n",
    "\n",
    "Now we have an RDD containing the log file as a collection of Row objects.\n",
    " \n",
    "Your task is to compute some statistics about the sizes of content being returned from the web server. To compute the minimum and maximum statistics, we can use [`min()`](http://spark.apache.org/docs/1.6.3/api/python/pyspark.html#pyspark.RDD.min) and [`max()`](http://spark.apache.org/docs/1.6.3/api/python/pyspark.html#pyspark.RDD.max). To compure average content size use [`sum()`](http://spark.apache.org/docs/1.6.3/api/python/pyspark.html#pyspark.RDD.sum)."
   ]
  },
  {
   "cell_type": "code",
   "execution_count": 13,
   "metadata": {},
   "outputs": [
    {
     "name": "stdout",
     "output_type": "stream",
     "text": [
      "Avg: 17646.85671926132, Min: 0, Max: 3155499\n"
     ]
    }
   ],
   "source": [
    "# Exercise 2\n",
    "\n",
    "content_sizes = logs.map(lambda log: log.content_size).cache()\n",
    "\n",
    "content_size_avg = content_sizes.sum() / content_sizes.count()\n",
    "content_size_min = content_sizes.min()\n",
    "content_size_max = content_sizes.max()\n",
    "\n",
    "print ('Avg: {}, Min: {}, Max: {}'.format(content_size_avg, content_size_min, content_size_max))"
   ]
  },
  {
   "cell_type": "code",
   "execution_count": 11,
   "metadata": {},
   "outputs": [
    {
     "name": "stdout",
     "output_type": "stream",
     "text": [
      "1 test passed. Correct avg size: 17646\n",
      "1 test passed. Correct min size: 0\n",
      "1 test passed. Correct max size: 3155499\n"
     ]
    }
   ],
   "source": [
    "# Test\n",
    "lab2_test_ex_2(content_size_avg, content_size_min, content_size_max)"
   ]
  },
  {
   "cell_type": "markdown",
   "metadata": {},
   "source": [
    "Now, let's visualize the results from the last example. We can do it using [`matplotlib`](http://matplotlib.org/). For this visualisation we use a [`histogram`](https://en.wikipedia.org/wiki/Histogram) representation."
   ]
  },
  {
   "cell_type": "code",
   "execution_count": 14,
   "metadata": {},
   "outputs": [
    {
     "data": {
      "image/png": "[encoded data removed]",
      "text/plain": [
       "<Figure size 432x288 with 1 Axes>"
      ]
     },
     "metadata": {
      "needs_background": "light"
     },
     "output_type": "display_data"
    }
   ],
   "source": [
    "import matplotlib.pyplot as plt\n",
    "%matplotlib inline\n",
    "\n",
    "plt.hist(content_sizes.collect(), bins=300, facecolor='g')\n",
    "plt.axis([0, 120000, 0, 210000])\n",
    "plt.xlabel('Content size')\n",
    "plt.ylabel('Count')\n",
    "plt.show()"
   ]
  },
  {
   "cell_type": "markdown",
   "metadata": {},
   "source": [
    "Let's make the `sqlContext` to work with our parsed logs using [`createDataFrame`](https://spark.apache.org/docs/1.6.3/api/python/pyspark.sql.html#pyspark.sql.SQLContext.createDataFrame). Also register the data frame as a table using [`registerTempTable`](https://spark.apache.org/docs/1.6.3/api/python/pyspark.sql.html#pyspark.sql.DataFrame.registerTempTable) function."
   ]
  },
  {
   "cell_type": "code",
   "execution_count": 15,
   "metadata": {},
   "outputs": [],
   "source": [
    "log_schema = sqlContext.createDataFrame(logs)\n",
    "log_schema.registerTempTable('logs')"
   ]
  },
  {
   "cell_type": "markdown",
   "metadata": {},
   "source": [
    "Now we can print schema of our table in the tree format using [`printSchema`](https://spark.apache.org/docs/latest/api/python/pyspark.sql.html#pyspark.sql.DataFrame.printSchema)"
   ]
  },
  {
   "cell_type": "code",
   "execution_count": 16,
   "metadata": {},
   "outputs": [
    {
     "name": "stdout",
     "output_type": "stream",
     "text": [
      "root\n",
      " |-- client_identd: string (nullable = true)\n",
      " |-- content_size: long (nullable = true)\n",
      " |-- date_time: string (nullable = true)\n",
      " |-- endpoint: string (nullable = true)\n",
      " |-- host: string (nullable = true)\n",
      " |-- method: string (nullable = true)\n",
      " |-- protocol: string (nullable = true)\n",
      " |-- response_code: long (nullable = true)\n",
      " |-- user_id: string (nullable = true)\n",
      "\n"
     ]
    }
   ],
   "source": [
    "log_schema.printSchema()"
   ]
  },
  {
   "cell_type": "markdown",
   "metadata": {},
   "source": [
    "Now, apart from using already known transformations, we can get all unique `response_code` fields with a simple SQL query."
   ]
  },
  {
   "cell_type": "code",
   "execution_count": 17,
   "metadata": {},
   "outputs": [
    {
     "name": "stdout",
     "output_type": "stream",
     "text": [
      "[Row(response_code=304), Row(response_code=404), Row(response_code=500)]\n"
     ]
    }
   ],
   "source": [
    "unique_response_code = sqlContext.sql('SELECT DISTINCT response_code FROM logs')\n",
    "print (unique_response_code.take(3))"
   ]
  },
  {
   "cell_type": "markdown",
   "metadata": {},
   "source": [
    "We got an RDD of `DataFrame` objects as a result of the query. For better visualisation we'd like to extract an integer field from each `Row`. "
   ]
  },
  {
   "cell_type": "code",
   "execution_count": 19,
   "metadata": {},
   "outputs": [
    {
     "name": "stdout",
     "output_type": "stream",
     "text": [
      "[304, 404, 500]\n"
     ]
    }
   ],
   "source": [
    "responses = unique_response_code.rdd.map(lambda p: p.response_code)\n",
    "print (responses.take(3))"
   ]
  },
  {
   "cell_type": "markdown",
   "metadata": {},
   "source": [
    "We can use the following query to get the count of unique responses."
   ]
  },
  {
   "cell_type": "code",
   "execution_count": 22,
   "metadata": {},
   "outputs": [
    {
     "name": "stdout",
     "output_type": "stream",
     "text": [
      "[Row(count(DISTINCT response_code)=7)]\n"
     ]
    }
   ],
   "source": [
    "unique_response_code_count = sqlContext.sql(\"SELECT COUNT(DISTINCT response_code) FROM logs\")\n",
    "\n",
    "# The result is returned as the _c0 field in a Row object \n",
    "print (unique_response_code_count.collect())\n",
    "# print (unique_response_code_count.rdd.map(lambda p: p._c0).first())"
   ]
  },
  {
   "cell_type": "markdown",
   "metadata": {},
   "source": [
    "## Exercise 3\n",
    "\n",
    "Create a **`response_code_counts`** dataset with the occurrences of each response code in logs using only Spark **transformations**.\n",
    "\n",
    "*Note: **`response_code_counts`** is a key-value dataset, in which keys is a response code and value is a corresponding number of occurrences.*\n",
    "\n",
    "*Hint: you may want to use the [`reduceByKey`](http://spark.apache.org/docs/1.6.3/api/python/pyspark.html#pyspark.RDD.reduceByKey) function to sum up values with the same key value.*"
   ]
  },
  {
   "cell_type": "code",
   "execution_count": 23,
   "metadata": {},
   "outputs": [
    {
     "name": "stdout",
     "output_type": "stream",
     "text": [
      "Response code counts: [(304, 19852), (200, 234881), (302, 4074), (404, 1528), (403, 16), (500, 2), (501, 3)]\n"
     ]
    }
   ],
   "source": [
    "# Exercise 3\n",
    "\n",
    "response_code_counts = logs.map(lambda log: (log.response_code, 1)) \\\n",
    "                           .reduceByKey(lambda a, b: a + b) \\\n",
    "                           .collect()\n",
    "\n",
    "print ('Response code counts: {}'.format(response_code_counts))"
   ]
  },
  {
   "cell_type": "code",
   "execution_count": 19,
   "metadata": {},
   "outputs": [
    {
     "name": "stdout",
     "output_type": "stream",
     "text": [
      "1 test passed. Correct RDD: [(200, 234881), (302, 4074), (304, 19852), (403, 16), (404, 1528), (501, 3), (500, 2)]\n"
     ]
    }
   ],
   "source": [
    "# Test\n",
    "lab2_test_ex_3(response_code_counts)"
   ]
  },
  {
   "cell_type": "markdown",
   "metadata": {},
   "source": [
    "## Exercise 4\n",
    "\n",
    "Create a **`response_code_counts`** dataset with the occurrences of each response code in logs using only **SQL queries**.\n",
    "\n",
    "*Note: **`response_code_counts`** is a key-value dataset, in which key is a response code and value is a corresponding number of occurrences.*\n",
    "\n",
    "*Hint: You may want to use the [`GROUP BY`](http://www.w3schools.com/sql/sql_groupby.asp) statement to group data and [`ALIAS`](http://www.w3schools.com/sql/sql_alias.asp) to rename queryable fields to pass the tests*."
   ]
  },
  {
   "cell_type": "code",
   "execution_count": 25,
   "metadata": {},
   "outputs": [
    {
     "name": "stdout",
     "output_type": "stream",
     "text": [
      "Response code counts: [(304, 19852), (404, 1528), (500, 2), (501, 3), (403, 16), (200, 234881), (302, 4074)]\n"
     ]
    }
   ],
   "source": [
    "# Exercise 4\n",
    "\n",
    "response_code_counts = sqlContext.sql('''\n",
    "    SELECT response_code, COUNT(*) AS count_records FROM logs\n",
    "    GROUP BY response_code\n",
    "''').rdd.map(lambda row: (row.response_code, row.count_records)).collect()\n",
    "\n",
    "print ('Response code counts: {}'.format(response_code_counts))"
   ]
  },
  {
   "cell_type": "code",
   "execution_count": 21,
   "metadata": {},
   "outputs": [
    {
     "name": "stdout",
     "output_type": "stream",
     "text": [
      "1 test passed. Correct RDD: [(500, 2), (501, 3), (302, 4074), (304, 19852), (200, 234881), (403, 16), (404, 1528)]\n"
     ]
    }
   ],
   "source": [
    "# Test\n",
    "lab2_test_ex_4(response_code_counts)"
   ]
  },
  {
   "cell_type": "markdown",
   "metadata": {},
   "source": [
    "Now, let's visualize the results from this example. We will use the [`pie()`](http://matplotlib.org/examples/pie_and_polar_charts/pie_demo_features.html) method to create the pie plot. Don't go into details."
   ]
  },
  {
   "cell_type": "code",
   "execution_count": 49,
   "metadata": {},
   "outputs": [
    {
     "data": {
      "image/png": "[encoded data removed]",
      "text/plain": [
       "<Figure size 360x360 with 1 Axes>"
      ]
     },
     "metadata": {},
     "output_type": "display_data"
    }
   ],
   "source": [
    "labels = list(map(lambda x: x[0], response_code_counts))\n",
    "count = logs.count()\n",
    "fracs = list(map(lambda y: float(y[1]) / count, response_code_counts))\n",
    "explode = (0.05, 0.05, 0.1, 0, 0, 0, 0)\n",
    "\n",
    "def pie_pct_format(value):\n",
    "    \"\"\" Determine the appropriate format string for the pie chart percentage label\"\"\"\n",
    "    return '' if value < 7 else '%.0f%%' % value\n",
    "\n",
    "fig = plt.figure(figsize=(5, 5), facecolor='white')\n",
    "patches, texts, autotexts = plt.pie(fracs, labels=labels, explode=explode, autopct=pie_pct_format, startangle=125)\n",
    "for text, autotext in zip(texts, autotexts):\n",
    "    if autotext.get_text() == '':\n",
    "        text.set_text('')  # If the slice is small to fit, don't show a text label\n",
    "plt.legend(labels, loc=(0.80, 0.1), shadow=True)\n",
    "pass"
   ]
  },
  {
   "cell_type": "markdown",
   "metadata": {},
   "source": [
    "## Exercise 5\n",
    "\n",
    "Let's look at hosts that accessed the server multiple times.\n",
    "\n",
    "Create a **`top_10_hosts`** dataset with the top 10 of most popular hosts using only Spark **transformations**.\n",
    "\n",
    "*Note: **`top_10_hosts`** is a key-value dataset, in which key is a host name and value is a corresponding number of connections to server.*\n",
    "\n",
    "*Hint: You can replace both `sortBy()` and `take()` operations with the `takeOrdered()` action.*"
   ]
  },
  {
   "cell_type": "code",
   "execution_count": 50,
   "metadata": {},
   "outputs": [
    {
     "name": "stdout",
     "output_type": "stream",
     "text": [
      "Top 10 popular hosts: [('edams.ksc.nasa.gov', 1032), ('piweba5y.prodigy.com', 814), ('piweba4y.prodigy.com', 764), ('piweba3y.prodigy.com', 706), ('www-d1.proxy.aol.com', 655), ('www-b3.proxy.aol.com', 653), ('www-b2.proxy.aol.com', 626), ('news.ti.com', 621), ('www-d2.proxy.aol.com', 620), ('163.206.89.4', 616)]\n"
     ]
    }
   ],
   "source": [
    "# Exercise 5\n",
    "\n",
    "top_10_hosts = logs.map(lambda log: (log.host, 1)) \\\n",
    "                   .reduceByKey(lambda a, b: a + b) \\\n",
    "                   .takeOrdered(10, lambda log: -log[1])\n",
    "\n",
    "print ('Top 10 popular hosts: {}'.format(top_10_hosts))"
   ]
  },
  {
   "cell_type": "code",
   "execution_count": 24,
   "metadata": {},
   "outputs": [
    {
     "name": "stdout",
     "output_type": "stream",
     "text": [
      "1 test passed. Correct RDD: [(u'edams.ksc.nasa.gov', 1032), (u'piweba5y.prodigy.com', 814), (u'piweba4y.prodigy.com', 764), (u'piweba3y.prodigy.com', 706), (u'www-d1.proxy.aol.com', 655), (u'www-b3.proxy.aol.com', 653), (u'www-b2.proxy.aol.com', 626), (u'news.ti.com', 621), (u'www-d2.proxy.aol.com', 620), (u'163.206.89.4', 616)]\n"
     ]
    }
   ],
   "source": [
    "# Test\n",
    "lab2_test_ex_5(top_10_hosts)"
   ]
  },
  {
   "cell_type": "markdown",
   "metadata": {},
   "source": [
    "## Exercise 6\n",
    "\n",
    "Create a **`top_10_hosts`** dataset with the top 10 of most popular hosts using only **SQL queries**.\n",
    "   \n",
    "*Note: **`top_10_hosts`** is a key-value dataset, in which key is a host name and value is a corresponding number of connections to server.*\n",
    "   \n",
    "*Hint: You may want to use [`ORDER BY`](https://www.w3schools.com/sql/sql_orderby.asp) keyword and [`LIMIT`](https://www.w3schools.com/php/php_mysql_select_limit.asp) clause and [`ALIAS`](https://www.w3schools.com/sql/sql_alias.asp) to rename queryable fields to pass the tests.*"
   ]
  },
  {
   "cell_type": "code",
   "execution_count": 52,
   "metadata": {},
   "outputs": [
    {
     "name": "stdout",
     "output_type": "stream",
     "text": [
      "Top 10 popular hosts: [('edams.ksc.nasa.gov', 1032), ('piweba5y.prodigy.com', 814), ('piweba4y.prodigy.com', 764), ('piweba3y.prodigy.com', 706), ('www-d1.proxy.aol.com', 655), ('www-b3.proxy.aol.com', 653), ('www-b2.proxy.aol.com', 626), ('news.ti.com', 621), ('www-d2.proxy.aol.com', 620), ('163.206.89.4', 616)]\n"
     ]
    }
   ],
   "source": [
    "# Exercise 6\n",
    "\n",
    "top_10_hosts = sqlContext.sql('''\n",
    "    SELECT host, COUNT(*) AS count_hosts FROM logs\n",
    "    GROUP BY host\n",
    "    ORDER BY count_hosts DESC LIMIT 10\n",
    "''').rdd.map(lambda row: (row.host, row.count_hosts)).collect()\n",
    "\n",
    "print ('Top 10 popular hosts: {}'.format(top_10_hosts))"
   ]
  },
  {
   "cell_type": "code",
   "execution_count": 27,
   "metadata": {},
   "outputs": [
    {
     "name": "stdout",
     "output_type": "stream",
     "text": [
      "1 test passed. Correct RDD: [(u'edams.ksc.nasa.gov', 1032), (u'piweba5y.prodigy.com', 814), (u'piweba4y.prodigy.com', 764), (u'piweba3y.prodigy.com', 706), (u'www-d1.proxy.aol.com', 655), (u'www-b3.proxy.aol.com', 653), (u'www-b2.proxy.aol.com', 626), (u'news.ti.com', 621), (u'www-d2.proxy.aol.com', 620), (u'163.206.89.4', 616)]\n"
     ]
    }
   ],
   "source": [
    "# Test\n",
    "lab2_test_ex_5(top_10_hosts)"
   ]
  },
  {
   "cell_type": "markdown",
   "metadata": {},
   "source": [
    "## Exercise 7\n",
    "\n",
    "Create a **`top_20_endpoints_404`** dataset with the top 20 endpoints, that generated the most 404 errors, using only Spark **transformations**.\n",
    "\n",
    "*Note: **`top_20_endpoints_404`** is a key-value dataset, in which key is an endpoint and value is a corresponding number of failed (404) requests.*"
   ]
  },
  {
   "cell_type": "code",
   "execution_count": 53,
   "metadata": {},
   "outputs": [
    {
     "name": "stdout",
     "output_type": "stream",
     "text": [
      "Top 20 bad resources: [('/pub/winvn/readme.txt', 149), ('/pub/winvn/release.txt', 128), ('/shuttle/missions/STS-69/mission-STS-69.html', 114), ('/images/nasa-logo.gif', 64), ('/elv/DELTA/uncons.htm', 42), ('/shuttle/missions/sts-68/ksc-upclose.gif', 33), ('/history/apollo/sa-1/sa-1-patch-small.gif', 30), ('/images/crawlerway-logo.gif', 25), ('/://spacelink.msfc.nasa.gov', 23), ('/images/Nasa-logo.gif', 22), ('/shuttle/resources/orbiters/atlantis.gif', 21), ('/history/apollo/a-001/a-001-patch-small.gif', 20), ('/shuttle/resources/orbiters/discovery.gif', 19), ('/images/lf-logo.gif', 16), ('/robots.txt', 15), ('/shuttle/resources/orbiters/challenger.gif', 15), ('/history/apollo/images/little-joe.jpg', 14), ('/elv/new01.gif>', 13), ('/history/apollo/pad-abort-test-2/pad-abort-test-2-patch-small.gif', 13), ('/history/apollo/sa-2/sa-2-patch-small.gif', 12)]\n"
     ]
    }
   ],
   "source": [
    "# Exercise 7\n",
    "\n",
    "top_20_endpoints_404 = logs.filter(lambda log: log.response_code == 404) \\\n",
    "                           .map(lambda log: (log.endpoint, 1)) \\\n",
    "                           .reduceByKey(lambda a, b: a + b) \\\n",
    "                           .takeOrdered(20, lambda log: -log[1])\n",
    "\n",
    "print ('Top 20 bad resources: {}'.format(top_20_endpoints_404))"
   ]
  },
  {
   "cell_type": "code",
   "execution_count": 29,
   "metadata": {},
   "outputs": [
    {
     "name": "stdout",
     "output_type": "stream",
     "text": [
      "1 test passed. Correct RDD: [(u'/pub/winvn/readme.txt', 149), (u'/pub/winvn/release.txt', 128), (u'/shuttle/missions/STS-69/mission-STS-69.html', 114), (u'/images/nasa-logo.gif', 64), (u'/elv/DELTA/uncons.htm', 42), (u'/shuttle/missions/sts-68/ksc-upclose.gif', 33), (u'/history/apollo/sa-1/sa-1-patch-small.gif', 30), (u'/images/crawlerway-logo.gif', 25), (u'/://spacelink.msfc.nasa.gov', 23), (u'/images/Nasa-logo.gif', 22), (u'/shuttle/resources/orbiters/atlantis.gif', 21), (u'/history/apollo/a-001/a-001-patch-small.gif', 20), (u'/shuttle/resources/orbiters/discovery.gif', 19), (u'/images/lf-logo.gif', 16), (u'/robots.txt', 15), (u'/shuttle/resources/orbiters/challenger.gif', 15), (u'/history/apollo/images/little-joe.jpg', 14), (u'/history/apollo/pad-abort-test-2/pad-abort-test-2-patch-small.gif', 13), (u'/elv/new01.gif>', 13), (u'/history/apollo/pad-abort-test-1/pad-abort-test-1-patch-small.gif', 12)]\n"
     ]
    }
   ],
   "source": [
    "# Test\n",
    "lab2_test_ex_7(top_20_endpoints_404)"
   ]
  },
  {
   "cell_type": "markdown",
   "metadata": {},
   "source": [
    "## Exercise 8\n",
    "\n",
    "Create a **`top_20_endpoints_404`** dataset with the top 20 endpoints, that generated the most 404 errors using, only **SQL queries**.\n",
    "\n",
    "*Note: **`top_20_endpoints_404`** is a key-value dataset, in which key is an endpoint and value is a corresponding number of failed (404) requests.*\n",
    "\n",
    "*Hint: You may want to use the [`WHERE`](https://www.w3schools.com/sql/sql_where.asp) clause to filter records.*"
   ]
  },
  {
   "cell_type": "code",
   "execution_count": 55,
   "metadata": {},
   "outputs": [
    {
     "name": "stdout",
     "output_type": "stream",
     "text": [
      "Top 20 bad resources: [('/pub/winvn/readme.txt', 149), ('/pub/winvn/release.txt', 128), ('/shuttle/missions/STS-69/mission-STS-69.html', 114), ('/images/nasa-logo.gif', 64), ('/elv/DELTA/uncons.htm', 42), ('/shuttle/missions/sts-68/ksc-upclose.gif', 33), ('/history/apollo/sa-1/sa-1-patch-small.gif', 30), ('/images/crawlerway-logo.gif', 25), ('/://spacelink.msfc.nasa.gov', 23), ('/images/Nasa-logo.gif', 22), ('/shuttle/resources/orbiters/atlantis.gif', 21), ('/history/apollo/a-001/a-001-patch-small.gif', 20), ('/shuttle/resources/orbiters/discovery.gif', 19), ('/images/lf-logo.gif', 16), ('/robots.txt', 15), ('/shuttle/resources/orbiters/challenger.gif', 15), ('/history/apollo/images/little-joe.jpg', 14), ('/elv/new01.gif>', 13), ('/history/apollo/pad-abort-test-2/pad-abort-test-2-patch-small.gif', 13), ('/history/apollo/pad-abort-test-1/pad-abort-test-1-patch-small.gif', 12)]\n"
     ]
    }
   ],
   "source": [
    "# Exercise 8\n",
    "\n",
    "top_20_endpoints_404 = sqlContext.sql('''\n",
    "    SELECT endpoint, count(*) AS count_endpoints FROM logs WHERE response_code = 404\n",
    "    GROUP BY endpoint\n",
    "    ORDER BY count_endpoints DESC LIMIT 20\n",
    "''').rdd.map(lambda x: (x.endpoint, x.count_endpoints)).collect()\n",
    "\n",
    "print ('Top 20 bad resources: {}'.format(top_20_endpoints_404))"
   ]
  },
  {
   "cell_type": "code",
   "execution_count": 31,
   "metadata": {},
   "outputs": [
    {
     "name": "stdout",
     "output_type": "stream",
     "text": [
      "1 test passed. Correct RDD: [(u'/pub/winvn/readme.txt', 149), (u'/pub/winvn/release.txt', 128), (u'/shuttle/missions/STS-69/mission-STS-69.html', 114), (u'/images/nasa-logo.gif', 64), (u'/elv/DELTA/uncons.htm', 42), (u'/shuttle/missions/sts-68/ksc-upclose.gif', 33), (u'/history/apollo/sa-1/sa-1-patch-small.gif', 30), (u'/images/crawlerway-logo.gif', 25), (u'/://spacelink.msfc.nasa.gov', 23), (u'/images/Nasa-logo.gif', 22), (u'/shuttle/resources/orbiters/atlantis.gif', 21), (u'/history/apollo/a-001/a-001-patch-small.gif', 20), (u'/shuttle/resources/orbiters/discovery.gif', 19), (u'/images/lf-logo.gif', 16), (u'/shuttle/resources/orbiters/challenger.gif', 15), (u'/robots.txt', 15), (u'/history/apollo/images/little-joe.jpg', 14), (u'/history/apollo/pad-abort-test-2/pad-abort-test-2-patch-small.gif', 13), (u'/elv/new01.gif>', 13), (u'/history/apollo/sa-2/sa-2-patch-small.gif', 12)]\n"
     ]
    }
   ],
   "source": [
    "# Test\n",
    "lab2_test_ex_8(top_20_endpoints_404)"
   ]
  },
  {
   "cell_type": "markdown",
   "metadata": {},
   "source": [
    "## Exercise 9\n",
    "\n",
    "Instead of looking at the endpoints that generated 404 errors, let's look at the hosts that generated 404 errors.\n",
    "\n",
    "Create a **`top_11_hosts_404`** dataset with the top 11 hosts, that generated the most 404 errors, using only Spark **transformations**.\n",
    "\n",
    "*Note: **`top_11_hosts_404`** is a key-value dataset, in which key is a host and value is a corresponding number of failed (404) requests.*"
   ]
  },
  {
   "cell_type": "code",
   "execution_count": 56,
   "metadata": {},
   "outputs": [
    {
     "name": "stdout",
     "output_type": "stream",
     "text": [
      "Top 11 hosts that generated errors: [('ts8-1.westwood.ts.ucla.edu', 13), ('www-c4.proxy.aol.com', 13), ('piweba3y.prodigy.com', 11), ('maz3.maz.net', 11), ('scooter.pa-x.dec.com', 8), ('204.62.245.32', 8), ('m38-370-9.mit.edu', 8), ('www-b5.proxy.aol.com', 7), ('dial055.mbnet.mb.ca', 7), ('www-c2.proxy.aol.com', 7), ('www-d4.proxy.aol.com', 7)]\n"
     ]
    }
   ],
   "source": [
    "# Exercise 9\n",
    "\n",
    "top_11_hosts_404 = logs.filter(lambda log: log.response_code == 404) \\\n",
    "                       .map(lambda log: (log.host, 1)) \\\n",
    "                       .reduceByKey(lambda a, b: a + b) \\\n",
    "                       .takeOrdered(11, lambda log: -log[1])\n",
    "            \n",
    "print ('Top 11 hosts that generated errors: {}'.format(top_11_hosts_404))"
   ]
  },
  {
   "cell_type": "code",
   "execution_count": 33,
   "metadata": {},
   "outputs": [
    {
     "name": "stdout",
     "output_type": "stream",
     "text": [
      "1 test passed. Correct RDD: [(u'ts8-1.westwood.ts.ucla.edu', 13), (u'www-c4.proxy.aol.com', 13), (u'maz3.maz.net', 11), (u'piweba3y.prodigy.com', 11), (u'204.62.245.32', 8), (u'm38-370-9.mit.edu', 8), (u'scooter.pa-x.dec.com', 8), (u'www-d4.proxy.aol.com', 7), (u'www-b5.proxy.aol.com', 7), (u'dial055.mbnet.mb.ca', 7), (u'www-c2.proxy.aol.com', 7)]\n"
     ]
    }
   ],
   "source": [
    "# Test\n",
    "lab2_test_ex_9(top_11_hosts_404)"
   ]
  },
  {
   "cell_type": "markdown",
   "metadata": {},
   "source": [
    "## Exercise 10\n",
    "\n",
    "Create a **`top_11_hosts_404`** dataset with the top 11 hosts, that generated the most 404 errors, using only **SQL queries**.\n",
    "\n",
    "*Note: **`top_11_hosts_404`** is a key-value dataset, in which key is a host and value is a corresponding number of failed (404) requests.*"
   ]
  },
  {
   "cell_type": "code",
   "execution_count": 58,
   "metadata": {},
   "outputs": [
    {
     "name": "stdout",
     "output_type": "stream",
     "text": [
      "Top 11 hosts that generated errors: [('ts8-1.westwood.ts.ucla.edu', 13), ('www-c4.proxy.aol.com', 13), ('maz3.maz.net', 11), ('piweba3y.prodigy.com', 11), ('m38-370-9.mit.edu', 8), ('scooter.pa-x.dec.com', 8), ('204.62.245.32', 8), ('www-b5.proxy.aol.com', 7), ('www-d4.proxy.aol.com', 7), ('www-c2.proxy.aol.com', 7), ('dial055.mbnet.mb.ca', 7)]\n"
     ]
    }
   ],
   "source": [
    "# Exercise 10\n",
    "\n",
    "top_11_hosts_404 = sqlContext.sql('''\n",
    "    SELECT host, count(*) AS count_hosts FROM logs WHERE response_code = 404\n",
    "    GROUP BY host\n",
    "    ORDER BY count_hosts DESC LIMIT 11\n",
    "''').rdd.map(lambda x: (x.host, x.count_hosts)).collect()\n",
    "\n",
    "print ('Top 11 hosts that generated errors: {}'.format(top_11_hosts_404))"
   ]
  },
  {
   "cell_type": "code",
   "execution_count": 35,
   "metadata": {},
   "outputs": [
    {
     "name": "stdout",
     "output_type": "stream",
     "text": [
      "1 test passed. Correct RDD: [(u'www-c4.proxy.aol.com', 13), (u'ts8-1.westwood.ts.ucla.edu', 13), (u'maz3.maz.net', 11), (u'piweba3y.prodigy.com', 11), (u'm38-370-9.mit.edu', 8), (u'204.62.245.32', 8), (u'scooter.pa-x.dec.com', 8), (u'www-c2.proxy.aol.com', 7), (u'dial055.mbnet.mb.ca', 7), (u'www-b5.proxy.aol.com', 7), (u'www-d4.proxy.aol.com', 7)]\n"
     ]
    }
   ],
   "source": [
    "# Test\n",
    "lab2_test_ex_10(top_11_hosts_404)"
   ]
  },
  {
   "cell_type": "markdown",
   "metadata": {},
   "source": [
    "<hr>"
   ]
  },
  {
   "cell_type": "markdown",
   "metadata": {},
   "source": [
    "**Congradulations!** Now you know how to use SQL queries as an alternative to transformations and actions. This can significantly speed up your work.\n",
    "\n",
    "We strongly advise you to learn SQL if you are going to be a software developer or data scientist.\n",
    "\n",
    "In the next practical lesson we will examine the `pyspark.mllib` module."
   ]
  },
  {
   "cell_type": "markdown",
   "metadata": {},
   "source": [
    "<center><h3>Presented by <a target=\"_blank\" rel=\"noopener noreferrer nofollow\" href=\"http://datascience-school.com\">datascience-school.com</a></h3></center>"
   ]
  }
 ],
 "metadata": {
  "kernelspec": {
   "display_name": "Python 3",
   "language": "python",
   "name": "python3"
  },
  "language_info": {
   "codemirror_mode": {
    "name": "ipython",
    "version": 3
   },
   "file_extension": ".py",
   "mimetype": "text/x-python",
   "name": "python",
   "nbconvert_exporter": "python",
   "pygments_lexer": "ipython3",
   "version": "3.6.7"
  }
 },
 "nbformat": 4,
 "nbformat_minor": 1
}
